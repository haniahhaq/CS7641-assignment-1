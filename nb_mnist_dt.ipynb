{
 "cells": [
  {
   "cell_type": "code",
   "execution_count": 1,
   "metadata": {},
   "outputs": [],
   "source": [
    "%load_ext autoreload\n",
    "%autoreload 1\n",
    "%aimport helpers, loaders, plotters "
   ]
  },
  {
   "cell_type": "code",
   "execution_count": 2,
   "metadata": {
    "scrolled": true
   },
   "outputs": [],
   "source": [
    "from pprint import pprint\n",
    "from math import ceil, floor\n",
    "from itertools import product\n",
    "\n",
    "import matplotlib.pyplot as plt\n",
    "import numpy as np\n",
    "import pandas as pd\n",
    "import scipy.stats\n",
    "from sklearn.metrics import accuracy_score\n",
    "from sklearn.model_selection import train_test_split, GridSearchCV, RandomizedSearchCV\n",
    "from sklearn.preprocessing import MinMaxScaler, StandardScaler\n",
    "\n",
    "from helpers import balanced_accuracy_scorer, balanced_accuracy, load_best_result, save_search_result, scikit_cv_result_to_df\n",
    "from loaders import load_adult, load_mnist\n",
    "from plotters import plot_means_w_stds, gen_and_plot_learning_curve, plot_learning_curve, gen_and_plot_validation_curve, plot_validation_curve"
   ]
  },
  {
   "cell_type": "markdown",
   "metadata": {},
   "source": [
    "# Load and Preprocess Data"
   ]
  },
  {
   "cell_type": "code",
   "execution_count": 3,
   "metadata": {},
   "outputs": [],
   "source": [
    "dataset = 'MNIST'\n",
    "learner_type = 'DT'\n",
    "loader_func = load_mnist"
   ]
  },
  {
   "cell_type": "code",
   "execution_count": 4,
   "metadata": {},
   "outputs": [
    {
     "name": "stdout",
     "output_type": "stream",
     "text": [
      "Target column encoded with the following classes [ 4.  9.]\n",
      "Dataset shape (13782, 785)\n",
      "Value composition:\n",
      "1    0.504861\n",
      "0    0.495139\n",
      "Name: target, dtype: float64\n"
     ]
    },
    {
     "name": "stderr",
     "output_type": "stream",
     "text": [
      "/home/jovyan/loaders.py:58: SettingWithCopyWarning: \n",
      "A value is trying to be set on a copy of a slice from a DataFrame.\n",
      "Try using .loc[row_indexer,col_indexer] = value instead\n",
      "\n",
      "See the caveats in the documentation: http://pandas.pydata.org/pandas-docs/stable/indexing.html#indexing-view-versus-copy\n",
      "  filtered_df['target'] = le.fit_transform(filtered_df['target'])\n"
     ]
    }
   ],
   "source": [
    "df = loader_func(preprocess=True)"
   ]
  },
  {
   "cell_type": "markdown",
   "metadata": {},
   "source": [
    "### Split data into training and testing"
   ]
  },
  {
   "cell_type": "code",
   "execution_count": 5,
   "metadata": {},
   "outputs": [],
   "source": [
    "X = df[[c for c in df.columns if c != 'target']]\n",
    "y = df['target']\n",
    "X_train, X_test, y_train, y_test = train_test_split(X, y, test_size=0.3, stratify=y, random_state=1)"
   ]
  },
  {
   "cell_type": "markdown",
   "metadata": {},
   "source": [
    "### Skip Scaling for decision trees - it won't make a difference"
   ]
  },
  {
   "cell_type": "markdown",
   "metadata": {},
   "source": [
    "# Decision Tree Model Complexity"
   ]
  },
  {
   "cell_type": "code",
   "execution_count": 7,
   "metadata": {},
   "outputs": [
    {
     "data": {
      "text/plain": [
       "{'class_weight': None,\n",
       " 'criterion': 'gini',\n",
       " 'max_depth': None,\n",
       " 'max_features': None,\n",
       " 'max_leaf_nodes': None,\n",
       " 'min_impurity_decrease': 0.0,\n",
       " 'min_impurity_split': None,\n",
       " 'min_samples_leaf': 1,\n",
       " 'min_samples_split': 2,\n",
       " 'min_weight_fraction_leaf': 0.0,\n",
       " 'presort': False,\n",
       " 'random_state': None,\n",
       " 'splitter': 'best'}"
      ]
     },
     "execution_count": 7,
     "metadata": {},
     "output_type": "execute_result"
    }
   ],
   "source": [
    "from sklearn.tree import DecisionTreeClassifier\n",
    "\n",
    "base_clf = DecisionTreeClassifier()\n",
    "\n",
    "base_clf.get_params()"
   ]
  },
  {
   "cell_type": "code",
   "execution_count": 7,
   "metadata": {},
   "outputs": [],
   "source": [
    "param_grid = {\n",
    "    'criterion': ['gini', 'entropy'],\n",
    "    'max_depth': range(2,21),\n",
    "}"
   ]
  },
  {
   "cell_type": "code",
   "execution_count": 8,
   "metadata": {},
   "outputs": [],
   "source": [
    "grid_search = GridSearchCV(\n",
    "    estimator=base_clf,\n",
    "    param_grid=param_grid,\n",
    "    scoring='accuracy',\n",
    "    return_train_score=True,\n",
    "    cv=4,\n",
    "    verbose=10,\n",
    "    n_jobs=-1,\n",
    "    refit=True,\n",
    ")"
   ]
  },
  {
   "cell_type": "code",
   "execution_count": 9,
   "metadata": {},
   "outputs": [
    {
     "name": "stdout",
     "output_type": "stream",
     "text": [
      "Fitting 4 folds for each of 38 candidates, totalling 152 fits\n",
      "[CV] criterion=gini, max_depth=2 .....................................\n",
      "[CV] criterion=gini, max_depth=2 .....................................\n",
      "[CV] criterion=gini, max_depth=2 .....................................\n",
      "[CV] criterion=gini, max_depth=2 .....................................\n",
      "[CV]  criterion=gini, max_depth=2, score=0.8785743887277249, total=   0.5s\n",
      "[CV] criterion=gini, max_depth=3 .....................................\n",
      "[CV]  criterion=gini, max_depth=2, score=0.9025704809286899, total=   0.5s\n",
      "[CV] criterion=gini, max_depth=3 .....................................\n",
      "[CV]  criterion=gini, max_depth=2, score=0.8958938199917047, total=   0.5s\n",
      "[CV] criterion=gini, max_depth=3 .....................................\n",
      "[CV]  criterion=gini, max_depth=2, score=0.9021153048527581, total=   0.5s\n",
      "[CV] criterion=gini, max_depth=3 .....................................\n",
      "[CV]  criterion=gini, max_depth=3, score=0.9237147595356551, total=   0.7s\n",
      "[CV] criterion=gini, max_depth=4 .....................................\n",
      "[CV]  criterion=gini, max_depth=3, score=0.9079983423124741, total=   0.7s\n",
      "[CV] criterion=gini, max_depth=4 .....................................\n",
      "[CV]  criterion=gini, max_depth=3, score=0.9153878058896724, total=   0.7s\n",
      "[CV] criterion=gini, max_depth=4 .....................................\n",
      "[CV]  criterion=gini, max_depth=3, score=0.9187059311489009, total=   0.7s\n",
      "[CV] criterion=gini, max_depth=4 .....................................\n"
     ]
    },
    {
     "name": "stderr",
     "output_type": "stream",
     "text": [
      "[Parallel(n_jobs=-1)]: Done   5 tasks      | elapsed:    1.3s\n"
     ]
    },
    {
     "name": "stdout",
     "output_type": "stream",
     "text": [
      "[CV]  criterion=gini, max_depth=4, score=0.9100704517198508, total=   0.8s\n",
      "[CV] criterion=gini, max_depth=5 .....................................\n",
      "[CV]  criterion=gini, max_depth=4, score=0.9336650082918739, total=   0.8s\n",
      "[CV] criterion=gini, max_depth=5 .....................................\n",
      "[CV]  criterion=gini, max_depth=4, score=0.9265864786395687, total=   0.8s\n",
      "[CV] criterion=gini, max_depth=5 .....................................\n",
      "[CV]  criterion=gini, max_depth=4, score=0.9340522604728329, total=   0.8s\n",
      "[CV] criterion=gini, max_depth=5 .....................................\n"
     ]
    },
    {
     "name": "stderr",
     "output_type": "stream",
     "text": [
      "[Parallel(n_jobs=-1)]: Done  10 tasks      | elapsed:    2.1s\n"
     ]
    },
    {
     "name": "stdout",
     "output_type": "stream",
     "text": [
      "[CV]  criterion=gini, max_depth=5, score=0.9394944053046, total=   0.9s\n",
      "[CV] criterion=gini, max_depth=6 .....................................\n",
      "[CV]  criterion=gini, max_depth=5, score=0.943200663349917, total=   1.0s\n",
      "[CV] criterion=gini, max_depth=6 .....................................\n",
      "[CV]  criterion=gini, max_depth=5, score=0.9435918705931149, total=   1.0s\n",
      "[CV] criterion=gini, max_depth=6 .....................................\n",
      "[CV]  criterion=gini, max_depth=5, score=0.9448361675653256, total=   0.9s\n",
      "[CV] criterion=gini, max_depth=6 .....................................\n",
      "[CV]  criterion=gini, max_depth=6, score=0.9444674678823042, total=   1.1s\n",
      "[CV] criterion=gini, max_depth=7 .....................................\n",
      "[CV]  criterion=gini, max_depth=6, score=0.9461028192371476, total=   1.1s\n",
      "[CV]  criterion=gini, max_depth=6, score=0.9543757776856077, total=   1.0s\n",
      "[CV] criterion=gini, max_depth=7 .....................................\n",
      "[CV] criterion=gini, max_depth=7 .....................................\n",
      "[CV]  criterion=gini, max_depth=6, score=0.941518042306097, total=   1.1s\n"
     ]
    },
    {
     "name": "stderr",
     "output_type": "stream",
     "text": [
      "[Parallel(n_jobs=-1)]: Done  17 tasks      | elapsed:    4.1s\n"
     ]
    },
    {
     "name": "stdout",
     "output_type": "stream",
     "text": [
      "[CV] criterion=gini, max_depth=7 .....................................\n",
      "[CV]  criterion=gini, max_depth=7, score=0.9452963116452548, total=   1.2s\n",
      "[CV] criterion=gini, max_depth=8 .....................................\n",
      "[CV]  criterion=gini, max_depth=7, score=0.9514925373134329, total=   1.3s\n",
      "[CV]  criterion=gini, max_depth=7, score=0.959767731231854, total=   1.3s\n",
      "[CV] criterion=gini, max_depth=8 .....................................\n",
      "[CV]  criterion=gini, max_depth=7, score=0.944421401907922, total=   1.3s\n",
      "[CV] criterion=gini, max_depth=8 .....................................\n",
      "[CV] criterion=gini, max_depth=8 .....................................\n"
     ]
    },
    {
     "name": "stderr",
     "output_type": "stream",
     "text": [
      "[Parallel(n_jobs=-1)]: Done  24 tasks      | elapsed:    5.6s\n"
     ]
    },
    {
     "name": "stdout",
     "output_type": "stream",
     "text": [
      "[CV]  criterion=gini, max_depth=8, score=0.9461251554082055, total=   1.3s\n",
      "[CV] criterion=gini, max_depth=9 .....................................\n",
      "[CV]  criterion=gini, max_depth=8, score=0.9469099958523435, total=   1.3s\n",
      "[CV] criterion=gini, max_depth=9 .....................................\n",
      "[CV]  criterion=gini, max_depth=8, score=0.956882255389718, total=   1.4s\n",
      "[CV]  criterion=gini, max_depth=8, score=0.9581086686022398, total=   1.4s\n",
      "[CV] criterion=gini, max_depth=9 .....................................\n",
      "[CV] criterion=gini, max_depth=9 .....................................\n",
      "[CV]  criterion=gini, max_depth=9, score=0.9510982179859097, total=   1.5s\n",
      "[CV] criterion=gini, max_depth=10 ....................................\n",
      "[CV]  criterion=gini, max_depth=9, score=0.9639303482587065, total=   1.5s\n",
      "[CV] criterion=gini, max_depth=10 ....................................\n",
      "[CV]  criterion=gini, max_depth=9, score=0.9614267938614682, total=   1.5s\n",
      "[CV] criterion=gini, max_depth=10 ....................................\n",
      "[CV]  criterion=gini, max_depth=9, score=0.947324761509747, total=   1.5s\n",
      "[CV] criterion=gini, max_depth=10 ....................................\n",
      "[CV]  criterion=gini, max_depth=10, score=0.9523414836303357, total=   1.6s\n",
      "[CV] criterion=gini, max_depth=11 ....................................\n"
     ]
    },
    {
     "name": "stderr",
     "output_type": "stream",
     "text": [
      "[Parallel(n_jobs=-1)]: Done  33 tasks      | elapsed:    9.8s\n"
     ]
    },
    {
     "name": "stdout",
     "output_type": "stream",
     "text": [
      "[CV]  criterion=gini, max_depth=10, score=0.9589552238805971, total=   1.6s\n",
      "[CV] criterion=gini, max_depth=11 ....................................\n",
      "[CV]  criterion=gini, max_depth=10, score=0.9643301534632932, total=   1.6s\n",
      "[CV] criterion=gini, max_depth=11 ....................................\n",
      "[CV]  criterion=gini, max_depth=10, score=0.9523019493985898, total=   1.7s\n",
      "[CV] criterion=gini, max_depth=11 ....................................\n",
      "[CV]  criterion=gini, max_depth=11, score=0.9498549523414836, total=   1.7s\n",
      "[CV] criterion=gini, max_depth=12 ....................................\n",
      "[CV]  criterion=gini, max_depth=11, score=0.9556384742951907, total=   1.7s\n",
      "[CV] criterion=gini, max_depth=12 ....................................\n",
      "[CV]  criterion=gini, max_depth=11, score=0.9531314807133969, total=   1.7s\n",
      "[CV] criterion=gini, max_depth=12 ....................................\n",
      "[CV]  criterion=gini, max_depth=11, score=0.9635006221484861, total=   1.7s\n",
      "[CV] criterion=gini, max_depth=12 ....................................\n",
      "[CV]  criterion=gini, max_depth=12, score=0.9494405304600083, total=   1.8s\n",
      "[CV] criterion=gini, max_depth=13 ....................................\n",
      "[CV]  criterion=gini, max_depth=12, score=0.9581260364842454, total=   1.8s\n",
      "[CV] criterion=gini, max_depth=13 ....................................\n",
      "[CV]  criterion=gini, max_depth=12, score=0.9510576524263791, total=   1.8s\n",
      "[CV] criterion=gini, max_depth=13 ....................................\n",
      "[CV]  criterion=gini, max_depth=12, score=0.9668187474077147, total=   1.8s\n",
      "[CV] criterion=gini, max_depth=13 ....................................\n"
     ]
    },
    {
     "name": "stderr",
     "output_type": "stream",
     "text": [
      "[Parallel(n_jobs=-1)]: Done  42 tasks      | elapsed:   13.7s\n"
     ]
    },
    {
     "name": "stdout",
     "output_type": "stream",
     "text": [
      "[CV]  criterion=gini, max_depth=13, score=0.950269374222959, total=   1.9s\n",
      "[CV] criterion=gini, max_depth=14 ....................................\n",
      "[CV]  criterion=gini, max_depth=13, score=0.9585406301824212, total=   2.0s\n",
      "[CV] criterion=gini, max_depth=14 ....................................\n",
      "[CV]  criterion=gini, max_depth=13, score=0.950228121111572, total=   1.9s\n",
      "[CV] criterion=gini, max_depth=14 ....................................\n",
      "[CV]  criterion=gini, max_depth=13, score=0.9630858564910826, total=   2.0s\n",
      "[CV] criterion=gini, max_depth=14 ....................................\n",
      "[CV]  criterion=gini, max_depth=14, score=0.9481972648155823, total=   2.1s\n",
      "[CV] criterion=gini, max_depth=15 ....................................\n",
      "[CV]  criterion=gini, max_depth=14, score=0.9597844112769486, total=   2.1s\n",
      "[CV]  criterion=gini, max_depth=14, score=0.9464952301949399, total=   2.0s\n",
      "[CV] criterion=gini, max_depth=15 ....................................\n",
      "[CV] criterion=gini, max_depth=15 ....................................\n",
      "[CV]  criterion=gini, max_depth=14, score=0.9639153878058897, total=   2.0s\n",
      "[CV] criterion=gini, max_depth=15 ....................................\n",
      "[CV]  criterion=gini, max_depth=15, score=0.9510982179859097, total=   2.1s\n",
      "[CV] criterion=gini, max_depth=16 ....................................\n"
     ]
    },
    {
     "name": "stderr",
     "output_type": "stream",
     "text": [
      "[Parallel(n_jobs=-1)]: Done  53 tasks      | elapsed:   19.6s\n"
     ]
    },
    {
     "name": "stdout",
     "output_type": "stream",
     "text": [
      "[CV]  criterion=gini, max_depth=15, score=0.9601990049751243, total=   2.1s\n",
      "[CV] criterion=gini, max_depth=16 ....................................\n",
      "[CV]  criterion=gini, max_depth=15, score=0.962671090833679, total=   2.1s\n",
      "[CV]  criterion=gini, max_depth=15, score=0.9481542928245541, total=   2.2s\n",
      "[CV] criterion=gini, max_depth=16 ....................................\n",
      "[CV] criterion=gini, max_depth=16 ....................................\n",
      "[CV]  criterion=gini, max_depth=16, score=0.9481972648155823, total=   2.3s\n",
      "[CV] criterion=gini, max_depth=17 ....................................\n",
      "[CV]  criterion=gini, max_depth=16, score=0.9606135986733002, total=   2.3s\n",
      "[CV] criterion=gini, max_depth=17 ....................................\n",
      "[CV]  criterion=gini, max_depth=16, score=0.9406885109912899, total=   2.2s\n",
      "[CV] criterion=gini, max_depth=17 ....................................\n",
      "[CV]  criterion=gini, max_depth=16, score=0.9635006221484861, total=   2.3s\n",
      "[CV] criterion=gini, max_depth=17 ....................................\n",
      "[CV]  criterion=gini, max_depth=17, score=0.9506837961044343, total=   2.4s\n",
      "[CV] criterion=gini, max_depth=18 ....................................\n",
      "[CV]  criterion=gini, max_depth=17, score=0.9448361675653256, total=   2.3s\n",
      "[CV] criterion=gini, max_depth=18 ....................................\n",
      "[CV]  criterion=gini, max_depth=17, score=0.956882255389718, total=   2.4s\n",
      "[CV] criterion=gini, max_depth=18 ....................................\n",
      "[CV]  criterion=gini, max_depth=17, score=0.9589381999170469, total=   2.4s\n",
      "[CV] criterion=gini, max_depth=18 ....................................\n"
     ]
    },
    {
     "name": "stderr",
     "output_type": "stream",
     "text": [
      "[Parallel(n_jobs=-1)]: Done  64 tasks      | elapsed:   24.8s\n"
     ]
    },
    {
     "name": "stdout",
     "output_type": "stream",
     "text": [
      "[CV]  criterion=gini, max_depth=18, score=0.9469539991711562, total=   2.5s\n",
      "[CV] criterion=gini, max_depth=19 ....................................\n",
      "[CV]  criterion=gini, max_depth=18, score=0.9440066362505185, total=   2.4s\n",
      "[CV] criterion=gini, max_depth=19 ....................................\n",
      "[CV]  criterion=gini, max_depth=18, score=0.9572968490878938, total=   2.5s\n",
      "[CV] criterion=gini, max_depth=19 ....................................\n",
      "[CV]  criterion=gini, max_depth=18, score=0.9614267938614682, total=   2.5s\n",
      "[CV] criterion=gini, max_depth=19 ....................................\n",
      "[CV]  criterion=gini, max_depth=19, score=0.9498549523414836, total=   2.5s\n",
      "[CV] criterion=gini, max_depth=20 ....................................\n",
      "[CV]  criterion=gini, max_depth=19, score=0.941518042306097, total=   2.4s\n",
      "[CV] criterion=gini, max_depth=20 ....................................\n",
      "[CV]  criterion=gini, max_depth=19, score=0.9535655058043118, total=   2.5s\n",
      "[CV] criterion=gini, max_depth=20 ....................................\n",
      "[CV]  criterion=gini, max_depth=19, score=0.9630858564910826, total=   2.5s\n",
      "[CV] criterion=gini, max_depth=20 ....................................\n",
      "[CV]  criterion=gini, max_depth=20, score=0.949026108578533, total=   2.6s\n",
      "[CV] criterion=entropy, max_depth=2 ..................................\n",
      "[CV]  criterion=gini, max_depth=20, score=0.9440066362505185, total=   2.4s\n",
      "[CV] criterion=entropy, max_depth=2 ..................................\n",
      "[CV]  criterion=gini, max_depth=20, score=0.9577114427860697, total=   2.6s\n",
      "[CV] criterion=entropy, max_depth=2 ..................................\n",
      "[CV]  criterion=entropy, max_depth=2, score=0.8785743887277249, total=   0.4s\n",
      "[CV] criterion=entropy, max_depth=2 ..................................\n",
      "[CV]  criterion=entropy, max_depth=2, score=0.8951077943615257, total=   0.4s\n",
      "[CV] criterion=entropy, max_depth=3 ..................................\n",
      "[CV]  criterion=gini, max_depth=20, score=0.9610120282040647, total=   2.7s\n",
      "[CV] criterion=entropy, max_depth=3 ..................................\n",
      "[CV]  criterion=entropy, max_depth=2, score=0.882206553297387, total=   0.5s\n",
      "[CV] criterion=entropy, max_depth=3 ..................................\n"
     ]
    },
    {
     "name": "stderr",
     "output_type": "stream",
     "text": [
      "[Parallel(n_jobs=-1)]: Done  77 tasks      | elapsed:   32.6s\n"
     ]
    },
    {
     "name": "stdout",
     "output_type": "stream",
     "text": [
      "[CV]  criterion=entropy, max_depth=2, score=0.8929904603898797, total=   0.4s\n",
      "[CV] criterion=entropy, max_depth=3 ..................................\n",
      "[CV]  criterion=entropy, max_depth=3, score=0.9063406547865728, total=   0.6s\n",
      "[CV] criterion=entropy, max_depth=4 ..................................\n",
      "[CV]  criterion=entropy, max_depth=3, score=0.9212271973466003, total=   0.6s\n",
      "[CV] criterion=entropy, max_depth=4 ..................................\n",
      "[CV]  criterion=entropy, max_depth=3, score=0.9124844462878474, total=   0.6s\n",
      "[CV] criterion=entropy, max_depth=4 ..................................\n",
      "[CV]  criterion=entropy, max_depth=3, score=0.9124844462878474, total=   0.6s\n",
      "[CV] criterion=entropy, max_depth=4 ..................................\n",
      "[CV]  criterion=entropy, max_depth=4, score=0.9096560298383755, total=   0.8s\n",
      "[CV] criterion=entropy, max_depth=5 ..................................\n",
      "[CV]  criterion=entropy, max_depth=4, score=0.9336650082918739, total=   0.8s\n",
      "[CV] criterion=entropy, max_depth=5 ..................................\n",
      "[CV]  criterion=entropy, max_depth=4, score=0.9286603069265865, total=   0.9s\n",
      "[CV] criterion=entropy, max_depth=5 ..................................\n",
      "[CV]  criterion=entropy, max_depth=4, score=0.9253421816673579, total=   0.8s\n",
      "[CV] criterion=entropy, max_depth=5 ..................................\n",
      "[CV]  criterion=entropy, max_depth=5, score=0.9386655615416494, total=   1.0s\n",
      "[CV] criterion=entropy, max_depth=6 ..................................\n",
      "[CV]  criterion=entropy, max_depth=5, score=0.9361525704809287, total=   1.0s\n",
      "[CV] criterion=entropy, max_depth=6 ..................................\n",
      "[CV]  criterion=entropy, max_depth=5, score=0.9431771049357113, total=   1.0s\n"
     ]
    },
    {
     "name": "stderr",
     "output_type": "stream",
     "text": [
      "[Parallel(n_jobs=-1)]: Done  90 tasks      | elapsed:   35.2s\n"
     ]
    },
    {
     "name": "stdout",
     "output_type": "stream",
     "text": [
      "[CV] criterion=entropy, max_depth=6 ..................................\n",
      "[CV]  criterion=entropy, max_depth=5, score=0.9452509332227291, total=   1.0s\n",
      "[CV] criterion=entropy, max_depth=6 ..................................\n",
      "[CV]  criterion=entropy, max_depth=6, score=0.9473684210526315, total=   1.2s\n",
      "[CV] criterion=entropy, max_depth=7 ..................................\n",
      "[CV]  criterion=entropy, max_depth=6, score=0.9535655058043118, total=   1.2s\n",
      "[CV] criterion=entropy, max_depth=7 ..................................\n",
      "[CV]  criterion=entropy, max_depth=6, score=0.9427623392783078, total=   1.2s\n",
      "[CV]  criterion=entropy, max_depth=6, score=0.9556200746578183, total=   1.2s\n",
      "[CV] criterion=entropy, max_depth=7 ..................................\n",
      "[CV] criterion=entropy, max_depth=7 ..................................\n",
      "[CV]  criterion=entropy, max_depth=7, score=0.9498549523414836, total=   1.2s\n",
      "[CV] criterion=entropy, max_depth=8 ..................................\n",
      "[CV]  criterion=entropy, max_depth=7, score=0.9523217247097844, total=   1.2s\n",
      "[CV] criterion=entropy, max_depth=8 ..................................\n",
      "[CV]  criterion=entropy, max_depth=7, score=0.9523019493985898, total=   1.2s\n",
      "[CV] criterion=entropy, max_depth=8 ..................................\n",
      "[CV]  criterion=entropy, max_depth=7, score=0.9572791372874326, total=   1.2s\n",
      "[CV] criterion=entropy, max_depth=8 ..................................\n",
      "[CV]  criterion=entropy, max_depth=8, score=0.949026108578533, total=   1.4s\n",
      "[CV] criterion=entropy, max_depth=9 ..................................\n",
      "[CV]  criterion=entropy, max_depth=8, score=0.9556384742951907, total=   1.3s\n",
      "[CV] criterion=entropy, max_depth=9 ..................................\n",
      "[CV]  criterion=entropy, max_depth=8, score=0.9572791372874326, total=   1.3s\n",
      "[CV] criterion=entropy, max_depth=9 ..................................\n",
      "[CV]  criterion=entropy, max_depth=8, score=0.9589381999170469, total=   1.3s\n",
      "[CV] criterion=entropy, max_depth=9 ..................................\n",
      "[CV]  criterion=entropy, max_depth=9, score=0.9486116866970576, total=   1.4s\n",
      "[CV] criterion=entropy, max_depth=10 .................................\n",
      "[CV]  criterion=entropy, max_depth=9, score=0.9548092868988391, total=   1.4s\n",
      "[CV] criterion=entropy, max_depth=10 .................................\n",
      "[CV]  criterion=entropy, max_depth=9, score=0.9585234342596433, total=   1.4s\n"
     ]
    },
    {
     "name": "stderr",
     "output_type": "stream",
     "text": [
      "[Parallel(n_jobs=-1)]: Done 105 tasks      | elapsed:   40.4s\n"
     ]
    },
    {
     "name": "stdout",
     "output_type": "stream",
     "text": [
      "[CV] criterion=entropy, max_depth=10 .................................\n",
      "[CV]  criterion=entropy, max_depth=9, score=0.9593529655744505, total=   1.4s\n",
      "[CV] criterion=entropy, max_depth=10 .................................\n",
      "[CV]  criterion=entropy, max_depth=10, score=0.9544135930377123, total=   1.4s\n",
      "[CV] criterion=entropy, max_depth=11 .................................\n",
      "[CV]  criterion=entropy, max_depth=10, score=0.9527363184079602, total=   1.4s\n",
      "[CV] criterion=entropy, max_depth=11 .................................\n",
      "[CV]  criterion=entropy, max_depth=10, score=0.9572791372874326, total=   1.4s\n",
      "[CV] criterion=entropy, max_depth=11 .................................\n",
      "[CV]  criterion=entropy, max_depth=10, score=0.9593529655744505, total=   1.4s\n",
      "[CV] criterion=entropy, max_depth=11 .................................\n",
      "[CV]  criterion=entropy, max_depth=11, score=0.9506837961044343, total=   1.5s\n",
      "[CV] criterion=entropy, max_depth=12 .................................\n",
      "[CV]  criterion=entropy, max_depth=11, score=0.951077943615257, total=   1.5s\n",
      "[CV] criterion=entropy, max_depth=12 .................................\n",
      "[CV]  criterion=entropy, max_depth=11, score=0.956864371630029, total=   1.4s\n",
      "[CV] criterion=entropy, max_depth=12 .................................\n",
      "[CV]  criterion=entropy, max_depth=11, score=0.9643301534632932, total=   1.5s\n",
      "[CV] criterion=entropy, max_depth=12 .................................\n",
      "[CV]  criterion=entropy, max_depth=12, score=0.9498549523414836, total=   1.4s\n",
      "[CV] criterion=entropy, max_depth=13 .................................\n",
      "[CV]  criterion=entropy, max_depth=12, score=0.9552053090004148, total=   1.5s\n",
      "[CV] criterion=entropy, max_depth=13 .................................\n",
      "[CV]  criterion=entropy, max_depth=12, score=0.9502487562189055, total=   1.5s\n",
      "[CV] criterion=entropy, max_depth=13 .................................\n",
      "[CV]  criterion=entropy, max_depth=12, score=0.9618415595188718, total=   1.5s\n",
      "[CV] criterion=entropy, max_depth=13 .................................\n"
     ]
    },
    {
     "name": "stderr",
     "output_type": "stream",
     "text": [
      "[Parallel(n_jobs=-1)]: Done 120 tasks      | elapsed:   45.2s\n"
     ]
    },
    {
     "name": "stdout",
     "output_type": "stream",
     "text": [
      "[CV]  criterion=entropy, max_depth=13, score=0.9506837961044343, total=   1.4s\n",
      "[CV] criterion=entropy, max_depth=14 .................................\n",
      "[CV]  criterion=entropy, max_depth=13, score=0.9543757776856077, total=   1.5s\n",
      "[CV] criterion=entropy, max_depth=14 .................................\n",
      "[CV]  criterion=entropy, max_depth=13, score=0.9535655058043118, total=   1.5s\n",
      "[CV] criterion=entropy, max_depth=14 .................................\n",
      "[CV]  criterion=entropy, max_depth=13, score=0.9610120282040647, total=   1.6s\n",
      "[CV] criterion=entropy, max_depth=14 .................................\n",
      "[CV]  criterion=entropy, max_depth=14, score=0.952755905511811, total=   1.4s\n",
      "[CV] criterion=entropy, max_depth=15 .................................\n",
      "[CV]  criterion=entropy, max_depth=14, score=0.9564496059726255, total=   1.4s\n",
      "[CV] criterion=entropy, max_depth=15 .................................\n",
      "[CV]  criterion=entropy, max_depth=14, score=0.9552238805970149, total=   1.5s\n",
      "[CV] criterion=entropy, max_depth=15 .................................\n",
      "[CV]  criterion=entropy, max_depth=14, score=0.9610120282040647, total=   1.5s\n",
      "[CV] criterion=entropy, max_depth=15 .................................\n",
      "[CV]  criterion=entropy, max_depth=15, score=0.9510982179859097, total=   1.4s\n",
      "[CV] criterion=entropy, max_depth=16 .................................\n",
      "[CV]  criterion=entropy, max_depth=15, score=0.9543946932006634, total=   1.5s\n",
      "[CV]  criterion=entropy, max_depth=15, score=0.9547905433430112, total=   1.4s\n",
      "[CV] criterion=entropy, max_depth=16 .................................\n",
      "[CV] criterion=entropy, max_depth=16 .................................\n",
      "[CV]  criterion=entropy, max_depth=15, score=0.9610120282040647, total=   1.5s\n",
      "[CV] criterion=entropy, max_depth=16 .................................\n",
      "[CV]  criterion=entropy, max_depth=16, score=0.951512639867385, total=   1.4s\n",
      "[CV] criterion=entropy, max_depth=17 .................................\n",
      "[CV]  criterion=entropy, max_depth=16, score=0.9564496059726255, total=   1.5s\n",
      "[CV]  criterion=entropy, max_depth=16, score=0.9564676616915423, total=   1.5s\n",
      "[CV] criterion=entropy, max_depth=17 .................................\n",
      "[CV] criterion=entropy, max_depth=17 .................................\n",
      "[CV]  criterion=entropy, max_depth=16, score=0.9618415595188718, total=   1.5s\n",
      "[CV] criterion=entropy, max_depth=17 .................................\n",
      "[CV]  criterion=entropy, max_depth=17, score=0.949026108578533, total=   1.4s\n",
      "[CV] criterion=entropy, max_depth=18 .................................\n"
     ]
    },
    {
     "name": "stderr",
     "output_type": "stream",
     "text": [
      "[Parallel(n_jobs=-1)]: Done 137 tasks      | elapsed:   51.9s\n"
     ]
    },
    {
     "name": "stdout",
     "output_type": "stream",
     "text": [
      "[CV]  criterion=entropy, max_depth=17, score=0.956864371630029, total=   1.5s\n",
      "[CV] criterion=entropy, max_depth=18 .................................\n",
      "[CV]  criterion=entropy, max_depth=17, score=0.9564676616915423, total=   1.6s\n",
      "[CV] criterion=entropy, max_depth=18 .................................\n",
      "[CV]  criterion=entropy, max_depth=17, score=0.9618415595188718, total=   1.5s\n",
      "[CV] criterion=entropy, max_depth=18 .................................\n",
      "[CV]  criterion=entropy, max_depth=18, score=0.949026108578533, total=   1.5s\n",
      "[CV] criterion=entropy, max_depth=19 .................................\n",
      "[CV]  criterion=entropy, max_depth=18, score=0.9502487562189055, total=   1.5s\n",
      "[CV] criterion=entropy, max_depth=19 .................................\n",
      "[CV]  criterion=entropy, max_depth=18, score=0.956864371630029, total=   1.5s\n",
      "[CV] criterion=entropy, max_depth=19 .................................\n",
      "[CV]  criterion=entropy, max_depth=18, score=0.9630858564910826, total=   1.5s\n",
      "[CV] criterion=entropy, max_depth=19 .................................\n",
      "[CV]  criterion=entropy, max_depth=19, score=0.9506837961044343, total=   1.4s\n",
      "[CV] criterion=entropy, max_depth=20 .................................\n",
      "[CV]  criterion=entropy, max_depth=19, score=0.9498341625207297, total=   1.5s\n",
      "[CV] criterion=entropy, max_depth=20 .................................\n",
      "[CV]  criterion=entropy, max_depth=19, score=0.9543757776856077, total=   1.5s\n",
      "[CV] criterion=entropy, max_depth=20 .................................\n",
      "[CV]  criterion=entropy, max_depth=19, score=0.9614267938614682, total=   1.5s\n",
      "[CV] criterion=entropy, max_depth=20 .................................\n",
      "[CV]  criterion=entropy, max_depth=20, score=0.951512639867385, total=   1.5s\n",
      "[CV]  criterion=entropy, max_depth=20, score=0.9498341625207297, total=   1.5s\n",
      "[CV]  criterion=entropy, max_depth=20, score=0.9581086686022398, total=   1.4s\n",
      "[CV]  criterion=entropy, max_depth=20, score=0.9593529655744505, total=   1.4s\n"
     ]
    },
    {
     "name": "stderr",
     "output_type": "stream",
     "text": [
      "[Parallel(n_jobs=-1)]: Done 152 out of 152 | elapsed:   57.4s finished\n"
     ]
    },
    {
     "data": {
      "text/plain": [
       "GridSearchCV(cv=4, error_score='raise',\n",
       "       estimator=DecisionTreeClassifier(class_weight=None, criterion='gini', max_depth=None,\n",
       "            max_features=None, max_leaf_nodes=None,\n",
       "            min_impurity_decrease=0.0, min_impurity_split=None,\n",
       "            min_samples_leaf=1, min_samples_split=2,\n",
       "            min_weight_fraction_leaf=0.0, presort=False, random_state=None,\n",
       "            splitter='best'),\n",
       "       fit_params=None, iid=True, n_jobs=-1,\n",
       "       param_grid={'criterion': ['gini', 'entropy'], 'max_depth': range(2, 21)},\n",
       "       pre_dispatch='2*n_jobs', refit=True, return_train_score=True,\n",
       "       scoring='accuracy', verbose=10)"
      ]
     },
     "execution_count": 9,
     "metadata": {},
     "output_type": "execute_result"
    }
   ],
   "source": [
    "grid_search.fit(X_train, y_train)"
   ]
  },
  {
   "cell_type": "code",
   "execution_count": 10,
   "metadata": {},
   "outputs": [],
   "source": [
    "save_search_result(grid_search, dataset, learner_type)"
   ]
  },
  {
   "cell_type": "code",
   "execution_count": 11,
   "metadata": {},
   "outputs": [
    {
     "name": "stdout",
     "output_type": "stream",
     "text": [
      "Found the following results files for this dataset/algorithm: ['0.957_MNIST_DT_2018-09-14_18:13-04:00.pkl', '0.957_MNIST_DT_2018-09-19_22-32-04-00.pkl']\n",
      "Returning results for the highest-scoring-file: 0.957_MNIST_DT_2018-09-19_22-32-04-00.pkl\n"
     ]
    }
   ],
   "source": [
    "res = load_best_result(dataset, learner_type)"
   ]
  },
  {
   "cell_type": "markdown",
   "metadata": {},
   "source": [
    "### Analysis"
   ]
  },
  {
   "cell_type": "markdown",
   "metadata": {},
   "source": [
    "#### Top 10 scores"
   ]
  },
  {
   "cell_type": "code",
   "execution_count": 12,
   "metadata": {},
   "outputs": [
    {
     "data": {
      "text/html": [
       "<div>\n",
       "<style scoped>\n",
       "    .dataframe tbody tr th:only-of-type {\n",
       "        vertical-align: middle;\n",
       "    }\n",
       "\n",
       "    .dataframe tbody tr th {\n",
       "        vertical-align: top;\n",
       "    }\n",
       "\n",
       "    .dataframe thead th {\n",
       "        text-align: right;\n",
       "    }\n",
       "</style>\n",
       "<table border=\"1\" class=\"dataframe\">\n",
       "  <thead>\n",
       "    <tr style=\"text-align: right;\">\n",
       "      <th></th>\n",
       "      <th></th>\n",
       "      <th>mean_fit_time</th>\n",
       "      <th>std_fit_time</th>\n",
       "      <th>mean_score_time</th>\n",
       "      <th>std_score_time</th>\n",
       "      <th>mean_test_score</th>\n",
       "      <th>std_test_score</th>\n",
       "      <th>rank_test_score</th>\n",
       "      <th>mean_train_score</th>\n",
       "      <th>std_train_score</th>\n",
       "    </tr>\n",
       "    <tr>\n",
       "      <th>criterion</th>\n",
       "      <th>max_depth</th>\n",
       "      <th></th>\n",
       "      <th></th>\n",
       "      <th></th>\n",
       "      <th></th>\n",
       "      <th></th>\n",
       "      <th></th>\n",
       "      <th></th>\n",
       "      <th></th>\n",
       "      <th></th>\n",
       "    </tr>\n",
       "  </thead>\n",
       "  <tbody>\n",
       "    <tr>\n",
       "      <th>gini</th>\n",
       "      <th>10</th>\n",
       "      <td>1.602003</td>\n",
       "      <td>0.030886</td>\n",
       "      <td>0.004007</td>\n",
       "      <td>0.000583</td>\n",
       "      <td>0.956981</td>\n",
       "      <td>0.005033</td>\n",
       "      <td>1</td>\n",
       "      <td>0.990152</td>\n",
       "      <td>0.000383</td>\n",
       "    </tr>\n",
       "    <tr>\n",
       "      <th>entropy</th>\n",
       "      <th>16</th>\n",
       "      <td>1.476885</td>\n",
       "      <td>0.050235</td>\n",
       "      <td>0.003013</td>\n",
       "      <td>0.000094</td>\n",
       "      <td>0.956567</td>\n",
       "      <td>0.003654</td>\n",
       "      <td>2</td>\n",
       "      <td>1.000000</td>\n",
       "      <td>0.000000</td>\n",
       "    </tr>\n",
       "    <tr>\n",
       "      <th>gini</th>\n",
       "      <th>12</th>\n",
       "      <td>1.804040</td>\n",
       "      <td>0.015531</td>\n",
       "      <td>0.004179</td>\n",
       "      <td>0.000933</td>\n",
       "      <td>0.956359</td>\n",
       "      <td>0.006864</td>\n",
       "      <td>3</td>\n",
       "      <td>0.991707</td>\n",
       "      <td>0.000603</td>\n",
       "    </tr>\n",
       "    <tr>\n",
       "      <th rowspan=\"2\" valign=\"top\">entropy</th>\n",
       "      <th>14</th>\n",
       "      <td>1.430550</td>\n",
       "      <td>0.036470</td>\n",
       "      <td>0.003339</td>\n",
       "      <td>0.000369</td>\n",
       "      <td>0.956359</td>\n",
       "      <td>0.002997</td>\n",
       "      <td>3</td>\n",
       "      <td>0.999620</td>\n",
       "      <td>0.000151</td>\n",
       "    </tr>\n",
       "    <tr>\n",
       "      <th>17</th>\n",
       "      <td>1.497214</td>\n",
       "      <td>0.064379</td>\n",
       "      <td>0.003485</td>\n",
       "      <td>0.000285</td>\n",
       "      <td>0.956049</td>\n",
       "      <td>0.004575</td>\n",
       "      <td>5</td>\n",
       "      <td>1.000000</td>\n",
       "      <td>0.000000</td>\n",
       "    </tr>\n",
       "    <tr>\n",
       "      <th>gini</th>\n",
       "      <th>9</th>\n",
       "      <td>1.495297</td>\n",
       "      <td>0.020679</td>\n",
       "      <td>0.003577</td>\n",
       "      <td>0.000298</td>\n",
       "      <td>0.955945</td>\n",
       "      <td>0.006921</td>\n",
       "      <td>6</td>\n",
       "      <td>0.987388</td>\n",
       "      <td>0.000394</td>\n",
       "    </tr>\n",
       "    <tr>\n",
       "      <th rowspan=\"2\" valign=\"top\">entropy</th>\n",
       "      <th>10</th>\n",
       "      <td>1.430965</td>\n",
       "      <td>0.013331</td>\n",
       "      <td>0.003371</td>\n",
       "      <td>0.000403</td>\n",
       "      <td>0.955945</td>\n",
       "      <td>0.002551</td>\n",
       "      <td>6</td>\n",
       "      <td>0.994990</td>\n",
       "      <td>0.001338</td>\n",
       "    </tr>\n",
       "    <tr>\n",
       "      <th>11</th>\n",
       "      <td>1.475143</td>\n",
       "      <td>0.027863</td>\n",
       "      <td>0.003242</td>\n",
       "      <td>0.000336</td>\n",
       "      <td>0.955738</td>\n",
       "      <td>0.005531</td>\n",
       "      <td>8</td>\n",
       "      <td>0.996648</td>\n",
       "      <td>0.001022</td>\n",
       "    </tr>\n",
       "    <tr>\n",
       "      <th rowspan=\"2\" valign=\"top\">gini</th>\n",
       "      <th>11</th>\n",
       "      <td>1.720900</td>\n",
       "      <td>0.023212</td>\n",
       "      <td>0.003713</td>\n",
       "      <td>0.000675</td>\n",
       "      <td>0.955530</td>\n",
       "      <td>0.005037</td>\n",
       "      <td>9</td>\n",
       "      <td>0.991223</td>\n",
       "      <td>0.000464</td>\n",
       "    </tr>\n",
       "    <tr>\n",
       "      <th>13</th>\n",
       "      <td>1.949760</td>\n",
       "      <td>0.036151</td>\n",
       "      <td>0.003946</td>\n",
       "      <td>0.000486</td>\n",
       "      <td>0.955530</td>\n",
       "      <td>0.005521</td>\n",
       "      <td>9</td>\n",
       "      <td>0.992156</td>\n",
       "      <td>0.000760</td>\n",
       "    </tr>\n",
       "  </tbody>\n",
       "</table>\n",
       "</div>"
      ],
      "text/plain": [
       "                     mean_fit_time  std_fit_time  mean_score_time  \\\n",
       "criterion max_depth                                                 \n",
       "gini      10              1.602003      0.030886         0.004007   \n",
       "entropy   16              1.476885      0.050235         0.003013   \n",
       "gini      12              1.804040      0.015531         0.004179   \n",
       "entropy   14              1.430550      0.036470         0.003339   \n",
       "          17              1.497214      0.064379         0.003485   \n",
       "gini      9               1.495297      0.020679         0.003577   \n",
       "entropy   10              1.430965      0.013331         0.003371   \n",
       "          11              1.475143      0.027863         0.003242   \n",
       "gini      11              1.720900      0.023212         0.003713   \n",
       "          13              1.949760      0.036151         0.003946   \n",
       "\n",
       "                     std_score_time  mean_test_score  std_test_score  \\\n",
       "criterion max_depth                                                    \n",
       "gini      10               0.000583         0.956981        0.005033   \n",
       "entropy   16               0.000094         0.956567        0.003654   \n",
       "gini      12               0.000933         0.956359        0.006864   \n",
       "entropy   14               0.000369         0.956359        0.002997   \n",
       "          17               0.000285         0.956049        0.004575   \n",
       "gini      9                0.000298         0.955945        0.006921   \n",
       "entropy   10               0.000403         0.955945        0.002551   \n",
       "          11               0.000336         0.955738        0.005531   \n",
       "gini      11               0.000675         0.955530        0.005037   \n",
       "          13               0.000486         0.955530        0.005521   \n",
       "\n",
       "                     rank_test_score  mean_train_score  std_train_score  \n",
       "criterion max_depth                                                      \n",
       "gini      10                       1          0.990152         0.000383  \n",
       "entropy   16                       2          1.000000         0.000000  \n",
       "gini      12                       3          0.991707         0.000603  \n",
       "entropy   14                       3          0.999620         0.000151  \n",
       "          17                       5          1.000000         0.000000  \n",
       "gini      9                        6          0.987388         0.000394  \n",
       "entropy   10                       6          0.994990         0.001338  \n",
       "          11                       8          0.996648         0.001022  \n",
       "gini      11                       9          0.991223         0.000464  \n",
       "          13                       9          0.992156         0.000760  "
      ]
     },
     "execution_count": 12,
     "metadata": {},
     "output_type": "execute_result"
    }
   ],
   "source": [
    "res_df = scikit_cv_result_to_df(res)\n",
    "res_df.sort_values(by='rank_test_score').head(10)"
   ]
  },
  {
   "cell_type": "code",
   "execution_count": 13,
   "metadata": {},
   "outputs": [],
   "source": [
    "gini = res_df.xs('gini', level='criterion')\n",
    "entropy = res_df.xs('entropy', level='criterion')"
   ]
  },
  {
   "cell_type": "code",
   "execution_count": 14,
   "metadata": {},
   "outputs": [
    {
     "data": {
      "image/png": "[encoded data removed]",
      "text/plain": [
       "<Figure size 432x288 with 1 Axes>"
      ]
     },
     "metadata": {},
     "output_type": "display_data"
    }
   ],
   "source": [
    "plot_means_w_stds(\n",
    "    means=(gini['mean_train_score'], entropy['mean_train_score'], gini['mean_test_score'], entropy['mean_test_score']),\n",
    "    stds=(gini['std_train_score'], entropy['std_train_score'], gini['std_test_score'], entropy['std_test_score']),\n",
    "    xrange=param_grid['max_depth'],\n",
    "    xlabel='max_depth',\n",
    "    ylabel='Accuracy',\n",
    "    series_labels=('gini: train', 'entropy: train', 'gini: CV', 'entropy: CV'),\n",
    "    title='MNIST - Decision Tree validation curves'\n",
    ")"
   ]
  },
  {
   "cell_type": "markdown",
   "metadata": {},
   "source": [
    "## Learning curve analysis"
   ]
  },
  {
   "cell_type": "code",
   "execution_count": 15,
   "metadata": {},
   "outputs": [
    {
     "name": "stdout",
     "output_type": "stream",
     "text": [
      "{'criterion': 'gini', 'max_depth': 10}\n",
      "0.956981445009\n"
     ]
    }
   ],
   "source": [
    "best_params = res['params'][np.argmax(res['mean_test_score'])]\n",
    "best_score = np.max(res['mean_test_score'])\n",
    "\n",
    "print(best_params)\n",
    "print(best_score)"
   ]
  },
  {
   "cell_type": "code",
   "execution_count": 19,
   "metadata": {},
   "outputs": [
    {
     "data": {
      "image/png": "[encoded data removed]",
      "text/plain": [
       "<Figure size 432x288 with 1 Axes>"
      ]
     },
     "metadata": {},
     "output_type": "display_data"
    }
   ],
   "source": [
    "clf = DecisionTreeClassifier(**best_params)\n",
    "train_sizes, _, _, train_mean, train_std, test_mean, test_std = gen_and_plot_learning_curve(clf, X_train, y_train, ylim=None, cv=4, train_sizes=np.linspace(.05, 1.0, 20),title='MNIST - Decision tree learning curves')\n",
    "\n"
   ]
  },
  {
   "cell_type": "markdown",
   "metadata": {},
   "source": [
    "# Performance on Test Set"
   ]
  },
  {
   "cell_type": "code",
   "execution_count": 8,
   "metadata": {},
   "outputs": [
    {
     "name": "stdout",
     "output_type": "stream",
     "text": [
      "0.9591\n"
     ]
    }
   ],
   "source": [
    "best_clf = DecisionTreeClassifier(\n",
    "    criterion='gini',\n",
    "    max_depth=10,\n",
    "    random_state=1\n",
    ")\n",
    "\n",
    "best_clf.fit(X_train, y_train)\n",
    "y_test_pred = best_clf.predict(X_test)\n",
    "test_score = accuracy_score(y_test, y_test_pred)\n",
    "print('%.4f' % test_score)"
   ]
  },
  {
   "cell_type": "code",
   "execution_count": null,
   "metadata": {},
   "outputs": [],
   "source": []
  }
 ],
 "metadata": {
  "kernelspec": {
   "display_name": "Python 3",
   "language": "python",
   "name": "python3"
  },
  "language_info": {
   "codemirror_mode": {
    "name": "ipython",
    "version": 3
   },
   "file_extension": ".py",
   "mimetype": "text/x-python",
   "name": "python",
   "nbconvert_exporter": "python",
   "pygments_lexer": "ipython3",
   "version": "3.6.3"
  }
 },
 "nbformat": 4,
 "nbformat_minor": 2
}
