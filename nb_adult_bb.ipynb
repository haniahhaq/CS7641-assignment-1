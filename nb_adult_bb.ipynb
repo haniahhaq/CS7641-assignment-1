{
 "cells": [
  {
   "cell_type": "code",
   "execution_count": 40,
   "metadata": {},
   "outputs": [],
   "source": [
    "from pprint import pprint\n",
    "from math import ceil\n",
    "from itertools import product\n",
    "\n",
    "import matplotlib.pyplot as plt\n",
    "import numpy as np\n",
    "import pandas as pd\n",
    "import scipy.stats\n",
    "from sklearn.model_selection import train_test_split, GridSearchCV, RandomizedSearchCV\n",
    "from sklearn.preprocessing import MinMaxScaler, StandardScaler\n",
    "\n",
    "from helpers import load_best_result, save_search_result\n",
    "from loaders import load_mnist\n",
    "from plotters import gen_and_plot_learning_curve, plot_learning_curve, gen_and_plot_learning_curve, plot_validation_curve"
   ]
  },
  {
   "cell_type": "markdown",
   "metadata": {},
   "source": [
    "### Load Data"
   ]
  },
  {
   "cell_type": "code",
   "execution_count": 2,
   "metadata": {
    "scrolled": true
   },
   "outputs": [
    {
     "name": "stdout",
     "output_type": "stream",
     "text": [
      "1    6958\n",
      "0    6824\n",
      "Name: target, dtype: int64\n"
     ]
    },
    {
     "name": "stderr",
     "output_type": "stream",
     "text": [
      "/home/jovyan/loaders.py:55: SettingWithCopyWarning: \n",
      "A value is trying to be set on a copy of a slice from a DataFrame.\n",
      "Try using .loc[row_indexer,col_indexer] = value instead\n",
      "\n",
      "See the caveats in the documentation: http://pandas.pydata.org/pandas-docs/stable/indexing.html#indexing-view-versus-copy\n",
      "  filtered_df['target'] = le.fit_transform(filtered_df['target'])\n"
     ]
    }
   ],
   "source": [
    "df = load_mnist(preprocess=True)"
   ]
  },
  {
   "cell_type": "markdown",
   "metadata": {},
   "source": [
    "### Split data into training and testing"
   ]
  },
  {
   "cell_type": "code",
   "execution_count": 3,
   "metadata": {},
   "outputs": [],
   "source": [
    "from sklearn.model_selection import train_test_split\n",
    "\n",
    "X = df[[c for c in df.columns if c != 'target']]\n",
    "y = df['target']\n",
    "X_train, X_test, y_train, y_test = train_test_split(X, y, test_size=0.3, stratify=y, random_state=1)"
   ]
  },
  {
   "cell_type": "markdown",
   "metadata": {},
   "source": [
    "### Scale Data"
   ]
  },
  {
   "cell_type": "code",
   "execution_count": 4,
   "metadata": {},
   "outputs": [],
   "source": [
    "# Use min max scaling because input dataset is sparse, i.e. mostly zeros\n",
    "scaler = MinMaxScaler()\n",
    "\n",
    "X_train_scaled = scaler.fit_transform(X_train)\n",
    "X_test_scaled = scaler.transform(X_test)"
   ]
  },
  {
   "cell_type": "markdown",
   "metadata": {},
   "source": [
    "## AdaBoost Model Complexity"
   ]
  },
  {
   "cell_type": "code",
   "execution_count": 5,
   "metadata": {},
   "outputs": [
    {
     "data": {
      "text/plain": [
       "{'algorithm': 'SAMME.R',\n",
       " 'base_estimator__class_weight': None,\n",
       " 'base_estimator__criterion': 'gini',\n",
       " 'base_estimator__max_depth': None,\n",
       " 'base_estimator__max_features': None,\n",
       " 'base_estimator__max_leaf_nodes': None,\n",
       " 'base_estimator__min_impurity_decrease': 0.0,\n",
       " 'base_estimator__min_impurity_split': None,\n",
       " 'base_estimator__min_samples_leaf': 1,\n",
       " 'base_estimator__min_samples_split': 2,\n",
       " 'base_estimator__min_weight_fraction_leaf': 0.0,\n",
       " 'base_estimator__presort': False,\n",
       " 'base_estimator__random_state': None,\n",
       " 'base_estimator__splitter': 'best',\n",
       " 'base_estimator': DecisionTreeClassifier(class_weight=None, criterion='gini', max_depth=None,\n",
       "             max_features=None, max_leaf_nodes=None,\n",
       "             min_impurity_decrease=0.0, min_impurity_split=None,\n",
       "             min_samples_leaf=1, min_samples_split=2,\n",
       "             min_weight_fraction_leaf=0.0, presort=False, random_state=None,\n",
       "             splitter='best'),\n",
       " 'learning_rate': 1.0,\n",
       " 'n_estimators': 50,\n",
       " 'random_state': None}"
      ]
     },
     "execution_count": 5,
     "metadata": {},
     "output_type": "execute_result"
    }
   ],
   "source": [
    "from sklearn.ensemble import AdaBoostClassifier\n",
    "from sklearn.tree import DecisionTreeClassifier\n",
    "\n",
    "base_clf = AdaBoostClassifier(base_estimator=DecisionTreeClassifier())\n",
    "\n",
    "base_clf.get_params()"
   ]
  },
  {
   "cell_type": "code",
   "execution_count": 6,
   "metadata": {},
   "outputs": [],
   "source": [
    "param_grid = {\n",
    "    'n_estimators': [1, 10, 20, 50, 100, 150, 200, 250, 300, 400],\n",
    "    'base_estimator__max_depth': range(1, 6),\n",
    "    'learning_rate': [.5, .75, 1.0]\n",
    "}"
   ]
  },
  {
   "cell_type": "code",
   "execution_count": 7,
   "metadata": {},
   "outputs": [],
   "source": [
    "grid_search = GridSearchCV(\n",
    "    estimator=base_clf,\n",
    "    param_grid=param_grid,\n",
    "    scoring='accuracy',\n",
    "    return_train_score=True,\n",
    "    cv=4,\n",
    "    verbose=10,\n",
    "    n_jobs=-1,\n",
    ")"
   ]
  },
  {
   "cell_type": "code",
   "execution_count": 8,
   "metadata": {
    "scrolled": true
   },
   "outputs": [
    {
     "name": "stdout",
     "output_type": "stream",
     "text": [
      "Fitting 4 folds for each of 150 candidates, totalling 600 fits\n",
      "[CV] base_estimator__max_depth=1, learning_rate=0.5, n_estimators=1 ..\n",
      "[CV] base_estimator__max_depth=1, learning_rate=0.5, n_estimators=1 ..\n",
      "[CV] base_estimator__max_depth=1, learning_rate=0.5, n_estimators=1 ..\n",
      "[CV] base_estimator__max_depth=1, learning_rate=0.5, n_estimators=1 ..\n",
      "[CV]  base_estimator__max_depth=1, learning_rate=0.5, n_estimators=1, score=0.8528802320762536, total=   0.4s\n",
      "[CV] base_estimator__max_depth=1, learning_rate=0.5, n_estimators=10 .\n",
      "[CV]  base_estimator__max_depth=1, learning_rate=0.5, n_estimators=1, score=0.8602819237147595, total=   0.5s\n",
      "[CV] base_estimator__max_depth=1, learning_rate=0.5, n_estimators=10 .\n",
      "[CV]  base_estimator__max_depth=1, learning_rate=0.5, n_estimators=1, score=0.8635420987142265, total=   0.6s\n",
      "[CV]  base_estimator__max_depth=1, learning_rate=0.5, n_estimators=1, score=0.8652011613438407, total=   0.5s\n",
      "[CV] base_estimator__max_depth=1, learning_rate=0.5, n_estimators=10 .\n",
      "[CV] base_estimator__max_depth=1, learning_rate=0.5, n_estimators=10 .\n",
      "[CV]  base_estimator__max_depth=1, learning_rate=0.5, n_estimators=10, score=0.8831330294239536, total=   2.7s\n",
      "[CV] base_estimator__max_depth=1, learning_rate=0.5, n_estimators=20 .\n",
      "[CV]  base_estimator__max_depth=1, learning_rate=0.5, n_estimators=10, score=0.8872305140961857, total=   2.6s\n",
      "[CV] base_estimator__max_depth=1, learning_rate=0.5, n_estimators=20 .\n"
     ]
    },
    {
     "name": "stderr",
     "output_type": "stream",
     "text": [
      "[Parallel(n_jobs=-1)]: Done   5 tasks      | elapsed:    3.5s\n"
     ]
    },
    {
     "name": "stdout",
     "output_type": "stream",
     "text": [
      "[CV]  base_estimator__max_depth=1, learning_rate=0.5, n_estimators=10, score=0.8967233513065118, total=   2.5s\n",
      "[CV] base_estimator__max_depth=1, learning_rate=0.5, n_estimators=20 .\n",
      "[CV]  base_estimator__max_depth=1, learning_rate=0.5, n_estimators=10, score=0.8987971795935297, total=   2.6s\n",
      "[CV] base_estimator__max_depth=1, learning_rate=0.5, n_estimators=20 .\n",
      "[CV]  base_estimator__max_depth=1, learning_rate=0.5, n_estimators=20, score=0.9063406547865728, total=   5.6s\n",
      "[CV] base_estimator__max_depth=1, learning_rate=0.5, n_estimators=50 .\n",
      "[CV]  base_estimator__max_depth=1, learning_rate=0.5, n_estimators=20, score=0.9145936981757877, total=   5.5s\n",
      "[CV] base_estimator__max_depth=1, learning_rate=0.5, n_estimators=50 .\n",
      "[CV]  base_estimator__max_depth=1, learning_rate=0.5, n_estimators=20, score=0.9228535877229366, total=   5.5s\n",
      "[CV] base_estimator__max_depth=1, learning_rate=0.5, n_estimators=50 .\n"
     ]
    },
    {
     "name": "stderr",
     "output_type": "stream",
     "text": [
      "[Parallel(n_jobs=-1)]: Done  10 tasks      | elapsed:    9.4s\n"
     ]
    },
    {
     "name": "stdout",
     "output_type": "stream",
     "text": [
      "[CV]  base_estimator__max_depth=1, learning_rate=0.5, n_estimators=20, score=0.919535462463708, total=   5.8s\n",
      "[CV] base_estimator__max_depth=1, learning_rate=0.5, n_estimators=50 .\n",
      "[CV]  base_estimator__max_depth=1, learning_rate=0.5, n_estimators=50, score=0.9431771049357113, total=  13.3s\n",
      "[CV] base_estimator__max_depth=1, learning_rate=0.5, n_estimators=100 \n",
      "[CV]  base_estimator__max_depth=1, learning_rate=0.5, n_estimators=50, score=0.9440298507462687, total=  13.8s\n",
      "[CV] base_estimator__max_depth=1, learning_rate=0.5, n_estimators=100 \n",
      "[CV]  base_estimator__max_depth=1, learning_rate=0.5, n_estimators=50, score=0.9407376709490262, total=  14.0s\n",
      "[CV] base_estimator__max_depth=1, learning_rate=0.5, n_estimators=100 \n",
      "[CV]  base_estimator__max_depth=1, learning_rate=0.5, n_estimators=50, score=0.9531314807133969, total=  13.5s\n",
      "[CV] base_estimator__max_depth=1, learning_rate=0.5, n_estimators=100 \n",
      "[CV]  base_estimator__max_depth=1, learning_rate=0.5, n_estimators=100, score=0.9531703273932863, total=  27.9s\n",
      "[CV] base_estimator__max_depth=1, learning_rate=0.5, n_estimators=150 \n"
     ]
    },
    {
     "name": "stderr",
     "output_type": "stream",
     "text": [
      "[Parallel(n_jobs=-1)]: Done  17 tasks      | elapsed:   51.7s\n"
     ]
    },
    {
     "name": "stdout",
     "output_type": "stream",
     "text": [
      "[CV]  base_estimator__max_depth=1, learning_rate=0.5, n_estimators=100, score=0.962671090833679, total=  28.0s\n",
      "[CV] base_estimator__max_depth=1, learning_rate=0.5, n_estimators=150 \n",
      "[CV]  base_estimator__max_depth=1, learning_rate=0.5, n_estimators=100, score=0.9535655058043118, total=  28.3s\n",
      "[CV] base_estimator__max_depth=1, learning_rate=0.5, n_estimators=150 \n",
      "[CV]  base_estimator__max_depth=1, learning_rate=0.5, n_estimators=100, score=0.9585234342596433, total=  28.8s\n",
      "[CV] base_estimator__max_depth=1, learning_rate=0.5, n_estimators=150 \n",
      "[CV]  base_estimator__max_depth=1, learning_rate=0.5, n_estimators=150, score=0.9560712805636138, total=  40.4s\n",
      "[CV] base_estimator__max_depth=1, learning_rate=0.5, n_estimators=200 \n",
      "[CV]  base_estimator__max_depth=1, learning_rate=0.5, n_estimators=150, score=0.9597844112769486, total=  40.2s\n",
      "[CV] base_estimator__max_depth=1, learning_rate=0.5, n_estimators=200 \n",
      "[CV]  base_estimator__max_depth=1, learning_rate=0.5, n_estimators=150, score=0.9643301534632932, total=  41.6s\n",
      "[CV] base_estimator__max_depth=1, learning_rate=0.5, n_estimators=200 \n",
      "[CV]  base_estimator__max_depth=1, learning_rate=0.5, n_estimators=150, score=0.9651596847781003, total=  42.0s\n",
      "[CV] base_estimator__max_depth=1, learning_rate=0.5, n_estimators=200 \n"
     ]
    },
    {
     "name": "stderr",
     "output_type": "stream",
     "text": [
      "[Parallel(n_jobs=-1)]: Done  24 tasks      | elapsed:  1.6min\n"
     ]
    },
    {
     "name": "stdout",
     "output_type": "stream",
     "text": [
      "[CV]  base_estimator__max_depth=1, learning_rate=0.5, n_estimators=200, score=0.9589722337339411, total=  52.4s\n",
      "[CV] base_estimator__max_depth=1, learning_rate=0.5, n_estimators=250 \n",
      "[CV]  base_estimator__max_depth=1, learning_rate=0.5, n_estimators=200, score=0.964759535655058, total=  52.8s\n",
      "[CV] base_estimator__max_depth=1, learning_rate=0.5, n_estimators=250 \n",
      "[CV]  base_estimator__max_depth=1, learning_rate=0.5, n_estimators=200, score=0.9647449191206968, total=  53.3s\n",
      "[CV] base_estimator__max_depth=1, learning_rate=0.5, n_estimators=250 \n",
      "[CV]  base_estimator__max_depth=1, learning_rate=0.5, n_estimators=200, score=0.9659892160929076, total=  54.3s\n",
      "[CV] base_estimator__max_depth=1, learning_rate=0.5, n_estimators=250 \n",
      "[CV]  base_estimator__max_depth=1, learning_rate=0.5, n_estimators=250, score=0.9622876087857439, total= 1.0min\n",
      "[CV] base_estimator__max_depth=1, learning_rate=0.5, n_estimators=300 \n",
      "[CV]  base_estimator__max_depth=1, learning_rate=0.5, n_estimators=250, score=0.9655887230514096, total= 1.0min\n",
      "[CV] base_estimator__max_depth=1, learning_rate=0.5, n_estimators=300 \n",
      "[CV]  base_estimator__max_depth=1, learning_rate=0.5, n_estimators=250, score=0.9697221070095396, total= 1.1min\n",
      "[CV] base_estimator__max_depth=1, learning_rate=0.5, n_estimators=300 \n",
      "[CV]  base_estimator__max_depth=1, learning_rate=0.5, n_estimators=250, score=0.9680630443799253, total= 1.1min\n",
      "[CV] base_estimator__max_depth=1, learning_rate=0.5, n_estimators=300 \n",
      "[CV]  base_estimator__max_depth=1, learning_rate=0.5, n_estimators=300, score=0.9647741400745959, total= 1.2min\n",
      "[CV] base_estimator__max_depth=1, learning_rate=0.5, n_estimators=400 \n"
     ]
    },
    {
     "name": "stderr",
     "output_type": "stream",
     "text": [
      "[Parallel(n_jobs=-1)]: Done  33 tasks      | elapsed:  4.8min\n"
     ]
    },
    {
     "name": "stdout",
     "output_type": "stream",
     "text": [
      "[CV]  base_estimator__max_depth=1, learning_rate=0.5, n_estimators=300, score=0.9672470978441128, total= 1.2min\n",
      "[CV] base_estimator__max_depth=1, learning_rate=0.5, n_estimators=400 \n",
      "[CV]  base_estimator__max_depth=1, learning_rate=0.5, n_estimators=300, score=0.9676482787225218, total= 1.3min\n",
      "[CV] base_estimator__max_depth=1, learning_rate=0.5, n_estimators=400 \n",
      "[CV]  base_estimator__max_depth=1, learning_rate=0.5, n_estimators=300, score=0.9672335130651182, total= 1.3min\n",
      "[CV] base_estimator__max_depth=1, learning_rate=0.5, n_estimators=400 \n",
      "[CV]  base_estimator__max_depth=1, learning_rate=0.5, n_estimators=400, score=0.9664318276004973, total= 1.7min\n",
      "[CV] base_estimator__max_depth=1, learning_rate=0.75, n_estimators=1 .\n",
      "[CV]  base_estimator__max_depth=1, learning_rate=0.75, n_estimators=1, score=0.8528802320762536, total=   0.4s\n",
      "[CV] base_estimator__max_depth=1, learning_rate=0.75, n_estimators=1 .\n",
      "[CV]  base_estimator__max_depth=1, learning_rate=0.75, n_estimators=1, score=0.8602819237147595, total=   0.4s\n",
      "[CV] base_estimator__max_depth=1, learning_rate=0.75, n_estimators=1 .\n",
      "[CV]  base_estimator__max_depth=1, learning_rate=0.75, n_estimators=1, score=0.8635420987142265, total=   0.4s\n",
      "[CV] base_estimator__max_depth=1, learning_rate=0.75, n_estimators=1 .\n",
      "[CV]  base_estimator__max_depth=1, learning_rate=0.75, n_estimators=1, score=0.8652011613438407, total=   0.4s\n",
      "[CV] base_estimator__max_depth=1, learning_rate=0.75, n_estimators=10 \n",
      "[CV]  base_estimator__max_depth=1, learning_rate=0.5, n_estimators=400, score=0.9697346600331676, total= 1.7min\n",
      "[CV] base_estimator__max_depth=1, learning_rate=0.75, n_estimators=10 \n"
     ]
    },
    {
     "name": "stderr",
     "output_type": "stream",
     "text": [
      "[Parallel(n_jobs=-1)]: Done  42 tasks      | elapsed:  6.5min\n"
     ]
    },
    {
     "name": "stdout",
     "output_type": "stream",
     "text": [
      "[CV]  base_estimator__max_depth=1, learning_rate=0.75, n_estimators=10, score=0.888520513883133, total=   2.5s\n",
      "[CV] base_estimator__max_depth=1, learning_rate=0.75, n_estimators=10 \n",
      "[CV]  base_estimator__max_depth=1, learning_rate=0.75, n_estimators=10, score=0.8930348258706468, total=   2.7s\n",
      "[CV] base_estimator__max_depth=1, learning_rate=0.75, n_estimators=10 \n",
      "[CV]  base_estimator__max_depth=1, learning_rate=0.75, n_estimators=10, score=0.9133139776026545, total=   2.8s\n",
      "[CV] base_estimator__max_depth=1, learning_rate=0.75, n_estimators=20 \n",
      "[CV]  base_estimator__max_depth=1, learning_rate=0.75, n_estimators=10, score=0.9025300705101618, total=   2.6s\n",
      "[CV] base_estimator__max_depth=1, learning_rate=0.75, n_estimators=20 \n",
      "[CV]  base_estimator__max_depth=1, learning_rate=0.5, n_estimators=400, score=0.9684778100373289, total= 1.8min\n",
      "[CV] base_estimator__max_depth=1, learning_rate=0.75, n_estimators=20 \n",
      "[CV]  base_estimator__max_depth=1, learning_rate=0.75, n_estimators=20, score=0.9208454206382097, total=   4.8s\n",
      "[CV] base_estimator__max_depth=1, learning_rate=0.75, n_estimators=20 \n",
      "[CV]  base_estimator__max_depth=1, learning_rate=0.75, n_estimators=20, score=0.9286898839137645, total=   4.7s\n",
      "[CV] base_estimator__max_depth=1, learning_rate=0.75, n_estimators=50 \n",
      "[CV]  base_estimator__max_depth=1, learning_rate=0.5, n_estimators=400, score=0.9701368726669432, total= 1.8min\n",
      "[CV] base_estimator__max_depth=1, learning_rate=0.75, n_estimators=50 \n",
      "[CV]  base_estimator__max_depth=1, learning_rate=0.75, n_estimators=20, score=0.9315636665284115, total=   5.3s\n",
      "[CV] base_estimator__max_depth=1, learning_rate=0.75, n_estimators=50 \n",
      "[CV]  base_estimator__max_depth=1, learning_rate=0.75, n_estimators=20, score=0.9361260887598507, total=   4.7s\n",
      "[CV] base_estimator__max_depth=1, learning_rate=0.75, n_estimators=50 \n",
      "[CV]  base_estimator__max_depth=1, learning_rate=0.75, n_estimators=50, score=0.9457107335267302, total=  12.4s\n",
      "[CV] base_estimator__max_depth=1, learning_rate=0.75, n_estimators=100 \n"
     ]
    },
    {
     "name": "stderr",
     "output_type": "stream",
     "text": [
      "[Parallel(n_jobs=-1)]: Done  53 tasks      | elapsed:  6.9min\n"
     ]
    },
    {
     "name": "stdout",
     "output_type": "stream",
     "text": [
      "[CV]  base_estimator__max_depth=1, learning_rate=0.75, n_estimators=50, score=0.951077943615257, total=  13.2s\n",
      "[CV] base_estimator__max_depth=1, learning_rate=0.75, n_estimators=100 \n",
      "[CV]  base_estimator__max_depth=1, learning_rate=0.75, n_estimators=50, score=0.9464952301949399, total=  13.5s\n",
      "[CV] base_estimator__max_depth=1, learning_rate=0.75, n_estimators=100 \n",
      "[CV]  base_estimator__max_depth=1, learning_rate=0.75, n_estimators=50, score=0.9527167150559933, total=  12.7s\n",
      "[CV] base_estimator__max_depth=1, learning_rate=0.75, n_estimators=100 \n",
      "[CV]  base_estimator__max_depth=1, learning_rate=0.75, n_estimators=100, score=0.9577289680895151, total=  25.5s\n",
      "[CV] base_estimator__max_depth=1, learning_rate=0.75, n_estimators=150 \n",
      "[CV]  base_estimator__max_depth=1, learning_rate=0.75, n_estimators=100, score=0.9589381999170469, total=  25.4s\n",
      "[CV] base_estimator__max_depth=1, learning_rate=0.75, n_estimators=150 \n",
      "[CV]  base_estimator__max_depth=1, learning_rate=0.75, n_estimators=100, score=0.9618573797678275, total=  26.3s\n",
      "[CV] base_estimator__max_depth=1, learning_rate=0.75, n_estimators=150 \n",
      "[CV]  base_estimator__max_depth=1, learning_rate=0.75, n_estimators=100, score=0.9589381999170469, total=  26.0s\n",
      "[CV] base_estimator__max_depth=1, learning_rate=0.75, n_estimators=150 \n",
      "[CV]  base_estimator__max_depth=1, learning_rate=0.75, n_estimators=150, score=0.9622876087857439, total=  38.1s\n",
      "[CV] base_estimator__max_depth=1, learning_rate=0.75, n_estimators=200 \n",
      "[CV]  base_estimator__max_depth=1, learning_rate=0.75, n_estimators=150, score=0.9713930348258707, total=  37.6s\n",
      "[CV] base_estimator__max_depth=1, learning_rate=0.75, n_estimators=200 \n",
      "[CV]  base_estimator__max_depth=1, learning_rate=0.75, n_estimators=150, score=0.9659892160929076, total=  39.2s\n",
      "[CV] base_estimator__max_depth=1, learning_rate=0.75, n_estimators=200 \n",
      "[CV]  base_estimator__max_depth=1, learning_rate=0.75, n_estimators=150, score=0.9655744504355039, total=  38.9s\n",
      "[CV] base_estimator__max_depth=1, learning_rate=0.75, n_estimators=200 \n"
     ]
    },
    {
     "name": "stderr",
     "output_type": "stream",
     "text": [
      "[Parallel(n_jobs=-1)]: Done  64 tasks      | elapsed:  8.1min\n"
     ]
    },
    {
     "name": "stdout",
     "output_type": "stream",
     "text": [
      "[CV]  base_estimator__max_depth=1, learning_rate=0.75, n_estimators=200, score=0.9647741400745959, total=  50.4s\n",
      "[CV] base_estimator__max_depth=1, learning_rate=0.75, n_estimators=250 \n",
      "[CV]  base_estimator__max_depth=1, learning_rate=0.75, n_estimators=200, score=0.9705638474295191, total=  50.7s\n",
      "[CV] base_estimator__max_depth=1, learning_rate=0.75, n_estimators=250 \n",
      "[CV]  base_estimator__max_depth=1, learning_rate=0.75, n_estimators=200, score=0.9676482787225218, total=  52.4s\n",
      "[CV] base_estimator__max_depth=1, learning_rate=0.75, n_estimators=250 \n",
      "[CV]  base_estimator__max_depth=1, learning_rate=0.75, n_estimators=200, score=0.9672335130651182, total=  52.7s\n",
      "[CV] base_estimator__max_depth=1, learning_rate=0.75, n_estimators=250 \n",
      "[CV]  base_estimator__max_depth=1, learning_rate=0.75, n_estimators=250, score=0.9664318276004973, total= 1.0min\n",
      "[CV] base_estimator__max_depth=1, learning_rate=0.75, n_estimators=300 \n",
      "[CV]  base_estimator__max_depth=1, learning_rate=0.75, n_estimators=250, score=0.9701492537313433, total= 1.0min\n",
      "[CV] base_estimator__max_depth=1, learning_rate=0.75, n_estimators=300 \n",
      "[CV]  base_estimator__max_depth=1, learning_rate=0.75, n_estimators=250, score=0.9684778100373289, total= 1.1min\n",
      "[CV] base_estimator__max_depth=1, learning_rate=0.75, n_estimators=300 \n",
      "[CV]  base_estimator__max_depth=1, learning_rate=0.75, n_estimators=250, score=0.969307341352136, total= 1.1min\n",
      "[CV] base_estimator__max_depth=1, learning_rate=0.75, n_estimators=300 \n",
      "[CV]  base_estimator__max_depth=1, learning_rate=0.75, n_estimators=300, score=0.9656029838375466, total= 1.3min\n",
      "[CV] base_estimator__max_depth=1, learning_rate=0.75, n_estimators=400 \n",
      "[CV]  base_estimator__max_depth=1, learning_rate=0.75, n_estimators=300, score=0.9705638474295191, total= 1.3min\n",
      "[CV] base_estimator__max_depth=1, learning_rate=0.75, n_estimators=400 \n",
      "[CV]  base_estimator__max_depth=1, learning_rate=0.75, n_estimators=300, score=0.9688925756947325, total= 1.3min\n",
      "[CV] base_estimator__max_depth=1, learning_rate=0.75, n_estimators=400 \n",
      "[CV]  base_estimator__max_depth=1, learning_rate=0.75, n_estimators=300, score=0.9713811696391539, total= 1.3min\n",
      "[CV] base_estimator__max_depth=1, learning_rate=0.75, n_estimators=400 \n",
      "[CV]  base_estimator__max_depth=1, learning_rate=0.75, n_estimators=400, score=0.9668462494819726, total= 1.7min\n",
      "[CV] base_estimator__max_depth=1, learning_rate=1.0, n_estimators=1 ..\n"
     ]
    },
    {
     "name": "stderr",
     "output_type": "stream",
     "text": [
      "[Parallel(n_jobs=-1)]: Done  77 tasks      | elapsed: 13.0min\n"
     ]
    },
    {
     "name": "stdout",
     "output_type": "stream",
     "text": [
      "[CV]  base_estimator__max_depth=1, learning_rate=1.0, n_estimators=1, score=0.8528802320762536, total=   0.4s\n",
      "[CV] base_estimator__max_depth=1, learning_rate=1.0, n_estimators=1 ..\n",
      "[CV]  base_estimator__max_depth=1, learning_rate=0.75, n_estimators=400, score=0.9709784411276948, total= 1.7min\n",
      "[CV] base_estimator__max_depth=1, learning_rate=1.0, n_estimators=1 ..\n",
      "[CV]  base_estimator__max_depth=1, learning_rate=1.0, n_estimators=1, score=0.8602819237147595, total=   0.3s\n",
      "[CV] base_estimator__max_depth=1, learning_rate=1.0, n_estimators=1 ..\n",
      "[CV]  base_estimator__max_depth=1, learning_rate=1.0, n_estimators=1, score=0.8635420987142265, total=   0.5s\n",
      "[CV] base_estimator__max_depth=1, learning_rate=1.0, n_estimators=10 .\n",
      "[CV]  base_estimator__max_depth=1, learning_rate=1.0, n_estimators=1, score=0.8652011613438407, total=   0.5s\n",
      "[CV] base_estimator__max_depth=1, learning_rate=1.0, n_estimators=10 .\n",
      "[CV]  base_estimator__max_depth=1, learning_rate=1.0, n_estimators=10, score=0.8868628263572317, total=   2.7s\n",
      "[CV] base_estimator__max_depth=1, learning_rate=1.0, n_estimators=10 .\n",
      "[CV]  base_estimator__max_depth=1, learning_rate=1.0, n_estimators=10, score=0.9009121061359867, total=   2.9s\n",
      "[CV] base_estimator__max_depth=1, learning_rate=1.0, n_estimators=10 .\n",
      "[CV]  base_estimator__max_depth=1, learning_rate=1.0, n_estimators=10, score=0.9079220240564081, total=   2.6s\n",
      "[CV] base_estimator__max_depth=1, learning_rate=1.0, n_estimators=20 .\n",
      "[CV]  base_estimator__max_depth=1, learning_rate=1.0, n_estimators=10, score=0.9187059311489009, total=   2.8s\n",
      "[CV] base_estimator__max_depth=1, learning_rate=1.0, n_estimators=20 .\n",
      "[CV]  base_estimator__max_depth=1, learning_rate=0.75, n_estimators=400, score=0.9676482787225218, total= 1.7min\n",
      "[CV] base_estimator__max_depth=1, learning_rate=1.0, n_estimators=20 .\n",
      "[CV]  base_estimator__max_depth=1, learning_rate=1.0, n_estimators=20, score=0.9208454206382097, total=   4.4s\n",
      "[CV] base_estimator__max_depth=1, learning_rate=1.0, n_estimators=20 .\n",
      "[CV]  base_estimator__max_depth=1, learning_rate=1.0, n_estimators=20, score=0.9282752902155887, total=   4.8s\n",
      "[CV] base_estimator__max_depth=1, learning_rate=1.0, n_estimators=50 .\n",
      "[CV]  base_estimator__max_depth=1, learning_rate=1.0, n_estimators=20, score=0.9249274160099544, total=   4.9s\n",
      "[CV] base_estimator__max_depth=1, learning_rate=1.0, n_estimators=50 .\n",
      "[CV]  base_estimator__max_depth=1, learning_rate=0.75, n_estimators=400, score=0.9738697635835752, total= 1.8min\n"
     ]
    },
    {
     "name": "stderr",
     "output_type": "stream",
     "text": [
      "[Parallel(n_jobs=-1)]: Done  90 tasks      | elapsed: 13.3min\n"
     ]
    },
    {
     "name": "stdout",
     "output_type": "stream",
     "text": [
      "[CV] base_estimator__max_depth=1, learning_rate=1.0, n_estimators=50 .\n",
      "[CV]  base_estimator__max_depth=1, learning_rate=1.0, n_estimators=20, score=0.9336374948154292, total=   4.8s\n",
      "[CV] base_estimator__max_depth=1, learning_rate=1.0, n_estimators=50 .\n",
      "[CV]  base_estimator__max_depth=1, learning_rate=1.0, n_estimators=50, score=0.9444674678823042, total=  11.9s\n",
      "[CV] base_estimator__max_depth=1, learning_rate=1.0, n_estimators=100 \n",
      "[CV]  base_estimator__max_depth=1, learning_rate=1.0, n_estimators=50, score=0.9519071310116086, total=  12.4s\n",
      "[CV] base_estimator__max_depth=1, learning_rate=1.0, n_estimators=100 \n",
      "[CV]  base_estimator__max_depth=1, learning_rate=1.0, n_estimators=50, score=0.9464952301949399, total=  13.0s\n",
      "[CV] base_estimator__max_depth=1, learning_rate=1.0, n_estimators=100 \n",
      "[CV]  base_estimator__max_depth=1, learning_rate=1.0, n_estimators=50, score=0.9552053090004148, total=  12.1s\n",
      "[CV] base_estimator__max_depth=1, learning_rate=1.0, n_estimators=100 \n",
      "[CV]  base_estimator__max_depth=1, learning_rate=1.0, n_estimators=100, score=0.9585578118524658, total=  25.7s\n",
      "[CV] base_estimator__max_depth=1, learning_rate=1.0, n_estimators=150 \n",
      "[CV]  base_estimator__max_depth=1, learning_rate=1.0, n_estimators=100, score=0.9655887230514096, total=  25.9s\n",
      "[CV] base_estimator__max_depth=1, learning_rate=1.0, n_estimators=150 \n",
      "[CV]  base_estimator__max_depth=1, learning_rate=1.0, n_estimators=100, score=0.9688925756947325, total=  25.9s\n",
      "[CV] base_estimator__max_depth=1, learning_rate=1.0, n_estimators=150 \n",
      "[CV]  base_estimator__max_depth=1, learning_rate=1.0, n_estimators=100, score=0.9618415595188718, total=  26.6s\n",
      "[CV] base_estimator__max_depth=1, learning_rate=1.0, n_estimators=150 \n",
      "[CV]  base_estimator__max_depth=1, learning_rate=1.0, n_estimators=150, score=0.9618731869042686, total=  37.3s\n",
      "[CV] base_estimator__max_depth=1, learning_rate=1.0, n_estimators=200 \n",
      "[CV]  base_estimator__max_depth=1, learning_rate=1.0, n_estimators=150, score=0.9664179104477612, total=  37.9s\n",
      "[CV] base_estimator__max_depth=1, learning_rate=1.0, n_estimators=200 \n",
      "[CV]  base_estimator__max_depth=1, learning_rate=1.0, n_estimators=150, score=0.9664039817503111, total=  37.8s\n",
      "[CV] base_estimator__max_depth=1, learning_rate=1.0, n_estimators=200 \n",
      "[CV]  base_estimator__max_depth=1, learning_rate=1.0, n_estimators=150, score=0.9709664039817503, total=  38.7s\n",
      "[CV] base_estimator__max_depth=1, learning_rate=1.0, n_estimators=200 \n",
      "[CV]  base_estimator__max_depth=1, learning_rate=1.0, n_estimators=200, score=0.9651885619560713, total=  50.3s\n",
      "[CV] base_estimator__max_depth=1, learning_rate=1.0, n_estimators=250 \n"
     ]
    },
    {
     "name": "stderr",
     "output_type": "stream",
     "text": [
      "[Parallel(n_jobs=-1)]: Done 105 tasks      | elapsed: 15.3min\n"
     ]
    },
    {
     "name": "stdout",
     "output_type": "stream",
     "text": [
      "[CV]  base_estimator__max_depth=1, learning_rate=1.0, n_estimators=200, score=0.9659892160929076, total=  50.4s\n",
      "[CV] base_estimator__max_depth=1, learning_rate=1.0, n_estimators=250 \n",
      "[CV]  base_estimator__max_depth=1, learning_rate=1.0, n_estimators=200, score=0.9705638474295191, total=  51.7s\n",
      "[CV] base_estimator__max_depth=1, learning_rate=1.0, n_estimators=250 \n",
      "[CV]  base_estimator__max_depth=1, learning_rate=1.0, n_estimators=200, score=0.972210700953961, total=  52.4s\n",
      "[CV] base_estimator__max_depth=1, learning_rate=1.0, n_estimators=250 \n",
      "[CV]  base_estimator__max_depth=1, learning_rate=1.0, n_estimators=250, score=0.9664318276004973, total= 1.1min\n",
      "[CV] base_estimator__max_depth=1, learning_rate=1.0, n_estimators=300 \n",
      "[CV]  base_estimator__max_depth=1, learning_rate=1.0, n_estimators=250, score=0.9676616915422885, total= 1.1min\n",
      "[CV] base_estimator__max_depth=1, learning_rate=1.0, n_estimators=300 \n",
      "[CV]  base_estimator__max_depth=1, learning_rate=1.0, n_estimators=250, score=0.9676482787225218, total= 1.1min\n",
      "[CV] base_estimator__max_depth=1, learning_rate=1.0, n_estimators=300 \n",
      "[CV]  base_estimator__max_depth=1, learning_rate=1.0, n_estimators=250, score=0.9730402322687681, total= 1.1min\n",
      "[CV] base_estimator__max_depth=1, learning_rate=1.0, n_estimators=300 \n",
      "[CV]  base_estimator__max_depth=1, learning_rate=1.0, n_estimators=300, score=0.967260671363448, total= 1.3min\n",
      "[CV] base_estimator__max_depth=1, learning_rate=1.0, n_estimators=400 \n",
      "[CV]  base_estimator__max_depth=1, learning_rate=1.0, n_estimators=300, score=0.9689054726368159, total= 1.3min\n",
      "[CV] base_estimator__max_depth=1, learning_rate=1.0, n_estimators=400 \n",
      "[CV]  base_estimator__max_depth=1, learning_rate=1.0, n_estimators=300, score=0.9697221070095396, total= 1.3min\n",
      "[CV] base_estimator__max_depth=1, learning_rate=1.0, n_estimators=400 \n",
      "[CV]  base_estimator__max_depth=1, learning_rate=1.0, n_estimators=300, score=0.9713811696391539, total= 1.4min\n",
      "[CV] base_estimator__max_depth=1, learning_rate=1.0, n_estimators=400 \n",
      "[CV]  base_estimator__max_depth=1, learning_rate=1.0, n_estimators=400, score=0.966017405719022, total= 1.6min\n",
      "[CV] base_estimator__max_depth=2, learning_rate=0.5, n_estimators=1 ..\n",
      "[CV]  base_estimator__max_depth=2, learning_rate=0.5, n_estimators=1, score=0.8785743887277249, total=   0.7s\n",
      "[CV] base_estimator__max_depth=2, learning_rate=0.5, n_estimators=1 ..\n",
      "[CV]  base_estimator__max_depth=2, learning_rate=0.5, n_estimators=1, score=0.9025704809286899, total=   0.8s\n",
      "[CV] base_estimator__max_depth=2, learning_rate=0.5, n_estimators=1 ..\n",
      "[CV]  base_estimator__max_depth=2, learning_rate=0.5, n_estimators=1, score=0.8958938199917047, total=   0.7s\n",
      "[CV] base_estimator__max_depth=2, learning_rate=0.5, n_estimators=1 ..\n"
     ]
    },
    {
     "name": "stderr",
     "output_type": "stream",
     "text": [
      "[Parallel(n_jobs=-1)]: Done 120 tasks      | elapsed: 19.4min\n"
     ]
    },
    {
     "name": "stdout",
     "output_type": "stream",
     "text": [
      "[CV]  base_estimator__max_depth=2, learning_rate=0.5, n_estimators=1, score=0.9021153048527581, total=   0.6s\n",
      "[CV] base_estimator__max_depth=2, learning_rate=0.5, n_estimators=10 .\n",
      "[CV]  base_estimator__max_depth=1, learning_rate=1.0, n_estimators=400, score=0.9689054726368159, total= 1.6min\n",
      "[CV] base_estimator__max_depth=2, learning_rate=0.5, n_estimators=10 .\n",
      "[CV]  base_estimator__max_depth=2, learning_rate=0.5, n_estimators=10, score=0.9374222958972234, total=   4.5s\n",
      "[CV] base_estimator__max_depth=2, learning_rate=0.5, n_estimators=10 .\n",
      "[CV]  base_estimator__max_depth=2, learning_rate=0.5, n_estimators=10, score=0.9519071310116086, total=   4.2s\n",
      "[CV] base_estimator__max_depth=2, learning_rate=0.5, n_estimators=10 .\n",
      "[CV]  base_estimator__max_depth=1, learning_rate=1.0, n_estimators=400, score=0.9717959352965575, total= 1.6min\n",
      "[CV] base_estimator__max_depth=2, learning_rate=0.5, n_estimators=20 .\n",
      "[CV]  base_estimator__max_depth=2, learning_rate=0.5, n_estimators=10, score=0.9477395271671506, total=   4.7s\n",
      "[CV] base_estimator__max_depth=2, learning_rate=0.5, n_estimators=20 .\n",
      "[CV]  base_estimator__max_depth=2, learning_rate=0.5, n_estimators=10, score=0.9564496059726255, total=   4.3s\n",
      "[CV] base_estimator__max_depth=2, learning_rate=0.5, n_estimators=20 .\n",
      "[CV]  base_estimator__max_depth=1, learning_rate=1.0, n_estimators=400, score=0.9717959352965575, total= 1.7min\n",
      "[CV] base_estimator__max_depth=2, learning_rate=0.5, n_estimators=20 .\n",
      "[CV]  base_estimator__max_depth=2, learning_rate=0.5, n_estimators=20, score=0.9564857024450891, total=   9.0s\n",
      "[CV] base_estimator__max_depth=2, learning_rate=0.5, n_estimators=50 .\n",
      "[CV]  base_estimator__max_depth=2, learning_rate=0.5, n_estimators=20, score=0.9585406301824212, total=   8.4s\n",
      "[CV] base_estimator__max_depth=2, learning_rate=0.5, n_estimators=50 .\n",
      "[CV]  base_estimator__max_depth=2, learning_rate=0.5, n_estimators=20, score=0.9585234342596433, total=   8.3s\n",
      "[CV] base_estimator__max_depth=2, learning_rate=0.5, n_estimators=50 .\n",
      "[CV]  base_estimator__max_depth=2, learning_rate=0.5, n_estimators=20, score=0.9709664039817503, total=   9.6s\n",
      "[CV] base_estimator__max_depth=2, learning_rate=0.5, n_estimators=50 .\n",
      "[CV]  base_estimator__max_depth=2, learning_rate=0.5, n_estimators=50, score=0.9718193120596768, total=  24.6s\n",
      "[CV] base_estimator__max_depth=2, learning_rate=0.5, n_estimators=100 \n",
      "[CV]  base_estimator__max_depth=2, learning_rate=0.5, n_estimators=50, score=0.9805140961857379, total=  24.4s\n",
      "[CV] base_estimator__max_depth=2, learning_rate=0.5, n_estimators=100 \n",
      "[CV]  base_estimator__max_depth=2, learning_rate=0.5, n_estimators=50, score=0.9759435918705931, total=  24.6s\n",
      "[CV] base_estimator__max_depth=2, learning_rate=0.5, n_estimators=100 \n",
      "[CV]  base_estimator__max_depth=2, learning_rate=0.5, n_estimators=50, score=0.9829946080464538, total=  25.4s\n",
      "[CV] base_estimator__max_depth=2, learning_rate=0.5, n_estimators=100 \n",
      "[CV]  base_estimator__max_depth=2, learning_rate=0.5, n_estimators=100, score=0.9813510153336096, total=  45.6s\n",
      "[CV] base_estimator__max_depth=2, learning_rate=0.5, n_estimators=150 \n"
     ]
    },
    {
     "name": "stderr",
     "output_type": "stream",
     "text": [
      "[Parallel(n_jobs=-1)]: Done 137 tasks      | elapsed: 20.9min\n"
     ]
    },
    {
     "name": "stdout",
     "output_type": "stream",
     "text": [
      "[CV]  base_estimator__max_depth=2, learning_rate=0.5, n_estimators=100, score=0.9838308457711443, total=  44.2s\n",
      "[CV] base_estimator__max_depth=2, learning_rate=0.5, n_estimators=150 \n",
      "[CV]  base_estimator__max_depth=2, learning_rate=0.5, n_estimators=100, score=0.9792617171298217, total=  44.2s\n",
      "[CV] base_estimator__max_depth=2, learning_rate=0.5, n_estimators=150 \n",
      "[CV]  base_estimator__max_depth=2, learning_rate=0.5, n_estimators=100, score=0.9838241393612609, total=  45.0s\n",
      "[CV] base_estimator__max_depth=2, learning_rate=0.5, n_estimators=150 \n",
      "[CV]  base_estimator__max_depth=2, learning_rate=0.5, n_estimators=150, score=0.9834162520729685, total= 1.1min\n",
      "[CV] base_estimator__max_depth=2, learning_rate=0.5, n_estimators=200 \n",
      "[CV]  base_estimator__max_depth=2, learning_rate=0.5, n_estimators=150, score=0.9829946080464538, total= 1.1min\n",
      "[CV] base_estimator__max_depth=2, learning_rate=0.5, n_estimators=200 \n",
      "[CV]  base_estimator__max_depth=2, learning_rate=0.5, n_estimators=150, score=0.9834231247409864, total= 1.1min\n",
      "[CV] base_estimator__max_depth=2, learning_rate=0.5, n_estimators=200 \n",
      "[CV]  base_estimator__max_depth=2, learning_rate=0.5, n_estimators=150, score=0.984653670676068, total= 1.1min\n",
      "[CV] base_estimator__max_depth=2, learning_rate=0.5, n_estimators=200 \n",
      "[CV]  base_estimator__max_depth=2, learning_rate=0.5, n_estimators=200, score=0.9859038142620232, total= 1.5min\n",
      "[CV] base_estimator__max_depth=2, learning_rate=0.5, n_estimators=250 \n",
      "[CV]  base_estimator__max_depth=2, learning_rate=0.5, n_estimators=200, score=0.9846663903854124, total= 1.5min\n",
      "[CV] base_estimator__max_depth=2, learning_rate=0.5, n_estimators=250 \n",
      "[CV]  base_estimator__max_depth=2, learning_rate=0.5, n_estimators=200, score=0.9825798423890502, total= 1.5min\n",
      "[CV] base_estimator__max_depth=2, learning_rate=0.5, n_estimators=250 \n",
      "[CV]  base_estimator__max_depth=2, learning_rate=0.5, n_estimators=200, score=0.9863127333056823, total= 1.5min\n",
      "[CV] base_estimator__max_depth=2, learning_rate=0.5, n_estimators=250 \n",
      "[CV]  base_estimator__max_depth=2, learning_rate=0.5, n_estimators=250, score=0.9838375466224617, total= 1.9min\n",
      "[CV] base_estimator__max_depth=2, learning_rate=0.5, n_estimators=300 \n",
      "[CV]  base_estimator__max_depth=2, learning_rate=0.5, n_estimators=250, score=0.9842454394693201, total= 1.9min\n",
      "[CV] base_estimator__max_depth=2, learning_rate=0.5, n_estimators=300 \n",
      "[CV]  base_estimator__max_depth=2, learning_rate=0.5, n_estimators=250, score=0.9834093737038573, total= 1.9min\n",
      "[CV] base_estimator__max_depth=2, learning_rate=0.5, n_estimators=300 \n",
      "[CV]  base_estimator__max_depth=2, learning_rate=0.5, n_estimators=250, score=0.9883865615927001, total= 1.9min\n",
      "[CV] base_estimator__max_depth=2, learning_rate=0.5, n_estimators=300 \n",
      "[CV]  base_estimator__max_depth=2, learning_rate=0.5, n_estimators=300, score=0.984251968503937, total= 2.2min\n",
      "[CV] base_estimator__max_depth=2, learning_rate=0.5, n_estimators=400 \n",
      "[CV]  base_estimator__max_depth=2, learning_rate=0.5, n_estimators=300, score=0.9854892205638475, total= 2.2min\n",
      "[CV] base_estimator__max_depth=2, learning_rate=0.5, n_estimators=400 \n"
     ]
    },
    {
     "name": "stderr",
     "output_type": "stream",
     "text": [
      "[Parallel(n_jobs=-1)]: Done 154 tasks      | elapsed: 27.6min\n"
     ]
    },
    {
     "name": "stdout",
     "output_type": "stream",
     "text": [
      "[CV]  base_estimator__max_depth=2, learning_rate=0.5, n_estimators=300, score=0.9825798423890502, total= 2.3min\n",
      "[CV] base_estimator__max_depth=2, learning_rate=0.5, n_estimators=400 \n",
      "[CV]  base_estimator__max_depth=2, learning_rate=0.5, n_estimators=300, score=0.9900456242223143, total= 2.3min\n",
      "[CV] base_estimator__max_depth=2, learning_rate=0.5, n_estimators=400 \n",
      "[CV]  base_estimator__max_depth=2, learning_rate=0.5, n_estimators=400, score=0.9846663903854124, total= 2.9min\n",
      "[CV] base_estimator__max_depth=2, learning_rate=0.75, n_estimators=1 .\n",
      "[CV]  base_estimator__max_depth=2, learning_rate=0.75, n_estimators=1, score=0.8785743887277249, total=   0.5s\n",
      "[CV] base_estimator__max_depth=2, learning_rate=0.75, n_estimators=1 .\n",
      "[CV]  base_estimator__max_depth=2, learning_rate=0.75, n_estimators=1, score=0.9025704809286899, total=   0.5s\n",
      "[CV] base_estimator__max_depth=2, learning_rate=0.75, n_estimators=1 .\n",
      "[CV]  base_estimator__max_depth=2, learning_rate=0.5, n_estimators=400, score=0.9867330016583747, total= 2.9min\n",
      "[CV] base_estimator__max_depth=2, learning_rate=0.75, n_estimators=1 .\n",
      "[CV]  base_estimator__max_depth=2, learning_rate=0.75, n_estimators=1, score=0.8958938199917047, total=   0.5s\n",
      "[CV] base_estimator__max_depth=2, learning_rate=0.75, n_estimators=10 \n",
      "[CV]  base_estimator__max_depth=2, learning_rate=0.75, n_estimators=1, score=0.9021153048527581, total=   0.6s\n",
      "[CV] base_estimator__max_depth=2, learning_rate=0.75, n_estimators=10 \n",
      "[CV]  base_estimator__max_depth=2, learning_rate=0.75, n_estimators=10, score=0.9519270617488603, total=   4.3s\n",
      "[CV] base_estimator__max_depth=2, learning_rate=0.75, n_estimators=10 \n",
      "[CV]  base_estimator__max_depth=2, learning_rate=0.75, n_estimators=10, score=0.9444444444444444, total=   4.4s\n",
      "[CV] base_estimator__max_depth=2, learning_rate=0.75, n_estimators=10 \n",
      "[CV]  base_estimator__max_depth=2, learning_rate=0.75, n_estimators=10, score=0.9576939029448361, total=   4.6s\n",
      "[CV] base_estimator__max_depth=2, learning_rate=0.75, n_estimators=20 \n",
      "[CV]  base_estimator__max_depth=2, learning_rate=0.75, n_estimators=10, score=0.9593529655744505, total=   4.7s\n",
      "[CV] base_estimator__max_depth=2, learning_rate=0.75, n_estimators=20 \n",
      "[CV]  base_estimator__max_depth=2, learning_rate=0.5, n_estimators=400, score=0.9842389050186644, total= 2.9min\n",
      "[CV] base_estimator__max_depth=2, learning_rate=0.75, n_estimators=20 \n",
      "[CV]  base_estimator__max_depth=2, learning_rate=0.75, n_estimators=20, score=0.966017405719022, total=   8.5s\n",
      "[CV] base_estimator__max_depth=2, learning_rate=0.75, n_estimators=20 \n",
      "[CV]  base_estimator__max_depth=2, learning_rate=0.75, n_estimators=20, score=0.9631011608623549, total=   9.0s\n",
      "[CV] base_estimator__max_depth=2, learning_rate=0.75, n_estimators=50 \n",
      "[CV]  base_estimator__max_depth=2, learning_rate=0.75, n_estimators=20, score=0.9705516383243468, total=   9.1s\n",
      "[CV] base_estimator__max_depth=2, learning_rate=0.75, n_estimators=50 \n",
      "[CV]  base_estimator__max_depth=2, learning_rate=0.75, n_estimators=20, score=0.9755288262131896, total=   8.9s\n",
      "[CV] base_estimator__max_depth=2, learning_rate=0.75, n_estimators=50 \n",
      "[CV]  base_estimator__max_depth=2, learning_rate=0.5, n_estimators=400, score=0.9900456242223143, total= 3.0min\n",
      "[CV] base_estimator__max_depth=2, learning_rate=0.75, n_estimators=50 \n",
      "[CV]  base_estimator__max_depth=2, learning_rate=0.75, n_estimators=50, score=0.9763779527559056, total=  22.2s\n",
      "[CV] base_estimator__max_depth=2, learning_rate=0.75, n_estimators=100 \n"
     ]
    },
    {
     "name": "stderr",
     "output_type": "stream",
     "text": [
      "[Parallel(n_jobs=-1)]: Done 173 tasks      | elapsed: 31.2min\n"
     ]
    },
    {
     "name": "stdout",
     "output_type": "stream",
     "text": [
      "[CV]  base_estimator__max_depth=2, learning_rate=0.75, n_estimators=50, score=0.978441127694859, total=  22.5s\n",
      "[CV] base_estimator__max_depth=2, learning_rate=0.75, n_estimators=100 \n",
      "[CV]  base_estimator__max_depth=2, learning_rate=0.75, n_estimators=50, score=0.9800912484446288, total=  21.4s\n",
      "[CV] base_estimator__max_depth=2, learning_rate=0.75, n_estimators=100 \n",
      "[CV]  base_estimator__max_depth=2, learning_rate=0.75, n_estimators=50, score=0.9809207797594359, total=  21.6s\n",
      "[CV] base_estimator__max_depth=2, learning_rate=0.75, n_estimators=100 \n",
      "[CV]  base_estimator__max_depth=2, learning_rate=0.75, n_estimators=100, score=0.9796933278077082, total=  42.5s\n",
      "[CV] base_estimator__max_depth=2, learning_rate=0.75, n_estimators=150 \n",
      "[CV]  base_estimator__max_depth=2, learning_rate=0.75, n_estimators=100, score=0.9830016583747927, total=  43.0s\n",
      "[CV] base_estimator__max_depth=2, learning_rate=0.75, n_estimators=150 \n",
      "[CV]  base_estimator__max_depth=2, learning_rate=0.75, n_estimators=100, score=0.9813355454168395, total=  42.9s\n",
      "[CV] base_estimator__max_depth=2, learning_rate=0.75, n_estimators=150 \n",
      "[CV]  base_estimator__max_depth=2, learning_rate=0.75, n_estimators=100, score=0.984653670676068, total=  45.8s\n",
      "[CV] base_estimator__max_depth=2, learning_rate=0.75, n_estimators=150 \n",
      "[CV]  base_estimator__max_depth=2, learning_rate=0.75, n_estimators=150, score=0.9834231247409864, total= 1.1min\n",
      "[CV] base_estimator__max_depth=2, learning_rate=0.75, n_estimators=200 \n",
      "[CV]  base_estimator__max_depth=2, learning_rate=0.75, n_estimators=150, score=0.9821724709784412, total= 1.1min\n",
      "[CV] base_estimator__max_depth=2, learning_rate=0.75, n_estimators=200 \n",
      "[CV]  base_estimator__max_depth=2, learning_rate=0.75, n_estimators=150, score=0.9829946080464538, total= 1.1min\n",
      "[CV] base_estimator__max_depth=2, learning_rate=0.75, n_estimators=200 \n",
      "[CV]  base_estimator__max_depth=2, learning_rate=0.75, n_estimators=150, score=0.9863127333056823, total= 1.2min\n",
      "[CV] base_estimator__max_depth=2, learning_rate=0.75, n_estimators=200 \n",
      "[CV]  base_estimator__max_depth=2, learning_rate=0.75, n_estimators=200, score=0.983008702859511, total= 1.5min\n",
      "[CV] base_estimator__max_depth=2, learning_rate=0.75, n_estimators=250 \n",
      "[CV]  base_estimator__max_depth=2, learning_rate=0.75, n_estimators=200, score=0.9817578772802653, total= 1.5min\n",
      "[CV] base_estimator__max_depth=2, learning_rate=0.75, n_estimators=250 \n",
      "[CV]  base_estimator__max_depth=2, learning_rate=0.75, n_estimators=200, score=0.9842389050186644, total= 1.5min\n",
      "[CV] base_estimator__max_depth=2, learning_rate=0.75, n_estimators=250 \n",
      "[CV]  base_estimator__max_depth=2, learning_rate=0.75, n_estimators=200, score=0.9867274989630859, total= 1.5min\n",
      "[CV] base_estimator__max_depth=2, learning_rate=0.75, n_estimators=250 \n",
      "[CV]  base_estimator__max_depth=2, learning_rate=0.75, n_estimators=250, score=0.983008702859511, total= 1.8min\n",
      "[CV] base_estimator__max_depth=2, learning_rate=0.75, n_estimators=300 \n",
      "[CV]  base_estimator__max_depth=2, learning_rate=0.75, n_estimators=250, score=0.9825870646766169, total= 1.8min\n",
      "[CV] base_estimator__max_depth=2, learning_rate=0.75, n_estimators=300 \n",
      "[CV]  base_estimator__max_depth=2, learning_rate=0.75, n_estimators=250, score=0.984653670676068, total= 1.8min\n",
      "[CV] base_estimator__max_depth=2, learning_rate=0.75, n_estimators=300 \n",
      "[CV]  base_estimator__max_depth=2, learning_rate=0.75, n_estimators=250, score=0.9871422646204894, total= 1.9min\n",
      "[CV] base_estimator__max_depth=2, learning_rate=0.75, n_estimators=300 \n"
     ]
    },
    {
     "name": "stderr",
     "output_type": "stream",
     "text": [
      "[Parallel(n_jobs=-1)]: Done 192 tasks      | elapsed: 36.8min\n"
     ]
    },
    {
     "name": "stdout",
     "output_type": "stream",
     "text": [
      "[CV]  base_estimator__max_depth=2, learning_rate=0.75, n_estimators=300, score=0.9834231247409864, total= 2.2min\n",
      "[CV] base_estimator__max_depth=2, learning_rate=0.75, n_estimators=400 \n",
      "[CV]  base_estimator__max_depth=2, learning_rate=0.75, n_estimators=300, score=0.9838308457711443, total= 2.2min\n",
      "[CV] base_estimator__max_depth=2, learning_rate=0.75, n_estimators=400 \n",
      "[CV]  base_estimator__max_depth=2, learning_rate=0.75, n_estimators=300, score=0.9850684363334716, total= 2.2min\n",
      "[CV] base_estimator__max_depth=2, learning_rate=0.75, n_estimators=400 \n",
      "[CV]  base_estimator__max_depth=2, learning_rate=0.75, n_estimators=300, score=0.9888013272501037, total= 2.4min\n",
      "[CV] base_estimator__max_depth=2, learning_rate=0.75, n_estimators=400 \n",
      "[CV]  base_estimator__max_depth=2, learning_rate=0.75, n_estimators=400, score=0.985495234148363, total= 3.0min\n",
      "[CV] base_estimator__max_depth=2, learning_rate=1.0, n_estimators=1 ..\n",
      "[CV]  base_estimator__max_depth=2, learning_rate=1.0, n_estimators=1, score=0.8785743887277249, total=   0.6s\n",
      "[CV] base_estimator__max_depth=2, learning_rate=1.0, n_estimators=1 ..\n",
      "[CV]  base_estimator__max_depth=2, learning_rate=1.0, n_estimators=1, score=0.9025704809286899, total=   0.5s\n",
      "[CV] base_estimator__max_depth=2, learning_rate=1.0, n_estimators=1 ..\n",
      "[CV]  base_estimator__max_depth=2, learning_rate=1.0, n_estimators=1, score=0.8958938199917047, total=   0.7s\n",
      "[CV] base_estimator__max_depth=2, learning_rate=1.0, n_estimators=1 ..\n",
      "[CV]  base_estimator__max_depth=2, learning_rate=1.0, n_estimators=1, score=0.9021153048527581, total=   0.7s\n",
      "[CV] base_estimator__max_depth=2, learning_rate=1.0, n_estimators=10 .\n",
      "[CV]  base_estimator__max_depth=2, learning_rate=1.0, n_estimators=10, score=0.952755905511811, total=   4.2s\n",
      "[CV] base_estimator__max_depth=2, learning_rate=1.0, n_estimators=10 .\n",
      "[CV]  base_estimator__max_depth=2, learning_rate=0.75, n_estimators=400, score=0.9871475953565506, total= 3.0min\n",
      "[CV] base_estimator__max_depth=2, learning_rate=1.0, n_estimators=10 .\n",
      "[CV]  base_estimator__max_depth=2, learning_rate=0.75, n_estimators=400, score=0.984653670676068, total= 3.0min\n",
      "[CV] base_estimator__max_depth=2, learning_rate=1.0, n_estimators=10 .\n",
      "[CV]  base_estimator__max_depth=2, learning_rate=1.0, n_estimators=10, score=0.9552238805970149, total=   4.5s\n",
      "[CV] base_estimator__max_depth=2, learning_rate=1.0, n_estimators=20 .\n",
      "[CV]  base_estimator__max_depth=2, learning_rate=1.0, n_estimators=10, score=0.9527167150559933, total=   4.5s\n",
      "[CV] base_estimator__max_depth=2, learning_rate=1.0, n_estimators=20 .\n",
      "[CV]  base_estimator__max_depth=2, learning_rate=1.0, n_estimators=10, score=0.959767731231854, total=   4.4s\n",
      "[CV] base_estimator__max_depth=2, learning_rate=1.0, n_estimators=20 .\n",
      "[CV]  base_estimator__max_depth=2, learning_rate=1.0, n_estimators=20, score=0.9664318276004973, total=   8.5s\n",
      "[CV] base_estimator__max_depth=2, learning_rate=1.0, n_estimators=20 .\n",
      "[CV]  base_estimator__max_depth=2, learning_rate=1.0, n_estimators=20, score=0.9643449419568823, total=   8.1s\n",
      "[CV] base_estimator__max_depth=2, learning_rate=1.0, n_estimators=50 .\n",
      "[CV]  base_estimator__max_depth=2, learning_rate=1.0, n_estimators=20, score=0.9622563251762754, total=   8.2s\n",
      "[CV] base_estimator__max_depth=2, learning_rate=1.0, n_estimators=50 .\n",
      "[CV]  base_estimator__max_depth=2, learning_rate=1.0, n_estimators=20, score=0.9734549979261717, total=   9.0s\n",
      "[CV] base_estimator__max_depth=2, learning_rate=1.0, n_estimators=50 .\n",
      "[CV]  base_estimator__max_depth=2, learning_rate=0.75, n_estimators=400, score=0.9888013272501037, total= 3.0min\n",
      "[CV] base_estimator__max_depth=2, learning_rate=1.0, n_estimators=50 .\n",
      "[CV]  base_estimator__max_depth=2, learning_rate=1.0, n_estimators=50, score=0.9813510153336096, total=  21.2s\n",
      "[CV] base_estimator__max_depth=2, learning_rate=1.0, n_estimators=100 \n",
      "[CV]  base_estimator__max_depth=2, learning_rate=1.0, n_estimators=50, score=0.9805140961857379, total=  20.7s\n",
      "[CV] base_estimator__max_depth=2, learning_rate=1.0, n_estimators=100 \n"
     ]
    },
    {
     "name": "stderr",
     "output_type": "stream",
     "text": [
      "[Parallel(n_jobs=-1)]: Done 213 tasks      | elapsed: 42.4min\n"
     ]
    },
    {
     "name": "stdout",
     "output_type": "stream",
     "text": [
      "[CV]  base_estimator__max_depth=2, learning_rate=1.0, n_estimators=50, score=0.9697221070095396, total=  20.5s\n",
      "[CV] base_estimator__max_depth=2, learning_rate=1.0, n_estimators=100 \n",
      "[CV]  base_estimator__max_depth=2, learning_rate=1.0, n_estimators=50, score=0.9825798423890502, total=  21.7s\n",
      "[CV] base_estimator__max_depth=2, learning_rate=1.0, n_estimators=100 \n",
      "[CV]  base_estimator__max_depth=2, learning_rate=1.0, n_estimators=100, score=0.9792703150912107, total=  46.8s\n",
      "[CV] base_estimator__max_depth=2, learning_rate=1.0, n_estimators=150 \n",
      "[CV]  base_estimator__max_depth=2, learning_rate=1.0, n_estimators=100, score=0.9825942809780357, total=  47.6s\n",
      "[CV] base_estimator__max_depth=2, learning_rate=1.0, n_estimators=150 \n",
      "[CV]  base_estimator__max_depth=2, learning_rate=1.0, n_estimators=100, score=0.9792617171298217, total=  47.5s\n",
      "[CV] base_estimator__max_depth=2, learning_rate=1.0, n_estimators=150 \n",
      "[CV]  base_estimator__max_depth=2, learning_rate=1.0, n_estimators=100, score=0.9892160929075072, total=  48.6s\n",
      "[CV] base_estimator__max_depth=2, learning_rate=1.0, n_estimators=150 \n",
      "[CV]  base_estimator__max_depth=2, learning_rate=1.0, n_estimators=150, score=0.9846663903854124, total= 1.1min\n",
      "[CV] base_estimator__max_depth=2, learning_rate=1.0, n_estimators=200 \n",
      "[CV]  base_estimator__max_depth=2, learning_rate=1.0, n_estimators=150, score=0.9842454394693201, total= 1.1min\n",
      "[CV] base_estimator__max_depth=2, learning_rate=1.0, n_estimators=200 \n",
      "[CV]  base_estimator__max_depth=2, learning_rate=1.0, n_estimators=150, score=0.9821650767316467, total= 1.1min\n",
      "[CV] base_estimator__max_depth=2, learning_rate=1.0, n_estimators=200 \n",
      "[CV]  base_estimator__max_depth=2, learning_rate=1.0, n_estimators=150, score=0.9900456242223143, total= 1.1min\n",
      "[CV] base_estimator__max_depth=2, learning_rate=1.0, n_estimators=200 \n",
      "[CV]  base_estimator__max_depth=2, learning_rate=1.0, n_estimators=200, score=0.987981765437215, total= 1.5min\n",
      "[CV] base_estimator__max_depth=2, learning_rate=1.0, n_estimators=250 \n",
      "[CV]  base_estimator__max_depth=2, learning_rate=1.0, n_estimators=200, score=0.9834162520729685, total= 1.5min\n",
      "[CV] base_estimator__max_depth=2, learning_rate=1.0, n_estimators=250 \n",
      "[CV]  base_estimator__max_depth=2, learning_rate=1.0, n_estimators=200, score=0.9858979676482788, total= 1.5min\n",
      "[CV] base_estimator__max_depth=2, learning_rate=1.0, n_estimators=250 \n",
      "[CV]  base_estimator__max_depth=2, learning_rate=1.0, n_estimators=200, score=0.9900456242223143, total= 1.5min\n",
      "[CV] base_estimator__max_depth=2, learning_rate=1.0, n_estimators=250 \n",
      "[CV]  base_estimator__max_depth=2, learning_rate=1.0, n_estimators=250, score=0.984251968503937, total= 1.8min\n",
      "[CV] base_estimator__max_depth=2, learning_rate=1.0, n_estimators=300 \n",
      "[CV]  base_estimator__max_depth=2, learning_rate=1.0, n_estimators=250, score=0.986318407960199, total= 1.8min\n",
      "[CV] base_estimator__max_depth=2, learning_rate=1.0, n_estimators=300 \n",
      "[CV]  base_estimator__max_depth=2, learning_rate=1.0, n_estimators=250, score=0.9838241393612609, total= 1.8min\n",
      "[CV] base_estimator__max_depth=2, learning_rate=1.0, n_estimators=300 \n",
      "[CV]  base_estimator__max_depth=2, learning_rate=1.0, n_estimators=250, score=0.9888013272501037, total= 1.9min\n",
      "[CV] base_estimator__max_depth=2, learning_rate=1.0, n_estimators=300 \n",
      "[CV]  base_estimator__max_depth=2, learning_rate=1.0, n_estimators=300, score=0.985495234148363, total= 2.2min\n",
      "[CV] base_estimator__max_depth=2, learning_rate=1.0, n_estimators=400 \n",
      "[CV]  base_estimator__max_depth=2, learning_rate=1.0, n_estimators=300, score=0.9896351575456053, total= 2.2min\n",
      "[CV] base_estimator__max_depth=2, learning_rate=1.0, n_estimators=400 \n"
     ]
    },
    {
     "name": "stderr",
     "output_type": "stream",
     "text": [
      "[Parallel(n_jobs=-1)]: Done 234 tasks      | elapsed: 49.9min\n"
     ]
    },
    {
     "name": "stdout",
     "output_type": "stream",
     "text": [
      "[CV]  base_estimator__max_depth=2, learning_rate=1.0, n_estimators=300, score=0.9825798423890502, total= 2.2min\n",
      "[CV] base_estimator__max_depth=2, learning_rate=1.0, n_estimators=400 \n",
      "[CV]  base_estimator__max_depth=2, learning_rate=1.0, n_estimators=300, score=0.9896308585649108, total= 2.3min\n",
      "[CV] base_estimator__max_depth=2, learning_rate=1.0, n_estimators=400 \n",
      "[CV]  base_estimator__max_depth=2, learning_rate=1.0, n_estimators=400, score=0.9850808122668877, total= 2.9min\n",
      "[CV] base_estimator__max_depth=3, learning_rate=0.5, n_estimators=1 ..\n",
      "[CV]  base_estimator__max_depth=3, learning_rate=0.5, n_estimators=1, score=0.9079983423124741, total=   0.7s\n",
      "[CV] base_estimator__max_depth=3, learning_rate=0.5, n_estimators=1 ..\n",
      "[CV]  base_estimator__max_depth=3, learning_rate=0.5, n_estimators=1, score=0.9237147595356551, total=   0.8s\n",
      "[CV] base_estimator__max_depth=3, learning_rate=0.5, n_estimators=1 ..\n",
      "[CV]  base_estimator__max_depth=3, learning_rate=0.5, n_estimators=1, score=0.9153878058896724, total=   0.8s\n",
      "[CV] base_estimator__max_depth=3, learning_rate=0.5, n_estimators=1 ..\n",
      "[CV]  base_estimator__max_depth=3, learning_rate=0.5, n_estimators=1, score=0.9187059311489009, total=   0.8s\n",
      "[CV] base_estimator__max_depth=3, learning_rate=0.5, n_estimators=10 .\n",
      "[CV]  base_estimator__max_depth=2, learning_rate=1.0, n_estimators=400, score=0.9838241393612609, total= 2.9min\n",
      "[CV] base_estimator__max_depth=3, learning_rate=0.5, n_estimators=10 .\n",
      "[CV]  base_estimator__max_depth=2, learning_rate=1.0, n_estimators=400, score=0.9908789386401327, total= 3.0min\n",
      "[CV] base_estimator__max_depth=3, learning_rate=0.5, n_estimators=10 .\n",
      "[CV]  base_estimator__max_depth=3, learning_rate=0.5, n_estimators=10, score=0.9697472026523001, total=   6.1s\n",
      "[CV] base_estimator__max_depth=3, learning_rate=0.5, n_estimators=10 .\n",
      "[CV]  base_estimator__max_depth=3, learning_rate=0.5, n_estimators=10, score=0.9705638474295191, total=   6.1s\n",
      "[CV] base_estimator__max_depth=3, learning_rate=0.5, n_estimators=20 .\n",
      "[CV]  base_estimator__max_depth=3, learning_rate=0.5, n_estimators=10, score=0.9659892160929076, total=   6.4s\n",
      "[CV] base_estimator__max_depth=3, learning_rate=0.5, n_estimators=20 .\n",
      "[CV]  base_estimator__max_depth=3, learning_rate=0.5, n_estimators=10, score=0.9742845292409789, total=   6.6s\n",
      "[CV] base_estimator__max_depth=3, learning_rate=0.5, n_estimators=20 .\n",
      "[CV]  base_estimator__max_depth=3, learning_rate=0.5, n_estimators=20, score=0.9755491089929549, total=  12.3s\n",
      "[CV] base_estimator__max_depth=3, learning_rate=0.5, n_estimators=20 .\n",
      "[CV]  base_estimator__max_depth=3, learning_rate=0.5, n_estimators=20, score=0.9776119402985075, total=  12.5s\n",
      "[CV] base_estimator__max_depth=3, learning_rate=0.5, n_estimators=50 .\n",
      "[CV]  base_estimator__max_depth=3, learning_rate=0.5, n_estimators=20, score=0.972210700953961, total=  12.5s\n",
      "[CV] base_estimator__max_depth=3, learning_rate=0.5, n_estimators=50 .\n",
      "[CV]  base_estimator__max_depth=2, learning_rate=1.0, n_estimators=400, score=0.9900456242223143, total= 3.0min\n",
      "[CV] base_estimator__max_depth=3, learning_rate=0.5, n_estimators=50 .\n",
      "[CV]  base_estimator__max_depth=3, learning_rate=0.5, n_estimators=20, score=0.9825798423890502, total=  12.2s\n",
      "[CV] base_estimator__max_depth=3, learning_rate=0.5, n_estimators=50 .\n",
      "[CV]  base_estimator__max_depth=3, learning_rate=0.5, n_estimators=50, score=0.9825942809780357, total=  31.8s\n",
      "[CV] base_estimator__max_depth=3, learning_rate=0.5, n_estimators=100 \n",
      "[CV]  base_estimator__max_depth=3, learning_rate=0.5, n_estimators=50, score=0.9817578772802653, total=  30.4s\n",
      "[CV] base_estimator__max_depth=3, learning_rate=0.5, n_estimators=100 \n",
      "[CV]  base_estimator__max_depth=3, learning_rate=0.5, n_estimators=50, score=0.9771878888428038, total=  31.7s\n",
      "[CV] base_estimator__max_depth=3, learning_rate=0.5, n_estimators=100 \n",
      "[CV]  base_estimator__max_depth=3, learning_rate=0.5, n_estimators=50, score=0.9863127333056823, total=  30.8s\n",
      "[CV] base_estimator__max_depth=3, learning_rate=0.5, n_estimators=100 \n",
      "[CV]  base_estimator__max_depth=3, learning_rate=0.5, n_estimators=100, score=0.9842454394693201, total=  58.9s\n",
      "[CV] base_estimator__max_depth=3, learning_rate=0.5, n_estimators=150 \n",
      "[CV]  base_estimator__max_depth=3, learning_rate=0.5, n_estimators=100, score=0.9838375466224617, total= 1.0min\n"
     ]
    },
    {
     "name": "stderr",
     "output_type": "stream",
     "text": [
      "[Parallel(n_jobs=-1)]: Done 257 tasks      | elapsed: 54.8min\n"
     ]
    },
    {
     "name": "stdout",
     "output_type": "stream",
     "text": [
      "[CV] base_estimator__max_depth=3, learning_rate=0.5, n_estimators=150 \n",
      "[CV]  base_estimator__max_depth=3, learning_rate=0.5, n_estimators=100, score=0.9834093737038573, total= 1.0min\n",
      "[CV] base_estimator__max_depth=3, learning_rate=0.5, n_estimators=150 \n",
      "[CV]  base_estimator__max_depth=3, learning_rate=0.5, n_estimators=100, score=0.9900456242223143, total=  59.3s\n",
      "[CV] base_estimator__max_depth=3, learning_rate=0.5, n_estimators=150 \n",
      "[CV]  base_estimator__max_depth=3, learning_rate=0.5, n_estimators=150, score=0.9838375466224617, total= 1.5min\n",
      "[CV] base_estimator__max_depth=3, learning_rate=0.5, n_estimators=200 \n",
      "[CV]  base_estimator__max_depth=3, learning_rate=0.5, n_estimators=150, score=0.9854892205638475, total= 1.6min\n",
      "[CV] base_estimator__max_depth=3, learning_rate=0.5, n_estimators=200 \n",
      "[CV]  base_estimator__max_depth=3, learning_rate=0.5, n_estimators=150, score=0.9858979676482788, total= 1.6min\n",
      "[CV] base_estimator__max_depth=3, learning_rate=0.5, n_estimators=200 \n",
      "[CV]  base_estimator__max_depth=3, learning_rate=0.5, n_estimators=150, score=0.9867274989630859, total= 1.5min\n",
      "[CV] base_estimator__max_depth=3, learning_rate=0.5, n_estimators=200 \n",
      "[CV]  base_estimator__max_depth=3, learning_rate=0.5, n_estimators=200, score=0.9846663903854124, total= 2.1min\n",
      "[CV] base_estimator__max_depth=3, learning_rate=0.5, n_estimators=250 \n",
      "[CV]  base_estimator__max_depth=3, learning_rate=0.5, n_estimators=200, score=0.9904643449419569, total= 2.1min\n",
      "[CV] base_estimator__max_depth=3, learning_rate=0.5, n_estimators=250 \n",
      "[CV]  base_estimator__max_depth=3, learning_rate=0.5, n_estimators=200, score=0.9888013272501037, total= 2.1min\n",
      "[CV] base_estimator__max_depth=3, learning_rate=0.5, n_estimators=250 \n",
      "[CV]  base_estimator__max_depth=3, learning_rate=0.5, n_estimators=200, score=0.987557030277893, total= 2.1min\n",
      "[CV] base_estimator__max_depth=3, learning_rate=0.5, n_estimators=250 \n",
      "[CV]  base_estimator__max_depth=3, learning_rate=0.5, n_estimators=250, score=0.9859096560298384, total= 2.6min\n",
      "[CV] base_estimator__max_depth=3, learning_rate=0.5, n_estimators=300 \n",
      "[CV]  base_estimator__max_depth=3, learning_rate=0.5, n_estimators=250, score=0.9896351575456053, total= 2.7min\n",
      "[CV] base_estimator__max_depth=3, learning_rate=0.5, n_estimators=300 \n",
      "[CV]  base_estimator__max_depth=3, learning_rate=0.5, n_estimators=250, score=0.9858979676482788, total= 2.6min\n",
      "[CV] base_estimator__max_depth=3, learning_rate=0.5, n_estimators=300 \n",
      "[CV]  base_estimator__max_depth=3, learning_rate=0.5, n_estimators=250, score=0.9871422646204894, total= 2.7min\n",
      "[CV] base_estimator__max_depth=3, learning_rate=0.5, n_estimators=300 \n",
      "[CV]  base_estimator__max_depth=3, learning_rate=0.5, n_estimators=300, score=0.985495234148363, total= 3.0min\n",
      "[CV] base_estimator__max_depth=3, learning_rate=0.5, n_estimators=400 \n",
      "[CV]  base_estimator__max_depth=3, learning_rate=0.5, n_estimators=300, score=0.987557030277893, total= 3.0min\n",
      "[CV] base_estimator__max_depth=3, learning_rate=0.5, n_estimators=400 \n",
      "[CV]  base_estimator__max_depth=3, learning_rate=0.5, n_estimators=300, score=0.9888059701492538, total= 3.0min\n",
      "[CV] base_estimator__max_depth=3, learning_rate=0.5, n_estimators=400 \n",
      "[CV]  base_estimator__max_depth=3, learning_rate=0.5, n_estimators=300, score=0.987557030277893, total= 3.1min\n",
      "[CV] base_estimator__max_depth=3, learning_rate=0.5, n_estimators=400 \n",
      "[CV]  base_estimator__max_depth=3, learning_rate=0.5, n_estimators=400, score=0.9871529216742644, total= 4.1min\n",
      "[CV] base_estimator__max_depth=3, learning_rate=0.75, n_estimators=1 .\n",
      "[CV]  base_estimator__max_depth=3, learning_rate=0.75, n_estimators=1, score=0.9079983423124741, total=   0.7s\n",
      "[CV] base_estimator__max_depth=3, learning_rate=0.75, n_estimators=1 .\n",
      "[CV]  base_estimator__max_depth=3, learning_rate=0.75, n_estimators=1, score=0.9237147595356551, total=   0.7s\n",
      "[CV] base_estimator__max_depth=3, learning_rate=0.75, n_estimators=1 .\n",
      "[CV]  base_estimator__max_depth=3, learning_rate=0.75, n_estimators=1, score=0.9153878058896724, total=   0.9s\n",
      "[CV] base_estimator__max_depth=3, learning_rate=0.75, n_estimators=1 .\n"
     ]
    },
    {
     "name": "stderr",
     "output_type": "stream",
     "text": [
      "[Parallel(n_jobs=-1)]: Done 280 tasks      | elapsed: 68.2min\n"
     ]
    },
    {
     "name": "stdout",
     "output_type": "stream",
     "text": [
      "[CV]  base_estimator__max_depth=3, learning_rate=0.75, n_estimators=1, score=0.9187059311489009, total=   0.9s\n",
      "[CV] base_estimator__max_depth=3, learning_rate=0.75, n_estimators=10 \n",
      "[CV]  base_estimator__max_depth=3, learning_rate=0.5, n_estimators=400, score=0.9892205638474295, total= 4.1min\n",
      "[CV] base_estimator__max_depth=3, learning_rate=0.75, n_estimators=10 \n",
      "[CV]  base_estimator__max_depth=3, learning_rate=0.75, n_estimators=10, score=0.9701616245337754, total=   6.2s\n",
      "[CV] base_estimator__max_depth=3, learning_rate=0.75, n_estimators=10 \n",
      "[CV]  base_estimator__max_depth=3, learning_rate=0.75, n_estimators=10, score=0.9705638474295191, total=   6.0s\n",
      "[CV] base_estimator__max_depth=3, learning_rate=0.75, n_estimators=10 \n",
      "[CV]  base_estimator__max_depth=3, learning_rate=0.5, n_estimators=400, score=0.987557030277893, total= 4.1min\n",
      "[CV] base_estimator__max_depth=3, learning_rate=0.75, n_estimators=20 \n",
      "[CV]  base_estimator__max_depth=3, learning_rate=0.75, n_estimators=10, score=0.9688925756947325, total=   6.2s\n",
      "[CV] base_estimator__max_depth=3, learning_rate=0.75, n_estimators=20 \n",
      "[CV]  base_estimator__max_depth=3, learning_rate=0.75, n_estimators=10, score=0.9738697635835752, total=   6.1s\n",
      "[CV] base_estimator__max_depth=3, learning_rate=0.75, n_estimators=20 \n",
      "[CV]  base_estimator__max_depth=3, learning_rate=0.75, n_estimators=20, score=0.9780356402818069, total=  12.7s\n",
      "[CV] base_estimator__max_depth=3, learning_rate=0.75, n_estimators=20 \n",
      "[CV]  base_estimator__max_depth=3, learning_rate=0.75, n_estimators=20, score=0.9830016583747927, total=  12.5s\n",
      "[CV] base_estimator__max_depth=3, learning_rate=0.75, n_estimators=50 \n",
      "[CV]  base_estimator__max_depth=3, learning_rate=0.5, n_estimators=400, score=0.9883865615927001, total= 4.2min\n",
      "[CV] base_estimator__max_depth=3, learning_rate=0.75, n_estimators=50 \n",
      "[CV]  base_estimator__max_depth=3, learning_rate=0.75, n_estimators=20, score=0.9784321858150146, total=  12.5s\n",
      "[CV] base_estimator__max_depth=3, learning_rate=0.75, n_estimators=50 \n",
      "[CV]  base_estimator__max_depth=3, learning_rate=0.75, n_estimators=20, score=0.9792617171298217, total=  12.6s\n",
      "[CV] base_estimator__max_depth=3, learning_rate=0.75, n_estimators=50 \n",
      "[CV]  base_estimator__max_depth=3, learning_rate=0.75, n_estimators=50, score=0.9805221715706589, total=  30.8s\n",
      "[CV] base_estimator__max_depth=3, learning_rate=0.75, n_estimators=100 \n",
      "[CV]  base_estimator__max_depth=3, learning_rate=0.75, n_estimators=50, score=0.9809286898839138, total=  31.8s\n",
      "[CV] base_estimator__max_depth=3, learning_rate=0.75, n_estimators=100 \n",
      "[CV]  base_estimator__max_depth=3, learning_rate=0.75, n_estimators=50, score=0.9776026545002073, total=  31.6s\n",
      "[CV] base_estimator__max_depth=3, learning_rate=0.75, n_estimators=100 \n",
      "[CV]  base_estimator__max_depth=3, learning_rate=0.75, n_estimators=50, score=0.9829946080464538, total=  31.4s\n",
      "[CV] base_estimator__max_depth=3, learning_rate=0.75, n_estimators=100 \n",
      "[CV]  base_estimator__max_depth=3, learning_rate=0.75, n_estimators=100, score=0.985495234148363, total=  59.9s\n",
      "[CV] base_estimator__max_depth=3, learning_rate=0.75, n_estimators=150 \n",
      "[CV]  base_estimator__max_depth=3, learning_rate=0.75, n_estimators=100, score=0.9859038142620232, total= 1.0min\n",
      "[CV] base_estimator__max_depth=3, learning_rate=0.75, n_estimators=150 \n",
      "[CV]  base_estimator__max_depth=3, learning_rate=0.75, n_estimators=100, score=0.9813355454168395, total= 1.0min\n",
      "[CV] base_estimator__max_depth=3, learning_rate=0.75, n_estimators=150 \n",
      "[CV]  base_estimator__max_depth=3, learning_rate=0.75, n_estimators=100, score=0.9858979676482788, total= 1.0min\n",
      "[CV] base_estimator__max_depth=3, learning_rate=0.75, n_estimators=150 \n",
      "[CV]  base_estimator__max_depth=3, learning_rate=0.75, n_estimators=150, score=0.9859096560298384, total= 1.5min\n",
      "[CV] base_estimator__max_depth=3, learning_rate=0.75, n_estimators=200 \n",
      "[CV]  base_estimator__max_depth=3, learning_rate=0.75, n_estimators=150, score=0.984653670676068, total= 1.5min\n",
      "[CV] base_estimator__max_depth=3, learning_rate=0.75, n_estimators=200 \n",
      "[CV]  base_estimator__max_depth=3, learning_rate=0.75, n_estimators=150, score=0.986318407960199, total= 1.6min\n",
      "[CV] base_estimator__max_depth=3, learning_rate=0.75, n_estimators=200 \n",
      "[CV]  base_estimator__max_depth=3, learning_rate=0.75, n_estimators=150, score=0.9888013272501037, total= 1.6min\n",
      "[CV] base_estimator__max_depth=3, learning_rate=0.75, n_estimators=200 \n",
      "[CV]  base_estimator__max_depth=3, learning_rate=0.75, n_estimators=200, score=0.9875673435557397, total= 2.0min\n",
      "[CV] base_estimator__max_depth=3, learning_rate=0.75, n_estimators=250 \n"
     ]
    },
    {
     "name": "stderr",
     "output_type": "stream",
     "text": [
      "[Parallel(n_jobs=-1)]: Done 305 tasks      | elapsed: 73.8min\n"
     ]
    },
    {
     "name": "stdout",
     "output_type": "stream",
     "text": [
      "[CV]  base_estimator__max_depth=3, learning_rate=0.75, n_estimators=200, score=0.9896351575456053, total= 2.0min\n",
      "[CV] base_estimator__max_depth=3, learning_rate=0.75, n_estimators=250 \n",
      "[CV]  base_estimator__max_depth=3, learning_rate=0.75, n_estimators=200, score=0.9867274989630859, total= 2.1min\n",
      "[CV] base_estimator__max_depth=3, learning_rate=0.75, n_estimators=250 \n",
      "[CV]  base_estimator__max_depth=3, learning_rate=0.75, n_estimators=200, score=0.987557030277893, total= 2.1min\n",
      "[CV] base_estimator__max_depth=3, learning_rate=0.75, n_estimators=250 \n",
      "[CV]  base_estimator__max_depth=3, learning_rate=0.75, n_estimators=250, score=0.9875673435557397, total= 2.5min\n",
      "[CV] base_estimator__max_depth=3, learning_rate=0.75, n_estimators=300 \n",
      "[CV]  base_estimator__max_depth=3, learning_rate=0.75, n_estimators=250, score=0.9900497512437811, total= 2.5min\n",
      "[CV] base_estimator__max_depth=3, learning_rate=0.75, n_estimators=300 \n",
      "[CV]  base_estimator__max_depth=3, learning_rate=0.75, n_estimators=250, score=0.9867274989630859, total= 2.6min\n",
      "[CV] base_estimator__max_depth=3, learning_rate=0.75, n_estimators=300 \n",
      "[CV]  base_estimator__max_depth=3, learning_rate=0.75, n_estimators=250, score=0.9900456242223143, total= 2.6min\n",
      "[CV] base_estimator__max_depth=3, learning_rate=0.75, n_estimators=300 \n",
      "[CV]  base_estimator__max_depth=3, learning_rate=0.75, n_estimators=300, score=0.9883961873186904, total= 3.1min\n",
      "[CV] base_estimator__max_depth=3, learning_rate=0.75, n_estimators=400 \n",
      "[CV]  base_estimator__max_depth=3, learning_rate=0.75, n_estimators=300, score=0.9892205638474295, total= 3.1min\n",
      "[CV] base_estimator__max_depth=3, learning_rate=0.75, n_estimators=400 \n",
      "[CV]  base_estimator__max_depth=3, learning_rate=0.75, n_estimators=300, score=0.9867274989630859, total= 3.1min\n",
      "[CV] base_estimator__max_depth=3, learning_rate=0.75, n_estimators=400 \n",
      "[CV]  base_estimator__max_depth=3, learning_rate=0.75, n_estimators=300, score=0.9896308585649108, total= 3.1min\n",
      "[CV] base_estimator__max_depth=3, learning_rate=0.75, n_estimators=400 \n",
      "[CV]  base_estimator__max_depth=3, learning_rate=0.75, n_estimators=400, score=0.9883961873186904, total= 4.0min\n",
      "[CV] base_estimator__max_depth=3, learning_rate=1.0, n_estimators=1 ..\n",
      "[CV]  base_estimator__max_depth=3, learning_rate=1.0, n_estimators=1, score=0.9079983423124741, total=   0.6s\n",
      "[CV] base_estimator__max_depth=3, learning_rate=1.0, n_estimators=1 ..\n",
      "[CV]  base_estimator__max_depth=3, learning_rate=1.0, n_estimators=1, score=0.9237147595356551, total=   0.6s\n",
      "[CV] base_estimator__max_depth=3, learning_rate=1.0, n_estimators=1 ..\n",
      "[CV]  base_estimator__max_depth=3, learning_rate=1.0, n_estimators=1, score=0.9153878058896724, total=   0.6s\n",
      "[CV] base_estimator__max_depth=3, learning_rate=1.0, n_estimators=1 ..\n",
      "[CV]  base_estimator__max_depth=3, learning_rate=1.0, n_estimators=1, score=0.9187059311489009, total=   0.7s\n",
      "[CV] base_estimator__max_depth=3, learning_rate=1.0, n_estimators=10 .\n",
      "[CV]  base_estimator__max_depth=3, learning_rate=0.75, n_estimators=400, score=0.9900497512437811, total= 4.0min\n",
      "[CV] base_estimator__max_depth=3, learning_rate=1.0, n_estimators=10 .\n",
      "[CV]  base_estimator__max_depth=3, learning_rate=1.0, n_estimators=10, score=0.9593866556154165, total=   6.3s\n",
      "[CV] base_estimator__max_depth=3, learning_rate=1.0, n_estimators=10 .\n",
      "[CV]  base_estimator__max_depth=3, learning_rate=1.0, n_estimators=10, score=0.9676616915422885, total=   6.6s\n",
      "[CV] base_estimator__max_depth=3, learning_rate=1.0, n_estimators=10 .\n",
      "[CV]  base_estimator__max_depth=3, learning_rate=1.0, n_estimators=10, score=0.969307341352136, total=   6.2s\n",
      "[CV] base_estimator__max_depth=3, learning_rate=1.0, n_estimators=20 .\n",
      "[CV]  base_estimator__max_depth=3, learning_rate=1.0, n_estimators=10, score=0.969307341352136, total=   6.4s\n",
      "[CV] base_estimator__max_depth=3, learning_rate=1.0, n_estimators=20 .\n",
      "[CV]  base_estimator__max_depth=3, learning_rate=1.0, n_estimators=20, score=0.9755491089929549, total=  12.1s\n",
      "[CV] base_estimator__max_depth=3, learning_rate=1.0, n_estimators=20 .\n",
      "[CV]  base_estimator__max_depth=3, learning_rate=0.75, n_estimators=400, score=0.9879717959352966, total= 4.1min\n",
      "[CV] base_estimator__max_depth=3, learning_rate=1.0, n_estimators=20 .\n",
      "[CV]  base_estimator__max_depth=3, learning_rate=1.0, n_estimators=20, score=0.974709784411277, total=  12.2s\n",
      "[CV] base_estimator__max_depth=3, learning_rate=1.0, n_estimators=50 .\n",
      "[CV]  base_estimator__max_depth=3, learning_rate=0.75, n_estimators=400, score=0.9892160929075072, total= 4.1min\n",
      "[CV] base_estimator__max_depth=3, learning_rate=1.0, n_estimators=50 .\n"
     ]
    },
    {
     "name": "stderr",
     "output_type": "stream",
     "text": [
      "[Parallel(n_jobs=-1)]: Done 330 tasks      | elapsed: 84.0min\n"
     ]
    },
    {
     "name": "stdout",
     "output_type": "stream",
     "text": [
      "[CV]  base_estimator__max_depth=3, learning_rate=1.0, n_estimators=20, score=0.9709664039817503, total=  12.2s\n",
      "[CV] base_estimator__max_depth=3, learning_rate=1.0, n_estimators=50 .\n",
      "[CV]  base_estimator__max_depth=3, learning_rate=1.0, n_estimators=20, score=0.9771878888428038, total=  12.7s\n",
      "[CV] base_estimator__max_depth=3, learning_rate=1.0, n_estimators=50 .\n",
      "[CV]  base_estimator__max_depth=3, learning_rate=1.0, n_estimators=50, score=0.9772067965188562, total=  30.6s\n",
      "[CV] base_estimator__max_depth=3, learning_rate=1.0, n_estimators=100 \n",
      "[CV]  base_estimator__max_depth=3, learning_rate=1.0, n_estimators=50, score=0.9830016583747927, total=  30.7s\n",
      "[CV] base_estimator__max_depth=3, learning_rate=1.0, n_estimators=100 \n",
      "[CV]  base_estimator__max_depth=3, learning_rate=1.0, n_estimators=50, score=0.9784321858150146, total=  30.1s\n",
      "[CV] base_estimator__max_depth=3, learning_rate=1.0, n_estimators=100 \n",
      "[CV]  base_estimator__max_depth=3, learning_rate=1.0, n_estimators=50, score=0.981750311074243, total=  31.2s\n",
      "[CV] base_estimator__max_depth=3, learning_rate=1.0, n_estimators=100 \n",
      "[CV]  base_estimator__max_depth=3, learning_rate=1.0, n_estimators=100, score=0.9846663903854124, total=  59.5s\n",
      "[CV] base_estimator__max_depth=3, learning_rate=1.0, n_estimators=150 \n",
      "[CV]  base_estimator__max_depth=3, learning_rate=1.0, n_estimators=100, score=0.9854892205638475, total= 1.0min\n",
      "[CV] base_estimator__max_depth=3, learning_rate=1.0, n_estimators=150 \n",
      "[CV]  base_estimator__max_depth=3, learning_rate=1.0, n_estimators=100, score=0.9858979676482788, total=  59.4s\n",
      "[CV] base_estimator__max_depth=3, learning_rate=1.0, n_estimators=150 \n",
      "[CV]  base_estimator__max_depth=3, learning_rate=1.0, n_estimators=100, score=0.984653670676068, total= 1.0min\n",
      "[CV] base_estimator__max_depth=3, learning_rate=1.0, n_estimators=150 \n",
      "[CV]  base_estimator__max_depth=3, learning_rate=1.0, n_estimators=150, score=0.984251968503937, total= 1.5min\n",
      "[CV] base_estimator__max_depth=3, learning_rate=1.0, n_estimators=200 \n",
      "[CV]  base_estimator__max_depth=3, learning_rate=1.0, n_estimators=150, score=0.986318407960199, total= 1.5min\n",
      "[CV] base_estimator__max_depth=3, learning_rate=1.0, n_estimators=200 \n",
      "[CV]  base_estimator__max_depth=3, learning_rate=1.0, n_estimators=150, score=0.9838241393612609, total= 1.5min\n",
      "[CV] base_estimator__max_depth=3, learning_rate=1.0, n_estimators=200 \n",
      "[CV]  base_estimator__max_depth=3, learning_rate=1.0, n_estimators=150, score=0.9900456242223143, total= 1.5min\n",
      "[CV] base_estimator__max_depth=3, learning_rate=1.0, n_estimators=200 \n",
      "[CV]  base_estimator__max_depth=3, learning_rate=1.0, n_estimators=200, score=0.984251968503937, total= 2.0min\n",
      "[CV] base_estimator__max_depth=3, learning_rate=1.0, n_estimators=250 \n",
      "[CV]  base_estimator__max_depth=3, learning_rate=1.0, n_estimators=200, score=0.986318407960199, total= 2.0min\n",
      "[CV] base_estimator__max_depth=3, learning_rate=1.0, n_estimators=250 \n",
      "[CV]  base_estimator__max_depth=3, learning_rate=1.0, n_estimators=200, score=0.9838241393612609, total= 2.0min\n",
      "[CV] base_estimator__max_depth=3, learning_rate=1.0, n_estimators=250 \n",
      "[CV]  base_estimator__max_depth=3, learning_rate=1.0, n_estimators=200, score=0.9908751555371216, total= 2.1min\n",
      "[CV] base_estimator__max_depth=3, learning_rate=1.0, n_estimators=250 \n",
      "[CV]  base_estimator__max_depth=3, learning_rate=1.0, n_estimators=250, score=0.9846663903854124, total= 2.5min\n",
      "[CV] base_estimator__max_depth=3, learning_rate=1.0, n_estimators=300 \n",
      "[CV]  base_estimator__max_depth=3, learning_rate=1.0, n_estimators=250, score=0.9904643449419569, total= 2.5min\n",
      "[CV] base_estimator__max_depth=3, learning_rate=1.0, n_estimators=300 \n",
      "[CV]  base_estimator__max_depth=3, learning_rate=1.0, n_estimators=250, score=0.9842389050186644, total= 2.5min\n",
      "[CV] base_estimator__max_depth=3, learning_rate=1.0, n_estimators=300 \n",
      "[CV]  base_estimator__max_depth=3, learning_rate=1.0, n_estimators=250, score=0.9917046868519287, total= 2.6min\n",
      "[CV] base_estimator__max_depth=3, learning_rate=1.0, n_estimators=300 \n",
      "[CV]  base_estimator__max_depth=3, learning_rate=1.0, n_estimators=300, score=0.9859096560298384, total= 3.0min\n",
      "[CV] base_estimator__max_depth=3, learning_rate=1.0, n_estimators=400 \n",
      "[CV]  base_estimator__max_depth=3, learning_rate=1.0, n_estimators=300, score=0.9892205638474295, total= 3.1min\n",
      "[CV] base_estimator__max_depth=3, learning_rate=1.0, n_estimators=400 \n",
      "[CV]  base_estimator__max_depth=3, learning_rate=1.0, n_estimators=300, score=0.9871422646204894, total= 3.1min\n",
      "[CV] base_estimator__max_depth=3, learning_rate=1.0, n_estimators=400 \n",
      "[CV]  base_estimator__max_depth=3, learning_rate=1.0, n_estimators=300, score=0.990460389879718, total= 3.1min\n",
      "[CV] base_estimator__max_depth=3, learning_rate=1.0, n_estimators=400 \n",
      "[CV]  base_estimator__max_depth=3, learning_rate=1.0, n_estimators=400, score=0.9871529216742644, total= 4.0min\n",
      "[CV] base_estimator__max_depth=4, learning_rate=0.5, n_estimators=1 ..\n"
     ]
    },
    {
     "name": "stderr",
     "output_type": "stream",
     "text": [
      "[Parallel(n_jobs=-1)]: Done 357 tasks      | elapsed: 98.7min\n"
     ]
    },
    {
     "name": "stdout",
     "output_type": "stream",
     "text": [
      "[CV]  base_estimator__max_depth=4, learning_rate=0.5, n_estimators=1, score=0.9096560298383755, total=   0.9s\n",
      "[CV] base_estimator__max_depth=4, learning_rate=0.5, n_estimators=1 ..\n",
      "[CV]  base_estimator__max_depth=4, learning_rate=0.5, n_estimators=1, score=0.9336650082918739, total=   0.9s\n",
      "[CV] base_estimator__max_depth=4, learning_rate=0.5, n_estimators=1 ..\n",
      "[CV]  base_estimator__max_depth=4, learning_rate=0.5, n_estimators=1, score=0.9265864786395687, total=   0.9s\n",
      "[CV] base_estimator__max_depth=4, learning_rate=0.5, n_estimators=1 ..\n",
      "[CV]  base_estimator__max_depth=4, learning_rate=0.5, n_estimators=1, score=0.9344670261302365, total=   0.9s\n",
      "[CV] base_estimator__max_depth=4, learning_rate=0.5, n_estimators=10 .\n",
      "[CV]  base_estimator__max_depth=3, learning_rate=1.0, n_estimators=400, score=0.9888059701492538, total= 4.1min\n",
      "[CV] base_estimator__max_depth=4, learning_rate=0.5, n_estimators=10 .\n",
      "[CV]  base_estimator__max_depth=4, learning_rate=0.5, n_estimators=10, score=0.9701616245337754, total=   7.8s\n",
      "[CV] base_estimator__max_depth=4, learning_rate=0.5, n_estimators=10 .\n",
      "[CV]  base_estimator__max_depth=3, learning_rate=1.0, n_estimators=400, score=0.9879717959352966, total= 4.1min\n",
      "[CV] base_estimator__max_depth=4, learning_rate=0.5, n_estimators=10 .\n",
      "[CV]  base_estimator__max_depth=4, learning_rate=0.5, n_estimators=10, score=0.9738805970149254, total=   8.0s\n",
      "[CV] base_estimator__max_depth=4, learning_rate=0.5, n_estimators=20 .\n",
      "[CV]  base_estimator__max_depth=4, learning_rate=0.5, n_estimators=10, score=0.9684778100373289, total=   8.0s\n",
      "[CV] base_estimator__max_depth=4, learning_rate=0.5, n_estimators=20 .\n",
      "[CV]  base_estimator__max_depth=4, learning_rate=0.5, n_estimators=10, score=0.9759435918705931, total=   7.8s\n",
      "[CV] base_estimator__max_depth=4, learning_rate=0.5, n_estimators=20 .\n",
      "[CV]  base_estimator__max_depth=4, learning_rate=0.5, n_estimators=20, score=0.9726481558226274, total=  15.5s\n",
      "[CV] base_estimator__max_depth=4, learning_rate=0.5, n_estimators=20 .\n",
      "[CV]  base_estimator__max_depth=4, learning_rate=0.5, n_estimators=20, score=0.972636815920398, total=  14.9s\n",
      "[CV] base_estimator__max_depth=4, learning_rate=0.5, n_estimators=50 .\n",
      "[CV]  base_estimator__max_depth=4, learning_rate=0.5, n_estimators=20, score=0.9730402322687681, total=  15.0s\n",
      "[CV] base_estimator__max_depth=4, learning_rate=0.5, n_estimators=50 .\n",
      "[CV]  base_estimator__max_depth=3, learning_rate=1.0, n_estimators=400, score=0.9917046868519287, total= 4.1min\n",
      "[CV] base_estimator__max_depth=4, learning_rate=0.5, n_estimators=50 .\n",
      "[CV]  base_estimator__max_depth=4, learning_rate=0.5, n_estimators=20, score=0.978017420157611, total=  14.9s\n",
      "[CV] base_estimator__max_depth=4, learning_rate=0.5, n_estimators=50 .\n",
      "[CV]  base_estimator__max_depth=4, learning_rate=0.5, n_estimators=50, score=0.9809286898839138, total=  35.7s\n",
      "[CV] base_estimator__max_depth=4, learning_rate=0.5, n_estimators=100 \n",
      "[CV]  base_estimator__max_depth=4, learning_rate=0.5, n_estimators=50, score=0.9776212184003316, total=  36.3s\n",
      "[CV] base_estimator__max_depth=4, learning_rate=0.5, n_estimators=100 \n",
      "[CV]  base_estimator__max_depth=4, learning_rate=0.5, n_estimators=50, score=0.9784321858150146, total=  37.6s\n",
      "[CV] base_estimator__max_depth=4, learning_rate=0.5, n_estimators=100 \n",
      "[CV]  base_estimator__max_depth=4, learning_rate=0.5, n_estimators=50, score=0.9755288262131896, total=  38.5s\n",
      "[CV] base_estimator__max_depth=4, learning_rate=0.5, n_estimators=100 \n",
      "[CV]  base_estimator__max_depth=4, learning_rate=0.5, n_estimators=100, score=0.984251968503937, total= 1.2min\n",
      "[CV] base_estimator__max_depth=4, learning_rate=0.5, n_estimators=150 \n",
      "[CV]  base_estimator__max_depth=4, learning_rate=0.5, n_estimators=100, score=0.9838308457711443, total= 1.2min\n",
      "[CV] base_estimator__max_depth=4, learning_rate=0.5, n_estimators=150 \n",
      "[CV]  base_estimator__max_depth=4, learning_rate=0.5, n_estimators=100, score=0.9813355454168395, total= 1.3min\n",
      "[CV] base_estimator__max_depth=4, learning_rate=0.5, n_estimators=150 \n",
      "[CV]  base_estimator__max_depth=4, learning_rate=0.5, n_estimators=100, score=0.9854832019908751, total= 1.2min\n",
      "[CV] base_estimator__max_depth=4, learning_rate=0.5, n_estimators=150 \n",
      "[CV]  base_estimator__max_depth=4, learning_rate=0.5, n_estimators=150, score=0.985495234148363, total= 1.9min\n",
      "[CV] base_estimator__max_depth=4, learning_rate=0.5, n_estimators=200 \n",
      "[CV]  base_estimator__max_depth=4, learning_rate=0.5, n_estimators=150, score=0.9842454394693201, total= 1.8min\n",
      "[CV] base_estimator__max_depth=4, learning_rate=0.5, n_estimators=200 \n",
      "[CV]  base_estimator__max_depth=4, learning_rate=0.5, n_estimators=150, score=0.9834093737038573, total= 1.9min\n",
      "[CV] base_estimator__max_depth=4, learning_rate=0.5, n_estimators=200 \n",
      "[CV]  base_estimator__max_depth=4, learning_rate=0.5, n_estimators=150, score=0.9871422646204894, total= 1.9min\n",
      "[CV] base_estimator__max_depth=4, learning_rate=0.5, n_estimators=200 \n"
     ]
    },
    {
     "name": "stderr",
     "output_type": "stream",
     "text": [
      "[Parallel(n_jobs=-1)]: Done 384 tasks      | elapsed: 103.3min\n"
     ]
    },
    {
     "name": "stdout",
     "output_type": "stream",
     "text": [
      "[CV]  base_estimator__max_depth=4, learning_rate=0.5, n_estimators=200, score=0.986318407960199, total= 2.4min\n",
      "[CV] base_estimator__max_depth=4, learning_rate=0.5, n_estimators=250 \n",
      "[CV]  base_estimator__max_depth=4, learning_rate=0.5, n_estimators=200, score=0.985495234148363, total= 2.5min\n",
      "[CV] base_estimator__max_depth=4, learning_rate=0.5, n_estimators=250 \n",
      "[CV]  base_estimator__max_depth=4, learning_rate=0.5, n_estimators=200, score=0.9842389050186644, total= 2.5min\n",
      "[CV] base_estimator__max_depth=4, learning_rate=0.5, n_estimators=250 \n",
      "[CV]  base_estimator__max_depth=4, learning_rate=0.5, n_estimators=200, score=0.9912899211945251, total= 2.5min\n",
      "[CV] base_estimator__max_depth=4, learning_rate=0.5, n_estimators=250 \n",
      "[CV]  base_estimator__max_depth=4, learning_rate=0.5, n_estimators=250, score=0.9896351575456053, total= 3.1min\n",
      "[CV] base_estimator__max_depth=4, learning_rate=0.5, n_estimators=300 \n",
      "[CV]  base_estimator__max_depth=4, learning_rate=0.5, n_estimators=250, score=0.986738499792789, total= 3.1min\n",
      "[CV] base_estimator__max_depth=4, learning_rate=0.5, n_estimators=300 \n",
      "[CV]  base_estimator__max_depth=4, learning_rate=0.5, n_estimators=250, score=0.9854832019908751, total= 3.2min\n",
      "[CV] base_estimator__max_depth=4, learning_rate=0.5, n_estimators=300 \n",
      "[CV]  base_estimator__max_depth=4, learning_rate=0.5, n_estimators=250, score=0.9900456242223143, total= 3.2min\n",
      "[CV] base_estimator__max_depth=4, learning_rate=0.5, n_estimators=300 \n",
      "[CV]  base_estimator__max_depth=4, learning_rate=0.5, n_estimators=300, score=0.9854892205638475, total= 3.7min\n",
      "[CV] base_estimator__max_depth=4, learning_rate=0.5, n_estimators=400 \n",
      "[CV]  base_estimator__max_depth=4, learning_rate=0.5, n_estimators=300, score=0.9859096560298384, total= 3.8min\n",
      "[CV] base_estimator__max_depth=4, learning_rate=0.5, n_estimators=400 \n",
      "[CV]  base_estimator__max_depth=4, learning_rate=0.5, n_estimators=300, score=0.9858979676482788, total= 3.9min\n",
      "[CV] base_estimator__max_depth=4, learning_rate=0.5, n_estimators=400 \n",
      "[CV]  base_estimator__max_depth=4, learning_rate=0.5, n_estimators=300, score=0.9917046868519287, total= 3.9min\n",
      "[CV] base_estimator__max_depth=4, learning_rate=0.5, n_estimators=400 \n",
      "[CV]  base_estimator__max_depth=4, learning_rate=0.5, n_estimators=400, score=0.9892205638474295, total= 4.9min\n",
      "[CV] base_estimator__max_depth=4, learning_rate=0.75, n_estimators=1 .\n",
      "[CV]  base_estimator__max_depth=4, learning_rate=0.75, n_estimators=1, score=0.9096560298383755, total=   0.8s\n",
      "[CV] base_estimator__max_depth=4, learning_rate=0.75, n_estimators=1 .\n",
      "[CV]  base_estimator__max_depth=4, learning_rate=0.5, n_estimators=400, score=0.9888106092001657, total= 5.0min\n",
      "[CV] base_estimator__max_depth=4, learning_rate=0.75, n_estimators=1 .\n",
      "[CV]  base_estimator__max_depth=4, learning_rate=0.75, n_estimators=1, score=0.9336650082918739, total=   0.8s\n",
      "[CV] base_estimator__max_depth=4, learning_rate=0.75, n_estimators=1 .\n",
      "[CV]  base_estimator__max_depth=4, learning_rate=0.75, n_estimators=1, score=0.9265864786395687, total=   0.8s\n",
      "[CV] base_estimator__max_depth=4, learning_rate=0.75, n_estimators=10 \n",
      "[CV]  base_estimator__max_depth=4, learning_rate=0.75, n_estimators=1, score=0.9340522604728329, total=   1.0s\n",
      "[CV] base_estimator__max_depth=4, learning_rate=0.75, n_estimators=10 \n",
      "[CV]  base_estimator__max_depth=4, learning_rate=0.75, n_estimators=10, score=0.9701616245337754, total=   6.0s\n",
      "[CV] base_estimator__max_depth=4, learning_rate=0.75, n_estimators=10 \n",
      "[CV]  base_estimator__max_depth=4, learning_rate=0.75, n_estimators=10, score=0.9742951907131011, total=   6.1s\n",
      "[CV] base_estimator__max_depth=4, learning_rate=0.75, n_estimators=10 \n",
      "[CV]  base_estimator__max_depth=4, learning_rate=0.75, n_estimators=10, score=0.9709664039817503, total=   7.7s\n",
      "[CV] base_estimator__max_depth=4, learning_rate=0.75, n_estimators=20 \n",
      "[CV]  base_estimator__max_depth=4, learning_rate=0.75, n_estimators=10, score=0.9755288262131896, total=   8.0s\n",
      "[CV] base_estimator__max_depth=4, learning_rate=0.75, n_estimators=20 \n",
      "[CV]  base_estimator__max_depth=4, learning_rate=0.75, n_estimators=20, score=0.9788644840447576, total=  15.2s\n",
      "[CV] base_estimator__max_depth=4, learning_rate=0.75, n_estimators=20 \n",
      "[CV]  base_estimator__max_depth=4, learning_rate=0.75, n_estimators=20, score=0.9751243781094527, total=  15.2s\n",
      "[CV] base_estimator__max_depth=4, learning_rate=0.75, n_estimators=20 \n",
      "[CV]  base_estimator__max_depth=4, learning_rate=0.5, n_estimators=400, score=0.9871422646204894, total= 5.1min\n",
      "[CV] base_estimator__max_depth=4, learning_rate=0.75, n_estimators=50 \n",
      "[CV]  base_estimator__max_depth=4, learning_rate=0.5, n_estimators=400, score=0.990460389879718, total= 5.1min\n",
      "[CV] base_estimator__max_depth=4, learning_rate=0.75, n_estimators=50 \n",
      "[CV]  base_estimator__max_depth=4, learning_rate=0.75, n_estimators=20, score=0.9726254666113646, total=  15.2s\n",
      "[CV] base_estimator__max_depth=4, learning_rate=0.75, n_estimators=50 \n",
      "[CV]  base_estimator__max_depth=4, learning_rate=0.75, n_estimators=20, score=0.9734549979261717, total=  15.0s\n",
      "[CV] base_estimator__max_depth=4, learning_rate=0.75, n_estimators=50 \n",
      "[CV]  base_estimator__max_depth=4, learning_rate=0.75, n_estimators=50, score=0.9788644840447576, total=  38.1s\n",
      "[CV] base_estimator__max_depth=4, learning_rate=0.75, n_estimators=100 \n"
     ]
    },
    {
     "name": "stderr",
     "output_type": "stream",
     "text": [
      "[Parallel(n_jobs=-1)]: Done 413 tasks      | elapsed: 118.6min\n"
     ]
    },
    {
     "name": "stdout",
     "output_type": "stream",
     "text": [
      "[CV]  base_estimator__max_depth=4, learning_rate=0.75, n_estimators=50, score=0.9800995024875622, total=  37.6s\n",
      "[CV] base_estimator__max_depth=4, learning_rate=0.75, n_estimators=100 \n",
      "[CV]  base_estimator__max_depth=4, learning_rate=0.75, n_estimators=50, score=0.981750311074243, total=  36.7s\n",
      "[CV] base_estimator__max_depth=4, learning_rate=0.75, n_estimators=100 \n",
      "[CV]  base_estimator__max_depth=4, learning_rate=0.75, n_estimators=50, score=0.9825798423890502, total=  36.7s\n",
      "[CV] base_estimator__max_depth=4, learning_rate=0.75, n_estimators=100 \n",
      "[CV]  base_estimator__max_depth=4, learning_rate=0.75, n_estimators=100, score=0.9850808122668877, total= 1.3min\n",
      "[CV] base_estimator__max_depth=4, learning_rate=0.75, n_estimators=150 \n",
      "[CV]  base_estimator__max_depth=4, learning_rate=0.75, n_estimators=100, score=0.9850746268656716, total= 1.3min\n",
      "[CV] base_estimator__max_depth=4, learning_rate=0.75, n_estimators=150 \n",
      "[CV]  base_estimator__max_depth=4, learning_rate=0.75, n_estimators=100, score=0.9834093737038573, total= 1.3min\n",
      "[CV] base_estimator__max_depth=4, learning_rate=0.75, n_estimators=150 \n",
      "[CV]  base_estimator__max_depth=4, learning_rate=0.75, n_estimators=100, score=0.9834093737038573, total= 1.3min\n",
      "[CV] base_estimator__max_depth=4, learning_rate=0.75, n_estimators=150 \n",
      "[CV]  base_estimator__max_depth=4, learning_rate=0.75, n_estimators=150, score=0.9888059701492538, total= 1.9min\n",
      "[CV] base_estimator__max_depth=4, learning_rate=0.75, n_estimators=200 \n",
      "[CV]  base_estimator__max_depth=4, learning_rate=0.75, n_estimators=150, score=0.9859096560298384, total= 1.9min\n",
      "[CV] base_estimator__max_depth=4, learning_rate=0.75, n_estimators=200 \n",
      "[CV]  base_estimator__max_depth=4, learning_rate=0.75, n_estimators=150, score=0.9858979676482788, total= 1.9min\n",
      "[CV] base_estimator__max_depth=4, learning_rate=0.75, n_estimators=200 \n",
      "[CV]  base_estimator__max_depth=4, learning_rate=0.75, n_estimators=150, score=0.9867274989630859, total= 1.9min\n",
      "[CV] base_estimator__max_depth=4, learning_rate=0.75, n_estimators=200 \n",
      "[CV]  base_estimator__max_depth=4, learning_rate=0.75, n_estimators=200, score=0.985495234148363, total= 2.6min\n",
      "[CV] base_estimator__max_depth=4, learning_rate=0.75, n_estimators=250 \n",
      "[CV]  base_estimator__max_depth=4, learning_rate=0.75, n_estimators=200, score=0.9888059701492538, total= 2.6min\n",
      "[CV] base_estimator__max_depth=4, learning_rate=0.75, n_estimators=250 \n",
      "[CV]  base_estimator__max_depth=4, learning_rate=0.75, n_estimators=200, score=0.9838241393612609, total= 2.5min\n",
      "[CV] base_estimator__max_depth=4, learning_rate=0.75, n_estimators=250 \n",
      "[CV]  base_estimator__max_depth=4, learning_rate=0.75, n_estimators=200, score=0.9867274989630859, total= 2.5min\n",
      "[CV] base_estimator__max_depth=4, learning_rate=0.75, n_estimators=250 \n",
      "[CV]  base_estimator__max_depth=4, learning_rate=0.75, n_estimators=250, score=0.986738499792789, total= 3.2min\n",
      "[CV] base_estimator__max_depth=4, learning_rate=0.75, n_estimators=300 \n",
      "[CV]  base_estimator__max_depth=4, learning_rate=0.75, n_estimators=250, score=0.9888059701492538, total= 3.2min\n",
      "[CV] base_estimator__max_depth=4, learning_rate=0.75, n_estimators=300 \n",
      "[CV]  base_estimator__max_depth=4, learning_rate=0.75, n_estimators=250, score=0.9842389050186644, total= 3.1min\n",
      "[CV] base_estimator__max_depth=4, learning_rate=0.75, n_estimators=300 \n",
      "[CV]  base_estimator__max_depth=4, learning_rate=0.75, n_estimators=250, score=0.987557030277893, total= 3.2min\n",
      "[CV] base_estimator__max_depth=4, learning_rate=0.75, n_estimators=300 \n",
      "[CV]  base_estimator__max_depth=4, learning_rate=0.75, n_estimators=300, score=0.9842389050186644, total= 3.8min\n",
      "[CV] base_estimator__max_depth=4, learning_rate=0.75, n_estimators=400 \n",
      "[CV]  base_estimator__max_depth=4, learning_rate=0.75, n_estimators=300, score=0.9871422646204894, total= 3.8min\n",
      "[CV] base_estimator__max_depth=4, learning_rate=0.75, n_estimators=400 \n",
      "[CV]  base_estimator__max_depth=4, learning_rate=0.75, n_estimators=300, score=0.9838375466224617, total= 3.9min\n",
      "[CV] base_estimator__max_depth=4, learning_rate=0.75, n_estimators=400 \n",
      "[CV]  base_estimator__max_depth=4, learning_rate=0.75, n_estimators=300, score=0.9908789386401327, total= 3.9min\n",
      "[CV] base_estimator__max_depth=4, learning_rate=0.75, n_estimators=400 \n",
      "[CV]  base_estimator__max_depth=4, learning_rate=0.75, n_estimators=400, score=0.9912935323383084, total= 4.9min\n",
      "[CV] base_estimator__max_depth=4, learning_rate=1.0, n_estimators=1 ..\n",
      "[CV]  base_estimator__max_depth=4, learning_rate=1.0, n_estimators=1, score=0.9096560298383755, total=   0.7s\n",
      "[CV] base_estimator__max_depth=4, learning_rate=1.0, n_estimators=1 ..\n",
      "[CV]  base_estimator__max_depth=4, learning_rate=0.75, n_estimators=400, score=0.9863240779113137, total= 5.0min\n",
      "[CV] base_estimator__max_depth=4, learning_rate=1.0, n_estimators=1 ..\n",
      "[CV]  base_estimator__max_depth=4, learning_rate=1.0, n_estimators=1, score=0.9336650082918739, total=   0.8s\n",
      "[CV] base_estimator__max_depth=4, learning_rate=1.0, n_estimators=1 ..\n",
      "[CV]  base_estimator__max_depth=4, learning_rate=1.0, n_estimators=1, score=0.9265864786395687, total=   0.9s\n",
      "[CV] base_estimator__max_depth=4, learning_rate=1.0, n_estimators=10 .\n",
      "[CV]  base_estimator__max_depth=4, learning_rate=1.0, n_estimators=1, score=0.9340522604728329, total=   1.1s\n",
      "[CV] base_estimator__max_depth=4, learning_rate=1.0, n_estimators=10 .\n"
     ]
    },
    {
     "name": "stderr",
     "output_type": "stream",
     "text": [
      "[Parallel(n_jobs=-1)]: Done 442 tasks      | elapsed: 136.5min\n"
     ]
    },
    {
     "name": "stdout",
     "output_type": "stream",
     "text": [
      "[CV]  base_estimator__max_depth=4, learning_rate=0.75, n_estimators=400, score=0.9863127333056823, total= 5.1min\n",
      "[CV] base_estimator__max_depth=4, learning_rate=1.0, n_estimators=10 .\n",
      "[CV]  base_estimator__max_depth=4, learning_rate=1.0, n_estimators=10, score=0.9734769995855781, total=   7.4s\n",
      "[CV] base_estimator__max_depth=4, learning_rate=1.0, n_estimators=10 .\n",
      "[CV]  base_estimator__max_depth=4, learning_rate=1.0, n_estimators=10, score=0.9705638474295191, total=   7.3s\n",
      "[CV] base_estimator__max_depth=4, learning_rate=1.0, n_estimators=20 .\n",
      "[CV]  base_estimator__max_depth=4, learning_rate=0.75, n_estimators=400, score=0.990460389879718, total= 5.1min\n",
      "[CV] base_estimator__max_depth=4, learning_rate=1.0, n_estimators=20 .\n",
      "[CV]  base_estimator__max_depth=4, learning_rate=1.0, n_estimators=10, score=0.9688925756947325, total=   8.1s\n",
      "[CV] base_estimator__max_depth=4, learning_rate=1.0, n_estimators=20 .\n",
      "[CV]  base_estimator__max_depth=4, learning_rate=1.0, n_estimators=10, score=0.9688925756947325, total=   8.1s\n",
      "[CV] base_estimator__max_depth=4, learning_rate=1.0, n_estimators=20 .\n",
      "[CV]  base_estimator__max_depth=4, learning_rate=1.0, n_estimators=20, score=0.9738914214670534, total=  15.8s\n",
      "[CV] base_estimator__max_depth=4, learning_rate=1.0, n_estimators=50 .\n",
      "[CV]  base_estimator__max_depth=4, learning_rate=1.0, n_estimators=20, score=0.9755389718076285, total=  15.8s\n",
      "[CV] base_estimator__max_depth=4, learning_rate=1.0, n_estimators=50 .\n",
      "[CV]  base_estimator__max_depth=4, learning_rate=1.0, n_estimators=20, score=0.9746992948983824, total=  15.5s\n",
      "[CV] base_estimator__max_depth=4, learning_rate=1.0, n_estimators=50 .\n",
      "[CV]  base_estimator__max_depth=4, learning_rate=1.0, n_estimators=20, score=0.972210700953961, total=  15.3s\n",
      "[CV] base_estimator__max_depth=4, learning_rate=1.0, n_estimators=50 .\n",
      "[CV]  base_estimator__max_depth=4, learning_rate=1.0, n_estimators=50, score=0.9780356402818069, total=  39.0s\n",
      "[CV] base_estimator__max_depth=4, learning_rate=1.0, n_estimators=100 \n",
      "[CV]  base_estimator__max_depth=4, learning_rate=1.0, n_estimators=50, score=0.9830016583747927, total=  39.6s\n",
      "[CV] base_estimator__max_depth=4, learning_rate=1.0, n_estimators=100 \n",
      "[CV]  base_estimator__max_depth=4, learning_rate=1.0, n_estimators=50, score=0.9834093737038573, total=  39.2s\n",
      "[CV] base_estimator__max_depth=4, learning_rate=1.0, n_estimators=100 \n",
      "[CV]  base_estimator__max_depth=4, learning_rate=1.0, n_estimators=50, score=0.9813355454168395, total=  38.6s\n",
      "[CV] base_estimator__max_depth=4, learning_rate=1.0, n_estimators=100 \n",
      "[CV]  base_estimator__max_depth=4, learning_rate=1.0, n_estimators=100, score=0.9817654372150849, total= 1.3min\n",
      "[CV] base_estimator__max_depth=4, learning_rate=1.0, n_estimators=150 \n",
      "[CV]  base_estimator__max_depth=4, learning_rate=1.0, n_estimators=100, score=0.9859038142620232, total= 1.3min\n",
      "[CV] base_estimator__max_depth=4, learning_rate=1.0, n_estimators=150 \n",
      "[CV]  base_estimator__max_depth=4, learning_rate=1.0, n_estimators=100, score=0.9863127333056823, total= 1.3min\n",
      "[CV] base_estimator__max_depth=4, learning_rate=1.0, n_estimators=150 \n",
      "[CV]  base_estimator__max_depth=4, learning_rate=1.0, n_estimators=100, score=0.984653670676068, total= 1.3min\n",
      "[CV] base_estimator__max_depth=4, learning_rate=1.0, n_estimators=150 \n",
      "[CV]  base_estimator__max_depth=4, learning_rate=1.0, n_estimators=150, score=0.9792789059262329, total= 1.9min\n",
      "[CV] base_estimator__max_depth=4, learning_rate=1.0, n_estimators=200 \n",
      "[CV]  base_estimator__max_depth=4, learning_rate=1.0, n_estimators=150, score=0.9863127333056823, total= 1.9min\n",
      "[CV] base_estimator__max_depth=4, learning_rate=1.0, n_estimators=200 \n",
      "[CV]  base_estimator__max_depth=4, learning_rate=1.0, n_estimators=150, score=0.9871475953565506, total= 2.0min\n",
      "[CV] base_estimator__max_depth=4, learning_rate=1.0, n_estimators=200 \n",
      "[CV]  base_estimator__max_depth=4, learning_rate=1.0, n_estimators=150, score=0.9912899211945251, total= 1.9min\n",
      "[CV] base_estimator__max_depth=4, learning_rate=1.0, n_estimators=200 \n",
      "[CV]  base_estimator__max_depth=4, learning_rate=1.0, n_estimators=200, score=0.983008702859511, total= 2.6min\n",
      "[CV] base_estimator__max_depth=4, learning_rate=1.0, n_estimators=250 \n",
      "[CV]  base_estimator__max_depth=4, learning_rate=1.0, n_estimators=200, score=0.9859038142620232, total= 2.5min\n",
      "[CV] base_estimator__max_depth=4, learning_rate=1.0, n_estimators=250 \n",
      "[CV]  base_estimator__max_depth=4, learning_rate=1.0, n_estimators=200, score=0.987557030277893, total= 2.6min\n",
      "[CV] base_estimator__max_depth=4, learning_rate=1.0, n_estimators=250 \n",
      "[CV]  base_estimator__max_depth=4, learning_rate=1.0, n_estimators=200, score=0.9871422646204894, total= 2.6min\n",
      "[CV] base_estimator__max_depth=4, learning_rate=1.0, n_estimators=250 \n",
      "[CV]  base_estimator__max_depth=4, learning_rate=1.0, n_estimators=250, score=0.9825942809780357, total= 3.2min\n",
      "[CV] base_estimator__max_depth=4, learning_rate=1.0, n_estimators=300 \n",
      "[CV]  base_estimator__max_depth=4, learning_rate=1.0, n_estimators=250, score=0.9875621890547264, total= 3.2min\n",
      "[CV] base_estimator__max_depth=4, learning_rate=1.0, n_estimators=300 \n",
      "[CV]  base_estimator__max_depth=4, learning_rate=1.0, n_estimators=250, score=0.9871422646204894, total= 3.2min\n",
      "[CV] base_estimator__max_depth=4, learning_rate=1.0, n_estimators=300 \n",
      "[CV]  base_estimator__max_depth=4, learning_rate=1.0, n_estimators=250, score=0.9896308585649108, total= 3.3min\n",
      "[CV] base_estimator__max_depth=4, learning_rate=1.0, n_estimators=300 \n",
      "[CV]  base_estimator__max_depth=4, learning_rate=1.0, n_estimators=300, score=0.9817654372150849, total= 3.7min\n",
      "[CV] base_estimator__max_depth=4, learning_rate=1.0, n_estimators=400 \n"
     ]
    },
    {
     "name": "stderr",
     "output_type": "stream",
     "text": [
      "[Parallel(n_jobs=-1)]: Done 473 tasks      | elapsed: 150.3min\n"
     ]
    },
    {
     "name": "stdout",
     "output_type": "stream",
     "text": [
      "[CV]  base_estimator__max_depth=4, learning_rate=1.0, n_estimators=300, score=0.9904643449419569, total= 3.7min\n",
      "[CV] base_estimator__max_depth=4, learning_rate=1.0, n_estimators=400 \n",
      "[CV]  base_estimator__max_depth=4, learning_rate=1.0, n_estimators=300, score=0.9871422646204894, total= 3.8min\n",
      "[CV] base_estimator__max_depth=4, learning_rate=1.0, n_estimators=400 \n",
      "[CV]  base_estimator__max_depth=4, learning_rate=1.0, n_estimators=300, score=0.9921194525093322, total= 3.8min\n",
      "[CV] base_estimator__max_depth=4, learning_rate=1.0, n_estimators=400 \n",
      "[CV]  base_estimator__max_depth=4, learning_rate=1.0, n_estimators=400, score=0.9863240779113137, total= 5.0min\n",
      "[CV] base_estimator__max_depth=5, learning_rate=0.5, n_estimators=1 ..\n",
      "[CV]  base_estimator__max_depth=5, learning_rate=0.5, n_estimators=1, score=0.9386655615416494, total=   1.2s\n",
      "[CV] base_estimator__max_depth=5, learning_rate=0.5, n_estimators=1 ..\n",
      "[CV]  base_estimator__max_depth=5, learning_rate=0.5, n_estimators=1, score=0.9423714759535655, total=   1.1s\n",
      "[CV] base_estimator__max_depth=5, learning_rate=0.5, n_estimators=1 ..\n",
      "[CV]  base_estimator__max_depth=4, learning_rate=1.0, n_estimators=400, score=0.9917081260364843, total= 5.0min\n",
      "[CV] base_estimator__max_depth=5, learning_rate=0.5, n_estimators=1 ..\n",
      "[CV]  base_estimator__max_depth=5, learning_rate=0.5, n_estimators=1, score=0.9440066362505185, total=   1.3s\n",
      "[CV] base_estimator__max_depth=5, learning_rate=0.5, n_estimators=10 .\n",
      "[CV]  base_estimator__max_depth=5, learning_rate=0.5, n_estimators=1, score=0.944421401907922, total=   1.0s\n",
      "[CV] base_estimator__max_depth=5, learning_rate=0.5, n_estimators=10 .\n",
      "[CV]  base_estimator__max_depth=5, learning_rate=0.5, n_estimators=10, score=0.9651885619560713, total=   9.4s\n",
      "[CV] base_estimator__max_depth=5, learning_rate=0.5, n_estimators=10 .\n",
      "[CV]  base_estimator__max_depth=5, learning_rate=0.5, n_estimators=10, score=0.9672470978441128, total=   9.2s\n",
      "[CV] base_estimator__max_depth=5, learning_rate=0.5, n_estimators=10 .\n",
      "[CV]  base_estimator__max_depth=4, learning_rate=1.0, n_estimators=400, score=0.9879717959352966, total= 5.1min\n",
      "[CV] base_estimator__max_depth=5, learning_rate=0.5, n_estimators=20 .\n",
      "[CV]  base_estimator__max_depth=5, learning_rate=0.5, n_estimators=10, score=0.9622563251762754, total=   9.2s\n",
      "[CV] base_estimator__max_depth=5, learning_rate=0.5, n_estimators=20 .\n",
      "[CV]  base_estimator__max_depth=5, learning_rate=0.5, n_estimators=10, score=0.9796764827872252, total=   9.5s\n",
      "[CV] base_estimator__max_depth=5, learning_rate=0.5, n_estimators=20 .\n",
      "[CV]  base_estimator__max_depth=4, learning_rate=1.0, n_estimators=400, score=0.9921194525093322, total= 5.2min\n",
      "[CV] base_estimator__max_depth=5, learning_rate=0.5, n_estimators=20 .\n",
      "[CV]  base_estimator__max_depth=5, learning_rate=0.5, n_estimators=20, score=0.9701616245337754, total=  18.1s\n",
      "[CV] base_estimator__max_depth=5, learning_rate=0.5, n_estimators=50 .\n",
      "[CV]  base_estimator__max_depth=5, learning_rate=0.5, n_estimators=20, score=0.9730514096185738, total=  18.0s\n",
      "[CV] base_estimator__max_depth=5, learning_rate=0.5, n_estimators=50 .\n",
      "[CV]  base_estimator__max_depth=5, learning_rate=0.5, n_estimators=20, score=0.9701368726669432, total=  17.7s\n",
      "[CV] base_estimator__max_depth=5, learning_rate=0.5, n_estimators=50 .\n",
      "[CV]  base_estimator__max_depth=5, learning_rate=0.5, n_estimators=20, score=0.9842389050186644, total=  18.8s\n",
      "[CV] base_estimator__max_depth=5, learning_rate=0.5, n_estimators=50 .\n",
      "[CV]  base_estimator__max_depth=5, learning_rate=0.5, n_estimators=50, score=0.9784500621632822, total=  45.9s\n",
      "[CV] base_estimator__max_depth=5, learning_rate=0.5, n_estimators=100 \n",
      "[CV]  base_estimator__max_depth=5, learning_rate=0.5, n_estimators=50, score=0.9813432835820896, total=  45.1s\n",
      "[CV] base_estimator__max_depth=5, learning_rate=0.5, n_estimators=100 \n",
      "[CV]  base_estimator__max_depth=5, learning_rate=0.5, n_estimators=50, score=0.978017420157611, total=  45.2s\n",
      "[CV] base_estimator__max_depth=5, learning_rate=0.5, n_estimators=100 \n",
      "[CV]  base_estimator__max_depth=5, learning_rate=0.5, n_estimators=50, score=0.9825798423890502, total=  46.8s\n",
      "[CV] base_estimator__max_depth=5, learning_rate=0.5, n_estimators=100 \n",
      "[CV]  base_estimator__max_depth=5, learning_rate=0.5, n_estimators=100, score=0.984251968503937, total= 1.5min\n",
      "[CV] base_estimator__max_depth=5, learning_rate=0.5, n_estimators=150 \n",
      "[CV]  base_estimator__max_depth=5, learning_rate=0.5, n_estimators=100, score=0.986318407960199, total= 1.5min\n",
      "[CV] base_estimator__max_depth=5, learning_rate=0.5, n_estimators=150 \n",
      "[CV]  base_estimator__max_depth=5, learning_rate=0.5, n_estimators=100, score=0.9842389050186644, total= 1.5min\n",
      "[CV] base_estimator__max_depth=5, learning_rate=0.5, n_estimators=150 \n",
      "[CV]  base_estimator__max_depth=5, learning_rate=0.5, n_estimators=100, score=0.9850684363334716, total= 1.5min\n",
      "[CV] base_estimator__max_depth=5, learning_rate=0.5, n_estimators=150 \n",
      "[CV]  base_estimator__max_depth=5, learning_rate=0.5, n_estimators=150, score=0.9879767827529021, total= 2.2min\n",
      "[CV] base_estimator__max_depth=5, learning_rate=0.5, n_estimators=200 \n",
      "[CV]  base_estimator__max_depth=5, learning_rate=0.5, n_estimators=150, score=0.983008702859511, total= 2.2min\n",
      "[CV] base_estimator__max_depth=5, learning_rate=0.5, n_estimators=200 \n",
      "[CV]  base_estimator__max_depth=5, learning_rate=0.5, n_estimators=150, score=0.9842389050186644, total= 2.2min\n",
      "[CV] base_estimator__max_depth=5, learning_rate=0.5, n_estimators=200 \n",
      "[CV]  base_estimator__max_depth=5, learning_rate=0.5, n_estimators=150, score=0.9896308585649108, total= 2.3min\n",
      "[CV] base_estimator__max_depth=5, learning_rate=0.5, n_estimators=200 \n"
     ]
    },
    {
     "name": "stderr",
     "output_type": "stream",
     "text": [
      "[Parallel(n_jobs=-1)]: Done 504 tasks      | elapsed: 160.8min\n"
     ]
    },
    {
     "name": "stdout",
     "output_type": "stream",
     "text": [
      "[CV]  base_estimator__max_depth=5, learning_rate=0.5, n_estimators=200, score=0.987981765437215, total= 2.9min\n",
      "[CV] base_estimator__max_depth=5, learning_rate=0.5, n_estimators=250 \n",
      "[CV]  base_estimator__max_depth=5, learning_rate=0.5, n_estimators=200, score=0.9871422646204894, total= 2.9min\n",
      "[CV] base_estimator__max_depth=5, learning_rate=0.5, n_estimators=250 \n",
      "[CV]  base_estimator__max_depth=5, learning_rate=0.5, n_estimators=200, score=0.988391376451078, total= 2.9min\n",
      "[CV] base_estimator__max_depth=5, learning_rate=0.5, n_estimators=250 \n",
      "[CV]  base_estimator__max_depth=5, learning_rate=0.5, n_estimators=200, score=0.9900456242223143, total= 3.0min\n",
      "[CV] base_estimator__max_depth=5, learning_rate=0.5, n_estimators=250 \n",
      "[CV]  base_estimator__max_depth=5, learning_rate=0.5, n_estimators=250, score=0.9850808122668877, total= 3.7min\n",
      "[CV] base_estimator__max_depth=5, learning_rate=0.5, n_estimators=300 \n",
      "[CV]  base_estimator__max_depth=5, learning_rate=0.5, n_estimators=250, score=0.9896351575456053, total= 3.7min\n",
      "[CV] base_estimator__max_depth=5, learning_rate=0.5, n_estimators=300 \n",
      "[CV]  base_estimator__max_depth=5, learning_rate=0.5, n_estimators=250, score=0.9850684363334716, total= 3.8min\n",
      "[CV] base_estimator__max_depth=5, learning_rate=0.5, n_estimators=300 \n",
      "[CV]  base_estimator__max_depth=5, learning_rate=0.5, n_estimators=250, score=0.9879717959352966, total= 3.8min\n",
      "[CV] base_estimator__max_depth=5, learning_rate=0.5, n_estimators=300 \n",
      "[CV]  base_estimator__max_depth=5, learning_rate=0.5, n_estimators=300, score=0.9904643449419569, total= 4.4min\n",
      "[CV] base_estimator__max_depth=5, learning_rate=0.5, n_estimators=400 \n",
      "[CV]  base_estimator__max_depth=5, learning_rate=0.5, n_estimators=300, score=0.9846663903854124, total= 4.4min\n",
      "[CV] base_estimator__max_depth=5, learning_rate=0.5, n_estimators=400 \n",
      "[CV]  base_estimator__max_depth=5, learning_rate=0.5, n_estimators=300, score=0.9867274989630859, total= 4.5min\n",
      "[CV] base_estimator__max_depth=5, learning_rate=0.5, n_estimators=400 \n",
      "[CV]  base_estimator__max_depth=5, learning_rate=0.5, n_estimators=300, score=0.990460389879718, total= 4.5min\n",
      "[CV] base_estimator__max_depth=5, learning_rate=0.5, n_estimators=400 \n",
      "[CV]  base_estimator__max_depth=5, learning_rate=0.5, n_estimators=400, score=0.9896351575456053, total= 5.7min\n",
      "[CV] base_estimator__max_depth=5, learning_rate=0.75, n_estimators=1 .\n",
      "[CV]  base_estimator__max_depth=5, learning_rate=0.5, n_estimators=400, score=0.9863240779113137, total= 5.7min\n",
      "[CV] base_estimator__max_depth=5, learning_rate=0.75, n_estimators=1 .\n",
      "[CV]  base_estimator__max_depth=5, learning_rate=0.75, n_estimators=1, score=0.9386655615416494, total=   1.1s\n",
      "[CV] base_estimator__max_depth=5, learning_rate=0.75, n_estimators=1 .\n",
      "[CV]  base_estimator__max_depth=5, learning_rate=0.75, n_estimators=1, score=0.9419568822553898, total=   0.9s\n",
      "[CV] base_estimator__max_depth=5, learning_rate=0.75, n_estimators=1 .\n",
      "[CV]  base_estimator__max_depth=5, learning_rate=0.75, n_estimators=1, score=0.9440066362505185, total=   1.2s\n",
      "[CV] base_estimator__max_depth=5, learning_rate=0.75, n_estimators=10 \n",
      "[CV]  base_estimator__max_depth=5, learning_rate=0.75, n_estimators=1, score=0.944421401907922, total=   0.9s\n",
      "[CV] base_estimator__max_depth=5, learning_rate=0.75, n_estimators=10 \n",
      "[CV]  base_estimator__max_depth=5, learning_rate=0.75, n_estimators=10, score=0.966017405719022, total=   9.1s\n",
      "[CV] base_estimator__max_depth=5, learning_rate=0.75, n_estimators=10 \n",
      "[CV]  base_estimator__max_depth=5, learning_rate=0.75, n_estimators=10, score=0.9701492537313433, total=   8.9s\n",
      "[CV] base_estimator__max_depth=5, learning_rate=0.75, n_estimators=10 \n",
      "[CV]  base_estimator__max_depth=5, learning_rate=0.5, n_estimators=400, score=0.9867274989630859, total= 5.8min\n",
      "[CV] base_estimator__max_depth=5, learning_rate=0.75, n_estimators=20 \n",
      "[CV]  base_estimator__max_depth=5, learning_rate=0.75, n_estimators=10, score=0.9684778100373289, total=   8.8s\n",
      "[CV] base_estimator__max_depth=5, learning_rate=0.75, n_estimators=20 \n",
      "[CV]  base_estimator__max_depth=5, learning_rate=0.75, n_estimators=10, score=0.9676482787225218, total=   8.9s\n",
      "[CV] base_estimator__max_depth=5, learning_rate=0.75, n_estimators=20 \n",
      "[CV]  base_estimator__max_depth=5, learning_rate=0.75, n_estimators=20, score=0.967260671363448, total=  17.7s\n",
      "[CV] base_estimator__max_depth=5, learning_rate=0.75, n_estimators=20 \n",
      "[CV]  base_estimator__max_depth=5, learning_rate=0.75, n_estimators=20, score=0.9742951907131011, total=  17.1s\n",
      "[CV] base_estimator__max_depth=5, learning_rate=0.75, n_estimators=50 \n",
      "[CV]  base_estimator__max_depth=5, learning_rate=0.75, n_estimators=20, score=0.9713811696391539, total=  17.0s\n",
      "[CV] base_estimator__max_depth=5, learning_rate=0.75, n_estimators=50 \n",
      "[CV]  base_estimator__max_depth=5, learning_rate=0.5, n_estimators=400, score=0.990460389879718, total= 5.9min\n",
      "[CV] base_estimator__max_depth=5, learning_rate=0.75, n_estimators=50 \n",
      "[CV]  base_estimator__max_depth=5, learning_rate=0.75, n_estimators=20, score=0.9705516383243468, total=  17.7s\n",
      "[CV] base_estimator__max_depth=5, learning_rate=0.75, n_estimators=50 \n",
      "[CV]  base_estimator__max_depth=5, learning_rate=0.75, n_estimators=50, score=0.9801077496891836, total=  43.1s\n",
      "[CV] base_estimator__max_depth=5, learning_rate=0.75, n_estimators=100 \n",
      "[CV]  base_estimator__max_depth=5, learning_rate=0.75, n_estimators=50, score=0.9846600331674958, total=  43.0s\n",
      "[CV] base_estimator__max_depth=5, learning_rate=0.75, n_estimators=100 \n",
      "[CV]  base_estimator__max_depth=5, learning_rate=0.75, n_estimators=50, score=0.9796764827872252, total=  44.2s\n",
      "[CV] base_estimator__max_depth=5, learning_rate=0.75, n_estimators=100 \n",
      "[CV]  base_estimator__max_depth=5, learning_rate=0.75, n_estimators=50, score=0.9829946080464538, total=  43.4s\n",
      "[CV] base_estimator__max_depth=5, learning_rate=0.75, n_estimators=100 \n",
      "[CV]  base_estimator__max_depth=5, learning_rate=0.75, n_estimators=100, score=0.9838375466224617, total= 1.4min\n",
      "[CV] base_estimator__max_depth=5, learning_rate=0.75, n_estimators=150 \n"
     ]
    },
    {
     "name": "stderr",
     "output_type": "stream",
     "text": [
      "[Parallel(n_jobs=-1)]: Done 537 tasks      | elapsed: 180.2min\n"
     ]
    },
    {
     "name": "stdout",
     "output_type": "stream",
     "text": [
      "[CV]  base_estimator__max_depth=5, learning_rate=0.75, n_estimators=100, score=0.9871475953565506, total= 1.4min\n",
      "[CV] base_estimator__max_depth=5, learning_rate=0.75, n_estimators=150 \n",
      "[CV]  base_estimator__max_depth=5, learning_rate=0.75, n_estimators=100, score=0.981750311074243, total= 1.4min\n",
      "[CV] base_estimator__max_depth=5, learning_rate=0.75, n_estimators=150 \n",
      "[CV]  base_estimator__max_depth=5, learning_rate=0.75, n_estimators=100, score=0.9854832019908751, total= 1.4min\n",
      "[CV] base_estimator__max_depth=5, learning_rate=0.75, n_estimators=150 \n",
      "[CV]  base_estimator__max_depth=5, learning_rate=0.75, n_estimators=150, score=0.9846663903854124, total= 2.1min\n",
      "[CV] base_estimator__max_depth=5, learning_rate=0.75, n_estimators=200 \n",
      "[CV]  base_estimator__max_depth=5, learning_rate=0.75, n_estimators=150, score=0.9908789386401327, total= 2.2min\n",
      "[CV] base_estimator__max_depth=5, learning_rate=0.75, n_estimators=200 \n",
      "[CV]  base_estimator__max_depth=5, learning_rate=0.75, n_estimators=150, score=0.9838241393612609, total= 2.2min\n",
      "[CV] base_estimator__max_depth=5, learning_rate=0.75, n_estimators=200 \n",
      "[CV]  base_estimator__max_depth=5, learning_rate=0.75, n_estimators=150, score=0.9912899211945251, total= 2.2min\n",
      "[CV] base_estimator__max_depth=5, learning_rate=0.75, n_estimators=200 \n",
      "[CV]  base_estimator__max_depth=5, learning_rate=0.75, n_estimators=200, score=0.9863240779113137, total= 2.9min\n",
      "[CV] base_estimator__max_depth=5, learning_rate=0.75, n_estimators=250 \n",
      "[CV]  base_estimator__max_depth=5, learning_rate=0.75, n_estimators=200, score=0.9900497512437811, total= 2.9min\n",
      "[CV] base_estimator__max_depth=5, learning_rate=0.75, n_estimators=250 \n",
      "[CV]  base_estimator__max_depth=5, learning_rate=0.75, n_estimators=200, score=0.9867274989630859, total= 3.0min\n",
      "[CV] base_estimator__max_depth=5, learning_rate=0.75, n_estimators=250 \n",
      "[CV]  base_estimator__max_depth=5, learning_rate=0.75, n_estimators=200, score=0.9888013272501037, total= 2.9min\n",
      "[CV] base_estimator__max_depth=5, learning_rate=0.75, n_estimators=250 \n",
      "[CV]  base_estimator__max_depth=5, learning_rate=0.75, n_estimators=250, score=0.9863240779113137, total= 3.6min\n",
      "[CV] base_estimator__max_depth=5, learning_rate=0.75, n_estimators=300 \n",
      "[CV]  base_estimator__max_depth=5, learning_rate=0.75, n_estimators=250, score=0.9896351575456053, total= 3.6min\n",
      "[CV] base_estimator__max_depth=5, learning_rate=0.75, n_estimators=300 \n",
      "[CV]  base_estimator__max_depth=5, learning_rate=0.75, n_estimators=250, score=0.9867274989630859, total= 3.7min\n",
      "[CV] base_estimator__max_depth=5, learning_rate=0.75, n_estimators=300 \n",
      "[CV]  base_estimator__max_depth=5, learning_rate=0.75, n_estimators=250, score=0.9900456242223143, total= 3.7min\n",
      "[CV] base_estimator__max_depth=5, learning_rate=0.75, n_estimators=300 \n",
      "[CV]  base_estimator__max_depth=5, learning_rate=0.75, n_estimators=300, score=0.9863240779113137, total= 4.3min\n",
      "[CV] base_estimator__max_depth=5, learning_rate=0.75, n_estimators=400 \n",
      "[CV]  base_estimator__max_depth=5, learning_rate=0.75, n_estimators=300, score=0.9908789386401327, total= 4.3min\n",
      "[CV] base_estimator__max_depth=5, learning_rate=0.75, n_estimators=400 \n",
      "[CV]  base_estimator__max_depth=5, learning_rate=0.75, n_estimators=300, score=0.9896308585649108, total= 4.4min\n",
      "[CV] base_estimator__max_depth=5, learning_rate=0.75, n_estimators=400 \n",
      "[CV]  base_estimator__max_depth=5, learning_rate=0.75, n_estimators=300, score=0.987557030277893, total= 4.5min\n",
      "[CV] base_estimator__max_depth=5, learning_rate=0.75, n_estimators=400 \n",
      "[CV]  base_estimator__max_depth=5, learning_rate=0.75, n_estimators=400, score=0.986738499792789, total= 5.7min\n",
      "[CV] base_estimator__max_depth=5, learning_rate=1.0, n_estimators=1 ..\n",
      "[CV]  base_estimator__max_depth=5, learning_rate=1.0, n_estimators=1, score=0.9365934521342727, total=   0.8s\n",
      "[CV] base_estimator__max_depth=5, learning_rate=1.0, n_estimators=1 ..\n",
      "[CV]  base_estimator__max_depth=5, learning_rate=1.0, n_estimators=1, score=0.943200663349917, total=   1.0s\n",
      "[CV] base_estimator__max_depth=5, learning_rate=1.0, n_estimators=1 ..\n",
      "[CV]  base_estimator__max_depth=5, learning_rate=1.0, n_estimators=1, score=0.9440066362505185, total=   1.0s\n",
      "[CV] base_estimator__max_depth=5, learning_rate=1.0, n_estimators=1 ..\n",
      "[CV]  base_estimator__max_depth=5, learning_rate=1.0, n_estimators=1, score=0.944421401907922, total=   1.0s\n",
      "[CV] base_estimator__max_depth=5, learning_rate=1.0, n_estimators=10 .\n",
      "[CV]  base_estimator__max_depth=5, learning_rate=0.75, n_estimators=400, score=0.9900497512437811, total= 5.7min\n",
      "[CV] base_estimator__max_depth=5, learning_rate=1.0, n_estimators=10 .\n",
      "[CV]  base_estimator__max_depth=5, learning_rate=1.0, n_estimators=10, score=0.9606299212598425, total=   9.0s\n",
      "[CV] base_estimator__max_depth=5, learning_rate=1.0, n_estimators=10 .\n",
      "[CV]  base_estimator__max_depth=5, learning_rate=1.0, n_estimators=10, score=0.9676616915422885, total=   8.8s\n",
      "[CV] base_estimator__max_depth=5, learning_rate=1.0, n_estimators=10 .\n",
      "[CV]  base_estimator__max_depth=5, learning_rate=1.0, n_estimators=10, score=0.9676482787225218, total=   8.2s\n",
      "[CV] base_estimator__max_depth=5, learning_rate=1.0, n_estimators=20 .\n",
      "[CV]  base_estimator__max_depth=5, learning_rate=1.0, n_estimators=10, score=0.9688925756947325, total=   8.4s\n",
      "[CV] base_estimator__max_depth=5, learning_rate=1.0, n_estimators=20 .\n",
      "[CV]  base_estimator__max_depth=5, learning_rate=0.75, n_estimators=400, score=0.9858979676482788, total= 5.8min\n",
      "[CV] base_estimator__max_depth=5, learning_rate=1.0, n_estimators=20 .\n",
      "[CV]  base_estimator__max_depth=5, learning_rate=0.75, n_estimators=400, score=0.9900456242223143, total= 5.8min\n",
      "[CV] base_estimator__max_depth=5, learning_rate=1.0, n_estimators=20 .\n",
      "[CV]  base_estimator__max_depth=5, learning_rate=1.0, n_estimators=20, score=0.9701616245337754, total=  17.4s\n",
      "[CV] base_estimator__max_depth=5, learning_rate=1.0, n_estimators=50 .\n",
      "[CV]  base_estimator__max_depth=5, learning_rate=1.0, n_estimators=20, score=0.9701492537313433, total=  17.6s\n",
      "[CV] base_estimator__max_depth=5, learning_rate=1.0, n_estimators=50 .\n"
     ]
    },
    {
     "name": "stderr",
     "output_type": "stream",
     "text": [
      "[Parallel(n_jobs=-1)]: Done 570 tasks      | elapsed: 199.6min\n"
     ]
    },
    {
     "name": "stdout",
     "output_type": "stream",
     "text": [
      "[CV]  base_estimator__max_depth=5, learning_rate=1.0, n_estimators=20, score=0.9701368726669432, total=  17.6s\n",
      "[CV] base_estimator__max_depth=5, learning_rate=1.0, n_estimators=50 .\n",
      "[CV]  base_estimator__max_depth=5, learning_rate=1.0, n_estimators=20, score=0.9684778100373289, total=  17.7s\n",
      "[CV] base_estimator__max_depth=5, learning_rate=1.0, n_estimators=50 .\n",
      "[CV]  base_estimator__max_depth=5, learning_rate=1.0, n_estimators=50, score=0.9821798590965602, total=  43.3s\n",
      "[CV] base_estimator__max_depth=5, learning_rate=1.0, n_estimators=100 \n",
      "[CV]  base_estimator__max_depth=5, learning_rate=1.0, n_estimators=50, score=0.9805140961857379, total=  42.7s\n",
      "[CV] base_estimator__max_depth=5, learning_rate=1.0, n_estimators=100 \n",
      "[CV]  base_estimator__max_depth=5, learning_rate=1.0, n_estimators=50, score=0.9738697635835752, total=  43.8s\n",
      "[CV] base_estimator__max_depth=5, learning_rate=1.0, n_estimators=100 \n",
      "[CV]  base_estimator__max_depth=5, learning_rate=1.0, n_estimators=50, score=0.9805060141020323, total=  44.1s\n",
      "[CV] base_estimator__max_depth=5, learning_rate=1.0, n_estimators=100 \n",
      "[CV]  base_estimator__max_depth=5, learning_rate=1.0, n_estimators=100, score=0.9809365934521342, total= 1.5min\n",
      "[CV] base_estimator__max_depth=5, learning_rate=1.0, n_estimators=150 \n",
      "[CV]  base_estimator__max_depth=5, learning_rate=1.0, n_estimators=100, score=0.9850746268656716, total= 1.5min\n",
      "[CV] base_estimator__max_depth=5, learning_rate=1.0, n_estimators=150 \n",
      "[CV]  base_estimator__max_depth=5, learning_rate=1.0, n_estimators=100, score=0.9838241393612609, total= 1.5min\n",
      "[CV] base_estimator__max_depth=5, learning_rate=1.0, n_estimators=150 \n",
      "[CV]  base_estimator__max_depth=5, learning_rate=1.0, n_estimators=100, score=0.9879717959352966, total= 1.5min\n",
      "[CV] base_estimator__max_depth=5, learning_rate=1.0, n_estimators=150 \n",
      "[CV]  base_estimator__max_depth=5, learning_rate=1.0, n_estimators=150, score=0.9867330016583747, total= 2.2min\n",
      "[CV] base_estimator__max_depth=5, learning_rate=1.0, n_estimators=200 \n",
      "[CV]  base_estimator__max_depth=5, learning_rate=1.0, n_estimators=150, score=0.983008702859511, total= 2.2min\n",
      "[CV] base_estimator__max_depth=5, learning_rate=1.0, n_estimators=200 \n",
      "[CV]  base_estimator__max_depth=5, learning_rate=1.0, n_estimators=150, score=0.9834093737038573, total= 2.2min\n",
      "[CV] base_estimator__max_depth=5, learning_rate=1.0, n_estimators=200 \n",
      "[CV]  base_estimator__max_depth=5, learning_rate=1.0, n_estimators=150, score=0.9896308585649108, total= 2.3min\n",
      "[CV] base_estimator__max_depth=5, learning_rate=1.0, n_estimators=200 \n",
      "[CV]  base_estimator__max_depth=5, learning_rate=1.0, n_estimators=200, score=0.9834231247409864, total= 2.8min\n",
      "[CV] base_estimator__max_depth=5, learning_rate=1.0, n_estimators=250 \n",
      "[CV]  base_estimator__max_depth=5, learning_rate=1.0, n_estimators=200, score=0.9888059701492538, total= 2.8min\n",
      "[CV] base_estimator__max_depth=5, learning_rate=1.0, n_estimators=250 \n",
      "[CV]  base_estimator__max_depth=5, learning_rate=1.0, n_estimators=200, score=0.9825798423890502, total= 2.9min\n",
      "[CV] base_estimator__max_depth=5, learning_rate=1.0, n_estimators=250 \n",
      "[CV]  base_estimator__max_depth=5, learning_rate=1.0, n_estimators=200, score=0.9888013272501037, total= 2.9min\n",
      "[CV] base_estimator__max_depth=5, learning_rate=1.0, n_estimators=250 \n",
      "[CV]  base_estimator__max_depth=5, learning_rate=1.0, n_estimators=250, score=0.986738499792789, total= 3.6min\n",
      "[CV] base_estimator__max_depth=5, learning_rate=1.0, n_estimators=300 \n",
      "[CV]  base_estimator__max_depth=5, learning_rate=1.0, n_estimators=250, score=0.988391376451078, total= 3.6min\n",
      "[CV] base_estimator__max_depth=5, learning_rate=1.0, n_estimators=300 \n",
      "[CV]  base_estimator__max_depth=5, learning_rate=1.0, n_estimators=250, score=0.987557030277893, total= 3.7min\n",
      "[CV] base_estimator__max_depth=5, learning_rate=1.0, n_estimators=300 \n",
      "[CV]  base_estimator__max_depth=5, learning_rate=1.0, n_estimators=250, score=0.9908751555371216, total= 3.7min\n",
      "[CV] base_estimator__max_depth=5, learning_rate=1.0, n_estimators=300 \n",
      "[CV]  base_estimator__max_depth=5, learning_rate=1.0, n_estimators=300, score=0.9892205638474295, total= 4.2min\n",
      "[CV] base_estimator__max_depth=5, learning_rate=1.0, n_estimators=400 \n",
      "[CV]  base_estimator__max_depth=5, learning_rate=1.0, n_estimators=300, score=0.9859096560298384, total= 4.3min\n",
      "[CV] base_estimator__max_depth=5, learning_rate=1.0, n_estimators=400 \n",
      "[CV]  base_estimator__max_depth=5, learning_rate=1.0, n_estimators=300, score=0.9883865615927001, total= 4.3min\n",
      "[CV] base_estimator__max_depth=5, learning_rate=1.0, n_estimators=400 \n",
      "[CV]  base_estimator__max_depth=5, learning_rate=1.0, n_estimators=300, score=0.9858979676482788, total= 4.4min\n",
      "[CV] base_estimator__max_depth=5, learning_rate=1.0, n_estimators=400 \n",
      "[CV]  base_estimator__max_depth=5, learning_rate=1.0, n_estimators=400, score=0.9917081260364843, total= 5.6min\n",
      "[CV]  base_estimator__max_depth=5, learning_rate=1.0, n_estimators=400, score=0.986738499792789, total= 5.6min\n",
      "[CV]  base_estimator__max_depth=5, learning_rate=1.0, n_estimators=400, score=0.984653670676068, total= 5.6min\n",
      "[CV]  base_estimator__max_depth=5, learning_rate=1.0, n_estimators=400, score=0.9912899211945251, total= 5.5min\n"
     ]
    },
    {
     "name": "stderr",
     "output_type": "stream",
     "text": [
      "[Parallel(n_jobs=-1)]: Done 600 out of 600 | elapsed: 221.0min finished\n"
     ]
    },
    {
     "data": {
      "text/plain": [
       "GridSearchCV(cv=4, error_score='raise',\n",
       "       estimator=AdaBoostClassifier(algorithm='SAMME.R',\n",
       "          base_estimator=DecisionTreeClassifier(class_weight=None, criterion='gini', max_depth=None,\n",
       "            max_features=None, max_leaf_nodes=None,\n",
       "            min_impurity_decrease=0.0, min_impurity_split=None,\n",
       "            min_samples_leaf=1, min_samples_split=2,\n",
       "            min_weight_fraction_leaf=0.0, presort=False, random_state=None,\n",
       "            splitter='best'),\n",
       "          learning_rate=1.0, n_estimators=50, random_state=None),\n",
       "       fit_params=None, iid=True, n_jobs=-1,\n",
       "       param_grid={'n_estimators': [1, 10, 20, 50, 100, 150, 200, 250, 300, 400], 'base_estimator__max_depth': range(1, 6), 'learning_rate': [0.5, 0.75, 1.0]},\n",
       "       pre_dispatch='2*n_jobs', refit=True, return_train_score=True,\n",
       "       scoring='accuracy', verbose=10)"
      ]
     },
     "execution_count": 8,
     "metadata": {},
     "output_type": "execute_result"
    }
   ],
   "source": [
    "grid_search.fit(X_train_scaled, y_train)"
   ]
  },
  {
   "cell_type": "code",
   "execution_count": 9,
   "metadata": {},
   "outputs": [],
   "source": [
    "save_search_result(grid_search, 'MNIST', 'BB')"
   ]
  },
  {
   "cell_type": "code",
   "execution_count": 10,
   "metadata": {},
   "outputs": [
    {
     "data": {
      "text/plain": [
       "{'base_estimator__max_depth': 4, 'learning_rate': 1.0, 'n_estimators': 400}"
      ]
     },
     "execution_count": 10,
     "metadata": {},
     "output_type": "execute_result"
    }
   ],
   "source": [
    "grid_search.best_params_"
   ]
  },
  {
   "cell_type": "code",
   "execution_count": 11,
   "metadata": {},
   "outputs": [
    {
     "data": {
      "text/plain": [
       "[{'base_estimator__max_depth': 1, 'learning_rate': 0.5, 'n_estimators': 1},\n",
       " {'base_estimator__max_depth': 1, 'learning_rate': 0.5, 'n_estimators': 10},\n",
       " {'base_estimator__max_depth': 1, 'learning_rate': 0.5, 'n_estimators': 20},\n",
       " {'base_estimator__max_depth': 1, 'learning_rate': 0.5, 'n_estimators': 50},\n",
       " {'base_estimator__max_depth': 1, 'learning_rate': 0.5, 'n_estimators': 100},\n",
       " {'base_estimator__max_depth': 1, 'learning_rate': 0.5, 'n_estimators': 150},\n",
       " {'base_estimator__max_depth': 1, 'learning_rate': 0.5, 'n_estimators': 200},\n",
       " {'base_estimator__max_depth': 1, 'learning_rate': 0.5, 'n_estimators': 250},\n",
       " {'base_estimator__max_depth': 1, 'learning_rate': 0.5, 'n_estimators': 300},\n",
       " {'base_estimator__max_depth': 1, 'learning_rate': 0.5, 'n_estimators': 400},\n",
       " {'base_estimator__max_depth': 1, 'learning_rate': 0.75, 'n_estimators': 1},\n",
       " {'base_estimator__max_depth': 1, 'learning_rate': 0.75, 'n_estimators': 10},\n",
       " {'base_estimator__max_depth': 1, 'learning_rate': 0.75, 'n_estimators': 20},\n",
       " {'base_estimator__max_depth': 1, 'learning_rate': 0.75, 'n_estimators': 50},\n",
       " {'base_estimator__max_depth': 1, 'learning_rate': 0.75, 'n_estimators': 100},\n",
       " {'base_estimator__max_depth': 1, 'learning_rate': 0.75, 'n_estimators': 150},\n",
       " {'base_estimator__max_depth': 1, 'learning_rate': 0.75, 'n_estimators': 200},\n",
       " {'base_estimator__max_depth': 1, 'learning_rate': 0.75, 'n_estimators': 250},\n",
       " {'base_estimator__max_depth': 1, 'learning_rate': 0.75, 'n_estimators': 300},\n",
       " {'base_estimator__max_depth': 1, 'learning_rate': 0.75, 'n_estimators': 400},\n",
       " {'base_estimator__max_depth': 1, 'learning_rate': 1.0, 'n_estimators': 1},\n",
       " {'base_estimator__max_depth': 1, 'learning_rate': 1.0, 'n_estimators': 10},\n",
       " {'base_estimator__max_depth': 1, 'learning_rate': 1.0, 'n_estimators': 20},\n",
       " {'base_estimator__max_depth': 1, 'learning_rate': 1.0, 'n_estimators': 50},\n",
       " {'base_estimator__max_depth': 1, 'learning_rate': 1.0, 'n_estimators': 100},\n",
       " {'base_estimator__max_depth': 1, 'learning_rate': 1.0, 'n_estimators': 150},\n",
       " {'base_estimator__max_depth': 1, 'learning_rate': 1.0, 'n_estimators': 200},\n",
       " {'base_estimator__max_depth': 1, 'learning_rate': 1.0, 'n_estimators': 250},\n",
       " {'base_estimator__max_depth': 1, 'learning_rate': 1.0, 'n_estimators': 300},\n",
       " {'base_estimator__max_depth': 1, 'learning_rate': 1.0, 'n_estimators': 400},\n",
       " {'base_estimator__max_depth': 2, 'learning_rate': 0.5, 'n_estimators': 1},\n",
       " {'base_estimator__max_depth': 2, 'learning_rate': 0.5, 'n_estimators': 10},\n",
       " {'base_estimator__max_depth': 2, 'learning_rate': 0.5, 'n_estimators': 20},\n",
       " {'base_estimator__max_depth': 2, 'learning_rate': 0.5, 'n_estimators': 50},\n",
       " {'base_estimator__max_depth': 2, 'learning_rate': 0.5, 'n_estimators': 100},\n",
       " {'base_estimator__max_depth': 2, 'learning_rate': 0.5, 'n_estimators': 150},\n",
       " {'base_estimator__max_depth': 2, 'learning_rate': 0.5, 'n_estimators': 200},\n",
       " {'base_estimator__max_depth': 2, 'learning_rate': 0.5, 'n_estimators': 250},\n",
       " {'base_estimator__max_depth': 2, 'learning_rate': 0.5, 'n_estimators': 300},\n",
       " {'base_estimator__max_depth': 2, 'learning_rate': 0.5, 'n_estimators': 400},\n",
       " {'base_estimator__max_depth': 2, 'learning_rate': 0.75, 'n_estimators': 1},\n",
       " {'base_estimator__max_depth': 2, 'learning_rate': 0.75, 'n_estimators': 10},\n",
       " {'base_estimator__max_depth': 2, 'learning_rate': 0.75, 'n_estimators': 20},\n",
       " {'base_estimator__max_depth': 2, 'learning_rate': 0.75, 'n_estimators': 50},\n",
       " {'base_estimator__max_depth': 2, 'learning_rate': 0.75, 'n_estimators': 100},\n",
       " {'base_estimator__max_depth': 2, 'learning_rate': 0.75, 'n_estimators': 150},\n",
       " {'base_estimator__max_depth': 2, 'learning_rate': 0.75, 'n_estimators': 200},\n",
       " {'base_estimator__max_depth': 2, 'learning_rate': 0.75, 'n_estimators': 250},\n",
       " {'base_estimator__max_depth': 2, 'learning_rate': 0.75, 'n_estimators': 300},\n",
       " {'base_estimator__max_depth': 2, 'learning_rate': 0.75, 'n_estimators': 400},\n",
       " {'base_estimator__max_depth': 2, 'learning_rate': 1.0, 'n_estimators': 1},\n",
       " {'base_estimator__max_depth': 2, 'learning_rate': 1.0, 'n_estimators': 10},\n",
       " {'base_estimator__max_depth': 2, 'learning_rate': 1.0, 'n_estimators': 20},\n",
       " {'base_estimator__max_depth': 2, 'learning_rate': 1.0, 'n_estimators': 50},\n",
       " {'base_estimator__max_depth': 2, 'learning_rate': 1.0, 'n_estimators': 100},\n",
       " {'base_estimator__max_depth': 2, 'learning_rate': 1.0, 'n_estimators': 150},\n",
       " {'base_estimator__max_depth': 2, 'learning_rate': 1.0, 'n_estimators': 200},\n",
       " {'base_estimator__max_depth': 2, 'learning_rate': 1.0, 'n_estimators': 250},\n",
       " {'base_estimator__max_depth': 2, 'learning_rate': 1.0, 'n_estimators': 300},\n",
       " {'base_estimator__max_depth': 2, 'learning_rate': 1.0, 'n_estimators': 400},\n",
       " {'base_estimator__max_depth': 3, 'learning_rate': 0.5, 'n_estimators': 1},\n",
       " {'base_estimator__max_depth': 3, 'learning_rate': 0.5, 'n_estimators': 10},\n",
       " {'base_estimator__max_depth': 3, 'learning_rate': 0.5, 'n_estimators': 20},\n",
       " {'base_estimator__max_depth': 3, 'learning_rate': 0.5, 'n_estimators': 50},\n",
       " {'base_estimator__max_depth': 3, 'learning_rate': 0.5, 'n_estimators': 100},\n",
       " {'base_estimator__max_depth': 3, 'learning_rate': 0.5, 'n_estimators': 150},\n",
       " {'base_estimator__max_depth': 3, 'learning_rate': 0.5, 'n_estimators': 200},\n",
       " {'base_estimator__max_depth': 3, 'learning_rate': 0.5, 'n_estimators': 250},\n",
       " {'base_estimator__max_depth': 3, 'learning_rate': 0.5, 'n_estimators': 300},\n",
       " {'base_estimator__max_depth': 3, 'learning_rate': 0.5, 'n_estimators': 400},\n",
       " {'base_estimator__max_depth': 3, 'learning_rate': 0.75, 'n_estimators': 1},\n",
       " {'base_estimator__max_depth': 3, 'learning_rate': 0.75, 'n_estimators': 10},\n",
       " {'base_estimator__max_depth': 3, 'learning_rate': 0.75, 'n_estimators': 20},\n",
       " {'base_estimator__max_depth': 3, 'learning_rate': 0.75, 'n_estimators': 50},\n",
       " {'base_estimator__max_depth': 3, 'learning_rate': 0.75, 'n_estimators': 100},\n",
       " {'base_estimator__max_depth': 3, 'learning_rate': 0.75, 'n_estimators': 150},\n",
       " {'base_estimator__max_depth': 3, 'learning_rate': 0.75, 'n_estimators': 200},\n",
       " {'base_estimator__max_depth': 3, 'learning_rate': 0.75, 'n_estimators': 250},\n",
       " {'base_estimator__max_depth': 3, 'learning_rate': 0.75, 'n_estimators': 300},\n",
       " {'base_estimator__max_depth': 3, 'learning_rate': 0.75, 'n_estimators': 400},\n",
       " {'base_estimator__max_depth': 3, 'learning_rate': 1.0, 'n_estimators': 1},\n",
       " {'base_estimator__max_depth': 3, 'learning_rate': 1.0, 'n_estimators': 10},\n",
       " {'base_estimator__max_depth': 3, 'learning_rate': 1.0, 'n_estimators': 20},\n",
       " {'base_estimator__max_depth': 3, 'learning_rate': 1.0, 'n_estimators': 50},\n",
       " {'base_estimator__max_depth': 3, 'learning_rate': 1.0, 'n_estimators': 100},\n",
       " {'base_estimator__max_depth': 3, 'learning_rate': 1.0, 'n_estimators': 150},\n",
       " {'base_estimator__max_depth': 3, 'learning_rate': 1.0, 'n_estimators': 200},\n",
       " {'base_estimator__max_depth': 3, 'learning_rate': 1.0, 'n_estimators': 250},\n",
       " {'base_estimator__max_depth': 3, 'learning_rate': 1.0, 'n_estimators': 300},\n",
       " {'base_estimator__max_depth': 3, 'learning_rate': 1.0, 'n_estimators': 400},\n",
       " {'base_estimator__max_depth': 4, 'learning_rate': 0.5, 'n_estimators': 1},\n",
       " {'base_estimator__max_depth': 4, 'learning_rate': 0.5, 'n_estimators': 10},\n",
       " {'base_estimator__max_depth': 4, 'learning_rate': 0.5, 'n_estimators': 20},\n",
       " {'base_estimator__max_depth': 4, 'learning_rate': 0.5, 'n_estimators': 50},\n",
       " {'base_estimator__max_depth': 4, 'learning_rate': 0.5, 'n_estimators': 100},\n",
       " {'base_estimator__max_depth': 4, 'learning_rate': 0.5, 'n_estimators': 150},\n",
       " {'base_estimator__max_depth': 4, 'learning_rate': 0.5, 'n_estimators': 200},\n",
       " {'base_estimator__max_depth': 4, 'learning_rate': 0.5, 'n_estimators': 250},\n",
       " {'base_estimator__max_depth': 4, 'learning_rate': 0.5, 'n_estimators': 300},\n",
       " {'base_estimator__max_depth': 4, 'learning_rate': 0.5, 'n_estimators': 400},\n",
       " {'base_estimator__max_depth': 4, 'learning_rate': 0.75, 'n_estimators': 1},\n",
       " {'base_estimator__max_depth': 4, 'learning_rate': 0.75, 'n_estimators': 10},\n",
       " {'base_estimator__max_depth': 4, 'learning_rate': 0.75, 'n_estimators': 20},\n",
       " {'base_estimator__max_depth': 4, 'learning_rate': 0.75, 'n_estimators': 50},\n",
       " {'base_estimator__max_depth': 4, 'learning_rate': 0.75, 'n_estimators': 100},\n",
       " {'base_estimator__max_depth': 4, 'learning_rate': 0.75, 'n_estimators': 150},\n",
       " {'base_estimator__max_depth': 4, 'learning_rate': 0.75, 'n_estimators': 200},\n",
       " {'base_estimator__max_depth': 4, 'learning_rate': 0.75, 'n_estimators': 250},\n",
       " {'base_estimator__max_depth': 4, 'learning_rate': 0.75, 'n_estimators': 300},\n",
       " {'base_estimator__max_depth': 4, 'learning_rate': 0.75, 'n_estimators': 400},\n",
       " {'base_estimator__max_depth': 4, 'learning_rate': 1.0, 'n_estimators': 1},\n",
       " {'base_estimator__max_depth': 4, 'learning_rate': 1.0, 'n_estimators': 10},\n",
       " {'base_estimator__max_depth': 4, 'learning_rate': 1.0, 'n_estimators': 20},\n",
       " {'base_estimator__max_depth': 4, 'learning_rate': 1.0, 'n_estimators': 50},\n",
       " {'base_estimator__max_depth': 4, 'learning_rate': 1.0, 'n_estimators': 100},\n",
       " {'base_estimator__max_depth': 4, 'learning_rate': 1.0, 'n_estimators': 150},\n",
       " {'base_estimator__max_depth': 4, 'learning_rate': 1.0, 'n_estimators': 200},\n",
       " {'base_estimator__max_depth': 4, 'learning_rate': 1.0, 'n_estimators': 250},\n",
       " {'base_estimator__max_depth': 4, 'learning_rate': 1.0, 'n_estimators': 300},\n",
       " {'base_estimator__max_depth': 4, 'learning_rate': 1.0, 'n_estimators': 400},\n",
       " {'base_estimator__max_depth': 5, 'learning_rate': 0.5, 'n_estimators': 1},\n",
       " {'base_estimator__max_depth': 5, 'learning_rate': 0.5, 'n_estimators': 10},\n",
       " {'base_estimator__max_depth': 5, 'learning_rate': 0.5, 'n_estimators': 20},\n",
       " {'base_estimator__max_depth': 5, 'learning_rate': 0.5, 'n_estimators': 50},\n",
       " {'base_estimator__max_depth': 5, 'learning_rate': 0.5, 'n_estimators': 100},\n",
       " {'base_estimator__max_depth': 5, 'learning_rate': 0.5, 'n_estimators': 150},\n",
       " {'base_estimator__max_depth': 5, 'learning_rate': 0.5, 'n_estimators': 200},\n",
       " {'base_estimator__max_depth': 5, 'learning_rate': 0.5, 'n_estimators': 250},\n",
       " {'base_estimator__max_depth': 5, 'learning_rate': 0.5, 'n_estimators': 300},\n",
       " {'base_estimator__max_depth': 5, 'learning_rate': 0.5, 'n_estimators': 400},\n",
       " {'base_estimator__max_depth': 5, 'learning_rate': 0.75, 'n_estimators': 1},\n",
       " {'base_estimator__max_depth': 5, 'learning_rate': 0.75, 'n_estimators': 10},\n",
       " {'base_estimator__max_depth': 5, 'learning_rate': 0.75, 'n_estimators': 20},\n",
       " {'base_estimator__max_depth': 5, 'learning_rate': 0.75, 'n_estimators': 50},\n",
       " {'base_estimator__max_depth': 5, 'learning_rate': 0.75, 'n_estimators': 100},\n",
       " {'base_estimator__max_depth': 5, 'learning_rate': 0.75, 'n_estimators': 150},\n",
       " {'base_estimator__max_depth': 5, 'learning_rate': 0.75, 'n_estimators': 200},\n",
       " {'base_estimator__max_depth': 5, 'learning_rate': 0.75, 'n_estimators': 250},\n",
       " {'base_estimator__max_depth': 5, 'learning_rate': 0.75, 'n_estimators': 300},\n",
       " {'base_estimator__max_depth': 5, 'learning_rate': 0.75, 'n_estimators': 400},\n",
       " {'base_estimator__max_depth': 5, 'learning_rate': 1.0, 'n_estimators': 1},\n",
       " {'base_estimator__max_depth': 5, 'learning_rate': 1.0, 'n_estimators': 10},\n",
       " {'base_estimator__max_depth': 5, 'learning_rate': 1.0, 'n_estimators': 20},\n",
       " {'base_estimator__max_depth': 5, 'learning_rate': 1.0, 'n_estimators': 50},\n",
       " {'base_estimator__max_depth': 5, 'learning_rate': 1.0, 'n_estimators': 100},\n",
       " {'base_estimator__max_depth': 5, 'learning_rate': 1.0, 'n_estimators': 150},\n",
       " {'base_estimator__max_depth': 5, 'learning_rate': 1.0, 'n_estimators': 200},\n",
       " {'base_estimator__max_depth': 5, 'learning_rate': 1.0, 'n_estimators': 250},\n",
       " {'base_estimator__max_depth': 5, 'learning_rate': 1.0, 'n_estimators': 300},\n",
       " {'base_estimator__max_depth': 5, 'learning_rate': 1.0, 'n_estimators': 400}]"
      ]
     },
     "execution_count": 11,
     "metadata": {},
     "output_type": "execute_result"
    }
   ],
   "source": [
    "res = grid_search.cv_results_\n",
    "res['params']"
   ]
  },
  {
   "cell_type": "code",
   "execution_count": 12,
   "metadata": {},
   "outputs": [
    {
     "data": {
      "text/plain": [
       "[<matplotlib.lines.Line2D at 0x7ff7a9ee3f60>]"
      ]
     },
     "execution_count": 12,
     "metadata": {},
     "output_type": "execute_result"
    },
    {
     "data": {
      "image/png": "[encoded data removed]",
      "text/plain": [
       "<Figure size 432x288 with 1 Axes>"
      ]
     },
     "metadata": {},
     "output_type": "display_data"
    }
   ],
   "source": [
    "plt.plot(res['mean_test_score'])"
   ]
  },
  {
   "cell_type": "code",
   "execution_count": 43,
   "metadata": {},
   "outputs": [],
   "source": [
    "# Want to build a plot with 5 curves: one for each max depth, leave learning rate constant at 1\n",
    "# The params list is a binary count\n",
    "chunksize = len(param_grid['n_estimators'])\n",
    "mean_train, std_train, mean_test, std_test, mean_fit, std_fit = {},{},{},{},{},{}\n",
    "\n",
    "for d in param_grid['base_estimator__max_depth']:\n",
    "    mean_train[d] = res['mean_train_score'][(3 * d - 1) * chunksize : 3 * d * chunksize]\n",
    "    std_train[d] = res['std_train_score'][(3 * d - 1) * chunksize : 3 * d * chunksize]\n",
    "    mean_test[d] = res['mean_test_score'][(3 * d - 1) * chunksize : 3 * d * chunksize]\n",
    "    std_test[d] = res['std_test_score'][(3 * d - 1) * chunksize : 3 * d * chunksize]\n",
    "    mean_fit[d] = res['mean_fit_time'][(3 * d - 1) * chunksize : 3 * d * chunksize]\n",
    "    std_fit[d] = res['std_fit_time'][(3 * d - 1) * chunksize : 3 * d * chunksize]"
   ]
  },
  {
   "cell_type": "code",
   "execution_count": 39,
   "metadata": {},
   "outputs": [
    {
     "data": {
      "image/png": "[encoded data removed]",
      "text/plain": [
       "<Figure size 720x360 with 1 Axes>"
      ]
     },
     "metadata": {},
     "output_type": "display_data"
    }
   ],
   "source": [
    "fig, ax = plt.subplots(figsize=(10,5))\n",
    "\n",
    "train_colors = ['blue', 'darkgreen', 'purple', 'navy', 'maroon']\n",
    "test_colors = ['green', 'gold', 'coral', 'teal', 'magenta']\n",
    "\n",
    "for ix, d in enumerate(param_grid['base_estimator__max_depth']):\n",
    "    ax.plot(param_grid['n_estimators'], mean_train[d],  label='Training: max_depth %i' % d,\n",
    "            marker='o', color=train_colors[ix], linestyle='--',\n",
    "            markersize=5)\n",
    "    ax.fill_between(param_grid['n_estimators'],\n",
    "                  mean_train[d] + std_train[d],\n",
    "                  mean_train[d] - std_train[d],\n",
    "                  alpha=0.15, color=train_colors[ix])\n",
    "    ax.plot(param_grid['n_estimators'], mean_test[d],  label='Testing: max_depth %i' % d,\n",
    "            marker='o', color=test_colors[ix], linestyle='-',\n",
    "            markersize=5)\n",
    "    ax.fill_between(param_grid['n_estimators'],\n",
    "                  mean_test[d] + std_test[d],\n",
    "                  mean_test[d] - std_test[d],\n",
    "                  alpha=0.15, color=test_colors[ix])\n",
    "\n",
    "plt.grid()\n",
    "plt.legend(loc='lower right')\n",
    "ax.set_ylabel('Accuracy')\n",
    "plt.xlabel('Number of weak learners')\n",
    "plt.show()"
   ]
  },
  {
   "cell_type": "markdown",
   "metadata": {},
   "source": [
    "## Boosting Learning Curve Analysis"
   ]
  },
  {
   "cell_type": "code",
   "execution_count": 29,
   "metadata": {},
   "outputs": [
    {
     "data": {
      "text/plain": [
       "{'algorithm': 'SAMME.R',\n",
       " 'base_estimator__class_weight': None,\n",
       " 'base_estimator__criterion': 'gini',\n",
       " 'base_estimator__max_depth': 4,\n",
       " 'base_estimator__max_features': None,\n",
       " 'base_estimator__max_leaf_nodes': None,\n",
       " 'base_estimator__min_impurity_decrease': 0.0,\n",
       " 'base_estimator__min_impurity_split': None,\n",
       " 'base_estimator__min_samples_leaf': 1,\n",
       " 'base_estimator__min_samples_split': 2,\n",
       " 'base_estimator__min_weight_fraction_leaf': 0.0,\n",
       " 'base_estimator__presort': False,\n",
       " 'base_estimator__random_state': None,\n",
       " 'base_estimator__splitter': 'best',\n",
       " 'base_estimator': DecisionTreeClassifier(class_weight=None, criterion='gini', max_depth=4,\n",
       "             max_features=None, max_leaf_nodes=None,\n",
       "             min_impurity_decrease=0.0, min_impurity_split=None,\n",
       "             min_samples_leaf=1, min_samples_split=2,\n",
       "             min_weight_fraction_leaf=0.0, presort=False, random_state=None,\n",
       "             splitter='best'),\n",
       " 'learning_rate': 1.0,\n",
       " 'n_estimators': 400,\n",
       " 'random_state': None}"
      ]
     },
     "execution_count": 29,
     "metadata": {},
     "output_type": "execute_result"
    }
   ],
   "source": [
    "# Find best estimator\n",
    "clf = grid_search.best_estimator_\n",
    "clf.get_params()"
   ]
  },
  {
   "cell_type": "code",
   "execution_count": 34,
   "metadata": {},
   "outputs": [
    {
     "data": {
      "image/png": "[encoded data removed]",
      "text/plain": [
       "<Figure size 432x288 with 1 Axes>"
      ]
     },
     "metadata": {},
     "output_type": "display_data"
    }
   ],
   "source": [
    "train_sizes, train_scores, test_scores, train_mean, train_std, test_mean, test_std = gen_and_plot_learning_curve(clf, X_train_scaled, y_train, ylim=[0.95, 1.001], cv=4, n_jobs=-1)"
   ]
  },
  {
   "cell_type": "markdown",
   "metadata": {},
   "source": [
    "#### Trying a weaker learner just for grins"
   ]
  },
  {
   "cell_type": "code",
   "execution_count": 48,
   "metadata": {},
   "outputs": [
    {
     "data": {
      "image/png": "[encoded data removed]",
      "text/plain": [
       "<Figure size 432x288 with 1 Axes>"
      ]
     },
     "metadata": {},
     "output_type": "display_data"
    },
    {
     "data": {
      "text/plain": [
       "(array([ 723, 1446, 2170, 2893, 3617, 4340, 5063, 5787, 6510, 7234]),\n",
       " array([[ 1.,  1.,  1.,  1.],\n",
       "        [ 1.,  1.,  1.,  1.],\n",
       "        [ 1.,  1.,  1.,  1.],\n",
       "        [ 1.,  1.,  1.,  1.],\n",
       "        [ 1.,  1.,  1.,  1.],\n",
       "        [ 1.,  1.,  1.,  1.],\n",
       "        [ 1.,  1.,  1.,  1.],\n",
       "        [ 1.,  1.,  1.,  1.],\n",
       "        [ 1.,  1.,  1.,  1.],\n",
       "        [ 1.,  1.,  1.,  1.]]),\n",
       " array([[ 0.97057605,  0.96807629,  0.96972211,  0.97262547],\n",
       "        [ 0.97472027,  0.97968491,  0.97967648,  0.98009125],\n",
       "        [ 0.9830087 ,  0.9805141 ,  0.97801742,  0.98257984],\n",
       "        [ 0.98549523,  0.98300166,  0.98382414,  0.9854832 ],\n",
       "        [ 0.98466639,  0.98548922,  0.98299461,  0.98589797],\n",
       "        [ 0.9830087 ,  0.98424544,  0.98423891,  0.98963086],\n",
       "        [ 0.98590966,  0.98922056,  0.98506844,  0.98838656],\n",
       "        [ 0.98508081,  0.98839138,  0.98714226,  0.98838656],\n",
       "        [ 0.98632408,  0.99004975,  0.9879718 ,  0.99087516],\n",
       "        [ 0.98715292,  0.99087894,  0.9867275 ,  0.99087516]]),\n",
       " array([ 1.,  1.,  1.,  1.,  1.,  1.,  1.,  1.,  1.,  1.]),\n",
       " array([ 0.,  0.,  0.,  0.,  0.,  0.,  0.,  0.,  0.,  0.]),\n",
       " array([ 0.97024998,  0.97854323,  0.98103002,  0.98445106,  0.98476205,\n",
       "         0.98528098,  0.9871463 ,  0.98725025,  0.9888052 ,  0.98890863]),\n",
       " array([ 0.00163958,  0.00221354,  0.00197858,  0.00107812,  0.00111266,\n",
       "         0.00256139,  0.00170936,  0.00135199,  0.00178074,  0.00197416]))"
      ]
     },
     "execution_count": 48,
     "metadata": {},
     "output_type": "execute_result"
    }
   ],
   "source": [
    "clf2 = AdaBoostClassifier(\n",
    "    base_estimator=DecisionTreeClassifier(max_depth=3),\n",
    "    n_estimators=400,\n",
    "    learning_rate=1.0,\n",
    ")\n",
    "gen_and_plot_learning_curve(clf2, X_train_scaled, y_train, ylim=[0.95, 1.001], cv=4, n_jobs=-1)"
   ]
  },
  {
   "cell_type": "markdown",
   "metadata": {},
   "source": [
    "### Timing statistics"
   ]
  },
  {
   "cell_type": "code",
   "execution_count": 41,
   "metadata": {},
   "outputs": [
    {
     "data": {
      "text/plain": [
       "DescribeResult(nobs=150, minmax=(0.37192600965499878, 346.64813816547394), mean=87.134926810661952, variance=7690.7161092195256, skewness=1.0604010559916277, kurtosis=0.3287323226615908)"
      ]
     },
     "execution_count": 41,
     "metadata": {},
     "output_type": "execute_result"
    }
   ],
   "source": [
    "scipy.stats.describe(res['mean_fit_time'])"
   ]
  },
  {
   "cell_type": "code",
   "execution_count": 42,
   "metadata": {},
   "outputs": [
    {
     "data": {
      "text/plain": [
       "DescribeResult(nobs=150, minmax=(0.0060653090476989746, 0.82790708541870117), mean=0.2929477099577586, variance=0.063592285611455343, skewness=0.5202133830872548, kurtosis=-0.9741569522352997)"
      ]
     },
     "execution_count": 42,
     "metadata": {},
     "output_type": "execute_result"
    }
   ],
   "source": [
    "scipy.stats.describe(res['mean_score_time'])"
   ]
  },
  {
   "cell_type": "code",
   "execution_count": 45,
   "metadata": {},
   "outputs": [
    {
     "data": {
      "image/png": "[encoded data removed]",
      "text/plain": [
       "<Figure size 720x432 with 1 Axes>"
      ]
     },
     "metadata": {},
     "output_type": "display_data"
    }
   ],
   "source": [
    "fig, ax = plt.subplots(figsize=(10,6))\n",
    "\n",
    "train_colors = ['blue', 'darkgreen', 'purple', 'navy', 'maroon']\n",
    "test_colors = ['green', 'gold', 'coral', 'teal', 'magenta']\n",
    "\n",
    "for ix, d in enumerate(param_grid['base_estimator__max_depth']):\n",
    "    ax.plot(param_grid['n_estimators'], mean_fit[d],  label='max_depth %i' % d,\n",
    "            marker='o', color=train_colors[ix], linestyle='-',\n",
    "            markersize=5)\n",
    "    ax.fill_between(param_grid['n_estimators'],\n",
    "                  mean_fit[d] + std_fit[d],\n",
    "                  mean_fit[d] - std_fit[d],\n",
    "                  alpha=0.15, color=train_colors[ix])\n",
    "plt.grid()\n",
    "plt.legend(loc='lower right')\n",
    "ax.set_ylabel('Fit time (sec)')\n",
    "plt.xlabel('Number of weak learners')\n",
    "plt.show()"
   ]
  },
  {
   "cell_type": "code",
   "execution_count": null,
   "metadata": {},
   "outputs": [],
   "source": []
  }
 ],
 "metadata": {
  "kernelspec": {
   "display_name": "Python 3",
   "language": "python",
   "name": "python3"
  },
  "language_info": {
   "codemirror_mode": {
    "name": "ipython",
    "version": 3
   },
   "file_extension": ".py",
   "mimetype": "text/x-python",
   "name": "python",
   "nbconvert_exporter": "python",
   "pygments_lexer": "ipython3",
   "version": "3.6.3"
  }
 },
 "nbformat": 4,
 "nbformat_minor": 2
}
