{
 "cells": [
  {
   "cell_type": "code",
   "execution_count": 1,
   "metadata": {},
   "outputs": [],
   "source": [
    "%load_ext autoreload\n",
    "%autoreload 1\n",
    "%aimport helpers, loaders, plotters"
   ]
  },
  {
   "cell_type": "code",
   "execution_count": 2,
   "metadata": {},
   "outputs": [],
   "source": [
    "from pprint import pprint\n",
    "from math import ceil, floor\n",
    "from itertools import product\n",
    "\n",
    "import matplotlib.pyplot as plt\n",
    "import numpy as np\n",
    "import pandas as pd\n",
    "import scipy.stats\n",
    "from sklearn.model_selection import train_test_split, GridSearchCV, RandomizedSearchCV\n",
    "from sklearn.preprocessing import MinMaxScaler, StandardScaler\n",
    "\n",
    "from helpers import balanced_accuracy_scorer, load_best_result, save_search_result, scikit_cv_result_to_df\n",
    "from loaders import load_adult, load_mnist\n",
    "from plotters import plot_means_w_stds, gen_and_plot_learning_curve, plot_learning_curve, gen_and_plot_validation_curve, plot_validation_curve"
   ]
  },
  {
   "cell_type": "markdown",
   "metadata": {},
   "source": [
    "### Load Data"
   ]
  },
  {
   "cell_type": "code",
   "execution_count": 3,
   "metadata": {},
   "outputs": [],
   "source": [
    "dataset = 'adult'\n",
    "learner_type = 'SVM'\n",
    "loader_func = load_adult"
   ]
  },
  {
   "cell_type": "code",
   "execution_count": 4,
   "metadata": {
    "scrolled": true
   },
   "outputs": [
    {
     "name": "stdout",
     "output_type": "stream",
     "text": [
      "Dataset shape (30162, 105)\n",
      "Value composition:\n",
      "0    0.751078\n",
      "1    0.248922\n",
      "Name: target, dtype: float64\n"
     ]
    }
   ],
   "source": [
    "df = loader_func(preprocess=True)"
   ]
  },
  {
   "cell_type": "markdown",
   "metadata": {},
   "source": [
    "### Split data into training and testing"
   ]
  },
  {
   "cell_type": "code",
   "execution_count": 5,
   "metadata": {},
   "outputs": [],
   "source": [
    "X = df[[c for c in df.columns if c != 'target']]\n",
    "y = df['target']\n",
    "X_train, X_test, y_train, y_test = train_test_split(X, y, test_size=0.3, stratify=y, random_state=1)"
   ]
  },
  {
   "cell_type": "markdown",
   "metadata": {},
   "source": [
    "### Scale Data"
   ]
  },
  {
   "cell_type": "code",
   "execution_count": 6,
   "metadata": {},
   "outputs": [],
   "source": [
    "# Use min max scaling because input dataset is sparse, i.e. mostly zeros\n",
    "scaler = MinMaxScaler()\n",
    "\n",
    "X_train_scaled = scaler.fit_transform(X_train)\n",
    "X_test_scaled = scaler.transform(X_test)"
   ]
  },
  {
   "cell_type": "markdown",
   "metadata": {},
   "source": [
    "## Support Vector Machine Model Complexity\n",
    "Sources:\n",
    "1. https://medium.com/@aneesha/svm-parameter-tuning-in-scikit-learn-using-gridsearchcv-2413c02125a0\n",
    "2. https://www.datacamp.com/community/tutorials/svm-classification-scikit-learn-python"
   ]
  },
  {
   "cell_type": "markdown",
   "metadata": {},
   "source": [
    "#### Hyperparameters for SVMs\n",
    "\n",
    "**Kernel:** The kernel function used to perform the \"kernel trick\"\n",
    "\n",
    "**C:** Penalty parameter C of the error term. The regularization parameter. Can determine the resistance to outliers. Intuitively, this determines how hard the algorithm tries to find the largest margin. For larger values of C, the algorithm will try to fit all data points. For lower values of C, it will prefer the largest margin.\n",
    "\n",
    "**gamma:** Kernel coefficient for ‘rbf’, ‘poly’ and ‘sigmoid’. If gamma is ‘auto’ then 1/n_features will be used instead."
   ]
  },
  {
   "cell_type": "code",
   "execution_count": 7,
   "metadata": {},
   "outputs": [
    {
     "data": {
      "text/plain": [
       "{'C': 1.0,\n",
       " 'cache_size': 200,\n",
       " 'class_weight': None,\n",
       " 'coef0': 0.0,\n",
       " 'decision_function_shape': 'ovr',\n",
       " 'degree': 3,\n",
       " 'gamma': 'auto',\n",
       " 'kernel': 'rbf',\n",
       " 'max_iter': 100000,\n",
       " 'probability': False,\n",
       " 'random_state': None,\n",
       " 'shrinking': True,\n",
       " 'tol': 0.001,\n",
       " 'verbose': False}"
      ]
     },
     "execution_count": 7,
     "metadata": {},
     "output_type": "execute_result"
    }
   ],
   "source": [
    "from sklearn.svm import SVC\n",
    "\n",
    "base_clf = SVC(max_iter=100000)\n",
    "\n",
    "base_clf.get_params()"
   ]
  },
  {
   "cell_type": "code",
   "execution_count": 8,
   "metadata": {},
   "outputs": [],
   "source": [
    "param_grid = {\n",
    "    'C': [0.001, 0.01, 0.1, 1, 10],\n",
    "    'gamma': [0.001, 0.01, 0.1, 1],\n",
    "    'kernel': ['poly', 'rbf']\n",
    "#     'kernel': ['linear', 'poly', 'rbf']\n",
    "}"
   ]
  },
  {
   "cell_type": "code",
   "execution_count": 9,
   "metadata": {},
   "outputs": [],
   "source": [
    "grid_search = GridSearchCV(\n",
    "    estimator=base_clf,\n",
    "    param_grid=param_grid,\n",
    "    scoring=balanced_accuracy_scorer,\n",
    "    return_train_score=True,\n",
    "    cv=4,\n",
    "    verbose=10,\n",
    "    n_jobs=1,\n",
    ")"
   ]
  },
  {
   "cell_type": "code",
   "execution_count": 10,
   "metadata": {
    "scrolled": true
   },
   "outputs": [
    {
     "name": "stdout",
     "output_type": "stream",
     "text": [
      "Fitting 4 folds for each of 40 candidates, totalling 160 fits\n",
      "[CV] C=0.001, gamma=0.001, kernel=poly ...............................\n",
      "[CV]  C=0.001, gamma=0.001, kernel=poly, score=0.4999999999999999, total=  25.9s\n",
      "[CV] C=0.001, gamma=0.001, kernel=poly ...............................\n"
     ]
    },
    {
     "name": "stderr",
     "output_type": "stream",
     "text": [
      "[Parallel(n_jobs=1)]: Done   1 out of   1 | elapsed:   40.8s remaining:    0.0s\n"
     ]
    },
    {
     "name": "stdout",
     "output_type": "stream",
     "text": [
      "[CV] ..... C=0.001, gamma=0.001, kernel=poly, score=0.5, total=  25.9s\n",
      "[CV] C=0.001, gamma=0.001, kernel=poly ...............................\n"
     ]
    },
    {
     "name": "stderr",
     "output_type": "stream",
     "text": [
      "[Parallel(n_jobs=1)]: Done   2 out of   2 | elapsed:  1.4min remaining:    0.0s\n"
     ]
    },
    {
     "name": "stdout",
     "output_type": "stream",
     "text": [
      "[CV] ..... C=0.001, gamma=0.001, kernel=poly, score=0.5, total=  27.0s\n",
      "[CV] C=0.001, gamma=0.001, kernel=poly ...............................\n"
     ]
    },
    {
     "name": "stderr",
     "output_type": "stream",
     "text": [
      "[Parallel(n_jobs=1)]: Done   3 out of   3 | elapsed:  2.1min remaining:    0.0s\n"
     ]
    },
    {
     "name": "stdout",
     "output_type": "stream",
     "text": [
      "[CV] ..... C=0.001, gamma=0.001, kernel=poly, score=0.5, total=  26.4s\n",
      "[CV] C=0.001, gamma=0.001, kernel=rbf ................................\n"
     ]
    },
    {
     "name": "stderr",
     "output_type": "stream",
     "text": [
      "[Parallel(n_jobs=1)]: Done   4 out of   4 | elapsed:  2.8min remaining:    0.0s\n"
     ]
    },
    {
     "name": "stdout",
     "output_type": "stream",
     "text": [
      "[CV]  C=0.001, gamma=0.001, kernel=rbf, score=0.4999999999999999, total=  34.2s\n",
      "[CV] C=0.001, gamma=0.001, kernel=rbf ................................\n"
     ]
    },
    {
     "name": "stderr",
     "output_type": "stream",
     "text": [
      "[Parallel(n_jobs=1)]: Done   5 out of   5 | elapsed:  3.7min remaining:    0.0s\n"
     ]
    },
    {
     "name": "stdout",
     "output_type": "stream",
     "text": [
      "[CV] ...... C=0.001, gamma=0.001, kernel=rbf, score=0.5, total=  33.0s\n",
      "[CV] C=0.001, gamma=0.001, kernel=rbf ................................\n"
     ]
    },
    {
     "name": "stderr",
     "output_type": "stream",
     "text": [
      "[Parallel(n_jobs=1)]: Done   6 out of   6 | elapsed:  4.6min remaining:    0.0s\n"
     ]
    },
    {
     "name": "stdout",
     "output_type": "stream",
     "text": [
      "[CV] ...... C=0.001, gamma=0.001, kernel=rbf, score=0.5, total=  37.5s\n",
      "[CV] C=0.001, gamma=0.001, kernel=rbf ................................\n"
     ]
    },
    {
     "name": "stderr",
     "output_type": "stream",
     "text": [
      "[Parallel(n_jobs=1)]: Done   7 out of   7 | elapsed:  5.6min remaining:    0.0s\n"
     ]
    },
    {
     "name": "stdout",
     "output_type": "stream",
     "text": [
      "[CV] ...... C=0.001, gamma=0.001, kernel=rbf, score=0.5, total=  32.8s\n",
      "[CV] C=0.001, gamma=0.01, kernel=poly ................................\n"
     ]
    },
    {
     "name": "stderr",
     "output_type": "stream",
     "text": [
      "[Parallel(n_jobs=1)]: Done   8 out of   8 | elapsed:  6.5min remaining:    0.0s\n"
     ]
    },
    {
     "name": "stdout",
     "output_type": "stream",
     "text": [
      "[CV]  C=0.001, gamma=0.01, kernel=poly, score=0.4999999999999999, total=  30.4s\n",
      "[CV] C=0.001, gamma=0.01, kernel=poly ................................\n"
     ]
    },
    {
     "name": "stderr",
     "output_type": "stream",
     "text": [
      "[Parallel(n_jobs=1)]: Done   9 out of   9 | elapsed:  7.3min remaining:    0.0s\n"
     ]
    },
    {
     "name": "stdout",
     "output_type": "stream",
     "text": [
      "[CV] ...... C=0.001, gamma=0.01, kernel=poly, score=0.5, total=  27.8s\n",
      "[CV] C=0.001, gamma=0.01, kernel=poly ................................\n",
      "[CV] ...... C=0.001, gamma=0.01, kernel=poly, score=0.5, total=  26.3s\n",
      "[CV] C=0.001, gamma=0.01, kernel=poly ................................\n",
      "[CV] ...... C=0.001, gamma=0.01, kernel=poly, score=0.5, total=  26.7s\n",
      "[CV] C=0.001, gamma=0.01, kernel=rbf .................................\n",
      "[CV]  C=0.001, gamma=0.01, kernel=rbf, score=0.4999999999999999, total=  32.8s\n",
      "[CV] C=0.001, gamma=0.01, kernel=rbf .................................\n",
      "[CV] ....... C=0.001, gamma=0.01, kernel=rbf, score=0.5, total=  33.2s\n",
      "[CV] C=0.001, gamma=0.01, kernel=rbf .................................\n",
      "[CV] ....... C=0.001, gamma=0.01, kernel=rbf, score=0.5, total=  32.9s\n",
      "[CV] C=0.001, gamma=0.01, kernel=rbf .................................\n",
      "[CV] ....... C=0.001, gamma=0.01, kernel=rbf, score=0.5, total=  57.6s\n",
      "[CV] C=0.001, gamma=0.1, kernel=poly .................................\n",
      "[CV]  C=0.001, gamma=0.1, kernel=poly, score=0.4999999999999999, total=  55.6s\n",
      "[CV] C=0.001, gamma=0.1, kernel=poly .................................\n",
      "[CV] ....... C=0.001, gamma=0.1, kernel=poly, score=0.5, total=  26.0s\n",
      "[CV] C=0.001, gamma=0.1, kernel=poly .................................\n",
      "[CV] ....... C=0.001, gamma=0.1, kernel=poly, score=0.5, total=  25.8s\n",
      "[CV] C=0.001, gamma=0.1, kernel=poly .................................\n",
      "[CV] ....... C=0.001, gamma=0.1, kernel=poly, score=0.5, total=  26.2s\n",
      "[CV] C=0.001, gamma=0.1, kernel=rbf ..................................\n",
      "[CV]  C=0.001, gamma=0.1, kernel=rbf, score=0.4999999999999999, total=  33.2s\n",
      "[CV] C=0.001, gamma=0.1, kernel=rbf ..................................\n",
      "[CV] ........ C=0.001, gamma=0.1, kernel=rbf, score=0.5, total=  32.6s\n",
      "[CV] C=0.001, gamma=0.1, kernel=rbf ..................................\n",
      "[CV] ........ C=0.001, gamma=0.1, kernel=rbf, score=0.5, total=  33.0s\n",
      "[CV] C=0.001, gamma=0.1, kernel=rbf ..................................\n",
      "[CV] ........ C=0.001, gamma=0.1, kernel=rbf, score=0.5, total=  33.1s\n",
      "[CV] C=0.001, gamma=1, kernel=poly ...................................\n",
      "[CV]  C=0.001, gamma=1, kernel=poly, score=0.740953376289105, total=  22.4s\n",
      "[CV] C=0.001, gamma=1, kernel=poly ...................................\n",
      "[CV]  C=0.001, gamma=1, kernel=poly, score=0.7374018372352698, total=  21.8s\n",
      "[CV] C=0.001, gamma=1, kernel=poly ...................................\n",
      "[CV]  C=0.001, gamma=1, kernel=poly, score=0.7486743323088927, total=  21.9s\n",
      "[CV] C=0.001, gamma=1, kernel=poly ...................................\n",
      "[CV]  C=0.001, gamma=1, kernel=poly, score=0.7424747000016895, total=  22.0s\n",
      "[CV] C=0.001, gamma=1, kernel=rbf ....................................\n",
      "[CV]  C=0.001, gamma=1, kernel=rbf, score=0.4999999999999999, total=  31.6s\n",
      "[CV] C=0.001, gamma=1, kernel=rbf ....................................\n",
      "[CV] .......... C=0.001, gamma=1, kernel=rbf, score=0.5, total=  32.2s\n",
      "[CV] C=0.001, gamma=1, kernel=rbf ....................................\n",
      "[CV] .......... C=0.001, gamma=1, kernel=rbf, score=0.5, total=  31.5s\n",
      "[CV] C=0.001, gamma=1, kernel=rbf ....................................\n",
      "[CV] .......... C=0.001, gamma=1, kernel=rbf, score=0.5, total=  32.0s\n",
      "[CV] C=0.01, gamma=0.001, kernel=poly ................................\n",
      "[CV]  C=0.01, gamma=0.001, kernel=poly, score=0.4999999999999999, total=  24.6s\n",
      "[CV] C=0.01, gamma=0.001, kernel=poly ................................\n",
      "[CV] ...... C=0.01, gamma=0.001, kernel=poly, score=0.5, total=  25.5s\n",
      "[CV] C=0.01, gamma=0.001, kernel=poly ................................\n",
      "[CV] ...... C=0.01, gamma=0.001, kernel=poly, score=0.5, total=  27.1s\n",
      "[CV] C=0.01, gamma=0.001, kernel=poly ................................\n",
      "[CV] ...... C=0.01, gamma=0.001, kernel=poly, score=0.5, total=  26.5s\n",
      "[CV] C=0.01, gamma=0.001, kernel=rbf .................................\n",
      "[CV]  C=0.01, gamma=0.001, kernel=rbf, score=0.4999999999999999, total=  35.0s\n",
      "[CV] C=0.01, gamma=0.001, kernel=rbf .................................\n",
      "[CV] ....... C=0.01, gamma=0.001, kernel=rbf, score=0.5, total=  34.2s\n",
      "[CV] C=0.01, gamma=0.001, kernel=rbf .................................\n",
      "[CV] ....... C=0.01, gamma=0.001, kernel=rbf, score=0.5, total=  32.3s\n",
      "[CV] C=0.01, gamma=0.001, kernel=rbf .................................\n",
      "[CV] ....... C=0.01, gamma=0.001, kernel=rbf, score=0.5, total=  33.1s\n",
      "[CV] C=0.01, gamma=0.01, kernel=poly .................................\n",
      "[CV]  C=0.01, gamma=0.01, kernel=poly, score=0.4999999999999999, total=  25.3s\n",
      "[CV] C=0.01, gamma=0.01, kernel=poly .................................\n",
      "[CV] ....... C=0.01, gamma=0.01, kernel=poly, score=0.5, total=  25.0s\n",
      "[CV] C=0.01, gamma=0.01, kernel=poly .................................\n",
      "[CV] ....... C=0.01, gamma=0.01, kernel=poly, score=0.5, total=  26.2s\n",
      "[CV] C=0.01, gamma=0.01, kernel=poly .................................\n",
      "[CV] ....... C=0.01, gamma=0.01, kernel=poly, score=0.5, total=  26.6s\n",
      "[CV] C=0.01, gamma=0.01, kernel=rbf ..................................\n",
      "[CV]  C=0.01, gamma=0.01, kernel=rbf, score=0.4999999999999999, total=  35.1s\n",
      "[CV] C=0.01, gamma=0.01, kernel=rbf ..................................\n",
      "[CV] ........ C=0.01, gamma=0.01, kernel=rbf, score=0.5, total=  33.2s\n",
      "[CV] C=0.01, gamma=0.01, kernel=rbf ..................................\n",
      "[CV] ........ C=0.01, gamma=0.01, kernel=rbf, score=0.5, total=  32.8s\n",
      "[CV] C=0.01, gamma=0.01, kernel=rbf ..................................\n",
      "[CV] ........ C=0.01, gamma=0.01, kernel=rbf, score=0.5, total=  32.7s\n",
      "[CV] C=0.01, gamma=0.1, kernel=poly ..................................\n",
      "[CV]  C=0.01, gamma=0.1, kernel=poly, score=0.6454437707413229, total=  26.5s\n",
      "[CV] C=0.01, gamma=0.1, kernel=poly ..................................\n",
      "[CV]  C=0.01, gamma=0.1, kernel=poly, score=0.6460812840680278, total=  26.7s\n",
      "[CV] C=0.01, gamma=0.1, kernel=poly ..................................\n",
      "[CV]  C=0.01, gamma=0.1, kernel=poly, score=0.642646067269044, total=  26.9s\n",
      "[CV] C=0.01, gamma=0.1, kernel=poly ..................................\n",
      "[CV]  C=0.01, gamma=0.1, kernel=poly, score=0.6397259506026076, total=  26.8s\n",
      "[CV] C=0.01, gamma=0.1, kernel=rbf ...................................\n",
      "[CV]  C=0.01, gamma=0.1, kernel=rbf, score=0.6014121853892794, total=  33.4s\n",
      "[CV] C=0.01, gamma=0.1, kernel=rbf ...................................\n",
      "[CV]  C=0.01, gamma=0.1, kernel=rbf, score=0.6159950590320495, total=  33.8s\n",
      "[CV] C=0.01, gamma=0.1, kernel=rbf ...................................\n",
      "[CV]  C=0.01, gamma=0.1, kernel=rbf, score=0.6138296418143813, total=  33.5s\n",
      "[CV] C=0.01, gamma=0.1, kernel=rbf ...................................\n",
      "[CV]  C=0.01, gamma=0.1, kernel=rbf, score=0.6131989657296184, total=  34.0s\n",
      "[CV] C=0.01, gamma=1, kernel=poly ....................................\n",
      "[CV]  C=0.01, gamma=1, kernel=poly, score=0.7577071829036796, total=  24.5s\n",
      "[CV] C=0.01, gamma=1, kernel=poly ....................................\n",
      "[CV]  C=0.01, gamma=1, kernel=poly, score=0.7555595488774927, total=  24.6s\n",
      "[CV] C=0.01, gamma=1, kernel=poly ....................................\n",
      "[CV]  C=0.01, gamma=1, kernel=poly, score=0.7635483046044538, total=  24.3s\n",
      "[CV] C=0.01, gamma=1, kernel=poly ....................................\n",
      "[CV]  C=0.01, gamma=1, kernel=poly, score=0.7533962435127718, total=  24.7s\n",
      "[CV] C=0.01, gamma=1, kernel=rbf .....................................\n",
      "[CV]  C=0.01, gamma=1, kernel=rbf, score=0.5428988619983455, total=  46.9s\n",
      "[CV] C=0.01, gamma=1, kernel=rbf .....................................\n",
      "[CV]  C=0.01, gamma=1, kernel=rbf, score=0.5411191207933809, total=  46.6s\n",
      "[CV] C=0.01, gamma=1, kernel=rbf .....................................\n",
      "[CV]  C=0.01, gamma=1, kernel=rbf, score=0.542006291017944, total=  47.4s\n",
      "[CV] C=0.01, gamma=1, kernel=rbf .....................................\n",
      "[CV]  C=0.01, gamma=1, kernel=rbf, score=0.5408584029476858, total=  47.0s\n",
      "[CV] C=0.1, gamma=0.001, kernel=poly .................................\n",
      "[CV]  C=0.1, gamma=0.001, kernel=poly, score=0.4999999999999999, total=  24.2s\n",
      "[CV] C=0.1, gamma=0.001, kernel=poly .................................\n",
      "[CV] ....... C=0.1, gamma=0.001, kernel=poly, score=0.5, total=  24.3s\n",
      "[CV] C=0.1, gamma=0.001, kernel=poly .................................\n"
     ]
    },
    {
     "name": "stdout",
     "output_type": "stream",
     "text": [
      "[CV] ....... C=0.1, gamma=0.001, kernel=poly, score=0.5, total=  24.3s\n",
      "[CV] C=0.1, gamma=0.001, kernel=poly .................................\n",
      "[CV] ....... C=0.1, gamma=0.001, kernel=poly, score=0.5, total=  24.8s\n",
      "[CV] C=0.1, gamma=0.001, kernel=rbf ..................................\n",
      "[CV]  C=0.1, gamma=0.001, kernel=rbf, score=0.4999999999999999, total=  32.8s\n",
      "[CV] C=0.1, gamma=0.001, kernel=rbf ..................................\n",
      "[CV] ........ C=0.1, gamma=0.001, kernel=rbf, score=0.5, total=  32.8s\n",
      "[CV] C=0.1, gamma=0.001, kernel=rbf ..................................\n",
      "[CV] ........ C=0.1, gamma=0.001, kernel=rbf, score=0.5, total=  32.4s\n",
      "[CV] C=0.1, gamma=0.001, kernel=rbf ..................................\n",
      "[CV] ........ C=0.1, gamma=0.001, kernel=rbf, score=0.5, total=  33.1s\n",
      "[CV] C=0.1, gamma=0.01, kernel=poly ..................................\n",
      "[CV]  C=0.1, gamma=0.01, kernel=poly, score=0.4999999999999999, total=  25.5s\n",
      "[CV] C=0.1, gamma=0.01, kernel=poly ..................................\n",
      "[CV] ........ C=0.1, gamma=0.01, kernel=poly, score=0.5, total=  26.3s\n",
      "[CV] C=0.1, gamma=0.01, kernel=poly ..................................\n",
      "[CV] ........ C=0.1, gamma=0.01, kernel=poly, score=0.5, total=  25.0s\n",
      "[CV] C=0.1, gamma=0.01, kernel=poly ..................................\n",
      "[CV] ........ C=0.1, gamma=0.01, kernel=poly, score=0.5, total=  25.2s\n",
      "[CV] C=0.1, gamma=0.01, kernel=rbf ...................................\n",
      "[CV]  C=0.1, gamma=0.01, kernel=rbf, score=0.6784602140878807, total=  33.8s\n",
      "[CV] C=0.1, gamma=0.01, kernel=rbf ...................................\n",
      "[CV]  C=0.1, gamma=0.01, kernel=rbf, score=0.6770715741521487, total=  33.0s\n",
      "[CV] C=0.1, gamma=0.01, kernel=rbf ...................................\n",
      "[CV]  C=0.1, gamma=0.01, kernel=rbf, score=0.6809859895835734, total=  33.2s\n",
      "[CV] C=0.1, gamma=0.01, kernel=rbf ...................................\n",
      "[CV]  C=0.1, gamma=0.01, kernel=rbf, score=0.6858044700631406, total=  33.0s\n",
      "[CV] C=0.1, gamma=0.1, kernel=poly ...................................\n",
      "[CV]  C=0.1, gamma=0.1, kernel=poly, score=0.7088262786443787, total=  22.4s\n",
      "[CV] C=0.1, gamma=0.1, kernel=poly ...................................\n",
      "[CV]  C=0.1, gamma=0.1, kernel=poly, score=0.6990555793618979, total=  22.5s\n",
      "[CV] C=0.1, gamma=0.1, kernel=poly ...................................\n",
      "[CV]  C=0.1, gamma=0.1, kernel=poly, score=0.7116042095756788, total=  22.0s\n",
      "[CV] C=0.1, gamma=0.1, kernel=poly ...................................\n",
      "[CV]  C=0.1, gamma=0.1, kernel=poly, score=0.706768834272532, total=  22.1s\n",
      "[CV] C=0.1, gamma=0.1, kernel=rbf ....................................\n",
      "[CV]  C=0.1, gamma=0.1, kernel=rbf, score=0.7127663862449399, total=  27.6s\n",
      "[CV] C=0.1, gamma=0.1, kernel=rbf ....................................\n",
      "[CV]  C=0.1, gamma=0.1, kernel=rbf, score=0.7012167728736713, total=  28.0s\n",
      "[CV] C=0.1, gamma=0.1, kernel=rbf ....................................\n",
      "[CV]  C=0.1, gamma=0.1, kernel=rbf, score=0.7164290256140885, total=  27.7s\n",
      "[CV] C=0.1, gamma=0.1, kernel=rbf ....................................\n",
      "[CV]  C=0.1, gamma=0.1, kernel=rbf, score=0.7076665637618321, total=  27.9s\n",
      "[CV] C=0.1, gamma=1, kernel=poly .....................................\n"
     ]
    },
    {
     "name": "stderr",
     "output_type": "stream",
     "text": [
      "/opt/conda/lib/python3.6/site-packages/sklearn/svm/base.py:218: ConvergenceWarning: Solver terminated early (max_iter=100000).  Consider pre-processing your data with StandardScaler or MinMaxScaler.\n",
      "  % self.max_iter, ConvergenceWarning)\n"
     ]
    },
    {
     "name": "stdout",
     "output_type": "stream",
     "text": [
      "[CV]  C=0.1, gamma=1, kernel=poly, score=0.7566009470231344, total=  27.2s\n",
      "[CV] C=0.1, gamma=1, kernel=poly .....................................\n"
     ]
    },
    {
     "name": "stderr",
     "output_type": "stream",
     "text": [
      "/opt/conda/lib/python3.6/site-packages/sklearn/svm/base.py:218: ConvergenceWarning: Solver terminated early (max_iter=100000).  Consider pre-processing your data with StandardScaler or MinMaxScaler.\n",
      "  % self.max_iter, ConvergenceWarning)\n"
     ]
    },
    {
     "name": "stdout",
     "output_type": "stream",
     "text": [
      "[CV]  C=0.1, gamma=1, kernel=poly, score=0.752803580781063, total=  27.2s\n",
      "[CV] C=0.1, gamma=1, kernel=poly .....................................\n"
     ]
    },
    {
     "name": "stderr",
     "output_type": "stream",
     "text": [
      "/opt/conda/lib/python3.6/site-packages/sklearn/svm/base.py:218: ConvergenceWarning: Solver terminated early (max_iter=100000).  Consider pre-processing your data with StandardScaler or MinMaxScaler.\n",
      "  % self.max_iter, ConvergenceWarning)\n"
     ]
    },
    {
     "name": "stdout",
     "output_type": "stream",
     "text": [
      "[CV]  C=0.1, gamma=1, kernel=poly, score=0.7652302994837863, total=  27.7s\n",
      "[CV] C=0.1, gamma=1, kernel=poly .....................................\n"
     ]
    },
    {
     "name": "stderr",
     "output_type": "stream",
     "text": [
      "/opt/conda/lib/python3.6/site-packages/sklearn/svm/base.py:218: ConvergenceWarning: Solver terminated early (max_iter=100000).  Consider pre-processing your data with StandardScaler or MinMaxScaler.\n",
      "  % self.max_iter, ConvergenceWarning)\n"
     ]
    },
    {
     "name": "stdout",
     "output_type": "stream",
     "text": [
      "[CV]  C=0.1, gamma=1, kernel=poly, score=0.7553326206789569, total=  27.8s\n",
      "[CV] C=0.1, gamma=1, kernel=rbf ......................................\n",
      "[CV]  C=0.1, gamma=1, kernel=rbf, score=0.6687061061303144, total= 1.0min\n",
      "[CV] C=0.1, gamma=1, kernel=rbf ......................................\n",
      "[CV]  C=0.1, gamma=1, kernel=rbf, score=0.6519553070480597, total=  60.0s\n",
      "[CV] C=0.1, gamma=1, kernel=rbf ......................................\n",
      "[CV]  C=0.1, gamma=1, kernel=rbf, score=0.6697240537746876, total= 1.3min\n",
      "[CV] C=0.1, gamma=1, kernel=rbf ......................................\n",
      "[CV]  C=0.1, gamma=1, kernel=rbf, score=0.666816608225936, total= 1.0min\n",
      "[CV] C=1, gamma=0.001, kernel=poly ...................................\n",
      "[CV]  C=1, gamma=0.001, kernel=poly, score=0.4999999999999999, total=  24.9s\n",
      "[CV] C=1, gamma=0.001, kernel=poly ...................................\n",
      "[CV] ......... C=1, gamma=0.001, kernel=poly, score=0.5, total=  24.9s\n",
      "[CV] C=1, gamma=0.001, kernel=poly ...................................\n",
      "[CV] ......... C=1, gamma=0.001, kernel=poly, score=0.5, total=  25.0s\n",
      "[CV] C=1, gamma=0.001, kernel=poly ...................................\n",
      "[CV] ......... C=1, gamma=0.001, kernel=poly, score=0.5, total=  25.1s\n",
      "[CV] C=1, gamma=0.001, kernel=rbf ....................................\n",
      "[CV]  C=1, gamma=0.001, kernel=rbf, score=0.6807477336895705, total=  33.1s\n",
      "[CV] C=1, gamma=0.001, kernel=rbf ....................................\n",
      "[CV]  C=1, gamma=0.001, kernel=rbf, score=0.6784717326563117, total=  33.8s\n",
      "[CV] C=1, gamma=0.001, kernel=rbf ....................................\n",
      "[CV]  C=1, gamma=0.001, kernel=rbf, score=0.6840343533199097, total=  32.8s\n",
      "[CV] C=1, gamma=0.001, kernel=rbf ....................................\n",
      "[CV]  C=1, gamma=0.001, kernel=rbf, score=0.6905031508845977, total=  32.7s\n",
      "[CV] C=1, gamma=0.01, kernel=poly ....................................\n",
      "[CV]  C=1, gamma=0.01, kernel=poly, score=0.4999999999999999, total=  26.0s\n",
      "[CV] C=1, gamma=0.01, kernel=poly ....................................\n",
      "[CV] .......... C=1, gamma=0.01, kernel=poly, score=0.5, total=  26.2s\n",
      "[CV] C=1, gamma=0.01, kernel=poly ....................................\n",
      "[CV] .......... C=1, gamma=0.01, kernel=poly, score=0.5, total=  25.7s\n",
      "[CV] C=1, gamma=0.01, kernel=poly ....................................\n",
      "[CV] .......... C=1, gamma=0.01, kernel=poly, score=0.5, total=  25.8s\n",
      "[CV] C=1, gamma=0.01, kernel=rbf .....................................\n",
      "[CV]  C=1, gamma=0.01, kernel=rbf, score=0.7280025374231527, total=  27.4s\n",
      "[CV] C=1, gamma=0.01, kernel=rbf .....................................\n",
      "[CV]  C=1, gamma=0.01, kernel=rbf, score=0.7168264379414733, total=  27.6s\n",
      "[CV] C=1, gamma=0.01, kernel=rbf .....................................\n",
      "[CV]  C=1, gamma=0.01, kernel=rbf, score=0.73141435015597, total=  28.0s\n",
      "[CV] C=1, gamma=0.01, kernel=rbf .....................................\n",
      "[CV]  C=1, gamma=0.01, kernel=rbf, score=0.7251978230251871, total=  27.4s\n",
      "[CV] C=1, gamma=0.1, kernel=poly .....................................\n",
      "[CV]  C=1, gamma=0.1, kernel=poly, score=0.740953376289105, total=  22.3s\n",
      "[CV] C=1, gamma=0.1, kernel=poly .....................................\n",
      "[CV]  C=1, gamma=0.1, kernel=poly, score=0.7374018372352698, total=  21.3s\n",
      "[CV] C=1, gamma=0.1, kernel=poly .....................................\n",
      "[CV]  C=1, gamma=0.1, kernel=poly, score=0.7486743323088927, total=  21.6s\n",
      "[CV] C=1, gamma=0.1, kernel=poly .....................................\n",
      "[CV]  C=1, gamma=0.1, kernel=poly, score=0.7424747000016895, total=  21.7s\n",
      "[CV] C=1, gamma=0.1, kernel=rbf ......................................\n",
      "[CV]  C=1, gamma=0.1, kernel=rbf, score=0.7412077903881182, total=  27.0s\n",
      "[CV] C=1, gamma=0.1, kernel=rbf ......................................\n",
      "[CV]  C=1, gamma=0.1, kernel=rbf, score=0.737019207878517, total=  27.1s\n",
      "[CV] C=1, gamma=0.1, kernel=rbf ......................................\n",
      "[CV]  C=1, gamma=0.1, kernel=rbf, score=0.7463912272860616, total=  27.5s\n",
      "[CV] C=1, gamma=0.1, kernel=rbf ......................................\n",
      "[CV]  C=1, gamma=0.1, kernel=rbf, score=0.7419659354279843, total=  27.1s\n",
      "[CV] C=1, gamma=1, kernel=poly .......................................\n"
     ]
    },
    {
     "name": "stderr",
     "output_type": "stream",
     "text": [
      "/opt/conda/lib/python3.6/site-packages/sklearn/svm/base.py:218: ConvergenceWarning: Solver terminated early (max_iter=100000).  Consider pre-processing your data with StandardScaler or MinMaxScaler.\n",
      "  % self.max_iter, ConvergenceWarning)\n"
     ]
    },
    {
     "name": "stdout",
     "output_type": "stream",
     "text": [
      "[CV]  C=1, gamma=1, kernel=poly, score=0.7476387761251898, total=  31.8s\n",
      "[CV] C=1, gamma=1, kernel=poly .......................................\n"
     ]
    },
    {
     "name": "stderr",
     "output_type": "stream",
     "text": [
      "/opt/conda/lib/python3.6/site-packages/sklearn/svm/base.py:218: ConvergenceWarning: Solver terminated early (max_iter=100000).  Consider pre-processing your data with StandardScaler or MinMaxScaler.\n",
      "  % self.max_iter, ConvergenceWarning)\n"
     ]
    },
    {
     "name": "stdout",
     "output_type": "stream",
     "text": [
      "[CV]  C=1, gamma=1, kernel=poly, score=0.7497932303977809, total=  32.6s\n",
      "[CV] C=1, gamma=1, kernel=poly .......................................\n"
     ]
    },
    {
     "name": "stderr",
     "output_type": "stream",
     "text": [
      "/opt/conda/lib/python3.6/site-packages/sklearn/svm/base.py:218: ConvergenceWarning: Solver terminated early (max_iter=100000).  Consider pre-processing your data with StandardScaler or MinMaxScaler.\n",
      "  % self.max_iter, ConvergenceWarning)\n"
     ]
    },
    {
     "name": "stdout",
     "output_type": "stream",
     "text": [
      "[CV]  C=1, gamma=1, kernel=poly, score=0.7569243818414437, total=  31.3s\n",
      "[CV] C=1, gamma=1, kernel=poly .......................................\n"
     ]
    },
    {
     "name": "stderr",
     "output_type": "stream",
     "text": [
      "/opt/conda/lib/python3.6/site-packages/sklearn/svm/base.py:218: ConvergenceWarning: Solver terminated early (max_iter=100000).  Consider pre-processing your data with StandardScaler or MinMaxScaler.\n",
      "  % self.max_iter, ConvergenceWarning)\n"
     ]
    },
    {
     "name": "stdout",
     "output_type": "stream",
     "text": [
      "[CV]  C=1, gamma=1, kernel=poly, score=0.7541071700095379, total=  31.2s\n",
      "[CV] C=1, gamma=1, kernel=rbf ........................................\n",
      "[CV]  C=1, gamma=1, kernel=rbf, score=0.7192660858616393, total= 1.3min\n",
      "[CV] C=1, gamma=1, kernel=rbf ........................................\n",
      "[CV]  C=1, gamma=1, kernel=rbf, score=0.721432773193137, total= 1.7min\n",
      "[CV] C=1, gamma=1, kernel=rbf ........................................\n",
      "[CV]  C=1, gamma=1, kernel=rbf, score=0.7158490340000645, total= 1.3min\n",
      "[CV] C=1, gamma=1, kernel=rbf ........................................\n",
      "[CV]  C=1, gamma=1, kernel=rbf, score=0.718262497945743, total= 1.7min\n",
      "[CV] C=10, gamma=0.001, kernel=poly ..................................\n",
      "[CV]  C=10, gamma=0.001, kernel=poly, score=0.4999999999999999, total=  24.0s\n",
      "[CV] C=10, gamma=0.001, kernel=poly ..................................\n",
      "[CV] ........ C=10, gamma=0.001, kernel=poly, score=0.5, total=  24.0s\n",
      "[CV] C=10, gamma=0.001, kernel=poly ..................................\n",
      "[CV] ........ C=10, gamma=0.001, kernel=poly, score=0.5, total=  24.0s\n",
      "[CV] C=10, gamma=0.001, kernel=poly ..................................\n",
      "[CV] ........ C=10, gamma=0.001, kernel=poly, score=0.5, total=  24.0s\n",
      "[CV] C=10, gamma=0.001, kernel=rbf ...................................\n",
      "[CV]  C=10, gamma=0.001, kernel=rbf, score=0.7352411991531685, total=  27.4s\n",
      "[CV] C=10, gamma=0.001, kernel=rbf ...................................\n",
      "[CV]  C=10, gamma=0.001, kernel=rbf, score=0.7217773891968354, total=  27.2s\n",
      "[CV] C=10, gamma=0.001, kernel=rbf ...................................\n",
      "[CV]  C=10, gamma=0.001, kernel=rbf, score=0.7343429142341961, total=  27.3s\n",
      "[CV] C=10, gamma=0.001, kernel=rbf ...................................\n",
      "[CV]  C=10, gamma=0.001, kernel=rbf, score=0.7321859444283176, total=  27.2s\n",
      "[CV] C=10, gamma=0.01, kernel=poly ...................................\n",
      "[CV]  C=10, gamma=0.01, kernel=poly, score=0.6454437707413229, total=  26.0s\n",
      "[CV] C=10, gamma=0.01, kernel=poly ...................................\n",
      "[CV]  C=10, gamma=0.01, kernel=poly, score=0.6460812840680278, total=  25.8s\n",
      "[CV] C=10, gamma=0.01, kernel=poly ...................................\n",
      "[CV]  C=10, gamma=0.01, kernel=poly, score=0.642646067269044, total=  26.0s\n",
      "[CV] C=10, gamma=0.01, kernel=poly ...................................\n",
      "[CV]  C=10, gamma=0.01, kernel=poly, score=0.6395998153856551, total=  26.0s\n",
      "[CV] C=10, gamma=0.01, kernel=rbf ....................................\n",
      "[CV]  C=10, gamma=0.01, kernel=rbf, score=0.739280922685369, total=  27.4s\n",
      "[CV] C=10, gamma=0.01, kernel=rbf ....................................\n",
      "[CV]  C=10, gamma=0.01, kernel=rbf, score=0.7293771800082017, total=  27.1s\n",
      "[CV] C=10, gamma=0.01, kernel=rbf ....................................\n",
      "[CV]  C=10, gamma=0.01, kernel=rbf, score=0.7386378471694259, total=  26.5s\n",
      "[CV] C=10, gamma=0.01, kernel=rbf ....................................\n",
      "[CV]  C=10, gamma=0.01, kernel=rbf, score=0.7343175719988265, total=  27.6s\n",
      "[CV] C=10, gamma=0.1, kernel=poly ....................................\n",
      "[CV]  C=10, gamma=0.1, kernel=poly, score=0.7578332863084716, total=  24.2s\n",
      "[CV] C=10, gamma=0.1, kernel=poly ....................................\n",
      "[CV]  C=10, gamma=0.1, kernel=poly, score=0.7555595488774927, total=  23.6s\n",
      "[CV] C=10, gamma=0.1, kernel=poly ....................................\n",
      "[CV]  C=10, gamma=0.1, kernel=poly, score=0.7635483046044538, total=  24.1s\n",
      "[CV] C=10, gamma=0.1, kernel=poly ....................................\n",
      "[CV]  C=10, gamma=0.1, kernel=poly, score=0.7533962435127718, total=  24.9s\n",
      "[CV] C=10, gamma=0.1, kernel=rbf .....................................\n",
      "[CV]  C=10, gamma=0.1, kernel=rbf, score=0.7625189778906374, total=  29.1s\n",
      "[CV] C=10, gamma=0.1, kernel=rbf .....................................\n",
      "[CV]  C=10, gamma=0.1, kernel=rbf, score=0.7565749661719555, total=  29.2s\n",
      "[CV] C=10, gamma=0.1, kernel=rbf .....................................\n",
      "[CV]  C=10, gamma=0.1, kernel=rbf, score=0.7710240720518149, total=  29.7s\n",
      "[CV] C=10, gamma=0.1, kernel=rbf .....................................\n",
      "[CV]  C=10, gamma=0.1, kernel=rbf, score=0.761384999239733, total=  29.2s\n",
      "[CV] C=10, gamma=1, kernel=poly ......................................\n"
     ]
    },
    {
     "name": "stderr",
     "output_type": "stream",
     "text": [
      "/opt/conda/lib/python3.6/site-packages/sklearn/svm/base.py:218: ConvergenceWarning: Solver terminated early (max_iter=100000).  Consider pre-processing your data with StandardScaler or MinMaxScaler.\n",
      "  % self.max_iter, ConvergenceWarning)\n"
     ]
    },
    {
     "name": "stdout",
     "output_type": "stream",
     "text": [
      "[CV]  C=10, gamma=1, kernel=poly, score=0.7394420548137144, total=  41.7s\n",
      "[CV] C=10, gamma=1, kernel=poly ......................................\n"
     ]
    },
    {
     "name": "stderr",
     "output_type": "stream",
     "text": [
      "/opt/conda/lib/python3.6/site-packages/sklearn/svm/base.py:218: ConvergenceWarning: Solver terminated early (max_iter=100000).  Consider pre-processing your data with StandardScaler or MinMaxScaler.\n",
      "  % self.max_iter, ConvergenceWarning)\n"
     ]
    },
    {
     "name": "stdout",
     "output_type": "stream",
     "text": [
      "[CV]  C=10, gamma=1, kernel=poly, score=0.7508593321629828, total=  42.8s\n",
      "[CV] C=10, gamma=1, kernel=poly ......................................\n"
     ]
    },
    {
     "name": "stderr",
     "output_type": "stream",
     "text": [
      "/opt/conda/lib/python3.6/site-packages/sklearn/svm/base.py:218: ConvergenceWarning: Solver terminated early (max_iter=100000).  Consider pre-processing your data with StandardScaler or MinMaxScaler.\n",
      "  % self.max_iter, ConvergenceWarning)\n"
     ]
    },
    {
     "name": "stdout",
     "output_type": "stream",
     "text": [
      "[CV]  C=10, gamma=1, kernel=poly, score=0.7435223710502591, total=  41.0s\n",
      "[CV] C=10, gamma=1, kernel=poly ......................................\n"
     ]
    },
    {
     "name": "stderr",
     "output_type": "stream",
     "text": [
      "/opt/conda/lib/python3.6/site-packages/sklearn/svm/base.py:218: ConvergenceWarning: Solver terminated early (max_iter=100000).  Consider pre-processing your data with StandardScaler or MinMaxScaler.\n",
      "  % self.max_iter, ConvergenceWarning)\n"
     ]
    },
    {
     "name": "stdout",
     "output_type": "stream",
     "text": [
      "[CV]  C=10, gamma=1, kernel=poly, score=0.7427550004838063, total=  40.4s\n",
      "[CV] C=10, gamma=1, kernel=rbf .......................................\n",
      "[CV]  C=10, gamma=1, kernel=rbf, score=0.7326018568102556, total= 1.9min\n",
      "[CV] C=10, gamma=1, kernel=rbf .......................................\n",
      "[CV]  C=10, gamma=1, kernel=rbf, score=0.7307251181485731, total= 1.9min\n",
      "[CV] C=10, gamma=1, kernel=rbf .......................................\n",
      "[CV]  C=10, gamma=1, kernel=rbf, score=0.730207906163078, total= 1.9min\n",
      "[CV] C=10, gamma=1, kernel=rbf .......................................\n",
      "[CV]  C=10, gamma=1, kernel=rbf, score=0.7239892671793478, total= 2.0min\n"
     ]
    },
    {
     "name": "stderr",
     "output_type": "stream",
     "text": [
      "[Parallel(n_jobs=1)]: Done 160 out of 160 | elapsed: 132.7min finished\n"
     ]
    },
    {
     "data": {
      "text/plain": [
       "GridSearchCV(cv=4, error_score='raise',\n",
       "       estimator=SVC(C=1.0, cache_size=200, class_weight=None, coef0=0.0,\n",
       "  decision_function_shape='ovr', degree=3, gamma='auto', kernel='rbf',\n",
       "  max_iter=100000, probability=False, random_state=None, shrinking=True,\n",
       "  tol=0.001, verbose=False),\n",
       "       fit_params=None, iid=True, n_jobs=1,\n",
       "       param_grid={'C': [0.001, 0.01, 0.1, 1, 10], 'gamma': [0.001, 0.01, 0.1, 1], 'kernel': ['poly', 'rbf']},\n",
       "       pre_dispatch='2*n_jobs', refit=True, return_train_score=True,\n",
       "       scoring=make_scorer(balanced_accuracy), verbose=10)"
      ]
     },
     "execution_count": 10,
     "metadata": {},
     "output_type": "execute_result"
    }
   ],
   "source": [
    "# from sklearn.externals.joblib import parallel_backend\n",
    "\n",
    "# with parallel_backend('threading'):\n",
    "grid_search.fit(X_train_scaled, y_train)"
   ]
  },
  {
   "cell_type": "code",
   "execution_count": 11,
   "metadata": {},
   "outputs": [],
   "source": [
    "save_search_result(grid_search, dataset, learner_type)"
   ]
  },
  {
   "cell_type": "markdown",
   "metadata": {},
   "source": [
    "### Analysis"
   ]
  },
  {
   "cell_type": "code",
   "execution_count": 12,
   "metadata": {},
   "outputs": [],
   "source": [
    "res = grid_search.cv_results_"
   ]
  },
  {
   "cell_type": "code",
   "execution_count": 13,
   "metadata": {},
   "outputs": [],
   "source": [
    "res_df = scikit_cv_result_to_df(res)"
   ]
  },
  {
   "cell_type": "code",
   "execution_count": 14,
   "metadata": {},
   "outputs": [
    {
     "data": {
      "text/html": [
       "<div>\n",
       "<style scoped>\n",
       "    .dataframe tbody tr th:only-of-type {\n",
       "        vertical-align: middle;\n",
       "    }\n",
       "\n",
       "    .dataframe tbody tr th {\n",
       "        vertical-align: top;\n",
       "    }\n",
       "\n",
       "    .dataframe thead th {\n",
       "        text-align: right;\n",
       "    }\n",
       "</style>\n",
       "<table border=\"1\" class=\"dataframe\">\n",
       "  <thead>\n",
       "    <tr style=\"text-align: right;\">\n",
       "      <th></th>\n",
       "      <th></th>\n",
       "      <th></th>\n",
       "      <th>mean_fit_time</th>\n",
       "      <th>std_fit_time</th>\n",
       "      <th>mean_score_time</th>\n",
       "      <th>std_score_time</th>\n",
       "      <th>mean_test_score</th>\n",
       "      <th>std_test_score</th>\n",
       "      <th>rank_test_score</th>\n",
       "      <th>mean_train_score</th>\n",
       "      <th>std_train_score</th>\n",
       "    </tr>\n",
       "    <tr>\n",
       "      <th>C</th>\n",
       "      <th>gamma</th>\n",
       "      <th>kernel</th>\n",
       "      <th></th>\n",
       "      <th></th>\n",
       "      <th></th>\n",
       "      <th></th>\n",
       "      <th></th>\n",
       "      <th></th>\n",
       "      <th></th>\n",
       "      <th></th>\n",
       "      <th></th>\n",
       "    </tr>\n",
       "  </thead>\n",
       "  <tbody>\n",
       "    <tr>\n",
       "      <th rowspan=\"2\" valign=\"top\">10.000</th>\n",
       "      <th rowspan=\"2\" valign=\"top\">0.10</th>\n",
       "      <th>rbf</th>\n",
       "      <td>24.739288</td>\n",
       "      <td>0.247165</td>\n",
       "      <td>4.550367</td>\n",
       "      <td>0.022704</td>\n",
       "      <td>0.762876</td>\n",
       "      <td>0.005207</td>\n",
       "      <td>1</td>\n",
       "      <td>0.802845</td>\n",
       "      <td>0.002713</td>\n",
       "    </tr>\n",
       "    <tr>\n",
       "      <th>poly</th>\n",
       "      <td>20.748285</td>\n",
       "      <td>0.457635</td>\n",
       "      <td>3.466901</td>\n",
       "      <td>0.004447</td>\n",
       "      <td>0.757584</td>\n",
       "      <td>0.003784</td>\n",
       "      <td>2</td>\n",
       "      <td>0.803308</td>\n",
       "      <td>0.001863</td>\n",
       "    </tr>\n",
       "    <tr>\n",
       "      <th>0.010</th>\n",
       "      <th>1.00</th>\n",
       "      <th>poly</th>\n",
       "      <td>21.040993</td>\n",
       "      <td>0.135899</td>\n",
       "      <td>3.474905</td>\n",
       "      <td>0.025928</td>\n",
       "      <td>0.757553</td>\n",
       "      <td>0.003782</td>\n",
       "      <td>3</td>\n",
       "      <td>0.803350</td>\n",
       "      <td>0.001853</td>\n",
       "    </tr>\n",
       "    <tr>\n",
       "      <th>0.100</th>\n",
       "      <th>1.00</th>\n",
       "      <th>poly</th>\n",
       "      <td>24.220151</td>\n",
       "      <td>0.296954</td>\n",
       "      <td>3.242175</td>\n",
       "      <td>0.021401</td>\n",
       "      <td>0.757492</td>\n",
       "      <td>0.004672</td>\n",
       "      <td>4</td>\n",
       "      <td>0.836284</td>\n",
       "      <td>0.003037</td>\n",
       "    </tr>\n",
       "    <tr>\n",
       "      <th>1.000</th>\n",
       "      <th>1.00</th>\n",
       "      <th>poly</th>\n",
       "      <td>28.550574</td>\n",
       "      <td>0.544201</td>\n",
       "      <td>3.182571</td>\n",
       "      <td>0.037332</td>\n",
       "      <td>0.752116</td>\n",
       "      <td>0.003624</td>\n",
       "      <td>5</td>\n",
       "      <td>0.858875</td>\n",
       "      <td>0.003116</td>\n",
       "    </tr>\n",
       "    <tr>\n",
       "      <th>10.000</th>\n",
       "      <th>1.00</th>\n",
       "      <th>poly</th>\n",
       "      <td>38.151691</td>\n",
       "      <td>0.837217</td>\n",
       "      <td>3.327443</td>\n",
       "      <td>0.073669</td>\n",
       "      <td>0.744144</td>\n",
       "      <td>0.004169</td>\n",
       "      <td>6</td>\n",
       "      <td>0.880744</td>\n",
       "      <td>0.003458</td>\n",
       "    </tr>\n",
       "    <tr>\n",
       "      <th>1.000</th>\n",
       "      <th>0.10</th>\n",
       "      <th>poly</th>\n",
       "      <td>18.182402</td>\n",
       "      <td>0.316992</td>\n",
       "      <td>3.555689</td>\n",
       "      <td>0.043398</td>\n",
       "      <td>0.742376</td>\n",
       "      <td>0.004076</td>\n",
       "      <td>7</td>\n",
       "      <td>0.752761</td>\n",
       "      <td>0.005182</td>\n",
       "    </tr>\n",
       "    <tr>\n",
       "      <th>0.001</th>\n",
       "      <th>1.00</th>\n",
       "      <th>poly</th>\n",
       "      <td>18.428320</td>\n",
       "      <td>0.197682</td>\n",
       "      <td>3.597868</td>\n",
       "      <td>0.025018</td>\n",
       "      <td>0.742376</td>\n",
       "      <td>0.004076</td>\n",
       "      <td>7</td>\n",
       "      <td>0.752761</td>\n",
       "      <td>0.005182</td>\n",
       "    </tr>\n",
       "    <tr>\n",
       "      <th>1.000</th>\n",
       "      <th>0.10</th>\n",
       "      <th>rbf</th>\n",
       "      <td>22.491006</td>\n",
       "      <td>0.196845</td>\n",
       "      <td>4.675996</td>\n",
       "      <td>0.056169</td>\n",
       "      <td>0.741646</td>\n",
       "      <td>0.003325</td>\n",
       "      <td>9</td>\n",
       "      <td>0.750690</td>\n",
       "      <td>0.004075</td>\n",
       "    </tr>\n",
       "    <tr>\n",
       "      <th>10.000</th>\n",
       "      <th>0.01</th>\n",
       "      <th>rbf</th>\n",
       "      <td>22.481263</td>\n",
       "      <td>0.422982</td>\n",
       "      <td>4.649929</td>\n",
       "      <td>0.008820</td>\n",
       "      <td>0.735404</td>\n",
       "      <td>0.003968</td>\n",
       "      <td>10</td>\n",
       "      <td>0.739342</td>\n",
       "      <td>0.003737</td>\n",
       "    </tr>\n",
       "  </tbody>\n",
       "</table>\n",
       "</div>"
      ],
      "text/plain": [
       "                     mean_fit_time  std_fit_time  mean_score_time  \\\n",
       "C      gamma kernel                                                 \n",
       "10.000 0.10  rbf         24.739288      0.247165         4.550367   \n",
       "             poly        20.748285      0.457635         3.466901   \n",
       "0.010  1.00  poly        21.040993      0.135899         3.474905   \n",
       "0.100  1.00  poly        24.220151      0.296954         3.242175   \n",
       "1.000  1.00  poly        28.550574      0.544201         3.182571   \n",
       "10.000 1.00  poly        38.151691      0.837217         3.327443   \n",
       "1.000  0.10  poly        18.182402      0.316992         3.555689   \n",
       "0.001  1.00  poly        18.428320      0.197682         3.597868   \n",
       "1.000  0.10  rbf         22.491006      0.196845         4.675996   \n",
       "10.000 0.01  rbf         22.481263      0.422982         4.649929   \n",
       "\n",
       "                     std_score_time  mean_test_score  std_test_score  \\\n",
       "C      gamma kernel                                                    \n",
       "10.000 0.10  rbf           0.022704         0.762876        0.005207   \n",
       "             poly          0.004447         0.757584        0.003784   \n",
       "0.010  1.00  poly          0.025928         0.757553        0.003782   \n",
       "0.100  1.00  poly          0.021401         0.757492        0.004672   \n",
       "1.000  1.00  poly          0.037332         0.752116        0.003624   \n",
       "10.000 1.00  poly          0.073669         0.744144        0.004169   \n",
       "1.000  0.10  poly          0.043398         0.742376        0.004076   \n",
       "0.001  1.00  poly          0.025018         0.742376        0.004076   \n",
       "1.000  0.10  rbf           0.056169         0.741646        0.003325   \n",
       "10.000 0.01  rbf           0.008820         0.735404        0.003968   \n",
       "\n",
       "                     rank_test_score  mean_train_score  std_train_score  \n",
       "C      gamma kernel                                                      \n",
       "10.000 0.10  rbf                   1          0.802845         0.002713  \n",
       "             poly                  2          0.803308         0.001863  \n",
       "0.010  1.00  poly                  3          0.803350         0.001853  \n",
       "0.100  1.00  poly                  4          0.836284         0.003037  \n",
       "1.000  1.00  poly                  5          0.858875         0.003116  \n",
       "10.000 1.00  poly                  6          0.880744         0.003458  \n",
       "1.000  0.10  poly                  7          0.752761         0.005182  \n",
       "0.001  1.00  poly                  7          0.752761         0.005182  \n",
       "1.000  0.10  rbf                   9          0.750690         0.004075  \n",
       "10.000 0.01  rbf                  10          0.739342         0.003737  "
      ]
     },
     "execution_count": 14,
     "metadata": {},
     "output_type": "execute_result"
    }
   ],
   "source": [
    "res_df.sort_values(by='rank_test_score').head(10)"
   ]
  },
  {
   "cell_type": "code",
   "execution_count": 15,
   "metadata": {},
   "outputs": [],
   "source": [
    "rbf = res_df.xs('rbf', level='kernel')\n",
    "rbf = rbf.reset_index()\n",
    "# lin = res_df.xs('linear', level='kernel')\n",
    "# lin = lin.reset_index()\n",
    "poly = res_df.xs('poly', level='kernel')\n",
    "poly = poly.reset_index()"
   ]
  },
  {
   "cell_type": "code",
   "execution_count": 16,
   "metadata": {},
   "outputs": [
    {
     "data": {
      "text/plain": [
       "<matplotlib.axes._subplots.AxesSubplot at 0x7f5531967cc0>"
      ]
     },
     "execution_count": 16,
     "metadata": {},
     "output_type": "execute_result"
    },
    {
     "data": {
      "image/png": "[encoded data removed]",
      "text/plain": [
       "<Figure size 864x288 with 4 Axes>"
      ]
     },
     "metadata": {},
     "output_type": "display_data"
    }
   ],
   "source": [
    "fig, (ax1, ax2) = plt.subplots(1,2, figsize=(12,4))\n",
    "\n",
    "ax1.set_title('Radial Basis Function')\n",
    "rbf.plot(kind='scatter', x='C', y='gamma', c='mean_test_score', s=rbf['std_test_score']*200000, cmap='winter', logx=True, logy=True, ax=ax1)\n",
    "\n",
    "ax2.set_title('Polynomial Function')\n",
    "poly.plot(kind='scatter', x='C', y='gamma', c='mean_test_score', s=poly['std_test_score']*200000, cmap='winter', logx=True, logy=True, ax=ax2)\n",
    "\n",
    "\n",
    "# Gamma has no effect for linear kernel\n",
    "# ax3.set_title('Linear Function')\n",
    "# lin.plot(kind='scatter', x='C', y='gamma', c='mean_test_score', s=lin['std_test_score']*100000, cmap='winter', logx=True, logy=True, ax=ax3)"
   ]
  },
  {
   "cell_type": "code",
   "execution_count": 17,
   "metadata": {},
   "outputs": [],
   "source": [
    "# Helper function needed for std==0.0\n",
    "def std_to_size(std):\n",
    "    if std > 0:\n",
    "        return std * 200000\n",
    "    else:\n",
    "        return 10"
   ]
  },
  {
   "cell_type": "code",
   "execution_count": 18,
   "metadata": {},
   "outputs": [
    {
     "data": {
      "text/plain": [
       "<matplotlib.axes._subplots.AxesSubplot at 0x7f552b5ceac8>"
      ]
     },
     "execution_count": 18,
     "metadata": {},
     "output_type": "execute_result"
    },
    {
     "data": {
      "image/png": "[encoded data removed]",
      "text/plain": [
       "<Figure size 864x288 with 4 Axes>"
      ]
     },
     "metadata": {},
     "output_type": "display_data"
    }
   ],
   "source": [
    "fig, (ax1, ax2) = plt.subplots(1,2, figsize=(12,4))\n",
    "\n",
    "ax1.set_title('Radial Basis Function')\n",
    "rbf.plot(kind='scatter', x='C', y='gamma', c='mean_train_score', s=rbf['std_train_score'].apply(std_to_size), cmap='winter', logx=True, logy=True, ax=ax1)\n",
    "\n",
    "ax2.set_title('Polynomial Function')\n",
    "poly.plot(kind='scatter', x='C', y='gamma', c='mean_train_score', s=poly['std_train_score'].apply(std_to_size), cmap='winter', logx=True, logy=True, ax=ax2)\n",
    "\n",
    "# ax3.set_title('Linear Function')\n",
    "# lin.plot(kind='scatter', x='C', y='gamma', c='mean_train_score', s=lin['std_train_score'].apply(std_to_size), cmap='winter', logx=True, logy=True, ax=ax3)"
   ]
  },
  {
   "cell_type": "markdown",
   "metadata": {},
   "source": [
    "### Timing statistics"
   ]
  },
  {
   "cell_type": "code",
   "execution_count": 19,
   "metadata": {},
   "outputs": [],
   "source": [
    "# Helper function needed for std==0.0\n",
    "def std_to_size(std):\n",
    "    if std > 0:\n",
    "        return std * 50\n",
    "    else:\n",
    "        return 10"
   ]
  },
  {
   "cell_type": "code",
   "execution_count": 20,
   "metadata": {},
   "outputs": [
    {
     "data": {
      "text/plain": [
       "<matplotlib.axes._subplots.AxesSubplot at 0x7f552b128b70>"
      ]
     },
     "execution_count": 20,
     "metadata": {},
     "output_type": "execute_result"
    },
    {
     "data": {
      "image/png": "[encoded data removed]",
      "text/plain": [
       "<Figure size 864x288 with 4 Axes>"
      ]
     },
     "metadata": {},
     "output_type": "display_data"
    }
   ],
   "source": [
    "fig, (ax1, ax2) = plt.subplots(1,2, figsize=(12,4))\n",
    "\n",
    "ax1.set_title('Radial Basis Function')\n",
    "rbf.plot(kind='scatter', x='C', y='gamma', c='mean_fit_time', s=rbf['std_fit_time'].apply(std_to_size), cmap='winter', logx=True, logy=True, ax=ax1)\n",
    "\n",
    "ax2.set_title('Polynomial Function')\n",
    "poly.plot(kind='scatter', x='C', y='gamma', c='mean_fit_time', s=poly['std_fit_time'].apply(std_to_size), cmap='winter', logx=True, logy=True, ax=ax2)"
   ]
  },
  {
   "cell_type": "markdown",
   "metadata": {},
   "source": [
    "### What is the best estimator?"
   ]
  },
  {
   "cell_type": "code",
   "execution_count": 21,
   "metadata": {},
   "outputs": [
    {
     "data": {
      "text/plain": [
       "{'C': 10,\n",
       " 'cache_size': 200,\n",
       " 'class_weight': None,\n",
       " 'coef0': 0.0,\n",
       " 'decision_function_shape': 'ovr',\n",
       " 'degree': 3,\n",
       " 'gamma': 0.1,\n",
       " 'kernel': 'rbf',\n",
       " 'max_iter': 100000,\n",
       " 'probability': False,\n",
       " 'random_state': None,\n",
       " 'shrinking': True,\n",
       " 'tol': 0.001,\n",
       " 'verbose': False}"
      ]
     },
     "execution_count": 21,
     "metadata": {},
     "output_type": "execute_result"
    }
   ],
   "source": [
    "grid_search.best_estimator_.get_params()"
   ]
  },
  {
   "cell_type": "code",
   "execution_count": 22,
   "metadata": {},
   "outputs": [
    {
     "data": {
      "text/plain": [
       "0.76287573694013378"
      ]
     },
     "execution_count": 22,
     "metadata": {},
     "output_type": "execute_result"
    }
   ],
   "source": [
    "grid_search.best_score_"
   ]
  },
  {
   "cell_type": "markdown",
   "metadata": {},
   "source": [
    "## SVM Learning Curve Analysis"
   ]
  },
  {
   "cell_type": "code",
   "execution_count": 26,
   "metadata": {},
   "outputs": [
    {
     "data": {
      "text/plain": [
       "{'C': 10,\n",
       " 'cache_size': 200,\n",
       " 'class_weight': None,\n",
       " 'coef0': 0.0,\n",
       " 'decision_function_shape': 'ovr',\n",
       " 'degree': 3,\n",
       " 'gamma': 0.1,\n",
       " 'kernel': 'rbf',\n",
       " 'max_iter': 1000000,\n",
       " 'probability': False,\n",
       " 'random_state': None,\n",
       " 'shrinking': True,\n",
       " 'tol': 0.001,\n",
       " 'verbose': 10}"
      ]
     },
     "execution_count": 26,
     "metadata": {},
     "output_type": "execute_result"
    }
   ],
   "source": [
    "# Find best estimator\n",
    "best_params = res['params'][np.argmin(res['rank_test_score'])]\n",
    "best_params['verbose'] =10\n",
    "clf = SVC(**best_params, max_iter=1000000)\n",
    "clf.get_params()"
   ]
  },
  {
   "cell_type": "code",
   "execution_count": 27,
   "metadata": {},
   "outputs": [
    {
     "name": "stdout",
     "output_type": "stream",
     "text": [
      "[LibSVM][LibSVM][LibSVM][LibSVM][LibSVM][LibSVM][LibSVM][LibSVM][LibSVM][LibSVM][LibSVM][LibSVM][LibSVM][LibSVM][LibSVM][LibSVM][LibSVM][LibSVM][LibSVM][LibSVM][LibSVM][LibSVM][LibSVM][LibSVM][LibSVM][LibSVM][LibSVM][LibSVM][LibSVM][LibSVM][LibSVM][LibSVM][LibSVM][LibSVM][LibSVM][LibSVM][LibSVM][LibSVM][LibSVM][LibSVM]"
     ]
    },
    {
     "data": {
      "image/png": "[encoded data removed]",
      "text/plain": [
       "<Figure size 432x288 with 1 Axes>"
      ]
     },
     "metadata": {},
     "output_type": "display_data"
    }
   ],
   "source": [
    "train_sizes, _, _, train_mean, train_std, test_mean, test_std = gen_and_plot_learning_curve(clf, X_train_scaled, y_train, ylim=None, cv=4, train_sizes=np.linspace(.05, 1.0, 10), n_jobs=1, scoring=balanced_accuracy_scorer)"
   ]
  },
  {
   "cell_type": "code",
   "execution_count": null,
   "metadata": {},
   "outputs": [],
   "source": []
  }
 ],
 "metadata": {
  "kernelspec": {
   "display_name": "Python 3",
   "language": "python",
   "name": "python3"
  },
  "language_info": {
   "codemirror_mode": {
    "name": "ipython",
    "version": 3
   },
   "file_extension": ".py",
   "mimetype": "text/x-python",
   "name": "python",
   "nbconvert_exporter": "python",
   "pygments_lexer": "ipython3",
   "version": "3.6.3"
  }
 },
 "nbformat": 4,
 "nbformat_minor": 2
}
