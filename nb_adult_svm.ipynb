{
 "cells": [
  {
   "cell_type": "code",
   "execution_count": 1,
   "metadata": {},
   "outputs": [],
   "source": [
    "%load_ext autoreload"
   ]
  },
  {
   "cell_type": "code",
   "execution_count": 2,
   "metadata": {},
   "outputs": [],
   "source": [
    "%autoreload 1"
   ]
  },
  {
   "cell_type": "code",
   "execution_count": 3,
   "metadata": {},
   "outputs": [],
   "source": [
    "%aimport helpers, loaders, plotters"
   ]
  },
  {
   "cell_type": "code",
   "execution_count": 4,
   "metadata": {},
   "outputs": [],
   "source": [
    "from pprint import pprint\n",
    "from math import ceil\n",
    "from itertools import product\n",
    "\n",
    "import matplotlib.pyplot as plt\n",
    "import numpy as np\n",
    "import pandas as pd\n",
    "import scipy.stats\n",
    "from sklearn.model_selection import train_test_split, GridSearchCV, RandomizedSearchCV\n",
    "from sklearn.preprocessing import MinMaxScaler, StandardScaler\n",
    "\n",
    "from helpers import load_best_result, save_search_result, scikit_cv_result_to_df\n",
    "from loaders import load_adult, load_mnist\n",
    "from plotters import plot_means_w_stds, gen_and_plot_learning_curve, plot_learning_curve, gen_and_plot_validation_curve, plot_validation_curve"
   ]
  },
  {
   "cell_type": "markdown",
   "metadata": {},
   "source": [
    "### Load Data"
   ]
  },
  {
   "cell_type": "code",
   "execution_count": 5,
   "metadata": {},
   "outputs": [],
   "source": [
    "dataset = 'adult'\n",
    "learner_type = 'SVM'\n",
    "loader_func = load_adult"
   ]
  },
  {
   "cell_type": "code",
   "execution_count": 6,
   "metadata": {
    "scrolled": true
   },
   "outputs": [],
   "source": [
    "df = loader_func(preprocess=True)"
   ]
  },
  {
   "cell_type": "markdown",
   "metadata": {},
   "source": [
    "### Split data into training and testing"
   ]
  },
  {
   "cell_type": "code",
   "execution_count": 7,
   "metadata": {},
   "outputs": [],
   "source": [
    "X = df[[c for c in df.columns if c != 'target']]\n",
    "y = df['target']\n",
    "X_train, X_test, y_train, y_test = train_test_split(X, y, test_size=0.3, stratify=y, random_state=1)"
   ]
  },
  {
   "cell_type": "markdown",
   "metadata": {},
   "source": [
    "### Scale Data"
   ]
  },
  {
   "cell_type": "code",
   "execution_count": 8,
   "metadata": {},
   "outputs": [],
   "source": [
    "# Use min max scaling because input dataset is sparse, i.e. mostly zeros\n",
    "scaler = MinMaxScaler()\n",
    "\n",
    "X_train_scaled = scaler.fit_transform(X_train)\n",
    "X_test_scaled = scaler.transform(X_test)"
   ]
  },
  {
   "cell_type": "markdown",
   "metadata": {},
   "source": [
    "## Support Vector Machine Model Complexity\n",
    "Sources:\n",
    "1. https://medium.com/@aneesha/svm-parameter-tuning-in-scikit-learn-using-gridsearchcv-2413c02125a0\n",
    "2. https://www.datacamp.com/community/tutorials/svm-classification-scikit-learn-python"
   ]
  },
  {
   "cell_type": "markdown",
   "metadata": {},
   "source": [
    "#### Hyperparameters for SVMs\n",
    "\n",
    "**Kernel:** The kernel function used to perform the \"kernel trick\"\n",
    "\n",
    "**C:** Penalty parameter C of the error term.\n",
    "\n",
    "**gamma:** Kernel coefficient for ‘rbf’, ‘poly’ and ‘sigmoid’. If gamma is ‘auto’ then 1/n_features will be used instead."
   ]
  },
  {
   "cell_type": "code",
   "execution_count": 9,
   "metadata": {},
   "outputs": [
    {
     "data": {
      "text/plain": [
       "{'C': 1.0,\n",
       " 'cache_size': 200,\n",
       " 'class_weight': None,\n",
       " 'coef0': 0.0,\n",
       " 'decision_function_shape': 'ovr',\n",
       " 'degree': 3,\n",
       " 'gamma': 'auto',\n",
       " 'kernel': 'rbf',\n",
       " 'max_iter': -1,\n",
       " 'probability': False,\n",
       " 'random_state': None,\n",
       " 'shrinking': True,\n",
       " 'tol': 0.001,\n",
       " 'verbose': False}"
      ]
     },
     "execution_count": 9,
     "metadata": {},
     "output_type": "execute_result"
    }
   ],
   "source": [
    "from sklearn.svm import SVC\n",
    "\n",
    "base_clf = SVC()\n",
    "\n",
    "base_clf.get_params()"
   ]
  },
  {
   "cell_type": "code",
   "execution_count": 10,
   "metadata": {},
   "outputs": [],
   "source": [
    "param_grid = {\n",
    "    'C': [0.001, 0.01, 0.1, 1, 10],\n",
    "    'gamma': [0.001, 0.01, 0.1, 1],\n",
    "    'kernel': ['poly', 'rbf']    \n",
    "#     'kernel': ['linear', 'poly', 'rbf']\n",
    "}"
   ]
  },
  {
   "cell_type": "code",
   "execution_count": 11,
   "metadata": {},
   "outputs": [],
   "source": [
    "grid_search = GridSearchCV(\n",
    "    estimator=base_clf,\n",
    "    param_grid=param_grid,\n",
    "    scoring='accuracy',\n",
    "    return_train_score=True,\n",
    "    cv=4,\n",
    "    verbose=10,\n",
    "    n_jobs=-1,\n",
    ")"
   ]
  },
  {
   "cell_type": "code",
   "execution_count": null,
   "metadata": {
    "scrolled": true
   },
   "outputs": [
    {
     "name": "stdout",
     "output_type": "stream",
     "text": [
      "Fitting 4 folds for each of 40 candidates, totalling 160 fits\n",
      "[CV] C=0.001, gamma=0.001, kernel=poly ...............................\n",
      "[CV] C=0.001, gamma=0.001, kernel=poly ...............................\n",
      "[CV] C=0.001, gamma=0.001, kernel=poly ...............................\n",
      "[CV] C=0.001, gamma=0.001, kernel=poly ...............................\n",
      "[CV]  C=0.001, gamma=0.001, kernel=poly, score=0.751042061386889, total=  34.6s\n",
      "[CV] C=0.001, gamma=0.001, kernel=rbf ................................\n",
      "[CV]  C=0.001, gamma=0.001, kernel=poly, score=0.751042061386889, total=  34.8s\n",
      "[CV] C=0.001, gamma=0.001, kernel=rbf ................................\n",
      "[CV]  C=0.001, gamma=0.001, kernel=poly, score=0.7510892214434552, total=  34.9s\n",
      "[CV] C=0.001, gamma=0.001, kernel=rbf ................................\n",
      "[CV]  C=0.001, gamma=0.001, kernel=poly, score=0.751042061386889, total=  34.9s\n",
      "[CV] C=0.001, gamma=0.001, kernel=rbf ................................\n",
      "[CV]  C=0.001, gamma=0.001, kernel=rbf, score=0.7510892214434552, total=  37.4s\n",
      "[CV] C=0.001, gamma=0.01, kernel=poly ................................\n",
      "[CV]  C=0.001, gamma=0.001, kernel=rbf, score=0.751042061386889, total=  37.3s\n",
      "[CV] C=0.001, gamma=0.01, kernel=poly ................................\n",
      "[CV]  C=0.001, gamma=0.001, kernel=rbf, score=0.751042061386889, total=  37.3s\n"
     ]
    },
    {
     "name": "stderr",
     "output_type": "stream",
     "text": [
      "[Parallel(n_jobs=-1)]: Done   5 tasks      | elapsed:  1.8min\n"
     ]
    },
    {
     "name": "stdout",
     "output_type": "stream",
     "text": [
      "[CV] C=0.001, gamma=0.01, kernel=poly ................................\n",
      "[CV]  C=0.001, gamma=0.001, kernel=rbf, score=0.751042061386889, total=  37.3s\n",
      "[CV] C=0.001, gamma=0.01, kernel=poly ................................\n",
      "[CV]  C=0.001, gamma=0.01, kernel=poly, score=0.751042061386889, total=  34.1s\n",
      "[CV] C=0.001, gamma=0.01, kernel=rbf .................................\n",
      "[CV]  C=0.001, gamma=0.01, kernel=poly, score=0.751042061386889, total=  34.0s\n",
      "[CV] C=0.001, gamma=0.01, kernel=rbf .................................\n"
     ]
    },
    {
     "name": "stderr",
     "output_type": "stream",
     "text": [
      "[Parallel(n_jobs=-1)]: Done  10 tasks      | elapsed:  2.7min\n"
     ]
    },
    {
     "name": "stdout",
     "output_type": "stream",
     "text": [
      "[CV]  C=0.001, gamma=0.01, kernel=poly, score=0.751042061386889, total=  34.4s\n",
      "[CV] C=0.001, gamma=0.01, kernel=rbf .................................\n",
      "[CV]  C=0.001, gamma=0.01, kernel=poly, score=0.7510892214434552, total=  34.8s\n",
      "[CV] C=0.001, gamma=0.01, kernel=rbf .................................\n",
      "[CV]  C=0.001, gamma=0.01, kernel=rbf, score=0.7510892214434552, total=  38.7s\n",
      "[CV] C=0.001, gamma=0.1, kernel=poly .................................\n",
      "[CV]  C=0.001, gamma=0.01, kernel=rbf, score=0.751042061386889, total=  38.8s\n",
      "[CV] C=0.001, gamma=0.1, kernel=poly .................................\n",
      "[CV]  C=0.001, gamma=0.01, kernel=rbf, score=0.751042061386889, total=  38.8s\n",
      "[CV] C=0.001, gamma=0.1, kernel=poly .................................\n",
      "[CV]  C=0.001, gamma=0.01, kernel=rbf, score=0.751042061386889, total=  38.8s\n",
      "[CV] C=0.001, gamma=0.1, kernel=poly .................................\n",
      "[CV]  C=0.001, gamma=0.1, kernel=poly, score=0.7510892214434552, total=  36.1s\n",
      "[CV] C=0.001, gamma=0.1, kernel=rbf ..................................\n"
     ]
    },
    {
     "name": "stderr",
     "output_type": "stream",
     "text": [
      "[Parallel(n_jobs=-1)]: Done  17 tasks      | elapsed:  4.6min\n"
     ]
    },
    {
     "name": "stdout",
     "output_type": "stream",
     "text": [
      "[CV]  C=0.001, gamma=0.1, kernel=poly, score=0.751042061386889, total=  36.0s\n",
      "[CV] C=0.001, gamma=0.1, kernel=rbf ..................................\n",
      "[CV]  C=0.001, gamma=0.1, kernel=poly, score=0.751042061386889, total=  36.3s\n",
      "[CV] C=0.001, gamma=0.1, kernel=rbf ..................................\n",
      "[CV]  C=0.001, gamma=0.1, kernel=poly, score=0.751042061386889, total=  36.3s\n",
      "[CV] C=0.001, gamma=0.1, kernel=rbf ..................................\n",
      "[CV]  C=0.001, gamma=0.1, kernel=rbf, score=0.751042061386889, total=  41.1s\n",
      "[CV] C=0.001, gamma=1, kernel=poly ...................................\n",
      "[CV]  C=0.001, gamma=0.1, kernel=rbf, score=0.7510892214434552, total=  41.8s\n",
      "[CV] C=0.001, gamma=1, kernel=poly ...................................\n",
      "[CV]  C=0.001, gamma=0.1, kernel=rbf, score=0.751042061386889, total=  41.4s\n",
      "[CV] C=0.001, gamma=1, kernel=poly ...................................\n",
      "[CV]  C=0.001, gamma=0.1, kernel=rbf, score=0.751042061386889, total=  41.2s\n",
      "[CV] C=0.001, gamma=1, kernel=poly ...................................\n"
     ]
    },
    {
     "name": "stderr",
     "output_type": "stream",
     "text": [
      "[Parallel(n_jobs=-1)]: Done  24 tasks      | elapsed:  5.6min\n"
     ]
    },
    {
     "name": "stdout",
     "output_type": "stream",
     "text": [
      "[CV]  C=0.001, gamma=1, kernel=poly, score=0.8344383405948096, total=  30.0s\n",
      "[CV] C=0.001, gamma=1, kernel=rbf ....................................\n",
      "[CV]  C=0.001, gamma=1, kernel=poly, score=0.8309965896172793, total=  29.7s\n",
      "[CV] C=0.001, gamma=1, kernel=rbf ....................................\n",
      "[CV]  C=0.001, gamma=1, kernel=poly, score=0.8395225464190982, total=  30.3s\n",
      "[CV] C=0.001, gamma=1, kernel=rbf ....................................\n",
      "[CV]  C=0.001, gamma=1, kernel=poly, score=0.8336491095111784, total=  30.2s\n",
      "[CV] C=0.001, gamma=1, kernel=rbf ....................................\n",
      "[CV]  C=0.001, gamma=1, kernel=rbf, score=0.751042061386889, total=  37.9s\n",
      "[CV] C=0.01, gamma=0.001, kernel=poly ................................\n",
      "[CV]  C=0.001, gamma=1, kernel=rbf, score=0.7510892214434552, total=  39.9s\n",
      "[CV] C=0.01, gamma=0.001, kernel=poly ................................\n",
      "[CV]  C=0.001, gamma=1, kernel=rbf, score=0.751042061386889, total=  38.4s\n",
      "[CV] C=0.01, gamma=0.001, kernel=poly ................................\n",
      "[CV]  C=0.001, gamma=1, kernel=rbf, score=0.751042061386889, total=  38.7s\n",
      "[CV] C=0.01, gamma=0.001, kernel=poly ................................\n",
      "[CV]  C=0.01, gamma=0.001, kernel=poly, score=0.7510892214434552, total=  33.5s\n",
      "[CV] C=0.01, gamma=0.001, kernel=rbf .................................\n"
     ]
    },
    {
     "name": "stderr",
     "output_type": "stream",
     "text": [
      "[Parallel(n_jobs=-1)]: Done  33 tasks      | elapsed:  8.1min\n"
     ]
    },
    {
     "name": "stdout",
     "output_type": "stream",
     "text": [
      "[CV]  C=0.01, gamma=0.001, kernel=poly, score=0.751042061386889, total=  33.8s\n",
      "[CV] C=0.01, gamma=0.001, kernel=rbf .................................\n",
      "[CV]  C=0.01, gamma=0.001, kernel=poly, score=0.751042061386889, total=  35.2s\n",
      "[CV] C=0.01, gamma=0.001, kernel=rbf .................................\n",
      "[CV]  C=0.01, gamma=0.001, kernel=poly, score=0.751042061386889, total=  34.1s\n",
      "[CV] C=0.01, gamma=0.001, kernel=rbf .................................\n",
      "[CV]  C=0.01, gamma=0.001, kernel=rbf, score=0.7510892214434552, total=  37.3s\n",
      "[CV] C=0.01, gamma=0.01, kernel=poly .................................\n",
      "[CV]  C=0.01, gamma=0.001, kernel=rbf, score=0.751042061386889, total=  37.0s\n",
      "[CV] C=0.01, gamma=0.01, kernel=poly .................................\n",
      "[CV]  C=0.01, gamma=0.001, kernel=rbf, score=0.751042061386889, total=  37.2s\n",
      "[CV] C=0.01, gamma=0.01, kernel=poly .................................\n",
      "[CV]  C=0.01, gamma=0.001, kernel=rbf, score=0.751042061386889, total=  37.5s\n",
      "[CV] C=0.01, gamma=0.01, kernel=poly .................................\n",
      "[CV]  C=0.01, gamma=0.01, kernel=poly, score=0.7510892214434552, total=  32.6s\n",
      "[CV] C=0.01, gamma=0.01, kernel=rbf ..................................\n",
      "[CV]  C=0.01, gamma=0.01, kernel=poly, score=0.751042061386889, total=  33.1s\n",
      "[CV] C=0.01, gamma=0.01, kernel=rbf ..................................\n"
     ]
    },
    {
     "name": "stderr",
     "output_type": "stream",
     "text": [
      "[Parallel(n_jobs=-1)]: Done  42 tasks      | elapsed: 10.0min\n"
     ]
    },
    {
     "name": "stdout",
     "output_type": "stream",
     "text": [
      "[CV]  C=0.01, gamma=0.01, kernel=poly, score=0.751042061386889, total=  33.2s\n",
      "[CV] C=0.01, gamma=0.01, kernel=rbf ..................................\n",
      "[CV]  C=0.01, gamma=0.01, kernel=poly, score=0.751042061386889, total=  34.3s\n",
      "[CV] C=0.01, gamma=0.01, kernel=rbf ..................................\n",
      "[CV]  C=0.01, gamma=0.01, kernel=rbf, score=0.7510892214434552, total=  36.8s\n",
      "[CV] C=0.01, gamma=0.1, kernel=poly ..................................\n",
      "[CV]  C=0.01, gamma=0.01, kernel=rbf, score=0.751042061386889, total=  37.2s\n",
      "[CV] C=0.01, gamma=0.1, kernel=poly ..................................\n",
      "[CV]  C=0.01, gamma=0.01, kernel=rbf, score=0.751042061386889, total=  37.2s\n",
      "[CV] C=0.01, gamma=0.1, kernel=poly ..................................\n",
      "[CV]  C=0.01, gamma=0.01, kernel=rbf, score=0.751042061386889, total=  37.8s\n",
      "[CV] C=0.01, gamma=0.1, kernel=poly ..................................\n",
      "[CV]  C=0.01, gamma=0.1, kernel=poly, score=0.808675885584391, total=  35.2s\n",
      "[CV] C=0.01, gamma=0.1, kernel=rbf ...................................\n",
      "[CV]  C=0.01, gamma=0.1, kernel=poly, score=0.8076923076923077, total=  34.5s\n",
      "[CV] C=0.01, gamma=0.1, kernel=rbf ...................................\n",
      "[CV]  C=0.01, gamma=0.1, kernel=poly, score=0.8078817733990148, total=  34.7s\n",
      "[CV] C=0.01, gamma=0.1, kernel=rbf ...................................\n",
      "[CV]  C=0.01, gamma=0.1, kernel=poly, score=0.8069344448654794, total=  35.5s\n",
      "[CV] C=0.01, gamma=0.1, kernel=rbf ...................................\n",
      "[CV]  C=0.01, gamma=0.1, kernel=rbf, score=0.7899223337753363, total=  42.7s\n",
      "[CV] C=0.01, gamma=1, kernel=poly ....................................\n"
     ]
    },
    {
     "name": "stderr",
     "output_type": "stream",
     "text": [
      "[Parallel(n_jobs=-1)]: Done  53 tasks      | elapsed: 12.8min\n"
     ]
    },
    {
     "name": "stdout",
     "output_type": "stream",
     "text": [
      "[CV]  C=0.01, gamma=0.1, kernel=rbf, score=0.797271693823418, total=  42.8s\n",
      "[CV] C=0.01, gamma=1, kernel=poly ....................................\n",
      "[CV]  C=0.01, gamma=0.1, kernel=rbf, score=0.7978400909435392, total=  42.3s\n",
      "[CV] C=0.01, gamma=1, kernel=poly ....................................\n",
      "[CV]  C=0.01, gamma=0.1, kernel=rbf, score=0.7968927624100038, total=  43.2s\n",
      "[CV] C=0.01, gamma=1, kernel=poly ....................................\n",
      "[CV]  C=0.01, gamma=1, kernel=poly, score=0.8408789543474143, total=  31.3s\n",
      "[CV] C=0.01, gamma=1, kernel=rbf .....................................\n",
      "[CV]  C=0.01, gamma=1, kernel=poly, score=0.8364910951117848, total=  32.1s\n",
      "[CV] C=0.01, gamma=1, kernel=rbf .....................................\n",
      "[CV]  C=0.01, gamma=1, kernel=poly, score=0.8408488063660478, total=  31.8s\n",
      "[CV] C=0.01, gamma=1, kernel=rbf .....................................\n",
      "[CV]  C=0.01, gamma=1, kernel=poly, score=0.8366805608184918, total=  32.6s\n",
      "[CV] C=0.01, gamma=1, kernel=rbf .....................................\n",
      "[CV]  C=0.01, gamma=1, kernel=rbf, score=0.7677590452737261, total=  56.2s\n",
      "[CV] C=0.1, gamma=0.001, kernel=poly .................................\n",
      "[CV]  C=0.01, gamma=1, kernel=rbf, score=0.7673361121636983, total=  55.8s\n",
      "[CV] C=0.1, gamma=0.001, kernel=poly .................................\n",
      "[CV]  C=0.01, gamma=1, kernel=rbf, score=0.7679045092838196, total=  55.2s\n",
      "[CV] C=0.1, gamma=0.001, kernel=poly .................................\n",
      "[CV]  C=0.01, gamma=1, kernel=rbf, score=0.7684729064039408, total=  56.2s\n",
      "[CV] C=0.1, gamma=0.001, kernel=poly .................................\n"
     ]
    },
    {
     "name": "stderr",
     "output_type": "stream",
     "text": [
      "[Parallel(n_jobs=-1)]: Done  64 tasks      | elapsed: 15.3min\n"
     ]
    },
    {
     "name": "stdout",
     "output_type": "stream",
     "text": [
      "[CV]  C=0.1, gamma=0.001, kernel=poly, score=0.7510892214434552, total=  33.9s\n",
      "[CV] C=0.1, gamma=0.001, kernel=rbf ..................................\n",
      "[CV]  C=0.1, gamma=0.001, kernel=poly, score=0.751042061386889, total=  31.7s\n",
      "[CV] C=0.1, gamma=0.001, kernel=rbf ..................................\n",
      "[CV]  C=0.1, gamma=0.001, kernel=poly, score=0.751042061386889, total=  32.0s\n",
      "[CV] C=0.1, gamma=0.001, kernel=rbf ..................................\n",
      "[CV]  C=0.1, gamma=0.001, kernel=poly, score=0.751042061386889, total=  32.3s\n",
      "[CV] C=0.1, gamma=0.001, kernel=rbf ..................................\n",
      "[CV]  C=0.1, gamma=0.001, kernel=rbf, score=0.7510892214434552, total=  38.4s\n",
      "[CV] C=0.1, gamma=0.01, kernel=poly ..................................\n",
      "[CV]  C=0.1, gamma=0.001, kernel=rbf, score=0.751042061386889, total=  37.5s\n",
      "[CV] C=0.1, gamma=0.01, kernel=poly ..................................\n",
      "[CV]  C=0.1, gamma=0.001, kernel=rbf, score=0.751042061386889, total=  38.1s\n",
      "[CV] C=0.1, gamma=0.01, kernel=poly ..................................\n",
      "[CV]  C=0.1, gamma=0.001, kernel=rbf, score=0.751042061386889, total=  37.4s\n",
      "[CV] C=0.1, gamma=0.01, kernel=poly ..................................\n",
      "[CV]  C=0.1, gamma=0.01, kernel=poly, score=0.7510892214434552, total=  36.8s\n",
      "[CV] C=0.1, gamma=0.01, kernel=rbf ...................................\n",
      "[CV]  C=0.1, gamma=0.01, kernel=poly, score=0.751042061386889, total=  37.8s\n",
      "[CV] C=0.1, gamma=0.01, kernel=rbf ...................................\n",
      "[CV]  C=0.1, gamma=0.01, kernel=poly, score=0.751042061386889, total=  38.7s\n",
      "[CV] C=0.1, gamma=0.01, kernel=rbf ...................................\n",
      "[CV]  C=0.1, gamma=0.01, kernel=poly, score=0.751042061386889, total=  36.8s\n",
      "[CV] C=0.1, gamma=0.01, kernel=rbf ...................................\n",
      "[CV]  C=0.1, gamma=0.01, kernel=rbf, score=0.8185262360295511, total=  38.0s\n",
      "[CV] C=0.1, gamma=0.1, kernel=poly ...................................\n"
     ]
    },
    {
     "name": "stderr",
     "output_type": "stream",
     "text": [
      "[Parallel(n_jobs=-1)]: Done  77 tasks      | elapsed: 18.7min\n"
     ]
    },
    {
     "name": "stdout",
     "output_type": "stream",
     "text": [
      "[CV]  C=0.1, gamma=0.01, kernel=rbf, score=0.8156498673740054, total=  36.9s\n",
      "[CV] C=0.1, gamma=0.1, kernel=poly ...................................\n",
      "[CV]  C=0.1, gamma=0.01, kernel=rbf, score=0.8207654414550967, total=  37.6s\n",
      "[CV] C=0.1, gamma=0.1, kernel=poly ...................................\n",
      "[CV]  C=0.1, gamma=0.01, kernel=rbf, score=0.8234179613489958, total=  38.1s\n",
      "[CV] C=0.1, gamma=0.1, kernel=poly ...................................\n",
      "[CV]  C=0.1, gamma=0.1, kernel=poly, score=0.8247774199659026, total=  32.2s\n",
      "[CV] C=0.1, gamma=0.1, kernel=rbf ....................................\n",
      "[CV]  C=0.1, gamma=0.1, kernel=poly, score=0.8192497158014399, total=  31.0s\n",
      "[CV] C=0.1, gamma=0.1, kernel=rbf ....................................\n",
      "[CV]  C=0.1, gamma=0.1, kernel=poly, score=0.8270178097764305, total=  30.6s\n",
      "[CV] C=0.1, gamma=0.1, kernel=rbf ....................................\n",
      "[CV]  C=0.1, gamma=0.1, kernel=poly, score=0.8273967411898446, total=  28.5s\n",
      "[CV] C=0.1, gamma=0.1, kernel=rbf ....................................\n",
      "[CV]  C=0.1, gamma=0.1, kernel=rbf, score=0.8253457094146619, total=  31.7s\n",
      "[CV] C=0.1, gamma=1, kernel=poly .....................................\n",
      "[CV]  C=0.1, gamma=0.1, kernel=rbf, score=0.819439181508147, total=  33.4s\n",
      "[CV] C=0.1, gamma=1, kernel=poly .....................................\n",
      "[CV]  C=0.1, gamma=0.1, kernel=rbf, score=0.8285335354300871, total=  33.0s\n",
      "[CV] C=0.1, gamma=1, kernel=poly .....................................\n",
      "[CV]  C=0.1, gamma=0.1, kernel=rbf, score=0.8260704812428951, total=  34.3s\n",
      "[CV] C=0.1, gamma=1, kernel=poly .....................................\n",
      "[CV]  C=0.1, gamma=1, kernel=poly, score=0.8342489107785566, total=  39.1s\n",
      "[CV] C=0.1, gamma=1, kernel=rbf ......................................\n",
      "[CV]  C=0.1, gamma=1, kernel=poly, score=0.8289124668435013, total=  39.9s\n",
      "[CV] C=0.1, gamma=1, kernel=rbf ......................................\n"
     ]
    },
    {
     "name": "stderr",
     "output_type": "stream",
     "text": [
      "[Parallel(n_jobs=-1)]: Done  90 tasks      | elapsed: 21.3min\n"
     ]
    },
    {
     "name": "stdout",
     "output_type": "stream",
     "text": [
      "[CV]  C=0.1, gamma=1, kernel=poly, score=0.8357332322849564, total=  40.7s\n",
      "[CV] C=0.1, gamma=1, kernel=rbf ......................................\n",
      "[CV]  C=0.1, gamma=1, kernel=poly, score=0.8313755210306935, total=  37.2s\n",
      "[CV] C=0.1, gamma=1, kernel=rbf ......................................\n"
     ]
    }
   ],
   "source": [
    "grid_search.fit(X_train_scaled, y_train)"
   ]
  },
  {
   "cell_type": "code",
   "execution_count": null,
   "metadata": {},
   "outputs": [],
   "source": [
    "save_search_result(grid_search, dataset, learner_type)"
   ]
  },
  {
   "cell_type": "markdown",
   "metadata": {},
   "source": [
    "### Analysis"
   ]
  },
  {
   "cell_type": "code",
   "execution_count": null,
   "metadata": {},
   "outputs": [],
   "source": [
    "res = grid_search.cv_results_"
   ]
  },
  {
   "cell_type": "code",
   "execution_count": null,
   "metadata": {},
   "outputs": [],
   "source": [
    "res_df = scikit_cv_result_to_df(res)\n",
    "res_df = res_df.drop(axis=1, labels=[c for c in res_df.columns if c.startswith('split')])"
   ]
  },
  {
   "cell_type": "code",
   "execution_count": null,
   "metadata": {},
   "outputs": [],
   "source": [
    "res_df.sort_values(by='rank_test_score').head(10)"
   ]
  },
  {
   "cell_type": "code",
   "execution_count": null,
   "metadata": {},
   "outputs": [],
   "source": [
    "rbf = res_df.xs('rbf', level='kernel')\n",
    "rbf = rbf.reset_index()\n",
    "# lin = res_df.xs('linear', level='kernel')\n",
    "# lin = lin.reset_index()\n",
    "poly = res_df.xs('poly', level='kernel')\n",
    "poly = poly.reset_index()"
   ]
  },
  {
   "cell_type": "code",
   "execution_count": null,
   "metadata": {},
   "outputs": [],
   "source": [
    "fig, (ax1, ax2) = plt.subplots(1,2, figsize=(12,4))\n",
    "\n",
    "ax1.set_title('Radial Basis Function')\n",
    "rbf.plot(kind='scatter', x='C', y='gamma', c='mean_test_score', s=rbf['std_test_score']*100000, cmap='winter', logx=True, logy=True, ax=ax1)\n",
    "\n",
    "ax2.set_title('Polynomial Function')\n",
    "poly.plot(kind='scatter', x='C', y='gamma', c='mean_test_score', s=poly['std_test_score']*100000, cmap='winter', logx=True, logy=True, ax=ax2)\n",
    "\n",
    "\n",
    "# Gamma has no effect for linear kernel\n",
    "# ax3.set_title('Linear Function')\n",
    "# lin.plot(kind='scatter', x='C', y='gamma', c='mean_test_score', s=lin['std_test_score']*100000, cmap='winter', logx=True, logy=True, ax=ax3)"
   ]
  },
  {
   "cell_type": "code",
   "execution_count": null,
   "metadata": {},
   "outputs": [],
   "source": [
    "# Helper function needed for std==0.0\n",
    "def std_to_size(std):\n",
    "    if std > 0:\n",
    "        return std * 10000\n",
    "    else:\n",
    "        return 10"
   ]
  },
  {
   "cell_type": "code",
   "execution_count": null,
   "metadata": {},
   "outputs": [],
   "source": [
    "fig, (ax1, ax2) = plt.subplots(1,2, figsize=(12,4))\n",
    "\n",
    "ax1.set_title('Radial Basis Function')\n",
    "rbf.plot(kind='scatter', x='C', y='gamma', c='mean_train_score', s=rbf['std_train_score'].apply(std_to_size), cmap='winter', logx=True, logy=True, ax=ax1)\n",
    "\n",
    "ax2.set_title('Polynomial Function')\n",
    "poly.plot(kind='scatter', x='C', y='gamma', c='mean_train_score', s=poly['std_train_score'].apply(std_to_size), cmap='winter', logx=True, logy=True, ax=ax2)\n",
    "\n",
    "# ax3.set_title('Linear Function')\n",
    "# lin.plot(kind='scatter', x='C', y='gamma', c='mean_train_score', s=lin['std_train_score'].apply(std_to_size), cmap='winter', logx=True, logy=True, ax=ax3)"
   ]
  },
  {
   "cell_type": "markdown",
   "metadata": {},
   "source": [
    "## SVM Learning Curve Analysis"
   ]
  },
  {
   "cell_type": "code",
   "execution_count": null,
   "metadata": {},
   "outputs": [],
   "source": [
    "# Find best estimator\n",
    "best_params = res['params'][np.argmin(res['rank_test_score'])]\n",
    "clf = SVC(**best_params)\n",
    "clf.get_params()"
   ]
  },
  {
   "cell_type": "code",
   "execution_count": null,
   "metadata": {},
   "outputs": [],
   "source": [
    "train_sizes, _, _, train_mean, train_std, test_mean, test_std = gen_and_plot_learning_curve(clf, X_train_scaled, y_train, ylim=None, cv=4, train_sizes=np.linspace(.05, 1.0, 20))"
   ]
  },
  {
   "cell_type": "markdown",
   "metadata": {},
   "source": [
    "### Timing statistics"
   ]
  },
  {
   "cell_type": "code",
   "execution_count": null,
   "metadata": {},
   "outputs": [],
   "source": [
    "# Helper function needed for std==0.0\n",
    "def std_to_size(std):\n",
    "    if std > 0:\n",
    "        return std * 100\n",
    "    else:\n",
    "        return 10"
   ]
  },
  {
   "cell_type": "code",
   "execution_count": null,
   "metadata": {},
   "outputs": [],
   "source": [
    "fig, (ax1, ax2) = plt.subplots(1,2, figsize=(12,4))\n",
    "\n",
    "ax1.set_title('Radial Basis Function')\n",
    "rbf.plot(kind='scatter', x='C', y='gamma', c='mean_fit_time', s=rbf['std_fit_time'].apply(std_to_size), cmap='winter', logx=True, logy=True, ax=ax1)\n",
    "\n",
    "ax2.set_title('Polynomial Function')\n",
    "poly.plot(kind='scatter', x='C', y='gamma', c='mean_fit_time', s=poly['std_fit_time'].apply(std_to_size), cmap='winter', logx=True, logy=True, ax=ax2)"
   ]
  },
  {
   "cell_type": "code",
   "execution_count": null,
   "metadata": {},
   "outputs": [],
   "source": []
  }
 ],
 "metadata": {
  "kernelspec": {
   "display_name": "Python 3",
   "language": "python",
   "name": "python3"
  },
  "language_info": {
   "codemirror_mode": {
    "name": "ipython",
    "version": 3
   },
   "file_extension": ".py",
   "mimetype": "text/x-python",
   "name": "python",
   "nbconvert_exporter": "python",
   "pygments_lexer": "ipython3",
   "version": "3.6.3"
  }
 },
 "nbformat": 4,
 "nbformat_minor": 2
}
