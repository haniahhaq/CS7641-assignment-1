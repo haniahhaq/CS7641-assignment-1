{
 "cells": [
  {
   "cell_type": "code",
   "execution_count": 1,
   "metadata": {},
   "outputs": [
    {
     "name": "stderr",
     "output_type": "stream",
     "text": [
      "/home/ubuntu/anaconda3/envs/tensorflow_p36/lib/python3.6/site-packages/matplotlib/font_manager.py:278: UserWarning: Matplotlib is building the font cache using fc-list. This may take a moment.\n",
      "  'Matplotlib is building the font cache using fc-list. '\n"
     ]
    }
   ],
   "source": [
    "%load_ext autoreload\n",
    "%autoreload 1\n",
    "%aimport helpers, loaders, plotters\n",
    "# autoreload may cause pickling errors"
   ]
  },
  {
   "cell_type": "code",
   "execution_count": null,
   "metadata": {},
   "outputs": [],
   "source": [
    "from pprint import pprint\n",
    "from math import ceil, floor\n",
    "from itertools import product\n",
    "\n",
    "import matplotlib.pyplot as plt\n",
    "import numpy as np\n",
    "import pandas as pd\n",
    "import scipy.stats\n",
    "from sklearn.metrics import accuracy_score\n",
    "from sklearn.model_selection import train_test_split, GridSearchCV, RandomizedSearchCV\n",
    "from sklearn.preprocessing import MinMaxScaler, StandardScaler\n",
    "\n",
    "from helpers import balanced_accuracy_scorer, balanced_accuracy, load_result_by_name, load_best_search, load_best_learning, save_learning_curve, save_search_result, scikit_cv_result_to_df\n",
    "from loaders import load_adult, load_mnist\n",
    "from plotters import plot_means_w_stds, gen_and_plot_learning_curve, plot_learning_curve, gen_and_plot_validation_curve, plot_validation_curve"
   ]
  },
  {
   "cell_type": "markdown",
   "metadata": {},
   "source": [
    "### Load Data"
   ]
  },
  {
   "cell_type": "code",
   "execution_count": 2,
   "metadata": {},
   "outputs": [],
   "source": [
    "dataset = 'adult'\n",
    "learner_type = 'SVM'\n",
    "loader_func = load_adult"
   ]
  },
  {
   "cell_type": "code",
   "execution_count": 3,
   "metadata": {
    "scrolled": true
   },
   "outputs": [
    {
     "name": "stdout",
     "output_type": "stream",
     "text": [
      "Dataset shape (30162, 105)\n",
      "Value composition:\n",
      "0    0.751078\n",
      "1    0.248922\n",
      "Name: target, dtype: float64\n"
     ]
    }
   ],
   "source": [
    "df = loader_func(preprocess=True)"
   ]
  },
  {
   "cell_type": "markdown",
   "metadata": {},
   "source": [
    "### Split data into training and testing"
   ]
  },
  {
   "cell_type": "code",
   "execution_count": 4,
   "metadata": {},
   "outputs": [],
   "source": [
    "X = df[[c for c in df.columns if c != 'target']]\n",
    "y = df['target']\n",
    "X_train, X_test, y_train, y_test = train_test_split(X, y, test_size=0.3, stratify=y, random_state=1)"
   ]
  },
  {
   "cell_type": "markdown",
   "metadata": {},
   "source": [
    "### Scale Data"
   ]
  },
  {
   "cell_type": "code",
   "execution_count": 5,
   "metadata": {},
   "outputs": [],
   "source": [
    "# Use min max scaling because input dataset is sparse, i.e. mostly zeros\n",
    "scaler = MinMaxScaler()\n",
    "\n",
    "X_train_scaled = scaler.fit_transform(X_train)\n",
    "X_test_scaled = scaler.transform(X_test)"
   ]
  },
  {
   "cell_type": "markdown",
   "metadata": {},
   "source": [
    "## Support Vector Machine Model Complexity\n",
    "Sources:\n",
    "1. https://medium.com/@aneesha/svm-parameter-tuning-in-scikit-learn-using-gridsearchcv-2413c02125a0\n",
    "2. https://www.datacamp.com/community/tutorials/svm-classification-scikit-learn-python"
   ]
  },
  {
   "cell_type": "markdown",
   "metadata": {},
   "source": [
    "#### Hyperparameters for SVMs\n",
    "\n",
    "**Kernel:** The kernel function used to perform the \"kernel trick\"\n",
    "\n",
    "**C:** Penalty parameter C of the error term. The regularization parameter. Can determine the resistance to outliers. Intuitively, this determines how hard the algorithm tries to find the largest margin. For larger values of C, the algorithm will try to fit all data points. For lower values of C, it will prefer the largest margin.\n",
    "\n",
    "**gamma:** Kernel coefficient for ‘rbf’, ‘poly’ and ‘sigmoid’. If gamma is ‘auto’ then 1/n_features will be used instead."
   ]
  },
  {
   "cell_type": "code",
   "execution_count": 9,
   "metadata": {},
   "outputs": [
    {
     "data": {
      "text/plain": [
       "{'C': array([1.e-03, 1.e-02, 1.e-01, 1.e+00, 1.e+01, 1.e+02]),\n",
       " 'max_iter': array([   10.,   100.,  1000., 10000.])}"
      ]
     },
     "execution_count": 9,
     "metadata": {},
     "output_type": "execute_result"
    }
   ],
   "source": [
    "from sklearn.svm import LinearSVC\n",
    "\n",
    "linear_clf = LinearSVC(random_state=1)\n",
    "\n",
    "linear_param_grid = {\n",
    "    'C': np.logspace(-3, 2, 6),\n",
    "    'max_iter': np.logspace(1, 4, 4)\n",
    "}\n",
    "linear_param_grid"
   ]
  },
  {
   "cell_type": "code",
   "execution_count": 10,
   "metadata": {},
   "outputs": [],
   "source": [
    "linear_grid_search = GridSearchCV(\n",
    "    estimator=linear_clf,\n",
    "    param_grid=linear_param_grid,\n",
    "    scoring=balanced_accuracy_scorer,\n",
    "    return_train_score=True,\n",
    "    cv=4,\n",
    "    verbose=10,\n",
    "    n_jobs=-1,\n",
    ")"
   ]
  },
  {
   "cell_type": "code",
   "execution_count": 11,
   "metadata": {},
   "outputs": [
    {
     "name": "stdout",
     "output_type": "stream",
     "text": [
      "Fitting 4 folds for each of 24 candidates, totalling 96 fits\n",
      "[CV] C=0.001, max_iter=10.0 ..........................................\n",
      "[CV] C=0.001, max_iter=10.0 ..........................................\n",
      "[CV] C=0.001, max_iter=10.0 ..........................................\n",
      "[CV] C=0.001, max_iter=10.0 ..........................................\n",
      "[CV] C=0.001, max_iter=100.0 .........................................\n",
      "[CV] . C=0.001, max_iter=10.0, score=0.7116182118652363, total=   0.1s\n",
      "[CV] C=0.001, max_iter=100.0 .........................................\n",
      "[CV] . C=0.001, max_iter=10.0, score=0.7161683077683935, total=   0.1s\n",
      "[CV] C=0.001, max_iter=100.0 .........................................\n",
      "[CV] C=0.001, max_iter=100.0 .........................................\n",
      "[CV] . C=0.001, max_iter=10.0, score=0.7010885258037712, total=   0.2s\n",
      "[CV] . C=0.001, max_iter=10.0, score=0.7082866805818578, total=   0.1s\n",
      "[CV] C=0.001, max_iter=1000.0 ........................................\n",
      "[CV]  C=0.001, max_iter=100.0, score=0.7010885258037712, total=   0.1s\n",
      "[CV] C=0.001, max_iter=1000.0 ........................................\n"
     ]
    },
    {
     "name": "stderr",
     "output_type": "stream",
     "text": [
      "[Parallel(n_jobs=-1)]: Batch computation too fast (0.1979s.) Setting batch_size=2.\n"
     ]
    },
    {
     "name": "stdout",
     "output_type": "stream",
     "text": [
      "[CV] C=0.001, max_iter=1000.0 ........................................\n",
      "[CV]  C=0.001, max_iter=100.0, score=0.7161683077683935, total=   0.2s\n",
      "[CV]  C=0.001, max_iter=100.0, score=0.7116182118652363, total=   0.2s\n",
      "[CV]  C=0.001, max_iter=100.0, score=0.7082866805818578, total=   0.1s\n",
      "[CV]  C=0.001, max_iter=1000.0, score=0.7116182118652363, total=   0.2s\n",
      "[CV] C=0.001, max_iter=1000.0 ........................................\n",
      "[CV] C=0.001, max_iter=10000.0 .......................................\n",
      "[CV]  C=0.001, max_iter=1000.0, score=0.7161683077683935, total=   0.1s\n",
      "[CV] C=0.001, max_iter=10000.0 .......................................\n",
      "[CV]  C=0.001, max_iter=1000.0, score=0.7010885258037712, total=   0.2s\n",
      "[CV] C=0.001, max_iter=10000.0 .......................................\n",
      "[CV] C=0.001, max_iter=10000.0 .......................................\n"
     ]
    },
    {
     "name": "stderr",
     "output_type": "stream",
     "text": [
      "[Parallel(n_jobs=-1)]: Done   9 tasks      | elapsed:    0.5s\n"
     ]
    },
    {
     "name": "stdout",
     "output_type": "stream",
     "text": [
      "[CV] C=0.01, max_iter=10.0 ...........................................\n",
      "[CV]  C=0.001, max_iter=1000.0, score=0.7082866805818578, total=   0.2s\n",
      "[CV]  C=0.001, max_iter=10000.0, score=0.7116182118652363, total=   0.1s\n",
      "[CV] C=0.01, max_iter=10.0 ...........................................\n",
      "[CV]  C=0.001, max_iter=10000.0, score=0.7010885258037712, total=   0.2s\n",
      "[CV]  C=0.001, max_iter=10000.0, score=0.7161683077683935, total=   0.1s\n",
      "[CV] C=0.01, max_iter=10.0 ...........................................\n",
      "[CV] C=0.01, max_iter=10.0 ...........................................\n",
      "[CV] .. C=0.01, max_iter=10.0, score=0.7432320667330772, total=   0.2s\n",
      "[CV] .. C=0.01, max_iter=10.0, score=0.7380325133200325, total=   0.1s\n",
      "[CV] C=0.01, max_iter=100.0 ..........................................\n",
      "[CV]  C=0.001, max_iter=10000.0, score=0.7082866805818578, total=   0.2s\n",
      "[CV] .. C=0.01, max_iter=10.0, score=0.7434732224725729, total=   0.1s\n",
      "[CV] C=0.01, max_iter=100.0 ..........................................\n",
      "[CV] C=0.01, max_iter=100.0 ..........................................\n",
      "[CV] C=0.01, max_iter=100.0 ..........................................\n",
      "[CV] .. C=0.01, max_iter=10.0, score=0.7420646165566199, total=   0.2s\n",
      "[CV] C=0.01, max_iter=1000.0 .........................................\n",
      "[CV] C=0.01, max_iter=1000.0 .........................................\n",
      "[CV] . C=0.01, max_iter=100.0, score=0.7432320667330772, total=   0.2s\n"
     ]
    },
    {
     "name": "stderr",
     "output_type": "stream",
     "text": [
      "[Parallel(n_jobs=-1)]: Done  18 tasks      | elapsed:    1.0s\n"
     ]
    },
    {
     "name": "stdout",
     "output_type": "stream",
     "text": [
      "[CV] C=0.01, max_iter=1000.0 .........................................\n",
      "[CV] . C=0.01, max_iter=100.0, score=0.7380325133200325, total=   0.2s\n",
      "[CV]  C=0.01, max_iter=1000.0, score=0.7432320667330772, total=   0.1s\n",
      "[CV] C=0.01, max_iter=1000.0 .........................................\n",
      "[CV] . C=0.01, max_iter=100.0, score=0.7434732224725729, total=   0.2s\n",
      "[CV] . C=0.01, max_iter=100.0, score=0.7420646165566199, total=   0.2s\n",
      "[CV] C=0.01, max_iter=10000.0 ........................................\n",
      "[CV]  C=0.01, max_iter=1000.0, score=0.7380325133200325, total=   0.3s\n",
      "[CV]  C=0.01, max_iter=1000.0, score=0.7434732224725729, total=   0.2s\n",
      "[CV]  C=0.01, max_iter=1000.0, score=0.7420646165566199, total=   0.2s\n",
      "[CV] C=0.01, max_iter=10000.0 ........................................\n",
      "[CV] C=0.01, max_iter=10000.0 ........................................\n",
      "[CV] C=0.01, max_iter=10000.0 ........................................\n",
      "[CV]  C=0.01, max_iter=10000.0, score=0.7432320667330772, total=   0.2s\n",
      "[CV] C=0.1, max_iter=10.0 ............................................\n",
      "[CV]  C=0.01, max_iter=10000.0, score=0.7380325133200325, total=   0.1s\n",
      "[CV] C=0.1, max_iter=10.0 ............................................\n",
      "[CV] C=0.1, max_iter=100.0 ...........................................\n",
      "[CV] ... C=0.1, max_iter=10.0, score=0.7564306978297546, total=   0.1s\n",
      "[CV]  C=0.01, max_iter=10000.0, score=0.7434732224725729, total=   0.2s\n",
      "[CV]  C=0.01, max_iter=10000.0, score=0.7420646165566199, total=   0.2s\n",
      "[CV] C=0.1, max_iter=10.0 ............................................\n"
     ]
    },
    {
     "name": "stderr",
     "output_type": "stream",
     "text": [
      "[Parallel(n_jobs=-1)]: Done  29 tasks      | elapsed:    1.6s\n"
     ]
    },
    {
     "name": "stdout",
     "output_type": "stream",
     "text": [
      "[CV] C=0.1, max_iter=100.0 ...........................................\n",
      "[CV] C=0.1, max_iter=1000.0 ..........................................\n",
      "[CV] ... C=0.1, max_iter=10.0, score=0.7675719604292515, total=   0.2s\n",
      "[CV] C=0.1, max_iter=10.0 ............................................\n",
      "[CV] C=0.1, max_iter=1000.0 ..........................................\n",
      "[CV] C=0.1, max_iter=10000.0 .........................................\n",
      "[CV] ... C=0.1, max_iter=10.0, score=0.7700297732868264, total=   0.1s\n",
      "[CV] .. C=0.1, max_iter=100.0, score=0.7561762837307414, total=   0.2s\n",
      "[CV] C=0.1, max_iter=100.0 ...........................................\n",
      "[CV] C=0.1, max_iter=10000.0 .........................................\n",
      "[CV] .. C=0.1, max_iter=100.0, score=0.7631234381887521, total=   0.2s\n",
      "[CV] C=0.1, max_iter=100.0 ...........................................\n",
      "[CV] C=1.0, max_iter=10.0 ............................................\n",
      "[CV] . C=0.1, max_iter=1000.0, score=0.7631234381887521, total=   0.2s\n",
      "[CV] . C=0.1, max_iter=1000.0, score=0.7561762837307414, total=   0.3s\n",
      "[CV] C=0.1, max_iter=1000.0 ..........................................\n",
      "[CV] C=1.0, max_iter=10.0 ............................................\n",
      "[CV] C=0.1, max_iter=1000.0 ..........................................\n",
      "[CV] ... C=0.1, max_iter=10.0, score=0.7570224870101846, total=   0.3s\n",
      "[CV] C=1.0, max_iter=100.0 ...........................................\n",
      "[CV] C=1.0, max_iter=100.0 ...........................................\n",
      "[CV] .. C=0.1, max_iter=100.0, score=0.7570499410985014, total=   0.3s\n",
      "[CV]  C=0.1, max_iter=10000.0, score=0.7561762837307414, total=   0.3s\n",
      "[CV] C=1.0, max_iter=1000.0 ..........................................\n",
      "[CV] C=0.1, max_iter=10000.0 .........................................\n",
      "[CV] ... C=1.0, max_iter=10.0, score=0.6802035888606739, total=   0.2s\n",
      "[CV] C=1.0, max_iter=10.0 ............................................\n",
      "[CV] C=1.0, max_iter=1000.0 ..........................................\n",
      "[CV] C=1.0, max_iter=10000.0 .........................................\n",
      "[CV] ... C=1.0, max_iter=10.0, score=0.7593520527978596, total=   0.2s\n",
      "[CV] C=1.0, max_iter=10.0 ............................................\n",
      "[CV]  C=0.1, max_iter=10000.0, score=0.7631234381887521, total=   0.3s\n",
      "[CV] C=0.1, max_iter=10000.0 .........................................\n",
      "[CV] . C=0.1, max_iter=1000.0, score=0.7589292982351052, total=   0.3s\n",
      "[CV] . C=0.1, max_iter=1000.0, score=0.7570499410985014, total=   0.3s\n",
      "[CV] C=1.0, max_iter=10000.0 .........................................\n",
      "[CV] .. C=0.1, max_iter=100.0, score=0.7589292982351052, total=   0.4s\n",
      "[CV] C=10.0, max_iter=10.0 ...........................................\n",
      "[CV] ... C=1.0, max_iter=10.0, score=0.7540226958916396, total=   0.2s\n",
      "[CV]  C=0.1, max_iter=10000.0, score=0.7570499410985014, total=   0.3s\n",
      "[CV] C=10.0, max_iter=10.0 ...........................................\n",
      "[CV] C=10.0, max_iter=100.0 ..........................................\n",
      "[CV] .. C=10.0, max_iter=10.0, score=0.6721241417962729, total=   0.2s\n",
      "[CV]  C=0.1, max_iter=10000.0, score=0.7589292982351052, total=   0.3s\n",
      "[CV] .. C=1.0, max_iter=100.0, score=0.7692243893673196, total=   0.6s\n",
      "[CV] C=10.0, max_iter=10.0 ...........................................\n",
      "[CV] C=1.0, max_iter=100.0 ...........................................\n",
      "[CV] ... C=1.0, max_iter=10.0, score=0.7982558398493597, total=   0.4s\n",
      "[CV] .. C=1.0, max_iter=100.0, score=0.7590876984881026, total=   0.7s\n",
      "[CV] C=1.0, max_iter=100.0 ...........................................\n",
      "[CV] C=10.0, max_iter=100.0 ..........................................\n",
      "[CV] C=10.0, max_iter=1000.0 .........................................\n",
      "[CV] C=10.0, max_iter=1000.0 .........................................\n",
      "[CV] .. C=10.0, max_iter=10.0, score=0.7322016873321077, total=   0.3s\n",
      "[CV] .. C=10.0, max_iter=10.0, score=0.6184127466836229, total=   0.2s\n",
      "[CV] C=10.0, max_iter=10.0 ...........................................\n",
      "[CV] C=10.0, max_iter=10000.0 ........................................\n",
      "[CV] . C=1.0, max_iter=1000.0, score=0.7675719604292515, total=   0.8s\n",
      "[CV] C=1.0, max_iter=1000.0 ..........................................\n",
      "[CV] . C=1.0, max_iter=1000.0, score=0.7587115955631561, total=   0.8s\n",
      "[CV] C=10.0, max_iter=10000.0 ........................................\n",
      "[CV] C=1.0, max_iter=1000.0 ..........................................\n",
      "[CV] C=100.0, max_iter=10.0 ..........................................\n",
      "[CV]  C=1.0, max_iter=10000.0, score=0.7675719604292515, total=   0.7s\n",
      "[CV] C=1.0, max_iter=10000.0 .........................................\n",
      "[CV] C=100.0, max_iter=10.0 ..........................................\n",
      "[CV]  C=1.0, max_iter=10000.0, score=0.7587115955631561, total=   1.0s\n",
      "[CV] . C=10.0, max_iter=100.0, score=0.8098220540843492, total=   0.5s\n",
      "[CV] .. C=10.0, max_iter=10.0, score=0.6787092201195846, total=   0.3s\n",
      "[CV] C=1.0, max_iter=10000.0 .........................................\n",
      "[CV] C=10.0, max_iter=100.0 ..........................................\n",
      "[CV] .. C=1.0, max_iter=100.0, score=0.7652677368769457, total=   0.6s\n",
      "[CV] C=100.0, max_iter=100.0 .........................................\n",
      "[CV] C=100.0, max_iter=100.0 .........................................\n",
      "[CV] .. C=1.0, max_iter=100.0, score=0.7631403330123318, total=   0.6s\n",
      "[CV] C=100.0, max_iter=1000.0 ........................................\n",
      "[CV] C=100.0, max_iter=1000.0 ........................................\n",
      "[CV] . C=100.0, max_iter=10.0, score=0.7493842622183066, total=   0.4s\n",
      "[CV] C=100.0, max_iter=10.0 ..........................................\n",
      "[CV] . C=10.0, max_iter=100.0, score=0.7551536891383179, total=   0.7s\n",
      "[CV] C=10.0, max_iter=100.0 ..........................................\n",
      "[CV] . C=100.0, max_iter=10.0, score=0.6842887356067623, total=   0.4s\n",
      "[CV] C=100.0, max_iter=10.0 ..........................................\n",
      "[CV] . C=100.0, max_iter=10.0, score=0.6506791719079017, total=   0.2s\n",
      "[CV] C=100.0, max_iter=10000.0 .......................................\n",
      "[CV] .. C=10.0, max_iter=100.0, score=0.658213495277897, total=   0.6s\n",
      "[CV] C=100.0, max_iter=10000.0 .......................................\n",
      "[CV]  C=100.0, max_iter=100.0, score=0.6069651497789831, total=   0.6s\n",
      "[CV] C=100.0, max_iter=100.0 .........................................\n",
      "[CV] . C=1.0, max_iter=1000.0, score=0.7647589723032406, total=   0.9s\n",
      "[CV] . C=100.0, max_iter=10.0, score=0.7721679284028095, total=   0.4s\n",
      "[CV]  C=1.0, max_iter=10000.0, score=0.7623771861517739, total=   0.8s\n",
      "[CV]  C=1.0, max_iter=10000.0, score=0.7647589723032406, total=   1.0s\n",
      "[CV] . C=1.0, max_iter=1000.0, score=0.7623771861517739, total=   1.1s\n",
      "[CV] . C=10.0, max_iter=100.0, score=0.6795773836676204, total=   0.6s\n",
      "[CV]  C=100.0, max_iter=100.0, score=0.6985510384940875, total=   0.9s\n",
      "[CV] C=100.0, max_iter=100.0 .........................................\n",
      "[CV]  C=100.0, max_iter=100.0, score=0.7280307777608829, total=   0.5s\n",
      "[CV]  C=100.0, max_iter=100.0, score=0.7547560848243016, total=   0.3s\n",
      "[CV]  C=10.0, max_iter=1000.0, score=0.7592182164717534, total=   2.5s\n",
      "[CV] C=10.0, max_iter=1000.0 .........................................\n",
      "[CV]  C=10.0, max_iter=1000.0, score=0.7673196899953463, total=   2.8s\n",
      "[CV] C=10.0, max_iter=1000.0 .........................................\n",
      "[CV]  C=100.0, max_iter=1000.0, score=0.7987401175813481, total=   2.6s\n",
      "[CV] C=100.0, max_iter=1000.0 ........................................\n",
      "[CV]  C=100.0, max_iter=1000.0, score=0.804174211741288, total=   2.9s\n",
      "[CV] C=100.0, max_iter=1000.0 ........................................\n",
      "[CV]  C=10.0, max_iter=1000.0, score=0.7638992561669946, total=   2.0s\n",
      "[CV]  C=10.0, max_iter=1000.0, score=0.7641282962184777, total=   1.9s\n",
      "[CV]  C=100.0, max_iter=1000.0, score=0.6760329264752637, total=   1.4s\n",
      "[CV]  C=10.0, max_iter=10000.0, score=0.7578222498613246, total=   5.2s\n",
      "[CV] C=10.0, max_iter=10000.0 ........................................\n",
      "[CV]  C=100.0, max_iter=1000.0, score=0.7525428629353681, total=   2.3s\n",
      "[CV]  C=10.0, max_iter=10000.0, score=0.7669391724915411, total=   5.7s\n",
      "[CV] C=10.0, max_iter=10000.0 ........................................\n",
      "[CV]  C=10.0, max_iter=10000.0, score=0.7618684215780688, total=   2.2s\n"
     ]
    },
    {
     "name": "stdout",
     "output_type": "stream",
     "text": [
      "[CV]  C=10.0, max_iter=10000.0, score=0.7633672612108674, total=   2.1s\n",
      "[CV]  C=100.0, max_iter=10000.0, score=0.7570612148537141, total=  11.0s\n",
      "[CV] C=100.0, max_iter=10000.0 .......................................\n",
      "[CV]  C=100.0, max_iter=10000.0, score=0.7660477785610832, total=  11.0s\n",
      "[CV] C=100.0, max_iter=10000.0 .......................................\n",
      "[CV]  C=100.0, max_iter=10000.0, score=0.762477979133357, total=   8.8s\n",
      "[CV]  C=100.0, max_iter=10000.0, score=0.7630099740894842, total=   9.3s\n"
     ]
    },
    {
     "name": "stderr",
     "output_type": "stream",
     "text": [
      "[Parallel(n_jobs=-1)]: Done  96 out of  96 | elapsed:   24.3s finished\n"
     ]
    },
    {
     "data": {
      "text/plain": [
       "GridSearchCV(cv=4, error_score='raise',\n",
       "       estimator=LinearSVC(C=1.0, class_weight=None, dual=True, fit_intercept=True,\n",
       "     intercept_scaling=1, loss='squared_hinge', max_iter=1000,\n",
       "     multi_class='ovr', penalty='l2', random_state=1, tol=0.0001,\n",
       "     verbose=0),\n",
       "       fit_params=None, iid=True, n_jobs=-1,\n",
       "       param_grid={'C': array([1.e-03, 1.e-02, 1.e-01, 1.e+00, 1.e+01, 1.e+02]), 'max_iter': array([   10.,   100.,  1000., 10000.])},\n",
       "       pre_dispatch='2*n_jobs', refit=True, return_train_score=True,\n",
       "       scoring=make_scorer(balanced_accuracy), verbose=10)"
      ]
     },
     "execution_count": 11,
     "metadata": {},
     "output_type": "execute_result"
    }
   ],
   "source": [
    "linear_grid_search.fit(X_train_scaled, y_train)"
   ]
  },
  {
   "cell_type": "code",
   "execution_count": 12,
   "metadata": {},
   "outputs": [],
   "source": [
    "save_search_result(linear_grid_search, dataset, learner_type, extras='linear')"
   ]
  },
  {
   "cell_type": "code",
   "execution_count": 13,
   "metadata": {},
   "outputs": [
    {
     "data": {
      "text/plain": [
       "{'C': array([1.e-03, 1.e-02, 1.e-01, 1.e+00, 1.e+01, 1.e+02]),\n",
       " 'max_iter': array([   10.,   100.,  1000., 10000.]),\n",
       " 'gamma': array([1.e-04, 1.e-03, 1.e-02, 1.e-01, 1.e+00, 1.e+01])}"
      ]
     },
     "execution_count": 13,
     "metadata": {},
     "output_type": "execute_result"
    }
   ],
   "source": [
    "from sklearn.svm import SVC\n",
    "\n",
    "rbf_clf = SVC(kernel='rbf', random_state=1)\n",
    "\n",
    "rbf_param_grid = {\n",
    "    'C': np.logspace(-3, 2, 6),\n",
    "    'max_iter': np.logspace(1, 4, 4),\n",
    "    'gamma': np.logspace(-4, 1, 6),\n",
    "}\n",
    "rbf_param_grid"
   ]
  },
  {
   "cell_type": "code",
   "execution_count": 14,
   "metadata": {},
   "outputs": [],
   "source": [
    "rbf_grid_search = GridSearchCV(\n",
    "    estimator=rbf_clf,\n",
    "    param_grid=rbf_param_grid,\n",
    "    scoring=balanced_accuracy_scorer,\n",
    "    return_train_score=True,\n",
    "    cv=4,\n",
    "    verbose=10,\n",
    "    n_jobs=-1,\n",
    ")"
   ]
  },
  {
   "cell_type": "code",
   "execution_count": 15,
   "metadata": {
    "scrolled": true
   },
   "outputs": [
    {
     "name": "stdout",
     "output_type": "stream",
     "text": [
      "Fitting 4 folds for each of 144 candidates, totalling 576 fits\n",
      "[CV] C=0.001, gamma=0.0001, max_iter=10.0 ............................\n",
      "[CV] C=0.001, gamma=0.0001, max_iter=10.0 ............................\n",
      "[CV] C=0.001, gamma=0.0001, max_iter=10.0 ............................\n",
      "[CV] C=0.001, gamma=0.0001, max_iter=10.0 ............................\n",
      "[CV] C=0.001, gamma=0.0001, max_iter=100.0 ...........................\n",
      "[CV] C=0.001, gamma=0.0001, max_iter=100.0 ...........................\n"
     ]
    },
    {
     "name": "stderr",
     "output_type": "stream",
     "text": [
      "/home/ubuntu/anaconda3/envs/tensorflow_p36/lib/python3.6/site-packages/sklearn/svm/base.py:218: ConvergenceWarning: Solver terminated early (max_iter=10).  Consider pre-processing your data with StandardScaler or MinMaxScaler.\n",
      "  % self.max_iter, ConvergenceWarning)\n"
     ]
    },
    {
     "name": "stdout",
     "output_type": "stream",
     "text": [
      "[CV] C=0.001, gamma=0.0001, max_iter=100.0 ...........................\n"
     ]
    },
    {
     "name": "stderr",
     "output_type": "stream",
     "text": [
      "/home/ubuntu/anaconda3/envs/tensorflow_p36/lib/python3.6/site-packages/sklearn/svm/base.py:218: ConvergenceWarning: Solver terminated early (max_iter=10).  Consider pre-processing your data with StandardScaler or MinMaxScaler.\n",
      "  % self.max_iter, ConvergenceWarning)\n",
      "/home/ubuntu/anaconda3/envs/tensorflow_p36/lib/python3.6/site-packages/sklearn/svm/base.py:218: ConvergenceWarning: Solver terminated early (max_iter=10).  Consider pre-processing your data with StandardScaler or MinMaxScaler.\n",
      "  % self.max_iter, ConvergenceWarning)\n"
     ]
    },
    {
     "name": "stdout",
     "output_type": "stream",
     "text": [
      "[CV] C=0.001, gamma=0.0001, max_iter=100.0 ...........................\n",
      "[CV]  C=0.001, gamma=0.0001, max_iter=10.0, score=0.6625790545507589, total=   0.2s\n"
     ]
    },
    {
     "name": "stderr",
     "output_type": "stream",
     "text": [
      "/home/ubuntu/anaconda3/envs/tensorflow_p36/lib/python3.6/site-packages/sklearn/svm/base.py:218: ConvergenceWarning: Solver terminated early (max_iter=10).  Consider pre-processing your data with StandardScaler or MinMaxScaler.\n",
      "  % self.max_iter, ConvergenceWarning)\n"
     ]
    },
    {
     "name": "stdout",
     "output_type": "stream",
     "text": [
      "[CV] C=0.001, gamma=0.0001, max_iter=1000.0 ..........................\n",
      "[CV]  C=0.001, gamma=0.0001, max_iter=10.0, score=0.5428792542317693, total=   0.2s\n",
      "[CV]  C=0.001, gamma=0.0001, max_iter=10.0, score=0.609799266457478, total=   0.2s\n",
      "[CV] C=0.001, gamma=0.0001, max_iter=1000.0 ..........................\n",
      "[CV]  C=0.001, gamma=0.0001, max_iter=10.0, score=0.722772071935087, total=   0.2s\n",
      "[CV] C=0.001, gamma=0.0001, max_iter=1000.0 ..........................\n",
      "[CV] C=0.001, gamma=0.0001, max_iter=1000.0 ..........................\n",
      "[CV] C=0.001, gamma=0.0001, max_iter=10000.0 .........................\n",
      "[CV] C=0.001, gamma=0.0001, max_iter=10000.0 .........................\n",
      "[CV] C=0.001, gamma=0.0001, max_iter=10000.0 .........................\n",
      "[CV] C=0.001, gamma=0.0001, max_iter=10000.0 .........................\n",
      "[CV] C=0.001, gamma=0.001, max_iter=10.0 .............................\n",
      "[CV] C=0.001, gamma=0.001, max_iter=10.0 .............................\n",
      "[CV] C=0.001, gamma=0.001, max_iter=10.0 .............................\n",
      "[CV] C=0.001, gamma=0.001, max_iter=10.0 .............................\n"
     ]
    },
    {
     "name": "stderr",
     "output_type": "stream",
     "text": [
      "/home/ubuntu/anaconda3/envs/tensorflow_p36/lib/python3.6/site-packages/sklearn/svm/base.py:218: ConvergenceWarning: Solver terminated early (max_iter=10).  Consider pre-processing your data with StandardScaler or MinMaxScaler.\n",
      "  % self.max_iter, ConvergenceWarning)\n",
      "/home/ubuntu/anaconda3/envs/tensorflow_p36/lib/python3.6/site-packages/sklearn/svm/base.py:218: ConvergenceWarning: Solver terminated early (max_iter=10).  Consider pre-processing your data with StandardScaler or MinMaxScaler.\n",
      "  % self.max_iter, ConvergenceWarning)\n"
     ]
    },
    {
     "name": "stdout",
     "output_type": "stream",
     "text": [
      "[CV]  C=0.001, gamma=0.001, max_iter=10.0, score=0.6652183968936718, total=   0.3s\n"
     ]
    },
    {
     "name": "stderr",
     "output_type": "stream",
     "text": [
      "/home/ubuntu/anaconda3/envs/tensorflow_p36/lib/python3.6/site-packages/sklearn/svm/base.py:218: ConvergenceWarning: Solver terminated early (max_iter=10).  Consider pre-processing your data with StandardScaler or MinMaxScaler.\n",
      "  % self.max_iter, ConvergenceWarning)\n"
     ]
    },
    {
     "name": "stdout",
     "output_type": "stream",
     "text": [
      "[CV] C=0.001, gamma=0.001, max_iter=100.0 ............................\n",
      "[CV]  C=0.001, gamma=0.001, max_iter=10.0, score=0.49432161139755526, total=   0.3s\n",
      "[CV] C=0.001, gamma=0.001, max_iter=100.0 ............................\n"
     ]
    },
    {
     "name": "stderr",
     "output_type": "stream",
     "text": [
      "/home/ubuntu/anaconda3/envs/tensorflow_p36/lib/python3.6/site-packages/sklearn/svm/base.py:218: ConvergenceWarning: Solver terminated early (max_iter=10).  Consider pre-processing your data with StandardScaler or MinMaxScaler.\n",
      "  % self.max_iter, ConvergenceWarning)\n"
     ]
    },
    {
     "name": "stdout",
     "output_type": "stream",
     "text": [
      "[CV]  C=0.001, gamma=0.001, max_iter=10.0, score=0.6099211779685357, total=   0.3s\n",
      "[CV] C=0.001, gamma=0.001, max_iter=100.0 ............................\n",
      "[CV]  C=0.001, gamma=0.001, max_iter=10.0, score=0.7106461962840603, total=   0.3s\n",
      "[CV] C=0.001, gamma=0.001, max_iter=100.0 ............................\n"
     ]
    },
    {
     "name": "stderr",
     "output_type": "stream",
     "text": [
      "/home/ubuntu/anaconda3/envs/tensorflow_p36/lib/python3.6/site-packages/sklearn/svm/base.py:218: ConvergenceWarning: Solver terminated early (max_iter=100).  Consider pre-processing your data with StandardScaler or MinMaxScaler.\n",
      "  % self.max_iter, ConvergenceWarning)\n",
      "/home/ubuntu/anaconda3/envs/tensorflow_p36/lib/python3.6/site-packages/sklearn/svm/base.py:218: ConvergenceWarning: Solver terminated early (max_iter=100).  Consider pre-processing your data with StandardScaler or MinMaxScaler.\n",
      "  % self.max_iter, ConvergenceWarning)\n",
      "/home/ubuntu/anaconda3/envs/tensorflow_p36/lib/python3.6/site-packages/sklearn/svm/base.py:218: ConvergenceWarning: Solver terminated early (max_iter=100).  Consider pre-processing your data with StandardScaler or MinMaxScaler.\n",
      "  % self.max_iter, ConvergenceWarning)\n",
      "/home/ubuntu/anaconda3/envs/tensorflow_p36/lib/python3.6/site-packages/sklearn/svm/base.py:218: ConvergenceWarning: Solver terminated early (max_iter=100).  Consider pre-processing your data with StandardScaler or MinMaxScaler.\n",
      "  % self.max_iter, ConvergenceWarning)\n",
      "/home/ubuntu/anaconda3/envs/tensorflow_p36/lib/python3.6/site-packages/sklearn/svm/base.py:218: ConvergenceWarning: Solver terminated early (max_iter=100).  Consider pre-processing your data with StandardScaler or MinMaxScaler.\n",
      "  % self.max_iter, ConvergenceWarning)\n",
      "/home/ubuntu/anaconda3/envs/tensorflow_p36/lib/python3.6/site-packages/sklearn/svm/base.py:218: ConvergenceWarning: Solver terminated early (max_iter=100).  Consider pre-processing your data with StandardScaler or MinMaxScaler.\n",
      "  % self.max_iter, ConvergenceWarning)\n"
     ]
    },
    {
     "name": "stdout",
     "output_type": "stream",
     "text": [
      "[CV]  C=0.001, gamma=0.0001, max_iter=100.0, score=0.7131490150690689, total=   1.2s\n",
      "[CV] C=0.001, gamma=0.001, max_iter=1000.0 ...........................\n",
      "[CV]  C=0.001, gamma=0.0001, max_iter=100.0, score=0.7017750699983258, total=   1.2s\n",
      "[CV] C=0.001, gamma=0.001, max_iter=1000.0 ...........................\n"
     ]
    },
    {
     "name": "stderr",
     "output_type": "stream",
     "text": [
      "/home/ubuntu/anaconda3/envs/tensorflow_p36/lib/python3.6/site-packages/sklearn/svm/base.py:218: ConvergenceWarning: Solver terminated early (max_iter=100).  Consider pre-processing your data with StandardScaler or MinMaxScaler.\n",
      "  % self.max_iter, ConvergenceWarning)\n"
     ]
    },
    {
     "name": "stdout",
     "output_type": "stream",
     "text": [
      "[CV]  C=0.001, gamma=0.0001, max_iter=100.0, score=0.6880791276741818, total=   1.3s\n",
      "[CV] C=0.001, gamma=0.001, max_iter=1000.0 ...........................\n"
     ]
    },
    {
     "name": "stderr",
     "output_type": "stream",
     "text": [
      "/home/ubuntu/anaconda3/envs/tensorflow_p36/lib/python3.6/site-packages/sklearn/svm/base.py:218: ConvergenceWarning: Solver terminated early (max_iter=100).  Consider pre-processing your data with StandardScaler or MinMaxScaler.\n",
      "  % self.max_iter, ConvergenceWarning)\n"
     ]
    },
    {
     "name": "stdout",
     "output_type": "stream",
     "text": [
      "[CV]  C=0.001, gamma=0.0001, max_iter=100.0, score=0.7090444518167311, total=   1.3s\n"
     ]
    },
    {
     "name": "stderr",
     "output_type": "stream",
     "text": [
      "[Parallel(n_jobs=-1)]: Done   9 tasks      | elapsed:    2.0s\n"
     ]
    },
    {
     "name": "stdout",
     "output_type": "stream",
     "text": [
      "[CV] C=0.001, gamma=0.001, max_iter=1000.0 ...........................\n",
      "[CV]  C=0.001, gamma=0.001, max_iter=100.0, score=0.6616052560359769, total=   1.2s\n",
      "[CV] C=0.001, gamma=0.001, max_iter=10000.0 ..........................\n",
      "[CV]  C=0.001, gamma=0.001, max_iter=100.0, score=0.6076981647613913, total=   1.2s\n",
      "[CV] C=0.001, gamma=0.001, max_iter=10000.0 ..........................\n",
      "[CV]  C=0.001, gamma=0.001, max_iter=100.0, score=0.7077598692647833, total=   1.2s\n",
      "[CV] C=0.001, gamma=0.001, max_iter=10000.0 ..........................\n",
      "[CV]  C=0.001, gamma=0.001, max_iter=100.0, score=0.7202810453902474, total=   1.2s\n",
      "[CV] C=0.001, gamma=0.001, max_iter=10000.0 ..........................\n"
     ]
    },
    {
     "name": "stderr",
     "output_type": "stream",
     "text": [
      "/home/ubuntu/anaconda3/envs/tensorflow_p36/lib/python3.6/site-packages/sklearn/svm/base.py:218: ConvergenceWarning: Solver terminated early (max_iter=1000).  Consider pre-processing your data with StandardScaler or MinMaxScaler.\n",
      "  % self.max_iter, ConvergenceWarning)\n",
      "/home/ubuntu/anaconda3/envs/tensorflow_p36/lib/python3.6/site-packages/sklearn/svm/base.py:218: ConvergenceWarning: Solver terminated early (max_iter=1000).  Consider pre-processing your data with StandardScaler or MinMaxScaler.\n",
      "  % self.max_iter, ConvergenceWarning)\n",
      "/home/ubuntu/anaconda3/envs/tensorflow_p36/lib/python3.6/site-packages/sklearn/svm/base.py:218: ConvergenceWarning: Solver terminated early (max_iter=1000).  Consider pre-processing your data with StandardScaler or MinMaxScaler.\n",
      "  % self.max_iter, ConvergenceWarning)\n",
      "/home/ubuntu/anaconda3/envs/tensorflow_p36/lib/python3.6/site-packages/sklearn/svm/base.py:218: ConvergenceWarning: Solver terminated early (max_iter=1000).  Consider pre-processing your data with StandardScaler or MinMaxScaler.\n",
      "  % self.max_iter, ConvergenceWarning)\n",
      "/home/ubuntu/anaconda3/envs/tensorflow_p36/lib/python3.6/site-packages/sklearn/svm/base.py:218: ConvergenceWarning: Solver terminated early (max_iter=1000).  Consider pre-processing your data with StandardScaler or MinMaxScaler.\n",
      "  % self.max_iter, ConvergenceWarning)\n",
      "/home/ubuntu/anaconda3/envs/tensorflow_p36/lib/python3.6/site-packages/sklearn/svm/base.py:218: ConvergenceWarning: Solver terminated early (max_iter=1000).  Consider pre-processing your data with StandardScaler or MinMaxScaler.\n",
      "  % self.max_iter, ConvergenceWarning)\n",
      "/home/ubuntu/anaconda3/envs/tensorflow_p36/lib/python3.6/site-packages/sklearn/svm/base.py:218: ConvergenceWarning: Solver terminated early (max_iter=1000).  Consider pre-processing your data with StandardScaler or MinMaxScaler.\n",
      "  % self.max_iter, ConvergenceWarning)\n",
      "/home/ubuntu/anaconda3/envs/tensorflow_p36/lib/python3.6/site-packages/sklearn/svm/base.py:218: ConvergenceWarning: Solver terminated early (max_iter=1000).  Consider pre-processing your data with StandardScaler or MinMaxScaler.\n",
      "  % self.max_iter, ConvergenceWarning)\n"
     ]
    },
    {
     "name": "stdout",
     "output_type": "stream",
     "text": [
      "[CV]  C=0.001, gamma=0.0001, max_iter=1000.0, score=0.707173018861768, total=  14.2s\n",
      "[CV]  C=0.001, gamma=0.0001, max_iter=1000.0, score=0.6330530712485428, total=  14.3s\n",
      "[CV] C=0.001, gamma=0.01, max_iter=10.0 ..............................\n",
      "[CV] C=0.001, gamma=0.01, max_iter=10.0 ..............................\n"
     ]
    },
    {
     "name": "stderr",
     "output_type": "stream",
     "text": [
      "/home/ubuntu/anaconda3/envs/tensorflow_p36/lib/python3.6/site-packages/sklearn/svm/base.py:218: ConvergenceWarning: Solver terminated early (max_iter=10).  Consider pre-processing your data with StandardScaler or MinMaxScaler.\n",
      "  % self.max_iter, ConvergenceWarning)\n",
      "[Parallel(n_jobs=-1)]: Done  18 tasks      | elapsed:   20.4s\n",
      "/home/ubuntu/anaconda3/envs/tensorflow_p36/lib/python3.6/site-packages/sklearn/svm/base.py:218: ConvergenceWarning: Solver terminated early (max_iter=10).  Consider pre-processing your data with StandardScaler or MinMaxScaler.\n",
      "  % self.max_iter, ConvergenceWarning)\n"
     ]
    },
    {
     "name": "stdout",
     "output_type": "stream",
     "text": [
      "[CV]  C=0.001, gamma=0.0001, max_iter=1000.0, score=0.6860884182912574, total=  14.4s\n",
      "[CV] C=0.001, gamma=0.01, max_iter=10.0 ..............................\n",
      "[CV]  C=0.001, gamma=0.01, max_iter=10.0, score=0.43240713549494136, total=   0.2s\n",
      "[CV]  C=0.001, gamma=0.001, max_iter=1000.0, score=0.7236531215870985, total=  12.9s\n",
      "[CV] C=0.001, gamma=0.01, max_iter=10.0 ..............................\n",
      "[CV]  C=0.001, gamma=0.01, max_iter=10.0, score=0.5657377585483967, total=   0.2s\n",
      "[CV] C=0.001, gamma=0.01, max_iter=100.0 .............................\n",
      "[CV] C=0.001, gamma=0.01, max_iter=100.0 .............................\n"
     ]
    },
    {
     "name": "stderr",
     "output_type": "stream",
     "text": [
      "/home/ubuntu/anaconda3/envs/tensorflow_p36/lib/python3.6/site-packages/sklearn/svm/base.py:218: ConvergenceWarning: Solver terminated early (max_iter=10).  Consider pre-processing your data with StandardScaler or MinMaxScaler.\n",
      "  % self.max_iter, ConvergenceWarning)\n"
     ]
    },
    {
     "name": "stdout",
     "output_type": "stream",
     "text": [
      "[CV]  C=0.001, gamma=0.001, max_iter=1000.0, score=0.6917397367786486, total=  12.9s\n",
      "[CV] C=0.001, gamma=0.01, max_iter=100.0 .............................\n"
     ]
    },
    {
     "name": "stderr",
     "output_type": "stream",
     "text": [
      "/home/ubuntu/anaconda3/envs/tensorflow_p36/lib/python3.6/site-packages/sklearn/svm/base.py:218: ConvergenceWarning: Solver terminated early (max_iter=10).  Consider pre-processing your data with StandardScaler or MinMaxScaler.\n",
      "  % self.max_iter, ConvergenceWarning)\n"
     ]
    },
    {
     "name": "stdout",
     "output_type": "stream",
     "text": [
      "[CV]  C=0.001, gamma=0.01, max_iter=10.0, score=0.5193656915281675, total=   0.2s\n",
      "[CV] C=0.001, gamma=0.01, max_iter=100.0 .............................\n",
      "[CV]  C=0.001, gamma=0.0001, max_iter=1000.0, score=0.7467567698326031, total=  14.7s\n",
      "[CV]  C=0.001, gamma=0.001, max_iter=1000.0, score=0.5891770224255745, total=  13.0s\n",
      "[CV]  C=0.001, gamma=0.01, max_iter=10.0, score=0.6618986786712067, total=   0.2s\n",
      "[CV]  C=0.001, gamma=0.001, max_iter=1000.0, score=0.5469871921878335, total=  13.0s\n",
      "[CV] C=0.001, gamma=0.01, max_iter=1000.0 ............................\n",
      "[CV] C=0.001, gamma=0.01, max_iter=1000.0 ............................\n",
      "[CV] C=0.001, gamma=0.01, max_iter=1000.0 ............................\n",
      "[CV] C=0.001, gamma=0.01, max_iter=1000.0 ............................\n"
     ]
    },
    {
     "name": "stderr",
     "output_type": "stream",
     "text": [
      "/home/ubuntu/anaconda3/envs/tensorflow_p36/lib/python3.6/site-packages/sklearn/svm/base.py:218: ConvergenceWarning: Solver terminated early (max_iter=100).  Consider pre-processing your data with StandardScaler or MinMaxScaler.\n",
      "  % self.max_iter, ConvergenceWarning)\n",
      "/home/ubuntu/anaconda3/envs/tensorflow_p36/lib/python3.6/site-packages/sklearn/svm/base.py:218: ConvergenceWarning: Solver terminated early (max_iter=100).  Consider pre-processing your data with StandardScaler or MinMaxScaler.\n",
      "  % self.max_iter, ConvergenceWarning)\n",
      "/home/ubuntu/anaconda3/envs/tensorflow_p36/lib/python3.6/site-packages/sklearn/svm/base.py:218: ConvergenceWarning: Solver terminated early (max_iter=100).  Consider pre-processing your data with StandardScaler or MinMaxScaler.\n",
      "  % self.max_iter, ConvergenceWarning)\n",
      "/home/ubuntu/anaconda3/envs/tensorflow_p36/lib/python3.6/site-packages/sklearn/svm/base.py:218: ConvergenceWarning: Solver terminated early (max_iter=100).  Consider pre-processing your data with StandardScaler or MinMaxScaler.\n",
      "  % self.max_iter, ConvergenceWarning)\n"
     ]
    },
    {
     "name": "stdout",
     "output_type": "stream",
     "text": [
      "[CV]  C=0.001, gamma=0.01, max_iter=100.0, score=0.6423455041353088, total=   1.5s\n",
      "[CV] C=0.001, gamma=0.01, max_iter=10000.0 ...........................\n",
      "[CV]  C=0.001, gamma=0.01, max_iter=100.0, score=0.546432158835916, total=   1.5s\n",
      "[CV]  C=0.001, gamma=0.01, max_iter=100.0, score=0.6407962760737045, total=   1.4s\n",
      "[CV] C=0.001, gamma=0.01, max_iter=10000.0 ...........................\n",
      "[CV] C=0.001, gamma=0.01, max_iter=10000.0 ...........................\n",
      "[CV]  C=0.001, gamma=0.01, max_iter=100.0, score=0.6361022029314055, total=   1.4s\n",
      "[CV] C=0.001, gamma=0.01, max_iter=10000.0 ...........................\n"
     ]
    },
    {
     "name": "stderr",
     "output_type": "stream",
     "text": [
      "[Parallel(n_jobs=-1)]: Done  29 tasks      | elapsed:   22.9s\n",
      "/home/ubuntu/anaconda3/envs/tensorflow_p36/lib/python3.6/site-packages/sklearn/svm/base.py:218: ConvergenceWarning: Solver terminated early (max_iter=1000).  Consider pre-processing your data with StandardScaler or MinMaxScaler.\n",
      "  % self.max_iter, ConvergenceWarning)\n",
      "/home/ubuntu/anaconda3/envs/tensorflow_p36/lib/python3.6/site-packages/sklearn/svm/base.py:218: ConvergenceWarning: Solver terminated early (max_iter=1000).  Consider pre-processing your data with StandardScaler or MinMaxScaler.\n",
      "  % self.max_iter, ConvergenceWarning)\n",
      "/home/ubuntu/anaconda3/envs/tensorflow_p36/lib/python3.6/site-packages/sklearn/svm/base.py:218: ConvergenceWarning: Solver terminated early (max_iter=1000).  Consider pre-processing your data with StandardScaler or MinMaxScaler.\n",
      "  % self.max_iter, ConvergenceWarning)\n",
      "/home/ubuntu/anaconda3/envs/tensorflow_p36/lib/python3.6/site-packages/sklearn/svm/base.py:218: ConvergenceWarning: Solver terminated early (max_iter=1000).  Consider pre-processing your data with StandardScaler or MinMaxScaler.\n",
      "  % self.max_iter, ConvergenceWarning)\n"
     ]
    },
    {
     "name": "stdout",
     "output_type": "stream",
     "text": [
      "[CV]  C=0.001, gamma=0.01, max_iter=1000.0, score=0.6599460461688172, total=  13.4s\n",
      "[CV] C=0.001, gamma=0.1, max_iter=10.0 ...............................\n",
      "[CV]  C=0.001, gamma=0.01, max_iter=1000.0, score=0.6436357583548742, total=  13.3s\n",
      "[CV] C=0.001, gamma=0.1, max_iter=10.0 ...............................\n",
      "[CV]  C=0.001, gamma=0.01, max_iter=1000.0, score=0.7061053284737676, total=  13.5s\n",
      "[CV] C=0.001, gamma=0.1, max_iter=10.0 ...............................\n",
      "[CV]  C=0.001, gamma=0.01, max_iter=1000.0, score=0.6538337042515056, total=  13.6s\n",
      "[CV] C=0.001, gamma=0.1, max_iter=10.0 ...............................\n"
     ]
    },
    {
     "name": "stderr",
     "output_type": "stream",
     "text": [
      "/home/ubuntu/anaconda3/envs/tensorflow_p36/lib/python3.6/site-packages/sklearn/svm/base.py:218: ConvergenceWarning: Solver terminated early (max_iter=10).  Consider pre-processing your data with StandardScaler or MinMaxScaler.\n",
      "  % self.max_iter, ConvergenceWarning)\n",
      "/home/ubuntu/anaconda3/envs/tensorflow_p36/lib/python3.6/site-packages/sklearn/svm/base.py:218: ConvergenceWarning: Solver terminated early (max_iter=10).  Consider pre-processing your data with StandardScaler or MinMaxScaler.\n",
      "  % self.max_iter, ConvergenceWarning)\n"
     ]
    },
    {
     "name": "stdout",
     "output_type": "stream",
     "text": [
      "[CV]  C=0.001, gamma=0.1, max_iter=10.0, score=0.5372529035452905, total=   0.3s\n"
     ]
    },
    {
     "name": "stderr",
     "output_type": "stream",
     "text": [
      "/home/ubuntu/anaconda3/envs/tensorflow_p36/lib/python3.6/site-packages/sklearn/svm/base.py:218: ConvergenceWarning: Solver terminated early (max_iter=10).  Consider pre-processing your data with StandardScaler or MinMaxScaler.\n",
      "  % self.max_iter, ConvergenceWarning)\n"
     ]
    },
    {
     "name": "stdout",
     "output_type": "stream",
     "text": [
      "[CV] C=0.001, gamma=0.1, max_iter=100.0 ..............................\n",
      "[CV]  C=0.001, gamma=0.1, max_iter=10.0, score=0.6708640703930504, total=   0.3s\n",
      "[CV] C=0.001, gamma=0.1, max_iter=100.0 ..............................\n"
     ]
    },
    {
     "name": "stderr",
     "output_type": "stream",
     "text": [
      "/home/ubuntu/anaconda3/envs/tensorflow_p36/lib/python3.6/site-packages/sklearn/svm/base.py:218: ConvergenceWarning: Solver terminated early (max_iter=10).  Consider pre-processing your data with StandardScaler or MinMaxScaler.\n",
      "  % self.max_iter, ConvergenceWarning)\n"
     ]
    },
    {
     "name": "stdout",
     "output_type": "stream",
     "text": [
      "[CV]  C=0.001, gamma=0.1, max_iter=10.0, score=0.6830101046403937, total=   0.3s\n",
      "[CV] C=0.001, gamma=0.1, max_iter=100.0 ..............................\n",
      "[CV]  C=0.001, gamma=0.1, max_iter=10.0, score=0.7561472199567799, total=   0.3s\n",
      "[CV] C=0.001, gamma=0.1, max_iter=100.0 ..............................\n"
     ]
    },
    {
     "name": "stderr",
     "output_type": "stream",
     "text": [
      "[Parallel(n_jobs=-1)]: Done  40 tasks      | elapsed:   41.0s\n",
      "/home/ubuntu/anaconda3/envs/tensorflow_p36/lib/python3.6/site-packages/sklearn/svm/base.py:218: ConvergenceWarning: Solver terminated early (max_iter=100).  Consider pre-processing your data with StandardScaler or MinMaxScaler.\n",
      "  % self.max_iter, ConvergenceWarning)\n",
      "/home/ubuntu/anaconda3/envs/tensorflow_p36/lib/python3.6/site-packages/sklearn/svm/base.py:218: ConvergenceWarning: Solver terminated early (max_iter=100).  Consider pre-processing your data with StandardScaler or MinMaxScaler.\n",
      "  % self.max_iter, ConvergenceWarning)\n",
      "/home/ubuntu/anaconda3/envs/tensorflow_p36/lib/python3.6/site-packages/sklearn/svm/base.py:218: ConvergenceWarning: Solver terminated early (max_iter=100).  Consider pre-processing your data with StandardScaler or MinMaxScaler.\n",
      "  % self.max_iter, ConvergenceWarning)\n",
      "/home/ubuntu/anaconda3/envs/tensorflow_p36/lib/python3.6/site-packages/sklearn/svm/base.py:218: ConvergenceWarning: Solver terminated early (max_iter=100).  Consider pre-processing your data with StandardScaler or MinMaxScaler.\n",
      "  % self.max_iter, ConvergenceWarning)\n"
     ]
    },
    {
     "name": "stdout",
     "output_type": "stream",
     "text": [
      "[CV]  C=0.001, gamma=0.1, max_iter=100.0, score=0.6372704658916201, total=   1.4s\n",
      "[CV] C=0.001, gamma=0.1, max_iter=1000.0 .............................\n",
      "[CV]  C=0.001, gamma=0.1, max_iter=100.0, score=0.72980646211643, total=   1.4s\n",
      "[CV]  C=0.001, gamma=0.1, max_iter=100.0, score=0.4646205115445401, total=   1.4s\n",
      "[CV] C=0.001, gamma=0.1, max_iter=1000.0 .............................\n",
      "[CV] C=0.001, gamma=0.1, max_iter=1000.0 .............................\n",
      "[CV]  C=0.001, gamma=0.1, max_iter=100.0, score=0.7563973785377377, total=   1.4s\n",
      "[CV] C=0.001, gamma=0.1, max_iter=1000.0 .............................\n"
     ]
    },
    {
     "name": "stderr",
     "output_type": "stream",
     "text": [
      "/home/ubuntu/anaconda3/envs/tensorflow_p36/lib/python3.6/site-packages/sklearn/svm/base.py:218: ConvergenceWarning: Solver terminated early (max_iter=1000).  Consider pre-processing your data with StandardScaler or MinMaxScaler.\n",
      "  % self.max_iter, ConvergenceWarning)\n",
      "/home/ubuntu/anaconda3/envs/tensorflow_p36/lib/python3.6/site-packages/sklearn/svm/base.py:218: ConvergenceWarning: Solver terminated early (max_iter=1000).  Consider pre-processing your data with StandardScaler or MinMaxScaler.\n",
      "  % self.max_iter, ConvergenceWarning)\n",
      "/home/ubuntu/anaconda3/envs/tensorflow_p36/lib/python3.6/site-packages/sklearn/svm/base.py:218: ConvergenceWarning: Solver terminated early (max_iter=1000).  Consider pre-processing your data with StandardScaler or MinMaxScaler.\n",
      "  % self.max_iter, ConvergenceWarning)\n",
      "/home/ubuntu/anaconda3/envs/tensorflow_p36/lib/python3.6/site-packages/sklearn/svm/base.py:218: ConvergenceWarning: Solver terminated early (max_iter=1000).  Consider pre-processing your data with StandardScaler or MinMaxScaler.\n",
      "  % self.max_iter, ConvergenceWarning)\n"
     ]
    },
    {
     "name": "stdout",
     "output_type": "stream",
     "text": [
      "[CV]  C=0.001, gamma=0.1, max_iter=1000.0, score=0.7359291077843668, total=  13.4s\n",
      "[CV] C=0.001, gamma=0.1, max_iter=10000.0 ............................\n",
      "[CV]  C=0.001, gamma=0.1, max_iter=1000.0, score=0.6879371632684006, total=  13.6s\n",
      "[CV] C=0.001, gamma=0.1, max_iter=10000.0 ............................\n",
      "[CV]  C=0.001, gamma=0.1, max_iter=1000.0, score=0.7504120033113855, total=  13.3s\n",
      "[CV] C=0.001, gamma=0.1, max_iter=10000.0 ............................\n",
      "[CV]  C=0.001, gamma=0.1, max_iter=1000.0, score=0.7573615354015668, total=  13.6s\n",
      "[CV] C=0.001, gamma=0.1, max_iter=10000.0 ............................\n",
      "[CV]  C=0.001, gamma=0.001, max_iter=10000.0, score=0.4999999999999999, total=  51.8s\n",
      "[CV] C=0.001, gamma=1.0, max_iter=10.0 ...............................\n"
     ]
    },
    {
     "name": "stderr",
     "output_type": "stream",
     "text": [
      "/home/ubuntu/anaconda3/envs/tensorflow_p36/lib/python3.6/site-packages/sklearn/svm/base.py:218: ConvergenceWarning: Solver terminated early (max_iter=10).  Consider pre-processing your data with StandardScaler or MinMaxScaler.\n",
      "  % self.max_iter, ConvergenceWarning)\n"
     ]
    },
    {
     "name": "stdout",
     "output_type": "stream",
     "text": [
      "[CV]  C=0.001, gamma=1.0, max_iter=10.0, score=0.501909209387314, total=   0.3s\n",
      "[CV] C=0.001, gamma=1.0, max_iter=10.0 ...............................\n"
     ]
    },
    {
     "name": "stderr",
     "output_type": "stream",
     "text": [
      "/home/ubuntu/anaconda3/envs/tensorflow_p36/lib/python3.6/site-packages/sklearn/svm/base.py:218: ConvergenceWarning: Solver terminated early (max_iter=10).  Consider pre-processing your data with StandardScaler or MinMaxScaler.\n",
      "  % self.max_iter, ConvergenceWarning)\n"
     ]
    },
    {
     "name": "stdout",
     "output_type": "stream",
     "text": [
      "[CV]  C=0.001, gamma=1.0, max_iter=10.0, score=0.5022852168757785, total=   0.3s\n",
      "[CV] C=0.001, gamma=1.0, max_iter=10.0 ...............................\n"
     ]
    },
    {
     "name": "stderr",
     "output_type": "stream",
     "text": [
      "/home/ubuntu/anaconda3/envs/tensorflow_p36/lib/python3.6/site-packages/sklearn/svm/base.py:218: ConvergenceWarning: Solver terminated early (max_iter=10).  Consider pre-processing your data with StandardScaler or MinMaxScaler.\n",
      "  % self.max_iter, ConvergenceWarning)\n"
     ]
    },
    {
     "name": "stdout",
     "output_type": "stream",
     "text": [
      "[CV]  C=0.001, gamma=1.0, max_iter=10.0, score=0.503174498953289, total=   0.3s\n",
      "[CV] C=0.001, gamma=1.0, max_iter=10.0 ...............................\n"
     ]
    },
    {
     "name": "stderr",
     "output_type": "stream",
     "text": [
      "/home/ubuntu/anaconda3/envs/tensorflow_p36/lib/python3.6/site-packages/sklearn/svm/base.py:218: ConvergenceWarning: Solver terminated early (max_iter=10).  Consider pre-processing your data with StandardScaler or MinMaxScaler.\n",
      "  % self.max_iter, ConvergenceWarning)\n"
     ]
    },
    {
     "name": "stdout",
     "output_type": "stream",
     "text": [
      "[CV]  C=0.001, gamma=0.001, max_iter=10000.0, score=0.5, total=  52.8s\n",
      "[CV]  C=0.001, gamma=1.0, max_iter=10.0, score=0.506986009550183, total=   0.3s\n",
      "[CV] C=0.001, gamma=1.0, max_iter=100.0 ..............................\n",
      "[CV] C=0.001, gamma=1.0, max_iter=100.0 ..............................\n"
     ]
    },
    {
     "name": "stderr",
     "output_type": "stream",
     "text": [
      "[Parallel(n_jobs=-1)]: Done  53 tasks      | elapsed:  1.4min\n"
     ]
    },
    {
     "name": "stdout",
     "output_type": "stream",
     "text": [
      "[CV]  C=0.001, gamma=0.001, max_iter=10000.0, score=0.5, total=  53.4s\n",
      "[CV] C=0.001, gamma=1.0, max_iter=100.0 ..............................\n"
     ]
    },
    {
     "name": "stderr",
     "output_type": "stream",
     "text": [
      "/home/ubuntu/anaconda3/envs/tensorflow_p36/lib/python3.6/site-packages/sklearn/svm/base.py:218: ConvergenceWarning: Solver terminated early (max_iter=100).  Consider pre-processing your data with StandardScaler or MinMaxScaler.\n",
      "  % self.max_iter, ConvergenceWarning)\n",
      "/home/ubuntu/anaconda3/envs/tensorflow_p36/lib/python3.6/site-packages/sklearn/svm/base.py:218: ConvergenceWarning: Solver terminated early (max_iter=100).  Consider pre-processing your data with StandardScaler or MinMaxScaler.\n",
      "  % self.max_iter, ConvergenceWarning)\n"
     ]
    },
    {
     "name": "stdout",
     "output_type": "stream",
     "text": [
      "[CV]  C=0.001, gamma=0.001, max_iter=10000.0, score=0.5, total=  54.0s\n",
      "[CV] C=0.001, gamma=1.0, max_iter=100.0 ..............................\n"
     ]
    },
    {
     "name": "stderr",
     "output_type": "stream",
     "text": [
      "/home/ubuntu/anaconda3/envs/tensorflow_p36/lib/python3.6/site-packages/sklearn/svm/base.py:218: ConvergenceWarning: Solver terminated early (max_iter=100).  Consider pre-processing your data with StandardScaler or MinMaxScaler.\n",
      "  % self.max_iter, ConvergenceWarning)\n"
     ]
    },
    {
     "name": "stdout",
     "output_type": "stream",
     "text": [
      "[CV]  C=0.001, gamma=1.0, max_iter=100.0, score=0.5304723023564253, total=   1.5s\n",
      "[CV] C=0.001, gamma=1.0, max_iter=1000.0 .............................\n",
      "[CV]  C=0.001, gamma=1.0, max_iter=100.0, score=0.5889888755266193, total=   1.5s\n",
      "[CV] C=0.001, gamma=1.0, max_iter=1000.0 .............................\n"
     ]
    },
    {
     "name": "stderr",
     "output_type": "stream",
     "text": [
      "/home/ubuntu/anaconda3/envs/tensorflow_p36/lib/python3.6/site-packages/sklearn/svm/base.py:218: ConvergenceWarning: Solver terminated early (max_iter=100).  Consider pre-processing your data with StandardScaler or MinMaxScaler.\n",
      "  % self.max_iter, ConvergenceWarning)\n"
     ]
    },
    {
     "name": "stdout",
     "output_type": "stream",
     "text": [
      "[CV]  C=0.001, gamma=1.0, max_iter=100.0, score=0.575912474062606, total=   1.5s\n",
      "[CV] C=0.001, gamma=1.0, max_iter=1000.0 .............................\n",
      "[CV]  C=0.001, gamma=1.0, max_iter=100.0, score=0.5077639393813731, total=   1.3s\n",
      "[CV] C=0.001, gamma=1.0, max_iter=1000.0 .............................\n",
      "[CV]  C=0.001, gamma=0.0001, max_iter=10000.0, score=0.5, total=  58.8s\n",
      "[CV] C=0.001, gamma=1.0, max_iter=10000.0 ............................\n",
      "[CV]  C=0.001, gamma=0.0001, max_iter=10000.0, score=0.5, total=  59.4s\n",
      "[CV] C=0.001, gamma=1.0, max_iter=10000.0 ............................\n",
      "[CV]  C=0.001, gamma=0.0001, max_iter=10000.0, score=0.4999999999999999, total=  59.4s\n",
      "[CV] C=0.001, gamma=1.0, max_iter=10000.0 ............................\n",
      "[CV]  C=0.001, gamma=0.0001, max_iter=10000.0, score=0.5, total=  59.9s\n",
      "[CV] C=0.001, gamma=1.0, max_iter=10000.0 ............................\n"
     ]
    },
    {
     "name": "stderr",
     "output_type": "stream",
     "text": [
      "/home/ubuntu/anaconda3/envs/tensorflow_p36/lib/python3.6/site-packages/sklearn/svm/base.py:218: ConvergenceWarning: Solver terminated early (max_iter=1000).  Consider pre-processing your data with StandardScaler or MinMaxScaler.\n",
      "  % self.max_iter, ConvergenceWarning)\n",
      "/home/ubuntu/anaconda3/envs/tensorflow_p36/lib/python3.6/site-packages/sklearn/svm/base.py:218: ConvergenceWarning: Solver terminated early (max_iter=1000).  Consider pre-processing your data with StandardScaler or MinMaxScaler.\n",
      "  % self.max_iter, ConvergenceWarning)\n",
      "/home/ubuntu/anaconda3/envs/tensorflow_p36/lib/python3.6/site-packages/sklearn/svm/base.py:218: ConvergenceWarning: Solver terminated early (max_iter=1000).  Consider pre-processing your data with StandardScaler or MinMaxScaler.\n",
      "  % self.max_iter, ConvergenceWarning)\n",
      "/home/ubuntu/anaconda3/envs/tensorflow_p36/lib/python3.6/site-packages/sklearn/svm/base.py:218: ConvergenceWarning: Solver terminated early (max_iter=1000).  Consider pre-processing your data with StandardScaler or MinMaxScaler.\n",
      "  % self.max_iter, ConvergenceWarning)\n"
     ]
    },
    {
     "name": "stdout",
     "output_type": "stream",
     "text": [
      "[CV]  C=0.001, gamma=1.0, max_iter=1000.0, score=0.6396336050328143, total=  14.0s\n",
      "[CV] C=0.001, gamma=10.0, max_iter=10.0 ..............................\n",
      "[CV]  C=0.001, gamma=1.0, max_iter=1000.0, score=0.582554352102971, total=  14.2s\n",
      "[CV] C=0.001, gamma=10.0, max_iter=10.0 ..............................\n"
     ]
    },
    {
     "name": "stderr",
     "output_type": "stream",
     "text": [
      "[Parallel(n_jobs=-1)]: Done  66 tasks      | elapsed:  1.8min\n",
      "/home/ubuntu/anaconda3/envs/tensorflow_p36/lib/python3.6/site-packages/sklearn/svm/base.py:218: ConvergenceWarning: Solver terminated early (max_iter=10).  Consider pre-processing your data with StandardScaler or MinMaxScaler.\n",
      "  % self.max_iter, ConvergenceWarning)\n",
      "/home/ubuntu/anaconda3/envs/tensorflow_p36/lib/python3.6/site-packages/sklearn/svm/base.py:218: ConvergenceWarning: Solver terminated early (max_iter=10).  Consider pre-processing your data with StandardScaler or MinMaxScaler.\n",
      "  % self.max_iter, ConvergenceWarning)\n"
     ]
    },
    {
     "name": "stdout",
     "output_type": "stream",
     "text": [
      "[CV]  C=0.001, gamma=10.0, max_iter=10.0, score=0.5006393461816772, total=   0.3s\n",
      "[CV] C=0.001, gamma=10.0, max_iter=10.0 ..............................\n",
      "[CV]  C=0.001, gamma=10.0, max_iter=10.0, score=0.5006348997906579, total=   0.3s\n",
      "[CV]  C=0.001, gamma=1.0, max_iter=1000.0, score=0.7185992424975465, total=  14.1s\n",
      "[CV] C=0.001, gamma=10.0, max_iter=10.0 ..............................\n",
      "[CV] C=0.001, gamma=10.0, max_iter=100.0 .............................\n",
      "[CV] . C=0.001, gamma=0.01, max_iter=10000.0, score=0.5, total=  56.3s\n",
      "[CV] C=0.001, gamma=10.0, max_iter=100.0 .............................\n"
     ]
    },
    {
     "name": "stderr",
     "output_type": "stream",
     "text": [
      "/home/ubuntu/anaconda3/envs/tensorflow_p36/lib/python3.6/site-packages/sklearn/svm/base.py:218: ConvergenceWarning: Solver terminated early (max_iter=10).  Consider pre-processing your data with StandardScaler or MinMaxScaler.\n",
      "  % self.max_iter, ConvergenceWarning)\n",
      "/home/ubuntu/anaconda3/envs/tensorflow_p36/lib/python3.6/site-packages/sklearn/svm/base.py:218: ConvergenceWarning: Solver terminated early (max_iter=10).  Consider pre-processing your data with StandardScaler or MinMaxScaler.\n",
      "  % self.max_iter, ConvergenceWarning)\n"
     ]
    },
    {
     "name": "stdout",
     "output_type": "stream",
     "text": [
      "[CV]  C=0.001, gamma=10.0, max_iter=10.0, score=0.5016503170851208, total=   0.3s\n",
      "[CV] C=0.001, gamma=10.0, max_iter=100.0 .............................\n",
      "[CV]  C=0.001, gamma=10.0, max_iter=10.0, score=0.5048248160384097, total=   0.3s\n",
      "[CV] C=0.001, gamma=10.0, max_iter=100.0 .............................\n",
      "[CV]  C=0.001, gamma=1.0, max_iter=1000.0, score=0.7035638094448208, total=  13.9s\n",
      "[CV] C=0.001, gamma=10.0, max_iter=1000.0 ............................\n",
      "[CV] . C=0.001, gamma=0.01, max_iter=10000.0, score=0.5, total=  57.8s\n",
      "[CV] C=0.001, gamma=10.0, max_iter=1000.0 ............................\n"
     ]
    },
    {
     "name": "stderr",
     "output_type": "stream",
     "text": [
      "/home/ubuntu/anaconda3/envs/tensorflow_p36/lib/python3.6/site-packages/sklearn/svm/base.py:218: ConvergenceWarning: Solver terminated early (max_iter=100).  Consider pre-processing your data with StandardScaler or MinMaxScaler.\n",
      "  % self.max_iter, ConvergenceWarning)\n",
      "/home/ubuntu/anaconda3/envs/tensorflow_p36/lib/python3.6/site-packages/sklearn/svm/base.py:218: ConvergenceWarning: Solver terminated early (max_iter=100).  Consider pre-processing your data with StandardScaler or MinMaxScaler.\n",
      "  % self.max_iter, ConvergenceWarning)\n",
      "/home/ubuntu/anaconda3/envs/tensorflow_p36/lib/python3.6/site-packages/sklearn/svm/base.py:218: ConvergenceWarning: Solver terminated early (max_iter=100).  Consider pre-processing your data with StandardScaler or MinMaxScaler.\n",
      "  % self.max_iter, ConvergenceWarning)\n"
     ]
    },
    {
     "name": "stdout",
     "output_type": "stream",
     "text": [
      "[CV] . C=0.001, gamma=0.01, max_iter=10000.0, score=0.5, total=  57.8s\n"
     ]
    },
    {
     "name": "stderr",
     "output_type": "stream",
     "text": [
      "/home/ubuntu/anaconda3/envs/tensorflow_p36/lib/python3.6/site-packages/sklearn/svm/base.py:218: ConvergenceWarning: Solver terminated early (max_iter=100).  Consider pre-processing your data with StandardScaler or MinMaxScaler.\n",
      "  % self.max_iter, ConvergenceWarning)\n"
     ]
    },
    {
     "name": "stdout",
     "output_type": "stream",
     "text": [
      "[CV] C=0.001, gamma=10.0, max_iter=1000.0 ............................\n",
      "[CV]  C=0.001, gamma=0.01, max_iter=10000.0, score=0.4999999999999999, total=  59.0s\n",
      "[CV] C=0.001, gamma=10.0, max_iter=1000.0 ............................\n",
      "[CV]  C=0.001, gamma=10.0, max_iter=100.0, score=0.4999977927105705, total=   1.5s\n",
      "[CV]  C=0.001, gamma=10.0, max_iter=100.0, score=0.4983475710619318, total=   1.5s\n",
      "[CV] C=0.001, gamma=10.0, max_iter=10000.0 ...........................\n",
      "[CV] C=0.001, gamma=10.0, max_iter=10000.0 ...........................\n",
      "[CV]  C=0.001, gamma=10.0, max_iter=100.0, score=0.5237456745411904, total=   1.4s\n",
      "[CV] C=0.001, gamma=10.0, max_iter=10000.0 ...........................\n",
      "[CV]  C=0.001, gamma=10.0, max_iter=100.0, score=0.5099103499225143, total=   1.4s\n",
      "[CV] C=0.001, gamma=10.0, max_iter=10000.0 ...........................\n"
     ]
    },
    {
     "name": "stderr",
     "output_type": "stream",
     "text": [
      "/home/ubuntu/anaconda3/envs/tensorflow_p36/lib/python3.6/site-packages/sklearn/svm/base.py:218: ConvergenceWarning: Solver terminated early (max_iter=1000).  Consider pre-processing your data with StandardScaler or MinMaxScaler.\n",
      "  % self.max_iter, ConvergenceWarning)\n",
      "/home/ubuntu/anaconda3/envs/tensorflow_p36/lib/python3.6/site-packages/sklearn/svm/base.py:218: ConvergenceWarning: Solver terminated early (max_iter=1000).  Consider pre-processing your data with StandardScaler or MinMaxScaler.\n",
      "  % self.max_iter, ConvergenceWarning)\n",
      "/home/ubuntu/anaconda3/envs/tensorflow_p36/lib/python3.6/site-packages/sklearn/svm/base.py:218: ConvergenceWarning: Solver terminated early (max_iter=1000).  Consider pre-processing your data with StandardScaler or MinMaxScaler.\n",
      "  % self.max_iter, ConvergenceWarning)\n",
      "/home/ubuntu/anaconda3/envs/tensorflow_p36/lib/python3.6/site-packages/sklearn/svm/base.py:218: ConvergenceWarning: Solver terminated early (max_iter=1000).  Consider pre-processing your data with StandardScaler or MinMaxScaler.\n",
      "  % self.max_iter, ConvergenceWarning)\n"
     ]
    },
    {
     "name": "stdout",
     "output_type": "stream",
     "text": [
      "[CV]  C=0.001, gamma=10.0, max_iter=1000.0, score=0.6246833499359885, total=  14.2s\n",
      "[CV] C=0.01, gamma=0.0001, max_iter=10.0 .............................\n"
     ]
    },
    {
     "name": "stderr",
     "output_type": "stream",
     "text": [
      "[Parallel(n_jobs=-1)]: Done  81 tasks      | elapsed:  2.2min\n",
      "/home/ubuntu/anaconda3/envs/tensorflow_p36/lib/python3.6/site-packages/sklearn/svm/base.py:218: ConvergenceWarning: Solver terminated early (max_iter=10).  Consider pre-processing your data with StandardScaler or MinMaxScaler.\n",
      "  % self.max_iter, ConvergenceWarning)\n"
     ]
    },
    {
     "name": "stdout",
     "output_type": "stream",
     "text": [
      "[CV]  C=0.001, gamma=10.0, max_iter=1000.0, score=0.61401702076681, total=  13.7s\n",
      "[CV] C=0.01, gamma=0.0001, max_iter=10.0 .............................\n",
      "[CV]  C=0.01, gamma=0.0001, max_iter=10.0, score=0.6625790545507589, total=   0.3s\n",
      "[CV] C=0.01, gamma=0.0001, max_iter=10.0 .............................\n"
     ]
    },
    {
     "name": "stderr",
     "output_type": "stream",
     "text": [
      "/home/ubuntu/anaconda3/envs/tensorflow_p36/lib/python3.6/site-packages/sklearn/svm/base.py:218: ConvergenceWarning: Solver terminated early (max_iter=10).  Consider pre-processing your data with StandardScaler or MinMaxScaler.\n",
      "  % self.max_iter, ConvergenceWarning)\n",
      "/home/ubuntu/anaconda3/envs/tensorflow_p36/lib/python3.6/site-packages/sklearn/svm/base.py:218: ConvergenceWarning: Solver terminated early (max_iter=10).  Consider pre-processing your data with StandardScaler or MinMaxScaler.\n",
      "  % self.max_iter, ConvergenceWarning)\n"
     ]
    },
    {
     "name": "stdout",
     "output_type": "stream",
     "text": [
      "[CV]  C=0.01, gamma=0.0001, max_iter=10.0, score=0.5428792542317693, total=   0.3s\n",
      "[CV] C=0.01, gamma=0.0001, max_iter=10.0 .............................\n",
      "[CV]  C=0.001, gamma=10.0, max_iter=1000.0, score=0.6223087313984152, total=  14.0s\n",
      "[CV]  C=0.01, gamma=0.0001, max_iter=10.0, score=0.609799266457478, total=   0.3s\n",
      "[CV] C=0.01, gamma=0.0001, max_iter=100.0 ............................\n",
      "[CV] C=0.01, gamma=0.0001, max_iter=100.0 ............................\n"
     ]
    },
    {
     "name": "stderr",
     "output_type": "stream",
     "text": [
      "/home/ubuntu/anaconda3/envs/tensorflow_p36/lib/python3.6/site-packages/sklearn/svm/base.py:218: ConvergenceWarning: Solver terminated early (max_iter=10).  Consider pre-processing your data with StandardScaler or MinMaxScaler.\n",
      "  % self.max_iter, ConvergenceWarning)\n"
     ]
    },
    {
     "name": "stdout",
     "output_type": "stream",
     "text": [
      "[CV]  C=0.01, gamma=0.0001, max_iter=10.0, score=0.722772071935087, total=   0.3s\n",
      "[CV] C=0.01, gamma=0.0001, max_iter=100.0 ............................\n",
      "[CV]  C=0.001, gamma=10.0, max_iter=1000.0, score=0.5022022786509328, total=  13.9s\n",
      "[CV] C=0.01, gamma=0.0001, max_iter=100.0 ............................\n"
     ]
    },
    {
     "name": "stderr",
     "output_type": "stream",
     "text": [
      "/home/ubuntu/anaconda3/envs/tensorflow_p36/lib/python3.6/site-packages/sklearn/svm/base.py:218: ConvergenceWarning: Solver terminated early (max_iter=100).  Consider pre-processing your data with StandardScaler or MinMaxScaler.\n",
      "  % self.max_iter, ConvergenceWarning)\n",
      "/home/ubuntu/anaconda3/envs/tensorflow_p36/lib/python3.6/site-packages/sklearn/svm/base.py:218: ConvergenceWarning: Solver terminated early (max_iter=100).  Consider pre-processing your data with StandardScaler or MinMaxScaler.\n",
      "  % self.max_iter, ConvergenceWarning)\n",
      "/home/ubuntu/anaconda3/envs/tensorflow_p36/lib/python3.6/site-packages/sklearn/svm/base.py:218: ConvergenceWarning: Solver terminated early (max_iter=100).  Consider pre-processing your data with StandardScaler or MinMaxScaler.\n",
      "  % self.max_iter, ConvergenceWarning)\n",
      "/home/ubuntu/anaconda3/envs/tensorflow_p36/lib/python3.6/site-packages/sklearn/svm/base.py:218: ConvergenceWarning: Solver terminated early (max_iter=100).  Consider pre-processing your data with StandardScaler or MinMaxScaler.\n",
      "  % self.max_iter, ConvergenceWarning)\n"
     ]
    },
    {
     "name": "stdout",
     "output_type": "stream",
     "text": [
      "[CV]  C=0.01, gamma=0.0001, max_iter=100.0, score=0.6800718232786501, total=   1.4s\n",
      "[CV] C=0.01, gamma=0.0001, max_iter=1000.0 ...........................\n",
      "[CV]  C=0.01, gamma=0.0001, max_iter=100.0, score=0.7017750699983258, total=   1.4s\n",
      "[CV] C=0.01, gamma=0.0001, max_iter=1000.0 ...........................\n",
      "[CV]  C=0.01, gamma=0.0001, max_iter=100.0, score=0.6880791276741818, total=   1.4s\n",
      "[CV] C=0.01, gamma=0.0001, max_iter=1000.0 ...........................\n",
      "[CV]  C=0.01, gamma=0.0001, max_iter=100.0, score=0.7090444518167311, total=   1.4s\n",
      "[CV] C=0.01, gamma=0.0001, max_iter=1000.0 ...........................\n"
     ]
    },
    {
     "name": "stderr",
     "output_type": "stream",
     "text": [
      "/home/ubuntu/anaconda3/envs/tensorflow_p36/lib/python3.6/site-packages/sklearn/svm/base.py:218: ConvergenceWarning: Solver terminated early (max_iter=1000).  Consider pre-processing your data with StandardScaler or MinMaxScaler.\n",
      "  % self.max_iter, ConvergenceWarning)\n",
      "/home/ubuntu/anaconda3/envs/tensorflow_p36/lib/python3.6/site-packages/sklearn/svm/base.py:218: ConvergenceWarning: Solver terminated early (max_iter=1000).  Consider pre-processing your data with StandardScaler or MinMaxScaler.\n",
      "  % self.max_iter, ConvergenceWarning)\n",
      "/home/ubuntu/anaconda3/envs/tensorflow_p36/lib/python3.6/site-packages/sklearn/svm/base.py:218: ConvergenceWarning: Solver terminated early (max_iter=1000).  Consider pre-processing your data with StandardScaler or MinMaxScaler.\n",
      "  % self.max_iter, ConvergenceWarning)\n",
      "/home/ubuntu/anaconda3/envs/tensorflow_p36/lib/python3.6/site-packages/sklearn/svm/base.py:218: ConvergenceWarning: Solver terminated early (max_iter=1000).  Consider pre-processing your data with StandardScaler or MinMaxScaler.\n",
      "  % self.max_iter, ConvergenceWarning)\n"
     ]
    },
    {
     "name": "stdout",
     "output_type": "stream",
     "text": [
      "[CV] .. C=0.001, gamma=0.1, max_iter=10000.0, score=0.5, total= 1.0min\n",
      "[CV] C=0.01, gamma=0.0001, max_iter=10000.0 ..........................\n",
      "[CV]  C=0.001, gamma=0.1, max_iter=10000.0, score=0.4999999999999999, total= 1.0min\n",
      "[CV] C=0.01, gamma=0.0001, max_iter=10000.0 ..........................\n",
      "[CV]  C=0.01, gamma=0.0001, max_iter=1000.0, score=0.6289069502745676, total=  13.5s\n",
      "[CV] C=0.01, gamma=0.0001, max_iter=10000.0 ..........................\n",
      "[CV]  C=0.01, gamma=0.0001, max_iter=1000.0, score=0.7398995833122148, total=  13.5s\n",
      "[CV] C=0.01, gamma=0.0001, max_iter=10000.0 ..........................\n",
      "[CV] .. C=0.001, gamma=0.1, max_iter=10000.0, score=0.5, total= 1.0min\n",
      "[CV] C=0.01, gamma=0.001, max_iter=10.0 ..............................\n"
     ]
    },
    {
     "name": "stderr",
     "output_type": "stream",
     "text": [
      "[Parallel(n_jobs=-1)]: Done  96 tasks      | elapsed:  2.5min\n"
     ]
    },
    {
     "name": "stdout",
     "output_type": "stream",
     "text": [
      "[CV] .. C=0.001, gamma=0.1, max_iter=10000.0, score=0.5, total= 1.0min\n",
      "[CV] C=0.01, gamma=0.001, max_iter=10.0 ..............................\n"
     ]
    },
    {
     "name": "stderr",
     "output_type": "stream",
     "text": [
      "/home/ubuntu/anaconda3/envs/tensorflow_p36/lib/python3.6/site-packages/sklearn/svm/base.py:218: ConvergenceWarning: Solver terminated early (max_iter=10).  Consider pre-processing your data with StandardScaler or MinMaxScaler.\n",
      "  % self.max_iter, ConvergenceWarning)\n"
     ]
    },
    {
     "name": "stdout",
     "output_type": "stream",
     "text": [
      "[CV]  C=0.01, gamma=0.001, max_iter=10.0, score=0.6652183968936718, total=   0.3s\n",
      "[CV] C=0.01, gamma=0.001, max_iter=10.0 ..............................\n",
      "[CV]  C=0.01, gamma=0.0001, max_iter=1000.0, score=0.6450021272118779, total=  13.6s\n"
     ]
    },
    {
     "name": "stderr",
     "output_type": "stream",
     "text": [
      "/home/ubuntu/anaconda3/envs/tensorflow_p36/lib/python3.6/site-packages/sklearn/svm/base.py:218: ConvergenceWarning: Solver terminated early (max_iter=10).  Consider pre-processing your data with StandardScaler or MinMaxScaler.\n",
      "  % self.max_iter, ConvergenceWarning)\n"
     ]
    },
    {
     "name": "stdout",
     "output_type": "stream",
     "text": [
      "[CV] C=0.01, gamma=0.001, max_iter=10.0 ..............................\n",
      "[CV]  C=0.01, gamma=0.0001, max_iter=1000.0, score=0.6787245790501115, total=  13.7s\n",
      "[CV] C=0.01, gamma=0.001, max_iter=100.0 .............................\n",
      "[CV]  C=0.01, gamma=0.001, max_iter=10.0, score=0.49432161139755526, total=   0.3s\n",
      "[CV] C=0.01, gamma=0.001, max_iter=100.0 .............................\n"
     ]
    },
    {
     "name": "stderr",
     "output_type": "stream",
     "text": [
      "/home/ubuntu/anaconda3/envs/tensorflow_p36/lib/python3.6/site-packages/sklearn/svm/base.py:218: ConvergenceWarning: Solver terminated early (max_iter=10).  Consider pre-processing your data with StandardScaler or MinMaxScaler.\n",
      "  % self.max_iter, ConvergenceWarning)\n",
      "/home/ubuntu/anaconda3/envs/tensorflow_p36/lib/python3.6/site-packages/sklearn/svm/base.py:218: ConvergenceWarning: Solver terminated early (max_iter=10).  Consider pre-processing your data with StandardScaler or MinMaxScaler.\n",
      "  % self.max_iter, ConvergenceWarning)\n"
     ]
    },
    {
     "name": "stdout",
     "output_type": "stream",
     "text": [
      "[CV]  C=0.01, gamma=0.001, max_iter=10.0, score=0.6099211779685357, total=   0.3s\n",
      "[CV] C=0.01, gamma=0.001, max_iter=100.0 .............................\n",
      "[CV]  C=0.01, gamma=0.001, max_iter=10.0, score=0.7106461962840603, total=   0.3s\n",
      "[CV] C=0.01, gamma=0.001, max_iter=100.0 .............................\n"
     ]
    },
    {
     "name": "stderr",
     "output_type": "stream",
     "text": [
      "/home/ubuntu/anaconda3/envs/tensorflow_p36/lib/python3.6/site-packages/sklearn/svm/base.py:218: ConvergenceWarning: Solver terminated early (max_iter=100).  Consider pre-processing your data with StandardScaler or MinMaxScaler.\n",
      "  % self.max_iter, ConvergenceWarning)\n",
      "/home/ubuntu/anaconda3/envs/tensorflow_p36/lib/python3.6/site-packages/sklearn/svm/base.py:218: ConvergenceWarning: Solver terminated early (max_iter=100).  Consider pre-processing your data with StandardScaler or MinMaxScaler.\n",
      "  % self.max_iter, ConvergenceWarning)\n",
      "/home/ubuntu/anaconda3/envs/tensorflow_p36/lib/python3.6/site-packages/sklearn/svm/base.py:218: ConvergenceWarning: Solver terminated early (max_iter=100).  Consider pre-processing your data with StandardScaler or MinMaxScaler.\n",
      "  % self.max_iter, ConvergenceWarning)\n",
      "/home/ubuntu/anaconda3/envs/tensorflow_p36/lib/python3.6/site-packages/sklearn/svm/base.py:218: ConvergenceWarning: Solver terminated early (max_iter=100).  Consider pre-processing your data with StandardScaler or MinMaxScaler.\n",
      "  % self.max_iter, ConvergenceWarning)\n"
     ]
    },
    {
     "name": "stdout",
     "output_type": "stream",
     "text": [
      "[CV]  C=0.01, gamma=0.001, max_iter=100.0, score=0.6616052560359769, total=   1.5s\n",
      "[CV] C=0.01, gamma=0.001, max_iter=1000.0 ............................\n",
      "[CV]  C=0.01, gamma=0.001, max_iter=100.0, score=0.6076981647613913, total=   1.5s\n",
      "[CV] C=0.01, gamma=0.001, max_iter=1000.0 ............................\n",
      "[CV]  C=0.01, gamma=0.001, max_iter=100.0, score=0.7077598692647833, total=   1.5s\n",
      "[CV] C=0.01, gamma=0.001, max_iter=1000.0 ............................\n",
      "[CV]  C=0.01, gamma=0.001, max_iter=100.0, score=0.7202810453902474, total=   1.4s\n",
      "[CV] C=0.01, gamma=0.001, max_iter=1000.0 ............................\n"
     ]
    },
    {
     "name": "stderr",
     "output_type": "stream",
     "text": [
      "/home/ubuntu/anaconda3/envs/tensorflow_p36/lib/python3.6/site-packages/sklearn/svm/base.py:218: ConvergenceWarning: Solver terminated early (max_iter=1000).  Consider pre-processing your data with StandardScaler or MinMaxScaler.\n",
      "  % self.max_iter, ConvergenceWarning)\n",
      "/home/ubuntu/anaconda3/envs/tensorflow_p36/lib/python3.6/site-packages/sklearn/svm/base.py:218: ConvergenceWarning: Solver terminated early (max_iter=1000).  Consider pre-processing your data with StandardScaler or MinMaxScaler.\n",
      "  % self.max_iter, ConvergenceWarning)\n",
      "/home/ubuntu/anaconda3/envs/tensorflow_p36/lib/python3.6/site-packages/sklearn/svm/base.py:218: ConvergenceWarning: Solver terminated early (max_iter=1000).  Consider pre-processing your data with StandardScaler or MinMaxScaler.\n",
      "  % self.max_iter, ConvergenceWarning)\n",
      "/home/ubuntu/anaconda3/envs/tensorflow_p36/lib/python3.6/site-packages/sklearn/svm/base.py:218: ConvergenceWarning: Solver terminated early (max_iter=1000).  Consider pre-processing your data with StandardScaler or MinMaxScaler.\n",
      "  % self.max_iter, ConvergenceWarning)\n"
     ]
    },
    {
     "name": "stdout",
     "output_type": "stream",
     "text": [
      "[CV]  C=0.01, gamma=0.001, max_iter=1000.0, score=0.6644968051884736, total=  14.0s\n",
      "[CV] C=0.01, gamma=0.001, max_iter=10000.0 ...........................\n",
      "[CV]  C=0.001, gamma=1.0, max_iter=10000.0, score=0.4999999999999999, total=  56.3s\n",
      "[CV] C=0.01, gamma=0.001, max_iter=10000.0 ...........................\n",
      "[CV]  C=0.01, gamma=0.001, max_iter=1000.0, score=0.7228001019832987, total=  14.0s\n",
      "[CV] C=0.01, gamma=0.001, max_iter=10000.0 ...........................\n",
      "[CV]  C=0.01, gamma=0.001, max_iter=1000.0, score=0.5891770224255745, total=  14.0s\n",
      "[CV]  C=0.01, gamma=0.001, max_iter=1000.0, score=0.589610336253066, total=  14.2s\n",
      "[CV] C=0.01, gamma=0.001, max_iter=10000.0 ...........................\n",
      "[CV] C=0.01, gamma=0.01, max_iter=10.0 ...............................\n"
     ]
    },
    {
     "name": "stderr",
     "output_type": "stream",
     "text": [
      "[Parallel(n_jobs=-1)]: Done 113 tasks      | elapsed:  2.9min\n",
      "/home/ubuntu/anaconda3/envs/tensorflow_p36/lib/python3.6/site-packages/sklearn/svm/base.py:218: ConvergenceWarning: Solver terminated early (max_iter=10).  Consider pre-processing your data with StandardScaler or MinMaxScaler.\n",
      "  % self.max_iter, ConvergenceWarning)\n"
     ]
    },
    {
     "name": "stdout",
     "output_type": "stream",
     "text": [
      "[CV]  C=0.01, gamma=0.01, max_iter=10.0, score=0.43240713549494136, total=   0.3s\n",
      "[CV] C=0.01, gamma=0.01, max_iter=10.0 ...............................\n"
     ]
    },
    {
     "name": "stderr",
     "output_type": "stream",
     "text": [
      "/home/ubuntu/anaconda3/envs/tensorflow_p36/lib/python3.6/site-packages/sklearn/svm/base.py:218: ConvergenceWarning: Solver terminated early (max_iter=10).  Consider pre-processing your data with StandardScaler or MinMaxScaler.\n",
      "  % self.max_iter, ConvergenceWarning)\n"
     ]
    },
    {
     "name": "stdout",
     "output_type": "stream",
     "text": [
      "[CV]  C=0.01, gamma=0.01, max_iter=10.0, score=0.5657377585483967, total=   0.3s\n",
      "[CV] C=0.01, gamma=0.01, max_iter=10.0 ...............................\n"
     ]
    },
    {
     "name": "stderr",
     "output_type": "stream",
     "text": [
      "/home/ubuntu/anaconda3/envs/tensorflow_p36/lib/python3.6/site-packages/sklearn/svm/base.py:218: ConvergenceWarning: Solver terminated early (max_iter=10).  Consider pre-processing your data with StandardScaler or MinMaxScaler.\n",
      "  % self.max_iter, ConvergenceWarning)\n"
     ]
    },
    {
     "name": "stdout",
     "output_type": "stream",
     "text": [
      "[CV]  C=0.01, gamma=0.01, max_iter=10.0, score=0.5193656915281675, total=   0.3s\n",
      "[CV] C=0.01, gamma=0.01, max_iter=10.0 ...............................\n",
      "[CV] .. C=0.001, gamma=1.0, max_iter=10000.0, score=0.5, total=  56.6s\n",
      "[CV] C=0.01, gamma=0.01, max_iter=100.0 ..............................\n"
     ]
    },
    {
     "name": "stderr",
     "output_type": "stream",
     "text": [
      "/home/ubuntu/anaconda3/envs/tensorflow_p36/lib/python3.6/site-packages/sklearn/svm/base.py:218: ConvergenceWarning: Solver terminated early (max_iter=10).  Consider pre-processing your data with StandardScaler or MinMaxScaler.\n",
      "  % self.max_iter, ConvergenceWarning)\n"
     ]
    },
    {
     "name": "stdout",
     "output_type": "stream",
     "text": [
      "[CV]  C=0.01, gamma=0.01, max_iter=10.0, score=0.6618986786712067, total=   0.3s\n",
      "[CV] C=0.01, gamma=0.01, max_iter=100.0 ..............................\n",
      "[CV] .. C=0.001, gamma=1.0, max_iter=10000.0, score=0.5, total=  57.2s\n",
      "[CV] C=0.01, gamma=0.01, max_iter=100.0 ..............................\n"
     ]
    },
    {
     "name": "stderr",
     "output_type": "stream",
     "text": [
      "/home/ubuntu/anaconda3/envs/tensorflow_p36/lib/python3.6/site-packages/sklearn/svm/base.py:218: ConvergenceWarning: Solver terminated early (max_iter=100).  Consider pre-processing your data with StandardScaler or MinMaxScaler.\n",
      "  % self.max_iter, ConvergenceWarning)\n"
     ]
    },
    {
     "name": "stdout",
     "output_type": "stream",
     "text": [
      "[CV] .. C=0.001, gamma=1.0, max_iter=10000.0, score=0.5, total=  57.3s\n",
      "[CV] C=0.01, gamma=0.01, max_iter=100.0 ..............................\n"
     ]
    },
    {
     "name": "stderr",
     "output_type": "stream",
     "text": [
      "/home/ubuntu/anaconda3/envs/tensorflow_p36/lib/python3.6/site-packages/sklearn/svm/base.py:218: ConvergenceWarning: Solver terminated early (max_iter=100).  Consider pre-processing your data with StandardScaler or MinMaxScaler.\n",
      "  % self.max_iter, ConvergenceWarning)\n",
      "/home/ubuntu/anaconda3/envs/tensorflow_p36/lib/python3.6/site-packages/sklearn/svm/base.py:218: ConvergenceWarning: Solver terminated early (max_iter=100).  Consider pre-processing your data with StandardScaler or MinMaxScaler.\n",
      "  % self.max_iter, ConvergenceWarning)\n"
     ]
    },
    {
     "name": "stdout",
     "output_type": "stream",
     "text": [
      "[CV]  C=0.01, gamma=0.01, max_iter=100.0, score=0.6538305108819369, total=   1.5s\n",
      "[CV] C=0.01, gamma=0.01, max_iter=1000.0 .............................\n",
      "[CV]  C=0.01, gamma=0.01, max_iter=100.0, score=0.546432158835916, total=   1.5s\n",
      "[CV] C=0.01, gamma=0.01, max_iter=1000.0 .............................\n",
      "[CV]  C=0.01, gamma=0.01, max_iter=100.0, score=0.6407962760737045, total=   1.5s\n",
      "[CV] C=0.01, gamma=0.01, max_iter=1000.0 .............................\n"
     ]
    },
    {
     "name": "stderr",
     "output_type": "stream",
     "text": [
      "/home/ubuntu/anaconda3/envs/tensorflow_p36/lib/python3.6/site-packages/sklearn/svm/base.py:218: ConvergenceWarning: Solver terminated early (max_iter=100).  Consider pre-processing your data with StandardScaler or MinMaxScaler.\n",
      "  % self.max_iter, ConvergenceWarning)\n"
     ]
    },
    {
     "name": "stdout",
     "output_type": "stream",
     "text": [
      "[CV]  C=0.01, gamma=0.01, max_iter=100.0, score=0.6361022029314055, total=   1.3s\n",
      "[CV] C=0.01, gamma=0.01, max_iter=1000.0 .............................\n"
     ]
    },
    {
     "name": "stderr",
     "output_type": "stream",
     "text": [
      "/home/ubuntu/anaconda3/envs/tensorflow_p36/lib/python3.6/site-packages/sklearn/svm/base.py:218: ConvergenceWarning: Solver terminated early (max_iter=1000).  Consider pre-processing your data with StandardScaler or MinMaxScaler.\n",
      "  % self.max_iter, ConvergenceWarning)\n",
      "/home/ubuntu/anaconda3/envs/tensorflow_p36/lib/python3.6/site-packages/sklearn/svm/base.py:218: ConvergenceWarning: Solver terminated early (max_iter=1000).  Consider pre-processing your data with StandardScaler or MinMaxScaler.\n",
      "  % self.max_iter, ConvergenceWarning)\n",
      "/home/ubuntu/anaconda3/envs/tensorflow_p36/lib/python3.6/site-packages/sklearn/svm/base.py:218: ConvergenceWarning: Solver terminated early (max_iter=1000).  Consider pre-processing your data with StandardScaler or MinMaxScaler.\n",
      "  % self.max_iter, ConvergenceWarning)\n",
      "/home/ubuntu/anaconda3/envs/tensorflow_p36/lib/python3.6/site-packages/sklearn/svm/base.py:218: ConvergenceWarning: Solver terminated early (max_iter=1000).  Consider pre-processing your data with StandardScaler or MinMaxScaler.\n",
      "  % self.max_iter, ConvergenceWarning)\n"
     ]
    },
    {
     "name": "stdout",
     "output_type": "stream",
     "text": [
      "[CV]  C=0.001, gamma=10.0, max_iter=10000.0, score=0.4999999999999999, total=  57.8s\n",
      "[CV] C=0.01, gamma=0.01, max_iter=10000.0 ............................\n",
      "[CV]  C=0.01, gamma=0.01, max_iter=1000.0, score=0.6940648866316954, total=  13.7s\n",
      "[CV] C=0.01, gamma=0.01, max_iter=10000.0 ............................\n",
      "[CV] . C=0.001, gamma=10.0, max_iter=10000.0, score=0.5, total=  57.9s\n",
      "[CV] C=0.01, gamma=0.01, max_iter=10000.0 ............................\n",
      "[CV]  C=0.01, gamma=0.01, max_iter=1000.0, score=0.7178718051504638, total=  13.8s\n",
      "[CV] C=0.01, gamma=0.01, max_iter=10000.0 ............................\n",
      "[CV] . C=0.001, gamma=10.0, max_iter=10000.0, score=0.5, total=  58.2s\n",
      "[CV] C=0.01, gamma=0.1, max_iter=10.0 ................................\n",
      "[CV] . C=0.001, gamma=10.0, max_iter=10000.0, score=0.5, total=  58.2s\n",
      "[CV] C=0.01, gamma=0.1, max_iter=10.0 ................................\n"
     ]
    },
    {
     "name": "stderr",
     "output_type": "stream",
     "text": [
      "/home/ubuntu/anaconda3/envs/tensorflow_p36/lib/python3.6/site-packages/sklearn/svm/base.py:218: ConvergenceWarning: Solver terminated early (max_iter=10).  Consider pre-processing your data with StandardScaler or MinMaxScaler.\n",
      "  % self.max_iter, ConvergenceWarning)\n"
     ]
    },
    {
     "name": "stdout",
     "output_type": "stream",
     "text": [
      "[CV]  C=0.01, gamma=0.01, max_iter=1000.0, score=0.5898119222162322, total=  14.0s\n",
      "[CV] C=0.01, gamma=0.1, max_iter=10.0 ................................\n",
      "[CV]  C=0.01, gamma=0.1, max_iter=10.0, score=0.5372529035452905, total=   0.3s\n",
      "[CV] C=0.01, gamma=0.1, max_iter=10.0 ................................\n"
     ]
    },
    {
     "name": "stderr",
     "output_type": "stream",
     "text": [
      "[Parallel(n_jobs=-1)]: Done 130 tasks      | elapsed:  3.3min\n",
      "/home/ubuntu/anaconda3/envs/tensorflow_p36/lib/python3.6/site-packages/sklearn/svm/base.py:218: ConvergenceWarning: Solver terminated early (max_iter=10).  Consider pre-processing your data with StandardScaler or MinMaxScaler.\n",
      "  % self.max_iter, ConvergenceWarning)\n",
      "/home/ubuntu/anaconda3/envs/tensorflow_p36/lib/python3.6/site-packages/sklearn/svm/base.py:218: ConvergenceWarning: Solver terminated early (max_iter=10).  Consider pre-processing your data with StandardScaler or MinMaxScaler.\n",
      "  % self.max_iter, ConvergenceWarning)\n"
     ]
    },
    {
     "name": "stdout",
     "output_type": "stream",
     "text": [
      "[CV]  C=0.01, gamma=0.1, max_iter=10.0, score=0.6708640703930504, total=   0.3s\n",
      "[CV] C=0.01, gamma=0.1, max_iter=100.0 ...............................\n",
      "[CV]  C=0.01, gamma=0.1, max_iter=10.0, score=0.6830101046403937, total=   0.3s\n",
      "[CV] C=0.01, gamma=0.1, max_iter=100.0 ...............................\n"
     ]
    },
    {
     "name": "stderr",
     "output_type": "stream",
     "text": [
      "/home/ubuntu/anaconda3/envs/tensorflow_p36/lib/python3.6/site-packages/sklearn/svm/base.py:218: ConvergenceWarning: Solver terminated early (max_iter=10).  Consider pre-processing your data with StandardScaler or MinMaxScaler.\n",
      "  % self.max_iter, ConvergenceWarning)\n"
     ]
    },
    {
     "name": "stdout",
     "output_type": "stream",
     "text": [
      "[CV]  C=0.01, gamma=0.1, max_iter=10.0, score=0.7561472199567799, total=   0.3s\n",
      "[CV] C=0.01, gamma=0.1, max_iter=100.0 ...............................\n",
      "[CV]  C=0.01, gamma=0.01, max_iter=1000.0, score=0.6676457984877597, total=  14.0s\n",
      "[CV] C=0.01, gamma=0.1, max_iter=100.0 ...............................\n"
     ]
    },
    {
     "name": "stderr",
     "output_type": "stream",
     "text": [
      "/home/ubuntu/anaconda3/envs/tensorflow_p36/lib/python3.6/site-packages/sklearn/svm/base.py:218: ConvergenceWarning: Solver terminated early (max_iter=100).  Consider pre-processing your data with StandardScaler or MinMaxScaler.\n",
      "  % self.max_iter, ConvergenceWarning)\n",
      "/home/ubuntu/anaconda3/envs/tensorflow_p36/lib/python3.6/site-packages/sklearn/svm/base.py:218: ConvergenceWarning: Solver terminated early (max_iter=100).  Consider pre-processing your data with StandardScaler or MinMaxScaler.\n",
      "  % self.max_iter, ConvergenceWarning)\n",
      "/home/ubuntu/anaconda3/envs/tensorflow_p36/lib/python3.6/site-packages/sklearn/svm/base.py:218: ConvergenceWarning: Solver terminated early (max_iter=100).  Consider pre-processing your data with StandardScaler or MinMaxScaler.\n",
      "  % self.max_iter, ConvergenceWarning)\n",
      "/home/ubuntu/anaconda3/envs/tensorflow_p36/lib/python3.6/site-packages/sklearn/svm/base.py:218: ConvergenceWarning: Solver terminated early (max_iter=100).  Consider pre-processing your data with StandardScaler or MinMaxScaler.\n",
      "  % self.max_iter, ConvergenceWarning)\n"
     ]
    },
    {
     "name": "stdout",
     "output_type": "stream",
     "text": [
      "[CV]  C=0.01, gamma=0.1, max_iter=100.0, score=0.6568760904489626, total=   1.4s\n",
      "[CV] C=0.01, gamma=0.1, max_iter=1000.0 ..............................\n",
      "[CV]  C=0.01, gamma=0.1, max_iter=100.0, score=0.72980646211643, total=   1.5s\n",
      "[CV] C=0.01, gamma=0.1, max_iter=1000.0 ..............................\n",
      "[CV]  C=0.01, gamma=0.1, max_iter=100.0, score=0.4768260616476753, total=   1.5s\n",
      "[CV] C=0.01, gamma=0.1, max_iter=1000.0 ..............................\n",
      "[CV]  C=0.01, gamma=0.1, max_iter=100.0, score=0.7563973785377377, total=   1.5s\n",
      "[CV] C=0.01, gamma=0.1, max_iter=1000.0 ..............................\n"
     ]
    },
    {
     "name": "stderr",
     "output_type": "stream",
     "text": [
      "/home/ubuntu/anaconda3/envs/tensorflow_p36/lib/python3.6/site-packages/sklearn/svm/base.py:218: ConvergenceWarning: Solver terminated early (max_iter=1000).  Consider pre-processing your data with StandardScaler or MinMaxScaler.\n",
      "  % self.max_iter, ConvergenceWarning)\n",
      "/home/ubuntu/anaconda3/envs/tensorflow_p36/lib/python3.6/site-packages/sklearn/svm/base.py:218: ConvergenceWarning: Solver terminated early (max_iter=1000).  Consider pre-processing your data with StandardScaler or MinMaxScaler.\n",
      "  % self.max_iter, ConvergenceWarning)\n",
      "/home/ubuntu/anaconda3/envs/tensorflow_p36/lib/python3.6/site-packages/sklearn/svm/base.py:218: ConvergenceWarning: Solver terminated early (max_iter=1000).  Consider pre-processing your data with StandardScaler or MinMaxScaler.\n",
      "  % self.max_iter, ConvergenceWarning)\n",
      "/home/ubuntu/anaconda3/envs/tensorflow_p36/lib/python3.6/site-packages/sklearn/svm/base.py:218: ConvergenceWarning: Solver terminated early (max_iter=1000).  Consider pre-processing your data with StandardScaler or MinMaxScaler.\n",
      "  % self.max_iter, ConvergenceWarning)\n"
     ]
    },
    {
     "name": "stdout",
     "output_type": "stream",
     "text": [
      "[CV]  C=0.01, gamma=0.1, max_iter=1000.0, score=0.7581704257765339, total=  14.0s\n",
      "[CV] C=0.01, gamma=0.1, max_iter=10000.0 .............................\n",
      "[CV]  C=0.01, gamma=0.1, max_iter=1000.0, score=0.7378675968034994, total=  13.9s\n",
      "[CV] C=0.01, gamma=0.1, max_iter=10000.0 .............................\n",
      "[CV]  C=0.01, gamma=0.1, max_iter=1000.0, score=0.7323856105251678, total=  13.8s\n",
      "[CV] C=0.01, gamma=0.1, max_iter=10000.0 .............................\n",
      "[CV]  C=0.01, gamma=0.1, max_iter=1000.0, score=0.642628404498938, total=  13.9s\n",
      "[CV] C=0.01, gamma=0.1, max_iter=10000.0 .............................\n",
      "[CV]  C=0.01, gamma=0.0001, max_iter=10000.0, score=0.4999999999999999, total=  55.4s\n",
      "[CV] C=0.01, gamma=1.0, max_iter=10.0 ................................\n"
     ]
    },
    {
     "name": "stderr",
     "output_type": "stream",
     "text": [
      "/home/ubuntu/anaconda3/envs/tensorflow_p36/lib/python3.6/site-packages/sklearn/svm/base.py:218: ConvergenceWarning: Solver terminated early (max_iter=10).  Consider pre-processing your data with StandardScaler or MinMaxScaler.\n",
      "  % self.max_iter, ConvergenceWarning)\n"
     ]
    },
    {
     "name": "stdout",
     "output_type": "stream",
     "text": [
      "[CV]  C=0.01, gamma=1.0, max_iter=10.0, score=0.501909209387314, total=   0.3s\n",
      "[CV] C=0.01, gamma=1.0, max_iter=10.0 ................................\n"
     ]
    },
    {
     "name": "stderr",
     "output_type": "stream",
     "text": [
      "/home/ubuntu/anaconda3/envs/tensorflow_p36/lib/python3.6/site-packages/sklearn/svm/base.py:218: ConvergenceWarning: Solver terminated early (max_iter=10).  Consider pre-processing your data with StandardScaler or MinMaxScaler.\n",
      "  % self.max_iter, ConvergenceWarning)\n"
     ]
    },
    {
     "name": "stdout",
     "output_type": "stream",
     "text": [
      "[CV]  C=0.01, gamma=1.0, max_iter=10.0, score=0.5022852168757785, total=   0.3s\n",
      "[CV] C=0.01, gamma=1.0, max_iter=10.0 ................................\n"
     ]
    },
    {
     "name": "stderr",
     "output_type": "stream",
     "text": [
      "/home/ubuntu/anaconda3/envs/tensorflow_p36/lib/python3.6/site-packages/sklearn/svm/base.py:218: ConvergenceWarning: Solver terminated early (max_iter=10).  Consider pre-processing your data with StandardScaler or MinMaxScaler.\n",
      "  % self.max_iter, ConvergenceWarning)\n"
     ]
    },
    {
     "name": "stdout",
     "output_type": "stream",
     "text": [
      "[CV]  C=0.01, gamma=1.0, max_iter=10.0, score=0.503174498953289, total=   0.3s\n",
      "[CV] C=0.01, gamma=1.0, max_iter=10.0 ................................\n"
     ]
    },
    {
     "name": "stderr",
     "output_type": "stream",
     "text": [
      "/home/ubuntu/anaconda3/envs/tensorflow_p36/lib/python3.6/site-packages/sklearn/svm/base.py:218: ConvergenceWarning: Solver terminated early (max_iter=10).  Consider pre-processing your data with StandardScaler or MinMaxScaler.\n",
      "  % self.max_iter, ConvergenceWarning)\n"
     ]
    },
    {
     "name": "stdout",
     "output_type": "stream",
     "text": [
      "[CV]  C=0.01, gamma=1.0, max_iter=10.0, score=0.506986009550183, total=   0.3s\n",
      "[CV]  C=0.01, gamma=0.0001, max_iter=10000.0, score=0.5, total=  56.1s\n",
      "[CV] C=0.01, gamma=1.0, max_iter=100.0 ...............................\n",
      "[CV] C=0.01, gamma=1.0, max_iter=100.0 ...............................\n"
     ]
    },
    {
     "name": "stderr",
     "output_type": "stream",
     "text": [
      "[Parallel(n_jobs=-1)]: Done 149 tasks      | elapsed:  4.0min\n"
     ]
    },
    {
     "name": "stdout",
     "output_type": "stream",
     "text": [
      "[CV]  C=0.01, gamma=0.0001, max_iter=10000.0, score=0.5, total=  55.5s\n",
      "[CV] C=0.01, gamma=1.0, max_iter=100.0 ...............................\n",
      "[CV]  C=0.01, gamma=0.0001, max_iter=10000.0, score=0.5, total=  56.0s\n",
      "[CV] C=0.01, gamma=1.0, max_iter=100.0 ...............................\n"
     ]
    },
    {
     "name": "stderr",
     "output_type": "stream",
     "text": [
      "/home/ubuntu/anaconda3/envs/tensorflow_p36/lib/python3.6/site-packages/sklearn/svm/base.py:218: ConvergenceWarning: Solver terminated early (max_iter=100).  Consider pre-processing your data with StandardScaler or MinMaxScaler.\n",
      "  % self.max_iter, ConvergenceWarning)\n",
      "/home/ubuntu/anaconda3/envs/tensorflow_p36/lib/python3.6/site-packages/sklearn/svm/base.py:218: ConvergenceWarning: Solver terminated early (max_iter=100).  Consider pre-processing your data with StandardScaler or MinMaxScaler.\n",
      "  % self.max_iter, ConvergenceWarning)\n",
      "/home/ubuntu/anaconda3/envs/tensorflow_p36/lib/python3.6/site-packages/sklearn/svm/base.py:218: ConvergenceWarning: Solver terminated early (max_iter=100).  Consider pre-processing your data with StandardScaler or MinMaxScaler.\n",
      "  % self.max_iter, ConvergenceWarning)\n",
      "/home/ubuntu/anaconda3/envs/tensorflow_p36/lib/python3.6/site-packages/sklearn/svm/base.py:218: ConvergenceWarning: Solver terminated early (max_iter=100).  Consider pre-processing your data with StandardScaler or MinMaxScaler.\n",
      "  % self.max_iter, ConvergenceWarning)\n"
     ]
    },
    {
     "name": "stdout",
     "output_type": "stream",
     "text": [
      "[CV]  C=0.01, gamma=1.0, max_iter=100.0, score=0.5304723023564253, total=   1.5s\n",
      "[CV] C=0.01, gamma=1.0, max_iter=1000.0 ..............................\n",
      "[CV]  C=0.01, gamma=1.0, max_iter=100.0, score=0.5889888755266193, total=   1.5s\n",
      "[CV] C=0.01, gamma=1.0, max_iter=1000.0 ..............................\n",
      "[CV]  C=0.01, gamma=1.0, max_iter=100.0, score=0.575912474062606, total=   1.5s\n",
      "[CV] C=0.01, gamma=1.0, max_iter=1000.0 ..............................\n",
      "[CV]  C=0.01, gamma=1.0, max_iter=100.0, score=0.5066223868699575, total=   1.4s\n",
      "[CV] C=0.01, gamma=1.0, max_iter=1000.0 ..............................\n"
     ]
    },
    {
     "name": "stderr",
     "output_type": "stream",
     "text": [
      "/home/ubuntu/anaconda3/envs/tensorflow_p36/lib/python3.6/site-packages/sklearn/svm/base.py:218: ConvergenceWarning: Solver terminated early (max_iter=1000).  Consider pre-processing your data with StandardScaler or MinMaxScaler.\n",
      "  % self.max_iter, ConvergenceWarning)\n",
      "/home/ubuntu/anaconda3/envs/tensorflow_p36/lib/python3.6/site-packages/sklearn/svm/base.py:218: ConvergenceWarning: Solver terminated early (max_iter=1000).  Consider pre-processing your data with StandardScaler or MinMaxScaler.\n",
      "  % self.max_iter, ConvergenceWarning)\n",
      "/home/ubuntu/anaconda3/envs/tensorflow_p36/lib/python3.6/site-packages/sklearn/svm/base.py:218: ConvergenceWarning: Solver terminated early (max_iter=1000).  Consider pre-processing your data with StandardScaler or MinMaxScaler.\n",
      "  % self.max_iter, ConvergenceWarning)\n",
      "/home/ubuntu/anaconda3/envs/tensorflow_p36/lib/python3.6/site-packages/sklearn/svm/base.py:218: ConvergenceWarning: Solver terminated early (max_iter=1000).  Consider pre-processing your data with StandardScaler or MinMaxScaler.\n",
      "  % self.max_iter, ConvergenceWarning)\n"
     ]
    },
    {
     "name": "stdout",
     "output_type": "stream",
     "text": [
      "[CV]  C=0.01, gamma=1.0, max_iter=1000.0, score=0.5651898940693012, total=  13.6s\n",
      "[CV] C=0.01, gamma=1.0, max_iter=10000.0 .............................\n",
      "[CV]  C=0.01, gamma=1.0, max_iter=1000.0, score=0.4986002254691001, total=  13.6s\n",
      "[CV]  C=0.01, gamma=1.0, max_iter=1000.0, score=0.5872335417540205, total=  13.7s\n",
      "[CV] C=0.01, gamma=1.0, max_iter=10000.0 .............................\n",
      "[CV] C=0.01, gamma=1.0, max_iter=10000.0 .............................\n",
      "[CV]  C=0.01, gamma=1.0, max_iter=1000.0, score=0.6791029847009693, total=  13.8s\n",
      "[CV] C=0.01, gamma=1.0, max_iter=10000.0 .............................\n",
      "[CV] . C=0.01, gamma=0.001, max_iter=10000.0, score=0.5, total=  55.9s\n",
      "[CV] C=0.01, gamma=10.0, max_iter=10.0 ...............................\n",
      "[CV] . C=0.01, gamma=0.001, max_iter=10000.0, score=0.5, total=  56.4s\n",
      "[CV] C=0.01, gamma=10.0, max_iter=10.0 ...............................\n"
     ]
    },
    {
     "name": "stderr",
     "output_type": "stream",
     "text": [
      "/home/ubuntu/anaconda3/envs/tensorflow_p36/lib/python3.6/site-packages/sklearn/svm/base.py:218: ConvergenceWarning: Solver terminated early (max_iter=10).  Consider pre-processing your data with StandardScaler or MinMaxScaler.\n",
      "  % self.max_iter, ConvergenceWarning)\n"
     ]
    },
    {
     "name": "stdout",
     "output_type": "stream",
     "text": [
      "[CV]  C=0.01, gamma=10.0, max_iter=10.0, score=0.5006393461816772, total=   0.3s\n",
      "[CV] C=0.01, gamma=10.0, max_iter=10.0 ...............................\n"
     ]
    },
    {
     "name": "stderr",
     "output_type": "stream",
     "text": [
      "/home/ubuntu/anaconda3/envs/tensorflow_p36/lib/python3.6/site-packages/sklearn/svm/base.py:218: ConvergenceWarning: Solver terminated early (max_iter=10).  Consider pre-processing your data with StandardScaler or MinMaxScaler.\n",
      "  % self.max_iter, ConvergenceWarning)\n"
     ]
    },
    {
     "name": "stdout",
     "output_type": "stream",
     "text": [
      "[CV]  C=0.01, gamma=10.0, max_iter=10.0, score=0.5006348997906579, total=   0.3s\n",
      "[CV] C=0.01, gamma=10.0, max_iter=10.0 ...............................\n"
     ]
    },
    {
     "name": "stderr",
     "output_type": "stream",
     "text": [
      "/home/ubuntu/anaconda3/envs/tensorflow_p36/lib/python3.6/site-packages/sklearn/svm/base.py:218: ConvergenceWarning: Solver terminated early (max_iter=10).  Consider pre-processing your data with StandardScaler or MinMaxScaler.\n",
      "  % self.max_iter, ConvergenceWarning)\n"
     ]
    },
    {
     "name": "stdout",
     "output_type": "stream",
     "text": [
      "[CV]  C=0.01, gamma=10.0, max_iter=10.0, score=0.5016503170851208, total=   0.3s\n",
      "[CV] C=0.01, gamma=10.0, max_iter=100.0 ..............................\n"
     ]
    },
    {
     "name": "stderr",
     "output_type": "stream",
     "text": [
      "/home/ubuntu/anaconda3/envs/tensorflow_p36/lib/python3.6/site-packages/sklearn/svm/base.py:218: ConvergenceWarning: Solver terminated early (max_iter=10).  Consider pre-processing your data with StandardScaler or MinMaxScaler.\n",
      "  % self.max_iter, ConvergenceWarning)\n"
     ]
    },
    {
     "name": "stdout",
     "output_type": "stream",
     "text": [
      "[CV]  C=0.01, gamma=10.0, max_iter=10.0, score=0.5048248160384097, total=   0.3s\n",
      "[CV] C=0.01, gamma=10.0, max_iter=100.0 ..............................\n",
      "[CV]  C=0.01, gamma=0.001, max_iter=10000.0, score=0.4999999999999999, total=  58.2s\n",
      "[CV] C=0.01, gamma=10.0, max_iter=100.0 ..............................\n",
      "[CV] . C=0.01, gamma=0.001, max_iter=10000.0, score=0.5, total=  57.8s\n",
      "[CV] C=0.01, gamma=10.0, max_iter=100.0 ..............................\n"
     ]
    },
    {
     "name": "stderr",
     "output_type": "stream",
     "text": [
      "[Parallel(n_jobs=-1)]: Done 168 tasks      | elapsed:  4.4min\n",
      "/home/ubuntu/anaconda3/envs/tensorflow_p36/lib/python3.6/site-packages/sklearn/svm/base.py:218: ConvergenceWarning: Solver terminated early (max_iter=100).  Consider pre-processing your data with StandardScaler or MinMaxScaler.\n",
      "  % self.max_iter, ConvergenceWarning)\n",
      "/home/ubuntu/anaconda3/envs/tensorflow_p36/lib/python3.6/site-packages/sklearn/svm/base.py:218: ConvergenceWarning: Solver terminated early (max_iter=100).  Consider pre-processing your data with StandardScaler or MinMaxScaler.\n",
      "  % self.max_iter, ConvergenceWarning)\n",
      "/home/ubuntu/anaconda3/envs/tensorflow_p36/lib/python3.6/site-packages/sklearn/svm/base.py:218: ConvergenceWarning: Solver terminated early (max_iter=100).  Consider pre-processing your data with StandardScaler or MinMaxScaler.\n",
      "  % self.max_iter, ConvergenceWarning)\n"
     ]
    },
    {
     "name": "stdout",
     "output_type": "stream",
     "text": [
      "[CV]  C=0.01, gamma=10.0, max_iter=100.0, score=0.4999977927105705, total=   1.5s\n",
      "[CV] C=0.01, gamma=10.0, max_iter=1000.0 .............................\n"
     ]
    },
    {
     "name": "stderr",
     "output_type": "stream",
     "text": [
      "/home/ubuntu/anaconda3/envs/tensorflow_p36/lib/python3.6/site-packages/sklearn/svm/base.py:218: ConvergenceWarning: Solver terminated early (max_iter=100).  Consider pre-processing your data with StandardScaler or MinMaxScaler.\n",
      "  % self.max_iter, ConvergenceWarning)\n"
     ]
    },
    {
     "name": "stdout",
     "output_type": "stream",
     "text": [
      "[CV]  C=0.01, gamma=10.0, max_iter=100.0, score=0.4983475710619318, total=   1.5s\n",
      "[CV] C=0.01, gamma=10.0, max_iter=1000.0 .............................\n",
      "[CV]  C=0.01, gamma=10.0, max_iter=100.0, score=0.5237456745411904, total=   1.5s\n",
      "[CV] C=0.01, gamma=10.0, max_iter=1000.0 .............................\n",
      "[CV]  C=0.01, gamma=10.0, max_iter=100.0, score=0.5099103499225143, total=   1.5s\n",
      "[CV] C=0.01, gamma=10.0, max_iter=1000.0 .............................\n"
     ]
    },
    {
     "name": "stderr",
     "output_type": "stream",
     "text": [
      "/home/ubuntu/anaconda3/envs/tensorflow_p36/lib/python3.6/site-packages/sklearn/svm/base.py:218: ConvergenceWarning: Solver terminated early (max_iter=1000).  Consider pre-processing your data with StandardScaler or MinMaxScaler.\n",
      "  % self.max_iter, ConvergenceWarning)\n",
      "/home/ubuntu/anaconda3/envs/tensorflow_p36/lib/python3.6/site-packages/sklearn/svm/base.py:218: ConvergenceWarning: Solver terminated early (max_iter=1000).  Consider pre-processing your data with StandardScaler or MinMaxScaler.\n",
      "  % self.max_iter, ConvergenceWarning)\n",
      "/home/ubuntu/anaconda3/envs/tensorflow_p36/lib/python3.6/site-packages/sklearn/svm/base.py:218: ConvergenceWarning: Solver terminated early (max_iter=1000).  Consider pre-processing your data with StandardScaler or MinMaxScaler.\n",
      "  % self.max_iter, ConvergenceWarning)\n",
      "/home/ubuntu/anaconda3/envs/tensorflow_p36/lib/python3.6/site-packages/sklearn/svm/base.py:218: ConvergenceWarning: Solver terminated early (max_iter=1000).  Consider pre-processing your data with StandardScaler or MinMaxScaler.\n",
      "  % self.max_iter, ConvergenceWarning)\n"
     ]
    },
    {
     "name": "stdout",
     "output_type": "stream",
     "text": [
      "[CV]  C=0.01, gamma=10.0, max_iter=1000.0, score=0.6246833499359885, total=  14.0s\n",
      "[CV] C=0.01, gamma=10.0, max_iter=10000.0 ............................\n",
      "[CV]  C=0.01, gamma=10.0, max_iter=1000.0, score=0.6267107928740706, total=  14.1s\n",
      "[CV] C=0.01, gamma=10.0, max_iter=10000.0 ............................\n",
      "[CV]  C=0.01, gamma=10.0, max_iter=1000.0, score=0.6223087313984152, total=  14.2s\n",
      "[CV] C=0.01, gamma=10.0, max_iter=10000.0 ............................\n",
      "[CV]  C=0.01, gamma=10.0, max_iter=1000.0, score=0.5020761434339804, total=  14.2s\n",
      "[CV] C=0.01, gamma=10.0, max_iter=10000.0 ............................\n",
      "[CV]  C=0.01, gamma=0.01, max_iter=10000.0, score=0.4999999999999999, total=  58.5s\n",
      "[CV] C=0.1, gamma=0.0001, max_iter=10.0 ..............................\n"
     ]
    },
    {
     "name": "stderr",
     "output_type": "stream",
     "text": [
      "/home/ubuntu/anaconda3/envs/tensorflow_p36/lib/python3.6/site-packages/sklearn/svm/base.py:218: ConvergenceWarning: Solver terminated early (max_iter=10).  Consider pre-processing your data with StandardScaler or MinMaxScaler.\n",
      "  % self.max_iter, ConvergenceWarning)\n"
     ]
    },
    {
     "name": "stdout",
     "output_type": "stream",
     "text": [
      "[CV]  C=0.1, gamma=0.0001, max_iter=10.0, score=0.6625790545507589, total=   0.3s\n",
      "[CV] C=0.1, gamma=0.0001, max_iter=10.0 ..............................\n"
     ]
    },
    {
     "name": "stderr",
     "output_type": "stream",
     "text": [
      "/home/ubuntu/anaconda3/envs/tensorflow_p36/lib/python3.6/site-packages/sklearn/svm/base.py:218: ConvergenceWarning: Solver terminated early (max_iter=10).  Consider pre-processing your data with StandardScaler or MinMaxScaler.\n",
      "  % self.max_iter, ConvergenceWarning)\n"
     ]
    },
    {
     "name": "stdout",
     "output_type": "stream",
     "text": [
      "[CV]  C=0.1, gamma=0.0001, max_iter=10.0, score=0.5428792542317693, total=   0.3s\n",
      "[CV] C=0.1, gamma=0.0001, max_iter=10.0 ..............................\n"
     ]
    },
    {
     "name": "stderr",
     "output_type": "stream",
     "text": [
      "/home/ubuntu/anaconda3/envs/tensorflow_p36/lib/python3.6/site-packages/sklearn/svm/base.py:218: ConvergenceWarning: Solver terminated early (max_iter=10).  Consider pre-processing your data with StandardScaler or MinMaxScaler.\n",
      "  % self.max_iter, ConvergenceWarning)\n"
     ]
    },
    {
     "name": "stdout",
     "output_type": "stream",
     "text": [
      "[CV]  C=0.1, gamma=0.0001, max_iter=10.0, score=0.609799266457478, total=   0.3s\n",
      "[CV] C=0.1, gamma=0.0001, max_iter=10.0 ..............................\n"
     ]
    },
    {
     "name": "stderr",
     "output_type": "stream",
     "text": [
      "/home/ubuntu/anaconda3/envs/tensorflow_p36/lib/python3.6/site-packages/sklearn/svm/base.py:218: ConvergenceWarning: Solver terminated early (max_iter=10).  Consider pre-processing your data with StandardScaler or MinMaxScaler.\n",
      "  % self.max_iter, ConvergenceWarning)\n"
     ]
    },
    {
     "name": "stdout",
     "output_type": "stream",
     "text": [
      "[CV]  C=0.1, gamma=0.0001, max_iter=10.0, score=0.722772071935087, total=   0.3s\n",
      "[CV] C=0.1, gamma=0.0001, max_iter=100.0 .............................\n",
      "[CV] .. C=0.01, gamma=0.01, max_iter=10000.0, score=0.5, total=  59.6s\n",
      "[CV] C=0.1, gamma=0.0001, max_iter=100.0 .............................\n",
      "[CV] .. C=0.01, gamma=0.01, max_iter=10000.0, score=0.5, total=  59.2s\n",
      "[CV] C=0.1, gamma=0.0001, max_iter=100.0 .............................\n",
      "[CV] .. C=0.01, gamma=0.01, max_iter=10000.0, score=0.5, total=  59.8s\n",
      "[CV] C=0.1, gamma=0.0001, max_iter=100.0 .............................\n"
     ]
    },
    {
     "name": "stderr",
     "output_type": "stream",
     "text": [
      "/home/ubuntu/anaconda3/envs/tensorflow_p36/lib/python3.6/site-packages/sklearn/svm/base.py:218: ConvergenceWarning: Solver terminated early (max_iter=100).  Consider pre-processing your data with StandardScaler or MinMaxScaler.\n",
      "  % self.max_iter, ConvergenceWarning)\n",
      "/home/ubuntu/anaconda3/envs/tensorflow_p36/lib/python3.6/site-packages/sklearn/svm/base.py:218: ConvergenceWarning: Solver terminated early (max_iter=100).  Consider pre-processing your data with StandardScaler or MinMaxScaler.\n",
      "  % self.max_iter, ConvergenceWarning)\n",
      "/home/ubuntu/anaconda3/envs/tensorflow_p36/lib/python3.6/site-packages/sklearn/svm/base.py:218: ConvergenceWarning: Solver terminated early (max_iter=100).  Consider pre-processing your data with StandardScaler or MinMaxScaler.\n",
      "  % self.max_iter, ConvergenceWarning)\n",
      "/home/ubuntu/anaconda3/envs/tensorflow_p36/lib/python3.6/site-packages/sklearn/svm/base.py:218: ConvergenceWarning: Solver terminated early (max_iter=100).  Consider pre-processing your data with StandardScaler or MinMaxScaler.\n",
      "  % self.max_iter, ConvergenceWarning)\n"
     ]
    },
    {
     "name": "stdout",
     "output_type": "stream",
     "text": [
      "[CV]  C=0.1, gamma=0.0001, max_iter=100.0, score=0.6598378889867773, total=   1.5s\n",
      "[CV] C=0.1, gamma=0.0001, max_iter=1000.0 ............................\n",
      "[CV]  C=0.1, gamma=0.0001, max_iter=100.0, score=0.7017750699983258, total=   1.4s\n",
      "[CV] C=0.1, gamma=0.0001, max_iter=1000.0 ............................\n",
      "[CV]  C=0.1, gamma=0.0001, max_iter=100.0, score=0.6980459216663825, total=   1.5s\n",
      "[CV] C=0.1, gamma=0.0001, max_iter=1000.0 ............................\n",
      "[CV]  C=0.1, gamma=0.0001, max_iter=100.0, score=0.7090444518167311, total=   1.4s\n",
      "[CV] C=0.1, gamma=0.0001, max_iter=1000.0 ............................\n"
     ]
    },
    {
     "name": "stderr",
     "output_type": "stream",
     "text": [
      "/home/ubuntu/anaconda3/envs/tensorflow_p36/lib/python3.6/site-packages/sklearn/svm/base.py:218: ConvergenceWarning: Solver terminated early (max_iter=1000).  Consider pre-processing your data with StandardScaler or MinMaxScaler.\n",
      "  % self.max_iter, ConvergenceWarning)\n",
      "/home/ubuntu/anaconda3/envs/tensorflow_p36/lib/python3.6/site-packages/sklearn/svm/base.py:218: ConvergenceWarning: Solver terminated early (max_iter=1000).  Consider pre-processing your data with StandardScaler or MinMaxScaler.\n",
      "  % self.max_iter, ConvergenceWarning)\n",
      "/home/ubuntu/anaconda3/envs/tensorflow_p36/lib/python3.6/site-packages/sklearn/svm/base.py:218: ConvergenceWarning: Solver terminated early (max_iter=1000).  Consider pre-processing your data with StandardScaler or MinMaxScaler.\n",
      "  % self.max_iter, ConvergenceWarning)\n",
      "/home/ubuntu/anaconda3/envs/tensorflow_p36/lib/python3.6/site-packages/sklearn/svm/base.py:218: ConvergenceWarning: Solver terminated early (max_iter=1000).  Consider pre-processing your data with StandardScaler or MinMaxScaler.\n",
      "  % self.max_iter, ConvergenceWarning)\n"
     ]
    },
    {
     "name": "stdout",
     "output_type": "stream",
     "text": [
      "[CV]  C=0.1, gamma=0.0001, max_iter=1000.0, score=0.6373142145366134, total=  13.3s\n",
      "[CV] C=0.1, gamma=0.0001, max_iter=10000.0 ...........................\n",
      "[CV]  C=0.1, gamma=0.0001, max_iter=1000.0, score=0.6218029331997443, total=  13.5s\n",
      "[CV] C=0.1, gamma=0.0001, max_iter=10000.0 ...........................\n",
      "[CV]  C=0.1, gamma=0.0001, max_iter=1000.0, score=0.5697374160442461, total=  13.4s\n",
      "[CV]  C=0.1, gamma=0.0001, max_iter=1000.0, score=0.6381084632314883, total=  13.2s\n"
     ]
    },
    {
     "name": "stderr",
     "output_type": "stream",
     "text": [
      "[Parallel(n_jobs=-1)]: Done 189 tasks      | elapsed:  5.2min\n"
     ]
    },
    {
     "name": "stdout",
     "output_type": "stream",
     "text": [
      "[CV] C=0.1, gamma=0.0001, max_iter=10000.0 ...........................\n",
      "[CV] C=0.1, gamma=0.0001, max_iter=10000.0 ...........................\n",
      "[CV]  C=0.01, gamma=0.1, max_iter=10000.0, score=0.6014121853892794, total= 1.0min\n",
      "[CV] C=0.1, gamma=0.001, max_iter=10.0 ...............................\n",
      "[CV]  C=0.01, gamma=0.1, max_iter=10000.0, score=0.6159950590320495, total= 1.0min\n"
     ]
    },
    {
     "name": "stderr",
     "output_type": "stream",
     "text": [
      "/home/ubuntu/anaconda3/envs/tensorflow_p36/lib/python3.6/site-packages/sklearn/svm/base.py:218: ConvergenceWarning: Solver terminated early (max_iter=10).  Consider pre-processing your data with StandardScaler or MinMaxScaler.\n",
      "  % self.max_iter, ConvergenceWarning)\n"
     ]
    },
    {
     "name": "stdout",
     "output_type": "stream",
     "text": [
      "[CV] C=0.1, gamma=0.001, max_iter=10.0 ...............................\n",
      "[CV]  C=0.1, gamma=0.001, max_iter=10.0, score=0.6652183968936718, total=   0.3s\n",
      "[CV] C=0.1, gamma=0.001, max_iter=10.0 ...............................\n",
      "[CV]  C=0.01, gamma=0.1, max_iter=10000.0, score=0.6138296418143813, total= 1.0min\n",
      "[CV] C=0.1, gamma=0.001, max_iter=10.0 ...............................\n"
     ]
    },
    {
     "name": "stderr",
     "output_type": "stream",
     "text": [
      "/home/ubuntu/anaconda3/envs/tensorflow_p36/lib/python3.6/site-packages/sklearn/svm/base.py:218: ConvergenceWarning: Solver terminated early (max_iter=10).  Consider pre-processing your data with StandardScaler or MinMaxScaler.\n",
      "  % self.max_iter, ConvergenceWarning)\n",
      "/home/ubuntu/anaconda3/envs/tensorflow_p36/lib/python3.6/site-packages/sklearn/svm/base.py:218: ConvergenceWarning: Solver terminated early (max_iter=10).  Consider pre-processing your data with StandardScaler or MinMaxScaler.\n",
      "  % self.max_iter, ConvergenceWarning)\n"
     ]
    },
    {
     "name": "stdout",
     "output_type": "stream",
     "text": [
      "[CV]  C=0.1, gamma=0.001, max_iter=10.0, score=0.49432161139755526, total=   0.3s\n",
      "[CV] C=0.1, gamma=0.001, max_iter=100.0 ..............................\n"
     ]
    },
    {
     "name": "stderr",
     "output_type": "stream",
     "text": [
      "/home/ubuntu/anaconda3/envs/tensorflow_p36/lib/python3.6/site-packages/sklearn/svm/base.py:218: ConvergenceWarning: Solver terminated early (max_iter=10).  Consider pre-processing your data with StandardScaler or MinMaxScaler.\n",
      "  % self.max_iter, ConvergenceWarning)\n"
     ]
    },
    {
     "name": "stdout",
     "output_type": "stream",
     "text": [
      "[CV]  C=0.1, gamma=0.001, max_iter=10.0, score=0.6099211779685357, total=   0.3s\n",
      "[CV] C=0.1, gamma=0.001, max_iter=100.0 ..............................\n",
      "[CV]  C=0.1, gamma=0.001, max_iter=10.0, score=0.7106461962840603, total=   0.3s\n",
      "[CV] C=0.1, gamma=0.001, max_iter=100.0 ..............................\n",
      "[CV]  C=0.01, gamma=0.1, max_iter=10000.0, score=0.6131989657296184, total= 1.0min\n",
      "[CV] C=0.1, gamma=0.001, max_iter=100.0 ..............................\n"
     ]
    },
    {
     "name": "stderr",
     "output_type": "stream",
     "text": [
      "/home/ubuntu/anaconda3/envs/tensorflow_p36/lib/python3.6/site-packages/sklearn/svm/base.py:218: ConvergenceWarning: Solver terminated early (max_iter=100).  Consider pre-processing your data with StandardScaler or MinMaxScaler.\n",
      "  % self.max_iter, ConvergenceWarning)\n",
      "/home/ubuntu/anaconda3/envs/tensorflow_p36/lib/python3.6/site-packages/sklearn/svm/base.py:218: ConvergenceWarning: Solver terminated early (max_iter=100).  Consider pre-processing your data with StandardScaler or MinMaxScaler.\n",
      "  % self.max_iter, ConvergenceWarning)\n",
      "/home/ubuntu/anaconda3/envs/tensorflow_p36/lib/python3.6/site-packages/sklearn/svm/base.py:218: ConvergenceWarning: Solver terminated early (max_iter=100).  Consider pre-processing your data with StandardScaler or MinMaxScaler.\n",
      "  % self.max_iter, ConvergenceWarning)\n",
      "/home/ubuntu/anaconda3/envs/tensorflow_p36/lib/python3.6/site-packages/sklearn/svm/base.py:218: ConvergenceWarning: Solver terminated early (max_iter=100).  Consider pre-processing your data with StandardScaler or MinMaxScaler.\n",
      "  % self.max_iter, ConvergenceWarning)\n"
     ]
    },
    {
     "name": "stdout",
     "output_type": "stream",
     "text": [
      "[CV]  C=0.1, gamma=0.001, max_iter=100.0, score=0.6616052560359769, total=   1.4s\n",
      "[CV] C=0.1, gamma=0.001, max_iter=1000.0 .............................\n",
      "[CV]  C=0.1, gamma=0.001, max_iter=100.0, score=0.6076981647613913, total=   1.4s\n",
      "[CV] C=0.1, gamma=0.001, max_iter=1000.0 .............................\n",
      "[CV]  C=0.1, gamma=0.001, max_iter=100.0, score=0.7077598692647833, total=   1.4s\n",
      "[CV] C=0.1, gamma=0.001, max_iter=1000.0 .............................\n",
      "[CV]  C=0.1, gamma=0.001, max_iter=100.0, score=0.7202810453902474, total=   1.3s\n",
      "[CV] C=0.1, gamma=0.001, max_iter=1000.0 .............................\n"
     ]
    },
    {
     "name": "stderr",
     "output_type": "stream",
     "text": [
      "/home/ubuntu/anaconda3/envs/tensorflow_p36/lib/python3.6/site-packages/sklearn/svm/base.py:218: ConvergenceWarning: Solver terminated early (max_iter=1000).  Consider pre-processing your data with StandardScaler or MinMaxScaler.\n",
      "  % self.max_iter, ConvergenceWarning)\n",
      "/home/ubuntu/anaconda3/envs/tensorflow_p36/lib/python3.6/site-packages/sklearn/svm/base.py:218: ConvergenceWarning: Solver terminated early (max_iter=1000).  Consider pre-processing your data with StandardScaler or MinMaxScaler.\n",
      "  % self.max_iter, ConvergenceWarning)\n",
      "/home/ubuntu/anaconda3/envs/tensorflow_p36/lib/python3.6/site-packages/sklearn/svm/base.py:218: ConvergenceWarning: Solver terminated early (max_iter=1000).  Consider pre-processing your data with StandardScaler or MinMaxScaler.\n",
      "  % self.max_iter, ConvergenceWarning)\n",
      "/home/ubuntu/anaconda3/envs/tensorflow_p36/lib/python3.6/site-packages/sklearn/svm/base.py:218: ConvergenceWarning: Solver terminated early (max_iter=1000).  Consider pre-processing your data with StandardScaler or MinMaxScaler.\n",
      "  % self.max_iter, ConvergenceWarning)\n"
     ]
    },
    {
     "name": "stdout",
     "output_type": "stream",
     "text": [
      "[CV]  C=0.1, gamma=0.001, max_iter=1000.0, score=0.7228001019832987, total=  12.8s\n",
      "[CV] C=0.1, gamma=0.001, max_iter=10000.0 ............................\n",
      "[CV]  C=0.1, gamma=0.001, max_iter=1000.0, score=0.6644968051884736, total=  12.9s\n",
      "[CV] C=0.1, gamma=0.001, max_iter=10000.0 ............................\n",
      "[CV]  C=0.1, gamma=0.001, max_iter=1000.0, score=0.5644925332559242, total=  12.9s\n",
      "[CV] C=0.1, gamma=0.001, max_iter=10000.0 ............................\n",
      "[CV]  C=0.1, gamma=0.001, max_iter=1000.0, score=0.6018850015435724, total=  12.9s\n",
      "[CV] C=0.1, gamma=0.001, max_iter=10000.0 ............................\n"
     ]
    },
    {
     "name": "stderr",
     "output_type": "stream",
     "text": [
      "/home/ubuntu/anaconda3/envs/tensorflow_p36/lib/python3.6/site-packages/sklearn/svm/base.py:218: ConvergenceWarning: Solver terminated early (max_iter=10000).  Consider pre-processing your data with StandardScaler or MinMaxScaler.\n",
      "  % self.max_iter, ConvergenceWarning)\n",
      "/home/ubuntu/anaconda3/envs/tensorflow_p36/lib/python3.6/site-packages/sklearn/svm/base.py:218: ConvergenceWarning: Solver terminated early (max_iter=10000).  Consider pre-processing your data with StandardScaler or MinMaxScaler.\n",
      "  % self.max_iter, ConvergenceWarning)\n",
      "/home/ubuntu/anaconda3/envs/tensorflow_p36/lib/python3.6/site-packages/sklearn/svm/base.py:218: ConvergenceWarning: Solver terminated early (max_iter=10000).  Consider pre-processing your data with StandardScaler or MinMaxScaler.\n",
      "  % self.max_iter, ConvergenceWarning)\n",
      "/home/ubuntu/anaconda3/envs/tensorflow_p36/lib/python3.6/site-packages/sklearn/svm/base.py:218: ConvergenceWarning: Solver terminated early (max_iter=10000).  Consider pre-processing your data with StandardScaler or MinMaxScaler.\n",
      "  % self.max_iter, ConvergenceWarning)\n"
     ]
    },
    {
     "name": "stdout",
     "output_type": "stream",
     "text": [
      "[CV]  C=0.01, gamma=1.0, max_iter=10000.0, score=0.5428988619983455, total= 1.4min\n",
      "[CV] C=0.1, gamma=0.01, max_iter=10.0 ................................\n"
     ]
    },
    {
     "name": "stderr",
     "output_type": "stream",
     "text": [
      "/home/ubuntu/anaconda3/envs/tensorflow_p36/lib/python3.6/site-packages/sklearn/svm/base.py:218: ConvergenceWarning: Solver terminated early (max_iter=10).  Consider pre-processing your data with StandardScaler or MinMaxScaler.\n",
      "  % self.max_iter, ConvergenceWarning)\n"
     ]
    },
    {
     "name": "stdout",
     "output_type": "stream",
     "text": [
      "[CV]  C=0.1, gamma=0.01, max_iter=10.0, score=0.43240713549494136, total=   0.3s\n",
      "[CV] C=0.1, gamma=0.01, max_iter=10.0 ................................\n"
     ]
    },
    {
     "name": "stderr",
     "output_type": "stream",
     "text": [
      "[Parallel(n_jobs=-1)]: Done 210 tasks      | elapsed:  6.4min\n"
     ]
    },
    {
     "name": "stdout",
     "output_type": "stream",
     "text": [
      "[CV]  C=0.01, gamma=1.0, max_iter=10000.0, score=0.5408584029476858, total= 1.4min\n",
      "[CV] C=0.1, gamma=0.01, max_iter=10.0 ................................\n"
     ]
    },
    {
     "name": "stderr",
     "output_type": "stream",
     "text": [
      "/home/ubuntu/anaconda3/envs/tensorflow_p36/lib/python3.6/site-packages/sklearn/svm/base.py:218: ConvergenceWarning: Solver terminated early (max_iter=10).  Consider pre-processing your data with StandardScaler or MinMaxScaler.\n",
      "  % self.max_iter, ConvergenceWarning)\n"
     ]
    },
    {
     "name": "stdout",
     "output_type": "stream",
     "text": [
      "[CV]  C=0.1, gamma=0.01, max_iter=10.0, score=0.5657377585483967, total=   0.4s\n",
      "[CV] C=0.1, gamma=0.01, max_iter=10.0 ................................\n"
     ]
    },
    {
     "name": "stderr",
     "output_type": "stream",
     "text": [
      "/home/ubuntu/anaconda3/envs/tensorflow_p36/lib/python3.6/site-packages/sklearn/svm/base.py:218: ConvergenceWarning: Solver terminated early (max_iter=10).  Consider pre-processing your data with StandardScaler or MinMaxScaler.\n",
      "  % self.max_iter, ConvergenceWarning)\n"
     ]
    },
    {
     "name": "stdout",
     "output_type": "stream",
     "text": [
      "[CV]  C=0.01, gamma=1.0, max_iter=10000.0, score=0.542006291017944, total= 1.5min\n",
      "[CV]  C=0.1, gamma=0.01, max_iter=10.0, score=0.5193656915281675, total=   0.3s\n",
      "[CV] C=0.1, gamma=0.01, max_iter=100.0 ...............................\n",
      "[CV] C=0.1, gamma=0.01, max_iter=100.0 ...............................\n"
     ]
    },
    {
     "name": "stderr",
     "output_type": "stream",
     "text": [
      "/home/ubuntu/anaconda3/envs/tensorflow_p36/lib/python3.6/site-packages/sklearn/svm/base.py:218: ConvergenceWarning: Solver terminated early (max_iter=10).  Consider pre-processing your data with StandardScaler or MinMaxScaler.\n",
      "  % self.max_iter, ConvergenceWarning)\n"
     ]
    },
    {
     "name": "stdout",
     "output_type": "stream",
     "text": [
      "[CV]  C=0.1, gamma=0.01, max_iter=10.0, score=0.6618986786712067, total=   0.3s\n",
      "[CV] C=0.1, gamma=0.01, max_iter=100.0 ...............................\n",
      "[CV]  C=0.01, gamma=1.0, max_iter=10000.0, score=0.5411191207933809, total= 1.5min\n",
      "[CV] C=0.1, gamma=0.01, max_iter=100.0 ...............................\n"
     ]
    },
    {
     "name": "stderr",
     "output_type": "stream",
     "text": [
      "/home/ubuntu/anaconda3/envs/tensorflow_p36/lib/python3.6/site-packages/sklearn/svm/base.py:218: ConvergenceWarning: Solver terminated early (max_iter=100).  Consider pre-processing your data with StandardScaler or MinMaxScaler.\n",
      "  % self.max_iter, ConvergenceWarning)\n",
      "/home/ubuntu/anaconda3/envs/tensorflow_p36/lib/python3.6/site-packages/sklearn/svm/base.py:218: ConvergenceWarning: Solver terminated early (max_iter=100).  Consider pre-processing your data with StandardScaler or MinMaxScaler.\n",
      "  % self.max_iter, ConvergenceWarning)\n",
      "/home/ubuntu/anaconda3/envs/tensorflow_p36/lib/python3.6/site-packages/sklearn/svm/base.py:218: ConvergenceWarning: Solver terminated early (max_iter=100).  Consider pre-processing your data with StandardScaler or MinMaxScaler.\n",
      "  % self.max_iter, ConvergenceWarning)\n",
      "/home/ubuntu/anaconda3/envs/tensorflow_p36/lib/python3.6/site-packages/sklearn/svm/base.py:218: ConvergenceWarning: Solver terminated early (max_iter=100).  Consider pre-processing your data with StandardScaler or MinMaxScaler.\n",
      "  % self.max_iter, ConvergenceWarning)\n"
     ]
    },
    {
     "name": "stdout",
     "output_type": "stream",
     "text": [
      "[CV]  C=0.1, gamma=0.01, max_iter=100.0, score=0.5414846612578479, total=   1.5s\n",
      "[CV] C=0.1, gamma=0.01, max_iter=1000.0 ..............................\n",
      "[CV]  C=0.1, gamma=0.01, max_iter=100.0, score=0.5324839460778668, total=   1.5s\n",
      "[CV] C=0.1, gamma=0.01, max_iter=1000.0 ..............................\n",
      "[CV]  C=0.1, gamma=0.01, max_iter=100.0, score=0.6407962760737045, total=   1.5s\n",
      "[CV] C=0.1, gamma=0.01, max_iter=1000.0 ..............................\n",
      "[CV]  C=0.1, gamma=0.01, max_iter=100.0, score=0.6361022029314055, total=   1.5s\n",
      "[CV] C=0.1, gamma=0.01, max_iter=1000.0 ..............................\n",
      "[CV]  C=0.1, gamma=0.0001, max_iter=10000.0, score=0.4999999999999999, total=  56.0s\n",
      "[CV] C=0.1, gamma=0.01, max_iter=10000.0 .............................\n",
      "[CV] . C=0.1, gamma=0.0001, max_iter=10000.0, score=0.5, total=  56.1s\n",
      "[CV] C=0.1, gamma=0.01, max_iter=10000.0 .............................\n",
      "[CV] . C=0.1, gamma=0.0001, max_iter=10000.0, score=0.5, total=  56.3s\n",
      "[CV] C=0.1, gamma=0.01, max_iter=10000.0 .............................\n",
      "[CV] . C=0.1, gamma=0.0001, max_iter=10000.0, score=0.5, total=  57.0s\n",
      "[CV] C=0.1, gamma=0.01, max_iter=10000.0 .............................\n"
     ]
    },
    {
     "name": "stderr",
     "output_type": "stream",
     "text": [
      "/home/ubuntu/anaconda3/envs/tensorflow_p36/lib/python3.6/site-packages/sklearn/svm/base.py:218: ConvergenceWarning: Solver terminated early (max_iter=1000).  Consider pre-processing your data with StandardScaler or MinMaxScaler.\n",
      "  % self.max_iter, ConvergenceWarning)\n",
      "/home/ubuntu/anaconda3/envs/tensorflow_p36/lib/python3.6/site-packages/sklearn/svm/base.py:218: ConvergenceWarning: Solver terminated early (max_iter=1000).  Consider pre-processing your data with StandardScaler or MinMaxScaler.\n",
      "  % self.max_iter, ConvergenceWarning)\n",
      "/home/ubuntu/anaconda3/envs/tensorflow_p36/lib/python3.6/site-packages/sklearn/svm/base.py:218: ConvergenceWarning: Solver terminated early (max_iter=1000).  Consider pre-processing your data with StandardScaler or MinMaxScaler.\n",
      "  % self.max_iter, ConvergenceWarning)\n",
      "/home/ubuntu/anaconda3/envs/tensorflow_p36/lib/python3.6/site-packages/sklearn/svm/base.py:218: ConvergenceWarning: Solver terminated early (max_iter=1000).  Consider pre-processing your data with StandardScaler or MinMaxScaler.\n",
      "  % self.max_iter, ConvergenceWarning)\n"
     ]
    },
    {
     "name": "stdout",
     "output_type": "stream",
     "text": [
      "[CV]  C=0.1, gamma=0.01, max_iter=1000.0, score=0.6300462954965537, total=  14.1s\n",
      "[CV] C=0.1, gamma=0.1, max_iter=10.0 .................................\n",
      "[CV]  C=0.1, gamma=0.01, max_iter=1000.0, score=0.7190033743570368, total=  14.2s\n",
      "[CV] C=0.1, gamma=0.1, max_iter=10.0 .................................\n"
     ]
    },
    {
     "name": "stderr",
     "output_type": "stream",
     "text": [
      "/home/ubuntu/anaconda3/envs/tensorflow_p36/lib/python3.6/site-packages/sklearn/svm/base.py:218: ConvergenceWarning: Solver terminated early (max_iter=10).  Consider pre-processing your data with StandardScaler or MinMaxScaler.\n",
      "  % self.max_iter, ConvergenceWarning)\n"
     ]
    },
    {
     "name": "stdout",
     "output_type": "stream",
     "text": [
      "[CV]  C=0.1, gamma=0.01, max_iter=1000.0, score=0.6547287459279635, total=  14.2s\n",
      "[CV] C=0.1, gamma=0.1, max_iter=10.0 .................................\n"
     ]
    },
    {
     "name": "stderr",
     "output_type": "stream",
     "text": [
      "/home/ubuntu/anaconda3/envs/tensorflow_p36/lib/python3.6/site-packages/sklearn/svm/base.py:218: ConvergenceWarning: Solver terminated early (max_iter=10).  Consider pre-processing your data with StandardScaler or MinMaxScaler.\n",
      "  % self.max_iter, ConvergenceWarning)\n"
     ]
    },
    {
     "name": "stdout",
     "output_type": "stream",
     "text": [
      "[CV]  C=0.1, gamma=0.1, max_iter=10.0, score=0.5372529035452905, total=   0.3s\n",
      "[CV] C=0.1, gamma=0.1, max_iter=10.0 .................................\n",
      "[CV]  C=0.1, gamma=0.1, max_iter=10.0, score=0.6708640703930504, total=   0.3s\n",
      "[CV] C=0.1, gamma=0.1, max_iter=100.0 ................................\n"
     ]
    },
    {
     "name": "stderr",
     "output_type": "stream",
     "text": [
      "/home/ubuntu/anaconda3/envs/tensorflow_p36/lib/python3.6/site-packages/sklearn/svm/base.py:218: ConvergenceWarning: Solver terminated early (max_iter=10).  Consider pre-processing your data with StandardScaler or MinMaxScaler.\n",
      "  % self.max_iter, ConvergenceWarning)\n"
     ]
    },
    {
     "name": "stdout",
     "output_type": "stream",
     "text": [
      "[CV]  C=0.1, gamma=0.1, max_iter=10.0, score=0.6830101046403937, total=   0.3s\n"
     ]
    },
    {
     "name": "stderr",
     "output_type": "stream",
     "text": [
      "/home/ubuntu/anaconda3/envs/tensorflow_p36/lib/python3.6/site-packages/sklearn/svm/base.py:218: ConvergenceWarning: Solver terminated early (max_iter=10).  Consider pre-processing your data with StandardScaler or MinMaxScaler.\n",
      "  % self.max_iter, ConvergenceWarning)\n"
     ]
    },
    {
     "name": "stdout",
     "output_type": "stream",
     "text": [
      "[CV] C=0.1, gamma=0.1, max_iter=100.0 ................................\n",
      "[CV]  C=0.1, gamma=0.01, max_iter=1000.0, score=0.6264665858786921, total=  14.3s\n",
      "[CV] C=0.1, gamma=0.1, max_iter=100.0 ................................\n",
      "[CV]  C=0.1, gamma=0.1, max_iter=10.0, score=0.7561472199567799, total=   0.3s\n",
      "[CV] C=0.1, gamma=0.1, max_iter=100.0 ................................\n"
     ]
    },
    {
     "name": "stderr",
     "output_type": "stream",
     "text": [
      "/home/ubuntu/anaconda3/envs/tensorflow_p36/lib/python3.6/site-packages/sklearn/svm/base.py:218: ConvergenceWarning: Solver terminated early (max_iter=100).  Consider pre-processing your data with StandardScaler or MinMaxScaler.\n",
      "  % self.max_iter, ConvergenceWarning)\n",
      "/home/ubuntu/anaconda3/envs/tensorflow_p36/lib/python3.6/site-packages/sklearn/svm/base.py:218: ConvergenceWarning: Solver terminated early (max_iter=100).  Consider pre-processing your data with StandardScaler or MinMaxScaler.\n",
      "  % self.max_iter, ConvergenceWarning)\n",
      "/home/ubuntu/anaconda3/envs/tensorflow_p36/lib/python3.6/site-packages/sklearn/svm/base.py:218: ConvergenceWarning: Solver terminated early (max_iter=100).  Consider pre-processing your data with StandardScaler or MinMaxScaler.\n",
      "  % self.max_iter, ConvergenceWarning)\n",
      "/home/ubuntu/anaconda3/envs/tensorflow_p36/lib/python3.6/site-packages/sklearn/svm/base.py:218: ConvergenceWarning: Solver terminated early (max_iter=100).  Consider pre-processing your data with StandardScaler or MinMaxScaler.\n",
      "  % self.max_iter, ConvergenceWarning)\n"
     ]
    },
    {
     "name": "stdout",
     "output_type": "stream",
     "text": [
      "[CV]  C=0.1, gamma=0.1, max_iter=100.0, score=0.632334966727511, total=   1.6s\n",
      "[CV] C=0.1, gamma=0.1, max_iter=1000.0 ...............................\n",
      "[CV]  C=0.1, gamma=0.1, max_iter=100.0, score=0.72980646211643, total=   1.5s\n",
      "[CV] C=0.1, gamma=0.1, max_iter=1000.0 ...............................\n"
     ]
    },
    {
     "name": "stderr",
     "output_type": "stream",
     "text": [
      "[Parallel(n_jobs=-1)]: Done 233 tasks      | elapsed:  6.9min\n"
     ]
    },
    {
     "name": "stdout",
     "output_type": "stream",
     "text": [
      "[CV]  C=0.1, gamma=0.1, max_iter=100.0, score=0.7563973785377377, total=   1.5s\n",
      "[CV] C=0.1, gamma=0.1, max_iter=1000.0 ...............................\n",
      "[CV]  C=0.1, gamma=0.1, max_iter=100.0, score=0.7212033491683908, total=   1.5s\n",
      "[CV] C=0.1, gamma=0.1, max_iter=1000.0 ...............................\n"
     ]
    },
    {
     "name": "stderr",
     "output_type": "stream",
     "text": [
      "/home/ubuntu/anaconda3/envs/tensorflow_p36/lib/python3.6/site-packages/sklearn/svm/base.py:218: ConvergenceWarning: Solver terminated early (max_iter=1000).  Consider pre-processing your data with StandardScaler or MinMaxScaler.\n",
      "  % self.max_iter, ConvergenceWarning)\n",
      "/home/ubuntu/anaconda3/envs/tensorflow_p36/lib/python3.6/site-packages/sklearn/svm/base.py:218: ConvergenceWarning: Solver terminated early (max_iter=1000).  Consider pre-processing your data with StandardScaler or MinMaxScaler.\n",
      "  % self.max_iter, ConvergenceWarning)\n",
      "/home/ubuntu/anaconda3/envs/tensorflow_p36/lib/python3.6/site-packages/sklearn/svm/base.py:218: ConvergenceWarning: Solver terminated early (max_iter=1000).  Consider pre-processing your data with StandardScaler or MinMaxScaler.\n",
      "  % self.max_iter, ConvergenceWarning)\n",
      "/home/ubuntu/anaconda3/envs/tensorflow_p36/lib/python3.6/site-packages/sklearn/svm/base.py:218: ConvergenceWarning: Solver terminated early (max_iter=1000).  Consider pre-processing your data with StandardScaler or MinMaxScaler.\n",
      "  % self.max_iter, ConvergenceWarning)\n"
     ]
    },
    {
     "name": "stdout",
     "output_type": "stream",
     "text": [
      "[CV] .. C=0.1, gamma=0.001, max_iter=10000.0, score=0.5, total= 1.0min\n",
      "[CV] C=0.1, gamma=0.1, max_iter=10000.0 ..............................\n",
      "[CV]  C=0.1, gamma=0.001, max_iter=10000.0, score=0.4999999999999999, total= 1.1min\n",
      "[CV] C=0.1, gamma=0.1, max_iter=10000.0 ..............................\n",
      "[CV] .. C=0.1, gamma=0.001, max_iter=10000.0, score=0.5, total= 1.0min\n",
      "[CV] C=0.1, gamma=0.1, max_iter=10000.0 ..............................\n",
      "[CV] .. C=0.1, gamma=0.001, max_iter=10000.0, score=0.5, total= 1.1min\n",
      "[CV] C=0.1, gamma=0.1, max_iter=10000.0 ..............................\n",
      "[CV]  C=0.01, gamma=10.0, max_iter=10000.0, score=0.5031724507246627, total= 1.7min\n",
      "[CV] C=0.1, gamma=1.0, max_iter=10.0 .................................\n"
     ]
    },
    {
     "name": "stderr",
     "output_type": "stream",
     "text": [
      "/home/ubuntu/anaconda3/envs/tensorflow_p36/lib/python3.6/site-packages/sklearn/svm/base.py:218: ConvergenceWarning: Solver terminated early (max_iter=10).  Consider pre-processing your data with StandardScaler or MinMaxScaler.\n",
      "  % self.max_iter, ConvergenceWarning)\n"
     ]
    },
    {
     "name": "stdout",
     "output_type": "stream",
     "text": [
      "[CV]  C=0.1, gamma=1.0, max_iter=10.0, score=0.501909209387314, total=   0.3s\n",
      "[CV] C=0.1, gamma=1.0, max_iter=10.0 .................................\n"
     ]
    },
    {
     "name": "stderr",
     "output_type": "stream",
     "text": [
      "/home/ubuntu/anaconda3/envs/tensorflow_p36/lib/python3.6/site-packages/sklearn/svm/base.py:218: ConvergenceWarning: Solver terminated early (max_iter=10).  Consider pre-processing your data with StandardScaler or MinMaxScaler.\n",
      "  % self.max_iter, ConvergenceWarning)\n"
     ]
    },
    {
     "name": "stdout",
     "output_type": "stream",
     "text": [
      "[CV]  C=0.1, gamma=1.0, max_iter=10.0, score=0.5022852168757785, total=   0.3s\n",
      "[CV] C=0.1, gamma=1.0, max_iter=10.0 .................................\n"
     ]
    },
    {
     "name": "stderr",
     "output_type": "stream",
     "text": [
      "/home/ubuntu/anaconda3/envs/tensorflow_p36/lib/python3.6/site-packages/sklearn/svm/base.py:218: ConvergenceWarning: Solver terminated early (max_iter=10).  Consider pre-processing your data with StandardScaler or MinMaxScaler.\n",
      "  % self.max_iter, ConvergenceWarning)\n"
     ]
    },
    {
     "name": "stdout",
     "output_type": "stream",
     "text": [
      "[CV]  C=0.1, gamma=1.0, max_iter=10.0, score=0.503174498953289, total=   0.3s\n",
      "[CV] C=0.1, gamma=1.0, max_iter=10.0 .................................\n",
      "[CV]  C=0.01, gamma=10.0, max_iter=10000.0, score=0.5019025875190259, total= 1.7min\n",
      "[CV] C=0.1, gamma=1.0, max_iter=100.0 ................................\n"
     ]
    },
    {
     "name": "stderr",
     "output_type": "stream",
     "text": [
      "/home/ubuntu/anaconda3/envs/tensorflow_p36/lib/python3.6/site-packages/sklearn/svm/base.py:218: ConvergenceWarning: Solver terminated early (max_iter=10).  Consider pre-processing your data with StandardScaler or MinMaxScaler.\n",
      "  % self.max_iter, ConvergenceWarning)\n"
     ]
    },
    {
     "name": "stdout",
     "output_type": "stream",
     "text": [
      "[CV]  C=0.1, gamma=0.1, max_iter=1000.0, score=0.7551776874672663, total=  14.1s\n",
      "[CV] C=0.1, gamma=1.0, max_iter=100.0 ................................\n",
      "[CV]  C=0.1, gamma=1.0, max_iter=10.0, score=0.506986009550183, total=   0.3s\n",
      "[CV] C=0.1, gamma=1.0, max_iter=100.0 ................................\n",
      "[CV]  C=0.1, gamma=0.1, max_iter=1000.0, score=0.7188305863886086, total=  14.0s\n",
      "[CV] C=0.1, gamma=1.0, max_iter=100.0 ................................\n",
      "[CV]  C=0.1, gamma=0.1, max_iter=1000.0, score=0.7500581572780091, total=  14.3s\n",
      "[CV] C=0.1, gamma=1.0, max_iter=1000.0 ...............................\n",
      "[CV]  C=0.1, gamma=0.1, max_iter=1000.0, score=0.743252821819511, total=  14.1s\n",
      "[CV] C=0.1, gamma=1.0, max_iter=1000.0 ...............................\n",
      "[CV]  C=0.01, gamma=10.0, max_iter=10000.0, score=0.5029201166664363, total= 1.7min\n",
      "[CV] C=0.1, gamma=1.0, max_iter=1000.0 ...............................\n"
     ]
    },
    {
     "name": "stderr",
     "output_type": "stream",
     "text": [
      "/home/ubuntu/anaconda3/envs/tensorflow_p36/lib/python3.6/site-packages/sklearn/svm/base.py:218: ConvergenceWarning: Solver terminated early (max_iter=100).  Consider pre-processing your data with StandardScaler or MinMaxScaler.\n",
      "  % self.max_iter, ConvergenceWarning)\n"
     ]
    },
    {
     "name": "stdout",
     "output_type": "stream",
     "text": [
      "[CV]  C=0.01, gamma=10.0, max_iter=10000.0, score=0.5019025875190259, total= 1.7min\n",
      "[CV] C=0.1, gamma=1.0, max_iter=1000.0 ...............................\n"
     ]
    },
    {
     "name": "stderr",
     "output_type": "stream",
     "text": [
      "/home/ubuntu/anaconda3/envs/tensorflow_p36/lib/python3.6/site-packages/sklearn/svm/base.py:218: ConvergenceWarning: Solver terminated early (max_iter=100).  Consider pre-processing your data with StandardScaler or MinMaxScaler.\n",
      "  % self.max_iter, ConvergenceWarning)\n",
      "/home/ubuntu/anaconda3/envs/tensorflow_p36/lib/python3.6/site-packages/sklearn/svm/base.py:218: ConvergenceWarning: Solver terminated early (max_iter=100).  Consider pre-processing your data with StandardScaler or MinMaxScaler.\n",
      "  % self.max_iter, ConvergenceWarning)\n",
      "/home/ubuntu/anaconda3/envs/tensorflow_p36/lib/python3.6/site-packages/sklearn/svm/base.py:218: ConvergenceWarning: Solver terminated early (max_iter=100).  Consider pre-processing your data with StandardScaler or MinMaxScaler.\n",
      "  % self.max_iter, ConvergenceWarning)\n"
     ]
    },
    {
     "name": "stdout",
     "output_type": "stream",
     "text": [
      "[CV]  C=0.1, gamma=1.0, max_iter=100.0, score=0.5304723023564253, total=   1.4s\n",
      "[CV] C=0.1, gamma=1.0, max_iter=10000.0 ..............................\n",
      "[CV]  C=0.1, gamma=1.0, max_iter=100.0, score=0.5889888755266193, total=   1.4s\n",
      "[CV] C=0.1, gamma=1.0, max_iter=10000.0 ..............................\n",
      "[CV]  C=0.1, gamma=1.0, max_iter=100.0, score=0.575912474062606, total=   1.5s\n",
      "[CV] C=0.1, gamma=1.0, max_iter=10000.0 ..............................\n",
      "[CV]  C=0.1, gamma=1.0, max_iter=100.0, score=0.5066223868699575, total=   1.4s\n",
      "[CV] C=0.1, gamma=1.0, max_iter=10000.0 ..............................\n"
     ]
    },
    {
     "name": "stderr",
     "output_type": "stream",
     "text": [
      "[Parallel(n_jobs=-1)]: Done 256 tasks      | elapsed:  7.2min\n",
      "/home/ubuntu/anaconda3/envs/tensorflow_p36/lib/python3.6/site-packages/sklearn/svm/base.py:218: ConvergenceWarning: Solver terminated early (max_iter=1000).  Consider pre-processing your data with StandardScaler or MinMaxScaler.\n",
      "  % self.max_iter, ConvergenceWarning)\n",
      "/home/ubuntu/anaconda3/envs/tensorflow_p36/lib/python3.6/site-packages/sklearn/svm/base.py:218: ConvergenceWarning: Solver terminated early (max_iter=1000).  Consider pre-processing your data with StandardScaler or MinMaxScaler.\n",
      "  % self.max_iter, ConvergenceWarning)\n",
      "/home/ubuntu/anaconda3/envs/tensorflow_p36/lib/python3.6/site-packages/sklearn/svm/base.py:218: ConvergenceWarning: Solver terminated early (max_iter=1000).  Consider pre-processing your data with StandardScaler or MinMaxScaler.\n",
      "  % self.max_iter, ConvergenceWarning)\n",
      "/home/ubuntu/anaconda3/envs/tensorflow_p36/lib/python3.6/site-packages/sklearn/svm/base.py:218: ConvergenceWarning: Solver terminated early (max_iter=1000).  Consider pre-processing your data with StandardScaler or MinMaxScaler.\n",
      "  % self.max_iter, ConvergenceWarning)\n"
     ]
    },
    {
     "name": "stdout",
     "output_type": "stream",
     "text": [
      "[CV]  C=0.1, gamma=1.0, max_iter=1000.0, score=0.5764439991477942, total=  13.5s\n",
      "[CV] C=0.1, gamma=10.0, max_iter=10.0 ................................\n"
     ]
    },
    {
     "name": "stderr",
     "output_type": "stream",
     "text": [
      "/home/ubuntu/anaconda3/envs/tensorflow_p36/lib/python3.6/site-packages/sklearn/svm/base.py:218: ConvergenceWarning: Solver terminated early (max_iter=10).  Consider pre-processing your data with StandardScaler or MinMaxScaler.\n",
      "  % self.max_iter, ConvergenceWarning)\n"
     ]
    },
    {
     "name": "stdout",
     "output_type": "stream",
     "text": [
      "[CV]  C=0.1, gamma=1.0, max_iter=1000.0, score=0.6715786446358167, total=  13.7s\n",
      "[CV] C=0.1, gamma=10.0, max_iter=10.0 ................................\n",
      "[CV]  C=0.1, gamma=10.0, max_iter=10.0, score=0.5006393461816772, total=   0.3s\n",
      "[CV] C=0.1, gamma=10.0, max_iter=10.0 ................................\n",
      "[CV]  C=0.1, gamma=1.0, max_iter=1000.0, score=0.6689551473151822, total=  13.7s\n",
      "[CV] C=0.1, gamma=10.0, max_iter=10.0 ................................\n"
     ]
    },
    {
     "name": "stderr",
     "output_type": "stream",
     "text": [
      "/home/ubuntu/anaconda3/envs/tensorflow_p36/lib/python3.6/site-packages/sklearn/svm/base.py:218: ConvergenceWarning: Solver terminated early (max_iter=10).  Consider pre-processing your data with StandardScaler or MinMaxScaler.\n",
      "  % self.max_iter, ConvergenceWarning)\n",
      "/home/ubuntu/anaconda3/envs/tensorflow_p36/lib/python3.6/site-packages/sklearn/svm/base.py:218: ConvergenceWarning: Solver terminated early (max_iter=10).  Consider pre-processing your data with StandardScaler or MinMaxScaler.\n",
      "  % self.max_iter, ConvergenceWarning)\n"
     ]
    },
    {
     "name": "stdout",
     "output_type": "stream",
     "text": [
      "[CV]  C=0.1, gamma=10.0, max_iter=10.0, score=0.5006348997906579, total=   0.3s\n",
      "[CV] C=0.1, gamma=10.0, max_iter=100.0 ...............................\n",
      "[CV]  C=0.1, gamma=10.0, max_iter=10.0, score=0.5016503170851208, total=   0.3s\n",
      "[CV] C=0.1, gamma=10.0, max_iter=100.0 ...............................\n"
     ]
    },
    {
     "name": "stderr",
     "output_type": "stream",
     "text": [
      "/home/ubuntu/anaconda3/envs/tensorflow_p36/lib/python3.6/site-packages/sklearn/svm/base.py:218: ConvergenceWarning: Solver terminated early (max_iter=10).  Consider pre-processing your data with StandardScaler or MinMaxScaler.\n",
      "  % self.max_iter, ConvergenceWarning)\n"
     ]
    },
    {
     "name": "stdout",
     "output_type": "stream",
     "text": [
      "[CV]  C=0.1, gamma=1.0, max_iter=1000.0, score=0.571497741469266, total=  13.4s\n",
      "[CV] C=0.1, gamma=10.0, max_iter=100.0 ...............................\n",
      "[CV]  C=0.1, gamma=10.0, max_iter=10.0, score=0.5048248160384097, total=   0.3s\n",
      "[CV] C=0.1, gamma=10.0, max_iter=100.0 ...............................\n"
     ]
    },
    {
     "name": "stderr",
     "output_type": "stream",
     "text": [
      "/home/ubuntu/anaconda3/envs/tensorflow_p36/lib/python3.6/site-packages/sklearn/svm/base.py:218: ConvergenceWarning: Solver terminated early (max_iter=100).  Consider pre-processing your data with StandardScaler or MinMaxScaler.\n",
      "  % self.max_iter, ConvergenceWarning)\n",
      "/home/ubuntu/anaconda3/envs/tensorflow_p36/lib/python3.6/site-packages/sklearn/svm/base.py:218: ConvergenceWarning: Solver terminated early (max_iter=100).  Consider pre-processing your data with StandardScaler or MinMaxScaler.\n",
      "  % self.max_iter, ConvergenceWarning)\n",
      "/home/ubuntu/anaconda3/envs/tensorflow_p36/lib/python3.6/site-packages/sklearn/svm/base.py:218: ConvergenceWarning: Solver terminated early (max_iter=100).  Consider pre-processing your data with StandardScaler or MinMaxScaler.\n",
      "  % self.max_iter, ConvergenceWarning)\n",
      "/home/ubuntu/anaconda3/envs/tensorflow_p36/lib/python3.6/site-packages/sklearn/svm/base.py:218: ConvergenceWarning: Solver terminated early (max_iter=100).  Consider pre-processing your data with StandardScaler or MinMaxScaler.\n",
      "  % self.max_iter, ConvergenceWarning)\n"
     ]
    },
    {
     "name": "stdout",
     "output_type": "stream",
     "text": [
      "[CV]  C=0.1, gamma=10.0, max_iter=100.0, score=0.4999977927105705, total=   1.6s\n",
      "[CV] C=0.1, gamma=10.0, max_iter=1000.0 ..............................\n",
      "[CV]  C=0.1, gamma=10.0, max_iter=100.0, score=0.4983475710619318, total=   1.6s\n",
      "[CV]  C=0.1, gamma=10.0, max_iter=100.0, score=0.5399796801349129, total=   1.6s\n",
      "[CV] C=0.1, gamma=10.0, max_iter=1000.0 ..............................\n",
      "[CV] C=0.1, gamma=10.0, max_iter=1000.0 ..............................\n",
      "[CV]  C=0.1, gamma=10.0, max_iter=100.0, score=0.4975759767895841, total=   1.5s\n",
      "[CV] C=0.1, gamma=10.0, max_iter=1000.0 ..............................\n"
     ]
    },
    {
     "name": "stderr",
     "output_type": "stream",
     "text": [
      "/home/ubuntu/anaconda3/envs/tensorflow_p36/lib/python3.6/site-packages/sklearn/svm/base.py:218: ConvergenceWarning: Solver terminated early (max_iter=1000).  Consider pre-processing your data with StandardScaler or MinMaxScaler.\n",
      "  % self.max_iter, ConvergenceWarning)\n",
      "/home/ubuntu/anaconda3/envs/tensorflow_p36/lib/python3.6/site-packages/sklearn/svm/base.py:218: ConvergenceWarning: Solver terminated early (max_iter=1000).  Consider pre-processing your data with StandardScaler or MinMaxScaler.\n",
      "  % self.max_iter, ConvergenceWarning)\n",
      "/home/ubuntu/anaconda3/envs/tensorflow_p36/lib/python3.6/site-packages/sklearn/svm/base.py:218: ConvergenceWarning: Solver terminated early (max_iter=1000).  Consider pre-processing your data with StandardScaler or MinMaxScaler.\n",
      "  % self.max_iter, ConvergenceWarning)\n",
      "/home/ubuntu/anaconda3/envs/tensorflow_p36/lib/python3.6/site-packages/sklearn/svm/base.py:218: ConvergenceWarning: Solver terminated early (max_iter=1000).  Consider pre-processing your data with StandardScaler or MinMaxScaler.\n",
      "  % self.max_iter, ConvergenceWarning)\n"
     ]
    },
    {
     "name": "stdout",
     "output_type": "stream",
     "text": [
      "[CV]  C=0.1, gamma=10.0, max_iter=1000.0, score=0.5920520222335878, total=  14.1s\n",
      "[CV] C=0.1, gamma=10.0, max_iter=10000.0 .............................\n",
      "[CV]  C=0.1, gamma=10.0, max_iter=1000.0, score=0.5974193924928619, total=  14.2s\n",
      "[CV] C=0.1, gamma=10.0, max_iter=10000.0 .............................\n",
      "[CV]  C=0.1, gamma=10.0, max_iter=1000.0, score=0.495445309152233, total=  14.2s\n",
      "[CV]  C=0.1, gamma=10.0, max_iter=1000.0, score=0.6168009274454367, total=  14.5s\n",
      "[CV] C=0.1, gamma=10.0, max_iter=10000.0 .............................\n",
      "[CV] C=0.1, gamma=10.0, max_iter=10000.0 .............................\n",
      "[CV]  C=0.1, gamma=0.01, max_iter=10000.0, score=0.6770715741521487, total=  57.3s\n",
      "[CV] C=1.0, gamma=0.0001, max_iter=10.0 ..............................\n",
      "[CV]  C=0.1, gamma=0.01, max_iter=10000.0, score=0.6784602140878807, total=  58.4s\n",
      "[CV] C=1.0, gamma=0.0001, max_iter=10.0 ..............................\n"
     ]
    },
    {
     "name": "stderr",
     "output_type": "stream",
     "text": [
      "/home/ubuntu/anaconda3/envs/tensorflow_p36/lib/python3.6/site-packages/sklearn/svm/base.py:218: ConvergenceWarning: Solver terminated early (max_iter=10).  Consider pre-processing your data with StandardScaler or MinMaxScaler.\n",
      "  % self.max_iter, ConvergenceWarning)\n"
     ]
    },
    {
     "name": "stdout",
     "output_type": "stream",
     "text": [
      "[CV]  C=1.0, gamma=0.0001, max_iter=10.0, score=0.6625790545507589, total=   0.3s\n",
      "[CV] C=1.0, gamma=0.0001, max_iter=10.0 ..............................\n"
     ]
    },
    {
     "name": "stderr",
     "output_type": "stream",
     "text": [
      "/home/ubuntu/anaconda3/envs/tensorflow_p36/lib/python3.6/site-packages/sklearn/svm/base.py:218: ConvergenceWarning: Solver terminated early (max_iter=10).  Consider pre-processing your data with StandardScaler or MinMaxScaler.\n",
      "  % self.max_iter, ConvergenceWarning)\n"
     ]
    },
    {
     "name": "stdout",
     "output_type": "stream",
     "text": [
      "[CV]  C=1.0, gamma=0.0001, max_iter=10.0, score=0.5428792542317693, total=   0.3s\n",
      "[CV] C=1.0, gamma=0.0001, max_iter=10.0 ..............................\n",
      "[CV]  C=0.1, gamma=0.01, max_iter=10000.0, score=0.6858044700631406, total=  57.1s\n",
      "[CV] C=1.0, gamma=0.0001, max_iter=100.0 .............................\n"
     ]
    },
    {
     "name": "stderr",
     "output_type": "stream",
     "text": [
      "/home/ubuntu/anaconda3/envs/tensorflow_p36/lib/python3.6/site-packages/sklearn/svm/base.py:218: ConvergenceWarning: Solver terminated early (max_iter=10).  Consider pre-processing your data with StandardScaler or MinMaxScaler.\n",
      "  % self.max_iter, ConvergenceWarning)\n"
     ]
    },
    {
     "name": "stdout",
     "output_type": "stream",
     "text": [
      "[CV]  C=1.0, gamma=0.0001, max_iter=10.0, score=0.609799266457478, total=   0.3s\n",
      "[CV] C=1.0, gamma=0.0001, max_iter=100.0 .............................\n"
     ]
    },
    {
     "name": "stderr",
     "output_type": "stream",
     "text": [
      "/home/ubuntu/anaconda3/envs/tensorflow_p36/lib/python3.6/site-packages/sklearn/svm/base.py:218: ConvergenceWarning: Solver terminated early (max_iter=10).  Consider pre-processing your data with StandardScaler or MinMaxScaler.\n",
      "  % self.max_iter, ConvergenceWarning)\n"
     ]
    },
    {
     "name": "stdout",
     "output_type": "stream",
     "text": [
      "[CV]  C=1.0, gamma=0.0001, max_iter=10.0, score=0.722772071935087, total=   0.3s\n",
      "[CV] C=1.0, gamma=0.0001, max_iter=100.0 .............................\n",
      "[CV]  C=0.1, gamma=0.01, max_iter=10000.0, score=0.6809859895835734, total=  58.3s\n",
      "[CV] C=1.0, gamma=0.0001, max_iter=100.0 .............................\n"
     ]
    },
    {
     "name": "stderr",
     "output_type": "stream",
     "text": [
      "/home/ubuntu/anaconda3/envs/tensorflow_p36/lib/python3.6/site-packages/sklearn/svm/base.py:218: ConvergenceWarning: Solver terminated early (max_iter=100).  Consider pre-processing your data with StandardScaler or MinMaxScaler.\n",
      "  % self.max_iter, ConvergenceWarning)\n",
      "/home/ubuntu/anaconda3/envs/tensorflow_p36/lib/python3.6/site-packages/sklearn/svm/base.py:218: ConvergenceWarning: Solver terminated early (max_iter=100).  Consider pre-processing your data with StandardScaler or MinMaxScaler.\n",
      "  % self.max_iter, ConvergenceWarning)\n",
      "/home/ubuntu/anaconda3/envs/tensorflow_p36/lib/python3.6/site-packages/sklearn/svm/base.py:218: ConvergenceWarning: Solver terminated early (max_iter=100).  Consider pre-processing your data with StandardScaler or MinMaxScaler.\n",
      "  % self.max_iter, ConvergenceWarning)\n",
      "/home/ubuntu/anaconda3/envs/tensorflow_p36/lib/python3.6/site-packages/sklearn/svm/base.py:218: ConvergenceWarning: Solver terminated early (max_iter=100).  Consider pre-processing your data with StandardScaler or MinMaxScaler.\n",
      "  % self.max_iter, ConvergenceWarning)\n"
     ]
    },
    {
     "name": "stdout",
     "output_type": "stream",
     "text": [
      "[CV]  C=1.0, gamma=0.0001, max_iter=100.0, score=0.6536477857048258, total=   1.4s\n",
      "[CV] C=1.0, gamma=0.0001, max_iter=1000.0 ............................\n"
     ]
    },
    {
     "name": "stderr",
     "output_type": "stream",
     "text": [
      "[Parallel(n_jobs=-1)]: Done 281 tasks      | elapsed:  8.1min\n"
     ]
    },
    {
     "name": "stdout",
     "output_type": "stream",
     "text": [
      "[CV]  C=1.0, gamma=0.0001, max_iter=100.0, score=0.7017750699983258, total=   1.4s\n",
      "[CV] C=1.0, gamma=0.0001, max_iter=1000.0 ............................\n",
      "[CV]  C=1.0, gamma=0.0001, max_iter=100.0, score=0.6980459216663825, total=   1.4s\n",
      "[CV] C=1.0, gamma=0.0001, max_iter=1000.0 ............................\n",
      "[CV]  C=1.0, gamma=0.0001, max_iter=100.0, score=0.7090444518167311, total=   1.4s\n",
      "[CV] C=1.0, gamma=0.0001, max_iter=1000.0 ............................\n"
     ]
    },
    {
     "name": "stderr",
     "output_type": "stream",
     "text": [
      "/home/ubuntu/anaconda3/envs/tensorflow_p36/lib/python3.6/site-packages/sklearn/svm/base.py:218: ConvergenceWarning: Solver terminated early (max_iter=1000).  Consider pre-processing your data with StandardScaler or MinMaxScaler.\n",
      "  % self.max_iter, ConvergenceWarning)\n",
      "/home/ubuntu/anaconda3/envs/tensorflow_p36/lib/python3.6/site-packages/sklearn/svm/base.py:218: ConvergenceWarning: Solver terminated early (max_iter=1000).  Consider pre-processing your data with StandardScaler or MinMaxScaler.\n",
      "  % self.max_iter, ConvergenceWarning)\n",
      "/home/ubuntu/anaconda3/envs/tensorflow_p36/lib/python3.6/site-packages/sklearn/svm/base.py:218: ConvergenceWarning: Solver terminated early (max_iter=1000).  Consider pre-processing your data with StandardScaler or MinMaxScaler.\n",
      "  % self.max_iter, ConvergenceWarning)\n",
      "/home/ubuntu/anaconda3/envs/tensorflow_p36/lib/python3.6/site-packages/sklearn/svm/base.py:218: ConvergenceWarning: Solver terminated early (max_iter=1000).  Consider pre-processing your data with StandardScaler or MinMaxScaler.\n",
      "  % self.max_iter, ConvergenceWarning)\n"
     ]
    },
    {
     "name": "stdout",
     "output_type": "stream",
     "text": [
      "[CV]  C=0.1, gamma=0.1, max_iter=10000.0, score=0.7127663862449399, total=  48.4s\n",
      "[CV] C=1.0, gamma=0.0001, max_iter=10000.0 ...........................\n",
      "[CV]  C=0.1, gamma=0.1, max_iter=10000.0, score=0.7164290256140885, total=  47.5s\n",
      "[CV] C=1.0, gamma=0.0001, max_iter=10000.0 ...........................\n",
      "[CV]  C=0.1, gamma=0.1, max_iter=10000.0, score=0.7012167728736713, total=  49.4s\n",
      "[CV] C=1.0, gamma=0.0001, max_iter=10000.0 ...........................\n",
      "[CV]  C=0.1, gamma=0.1, max_iter=10000.0, score=0.7076665637618321, total=  49.5s\n",
      "[CV] C=1.0, gamma=0.0001, max_iter=10000.0 ...........................\n",
      "[CV]  C=1.0, gamma=0.0001, max_iter=1000.0, score=0.7199889251652106, total=  12.8s\n",
      "[CV] C=1.0, gamma=0.001, max_iter=10.0 ...............................\n"
     ]
    },
    {
     "name": "stderr",
     "output_type": "stream",
     "text": [
      "/home/ubuntu/anaconda3/envs/tensorflow_p36/lib/python3.6/site-packages/sklearn/svm/base.py:218: ConvergenceWarning: Solver terminated early (max_iter=10).  Consider pre-processing your data with StandardScaler or MinMaxScaler.\n",
      "  % self.max_iter, ConvergenceWarning)\n"
     ]
    },
    {
     "name": "stdout",
     "output_type": "stream",
     "text": [
      "[CV]  C=1.0, gamma=0.001, max_iter=10.0, score=0.6652183968936718, total=   0.3s\n",
      "[CV] C=1.0, gamma=0.001, max_iter=10.0 ...............................\n"
     ]
    },
    {
     "name": "stderr",
     "output_type": "stream",
     "text": [
      "/home/ubuntu/anaconda3/envs/tensorflow_p36/lib/python3.6/site-packages/sklearn/svm/base.py:218: ConvergenceWarning: Solver terminated early (max_iter=10).  Consider pre-processing your data with StandardScaler or MinMaxScaler.\n",
      "  % self.max_iter, ConvergenceWarning)\n"
     ]
    },
    {
     "name": "stdout",
     "output_type": "stream",
     "text": [
      "[CV]  C=1.0, gamma=0.0001, max_iter=1000.0, score=0.5697374160442461, total=  12.9s\n",
      "[CV] C=1.0, gamma=0.001, max_iter=10.0 ...............................\n",
      "[CV]  C=1.0, gamma=0.001, max_iter=10.0, score=0.49432161139755526, total=   0.3s\n",
      "[CV]  C=1.0, gamma=0.0001, max_iter=1000.0, score=0.6768995541302467, total=  13.1s\n",
      "[CV] C=1.0, gamma=0.001, max_iter=10.0 ...............................\n",
      "[CV] C=1.0, gamma=0.001, max_iter=100.0 ..............................\n",
      "[CV]  C=1.0, gamma=0.0001, max_iter=1000.0, score=0.6739251052470714, total=  13.0s\n",
      "[CV] C=1.0, gamma=0.001, max_iter=100.0 ..............................\n"
     ]
    },
    {
     "name": "stderr",
     "output_type": "stream",
     "text": [
      "/home/ubuntu/anaconda3/envs/tensorflow_p36/lib/python3.6/site-packages/sklearn/svm/base.py:218: ConvergenceWarning: Solver terminated early (max_iter=10).  Consider pre-processing your data with StandardScaler or MinMaxScaler.\n",
      "  % self.max_iter, ConvergenceWarning)\n",
      "/home/ubuntu/anaconda3/envs/tensorflow_p36/lib/python3.6/site-packages/sklearn/svm/base.py:218: ConvergenceWarning: Solver terminated early (max_iter=10).  Consider pre-processing your data with StandardScaler or MinMaxScaler.\n",
      "  % self.max_iter, ConvergenceWarning)\n"
     ]
    },
    {
     "name": "stdout",
     "output_type": "stream",
     "text": [
      "[CV]  C=1.0, gamma=0.001, max_iter=10.0, score=0.6099211779685357, total=   0.3s\n",
      "[CV] C=1.0, gamma=0.001, max_iter=100.0 ..............................\n",
      "[CV]  C=1.0, gamma=0.001, max_iter=10.0, score=0.7181050689078418, total=   0.3s\n",
      "[CV] C=1.0, gamma=0.001, max_iter=100.0 ..............................\n"
     ]
    },
    {
     "name": "stderr",
     "output_type": "stream",
     "text": [
      "/home/ubuntu/anaconda3/envs/tensorflow_p36/lib/python3.6/site-packages/sklearn/svm/base.py:218: ConvergenceWarning: Solver terminated early (max_iter=100).  Consider pre-processing your data with StandardScaler or MinMaxScaler.\n",
      "  % self.max_iter, ConvergenceWarning)\n",
      "/home/ubuntu/anaconda3/envs/tensorflow_p36/lib/python3.6/site-packages/sklearn/svm/base.py:218: ConvergenceWarning: Solver terminated early (max_iter=100).  Consider pre-processing your data with StandardScaler or MinMaxScaler.\n",
      "  % self.max_iter, ConvergenceWarning)\n",
      "/home/ubuntu/anaconda3/envs/tensorflow_p36/lib/python3.6/site-packages/sklearn/svm/base.py:218: ConvergenceWarning: Solver terminated early (max_iter=100).  Consider pre-processing your data with StandardScaler or MinMaxScaler.\n",
      "  % self.max_iter, ConvergenceWarning)\n",
      "/home/ubuntu/anaconda3/envs/tensorflow_p36/lib/python3.6/site-packages/sklearn/svm/base.py:218: ConvergenceWarning: Solver terminated early (max_iter=100).  Consider pre-processing your data with StandardScaler or MinMaxScaler.\n",
      "  % self.max_iter, ConvergenceWarning)\n"
     ]
    },
    {
     "name": "stdout",
     "output_type": "stream",
     "text": [
      "[CV]  C=1.0, gamma=0.001, max_iter=100.0, score=0.6616052560359769, total=   1.4s\n",
      "[CV]  C=1.0, gamma=0.001, max_iter=100.0, score=0.5775708545862535, total=   1.4s\n",
      "[CV] C=1.0, gamma=0.001, max_iter=1000.0 .............................\n",
      "[CV] C=1.0, gamma=0.001, max_iter=1000.0 .............................\n",
      "[CV]  C=1.0, gamma=0.001, max_iter=100.0, score=0.7040708461388416, total=   1.3s\n",
      "[CV] C=1.0, gamma=0.001, max_iter=1000.0 .............................\n",
      "[CV]  C=1.0, gamma=0.001, max_iter=100.0, score=0.7296714955144243, total=   1.4s\n",
      "[CV] C=1.0, gamma=0.001, max_iter=1000.0 .............................\n"
     ]
    },
    {
     "name": "stderr",
     "output_type": "stream",
     "text": [
      "/home/ubuntu/anaconda3/envs/tensorflow_p36/lib/python3.6/site-packages/sklearn/svm/base.py:218: ConvergenceWarning: Solver terminated early (max_iter=1000).  Consider pre-processing your data with StandardScaler or MinMaxScaler.\n",
      "  % self.max_iter, ConvergenceWarning)\n",
      "/home/ubuntu/anaconda3/envs/tensorflow_p36/lib/python3.6/site-packages/sklearn/svm/base.py:218: ConvergenceWarning: Solver terminated early (max_iter=1000).  Consider pre-processing your data with StandardScaler or MinMaxScaler.\n",
      "  % self.max_iter, ConvergenceWarning)\n",
      "/home/ubuntu/anaconda3/envs/tensorflow_p36/lib/python3.6/site-packages/sklearn/svm/base.py:218: ConvergenceWarning: Solver terminated early (max_iter=1000).  Consider pre-processing your data with StandardScaler or MinMaxScaler.\n",
      "  % self.max_iter, ConvergenceWarning)\n",
      "/home/ubuntu/anaconda3/envs/tensorflow_p36/lib/python3.6/site-packages/sklearn/svm/base.py:218: ConvergenceWarning: Solver terminated early (max_iter=1000).  Consider pre-processing your data with StandardScaler or MinMaxScaler.\n",
      "  % self.max_iter, ConvergenceWarning)\n"
     ]
    },
    {
     "name": "stdout",
     "output_type": "stream",
     "text": [
      "[CV]  C=1.0, gamma=0.001, max_iter=1000.0, score=0.6969120020882876, total=  12.6s\n",
      "[CV] C=1.0, gamma=0.001, max_iter=10000.0 ............................\n",
      "[CV]  C=1.0, gamma=0.001, max_iter=1000.0, score=0.6534764171301224, total=  12.8s\n",
      "[CV] C=1.0, gamma=0.001, max_iter=10000.0 ............................\n",
      "[CV]  C=1.0, gamma=0.001, max_iter=1000.0, score=0.7021767060316055, total=  12.7s\n",
      "[CV] C=1.0, gamma=0.001, max_iter=10000.0 ............................\n",
      "[CV]  C=1.0, gamma=0.001, max_iter=1000.0, score=0.6759046794053636, total=  12.7s\n",
      "[CV] C=1.0, gamma=0.001, max_iter=10000.0 ............................\n"
     ]
    },
    {
     "name": "stderr",
     "output_type": "stream",
     "text": [
      "/home/ubuntu/anaconda3/envs/tensorflow_p36/lib/python3.6/site-packages/sklearn/svm/base.py:218: ConvergenceWarning: Solver terminated early (max_iter=10000).  Consider pre-processing your data with StandardScaler or MinMaxScaler.\n",
      "  % self.max_iter, ConvergenceWarning)\n",
      "/home/ubuntu/anaconda3/envs/tensorflow_p36/lib/python3.6/site-packages/sklearn/svm/base.py:218: ConvergenceWarning: Solver terminated early (max_iter=10000).  Consider pre-processing your data with StandardScaler or MinMaxScaler.\n",
      "  % self.max_iter, ConvergenceWarning)\n",
      "/home/ubuntu/anaconda3/envs/tensorflow_p36/lib/python3.6/site-packages/sklearn/svm/base.py:218: ConvergenceWarning: Solver terminated early (max_iter=10000).  Consider pre-processing your data with StandardScaler or MinMaxScaler.\n",
      "  % self.max_iter, ConvergenceWarning)\n",
      "/home/ubuntu/anaconda3/envs/tensorflow_p36/lib/python3.6/site-packages/sklearn/svm/base.py:218: ConvergenceWarning: Solver terminated early (max_iter=10000).  Consider pre-processing your data with StandardScaler or MinMaxScaler.\n",
      "  % self.max_iter, ConvergenceWarning)\n"
     ]
    },
    {
     "name": "stdout",
     "output_type": "stream",
     "text": [
      "[CV] . C=1.0, gamma=0.0001, max_iter=10000.0, score=0.5, total=  53.8s\n",
      "[CV] C=1.0, gamma=0.01, max_iter=10.0 ................................\n"
     ]
    },
    {
     "name": "stderr",
     "output_type": "stream",
     "text": [
      "/home/ubuntu/anaconda3/envs/tensorflow_p36/lib/python3.6/site-packages/sklearn/svm/base.py:218: ConvergenceWarning: Solver terminated early (max_iter=10).  Consider pre-processing your data with StandardScaler or MinMaxScaler.\n",
      "  % self.max_iter, ConvergenceWarning)\n"
     ]
    },
    {
     "name": "stdout",
     "output_type": "stream",
     "text": [
      "[CV]  C=1.0, gamma=0.01, max_iter=10.0, score=0.43240713549494136, total=   0.3s\n",
      "[CV] C=1.0, gamma=0.01, max_iter=10.0 ................................\n",
      "[CV]  C=1.0, gamma=0.0001, max_iter=10000.0, score=0.4999999999999999, total=  54.3s\n",
      "[CV] C=1.0, gamma=0.01, max_iter=10.0 ................................\n",
      "[CV]  C=0.1, gamma=1.0, max_iter=10000.0, score=0.666816608225936, total= 1.9min\n"
     ]
    },
    {
     "name": "stderr",
     "output_type": "stream",
     "text": [
      "[Parallel(n_jobs=-1)]: Done 306 tasks      | elapsed:  9.8min\n"
     ]
    },
    {
     "name": "stdout",
     "output_type": "stream",
     "text": [
      "[CV] C=1.0, gamma=0.01, max_iter=10.0 ................................\n"
     ]
    },
    {
     "name": "stderr",
     "output_type": "stream",
     "text": [
      "/home/ubuntu/anaconda3/envs/tensorflow_p36/lib/python3.6/site-packages/sklearn/svm/base.py:218: ConvergenceWarning: Solver terminated early (max_iter=10).  Consider pre-processing your data with StandardScaler or MinMaxScaler.\n",
      "  % self.max_iter, ConvergenceWarning)\n"
     ]
    },
    {
     "name": "stdout",
     "output_type": "stream",
     "text": [
      "[CV]  C=1.0, gamma=0.01, max_iter=10.0, score=0.6310936556865673, total=   0.3s\n"
     ]
    },
    {
     "name": "stderr",
     "output_type": "stream",
     "text": [
      "/home/ubuntu/anaconda3/envs/tensorflow_p36/lib/python3.6/site-packages/sklearn/svm/base.py:218: ConvergenceWarning: Solver terminated early (max_iter=10).  Consider pre-processing your data with StandardScaler or MinMaxScaler.\n",
      "  % self.max_iter, ConvergenceWarning)\n"
     ]
    },
    {
     "name": "stdout",
     "output_type": "stream",
     "text": [
      "[CV] C=1.0, gamma=0.01, max_iter=100.0 ...............................\n"
     ]
    },
    {
     "name": "stderr",
     "output_type": "stream",
     "text": [
      "/home/ubuntu/anaconda3/envs/tensorflow_p36/lib/python3.6/site-packages/sklearn/svm/base.py:218: ConvergenceWarning: Solver terminated early (max_iter=10).  Consider pre-processing your data with StandardScaler or MinMaxScaler.\n",
      "  % self.max_iter, ConvergenceWarning)\n"
     ]
    },
    {
     "name": "stdout",
     "output_type": "stream",
     "text": [
      "[CV]  C=1.0, gamma=0.01, max_iter=10.0, score=0.5193656915281675, total=   0.3s\n",
      "[CV] C=1.0, gamma=0.01, max_iter=100.0 ...............................\n",
      "[CV]  C=1.0, gamma=0.01, max_iter=10.0, score=0.6618986786712067, total=   0.3s\n",
      "[CV] C=1.0, gamma=0.01, max_iter=100.0 ...............................\n",
      "[CV] . C=1.0, gamma=0.0001, max_iter=10000.0, score=0.5, total=  54.8s\n",
      "[CV] C=1.0, gamma=0.01, max_iter=100.0 ...............................\n",
      "[CV]  C=0.1, gamma=1.0, max_iter=10000.0, score=0.6519553070480597, total= 1.9min\n",
      "[CV] C=1.0, gamma=0.01, max_iter=1000.0 ..............................\n"
     ]
    },
    {
     "name": "stderr",
     "output_type": "stream",
     "text": [
      "/home/ubuntu/anaconda3/envs/tensorflow_p36/lib/python3.6/site-packages/sklearn/svm/base.py:218: ConvergenceWarning: Solver terminated early (max_iter=100).  Consider pre-processing your data with StandardScaler or MinMaxScaler.\n",
      "  % self.max_iter, ConvergenceWarning)\n",
      "/home/ubuntu/anaconda3/envs/tensorflow_p36/lib/python3.6/site-packages/sklearn/svm/base.py:218: ConvergenceWarning: Solver terminated early (max_iter=100).  Consider pre-processing your data with StandardScaler or MinMaxScaler.\n",
      "  % self.max_iter, ConvergenceWarning)\n",
      "/home/ubuntu/anaconda3/envs/tensorflow_p36/lib/python3.6/site-packages/sklearn/svm/base.py:218: ConvergenceWarning: Solver terminated early (max_iter=100).  Consider pre-processing your data with StandardScaler or MinMaxScaler.\n",
      "  % self.max_iter, ConvergenceWarning)\n",
      "/home/ubuntu/anaconda3/envs/tensorflow_p36/lib/python3.6/site-packages/sklearn/svm/base.py:218: ConvergenceWarning: Solver terminated early (max_iter=100).  Consider pre-processing your data with StandardScaler or MinMaxScaler.\n",
      "  % self.max_iter, ConvergenceWarning)\n"
     ]
    },
    {
     "name": "stdout",
     "output_type": "stream",
     "text": [
      "[CV]  C=1.0, gamma=0.01, max_iter=100.0, score=0.5189352803545482, total=   1.5s\n",
      "[CV] . C=1.0, gamma=0.0001, max_iter=10000.0, score=0.5, total=  55.6s\n",
      "[CV] C=1.0, gamma=0.01, max_iter=1000.0 ..............................\n",
      "[CV] C=1.0, gamma=0.01, max_iter=1000.0 ..............................\n",
      "[CV]  C=1.0, gamma=0.01, max_iter=100.0, score=0.6124127804732701, total=   1.5s\n",
      "[CV] C=1.0, gamma=0.01, max_iter=1000.0 ..............................\n",
      "[CV]  C=1.0, gamma=0.01, max_iter=100.0, score=0.6407962760737045, total=   1.5s\n",
      "[CV] C=1.0, gamma=0.01, max_iter=10000.0 .............................\n",
      "[CV]  C=1.0, gamma=0.01, max_iter=100.0, score=0.6361022029314055, total=   1.5s\n",
      "[CV] C=1.0, gamma=0.01, max_iter=10000.0 .............................\n",
      "[CV]  C=0.1, gamma=1.0, max_iter=10000.0, score=0.6687061061303144, total= 2.0min\n",
      "[CV] C=1.0, gamma=0.01, max_iter=10000.0 .............................\n"
     ]
    },
    {
     "name": "stderr",
     "output_type": "stream",
     "text": [
      "/home/ubuntu/anaconda3/envs/tensorflow_p36/lib/python3.6/site-packages/sklearn/svm/base.py:218: ConvergenceWarning: Solver terminated early (max_iter=1000).  Consider pre-processing your data with StandardScaler or MinMaxScaler.\n",
      "  % self.max_iter, ConvergenceWarning)\n",
      "/home/ubuntu/anaconda3/envs/tensorflow_p36/lib/python3.6/site-packages/sklearn/svm/base.py:218: ConvergenceWarning: Solver terminated early (max_iter=1000).  Consider pre-processing your data with StandardScaler or MinMaxScaler.\n",
      "  % self.max_iter, ConvergenceWarning)\n",
      "/home/ubuntu/anaconda3/envs/tensorflow_p36/lib/python3.6/site-packages/sklearn/svm/base.py:218: ConvergenceWarning: Solver terminated early (max_iter=1000).  Consider pre-processing your data with StandardScaler or MinMaxScaler.\n",
      "  % self.max_iter, ConvergenceWarning)\n",
      "/home/ubuntu/anaconda3/envs/tensorflow_p36/lib/python3.6/site-packages/sklearn/svm/base.py:218: ConvergenceWarning: Solver terminated early (max_iter=1000).  Consider pre-processing your data with StandardScaler or MinMaxScaler.\n",
      "  % self.max_iter, ConvergenceWarning)\n"
     ]
    },
    {
     "name": "stdout",
     "output_type": "stream",
     "text": [
      "[CV]  C=1.0, gamma=0.01, max_iter=1000.0, score=0.7551922165216572, total=  13.9s\n",
      "[CV] C=1.0, gamma=0.01, max_iter=10000.0 .............................\n",
      "[CV]  C=1.0, gamma=0.01, max_iter=1000.0, score=0.6729133356986087, total=  14.2s\n",
      "[CV]  C=1.0, gamma=0.01, max_iter=1000.0, score=0.7107581244902754, total=  14.1s\n",
      "[CV] C=1.0, gamma=0.1, max_iter=10.0 .................................\n",
      "[CV]  C=1.0, gamma=0.01, max_iter=1000.0, score=0.7433221289935139, total=  14.1s\n",
      "[CV] C=1.0, gamma=0.1, max_iter=10.0 .................................\n",
      "[CV] C=1.0, gamma=0.1, max_iter=10.0 .................................\n"
     ]
    },
    {
     "name": "stderr",
     "output_type": "stream",
     "text": [
      "/home/ubuntu/anaconda3/envs/tensorflow_p36/lib/python3.6/site-packages/sklearn/svm/base.py:218: ConvergenceWarning: Solver terminated early (max_iter=10).  Consider pre-processing your data with StandardScaler or MinMaxScaler.\n",
      "  % self.max_iter, ConvergenceWarning)\n",
      "/home/ubuntu/anaconda3/envs/tensorflow_p36/lib/python3.6/site-packages/sklearn/svm/base.py:218: ConvergenceWarning: Solver terminated early (max_iter=10).  Consider pre-processing your data with StandardScaler or MinMaxScaler.\n",
      "  % self.max_iter, ConvergenceWarning)\n",
      "/home/ubuntu/anaconda3/envs/tensorflow_p36/lib/python3.6/site-packages/sklearn/svm/base.py:218: ConvergenceWarning: Solver terminated early (max_iter=10).  Consider pre-processing your data with StandardScaler or MinMaxScaler.\n",
      "  % self.max_iter, ConvergenceWarning)\n"
     ]
    },
    {
     "name": "stdout",
     "output_type": "stream",
     "text": [
      "[CV]  C=1.0, gamma=0.1, max_iter=10.0, score=0.4999467371463778, total=   0.3s\n",
      "[CV]  C=1.0, gamma=0.1, max_iter=10.0, score=0.6708640703930504, total=   0.3s\n",
      "[CV] C=1.0, gamma=0.1, max_iter=10.0 .................................\n",
      "[CV] C=1.0, gamma=0.1, max_iter=100.0 ................................\n",
      "[CV]  C=1.0, gamma=0.1, max_iter=10.0, score=0.6830101046403937, total=   0.3s\n",
      "[CV] C=1.0, gamma=0.1, max_iter=100.0 ................................\n"
     ]
    },
    {
     "name": "stderr",
     "output_type": "stream",
     "text": [
      "/home/ubuntu/anaconda3/envs/tensorflow_p36/lib/python3.6/site-packages/sklearn/svm/base.py:218: ConvergenceWarning: Solver terminated early (max_iter=10).  Consider pre-processing your data with StandardScaler or MinMaxScaler.\n",
      "  % self.max_iter, ConvergenceWarning)\n"
     ]
    },
    {
     "name": "stdout",
     "output_type": "stream",
     "text": [
      "[CV]  C=1.0, gamma=0.1, max_iter=10.0, score=0.7561472199567799, total=   0.3s\n",
      "[CV] C=1.0, gamma=0.1, max_iter=100.0 ................................\n"
     ]
    },
    {
     "name": "stderr",
     "output_type": "stream",
     "text": [
      "/home/ubuntu/anaconda3/envs/tensorflow_p36/lib/python3.6/site-packages/sklearn/svm/base.py:218: ConvergenceWarning: Solver terminated early (max_iter=100).  Consider pre-processing your data with StandardScaler or MinMaxScaler.\n",
      "  % self.max_iter, ConvergenceWarning)\n",
      "/home/ubuntu/anaconda3/envs/tensorflow_p36/lib/python3.6/site-packages/sklearn/svm/base.py:218: ConvergenceWarning: Solver terminated early (max_iter=100).  Consider pre-processing your data with StandardScaler or MinMaxScaler.\n",
      "  % self.max_iter, ConvergenceWarning)\n",
      "/home/ubuntu/anaconda3/envs/tensorflow_p36/lib/python3.6/site-packages/sklearn/svm/base.py:218: ConvergenceWarning: Solver terminated early (max_iter=100).  Consider pre-processing your data with StandardScaler or MinMaxScaler.\n",
      "  % self.max_iter, ConvergenceWarning)\n"
     ]
    },
    {
     "name": "stdout",
     "output_type": "stream",
     "text": [
      "[CV]  C=1.0, gamma=0.1, max_iter=100.0, score=0.5114373101011321, total=   1.5s\n",
      "[CV] C=1.0, gamma=0.1, max_iter=100.0 ................................\n",
      "[CV]  C=1.0, gamma=0.1, max_iter=100.0, score=0.72980646211643, total=   1.5s\n",
      "[CV] C=1.0, gamma=0.1, max_iter=1000.0 ...............................\n",
      "[CV]  C=1.0, gamma=0.1, max_iter=100.0, score=0.7286791166157519, total=   1.5s\n",
      "[CV] C=1.0, gamma=0.1, max_iter=1000.0 ...............................\n"
     ]
    },
    {
     "name": "stderr",
     "output_type": "stream",
     "text": [
      "/home/ubuntu/anaconda3/envs/tensorflow_p36/lib/python3.6/site-packages/sklearn/svm/base.py:218: ConvergenceWarning: Solver terminated early (max_iter=100).  Consider pre-processing your data with StandardScaler or MinMaxScaler.\n",
      "  % self.max_iter, ConvergenceWarning)\n"
     ]
    },
    {
     "name": "stdout",
     "output_type": "stream",
     "text": [
      "[CV]  C=1.0, gamma=0.1, max_iter=100.0, score=0.7560168610339324, total=   1.5s\n",
      "[CV] C=1.0, gamma=0.1, max_iter=1000.0 ...............................\n",
      "[CV]  C=1.0, gamma=0.001, max_iter=10000.0, score=0.6840343533199097, total= 1.0min\n",
      "[CV] C=1.0, gamma=0.1, max_iter=1000.0 ...............................\n",
      "[CV]  C=1.0, gamma=0.001, max_iter=10000.0, score=0.6807477336895705, total= 1.0min\n",
      "[CV] C=1.0, gamma=0.1, max_iter=10000.0 ..............................\n"
     ]
    },
    {
     "name": "stderr",
     "output_type": "stream",
     "text": [
      "[Parallel(n_jobs=-1)]: Done 333 tasks      | elapsed: 10.3min\n"
     ]
    },
    {
     "name": "stdout",
     "output_type": "stream",
     "text": [
      "[CV]  C=1.0, gamma=0.001, max_iter=10000.0, score=0.6905031508845977, total= 1.0min\n",
      "[CV] C=1.0, gamma=0.1, max_iter=10000.0 ..............................\n",
      "[CV]  C=1.0, gamma=0.001, max_iter=10000.0, score=0.6784717326563117, total= 1.0min\n",
      "[CV]  C=0.1, gamma=10.0, max_iter=10000.0, score=0.5766629498054792, total= 1.6min\n",
      "[CV] C=1.0, gamma=0.1, max_iter=10000.0 ..............................\n",
      "[CV] C=1.0, gamma=0.1, max_iter=10000.0 ..............................\n",
      "[CV]  C=0.1, gamma=10.0, max_iter=10000.0, score=0.5776720315410998, total= 1.6min\n",
      "[CV] C=1.0, gamma=1.0, max_iter=10.0 .................................\n"
     ]
    },
    {
     "name": "stderr",
     "output_type": "stream",
     "text": [
      "/home/ubuntu/anaconda3/envs/tensorflow_p36/lib/python3.6/site-packages/sklearn/svm/base.py:218: ConvergenceWarning: Solver terminated early (max_iter=10).  Consider pre-processing your data with StandardScaler or MinMaxScaler.\n",
      "  % self.max_iter, ConvergenceWarning)\n"
     ]
    },
    {
     "name": "stdout",
     "output_type": "stream",
     "text": [
      "[CV]  C=1.0, gamma=1.0, max_iter=10.0, score=0.501909209387314, total=   0.3s\n",
      "[CV] C=1.0, gamma=1.0, max_iter=10.0 .................................\n",
      "[CV]  C=0.1, gamma=10.0, max_iter=10000.0, score=0.5739972667998717, total= 1.7min\n",
      "[CV] C=1.0, gamma=1.0, max_iter=10.0 .................................\n"
     ]
    },
    {
     "name": "stderr",
     "output_type": "stream",
     "text": [
      "/home/ubuntu/anaconda3/envs/tensorflow_p36/lib/python3.6/site-packages/sklearn/svm/base.py:218: ConvergenceWarning: Solver terminated early (max_iter=10).  Consider pre-processing your data with StandardScaler or MinMaxScaler.\n",
      "  % self.max_iter, ConvergenceWarning)\n"
     ]
    },
    {
     "name": "stdout",
     "output_type": "stream",
     "text": [
      "[CV]  C=1.0, gamma=1.0, max_iter=10.0, score=0.5022852168757785, total=   0.3s\n",
      "[CV] C=1.0, gamma=1.0, max_iter=10.0 .................................\n"
     ]
    },
    {
     "name": "stderr",
     "output_type": "stream",
     "text": [
      "/home/ubuntu/anaconda3/envs/tensorflow_p36/lib/python3.6/site-packages/sklearn/svm/base.py:218: ConvergenceWarning: Solver terminated early (max_iter=10).  Consider pre-processing your data with StandardScaler or MinMaxScaler.\n",
      "  % self.max_iter, ConvergenceWarning)\n"
     ]
    },
    {
     "name": "stdout",
     "output_type": "stream",
     "text": [
      "[CV]  C=1.0, gamma=1.0, max_iter=10.0, score=0.503174498953289, total=   0.3s\n",
      "[CV] C=1.0, gamma=1.0, max_iter=100.0 ................................\n"
     ]
    },
    {
     "name": "stderr",
     "output_type": "stream",
     "text": [
      "/home/ubuntu/anaconda3/envs/tensorflow_p36/lib/python3.6/site-packages/sklearn/svm/base.py:218: ConvergenceWarning: Solver terminated early (max_iter=10).  Consider pre-processing your data with StandardScaler or MinMaxScaler.\n",
      "  % self.max_iter, ConvergenceWarning)\n"
     ]
    },
    {
     "name": "stdout",
     "output_type": "stream",
     "text": [
      "[CV]  C=1.0, gamma=1.0, max_iter=10.0, score=0.506986009550183, total=   0.3s\n",
      "[CV] C=1.0, gamma=1.0, max_iter=100.0 ................................\n"
     ]
    },
    {
     "name": "stderr",
     "output_type": "stream",
     "text": [
      "/home/ubuntu/anaconda3/envs/tensorflow_p36/lib/python3.6/site-packages/sklearn/svm/base.py:218: ConvergenceWarning: Solver terminated early (max_iter=100).  Consider pre-processing your data with StandardScaler or MinMaxScaler.\n",
      "  % self.max_iter, ConvergenceWarning)\n",
      "/home/ubuntu/anaconda3/envs/tensorflow_p36/lib/python3.6/site-packages/sklearn/svm/base.py:218: ConvergenceWarning: Solver terminated early (max_iter=100).  Consider pre-processing your data with StandardScaler or MinMaxScaler.\n",
      "  % self.max_iter, ConvergenceWarning)\n"
     ]
    },
    {
     "name": "stdout",
     "output_type": "stream",
     "text": [
      "[CV]  C=0.1, gamma=10.0, max_iter=10000.0, score=0.5733475326646056, total= 1.7min\n",
      "[CV] C=1.0, gamma=1.0, max_iter=100.0 ................................\n"
     ]
    },
    {
     "name": "stderr",
     "output_type": "stream",
     "text": [
      "/home/ubuntu/anaconda3/envs/tensorflow_p36/lib/python3.6/site-packages/sklearn/svm/base.py:218: ConvergenceWarning: Solver terminated early (max_iter=1000).  Consider pre-processing your data with StandardScaler or MinMaxScaler.\n",
      "  % self.max_iter, ConvergenceWarning)\n"
     ]
    },
    {
     "name": "stdout",
     "output_type": "stream",
     "text": [
      "[CV]  C=1.0, gamma=1.0, max_iter=100.0, score=0.5304723023564253, total=   1.5s\n",
      "[CV] C=1.0, gamma=1.0, max_iter=100.0 ................................\n",
      "[CV]  C=1.0, gamma=1.0, max_iter=100.0, score=0.537711358082714, total=   1.5s\n",
      "[CV] C=1.0, gamma=1.0, max_iter=1000.0 ...............................\n"
     ]
    },
    {
     "name": "stderr",
     "output_type": "stream",
     "text": [
      "/home/ubuntu/anaconda3/envs/tensorflow_p36/lib/python3.6/site-packages/sklearn/svm/base.py:218: ConvergenceWarning: Solver terminated early (max_iter=1000).  Consider pre-processing your data with StandardScaler or MinMaxScaler.\n",
      "  % self.max_iter, ConvergenceWarning)\n",
      "/home/ubuntu/anaconda3/envs/tensorflow_p36/lib/python3.6/site-packages/sklearn/svm/base.py:218: ConvergenceWarning: Solver terminated early (max_iter=100).  Consider pre-processing your data with StandardScaler or MinMaxScaler.\n",
      "  % self.max_iter, ConvergenceWarning)\n",
      "/home/ubuntu/anaconda3/envs/tensorflow_p36/lib/python3.6/site-packages/sklearn/svm/base.py:218: ConvergenceWarning: Solver terminated early (max_iter=100).  Consider pre-processing your data with StandardScaler or MinMaxScaler.\n",
      "  % self.max_iter, ConvergenceWarning)\n",
      "/home/ubuntu/anaconda3/envs/tensorflow_p36/lib/python3.6/site-packages/sklearn/svm/base.py:218: ConvergenceWarning: Solver terminated early (max_iter=1000).  Consider pre-processing your data with StandardScaler or MinMaxScaler.\n",
      "  % self.max_iter, ConvergenceWarning)\n"
     ]
    },
    {
     "name": "stdout",
     "output_type": "stream",
     "text": [
      "[CV]  C=0.1, gamma=1.0, max_iter=10000.0, score=0.6697240537746876, total= 2.5min\n",
      "[CV] C=1.0, gamma=1.0, max_iter=1000.0 ...............................\n",
      "[CV]  C=1.0, gamma=1.0, max_iter=100.0, score=0.6021956359134801, total=   1.4s\n",
      "[CV] C=1.0, gamma=1.0, max_iter=1000.0 ...............................\n",
      "[CV]  C=1.0, gamma=1.0, max_iter=100.0, score=0.5077639393813731, total=   1.4s\n",
      "[CV] C=1.0, gamma=1.0, max_iter=1000.0 ...............................\n"
     ]
    },
    {
     "name": "stderr",
     "output_type": "stream",
     "text": [
      "/home/ubuntu/anaconda3/envs/tensorflow_p36/lib/python3.6/site-packages/sklearn/svm/base.py:218: ConvergenceWarning: Solver terminated early (max_iter=1000).  Consider pre-processing your data with StandardScaler or MinMaxScaler.\n",
      "  % self.max_iter, ConvergenceWarning)\n"
     ]
    },
    {
     "name": "stdout",
     "output_type": "stream",
     "text": [
      "[CV]  C=1.0, gamma=0.1, max_iter=1000.0, score=0.7359798733591683, total=  13.8s\n",
      "[CV] C=1.0, gamma=1.0, max_iter=10000.0 ..............................\n",
      "[CV]  C=1.0, gamma=0.1, max_iter=1000.0, score=0.738957504911018, total=  14.1s\n",
      "[CV] C=1.0, gamma=1.0, max_iter=10000.0 ..............................\n",
      "[CV]  C=1.0, gamma=0.1, max_iter=1000.0, score=0.7169015047144237, total=  13.5s\n",
      "[CV] C=1.0, gamma=1.0, max_iter=10000.0 ..............................\n"
     ]
    },
    {
     "name": "stderr",
     "output_type": "stream",
     "text": [
      "/home/ubuntu/anaconda3/envs/tensorflow_p36/lib/python3.6/site-packages/sklearn/svm/base.py:218: ConvergenceWarning: Solver terminated early (max_iter=1000).  Consider pre-processing your data with StandardScaler or MinMaxScaler.\n",
      "  % self.max_iter, ConvergenceWarning)\n",
      "/home/ubuntu/anaconda3/envs/tensorflow_p36/lib/python3.6/site-packages/sklearn/svm/base.py:218: ConvergenceWarning: Solver terminated early (max_iter=1000).  Consider pre-processing your data with StandardScaler or MinMaxScaler.\n",
      "  % self.max_iter, ConvergenceWarning)\n",
      "/home/ubuntu/anaconda3/envs/tensorflow_p36/lib/python3.6/site-packages/sklearn/svm/base.py:218: ConvergenceWarning: Solver terminated early (max_iter=1000).  Consider pre-processing your data with StandardScaler or MinMaxScaler.\n",
      "  % self.max_iter, ConvergenceWarning)\n",
      "/home/ubuntu/anaconda3/envs/tensorflow_p36/lib/python3.6/site-packages/sklearn/svm/base.py:218: ConvergenceWarning: Solver terminated early (max_iter=1000).  Consider pre-processing your data with StandardScaler or MinMaxScaler.\n",
      "  % self.max_iter, ConvergenceWarning)\n"
     ]
    },
    {
     "name": "stdout",
     "output_type": "stream",
     "text": [
      "[CV]  C=1.0, gamma=0.1, max_iter=1000.0, score=0.73368766386059, total=  12.7s\n",
      "[CV] C=1.0, gamma=1.0, max_iter=10000.0 ..............................\n",
      "[CV]  C=1.0, gamma=1.0, max_iter=1000.0, score=0.5830212418018391, total=  11.9s\n",
      "[CV] C=1.0, gamma=10.0, max_iter=10.0 ................................\n"
     ]
    },
    {
     "name": "stderr",
     "output_type": "stream",
     "text": [
      "/home/ubuntu/anaconda3/envs/tensorflow_p36/lib/python3.6/site-packages/sklearn/svm/base.py:218: ConvergenceWarning: Solver terminated early (max_iter=10).  Consider pre-processing your data with StandardScaler or MinMaxScaler.\n",
      "  % self.max_iter, ConvergenceWarning)\n"
     ]
    },
    {
     "name": "stdout",
     "output_type": "stream",
     "text": [
      "[CV]  C=1.0, gamma=10.0, max_iter=10.0, score=0.50152427730465, total=   0.3s\n",
      "[CV] C=1.0, gamma=10.0, max_iter=10.0 ................................\n"
     ]
    },
    {
     "name": "stderr",
     "output_type": "stream",
     "text": [
      "/home/ubuntu/anaconda3/envs/tensorflow_p36/lib/python3.6/site-packages/sklearn/svm/base.py:218: ConvergenceWarning: Solver terminated early (max_iter=10).  Consider pre-processing your data with StandardScaler or MinMaxScaler.\n",
      "  % self.max_iter, ConvergenceWarning)\n"
     ]
    },
    {
     "name": "stdout",
     "output_type": "stream",
     "text": [
      "[CV]  C=1.0, gamma=10.0, max_iter=10.0, score=0.5006348997906579, total=   0.3s\n",
      "[CV] C=1.0, gamma=10.0, max_iter=10.0 ................................\n"
     ]
    },
    {
     "name": "stderr",
     "output_type": "stream",
     "text": [
      "/home/ubuntu/anaconda3/envs/tensorflow_p36/lib/python3.6/site-packages/sklearn/svm/base.py:218: ConvergenceWarning: Solver terminated early (max_iter=10).  Consider pre-processing your data with StandardScaler or MinMaxScaler.\n",
      "  % self.max_iter, ConvergenceWarning)\n"
     ]
    },
    {
     "name": "stdout",
     "output_type": "stream",
     "text": [
      "[CV]  C=1.0, gamma=10.0, max_iter=10.0, score=0.5016503170851208, total=   0.3s\n",
      "[CV] C=1.0, gamma=10.0, max_iter=10.0 ................................\n"
     ]
    },
    {
     "name": "stderr",
     "output_type": "stream",
     "text": [
      "/home/ubuntu/anaconda3/envs/tensorflow_p36/lib/python3.6/site-packages/sklearn/svm/base.py:218: ConvergenceWarning: Solver terminated early (max_iter=10).  Consider pre-processing your data with StandardScaler or MinMaxScaler.\n",
      "  % self.max_iter, ConvergenceWarning)\n"
     ]
    },
    {
     "name": "stdout",
     "output_type": "stream",
     "text": [
      "[CV]  C=1.0, gamma=10.0, max_iter=10.0, score=0.5048248160384097, total=   0.3s\n",
      "[CV] C=1.0, gamma=10.0, max_iter=100.0 ...............................\n",
      "[CV]  C=1.0, gamma=1.0, max_iter=1000.0, score=0.5653798954671189, total=  12.2s\n",
      "[CV] C=1.0, gamma=10.0, max_iter=100.0 ...............................\n",
      "[CV]  C=1.0, gamma=1.0, max_iter=1000.0, score=0.5808993268180751, total=  12.2s\n",
      "[CV] C=1.0, gamma=10.0, max_iter=100.0 ...............................\n",
      "[CV]  C=1.0, gamma=1.0, max_iter=1000.0, score=0.5443105145702495, total=  12.1s\n",
      "[CV] C=1.0, gamma=10.0, max_iter=100.0 ...............................\n"
     ]
    },
    {
     "name": "stderr",
     "output_type": "stream",
     "text": [
      "[Parallel(n_jobs=-1)]: Done 360 tasks      | elapsed: 10.7min\n",
      "/home/ubuntu/anaconda3/envs/tensorflow_p36/lib/python3.6/site-packages/sklearn/svm/base.py:218: ConvergenceWarning: Solver terminated early (max_iter=100).  Consider pre-processing your data with StandardScaler or MinMaxScaler.\n",
      "  % self.max_iter, ConvergenceWarning)\n",
      "/home/ubuntu/anaconda3/envs/tensorflow_p36/lib/python3.6/site-packages/sklearn/svm/base.py:218: ConvergenceWarning: Solver terminated early (max_iter=100).  Consider pre-processing your data with StandardScaler or MinMaxScaler.\n",
      "  % self.max_iter, ConvergenceWarning)\n",
      "/home/ubuntu/anaconda3/envs/tensorflow_p36/lib/python3.6/site-packages/sklearn/svm/base.py:218: ConvergenceWarning: Solver terminated early (max_iter=100).  Consider pre-processing your data with StandardScaler or MinMaxScaler.\n",
      "  % self.max_iter, ConvergenceWarning)\n",
      "/home/ubuntu/anaconda3/envs/tensorflow_p36/lib/python3.6/site-packages/sklearn/svm/base.py:218: ConvergenceWarning: Solver terminated early (max_iter=100).  Consider pre-processing your data with StandardScaler or MinMaxScaler.\n",
      "  % self.max_iter, ConvergenceWarning)\n"
     ]
    },
    {
     "name": "stdout",
     "output_type": "stream",
     "text": [
      "[CV]  C=1.0, gamma=10.0, max_iter=100.0, score=0.5187957412749686, total=   1.5s\n",
      "[CV] C=1.0, gamma=10.0, max_iter=1000.0 ..............................\n",
      "[CV]  C=1.0, gamma=10.0, max_iter=100.0, score=0.5279313670830473, total=   1.5s\n",
      "[CV] C=1.0, gamma=10.0, max_iter=1000.0 ..............................\n",
      "[CV]  C=1.0, gamma=10.0, max_iter=100.0, score=0.49631673647300584, total=   1.5s\n",
      "[CV] C=1.0, gamma=10.0, max_iter=1000.0 ..............................\n",
      "[CV]  C=1.0, gamma=10.0, max_iter=100.0, score=0.5271597728106996, total=   1.5s\n",
      "[CV] C=1.0, gamma=10.0, max_iter=1000.0 ..............................\n"
     ]
    },
    {
     "name": "stderr",
     "output_type": "stream",
     "text": [
      "/home/ubuntu/anaconda3/envs/tensorflow_p36/lib/python3.6/site-packages/sklearn/svm/base.py:218: ConvergenceWarning: Solver terminated early (max_iter=1000).  Consider pre-processing your data with StandardScaler or MinMaxScaler.\n",
      "  % self.max_iter, ConvergenceWarning)\n",
      "/home/ubuntu/anaconda3/envs/tensorflow_p36/lib/python3.6/site-packages/sklearn/svm/base.py:218: ConvergenceWarning: Solver terminated early (max_iter=1000).  Consider pre-processing your data with StandardScaler or MinMaxScaler.\n",
      "  % self.max_iter, ConvergenceWarning)\n",
      "/home/ubuntu/anaconda3/envs/tensorflow_p36/lib/python3.6/site-packages/sklearn/svm/base.py:218: ConvergenceWarning: Solver terminated early (max_iter=1000).  Consider pre-processing your data with StandardScaler or MinMaxScaler.\n",
      "  % self.max_iter, ConvergenceWarning)\n",
      "/home/ubuntu/anaconda3/envs/tensorflow_p36/lib/python3.6/site-packages/sklearn/svm/base.py:218: ConvergenceWarning: Solver terminated early (max_iter=1000).  Consider pre-processing your data with StandardScaler or MinMaxScaler.\n",
      "  % self.max_iter, ConvergenceWarning)\n"
     ]
    },
    {
     "name": "stdout",
     "output_type": "stream",
     "text": [
      "[CV]  C=1.0, gamma=0.01, max_iter=10000.0, score=0.7168264379414733, total=  49.4s\n",
      "[CV] C=1.0, gamma=10.0, max_iter=10000.0 .............................\n",
      "[CV]  C=1.0, gamma=0.01, max_iter=10000.0, score=0.7280025374231527, total=  50.2s\n",
      "[CV] C=1.0, gamma=10.0, max_iter=10000.0 .............................\n",
      "[CV]  C=1.0, gamma=10.0, max_iter=1000.0, score=0.5771763393928226, total=  13.8s\n",
      "[CV] C=1.0, gamma=10.0, max_iter=10000.0 .............................\n",
      "[CV]  C=1.0, gamma=10.0, max_iter=1000.0, score=0.4779900765949865, total=  13.9s\n",
      "[CV] C=1.0, gamma=10.0, max_iter=10000.0 .............................\n",
      "[CV]  C=1.0, gamma=10.0, max_iter=1000.0, score=0.577701597482364, total=  14.0s\n",
      "[CV] C=10.0, gamma=0.0001, max_iter=10.0 .............................\n",
      "[CV]  C=1.0, gamma=10.0, max_iter=1000.0, score=0.6159365031094155, total=  14.5s\n"
     ]
    },
    {
     "name": "stderr",
     "output_type": "stream",
     "text": [
      "/home/ubuntu/anaconda3/envs/tensorflow_p36/lib/python3.6/site-packages/sklearn/svm/base.py:218: ConvergenceWarning: Solver terminated early (max_iter=10).  Consider pre-processing your data with StandardScaler or MinMaxScaler.\n",
      "  % self.max_iter, ConvergenceWarning)\n"
     ]
    },
    {
     "name": "stdout",
     "output_type": "stream",
     "text": [
      "[CV] C=10.0, gamma=0.0001, max_iter=10.0 .............................\n",
      "[CV]  C=10.0, gamma=0.0001, max_iter=10.0, score=0.6625790545507589, total=   0.3s\n",
      "[CV] C=10.0, gamma=0.0001, max_iter=10.0 .............................\n"
     ]
    },
    {
     "name": "stderr",
     "output_type": "stream",
     "text": [
      "/home/ubuntu/anaconda3/envs/tensorflow_p36/lib/python3.6/site-packages/sklearn/svm/base.py:218: ConvergenceWarning: Solver terminated early (max_iter=10).  Consider pre-processing your data with StandardScaler or MinMaxScaler.\n",
      "  % self.max_iter, ConvergenceWarning)\n"
     ]
    },
    {
     "name": "stdout",
     "output_type": "stream",
     "text": [
      "[CV]  C=10.0, gamma=0.0001, max_iter=10.0, score=0.5428792542317693, total=   0.3s\n",
      "[CV] C=10.0, gamma=0.0001, max_iter=10.0 .............................\n"
     ]
    },
    {
     "name": "stderr",
     "output_type": "stream",
     "text": [
      "/home/ubuntu/anaconda3/envs/tensorflow_p36/lib/python3.6/site-packages/sklearn/svm/base.py:218: ConvergenceWarning: Solver terminated early (max_iter=10).  Consider pre-processing your data with StandardScaler or MinMaxScaler.\n",
      "  % self.max_iter, ConvergenceWarning)\n"
     ]
    },
    {
     "name": "stdout",
     "output_type": "stream",
     "text": [
      "[CV]  C=10.0, gamma=0.0001, max_iter=10.0, score=0.609799266457478, total=   0.3s\n",
      "[CV] C=10.0, gamma=0.0001, max_iter=100.0 ............................\n"
     ]
    },
    {
     "name": "stderr",
     "output_type": "stream",
     "text": [
      "/home/ubuntu/anaconda3/envs/tensorflow_p36/lib/python3.6/site-packages/sklearn/svm/base.py:218: ConvergenceWarning: Solver terminated early (max_iter=10).  Consider pre-processing your data with StandardScaler or MinMaxScaler.\n",
      "  % self.max_iter, ConvergenceWarning)\n"
     ]
    },
    {
     "name": "stdout",
     "output_type": "stream",
     "text": [
      "[CV]  C=10.0, gamma=0.0001, max_iter=10.0, score=0.722772071935087, total=   0.3s\n",
      "[CV] C=10.0, gamma=0.0001, max_iter=100.0 ............................\n",
      "[CV]  C=1.0, gamma=0.01, max_iter=10000.0, score=0.73141435015597, total=  49.9s\n",
      "[CV] C=10.0, gamma=0.0001, max_iter=100.0 ............................\n"
     ]
    },
    {
     "name": "stderr",
     "output_type": "stream",
     "text": [
      "/home/ubuntu/anaconda3/envs/tensorflow_p36/lib/python3.6/site-packages/sklearn/svm/base.py:218: ConvergenceWarning: Solver terminated early (max_iter=100).  Consider pre-processing your data with StandardScaler or MinMaxScaler.\n",
      "  % self.max_iter, ConvergenceWarning)\n",
      "/home/ubuntu/anaconda3/envs/tensorflow_p36/lib/python3.6/site-packages/sklearn/svm/base.py:218: ConvergenceWarning: Solver terminated early (max_iter=100).  Consider pre-processing your data with StandardScaler or MinMaxScaler.\n",
      "  % self.max_iter, ConvergenceWarning)\n"
     ]
    },
    {
     "name": "stdout",
     "output_type": "stream",
     "text": [
      "[CV]  C=10.0, gamma=0.0001, max_iter=100.0, score=0.6888549158254974, total=   1.5s\n",
      "[CV] C=10.0, gamma=0.0001, max_iter=100.0 ............................\n"
     ]
    },
    {
     "name": "stderr",
     "output_type": "stream",
     "text": [
      "/home/ubuntu/anaconda3/envs/tensorflow_p36/lib/python3.6/site-packages/sklearn/svm/base.py:218: ConvergenceWarning: Solver terminated early (max_iter=100).  Consider pre-processing your data with StandardScaler or MinMaxScaler.\n",
      "  % self.max_iter, ConvergenceWarning)\n"
     ]
    },
    {
     "name": "stdout",
     "output_type": "stream",
     "text": [
      "[CV]  C=10.0, gamma=0.0001, max_iter=100.0, score=0.6946080170545564, total=   1.4s\n",
      "[CV] C=10.0, gamma=0.0001, max_iter=1000.0 ...........................\n",
      "[CV]  C=10.0, gamma=0.0001, max_iter=100.0, score=0.63090646872077, total=   1.4s\n",
      "[CV] C=10.0, gamma=0.0001, max_iter=1000.0 ...........................\n"
     ]
    },
    {
     "name": "stderr",
     "output_type": "stream",
     "text": [
      "/home/ubuntu/anaconda3/envs/tensorflow_p36/lib/python3.6/site-packages/sklearn/svm/base.py:218: ConvergenceWarning: Solver terminated early (max_iter=100).  Consider pre-processing your data with StandardScaler or MinMaxScaler.\n",
      "  % self.max_iter, ConvergenceWarning)\n"
     ]
    },
    {
     "name": "stdout",
     "output_type": "stream",
     "text": [
      "[CV]  C=10.0, gamma=0.0001, max_iter=100.0, score=0.7090444518167311, total=   1.4s\n",
      "[CV] C=10.0, gamma=0.0001, max_iter=1000.0 ...........................\n",
      "[CV]  C=1.0, gamma=0.01, max_iter=10000.0, score=0.7251978230251871, total=  48.7s\n",
      "[CV] C=10.0, gamma=0.0001, max_iter=1000.0 ...........................\n"
     ]
    },
    {
     "name": "stderr",
     "output_type": "stream",
     "text": [
      "/home/ubuntu/anaconda3/envs/tensorflow_p36/lib/python3.6/site-packages/sklearn/svm/base.py:218: ConvergenceWarning: Solver terminated early (max_iter=1000).  Consider pre-processing your data with StandardScaler or MinMaxScaler.\n",
      "  % self.max_iter, ConvergenceWarning)\n",
      "/home/ubuntu/anaconda3/envs/tensorflow_p36/lib/python3.6/site-packages/sklearn/svm/base.py:218: ConvergenceWarning: Solver terminated early (max_iter=1000).  Consider pre-processing your data with StandardScaler or MinMaxScaler.\n",
      "  % self.max_iter, ConvergenceWarning)\n",
      "/home/ubuntu/anaconda3/envs/tensorflow_p36/lib/python3.6/site-packages/sklearn/svm/base.py:218: ConvergenceWarning: Solver terminated early (max_iter=1000).  Consider pre-processing your data with StandardScaler or MinMaxScaler.\n",
      "  % self.max_iter, ConvergenceWarning)\n"
     ]
    },
    {
     "name": "stdout",
     "output_type": "stream",
     "text": [
      "[CV]  C=1.0, gamma=0.1, max_iter=10000.0, score=0.737019207878517, total=  46.4s\n",
      "[CV] C=10.0, gamma=0.0001, max_iter=10000.0 ..........................\n",
      "[CV]  C=1.0, gamma=0.1, max_iter=10000.0, score=0.7412077903881182, total=  46.8s\n",
      "[CV] C=10.0, gamma=0.0001, max_iter=10000.0 ..........................\n",
      "[CV]  C=1.0, gamma=0.1, max_iter=10000.0, score=0.7419659354279843, total=  45.6s\n",
      "[CV] C=10.0, gamma=0.0001, max_iter=10000.0 ..........................\n",
      "[CV]  C=10.0, gamma=0.0001, max_iter=1000.0, score=0.6488420367715224, total=  13.4s\n",
      "[CV] C=10.0, gamma=0.0001, max_iter=10000.0 ..........................\n",
      "[CV]  C=10.0, gamma=0.0001, max_iter=1000.0, score=0.712526129380559, total=  13.4s\n",
      "[CV] C=10.0, gamma=0.001, max_iter=10.0 ..............................\n"
     ]
    },
    {
     "name": "stderr",
     "output_type": "stream",
     "text": [
      "/home/ubuntu/anaconda3/envs/tensorflow_p36/lib/python3.6/site-packages/sklearn/svm/base.py:218: ConvergenceWarning: Solver terminated early (max_iter=10).  Consider pre-processing your data with StandardScaler or MinMaxScaler.\n",
      "  % self.max_iter, ConvergenceWarning)\n"
     ]
    },
    {
     "name": "stdout",
     "output_type": "stream",
     "text": [
      "[CV]  C=1.0, gamma=0.1, max_iter=10000.0, score=0.7463912272860616, total=  47.1s\n",
      "[CV]  C=10.0, gamma=0.001, max_iter=10.0, score=0.6652183968936718, total=   0.3s\n",
      "[CV] C=10.0, gamma=0.001, max_iter=10.0 ..............................\n",
      "[CV] C=10.0, gamma=0.001, max_iter=10.0 ..............................\n"
     ]
    },
    {
     "name": "stderr",
     "output_type": "stream",
     "text": [
      "/home/ubuntu/anaconda3/envs/tensorflow_p36/lib/python3.6/site-packages/sklearn/svm/base.py:218: ConvergenceWarning: Solver terminated early (max_iter=10).  Consider pre-processing your data with StandardScaler or MinMaxScaler.\n",
      "  % self.max_iter, ConvergenceWarning)\n",
      "/home/ubuntu/anaconda3/envs/tensorflow_p36/lib/python3.6/site-packages/sklearn/svm/base.py:218: ConvergenceWarning: Solver terminated early (max_iter=1000).  Consider pre-processing your data with StandardScaler or MinMaxScaler.\n",
      "  % self.max_iter, ConvergenceWarning)\n",
      "/home/ubuntu/anaconda3/envs/tensorflow_p36/lib/python3.6/site-packages/sklearn/svm/base.py:218: ConvergenceWarning: Solver terminated early (max_iter=10).  Consider pre-processing your data with StandardScaler or MinMaxScaler.\n",
      "  % self.max_iter, ConvergenceWarning)\n"
     ]
    },
    {
     "name": "stdout",
     "output_type": "stream",
     "text": [
      "[CV]  C=10.0, gamma=0.001, max_iter=10.0, score=0.604242213406196, total=   0.2s\n",
      "[CV] C=10.0, gamma=0.001, max_iter=10.0 ..............................\n",
      "[CV]  C=10.0, gamma=0.001, max_iter=10.0, score=0.6099211779685357, total=   0.2s\n",
      "[CV] C=10.0, gamma=0.001, max_iter=100.0 .............................\n",
      "[CV]  C=10.0, gamma=0.0001, max_iter=1000.0, score=0.56575388542545, total=  13.2s\n",
      "[CV] C=10.0, gamma=0.001, max_iter=100.0 .............................\n"
     ]
    },
    {
     "name": "stderr",
     "output_type": "stream",
     "text": [
      "/home/ubuntu/anaconda3/envs/tensorflow_p36/lib/python3.6/site-packages/sklearn/svm/base.py:218: ConvergenceWarning: Solver terminated early (max_iter=10).  Consider pre-processing your data with StandardScaler or MinMaxScaler.\n",
      "  % self.max_iter, ConvergenceWarning)\n",
      "[Parallel(n_jobs=-1)]: Done 389 tasks      | elapsed: 11.5min\n"
     ]
    },
    {
     "name": "stdout",
     "output_type": "stream",
     "text": [
      "[CV]  C=10.0, gamma=0.001, max_iter=10.0, score=0.7181050689078418, total=   0.2s\n",
      "[CV] C=10.0, gamma=0.001, max_iter=100.0 .............................\n"
     ]
    },
    {
     "name": "stderr",
     "output_type": "stream",
     "text": [
      "/home/ubuntu/anaconda3/envs/tensorflow_p36/lib/python3.6/site-packages/sklearn/svm/base.py:218: ConvergenceWarning: Solver terminated early (max_iter=100).  Consider pre-processing your data with StandardScaler or MinMaxScaler.\n",
      "  % self.max_iter, ConvergenceWarning)\n",
      "/home/ubuntu/anaconda3/envs/tensorflow_p36/lib/python3.6/site-packages/sklearn/svm/base.py:218: ConvergenceWarning: Solver terminated early (max_iter=100).  Consider pre-processing your data with StandardScaler or MinMaxScaler.\n",
      "  % self.max_iter, ConvergenceWarning)\n",
      "/home/ubuntu/anaconda3/envs/tensorflow_p36/lib/python3.6/site-packages/sklearn/svm/base.py:218: ConvergenceWarning: Solver terminated early (max_iter=10000).  Consider pre-processing your data with StandardScaler or MinMaxScaler.\n",
      "  % self.max_iter, ConvergenceWarning)\n",
      "/home/ubuntu/anaconda3/envs/tensorflow_p36/lib/python3.6/site-packages/sklearn/svm/base.py:218: ConvergenceWarning: Solver terminated early (max_iter=100).  Consider pre-processing your data with StandardScaler or MinMaxScaler.\n",
      "  % self.max_iter, ConvergenceWarning)\n",
      "/home/ubuntu/anaconda3/envs/tensorflow_p36/lib/python3.6/site-packages/sklearn/svm/base.py:218: ConvergenceWarning: Solver terminated early (max_iter=10000).  Consider pre-processing your data with StandardScaler or MinMaxScaler.\n",
      "  % self.max_iter, ConvergenceWarning)\n",
      "/home/ubuntu/anaconda3/envs/tensorflow_p36/lib/python3.6/site-packages/sklearn/svm/base.py:218: ConvergenceWarning: Solver terminated early (max_iter=10000).  Consider pre-processing your data with StandardScaler or MinMaxScaler.\n",
      "  % self.max_iter, ConvergenceWarning)\n"
     ]
    },
    {
     "name": "stdout",
     "output_type": "stream",
     "text": [
      "[CV]  C=10.0, gamma=0.001, max_iter=100.0, score=0.6616052560359769, total=   1.3s\n",
      "[CV] C=10.0, gamma=0.001, max_iter=100.0 .............................\n",
      "[CV]  C=10.0, gamma=0.001, max_iter=100.0, score=0.5880621560559496, total=   1.3s\n",
      "[CV] C=10.0, gamma=0.001, max_iter=1000.0 ............................\n",
      "[CV]  C=10.0, gamma=0.001, max_iter=100.0, score=0.6067747090634584, total=   1.3s\n",
      "[CV] C=10.0, gamma=0.001, max_iter=1000.0 ............................\n"
     ]
    },
    {
     "name": "stderr",
     "output_type": "stream",
     "text": [
      "/home/ubuntu/anaconda3/envs/tensorflow_p36/lib/python3.6/site-packages/sklearn/svm/base.py:218: ConvergenceWarning: Solver terminated early (max_iter=100).  Consider pre-processing your data with StandardScaler or MinMaxScaler.\n",
      "  % self.max_iter, ConvergenceWarning)\n"
     ]
    },
    {
     "name": "stdout",
     "output_type": "stream",
     "text": [
      "[CV]  C=10.0, gamma=0.001, max_iter=100.0, score=0.7201042257025558, total=   1.4s\n",
      "[CV] C=10.0, gamma=0.001, max_iter=1000.0 ............................\n"
     ]
    },
    {
     "name": "stderr",
     "output_type": "stream",
     "text": [
      "/home/ubuntu/anaconda3/envs/tensorflow_p36/lib/python3.6/site-packages/sklearn/svm/base.py:218: ConvergenceWarning: Solver terminated early (max_iter=10000).  Consider pre-processing your data with StandardScaler or MinMaxScaler.\n",
      "  % self.max_iter, ConvergenceWarning)\n"
     ]
    },
    {
     "name": "stdout",
     "output_type": "stream",
     "text": [
      "[CV]  C=10.0, gamma=0.0001, max_iter=1000.0, score=0.6851864650960625, total=  11.5s\n",
      "[CV] C=10.0, gamma=0.001, max_iter=1000.0 ............................\n"
     ]
    },
    {
     "name": "stderr",
     "output_type": "stream",
     "text": [
      "/home/ubuntu/anaconda3/envs/tensorflow_p36/lib/python3.6/site-packages/sklearn/svm/base.py:218: ConvergenceWarning: Solver terminated early (max_iter=1000).  Consider pre-processing your data with StandardScaler or MinMaxScaler.\n",
      "  % self.max_iter, ConvergenceWarning)\n",
      "/home/ubuntu/anaconda3/envs/tensorflow_p36/lib/python3.6/site-packages/sklearn/svm/base.py:218: ConvergenceWarning: Solver terminated early (max_iter=1000).  Consider pre-processing your data with StandardScaler or MinMaxScaler.\n",
      "  % self.max_iter, ConvergenceWarning)\n",
      "/home/ubuntu/anaconda3/envs/tensorflow_p36/lib/python3.6/site-packages/sklearn/svm/base.py:218: ConvergenceWarning: Solver terminated early (max_iter=1000).  Consider pre-processing your data with StandardScaler or MinMaxScaler.\n",
      "  % self.max_iter, ConvergenceWarning)\n",
      "/home/ubuntu/anaconda3/envs/tensorflow_p36/lib/python3.6/site-packages/sklearn/svm/base.py:218: ConvergenceWarning: Solver terminated early (max_iter=1000).  Consider pre-processing your data with StandardScaler or MinMaxScaler.\n",
      "  % self.max_iter, ConvergenceWarning)\n"
     ]
    },
    {
     "name": "stdout",
     "output_type": "stream",
     "text": [
      "[CV]  C=10.0, gamma=0.001, max_iter=1000.0, score=0.5926843710472725, total=  13.2s\n",
      "[CV] C=10.0, gamma=0.001, max_iter=10000.0 ...........................\n",
      "[CV]  C=10.0, gamma=0.001, max_iter=1000.0, score=0.6509452653792811, total=  13.2s\n",
      "[CV] C=10.0, gamma=0.001, max_iter=10000.0 ...........................\n",
      "[CV]  C=10.0, gamma=0.001, max_iter=1000.0, score=0.7341918207551372, total=  13.2s\n",
      "[CV] C=10.0, gamma=0.001, max_iter=10000.0 ...........................\n",
      "[CV]  C=10.0, gamma=0.001, max_iter=1000.0, score=0.6022323053601132, total=  12.9s\n",
      "[CV] C=10.0, gamma=0.001, max_iter=10000.0 ...........................\n",
      "[CV]  C=1.0, gamma=1.0, max_iter=10000.0, score=0.7158490340000645, total= 1.2min\n",
      "[CV] C=10.0, gamma=0.01, max_iter=10.0 ...............................\n"
     ]
    },
    {
     "name": "stderr",
     "output_type": "stream",
     "text": [
      "/home/ubuntu/anaconda3/envs/tensorflow_p36/lib/python3.6/site-packages/sklearn/svm/base.py:218: ConvergenceWarning: Solver terminated early (max_iter=10).  Consider pre-processing your data with StandardScaler or MinMaxScaler.\n",
      "  % self.max_iter, ConvergenceWarning)\n"
     ]
    },
    {
     "name": "stdout",
     "output_type": "stream",
     "text": [
      "[CV]  C=10.0, gamma=0.01, max_iter=10.0, score=0.43240713549494136, total=   0.3s\n",
      "[CV] C=10.0, gamma=0.01, max_iter=10.0 ...............................\n"
     ]
    },
    {
     "name": "stderr",
     "output_type": "stream",
     "text": [
      "/home/ubuntu/anaconda3/envs/tensorflow_p36/lib/python3.6/site-packages/sklearn/svm/base.py:218: ConvergenceWarning: Solver terminated early (max_iter=10).  Consider pre-processing your data with StandardScaler or MinMaxScaler.\n",
      "  % self.max_iter, ConvergenceWarning)\n"
     ]
    },
    {
     "name": "stdout",
     "output_type": "stream",
     "text": [
      "[CV]  C=10.0, gamma=0.01, max_iter=10.0, score=0.5490266661751809, total=   0.3s\n",
      "[CV] C=10.0, gamma=0.01, max_iter=10.0 ...............................\n"
     ]
    },
    {
     "name": "stderr",
     "output_type": "stream",
     "text": [
      "/home/ubuntu/anaconda3/envs/tensorflow_p36/lib/python3.6/site-packages/sklearn/svm/base.py:218: ConvergenceWarning: Solver terminated early (max_iter=10).  Consider pre-processing your data with StandardScaler or MinMaxScaler.\n",
      "  % self.max_iter, ConvergenceWarning)\n"
     ]
    },
    {
     "name": "stdout",
     "output_type": "stream",
     "text": [
      "[CV]  C=10.0, gamma=0.01, max_iter=10.0, score=0.5655121742562822, total=   0.3s\n",
      "[CV] C=10.0, gamma=0.01, max_iter=10.0 ...............................\n"
     ]
    },
    {
     "name": "stderr",
     "output_type": "stream",
     "text": [
      "/home/ubuntu/anaconda3/envs/tensorflow_p36/lib/python3.6/site-packages/sklearn/svm/base.py:218: ConvergenceWarning: Solver terminated early (max_iter=10).  Consider pre-processing your data with StandardScaler or MinMaxScaler.\n",
      "  % self.max_iter, ConvergenceWarning)\n"
     ]
    },
    {
     "name": "stdout",
     "output_type": "stream",
     "text": [
      "[CV]  C=10.0, gamma=0.01, max_iter=10.0, score=0.6618986786712067, total=   0.3s\n",
      "[CV] C=10.0, gamma=0.01, max_iter=100.0 ..............................\n",
      "[CV]  C=1.0, gamma=1.0, max_iter=10000.0, score=0.721432773193137, total= 1.2min\n",
      "[CV] C=10.0, gamma=0.01, max_iter=100.0 ..............................\n",
      "[CV]  C=1.0, gamma=1.0, max_iter=10000.0, score=0.7192660858616393, total= 1.2min\n",
      "[CV] C=10.0, gamma=0.01, max_iter=100.0 ..............................\n"
     ]
    },
    {
     "name": "stderr",
     "output_type": "stream",
     "text": [
      "/home/ubuntu/anaconda3/envs/tensorflow_p36/lib/python3.6/site-packages/sklearn/svm/base.py:218: ConvergenceWarning: Solver terminated early (max_iter=100).  Consider pre-processing your data with StandardScaler or MinMaxScaler.\n",
      "  % self.max_iter, ConvergenceWarning)\n",
      "/home/ubuntu/anaconda3/envs/tensorflow_p36/lib/python3.6/site-packages/sklearn/svm/base.py:218: ConvergenceWarning: Solver terminated early (max_iter=100).  Consider pre-processing your data with StandardScaler or MinMaxScaler.\n",
      "  % self.max_iter, ConvergenceWarning)\n",
      "/home/ubuntu/anaconda3/envs/tensorflow_p36/lib/python3.6/site-packages/sklearn/svm/base.py:218: ConvergenceWarning: Solver terminated early (max_iter=100).  Consider pre-processing your data with StandardScaler or MinMaxScaler.\n",
      "  % self.max_iter, ConvergenceWarning)\n"
     ]
    },
    {
     "name": "stdout",
     "output_type": "stream",
     "text": [
      "[CV]  C=10.0, gamma=0.01, max_iter=100.0, score=0.558833860203723, total=   1.4s\n",
      "[CV] C=10.0, gamma=0.01, max_iter=100.0 ..............................\n",
      "[CV]  C=10.0, gamma=0.01, max_iter=100.0, score=0.526474572522566, total=   1.5s\n",
      "[CV] C=10.0, gamma=0.01, max_iter=1000.0 .............................\n",
      "[CV]  C=10.0, gamma=0.01, max_iter=100.0, score=0.6479859834400011, total=   1.4s\n",
      "[CV] C=10.0, gamma=0.01, max_iter=1000.0 .............................\n"
     ]
    },
    {
     "name": "stderr",
     "output_type": "stream",
     "text": [
      "/home/ubuntu/anaconda3/envs/tensorflow_p36/lib/python3.6/site-packages/sklearn/svm/base.py:218: ConvergenceWarning: Solver terminated early (max_iter=100).  Consider pre-processing your data with StandardScaler or MinMaxScaler.\n",
      "  % self.max_iter, ConvergenceWarning)\n"
     ]
    },
    {
     "name": "stdout",
     "output_type": "stream",
     "text": [
      "[CV]  C=10.0, gamma=0.01, max_iter=100.0, score=0.7574444736264124, total=   1.4s\n",
      "[CV] C=10.0, gamma=0.01, max_iter=1000.0 .............................\n",
      "[CV]  C=1.0, gamma=1.0, max_iter=10000.0, score=0.718262497945743, total= 1.2min\n",
      "[CV] C=10.0, gamma=0.01, max_iter=1000.0 .............................\n"
     ]
    },
    {
     "name": "stderr",
     "output_type": "stream",
     "text": [
      "/home/ubuntu/anaconda3/envs/tensorflow_p36/lib/python3.6/site-packages/sklearn/svm/base.py:218: ConvergenceWarning: Solver terminated early (max_iter=10000).  Consider pre-processing your data with StandardScaler or MinMaxScaler.\n",
      "  % self.max_iter, ConvergenceWarning)\n",
      "/home/ubuntu/anaconda3/envs/tensorflow_p36/lib/python3.6/site-packages/sklearn/svm/base.py:218: ConvergenceWarning: Solver terminated early (max_iter=10000).  Consider pre-processing your data with StandardScaler or MinMaxScaler.\n",
      "  % self.max_iter, ConvergenceWarning)\n",
      "/home/ubuntu/anaconda3/envs/tensorflow_p36/lib/python3.6/site-packages/sklearn/svm/base.py:218: ConvergenceWarning: Solver terminated early (max_iter=10000).  Consider pre-processing your data with StandardScaler or MinMaxScaler.\n",
      "  % self.max_iter, ConvergenceWarning)\n",
      "/home/ubuntu/anaconda3/envs/tensorflow_p36/lib/python3.6/site-packages/sklearn/svm/base.py:218: ConvergenceWarning: Solver terminated early (max_iter=1000).  Consider pre-processing your data with StandardScaler or MinMaxScaler.\n",
      "  % self.max_iter, ConvergenceWarning)\n",
      "/home/ubuntu/anaconda3/envs/tensorflow_p36/lib/python3.6/site-packages/sklearn/svm/base.py:218: ConvergenceWarning: Solver terminated early (max_iter=1000).  Consider pre-processing your data with StandardScaler or MinMaxScaler.\n",
      "  % self.max_iter, ConvergenceWarning)\n",
      "/home/ubuntu/anaconda3/envs/tensorflow_p36/lib/python3.6/site-packages/sklearn/svm/base.py:218: ConvergenceWarning: Solver terminated early (max_iter=10000).  Consider pre-processing your data with StandardScaler or MinMaxScaler.\n",
      "  % self.max_iter, ConvergenceWarning)\n",
      "/home/ubuntu/anaconda3/envs/tensorflow_p36/lib/python3.6/site-packages/sklearn/svm/base.py:218: ConvergenceWarning: Solver terminated early (max_iter=1000).  Consider pre-processing your data with StandardScaler or MinMaxScaler.\n",
      "  % self.max_iter, ConvergenceWarning)\n",
      "/home/ubuntu/anaconda3/envs/tensorflow_p36/lib/python3.6/site-packages/sklearn/svm/base.py:218: ConvergenceWarning: Solver terminated early (max_iter=1000).  Consider pre-processing your data with StandardScaler or MinMaxScaler.\n",
      "  % self.max_iter, ConvergenceWarning)\n"
     ]
    },
    {
     "name": "stdout",
     "output_type": "stream",
     "text": [
      "[CV]  C=10.0, gamma=0.01, max_iter=1000.0, score=0.563268618479558, total=  13.3s\n",
      "[CV] C=10.0, gamma=0.01, max_iter=10000.0 ............................\n",
      "[CV]  C=10.0, gamma=0.01, max_iter=1000.0, score=0.6917511674641699, total=  13.7s\n",
      "[CV] C=10.0, gamma=0.01, max_iter=10000.0 ............................\n",
      "[CV]  C=10.0, gamma=0.01, max_iter=1000.0, score=0.7396286901750457, total=  13.3s\n",
      "[CV] C=10.0, gamma=0.01, max_iter=10000.0 ............................\n",
      "[CV]  C=10.0, gamma=0.01, max_iter=1000.0, score=0.7097832163750774, total=  13.4s\n",
      "[CV] C=10.0, gamma=0.01, max_iter=10000.0 ............................\n",
      "[CV]  C=10.0, gamma=0.0001, max_iter=10000.0, score=0.6911380506752555, total=  58.4s\n",
      "[CV] C=10.0, gamma=0.1, max_iter=10.0 ................................\n"
     ]
    },
    {
     "name": "stderr",
     "output_type": "stream",
     "text": [
      "/home/ubuntu/anaconda3/envs/tensorflow_p36/lib/python3.6/site-packages/sklearn/svm/base.py:218: ConvergenceWarning: Solver terminated early (max_iter=10).  Consider pre-processing your data with StandardScaler or MinMaxScaler.\n",
      "  % self.max_iter, ConvergenceWarning)\n"
     ]
    },
    {
     "name": "stdout",
     "output_type": "stream",
     "text": [
      "[CV]  C=10.0, gamma=0.0001, max_iter=10000.0, score=0.6788522501601167, total=  58.5s\n",
      "[CV] C=10.0, gamma=0.1, max_iter=10.0 ................................\n",
      "[CV]  C=10.0, gamma=0.1, max_iter=10.0, score=0.4999999999999999, total=   0.3s\n",
      "[CV] C=10.0, gamma=0.1, max_iter=10.0 ................................\n",
      "[CV]  C=10.0, gamma=0.0001, max_iter=10000.0, score=0.6807477336895705, total=  59.2s\n"
     ]
    },
    {
     "name": "stderr",
     "output_type": "stream",
     "text": [
      "[Parallel(n_jobs=-1)]: Done 418 tasks      | elapsed: 12.9min\n"
     ]
    },
    {
     "name": "stdout",
     "output_type": "stream",
     "text": [
      "[CV] C=10.0, gamma=0.1, max_iter=10.0 ................................\n"
     ]
    },
    {
     "name": "stderr",
     "output_type": "stream",
     "text": [
      "/home/ubuntu/anaconda3/envs/tensorflow_p36/lib/python3.6/site-packages/sklearn/svm/base.py:218: ConvergenceWarning: Solver terminated early (max_iter=10).  Consider pre-processing your data with StandardScaler or MinMaxScaler.\n",
      "  % self.max_iter, ConvergenceWarning)\n",
      "/home/ubuntu/anaconda3/envs/tensorflow_p36/lib/python3.6/site-packages/sklearn/svm/base.py:218: ConvergenceWarning: Solver terminated early (max_iter=10).  Consider pre-processing your data with StandardScaler or MinMaxScaler.\n",
      "  % self.max_iter, ConvergenceWarning)\n"
     ]
    },
    {
     "name": "stdout",
     "output_type": "stream",
     "text": [
      "[CV]  C=10.0, gamma=0.1, max_iter=10.0, score=0.6708640703930504, total=   0.3s\n",
      "[CV] C=10.0, gamma=0.1, max_iter=100.0 ...............................\n",
      "[CV]  C=10.0, gamma=0.1, max_iter=10.0, score=0.6830101046403937, total=   0.3s\n",
      "[CV] C=10.0, gamma=0.1, max_iter=100.0 ...............................\n"
     ]
    },
    {
     "name": "stderr",
     "output_type": "stream",
     "text": [
      "/home/ubuntu/anaconda3/envs/tensorflow_p36/lib/python3.6/site-packages/sklearn/svm/base.py:218: ConvergenceWarning: Solver terminated early (max_iter=10).  Consider pre-processing your data with StandardScaler or MinMaxScaler.\n",
      "  % self.max_iter, ConvergenceWarning)\n"
     ]
    },
    {
     "name": "stdout",
     "output_type": "stream",
     "text": [
      "[CV]  C=10.0, gamma=0.1, max_iter=10.0, score=0.7536646408237302, total=   0.3s\n",
      "[CV] C=10.0, gamma=0.1, max_iter=100.0 ...............................\n",
      "[CV]  C=10.0, gamma=0.0001, max_iter=10000.0, score=0.6844148708237149, total=  59.2s\n",
      "[CV] C=10.0, gamma=0.1, max_iter=100.0 ...............................\n"
     ]
    },
    {
     "name": "stderr",
     "output_type": "stream",
     "text": [
      "/home/ubuntu/anaconda3/envs/tensorflow_p36/lib/python3.6/site-packages/sklearn/svm/base.py:218: ConvergenceWarning: Solver terminated early (max_iter=100).  Consider pre-processing your data with StandardScaler or MinMaxScaler.\n",
      "  % self.max_iter, ConvergenceWarning)\n",
      "/home/ubuntu/anaconda3/envs/tensorflow_p36/lib/python3.6/site-packages/sklearn/svm/base.py:218: ConvergenceWarning: Solver terminated early (max_iter=100).  Consider pre-processing your data with StandardScaler or MinMaxScaler.\n",
      "  % self.max_iter, ConvergenceWarning)\n",
      "/home/ubuntu/anaconda3/envs/tensorflow_p36/lib/python3.6/site-packages/sklearn/svm/base.py:218: ConvergenceWarning: Solver terminated early (max_iter=100).  Consider pre-processing your data with StandardScaler or MinMaxScaler.\n",
      "  % self.max_iter, ConvergenceWarning)\n",
      "/home/ubuntu/anaconda3/envs/tensorflow_p36/lib/python3.6/site-packages/sklearn/svm/base.py:218: ConvergenceWarning: Solver terminated early (max_iter=100).  Consider pre-processing your data with StandardScaler or MinMaxScaler.\n",
      "  % self.max_iter, ConvergenceWarning)\n"
     ]
    },
    {
     "name": "stdout",
     "output_type": "stream",
     "text": [
      "[CV]  C=10.0, gamma=0.1, max_iter=100.0, score=0.6497265840180728, total=   1.5s\n",
      "[CV] C=10.0, gamma=0.1, max_iter=1000.0 ..............................\n",
      "[CV]  C=10.0, gamma=0.1, max_iter=100.0, score=0.72980646211643, total=   1.5s\n",
      "[CV] C=10.0, gamma=0.1, max_iter=1000.0 ..............................\n",
      "[CV]  C=10.0, gamma=0.1, max_iter=100.0, score=0.5048564938326214, total=   1.5s\n",
      "[CV] C=10.0, gamma=0.1, max_iter=1000.0 ..............................\n",
      "[CV]  C=10.0, gamma=0.1, max_iter=100.0, score=0.7465941571556489, total=   1.4s\n",
      "[CV] C=10.0, gamma=0.1, max_iter=1000.0 ..............................\n",
      "[CV]  C=10.0, gamma=0.001, max_iter=10000.0, score=0.7217773891968354, total=  49.6s\n",
      "[CV] C=10.0, gamma=0.1, max_iter=10000.0 .............................\n",
      "[CV]  C=10.0, gamma=0.001, max_iter=10000.0, score=0.7352411991531685, total=  49.9s\n",
      "[CV] C=10.0, gamma=0.1, max_iter=10000.0 .............................\n",
      "[CV]  C=10.0, gamma=0.001, max_iter=10000.0, score=0.7343429142341961, total=  50.6s\n",
      "[CV] C=10.0, gamma=0.1, max_iter=10000.0 .............................\n"
     ]
    },
    {
     "name": "stderr",
     "output_type": "stream",
     "text": [
      "/home/ubuntu/anaconda3/envs/tensorflow_p36/lib/python3.6/site-packages/sklearn/svm/base.py:218: ConvergenceWarning: Solver terminated early (max_iter=1000).  Consider pre-processing your data with StandardScaler or MinMaxScaler.\n",
      "  % self.max_iter, ConvergenceWarning)\n",
      "/home/ubuntu/anaconda3/envs/tensorflow_p36/lib/python3.6/site-packages/sklearn/svm/base.py:218: ConvergenceWarning: Solver terminated early (max_iter=1000).  Consider pre-processing your data with StandardScaler or MinMaxScaler.\n",
      "  % self.max_iter, ConvergenceWarning)\n",
      "/home/ubuntu/anaconda3/envs/tensorflow_p36/lib/python3.6/site-packages/sklearn/svm/base.py:218: ConvergenceWarning: Solver terminated early (max_iter=1000).  Consider pre-processing your data with StandardScaler or MinMaxScaler.\n",
      "  % self.max_iter, ConvergenceWarning)\n",
      "/home/ubuntu/anaconda3/envs/tensorflow_p36/lib/python3.6/site-packages/sklearn/svm/base.py:218: ConvergenceWarning: Solver terminated early (max_iter=1000).  Consider pre-processing your data with StandardScaler or MinMaxScaler.\n",
      "  % self.max_iter, ConvergenceWarning)\n"
     ]
    },
    {
     "name": "stdout",
     "output_type": "stream",
     "text": [
      "[CV]  C=10.0, gamma=0.001, max_iter=10000.0, score=0.7321859444283176, total=  50.7s\n",
      "[CV] C=10.0, gamma=0.1, max_iter=10000.0 .............................\n",
      "[CV]  C=10.0, gamma=0.1, max_iter=1000.0, score=0.6097570293985289, total=  13.0s\n",
      "[CV] C=10.0, gamma=1.0, max_iter=10.0 ................................\n",
      "[CV]  C=10.0, gamma=0.1, max_iter=1000.0, score=0.6703099969742906, total=  13.1s\n"
     ]
    },
    {
     "name": "stderr",
     "output_type": "stream",
     "text": [
      "/home/ubuntu/anaconda3/envs/tensorflow_p36/lib/python3.6/site-packages/sklearn/svm/base.py:218: ConvergenceWarning: Solver terminated early (max_iter=10).  Consider pre-processing your data with StandardScaler or MinMaxScaler.\n",
      "  % self.max_iter, ConvergenceWarning)\n"
     ]
    },
    {
     "name": "stdout",
     "output_type": "stream",
     "text": [
      "[CV] C=10.0, gamma=1.0, max_iter=10.0 ................................\n",
      "[CV]  C=10.0, gamma=1.0, max_iter=10.0, score=0.5015286918835088, total=   0.3s\n",
      "[CV] C=10.0, gamma=1.0, max_iter=10.0 ................................\n",
      "[CV]  C=10.0, gamma=0.1, max_iter=1000.0, score=0.6287578142844255, total=  13.5s\n",
      "[CV] C=10.0, gamma=1.0, max_iter=10.0 ................................\n"
     ]
    },
    {
     "name": "stderr",
     "output_type": "stream",
     "text": [
      "/home/ubuntu/anaconda3/envs/tensorflow_p36/lib/python3.6/site-packages/sklearn/svm/base.py:218: ConvergenceWarning: Solver terminated early (max_iter=10).  Consider pre-processing your data with StandardScaler or MinMaxScaler.\n",
      "  % self.max_iter, ConvergenceWarning)\n"
     ]
    },
    {
     "name": "stdout",
     "output_type": "stream",
     "text": [
      "[CV]  C=10.0, gamma=1.0, max_iter=10.0, score=0.5022852168757785, total=   0.3s\n",
      "[CV] C=10.0, gamma=1.0, max_iter=100.0 ...............................\n"
     ]
    },
    {
     "name": "stderr",
     "output_type": "stream",
     "text": [
      "/home/ubuntu/anaconda3/envs/tensorflow_p36/lib/python3.6/site-packages/sklearn/svm/base.py:218: ConvergenceWarning: Solver terminated early (max_iter=10).  Consider pre-processing your data with StandardScaler or MinMaxScaler.\n",
      "  % self.max_iter, ConvergenceWarning)\n",
      "/home/ubuntu/anaconda3/envs/tensorflow_p36/lib/python3.6/site-packages/sklearn/svm/base.py:218: ConvergenceWarning: Solver terminated early (max_iter=10).  Consider pre-processing your data with StandardScaler or MinMaxScaler.\n",
      "  % self.max_iter, ConvergenceWarning)\n"
     ]
    },
    {
     "name": "stdout",
     "output_type": "stream",
     "text": [
      "[CV]  C=10.0, gamma=1.0, max_iter=10.0, score=0.503174498953289, total=   0.3s\n",
      "[CV] C=10.0, gamma=1.0, max_iter=100.0 ...............................\n",
      "[CV]  C=10.0, gamma=1.0, max_iter=10.0, score=0.5626724999884809, total=   0.3s\n",
      "[CV] C=10.0, gamma=1.0, max_iter=100.0 ...............................\n",
      "[CV]  C=10.0, gamma=0.1, max_iter=1000.0, score=0.7038610047505173, total=  13.5s\n",
      "[CV] C=10.0, gamma=1.0, max_iter=100.0 ...............................\n"
     ]
    },
    {
     "name": "stderr",
     "output_type": "stream",
     "text": [
      "/home/ubuntu/anaconda3/envs/tensorflow_p36/lib/python3.6/site-packages/sklearn/svm/base.py:218: ConvergenceWarning: Solver terminated early (max_iter=100).  Consider pre-processing your data with StandardScaler or MinMaxScaler.\n",
      "  % self.max_iter, ConvergenceWarning)\n",
      "/home/ubuntu/anaconda3/envs/tensorflow_p36/lib/python3.6/site-packages/sklearn/svm/base.py:218: ConvergenceWarning: Solver terminated early (max_iter=100).  Consider pre-processing your data with StandardScaler or MinMaxScaler.\n",
      "  % self.max_iter, ConvergenceWarning)\n",
      "/home/ubuntu/anaconda3/envs/tensorflow_p36/lib/python3.6/site-packages/sklearn/svm/base.py:218: ConvergenceWarning: Solver terminated early (max_iter=100).  Consider pre-processing your data with StandardScaler or MinMaxScaler.\n",
      "  % self.max_iter, ConvergenceWarning)\n",
      "/home/ubuntu/anaconda3/envs/tensorflow_p36/lib/python3.6/site-packages/sklearn/svm/base.py:218: ConvergenceWarning: Solver terminated early (max_iter=100).  Consider pre-processing your data with StandardScaler or MinMaxScaler.\n",
      "  % self.max_iter, ConvergenceWarning)\n"
     ]
    },
    {
     "name": "stdout",
     "output_type": "stream",
     "text": [
      "[CV]  C=10.0, gamma=1.0, max_iter=100.0, score=0.5261582991203472, total=   1.4s\n",
      "[CV] C=10.0, gamma=1.0, max_iter=1000.0 ..............................\n",
      "[CV]  C=10.0, gamma=1.0, max_iter=100.0, score=0.5182838468591755, total=   1.3s\n",
      "[CV] C=10.0, gamma=1.0, max_iter=1000.0 ..............................\n",
      "[CV]  C=10.0, gamma=1.0, max_iter=100.0, score=0.5151241308765189, total=   1.3s\n",
      "[CV] C=10.0, gamma=1.0, max_iter=1000.0 ..............................\n",
      "[CV]  C=10.0, gamma=1.0, max_iter=100.0, score=0.5062228626896251, total=   1.2s\n",
      "[CV] C=10.0, gamma=1.0, max_iter=1000.0 ..............................\n",
      "[CV]  C=1.0, gamma=10.0, max_iter=10000.0, score=0.6914579004034791, total= 1.7min\n",
      "[CV] C=10.0, gamma=1.0, max_iter=10000.0 .............................\n",
      "[CV]  C=1.0, gamma=10.0, max_iter=10000.0, score=0.688039578428075, total= 1.7min\n",
      "[CV] C=10.0, gamma=1.0, max_iter=10000.0 .............................\n",
      "[CV]  C=1.0, gamma=10.0, max_iter=10000.0, score=0.6929706468893533, total= 1.7min\n",
      "[CV] C=10.0, gamma=1.0, max_iter=10000.0 .............................\n",
      "[CV]  C=1.0, gamma=10.0, max_iter=10000.0, score=0.6892861476269686, total= 1.7min\n",
      "[CV] C=10.0, gamma=1.0, max_iter=10000.0 .............................\n"
     ]
    },
    {
     "name": "stderr",
     "output_type": "stream",
     "text": [
      "/home/ubuntu/anaconda3/envs/tensorflow_p36/lib/python3.6/site-packages/sklearn/svm/base.py:218: ConvergenceWarning: Solver terminated early (max_iter=1000).  Consider pre-processing your data with StandardScaler or MinMaxScaler.\n",
      "  % self.max_iter, ConvergenceWarning)\n",
      "/home/ubuntu/anaconda3/envs/tensorflow_p36/lib/python3.6/site-packages/sklearn/svm/base.py:218: ConvergenceWarning: Solver terminated early (max_iter=1000).  Consider pre-processing your data with StandardScaler or MinMaxScaler.\n",
      "  % self.max_iter, ConvergenceWarning)\n",
      "/home/ubuntu/anaconda3/envs/tensorflow_p36/lib/python3.6/site-packages/sklearn/svm/base.py:218: ConvergenceWarning: Solver terminated early (max_iter=1000).  Consider pre-processing your data with StandardScaler or MinMaxScaler.\n",
      "  % self.max_iter, ConvergenceWarning)\n",
      "/home/ubuntu/anaconda3/envs/tensorflow_p36/lib/python3.6/site-packages/sklearn/svm/base.py:218: ConvergenceWarning: Solver terminated early (max_iter=1000).  Consider pre-processing your data with StandardScaler or MinMaxScaler.\n",
      "  % self.max_iter, ConvergenceWarning)\n"
     ]
    },
    {
     "name": "stdout",
     "output_type": "stream",
     "text": [
      "[CV]  C=10.0, gamma=1.0, max_iter=1000.0, score=0.5977838814128955, total=  12.6s\n",
      "[CV] C=10.0, gamma=10.0, max_iter=10.0 ...............................\n"
     ]
    },
    {
     "name": "stderr",
     "output_type": "stream",
     "text": [
      "[Parallel(n_jobs=-1)]: Done 449 tasks      | elapsed: 13.6min\n",
      "/home/ubuntu/anaconda3/envs/tensorflow_p36/lib/python3.6/site-packages/sklearn/svm/base.py:218: ConvergenceWarning: Solver terminated early (max_iter=10).  Consider pre-processing your data with StandardScaler or MinMaxScaler.\n",
      "  % self.max_iter, ConvergenceWarning)\n"
     ]
    },
    {
     "name": "stdout",
     "output_type": "stream",
     "text": [
      "[CV]  C=10.0, gamma=10.0, max_iter=10.0, score=0.5011459670902743, total=   0.3s\n",
      "[CV] C=10.0, gamma=10.0, max_iter=10.0 ...............................\n",
      "[CV]  C=10.0, gamma=1.0, max_iter=1000.0, score=0.6057738827529962, total=  12.7s\n",
      "[CV] C=10.0, gamma=10.0, max_iter=10.0 ...............................\n"
     ]
    },
    {
     "name": "stderr",
     "output_type": "stream",
     "text": [
      "/home/ubuntu/anaconda3/envs/tensorflow_p36/lib/python3.6/site-packages/sklearn/svm/base.py:218: ConvergenceWarning: Solver terminated early (max_iter=10).  Consider pre-processing your data with StandardScaler or MinMaxScaler.\n",
      "  % self.max_iter, ConvergenceWarning)\n"
     ]
    },
    {
     "name": "stdout",
     "output_type": "stream",
     "text": [
      "[CV]  C=10.0, gamma=1.0, max_iter=1000.0, score=0.587235653606968, total=  12.8s\n",
      "[CV]  C=10.0, gamma=1.0, max_iter=1000.0, score=0.604487188348101, total=  13.1s\n",
      "[CV] C=10.0, gamma=10.0, max_iter=10.0 ...............................\n",
      "[CV] C=10.0, gamma=10.0, max_iter=100.0 ..............................\n",
      "[CV]  C=10.0, gamma=10.0, max_iter=10.0, score=0.5006348997906579, total=   0.3s\n",
      "[CV] C=10.0, gamma=10.0, max_iter=100.0 ..............................\n"
     ]
    },
    {
     "name": "stderr",
     "output_type": "stream",
     "text": [
      "/home/ubuntu/anaconda3/envs/tensorflow_p36/lib/python3.6/site-packages/sklearn/svm/base.py:218: ConvergenceWarning: Solver terminated early (max_iter=10).  Consider pre-processing your data with StandardScaler or MinMaxScaler.\n",
      "  % self.max_iter, ConvergenceWarning)\n"
     ]
    },
    {
     "name": "stdout",
     "output_type": "stream",
     "text": [
      "[CV]  C=10.0, gamma=10.0, max_iter=10.0, score=0.5016503170851208, total=   0.3s\n",
      "[CV] C=10.0, gamma=10.0, max_iter=100.0 ..............................\n"
     ]
    },
    {
     "name": "stderr",
     "output_type": "stream",
     "text": [
      "/home/ubuntu/anaconda3/envs/tensorflow_p36/lib/python3.6/site-packages/sklearn/svm/base.py:218: ConvergenceWarning: Solver terminated early (max_iter=10).  Consider pre-processing your data with StandardScaler or MinMaxScaler.\n",
      "  % self.max_iter, ConvergenceWarning)\n"
     ]
    },
    {
     "name": "stdout",
     "output_type": "stream",
     "text": [
      "[CV]  C=10.0, gamma=10.0, max_iter=10.0, score=0.5062228626896252, total=   0.3s\n",
      "[CV] C=10.0, gamma=10.0, max_iter=100.0 ..............................\n"
     ]
    },
    {
     "name": "stderr",
     "output_type": "stream",
     "text": [
      "/home/ubuntu/anaconda3/envs/tensorflow_p36/lib/python3.6/site-packages/sklearn/svm/base.py:218: ConvergenceWarning: Solver terminated early (max_iter=100).  Consider pre-processing your data with StandardScaler or MinMaxScaler.\n",
      "  % self.max_iter, ConvergenceWarning)\n",
      "/home/ubuntu/anaconda3/envs/tensorflow_p36/lib/python3.6/site-packages/sklearn/svm/base.py:218: ConvergenceWarning: Solver terminated early (max_iter=100).  Consider pre-processing your data with StandardScaler or MinMaxScaler.\n",
      "  % self.max_iter, ConvergenceWarning)\n",
      "/home/ubuntu/anaconda3/envs/tensorflow_p36/lib/python3.6/site-packages/sklearn/svm/base.py:218: ConvergenceWarning: Solver terminated early (max_iter=100).  Consider pre-processing your data with StandardScaler or MinMaxScaler.\n",
      "  % self.max_iter, ConvergenceWarning)\n"
     ]
    },
    {
     "name": "stdout",
     "output_type": "stream",
     "text": [
      "[CV]  C=10.0, gamma=10.0, max_iter=100.0, score=0.4973275483156461, total=   1.1s\n",
      "[CV] C=10.0, gamma=10.0, max_iter=1000.0 .............................\n"
     ]
    },
    {
     "name": "stderr",
     "output_type": "stream",
     "text": [
      "/home/ubuntu/anaconda3/envs/tensorflow_p36/lib/python3.6/site-packages/sklearn/svm/base.py:218: ConvergenceWarning: Solver terminated early (max_iter=100).  Consider pre-processing your data with StandardScaler or MinMaxScaler.\n",
      "  % self.max_iter, ConvergenceWarning)\n"
     ]
    },
    {
     "name": "stdout",
     "output_type": "stream",
     "text": [
      "[CV]  C=10.0, gamma=10.0, max_iter=100.0, score=0.48768674539654455, total=   1.2s\n",
      "[CV] C=10.0, gamma=10.0, max_iter=1000.0 .............................\n",
      "[CV]  C=10.0, gamma=10.0, max_iter=100.0, score=0.5234849566954954, total=   1.4s\n",
      "[CV] C=10.0, gamma=10.0, max_iter=1000.0 .............................\n",
      "[CV]  C=10.0, gamma=10.0, max_iter=100.0, score=0.49566283000582095, total=   1.5s\n",
      "[CV] C=10.0, gamma=10.0, max_iter=1000.0 .............................\n"
     ]
    },
    {
     "name": "stderr",
     "output_type": "stream",
     "text": [
      "/home/ubuntu/anaconda3/envs/tensorflow_p36/lib/python3.6/site-packages/sklearn/svm/base.py:218: ConvergenceWarning: Solver terminated early (max_iter=10000).  Consider pre-processing your data with StandardScaler or MinMaxScaler.\n",
      "  % self.max_iter, ConvergenceWarning)\n",
      "/home/ubuntu/anaconda3/envs/tensorflow_p36/lib/python3.6/site-packages/sklearn/svm/base.py:218: ConvergenceWarning: Solver terminated early (max_iter=10000).  Consider pre-processing your data with StandardScaler or MinMaxScaler.\n",
      "  % self.max_iter, ConvergenceWarning)\n",
      "/home/ubuntu/anaconda3/envs/tensorflow_p36/lib/python3.6/site-packages/sklearn/svm/base.py:218: ConvergenceWarning: Solver terminated early (max_iter=10000).  Consider pre-processing your data with StandardScaler or MinMaxScaler.\n",
      "  % self.max_iter, ConvergenceWarning)\n",
      "/home/ubuntu/anaconda3/envs/tensorflow_p36/lib/python3.6/site-packages/sklearn/svm/base.py:218: ConvergenceWarning: Solver terminated early (max_iter=1000).  Consider pre-processing your data with StandardScaler or MinMaxScaler.\n",
      "  % self.max_iter, ConvergenceWarning)\n",
      "/home/ubuntu/anaconda3/envs/tensorflow_p36/lib/python3.6/site-packages/sklearn/svm/base.py:218: ConvergenceWarning: Solver terminated early (max_iter=1000).  Consider pre-processing your data with StandardScaler or MinMaxScaler.\n",
      "  % self.max_iter, ConvergenceWarning)\n",
      "/home/ubuntu/anaconda3/envs/tensorflow_p36/lib/python3.6/site-packages/sklearn/svm/base.py:218: ConvergenceWarning: Solver terminated early (max_iter=1000).  Consider pre-processing your data with StandardScaler or MinMaxScaler.\n",
      "  % self.max_iter, ConvergenceWarning)\n",
      "/home/ubuntu/anaconda3/envs/tensorflow_p36/lib/python3.6/site-packages/sklearn/svm/base.py:218: ConvergenceWarning: Solver terminated early (max_iter=1000).  Consider pre-processing your data with StandardScaler or MinMaxScaler.\n",
      "  % self.max_iter, ConvergenceWarning)\n",
      "/home/ubuntu/anaconda3/envs/tensorflow_p36/lib/python3.6/site-packages/sklearn/svm/base.py:218: ConvergenceWarning: Solver terminated early (max_iter=10000).  Consider pre-processing your data with StandardScaler or MinMaxScaler.\n",
      "  % self.max_iter, ConvergenceWarning)\n"
     ]
    },
    {
     "name": "stdout",
     "output_type": "stream",
     "text": [
      "[CV]  C=10.0, gamma=0.01, max_iter=10000.0, score=0.7293771800082017, total=  50.4s\n",
      "[CV]  C=10.0, gamma=0.01, max_iter=10000.0, score=0.739280922685369, total=  50.9s\n",
      "[CV] C=10.0, gamma=10.0, max_iter=10000.0 ............................\n",
      "[CV] C=10.0, gamma=10.0, max_iter=10000.0 ............................\n",
      "[CV]  C=10.0, gamma=0.01, max_iter=10000.0, score=0.7386378471694259, total=  50.3s\n",
      "[CV] C=10.0, gamma=10.0, max_iter=10000.0 ............................\n",
      "[CV]  C=10.0, gamma=0.01, max_iter=10000.0, score=0.7343175719988265, total=  51.1s\n",
      "[CV] C=10.0, gamma=10.0, max_iter=10000.0 ............................\n",
      "[CV]  C=10.0, gamma=10.0, max_iter=1000.0, score=0.5875027070115054, total=  10.6s\n",
      "[CV] C=100.0, gamma=0.0001, max_iter=10.0 ............................\n"
     ]
    },
    {
     "name": "stderr",
     "output_type": "stream",
     "text": [
      "/home/ubuntu/anaconda3/envs/tensorflow_p36/lib/python3.6/site-packages/sklearn/svm/base.py:218: ConvergenceWarning: Solver terminated early (max_iter=10).  Consider pre-processing your data with StandardScaler or MinMaxScaler.\n",
      "  % self.max_iter, ConvergenceWarning)\n"
     ]
    },
    {
     "name": "stdout",
     "output_type": "stream",
     "text": [
      "[CV]  C=100.0, gamma=0.0001, max_iter=10.0, score=0.6625790545507589, total=   0.2s\n",
      "[CV] C=100.0, gamma=0.0001, max_iter=10.0 ............................\n",
      "[CV]  C=10.0, gamma=10.0, max_iter=1000.0, score=0.5534893954264177, total=  10.6s\n",
      "[CV] C=100.0, gamma=0.0001, max_iter=10.0 ............................\n"
     ]
    },
    {
     "name": "stderr",
     "output_type": "stream",
     "text": [
      "/home/ubuntu/anaconda3/envs/tensorflow_p36/lib/python3.6/site-packages/sklearn/svm/base.py:218: ConvergenceWarning: Solver terminated early (max_iter=10).  Consider pre-processing your data with StandardScaler or MinMaxScaler.\n",
      "  % self.max_iter, ConvergenceWarning)\n",
      "/home/ubuntu/anaconda3/envs/tensorflow_p36/lib/python3.6/site-packages/sklearn/svm/base.py:218: ConvergenceWarning: Solver terminated early (max_iter=10).  Consider pre-processing your data with StandardScaler or MinMaxScaler.\n",
      "  % self.max_iter, ConvergenceWarning)\n"
     ]
    },
    {
     "name": "stdout",
     "output_type": "stream",
     "text": [
      "[CV]  C=100.0, gamma=0.0001, max_iter=10.0, score=0.55013596493249, total=   0.3s\n",
      "[CV] C=100.0, gamma=0.0001, max_iter=10.0 ............................\n",
      "[CV]  C=10.0, gamma=10.0, max_iter=1000.0, score=0.6188825933155598, total=  11.5s\n",
      "[CV]  C=100.0, gamma=0.0001, max_iter=10.0, score=0.609799266457478, total=   0.3s\n",
      "[CV] C=100.0, gamma=0.0001, max_iter=100.0 ...........................\n",
      "[CV] C=100.0, gamma=0.0001, max_iter=100.0 ...........................\n"
     ]
    },
    {
     "name": "stderr",
     "output_type": "stream",
     "text": [
      "/home/ubuntu/anaconda3/envs/tensorflow_p36/lib/python3.6/site-packages/sklearn/svm/base.py:218: ConvergenceWarning: Solver terminated early (max_iter=10).  Consider pre-processing your data with StandardScaler or MinMaxScaler.\n",
      "  % self.max_iter, ConvergenceWarning)\n"
     ]
    },
    {
     "name": "stdout",
     "output_type": "stream",
     "text": [
      "[CV]  C=10.0, gamma=10.0, max_iter=1000.0, score=0.6211249418280506, total=  11.3s\n",
      "[CV] C=100.0, gamma=0.0001, max_iter=100.0 ...........................\n",
      "[CV]  C=100.0, gamma=0.0001, max_iter=10.0, score=0.722772071935087, total=   0.3s\n",
      "[CV] C=100.0, gamma=0.0001, max_iter=100.0 ...........................\n"
     ]
    },
    {
     "name": "stderr",
     "output_type": "stream",
     "text": [
      "/home/ubuntu/anaconda3/envs/tensorflow_p36/lib/python3.6/site-packages/sklearn/svm/base.py:218: ConvergenceWarning: Solver terminated early (max_iter=100).  Consider pre-processing your data with StandardScaler or MinMaxScaler.\n",
      "  % self.max_iter, ConvergenceWarning)\n",
      "/home/ubuntu/anaconda3/envs/tensorflow_p36/lib/python3.6/site-packages/sklearn/svm/base.py:218: ConvergenceWarning: Solver terminated early (max_iter=100).  Consider pre-processing your data with StandardScaler or MinMaxScaler.\n",
      "  % self.max_iter, ConvergenceWarning)\n",
      "/home/ubuntu/anaconda3/envs/tensorflow_p36/lib/python3.6/site-packages/sklearn/svm/base.py:218: ConvergenceWarning: Solver terminated early (max_iter=100).  Consider pre-processing your data with StandardScaler or MinMaxScaler.\n",
      "  % self.max_iter, ConvergenceWarning)\n",
      "/home/ubuntu/anaconda3/envs/tensorflow_p36/lib/python3.6/site-packages/sklearn/svm/base.py:218: ConvergenceWarning: Solver terminated early (max_iter=100).  Consider pre-processing your data with StandardScaler or MinMaxScaler.\n",
      "  % self.max_iter, ConvergenceWarning)\n"
     ]
    },
    {
     "name": "stdout",
     "output_type": "stream",
     "text": [
      "[CV]  C=100.0, gamma=0.0001, max_iter=100.0, score=0.5748637718545645, total=   1.5s\n",
      "[CV] C=100.0, gamma=0.0001, max_iter=1000.0 ..........................\n",
      "[CV]  C=100.0, gamma=0.0001, max_iter=100.0, score=0.6354548240096944, total=   1.5s\n",
      "[CV] C=100.0, gamma=0.0001, max_iter=1000.0 ..........................\n",
      "[CV]  C=100.0, gamma=0.0001, max_iter=100.0, score=0.7444673292509295, total=   1.5s\n",
      "[CV] C=100.0, gamma=0.0001, max_iter=1000.0 ..........................\n",
      "[CV]  C=100.0, gamma=0.0001, max_iter=100.0, score=0.7464474793691166, total=   1.4s\n",
      "[CV] C=100.0, gamma=0.0001, max_iter=1000.0 ..........................\n"
     ]
    },
    {
     "name": "stderr",
     "output_type": "stream",
     "text": [
      "/home/ubuntu/anaconda3/envs/tensorflow_p36/lib/python3.6/site-packages/sklearn/svm/base.py:218: ConvergenceWarning: Solver terminated early (max_iter=1000).  Consider pre-processing your data with StandardScaler or MinMaxScaler.\n",
      "  % self.max_iter, ConvergenceWarning)\n",
      "/home/ubuntu/anaconda3/envs/tensorflow_p36/lib/python3.6/site-packages/sklearn/svm/base.py:218: ConvergenceWarning: Solver terminated early (max_iter=1000).  Consider pre-processing your data with StandardScaler or MinMaxScaler.\n",
      "  % self.max_iter, ConvergenceWarning)\n",
      "/home/ubuntu/anaconda3/envs/tensorflow_p36/lib/python3.6/site-packages/sklearn/svm/base.py:218: ConvergenceWarning: Solver terminated early (max_iter=1000).  Consider pre-processing your data with StandardScaler or MinMaxScaler.\n",
      "  % self.max_iter, ConvergenceWarning)\n",
      "/home/ubuntu/anaconda3/envs/tensorflow_p36/lib/python3.6/site-packages/sklearn/svm/base.py:218: ConvergenceWarning: Solver terminated early (max_iter=1000).  Consider pre-processing your data with StandardScaler or MinMaxScaler.\n",
      "  % self.max_iter, ConvergenceWarning)\n"
     ]
    },
    {
     "name": "stdout",
     "output_type": "stream",
     "text": [
      "[CV]  C=10.0, gamma=0.1, max_iter=10000.0, score=0.7560683134511977, total=  46.2s\n",
      "[CV] C=100.0, gamma=0.0001, max_iter=10000.0 .........................\n",
      "[CV]  C=10.0, gamma=0.1, max_iter=10000.0, score=0.7630255987992345, total=  46.6s\n",
      "[CV] C=100.0, gamma=0.0001, max_iter=10000.0 .........................\n",
      "[CV]  C=10.0, gamma=0.1, max_iter=10000.0, score=0.7706456664009571, total=  45.9s\n",
      "[CV] C=100.0, gamma=0.0001, max_iter=10000.0 .........................\n",
      "[CV]  C=100.0, gamma=0.0001, max_iter=1000.0, score=0.7280907330312225, total=  13.6s\n",
      "[CV] C=100.0, gamma=0.0001, max_iter=10000.0 .........................\n"
     ]
    },
    {
     "name": "stderr",
     "output_type": "stream",
     "text": [
      "[Parallel(n_jobs=-1)]: Done 480 tasks      | elapsed: 14.3min\n"
     ]
    },
    {
     "name": "stdout",
     "output_type": "stream",
     "text": [
      "[CV]  C=100.0, gamma=0.0001, max_iter=1000.0, score=0.6945753793271867, total=  13.7s\n",
      "[CV] C=100.0, gamma=0.001, max_iter=10.0 .............................\n",
      "[CV]  C=100.0, gamma=0.0001, max_iter=1000.0, score=0.7380286735874008, total=  13.4s\n",
      "[CV]  C=100.0, gamma=0.0001, max_iter=1000.0, score=0.6604223014743038, total=  13.8s\n",
      "[CV] C=100.0, gamma=0.001, max_iter=10.0 .............................\n",
      "[CV] C=100.0, gamma=0.001, max_iter=10.0 .............................\n"
     ]
    },
    {
     "name": "stderr",
     "output_type": "stream",
     "text": [
      "/home/ubuntu/anaconda3/envs/tensorflow_p36/lib/python3.6/site-packages/sklearn/svm/base.py:218: ConvergenceWarning: Solver terminated early (max_iter=10).  Consider pre-processing your data with StandardScaler or MinMaxScaler.\n",
      "  % self.max_iter, ConvergenceWarning)\n"
     ]
    },
    {
     "name": "stdout",
     "output_type": "stream",
     "text": [
      "[CV]  C=100.0, gamma=0.001, max_iter=10.0, score=0.6652183968936718, total=   0.3s\n"
     ]
    },
    {
     "name": "stderr",
     "output_type": "stream",
     "text": [
      "/home/ubuntu/anaconda3/envs/tensorflow_p36/lib/python3.6/site-packages/sklearn/svm/base.py:218: ConvergenceWarning: Solver terminated early (max_iter=10).  Consider pre-processing your data with StandardScaler or MinMaxScaler.\n",
      "  % self.max_iter, ConvergenceWarning)\n"
     ]
    },
    {
     "name": "stdout",
     "output_type": "stream",
     "text": [
      "[CV] C=100.0, gamma=0.001, max_iter=10.0 .............................\n"
     ]
    },
    {
     "name": "stderr",
     "output_type": "stream",
     "text": [
      "/home/ubuntu/anaconda3/envs/tensorflow_p36/lib/python3.6/site-packages/sklearn/svm/base.py:218: ConvergenceWarning: Solver terminated early (max_iter=10).  Consider pre-processing your data with StandardScaler or MinMaxScaler.\n",
      "  % self.max_iter, ConvergenceWarning)\n"
     ]
    },
    {
     "name": "stdout",
     "output_type": "stream",
     "text": [
      "[CV]  C=100.0, gamma=0.001, max_iter=10.0, score=0.5504571585671346, total=   0.3s\n",
      "[CV] C=100.0, gamma=0.001, max_iter=100.0 ............................\n",
      "[CV]  C=100.0, gamma=0.001, max_iter=10.0, score=0.46832585353416667, total=   0.3s\n",
      "[CV] C=100.0, gamma=0.001, max_iter=100.0 ............................\n"
     ]
    },
    {
     "name": "stderr",
     "output_type": "stream",
     "text": [
      "/home/ubuntu/anaconda3/envs/tensorflow_p36/lib/python3.6/site-packages/sklearn/svm/base.py:218: ConvergenceWarning: Solver terminated early (max_iter=10).  Consider pre-processing your data with StandardScaler or MinMaxScaler.\n",
      "  % self.max_iter, ConvergenceWarning)\n"
     ]
    },
    {
     "name": "stdout",
     "output_type": "stream",
     "text": [
      "[CV]  C=100.0, gamma=0.001, max_iter=10.0, score=0.7181050689078418, total=   0.3s\n",
      "[CV] C=100.0, gamma=0.001, max_iter=100.0 ............................\n",
      "[CV]  C=10.0, gamma=0.1, max_iter=10000.0, score=0.7616372696736382, total=  46.0s\n",
      "[CV] C=100.0, gamma=0.001, max_iter=100.0 ............................\n"
     ]
    },
    {
     "name": "stderr",
     "output_type": "stream",
     "text": [
      "/home/ubuntu/anaconda3/envs/tensorflow_p36/lib/python3.6/site-packages/sklearn/svm/base.py:218: ConvergenceWarning: Solver terminated early (max_iter=100).  Consider pre-processing your data with StandardScaler or MinMaxScaler.\n",
      "  % self.max_iter, ConvergenceWarning)\n",
      "/home/ubuntu/anaconda3/envs/tensorflow_p36/lib/python3.6/site-packages/sklearn/svm/base.py:218: ConvergenceWarning: Solver terminated early (max_iter=100).  Consider pre-processing your data with StandardScaler or MinMaxScaler.\n",
      "  % self.max_iter, ConvergenceWarning)\n",
      "/home/ubuntu/anaconda3/envs/tensorflow_p36/lib/python3.6/site-packages/sklearn/svm/base.py:218: ConvergenceWarning: Solver terminated early (max_iter=100).  Consider pre-processing your data with StandardScaler or MinMaxScaler.\n",
      "  % self.max_iter, ConvergenceWarning)\n"
     ]
    },
    {
     "name": "stdout",
     "output_type": "stream",
     "text": [
      "[CV]  C=100.0, gamma=0.001, max_iter=100.0, score=0.682003105560258, total=   1.4s\n",
      "[CV] C=100.0, gamma=0.001, max_iter=1000.0 ...........................\n",
      "[CV]  C=100.0, gamma=0.001, max_iter=100.0, score=0.7451586731112739, total=   1.5s\n",
      "[CV] C=100.0, gamma=0.001, max_iter=1000.0 ...........................\n"
     ]
    },
    {
     "name": "stderr",
     "output_type": "stream",
     "text": [
      "/home/ubuntu/anaconda3/envs/tensorflow_p36/lib/python3.6/site-packages/sklearn/svm/base.py:218: ConvergenceWarning: Solver terminated early (max_iter=100).  Consider pre-processing your data with StandardScaler or MinMaxScaler.\n",
      "  % self.max_iter, ConvergenceWarning)\n"
     ]
    },
    {
     "name": "stdout",
     "output_type": "stream",
     "text": [
      "[CV]  C=100.0, gamma=0.001, max_iter=100.0, score=0.6022033153787436, total=   1.4s\n",
      "[CV] C=100.0, gamma=0.001, max_iter=1000.0 ...........................\n",
      "[CV]  C=100.0, gamma=0.001, max_iter=100.0, score=0.7235141002661702, total=   1.3s\n",
      "[CV] C=100.0, gamma=0.001, max_iter=1000.0 ...........................\n"
     ]
    },
    {
     "name": "stderr",
     "output_type": "stream",
     "text": [
      "/home/ubuntu/anaconda3/envs/tensorflow_p36/lib/python3.6/site-packages/sklearn/svm/base.py:218: ConvergenceWarning: Solver terminated early (max_iter=10000).  Consider pre-processing your data with StandardScaler or MinMaxScaler.\n",
      "  % self.max_iter, ConvergenceWarning)\n",
      "/home/ubuntu/anaconda3/envs/tensorflow_p36/lib/python3.6/site-packages/sklearn/svm/base.py:218: ConvergenceWarning: Solver terminated early (max_iter=10000).  Consider pre-processing your data with StandardScaler or MinMaxScaler.\n",
      "  % self.max_iter, ConvergenceWarning)\n",
      "/home/ubuntu/anaconda3/envs/tensorflow_p36/lib/python3.6/site-packages/sklearn/svm/base.py:218: ConvergenceWarning: Solver terminated early (max_iter=10000).  Consider pre-processing your data with StandardScaler or MinMaxScaler.\n",
      "  % self.max_iter, ConvergenceWarning)\n",
      "/home/ubuntu/anaconda3/envs/tensorflow_p36/lib/python3.6/site-packages/sklearn/svm/base.py:218: ConvergenceWarning: Solver terminated early (max_iter=10000).  Consider pre-processing your data with StandardScaler or MinMaxScaler.\n",
      "  % self.max_iter, ConvergenceWarning)\n",
      "/home/ubuntu/anaconda3/envs/tensorflow_p36/lib/python3.6/site-packages/sklearn/svm/base.py:218: ConvergenceWarning: Solver terminated early (max_iter=1000).  Consider pre-processing your data with StandardScaler or MinMaxScaler.\n",
      "  % self.max_iter, ConvergenceWarning)\n",
      "/home/ubuntu/anaconda3/envs/tensorflow_p36/lib/python3.6/site-packages/sklearn/svm/base.py:218: ConvergenceWarning: Solver terminated early (max_iter=1000).  Consider pre-processing your data with StandardScaler or MinMaxScaler.\n",
      "  % self.max_iter, ConvergenceWarning)\n",
      "/home/ubuntu/anaconda3/envs/tensorflow_p36/lib/python3.6/site-packages/sklearn/svm/base.py:218: ConvergenceWarning: Solver terminated early (max_iter=1000).  Consider pre-processing your data with StandardScaler or MinMaxScaler.\n",
      "  % self.max_iter, ConvergenceWarning)\n",
      "/home/ubuntu/anaconda3/envs/tensorflow_p36/lib/python3.6/site-packages/sklearn/svm/base.py:218: ConvergenceWarning: Solver terminated early (max_iter=1000).  Consider pre-processing your data with StandardScaler or MinMaxScaler.\n",
      "  % self.max_iter, ConvergenceWarning)\n"
     ]
    },
    {
     "name": "stdout",
     "output_type": "stream",
     "text": [
      "[CV]  C=100.0, gamma=0.001, max_iter=1000.0, score=0.7010288179613476, total=  13.2s\n",
      "[CV] C=100.0, gamma=0.001, max_iter=10000.0 ..........................\n",
      "[CV]  C=100.0, gamma=0.001, max_iter=1000.0, score=0.7024097842422566, total=  13.3s\n",
      "[CV] C=100.0, gamma=0.001, max_iter=10000.0 ..........................\n",
      "[CV]  C=100.0, gamma=0.001, max_iter=1000.0, score=0.6644305983685743, total=  13.4s\n",
      "[CV] C=100.0, gamma=0.001, max_iter=10000.0 ..........................\n",
      "[CV]  C=100.0, gamma=0.001, max_iter=1000.0, score=0.6755268497144007, total=  13.5s\n",
      "[CV] C=100.0, gamma=0.001, max_iter=10000.0 ..........................\n",
      "[CV]  C=10.0, gamma=1.0, max_iter=10000.0, score=0.7336173059168791, total= 1.2min\n",
      "[CV] C=100.0, gamma=0.01, max_iter=10.0 ..............................\n",
      "[CV]  C=10.0, gamma=1.0, max_iter=10000.0, score=0.7307251181485731, total= 1.2min\n",
      "[CV] C=100.0, gamma=0.01, max_iter=10.0 ..............................\n"
     ]
    },
    {
     "name": "stderr",
     "output_type": "stream",
     "text": [
      "/home/ubuntu/anaconda3/envs/tensorflow_p36/lib/python3.6/site-packages/sklearn/svm/base.py:218: ConvergenceWarning: Solver terminated early (max_iter=10).  Consider pre-processing your data with StandardScaler or MinMaxScaler.\n",
      "  % self.max_iter, ConvergenceWarning)\n"
     ]
    },
    {
     "name": "stdout",
     "output_type": "stream",
     "text": [
      "[CV]  C=100.0, gamma=0.01, max_iter=10.0, score=0.5833280550325238, total=   0.3s\n",
      "[CV] C=100.0, gamma=0.01, max_iter=10.0 ..............................\n"
     ]
    },
    {
     "name": "stderr",
     "output_type": "stream",
     "text": [
      "/home/ubuntu/anaconda3/envs/tensorflow_p36/lib/python3.6/site-packages/sklearn/svm/base.py:218: ConvergenceWarning: Solver terminated early (max_iter=10).  Consider pre-processing your data with StandardScaler or MinMaxScaler.\n",
      "  % self.max_iter, ConvergenceWarning)\n"
     ]
    },
    {
     "name": "stdout",
     "output_type": "stream",
     "text": [
      "[CV]  C=100.0, gamma=0.01, max_iter=10.0, score=0.4842482648248237, total=   0.3s\n",
      "[CV] C=100.0, gamma=0.01, max_iter=10.0 ..............................\n"
     ]
    },
    {
     "name": "stderr",
     "output_type": "stream",
     "text": [
      "/home/ubuntu/anaconda3/envs/tensorflow_p36/lib/python3.6/site-packages/sklearn/svm/base.py:218: ConvergenceWarning: Solver terminated early (max_iter=10).  Consider pre-processing your data with StandardScaler or MinMaxScaler.\n",
      "  % self.max_iter, ConvergenceWarning)\n",
      "/home/ubuntu/anaconda3/envs/tensorflow_p36/lib/python3.6/site-packages/sklearn/svm/base.py:218: ConvergenceWarning: Solver terminated early (max_iter=10000).  Consider pre-processing your data with StandardScaler or MinMaxScaler.\n",
      "  % self.max_iter, ConvergenceWarning)\n",
      "/home/ubuntu/anaconda3/envs/tensorflow_p36/lib/python3.6/site-packages/sklearn/svm/base.py:218: ConvergenceWarning: Solver terminated early (max_iter=10000).  Consider pre-processing your data with StandardScaler or MinMaxScaler.\n",
      "  % self.max_iter, ConvergenceWarning)\n"
     ]
    },
    {
     "name": "stdout",
     "output_type": "stream",
     "text": [
      "[CV]  C=100.0, gamma=0.01, max_iter=10.0, score=0.5900407702810837, total=   0.3s\n"
     ]
    },
    {
     "name": "stderr",
     "output_type": "stream",
     "text": [
      "/home/ubuntu/anaconda3/envs/tensorflow_p36/lib/python3.6/site-packages/sklearn/svm/base.py:218: ConvergenceWarning: Solver terminated early (max_iter=10).  Consider pre-processing your data with StandardScaler or MinMaxScaler.\n",
      "  % self.max_iter, ConvergenceWarning)\n"
     ]
    },
    {
     "name": "stdout",
     "output_type": "stream",
     "text": [
      "[CV] C=100.0, gamma=0.01, max_iter=100.0 .............................\n",
      "[CV]  C=100.0, gamma=0.01, max_iter=10.0, score=0.4410326500145142, total=   0.3s\n",
      "[CV] C=100.0, gamma=0.01, max_iter=100.0 .............................\n",
      "[CV]  C=10.0, gamma=1.0, max_iter=10000.0, score=0.7241154023963005, total= 1.2min\n",
      "[CV] C=100.0, gamma=0.01, max_iter=100.0 .............................\n"
     ]
    },
    {
     "name": "stderr",
     "output_type": "stream",
     "text": [
      "/home/ubuntu/anaconda3/envs/tensorflow_p36/lib/python3.6/site-packages/sklearn/svm/base.py:218: ConvergenceWarning: Solver terminated early (max_iter=10000).  Consider pre-processing your data with StandardScaler or MinMaxScaler.\n",
      "  % self.max_iter, ConvergenceWarning)\n"
     ]
    },
    {
     "name": "stdout",
     "output_type": "stream",
     "text": [
      "[CV]  C=10.0, gamma=1.0, max_iter=10000.0, score=0.7294468711554677, total= 1.2min\n",
      "[CV] C=100.0, gamma=0.01, max_iter=100.0 .............................\n"
     ]
    },
    {
     "name": "stderr",
     "output_type": "stream",
     "text": [
      "/home/ubuntu/anaconda3/envs/tensorflow_p36/lib/python3.6/site-packages/sklearn/svm/base.py:218: ConvergenceWarning: Solver terminated early (max_iter=100).  Consider pre-processing your data with StandardScaler or MinMaxScaler.\n",
      "  % self.max_iter, ConvergenceWarning)\n",
      "/home/ubuntu/anaconda3/envs/tensorflow_p36/lib/python3.6/site-packages/sklearn/svm/base.py:218: ConvergenceWarning: Solver terminated early (max_iter=100).  Consider pre-processing your data with StandardScaler or MinMaxScaler.\n",
      "  % self.max_iter, ConvergenceWarning)\n",
      "/home/ubuntu/anaconda3/envs/tensorflow_p36/lib/python3.6/site-packages/sklearn/svm/base.py:218: ConvergenceWarning: Solver terminated early (max_iter=100).  Consider pre-processing your data with StandardScaler or MinMaxScaler.\n",
      "  % self.max_iter, ConvergenceWarning)\n"
     ]
    },
    {
     "name": "stdout",
     "output_type": "stream",
     "text": [
      "[CV]  C=100.0, gamma=0.01, max_iter=100.0, score=0.5521548902977151, total=   1.4s\n",
      "[CV]  C=100.0, gamma=0.01, max_iter=100.0, score=0.5639676418051659, total=   1.3s\n",
      "[CV] C=100.0, gamma=0.01, max_iter=1000.0 ............................\n",
      "[CV] C=100.0, gamma=0.01, max_iter=1000.0 ............................\n"
     ]
    },
    {
     "name": "stderr",
     "output_type": "stream",
     "text": [
      "/home/ubuntu/anaconda3/envs/tensorflow_p36/lib/python3.6/site-packages/sklearn/svm/base.py:218: ConvergenceWarning: Solver terminated early (max_iter=100).  Consider pre-processing your data with StandardScaler or MinMaxScaler.\n",
      "  % self.max_iter, ConvergenceWarning)\n",
      "/home/ubuntu/anaconda3/envs/tensorflow_p36/lib/python3.6/site-packages/sklearn/svm/base.py:218: ConvergenceWarning: Solver terminated early (max_iter=10000).  Consider pre-processing your data with StandardScaler or MinMaxScaler.\n",
      "  % self.max_iter, ConvergenceWarning)\n"
     ]
    },
    {
     "name": "stdout",
     "output_type": "stream",
     "text": [
      "[CV]  C=100.0, gamma=0.01, max_iter=100.0, score=0.4862234232905895, total=   1.4s\n",
      "[CV] C=100.0, gamma=0.01, max_iter=1000.0 ............................\n",
      "[CV]  C=100.0, gamma=0.01, max_iter=100.0, score=0.5926521724439284, total=   1.2s\n",
      "[CV] C=100.0, gamma=0.01, max_iter=1000.0 ............................\n"
     ]
    },
    {
     "name": "stderr",
     "output_type": "stream",
     "text": [
      "/home/ubuntu/anaconda3/envs/tensorflow_p36/lib/python3.6/site-packages/sklearn/svm/base.py:218: ConvergenceWarning: Solver terminated early (max_iter=10000).  Consider pre-processing your data with StandardScaler or MinMaxScaler.\n",
      "  % self.max_iter, ConvergenceWarning)\n",
      "/home/ubuntu/anaconda3/envs/tensorflow_p36/lib/python3.6/site-packages/sklearn/svm/base.py:218: ConvergenceWarning: Solver terminated early (max_iter=1000).  Consider pre-processing your data with StandardScaler or MinMaxScaler.\n",
      "  % self.max_iter, ConvergenceWarning)\n",
      "/home/ubuntu/anaconda3/envs/tensorflow_p36/lib/python3.6/site-packages/sklearn/svm/base.py:218: ConvergenceWarning: Solver terminated early (max_iter=1000).  Consider pre-processing your data with StandardScaler or MinMaxScaler.\n",
      "  % self.max_iter, ConvergenceWarning)\n",
      "/home/ubuntu/anaconda3/envs/tensorflow_p36/lib/python3.6/site-packages/sklearn/svm/base.py:218: ConvergenceWarning: Solver terminated early (max_iter=1000).  Consider pre-processing your data with StandardScaler or MinMaxScaler.\n",
      "  % self.max_iter, ConvergenceWarning)\n",
      "/home/ubuntu/anaconda3/envs/tensorflow_p36/lib/python3.6/site-packages/sklearn/svm/base.py:218: ConvergenceWarning: Solver terminated early (max_iter=1000).  Consider pre-processing your data with StandardScaler or MinMaxScaler.\n",
      "  % self.max_iter, ConvergenceWarning)\n"
     ]
    },
    {
     "name": "stdout",
     "output_type": "stream",
     "text": [
      "[CV]  C=100.0, gamma=0.0001, max_iter=10000.0, score=0.7353673025579605, total=  50.1s\n",
      "[CV] C=100.0, gamma=0.01, max_iter=10000.0 ...........................\n",
      "[CV]  C=100.0, gamma=0.0001, max_iter=10000.0, score=0.7231733239951036, total=  50.3s\n",
      "[CV] C=100.0, gamma=0.01, max_iter=10000.0 ...........................\n",
      "[CV]  C=100.0, gamma=0.0001, max_iter=10000.0, score=0.7339645085833383, total=  50.1s\n",
      "[CV] C=100.0, gamma=0.01, max_iter=10000.0 ...........................\n",
      "[CV]  C=100.0, gamma=0.0001, max_iter=10000.0, score=0.7316835154134547, total=  50.6s\n",
      "[CV] C=100.0, gamma=0.01, max_iter=10000.0 ...........................\n",
      "[CV]  C=100.0, gamma=0.01, max_iter=1000.0, score=0.6145044748244092, total=  12.4s\n",
      "[CV] C=100.0, gamma=0.1, max_iter=10.0 ...............................\n"
     ]
    },
    {
     "name": "stderr",
     "output_type": "stream",
     "text": [
      "[Parallel(n_jobs=-1)]: Done 513 tasks      | elapsed: 15.6min\n",
      "/home/ubuntu/anaconda3/envs/tensorflow_p36/lib/python3.6/site-packages/sklearn/svm/base.py:218: ConvergenceWarning: Solver terminated early (max_iter=10).  Consider pre-processing your data with StandardScaler or MinMaxScaler.\n",
      "  % self.max_iter, ConvergenceWarning)\n"
     ]
    },
    {
     "name": "stdout",
     "output_type": "stream",
     "text": [
      "[CV]  C=100.0, gamma=0.1, max_iter=10.0, score=0.6092471031725466, total=   0.3s\n",
      "[CV] C=100.0, gamma=0.1, max_iter=10.0 ...............................\n",
      "[CV]  C=100.0, gamma=0.01, max_iter=1000.0, score=0.6945001065257072, total=  12.9s\n",
      "[CV] C=100.0, gamma=0.1, max_iter=10.0 ...............................\n"
     ]
    },
    {
     "name": "stderr",
     "output_type": "stream",
     "text": [
      "/home/ubuntu/anaconda3/envs/tensorflow_p36/lib/python3.6/site-packages/sklearn/svm/base.py:218: ConvergenceWarning: Solver terminated early (max_iter=10).  Consider pre-processing your data with StandardScaler or MinMaxScaler.\n",
      "  % self.max_iter, ConvergenceWarning)\n"
     ]
    },
    {
     "name": "stdout",
     "output_type": "stream",
     "text": [
      "[CV]  C=100.0, gamma=0.1, max_iter=10.0, score=0.5153510590750545, total=   0.3s\n",
      "[CV] C=100.0, gamma=0.1, max_iter=10.0 ...............................\n"
     ]
    },
    {
     "name": "stderr",
     "output_type": "stream",
     "text": [
      "/home/ubuntu/anaconda3/envs/tensorflow_p36/lib/python3.6/site-packages/sklearn/svm/base.py:218: ConvergenceWarning: Solver terminated early (max_iter=10).  Consider pre-processing your data with StandardScaler or MinMaxScaler.\n",
      "  % self.max_iter, ConvergenceWarning)\n"
     ]
    },
    {
     "name": "stdout",
     "output_type": "stream",
     "text": [
      "[CV]  C=100.0, gamma=0.01, max_iter=1000.0, score=0.6596359242313239, total=  12.9s\n",
      "[CV] C=100.0, gamma=0.1, max_iter=100.0 ..............................\n",
      "[CV]  C=100.0, gamma=0.1, max_iter=10.0, score=0.6921256299081382, total=   0.3s\n",
      "[CV] C=100.0, gamma=0.1, max_iter=100.0 ..............................\n"
     ]
    },
    {
     "name": "stderr",
     "output_type": "stream",
     "text": [
      "/home/ubuntu/anaconda3/envs/tensorflow_p36/lib/python3.6/site-packages/sklearn/svm/base.py:218: ConvergenceWarning: Solver terminated early (max_iter=10).  Consider pre-processing your data with StandardScaler or MinMaxScaler.\n",
      "  % self.max_iter, ConvergenceWarning)\n"
     ]
    },
    {
     "name": "stdout",
     "output_type": "stream",
     "text": [
      "[CV]  C=100.0, gamma=0.1, max_iter=10.0, score=0.5621253380884583, total=   0.2s\n",
      "[CV] C=100.0, gamma=0.1, max_iter=100.0 ..............................\n",
      "[CV]  C=100.0, gamma=0.01, max_iter=1000.0, score=0.7448071455888384, total=  13.0s\n",
      "[CV] C=100.0, gamma=0.1, max_iter=100.0 ..............................\n"
     ]
    },
    {
     "name": "stderr",
     "output_type": "stream",
     "text": [
      "/home/ubuntu/anaconda3/envs/tensorflow_p36/lib/python3.6/site-packages/sklearn/svm/base.py:218: ConvergenceWarning: Solver terminated early (max_iter=100).  Consider pre-processing your data with StandardScaler or MinMaxScaler.\n",
      "  % self.max_iter, ConvergenceWarning)\n",
      "/home/ubuntu/anaconda3/envs/tensorflow_p36/lib/python3.6/site-packages/sklearn/svm/base.py:218: ConvergenceWarning: Solver terminated early (max_iter=100).  Consider pre-processing your data with StandardScaler or MinMaxScaler.\n",
      "  % self.max_iter, ConvergenceWarning)\n",
      "/home/ubuntu/anaconda3/envs/tensorflow_p36/lib/python3.6/site-packages/sklearn/svm/base.py:218: ConvergenceWarning: Solver terminated early (max_iter=100).  Consider pre-processing your data with StandardScaler or MinMaxScaler.\n",
      "  % self.max_iter, ConvergenceWarning)\n",
      "/home/ubuntu/anaconda3/envs/tensorflow_p36/lib/python3.6/site-packages/sklearn/svm/base.py:218: ConvergenceWarning: Solver terminated early (max_iter=100).  Consider pre-processing your data with StandardScaler or MinMaxScaler.\n",
      "  % self.max_iter, ConvergenceWarning)\n"
     ]
    },
    {
     "name": "stdout",
     "output_type": "stream",
     "text": [
      "[CV]  C=100.0, gamma=0.1, max_iter=100.0, score=0.64385461832127, total=   1.4s\n",
      "[CV] C=100.0, gamma=0.1, max_iter=1000.0 .............................\n",
      "[CV]  C=100.0, gamma=0.1, max_iter=100.0, score=0.5527974756061785, total=   1.4s\n",
      "[CV] C=100.0, gamma=0.1, max_iter=1000.0 .............................\n",
      "[CV]  C=100.0, gamma=0.1, max_iter=100.0, score=0.5505291535539798, total=   1.4s\n",
      "[CV] C=100.0, gamma=0.1, max_iter=1000.0 .............................\n",
      "[CV]  C=100.0, gamma=0.1, max_iter=100.0, score=0.7049059879862445, total=   1.3s\n",
      "[CV] C=100.0, gamma=0.1, max_iter=1000.0 .............................\n"
     ]
    },
    {
     "name": "stderr",
     "output_type": "stream",
     "text": [
      "/home/ubuntu/anaconda3/envs/tensorflow_p36/lib/python3.6/site-packages/sklearn/svm/base.py:218: ConvergenceWarning: Solver terminated early (max_iter=1000).  Consider pre-processing your data with StandardScaler or MinMaxScaler.\n",
      "  % self.max_iter, ConvergenceWarning)\n",
      "/home/ubuntu/anaconda3/envs/tensorflow_p36/lib/python3.6/site-packages/sklearn/svm/base.py:218: ConvergenceWarning: Solver terminated early (max_iter=1000).  Consider pre-processing your data with StandardScaler or MinMaxScaler.\n",
      "  % self.max_iter, ConvergenceWarning)\n",
      "/home/ubuntu/anaconda3/envs/tensorflow_p36/lib/python3.6/site-packages/sklearn/svm/base.py:218: ConvergenceWarning: Solver terminated early (max_iter=1000).  Consider pre-processing your data with StandardScaler or MinMaxScaler.\n",
      "  % self.max_iter, ConvergenceWarning)\n",
      "/home/ubuntu/anaconda3/envs/tensorflow_p36/lib/python3.6/site-packages/sklearn/svm/base.py:218: ConvergenceWarning: Solver terminated early (max_iter=1000).  Consider pre-processing your data with StandardScaler or MinMaxScaler.\n",
      "  % self.max_iter, ConvergenceWarning)\n"
     ]
    },
    {
     "name": "stdout",
     "output_type": "stream",
     "text": [
      "[CV]  C=100.0, gamma=0.001, max_iter=10000.0, score=0.7399118704566364, total=  51.8s\n",
      "[CV] C=100.0, gamma=0.1, max_iter=10000.0 ............................\n",
      "[CV]  C=100.0, gamma=0.001, max_iter=10000.0, score=0.7457629639866334, total=  51.9s\n",
      "[CV] C=100.0, gamma=0.1, max_iter=10000.0 ............................\n",
      "[CV]  C=100.0, gamma=0.001, max_iter=10000.0, score=0.7440975629984933, total=  51.5s\n",
      "[CV] C=100.0, gamma=0.1, max_iter=10000.0 ............................\n",
      "[CV]  C=100.0, gamma=0.001, max_iter=10000.0, score=0.7467654092310244, total=  52.5s\n",
      "[CV] C=100.0, gamma=0.1, max_iter=10000.0 ............................\n",
      "[CV]  C=100.0, gamma=0.1, max_iter=1000.0, score=0.7531293605962368, total=  13.1s\n",
      "[CV] C=100.0, gamma=1.0, max_iter=10.0 ...............................\n",
      "[CV]  C=100.0, gamma=0.1, max_iter=1000.0, score=0.714593633416118, total=  13.2s\n",
      "[CV] C=100.0, gamma=1.0, max_iter=10.0 ...............................\n",
      "[CV]  C=100.0, gamma=0.1, max_iter=1000.0, score=0.7039612217722054, total=  12.9s\n",
      "[CV] C=100.0, gamma=1.0, max_iter=10.0 ...............................\n"
     ]
    },
    {
     "name": "stderr",
     "output_type": "stream",
     "text": [
      "/home/ubuntu/anaconda3/envs/tensorflow_p36/lib/python3.6/site-packages/sklearn/svm/base.py:218: ConvergenceWarning: Solver terminated early (max_iter=10).  Consider pre-processing your data with StandardScaler or MinMaxScaler.\n",
      "  % self.max_iter, ConvergenceWarning)\n"
     ]
    },
    {
     "name": "stdout",
     "output_type": "stream",
     "text": [
      "[CV]  C=100.0, gamma=0.1, max_iter=1000.0, score=0.6141855850293433, total=  13.3s\n"
     ]
    },
    {
     "name": "stderr",
     "output_type": "stream",
     "text": [
      "/home/ubuntu/anaconda3/envs/tensorflow_p36/lib/python3.6/site-packages/sklearn/svm/base.py:218: ConvergenceWarning: Solver terminated early (max_iter=10).  Consider pre-processing your data with StandardScaler or MinMaxScaler.\n",
      "  % self.max_iter, ConvergenceWarning)\n"
     ]
    },
    {
     "name": "stdout",
     "output_type": "stream",
     "text": [
      "[CV] C=100.0, gamma=1.0, max_iter=10.0 ...............................\n",
      "[CV]  C=100.0, gamma=1.0, max_iter=10.0, score=0.500891552991261, total=   0.3s\n",
      "[CV] C=100.0, gamma=1.0, max_iter=100.0 ..............................\n",
      "[CV]  C=100.0, gamma=1.0, max_iter=10.0, score=0.5017764523020734, total=   0.3s\n"
     ]
    },
    {
     "name": "stderr",
     "output_type": "stream",
     "text": [
      "/home/ubuntu/anaconda3/envs/tensorflow_p36/lib/python3.6/site-packages/sklearn/svm/base.py:218: ConvergenceWarning: Solver terminated early (max_iter=10).  Consider pre-processing your data with StandardScaler or MinMaxScaler.\n",
      "  % self.max_iter, ConvergenceWarning)\n"
     ]
    },
    {
     "name": "stdout",
     "output_type": "stream",
     "text": [
      "[CV] C=100.0, gamma=1.0, max_iter=100.0 ..............................\n",
      "[CV]  C=100.0, gamma=1.0, max_iter=10.0, score=0.502159081658826, total=   0.3s\n",
      "[CV] C=100.0, gamma=1.0, max_iter=100.0 ..............................\n"
     ]
    },
    {
     "name": "stderr",
     "output_type": "stream",
     "text": [
      "/home/ubuntu/anaconda3/envs/tensorflow_p36/lib/python3.6/site-packages/sklearn/svm/base.py:218: ConvergenceWarning: Solver terminated early (max_iter=10).  Consider pre-processing your data with StandardScaler or MinMaxScaler.\n",
      "  % self.max_iter, ConvergenceWarning)\n"
     ]
    },
    {
     "name": "stdout",
     "output_type": "stream",
     "text": [
      "[CV]  C=100.0, gamma=1.0, max_iter=10.0, score=0.5049551749612571, total=   0.3s\n",
      "[CV] C=100.0, gamma=1.0, max_iter=100.0 ..............................\n"
     ]
    },
    {
     "name": "stderr",
     "output_type": "stream",
     "text": [
      "/home/ubuntu/anaconda3/envs/tensorflow_p36/lib/python3.6/site-packages/sklearn/svm/base.py:218: ConvergenceWarning: Solver terminated early (max_iter=100).  Consider pre-processing your data with StandardScaler or MinMaxScaler.\n",
      "  % self.max_iter, ConvergenceWarning)\n",
      "/home/ubuntu/anaconda3/envs/tensorflow_p36/lib/python3.6/site-packages/sklearn/svm/base.py:218: ConvergenceWarning: Solver terminated early (max_iter=100).  Consider pre-processing your data with StandardScaler or MinMaxScaler.\n",
      "  % self.max_iter, ConvergenceWarning)\n",
      "/home/ubuntu/anaconda3/envs/tensorflow_p36/lib/python3.6/site-packages/sklearn/svm/base.py:218: ConvergenceWarning: Solver terminated early (max_iter=100).  Consider pre-processing your data with StandardScaler or MinMaxScaler.\n",
      "  % self.max_iter, ConvergenceWarning)\n",
      "/home/ubuntu/anaconda3/envs/tensorflow_p36/lib/python3.6/site-packages/sklearn/svm/base.py:218: ConvergenceWarning: Solver terminated early (max_iter=100).  Consider pre-processing your data with StandardScaler or MinMaxScaler.\n",
      "  % self.max_iter, ConvergenceWarning)\n"
     ]
    },
    {
     "name": "stdout",
     "output_type": "stream",
     "text": [
      "[CV]  C=100.0, gamma=1.0, max_iter=100.0, score=0.5069817858442881, total=   0.9s\n",
      "[CV] C=100.0, gamma=1.0, max_iter=1000.0 .............................\n",
      "[CV]  C=100.0, gamma=1.0, max_iter=100.0, score=0.5038136224498416, total=   1.0s\n",
      "[CV] C=100.0, gamma=1.0, max_iter=1000.0 .............................\n",
      "[CV]  C=100.0, gamma=1.0, max_iter=100.0, score=0.5232270187581214, total=   1.2s\n",
      "[CV] C=100.0, gamma=1.0, max_iter=1000.0 .............................\n",
      "[CV]  C=100.0, gamma=1.0, max_iter=100.0, score=0.5090274034038462, total=   1.1s\n",
      "[CV] C=100.0, gamma=1.0, max_iter=1000.0 .............................\n"
     ]
    },
    {
     "name": "stderr",
     "output_type": "stream",
     "text": [
      "/home/ubuntu/anaconda3/envs/tensorflow_p36/lib/python3.6/site-packages/sklearn/svm/base.py:218: ConvergenceWarning: Solver terminated early (max_iter=1000).  Consider pre-processing your data with StandardScaler or MinMaxScaler.\n",
      "  % self.max_iter, ConvergenceWarning)\n",
      "/home/ubuntu/anaconda3/envs/tensorflow_p36/lib/python3.6/site-packages/sklearn/svm/base.py:218: ConvergenceWarning: Solver terminated early (max_iter=1000).  Consider pre-processing your data with StandardScaler or MinMaxScaler.\n",
      "  % self.max_iter, ConvergenceWarning)\n"
     ]
    },
    {
     "name": "stdout",
     "output_type": "stream",
     "text": [
      "[CV]  C=10.0, gamma=10.0, max_iter=10000.0, score=0.7044634271335372, total= 1.6min\n",
      "[CV] C=100.0, gamma=1.0, max_iter=10000.0 ............................\n"
     ]
    },
    {
     "name": "stderr",
     "output_type": "stream",
     "text": [
      "/home/ubuntu/anaconda3/envs/tensorflow_p36/lib/python3.6/site-packages/sklearn/svm/base.py:218: ConvergenceWarning: Solver terminated early (max_iter=1000).  Consider pre-processing your data with StandardScaler or MinMaxScaler.\n",
      "  % self.max_iter, ConvergenceWarning)\n",
      "/home/ubuntu/anaconda3/envs/tensorflow_p36/lib/python3.6/site-packages/sklearn/svm/base.py:218: ConvergenceWarning: Solver terminated early (max_iter=1000).  Consider pre-processing your data with StandardScaler or MinMaxScaler.\n",
      "  % self.max_iter, ConvergenceWarning)\n"
     ]
    },
    {
     "name": "stdout",
     "output_type": "stream",
     "text": [
      "[CV]  C=10.0, gamma=10.0, max_iter=10000.0, score=0.7038302868894634, total= 1.6min\n",
      "[CV] C=100.0, gamma=1.0, max_iter=10000.0 ............................\n",
      "[CV]  C=10.0, gamma=10.0, max_iter=10000.0, score=0.7038302868894634, total= 1.6min\n",
      "[CV] C=100.0, gamma=1.0, max_iter=10000.0 ............................\n"
     ]
    },
    {
     "name": "stderr",
     "output_type": "stream",
     "text": [
      "/home/ubuntu/anaconda3/envs/tensorflow_p36/lib/python3.6/site-packages/sklearn/svm/base.py:218: ConvergenceWarning: Solver terminated early (max_iter=10000).  Consider pre-processing your data with StandardScaler or MinMaxScaler.\n",
      "  % self.max_iter, ConvergenceWarning)\n"
     ]
    },
    {
     "name": "stdout",
     "output_type": "stream",
     "text": [
      "[CV]  C=10.0, gamma=10.0, max_iter=10000.0, score=0.7021672986866578, total= 1.6min\n",
      "[CV] C=100.0, gamma=1.0, max_iter=10000.0 ............................\n"
     ]
    },
    {
     "name": "stderr",
     "output_type": "stream",
     "text": [
      "/home/ubuntu/anaconda3/envs/tensorflow_p36/lib/python3.6/site-packages/sklearn/svm/base.py:218: ConvergenceWarning: Solver terminated early (max_iter=10000).  Consider pre-processing your data with StandardScaler or MinMaxScaler.\n",
      "  % self.max_iter, ConvergenceWarning)\n"
     ]
    },
    {
     "name": "stdout",
     "output_type": "stream",
     "text": [
      "[CV]  C=100.0, gamma=1.0, max_iter=1000.0, score=0.595469874338053, total=   7.8s\n",
      "[CV] C=100.0, gamma=10.0, max_iter=10.0 ..............................\n"
     ]
    },
    {
     "name": "stderr",
     "output_type": "stream",
     "text": [
      "/home/ubuntu/anaconda3/envs/tensorflow_p36/lib/python3.6/site-packages/sklearn/svm/base.py:218: ConvergenceWarning: Solver terminated early (max_iter=10000).  Consider pre-processing your data with StandardScaler or MinMaxScaler.\n",
      "  % self.max_iter, ConvergenceWarning)\n",
      "/home/ubuntu/anaconda3/envs/tensorflow_p36/lib/python3.6/site-packages/sklearn/svm/base.py:218: ConvergenceWarning: Solver terminated early (max_iter=10).  Consider pre-processing your data with StandardScaler or MinMaxScaler.\n",
      "  % self.max_iter, ConvergenceWarning)\n"
     ]
    },
    {
     "name": "stdout",
     "output_type": "stream",
     "text": [
      "[CV]  C=100.0, gamma=10.0, max_iter=10.0, score=0.5011437598008449, total=   0.2s\n",
      "[CV] C=100.0, gamma=10.0, max_iter=10.0 ..............................\n",
      "[CV]  C=100.0, gamma=1.0, max_iter=1000.0, score=0.6109390910892093, total=   8.1s\n"
     ]
    },
    {
     "name": "stderr",
     "output_type": "stream",
     "text": [
      "/home/ubuntu/anaconda3/envs/tensorflow_p36/lib/python3.6/site-packages/sklearn/svm/base.py:218: ConvergenceWarning: Solver terminated early (max_iter=10).  Consider pre-processing your data with StandardScaler or MinMaxScaler.\n",
      "  % self.max_iter, ConvergenceWarning)\n"
     ]
    },
    {
     "name": "stdout",
     "output_type": "stream",
     "text": [
      "[CV] C=100.0, gamma=10.0, max_iter=10.0 ..............................\n",
      "[CV]  C=100.0, gamma=10.0, max_iter=10.0, score=0.501015417294463, total=   0.2s\n",
      "[CV] C=100.0, gamma=10.0, max_iter=10.0 ..............................\n"
     ]
    },
    {
     "name": "stderr",
     "output_type": "stream",
     "text": [
      "/home/ubuntu/anaconda3/envs/tensorflow_p36/lib/python3.6/site-packages/sklearn/svm/base.py:218: ConvergenceWarning: Solver terminated early (max_iter=10).  Consider pre-processing your data with StandardScaler or MinMaxScaler.\n",
      "  % self.max_iter, ConvergenceWarning)\n"
     ]
    },
    {
     "name": "stdout",
     "output_type": "stream",
     "text": [
      "[CV]  C=100.0, gamma=10.0, max_iter=10.0, score=0.5017764523020734, total=   0.2s\n",
      "[CV] C=100.0, gamma=10.0, max_iter=100.0 .............................\n"
     ]
    },
    {
     "name": "stderr",
     "output_type": "stream",
     "text": [
      "/home/ubuntu/anaconda3/envs/tensorflow_p36/lib/python3.6/site-packages/sklearn/svm/base.py:218: ConvergenceWarning: Solver terminated early (max_iter=10).  Consider pre-processing your data with StandardScaler or MinMaxScaler.\n",
      "  % self.max_iter, ConvergenceWarning)\n"
     ]
    },
    {
     "name": "stdout",
     "output_type": "stream",
     "text": [
      "[CV]  C=100.0, gamma=10.0, max_iter=10.0, score=0.5062207508366777, total=   0.2s\n",
      "[CV] C=100.0, gamma=10.0, max_iter=100.0 .............................\n",
      "[CV]  C=100.0, gamma=1.0, max_iter=1000.0, score=0.553966482205911, total=   8.5s\n",
      "[CV] C=100.0, gamma=10.0, max_iter=100.0 .............................\n"
     ]
    },
    {
     "name": "stderr",
     "output_type": "stream",
     "text": [
      "/home/ubuntu/anaconda3/envs/tensorflow_p36/lib/python3.6/site-packages/sklearn/svm/base.py:218: ConvergenceWarning: Solver terminated early (max_iter=100).  Consider pre-processing your data with StandardScaler or MinMaxScaler.\n",
      "  % self.max_iter, ConvergenceWarning)\n",
      "/home/ubuntu/anaconda3/envs/tensorflow_p36/lib/python3.6/site-packages/sklearn/svm/base.py:218: ConvergenceWarning: Solver terminated early (max_iter=100).  Consider pre-processing your data with StandardScaler or MinMaxScaler.\n",
      "  % self.max_iter, ConvergenceWarning)\n"
     ]
    },
    {
     "name": "stdout",
     "output_type": "stream",
     "text": [
      "[CV]  C=100.0, gamma=1.0, max_iter=1000.0, score=0.5953399852861446, total=   9.0s\n",
      "[CV] C=100.0, gamma=10.0, max_iter=100.0 .............................\n"
     ]
    },
    {
     "name": "stderr",
     "output_type": "stream",
     "text": [
      "/home/ubuntu/anaconda3/envs/tensorflow_p36/lib/python3.6/site-packages/sklearn/svm/base.py:218: ConvergenceWarning: Solver terminated early (max_iter=100).  Consider pre-processing your data with StandardScaler or MinMaxScaler.\n",
      "  % self.max_iter, ConvergenceWarning)\n"
     ]
    },
    {
     "name": "stdout",
     "output_type": "stream",
     "text": [
      "[CV]  C=100.0, gamma=10.0, max_iter=100.0, score=0.5050794528225473, total=   0.8s\n",
      "[CV]  C=100.0, gamma=10.0, max_iter=100.0, score=0.5076209093408408, total=   0.7s\n",
      "[CV] C=100.0, gamma=10.0, max_iter=1000.0 ............................\n",
      "[CV] C=100.0, gamma=10.0, max_iter=1000.0 ............................\n"
     ]
    },
    {
     "name": "stderr",
     "output_type": "stream",
     "text": [
      "/home/ubuntu/anaconda3/envs/tensorflow_p36/lib/python3.6/site-packages/sklearn/svm/base.py:218: ConvergenceWarning: Solver terminated early (max_iter=10000).  Consider pre-processing your data with StandardScaler or MinMaxScaler.\n",
      "  % self.max_iter, ConvergenceWarning)\n"
     ]
    },
    {
     "name": "stdout",
     "output_type": "stream",
     "text": [
      "[CV]  C=100.0, gamma=10.0, max_iter=100.0, score=0.5071079210612407, total=   0.6s\n",
      "[CV] C=100.0, gamma=10.0, max_iter=1000.0 ............................\n"
     ]
    },
    {
     "name": "stderr",
     "output_type": "stream",
     "text": [
      "/home/ubuntu/anaconda3/envs/tensorflow_p36/lib/python3.6/site-packages/sklearn/svm/base.py:218: ConvergenceWarning: Solver terminated early (max_iter=100).  Consider pre-processing your data with StandardScaler or MinMaxScaler.\n",
      "  % self.max_iter, ConvergenceWarning)\n"
     ]
    },
    {
     "name": "stdout",
     "output_type": "stream",
     "text": [
      "[CV]  C=100.0, gamma=10.0, max_iter=100.0, score=0.5034288812401415, total=   0.6s\n",
      "[CV] C=100.0, gamma=10.0, max_iter=1000.0 ............................\n"
     ]
    },
    {
     "name": "stderr",
     "output_type": "stream",
     "text": [
      "/home/ubuntu/anaconda3/envs/tensorflow_p36/lib/python3.6/site-packages/sklearn/svm/base.py:218: ConvergenceWarning: Solver terminated early (max_iter=1000).  Consider pre-processing your data with StandardScaler or MinMaxScaler.\n",
      "  % self.max_iter, ConvergenceWarning)\n",
      "/home/ubuntu/anaconda3/envs/tensorflow_p36/lib/python3.6/site-packages/sklearn/svm/base.py:218: ConvergenceWarning: Solver terminated early (max_iter=1000).  Consider pre-processing your data with StandardScaler or MinMaxScaler.\n",
      "  % self.max_iter, ConvergenceWarning)\n",
      "/home/ubuntu/anaconda3/envs/tensorflow_p36/lib/python3.6/site-packages/sklearn/svm/base.py:218: ConvergenceWarning: Solver terminated early (max_iter=1000).  Consider pre-processing your data with StandardScaler or MinMaxScaler.\n",
      "  % self.max_iter, ConvergenceWarning)\n",
      "/home/ubuntu/anaconda3/envs/tensorflow_p36/lib/python3.6/site-packages/sklearn/svm/base.py:218: ConvergenceWarning: Solver terminated early (max_iter=1000).  Consider pre-processing your data with StandardScaler or MinMaxScaler.\n",
      "  % self.max_iter, ConvergenceWarning)\n"
     ]
    },
    {
     "name": "stdout",
     "output_type": "stream",
     "text": [
      "[CV]  C=100.0, gamma=10.0, max_iter=1000.0, score=0.5151558086707306, total=   5.0s\n",
      "[CV] C=100.0, gamma=10.0, max_iter=10000.0 ...........................\n",
      "[CV]  C=100.0, gamma=10.0, max_iter=1000.0, score=0.5464780436408653, total=   5.4s\n",
      "[CV] C=100.0, gamma=10.0, max_iter=10000.0 ...........................\n",
      "[CV]  C=100.0, gamma=10.0, max_iter=1000.0, score=0.5561361231294742, total=   5.5s\n",
      "[CV] C=100.0, gamma=10.0, max_iter=10000.0 ...........................\n",
      "[CV]  C=100.0, gamma=10.0, max_iter=1000.0, score=0.5292465849393763, total=   6.2s\n",
      "[CV] C=100.0, gamma=10.0, max_iter=10000.0 ...........................\n"
     ]
    },
    {
     "name": "stderr",
     "output_type": "stream",
     "text": [
      "/home/ubuntu/anaconda3/envs/tensorflow_p36/lib/python3.6/site-packages/sklearn/svm/base.py:218: ConvergenceWarning: Solver terminated early (max_iter=10000).  Consider pre-processing your data with StandardScaler or MinMaxScaler.\n",
      "  % self.max_iter, ConvergenceWarning)\n",
      "/home/ubuntu/anaconda3/envs/tensorflow_p36/lib/python3.6/site-packages/sklearn/svm/base.py:218: ConvergenceWarning: Solver terminated early (max_iter=10000).  Consider pre-processing your data with StandardScaler or MinMaxScaler.\n",
      "  % self.max_iter, ConvergenceWarning)\n",
      "/home/ubuntu/anaconda3/envs/tensorflow_p36/lib/python3.6/site-packages/sklearn/svm/base.py:218: ConvergenceWarning: Solver terminated early (max_iter=10000).  Consider pre-processing your data with StandardScaler or MinMaxScaler.\n",
      "  % self.max_iter, ConvergenceWarning)\n",
      "/home/ubuntu/anaconda3/envs/tensorflow_p36/lib/python3.6/site-packages/sklearn/svm/base.py:218: ConvergenceWarning: Solver terminated early (max_iter=10000).  Consider pre-processing your data with StandardScaler or MinMaxScaler.\n",
      "  % self.max_iter, ConvergenceWarning)\n"
     ]
    },
    {
     "name": "stdout",
     "output_type": "stream",
     "text": [
      "[CV]  C=100.0, gamma=0.01, max_iter=10000.0, score=0.7687179103303063, total=  46.7s\n",
      "[CV]  C=100.0, gamma=0.01, max_iter=10000.0, score=0.7631445567182267, total=  46.4s\n",
      "[CV]  C=100.0, gamma=0.01, max_iter=10000.0, score=0.7751886460641974, total=  46.1s\n",
      "[CV]  C=100.0, gamma=0.01, max_iter=10000.0, score=0.7624927621039892, total=  46.2s\n"
     ]
    },
    {
     "name": "stderr",
     "output_type": "stream",
     "text": [
      "/home/ubuntu/anaconda3/envs/tensorflow_p36/lib/python3.6/site-packages/sklearn/svm/base.py:218: ConvergenceWarning: Solver terminated early (max_iter=10000).  Consider pre-processing your data with StandardScaler or MinMaxScaler.\n",
      "  % self.max_iter, ConvergenceWarning)\n",
      "/home/ubuntu/anaconda3/envs/tensorflow_p36/lib/python3.6/site-packages/sklearn/svm/base.py:218: ConvergenceWarning: Solver terminated early (max_iter=10000).  Consider pre-processing your data with StandardScaler or MinMaxScaler.\n",
      "  % self.max_iter, ConvergenceWarning)\n",
      "/home/ubuntu/anaconda3/envs/tensorflow_p36/lib/python3.6/site-packages/sklearn/svm/base.py:218: ConvergenceWarning: Solver terminated early (max_iter=10000).  Consider pre-processing your data with StandardScaler or MinMaxScaler.\n",
      "  % self.max_iter, ConvergenceWarning)\n",
      "/home/ubuntu/anaconda3/envs/tensorflow_p36/lib/python3.6/site-packages/sklearn/svm/base.py:218: ConvergenceWarning: Solver terminated early (max_iter=10000).  Consider pre-processing your data with StandardScaler or MinMaxScaler.\n",
      "  % self.max_iter, ConvergenceWarning)\n"
     ]
    },
    {
     "name": "stdout",
     "output_type": "stream",
     "text": [
      "[CV]  C=100.0, gamma=0.1, max_iter=10000.0, score=0.7652429706014711, total=  42.4s\n",
      "[CV]  C=100.0, gamma=0.1, max_iter=10000.0, score=0.7620410517446223, total=  44.2s\n"
     ]
    },
    {
     "name": "stderr",
     "output_type": "stream",
     "text": [
      "/home/ubuntu/anaconda3/envs/tensorflow_p36/lib/python3.6/site-packages/sklearn/svm/base.py:218: ConvergenceWarning: Solver terminated early (max_iter=10000).  Consider pre-processing your data with StandardScaler or MinMaxScaler.\n",
      "  % self.max_iter, ConvergenceWarning)\n"
     ]
    },
    {
     "name": "stdout",
     "output_type": "stream",
     "text": [
      "[CV]  C=100.0, gamma=0.1, max_iter=10000.0, score=0.7725904909789322, total=  44.9s\n",
      "[CV]  C=100.0, gamma=0.1, max_iter=10000.0, score=0.7587615019190984, total=  44.0s\n"
     ]
    },
    {
     "name": "stderr",
     "output_type": "stream",
     "text": [
      "/home/ubuntu/anaconda3/envs/tensorflow_p36/lib/python3.6/site-packages/sklearn/svm/base.py:218: ConvergenceWarning: Solver terminated early (max_iter=10000).  Consider pre-processing your data with StandardScaler or MinMaxScaler.\n",
      "  % self.max_iter, ConvergenceWarning)\n",
      "/home/ubuntu/anaconda3/envs/tensorflow_p36/lib/python3.6/site-packages/sklearn/svm/base.py:218: ConvergenceWarning: Solver terminated early (max_iter=10000).  Consider pre-processing your data with StandardScaler or MinMaxScaler.\n",
      "  % self.max_iter, ConvergenceWarning)\n",
      "/home/ubuntu/anaconda3/envs/tensorflow_p36/lib/python3.6/site-packages/sklearn/svm/base.py:218: ConvergenceWarning: Solver terminated early (max_iter=10000).  Consider pre-processing your data with StandardScaler or MinMaxScaler.\n",
      "  % self.max_iter, ConvergenceWarning)\n"
     ]
    },
    {
     "name": "stdout",
     "output_type": "stream",
     "text": [
      "[CV]  C=100.0, gamma=1.0, max_iter=10000.0, score=0.7293460781738845, total=  48.9s\n",
      "[CV]  C=100.0, gamma=1.0, max_iter=10000.0, score=0.7226308586739756, total=  48.9s\n",
      "[CV]  C=100.0, gamma=1.0, max_iter=10000.0, score=0.7277042085005536, total=  48.6s\n",
      "[CV]  C=100.0, gamma=1.0, max_iter=10000.0, score=0.7223706278884389, total=  49.0s\n",
      "[CV]  C=100.0, gamma=10.0, max_iter=10000.0, score=0.6999700576390449, total=  43.3s\n",
      "[CV]  C=100.0, gamma=10.0, max_iter=10000.0, score=0.6939832925553727, total=  46.7s\n",
      "[CV]  C=100.0, gamma=10.0, max_iter=10000.0, score=0.700443642708271, total=  48.0s\n",
      "[CV]  C=100.0, gamma=10.0, max_iter=10000.0, score=0.6958774326626088, total=  48.2s\n"
     ]
    },
    {
     "name": "stderr",
     "output_type": "stream",
     "text": [
      "[Parallel(n_jobs=-1)]: Done 576 out of 576 | elapsed: 17.4min finished\n",
      "/home/ubuntu/anaconda3/envs/tensorflow_p36/lib/python3.6/site-packages/sklearn/svm/base.py:218: ConvergenceWarning: Solver terminated early (max_iter=10000).  Consider pre-processing your data with StandardScaler or MinMaxScaler.\n",
      "  % self.max_iter, ConvergenceWarning)\n"
     ]
    },
    {
     "data": {
      "text/plain": [
       "GridSearchCV(cv=4, error_score='raise',\n",
       "       estimator=SVC(C=1.0, cache_size=200, class_weight=None, coef0=0.0,\n",
       "  decision_function_shape='ovr', degree=3, gamma='auto', kernel='rbf',\n",
       "  max_iter=-1, probability=False, random_state=1, shrinking=True,\n",
       "  tol=0.001, verbose=False),\n",
       "       fit_params=None, iid=True, n_jobs=-1,\n",
       "       param_grid={'C': array([1.e-03, 1.e-02, 1.e-01, 1.e+00, 1.e+01, 1.e+02]), 'max_iter': array([   10.,   100.,  1000., 10000.]), 'gamma': array([1.e-04, 1.e-03, 1.e-02, 1.e-01, 1.e+00, 1.e+01])},\n",
       "       pre_dispatch='2*n_jobs', refit=True, return_train_score=True,\n",
       "       scoring=make_scorer(balanced_accuracy), verbose=10)"
      ]
     },
     "execution_count": 15,
     "metadata": {},
     "output_type": "execute_result"
    }
   ],
   "source": [
    "rbf_grid_search.fit(X_train_scaled, y_train)"
   ]
  },
  {
   "cell_type": "code",
   "execution_count": 16,
   "metadata": {},
   "outputs": [],
   "source": [
    "save_search_result(rbf_grid_search, dataset, learner_type, extras='rbf')"
   ]
  },
  {
   "cell_type": "markdown",
   "metadata": {},
   "source": [
    "### Analysis"
   ]
  },
  {
   "cell_type": "code",
   "execution_count": 18,
   "metadata": {},
   "outputs": [],
   "source": [
    "lin_res = linear_grid_search.cv_results_\n",
    "lin_df = scikit_cv_result_to_df(lin_res)\n",
    "rbf_res = rbf_grid_search.cv_results_\n",
    "rbf_df = scikit_cv_result_to_df(rbf_res)"
   ]
  },
  {
   "cell_type": "code",
   "execution_count": 19,
   "metadata": {},
   "outputs": [
    {
     "data": {
      "text/html": [
       "<div>\n",
       "<style scoped>\n",
       "    .dataframe tbody tr th:only-of-type {\n",
       "        vertical-align: middle;\n",
       "    }\n",
       "\n",
       "    .dataframe tbody tr th {\n",
       "        vertical-align: top;\n",
       "    }\n",
       "\n",
       "    .dataframe thead th {\n",
       "        text-align: right;\n",
       "    }\n",
       "</style>\n",
       "<table border=\"1\" class=\"dataframe\">\n",
       "  <thead>\n",
       "    <tr style=\"text-align: right;\">\n",
       "      <th></th>\n",
       "      <th></th>\n",
       "      <th></th>\n",
       "      <th>mean_fit_time</th>\n",
       "      <th>std_fit_time</th>\n",
       "      <th>mean_score_time</th>\n",
       "      <th>std_score_time</th>\n",
       "      <th>mean_test_score</th>\n",
       "      <th>std_test_score</th>\n",
       "      <th>rank_test_score</th>\n",
       "      <th>mean_train_score</th>\n",
       "      <th>std_train_score</th>\n",
       "    </tr>\n",
       "    <tr>\n",
       "      <th>C</th>\n",
       "      <th>gamma</th>\n",
       "      <th>max_iter</th>\n",
       "      <th></th>\n",
       "      <th></th>\n",
       "      <th></th>\n",
       "      <th></th>\n",
       "      <th></th>\n",
       "      <th></th>\n",
       "      <th></th>\n",
       "      <th></th>\n",
       "      <th></th>\n",
       "    </tr>\n",
       "  </thead>\n",
       "  <tbody>\n",
       "    <tr>\n",
       "      <th rowspan=\"2\" valign=\"top\">100.000</th>\n",
       "      <th>0.0100</th>\n",
       "      <th>10000.0</th>\n",
       "      <td>39.125971</td>\n",
       "      <td>0.273234</td>\n",
       "      <td>7.240746</td>\n",
       "      <td>0.058799</td>\n",
       "      <td>0.767386</td>\n",
       "      <td>0.005113</td>\n",
       "      <td>1</td>\n",
       "      <td>0.778732</td>\n",
       "      <td>0.000527</td>\n",
       "    </tr>\n",
       "    <tr>\n",
       "      <th>0.1000</th>\n",
       "      <th>10000.0</th>\n",
       "      <td>36.283747</td>\n",
       "      <td>0.928006</td>\n",
       "      <td>7.577388</td>\n",
       "      <td>0.133067</td>\n",
       "      <td>0.764659</td>\n",
       "      <td>0.005121</td>\n",
       "      <td>2</td>\n",
       "      <td>0.841335</td>\n",
       "      <td>0.004039</td>\n",
       "    </tr>\n",
       "    <tr>\n",
       "      <th>10.000</th>\n",
       "      <th>0.1000</th>\n",
       "      <th>10000.0</th>\n",
       "      <td>39.258024</td>\n",
       "      <td>0.164742</td>\n",
       "      <td>6.893135</td>\n",
       "      <td>0.236335</td>\n",
       "      <td>0.762844</td>\n",
       "      <td>0.005202</td>\n",
       "      <td>3</td>\n",
       "      <td>0.803945</td>\n",
       "      <td>0.002733</td>\n",
       "    </tr>\n",
       "    <tr>\n",
       "      <th>100.000</th>\n",
       "      <th>0.0010</th>\n",
       "      <th>10000.0</th>\n",
       "      <td>44.298027</td>\n",
       "      <td>0.390326</td>\n",
       "      <td>7.641110</td>\n",
       "      <td>0.042263</td>\n",
       "      <td>0.744135</td>\n",
       "      <td>0.002617</td>\n",
       "      <td>4</td>\n",
       "      <td>0.746932</td>\n",
       "      <td>0.004362</td>\n",
       "    </tr>\n",
       "    <tr>\n",
       "      <th>0.100</th>\n",
       "      <th>0.1000</th>\n",
       "      <th>1000.0</th>\n",
       "      <td>12.108324</td>\n",
       "      <td>0.117205</td>\n",
       "      <td>2.037647</td>\n",
       "      <td>0.028666</td>\n",
       "      <td>0.741830</td>\n",
       "      <td>0.013936</td>\n",
       "      <td>5</td>\n",
       "      <td>0.741549</td>\n",
       "      <td>0.011560</td>\n",
       "    </tr>\n",
       "    <tr>\n",
       "      <th>1.000</th>\n",
       "      <th>0.1000</th>\n",
       "      <th>10000.0</th>\n",
       "      <td>39.507437</td>\n",
       "      <td>0.494278</td>\n",
       "      <td>6.993342</td>\n",
       "      <td>0.070724</td>\n",
       "      <td>0.741646</td>\n",
       "      <td>0.003325</td>\n",
       "      <td>6</td>\n",
       "      <td>0.750690</td>\n",
       "      <td>0.004075</td>\n",
       "    </tr>\n",
       "    <tr>\n",
       "      <th>10.000</th>\n",
       "      <th>0.0100</th>\n",
       "      <th>10000.0</th>\n",
       "      <td>42.696569</td>\n",
       "      <td>0.447450</td>\n",
       "      <td>7.992939</td>\n",
       "      <td>0.165304</td>\n",
       "      <td>0.735404</td>\n",
       "      <td>0.003968</td>\n",
       "      <td>7</td>\n",
       "      <td>0.739342</td>\n",
       "      <td>0.003737</td>\n",
       "    </tr>\n",
       "    <tr>\n",
       "      <th>0.001</th>\n",
       "      <th>0.1000</th>\n",
       "      <th>1000.0</th>\n",
       "      <td>11.497942</td>\n",
       "      <td>0.141376</td>\n",
       "      <td>2.015727</td>\n",
       "      <td>0.025352</td>\n",
       "      <td>0.732908</td>\n",
       "      <td>0.027093</td>\n",
       "      <td>8</td>\n",
       "      <td>0.729558</td>\n",
       "      <td>0.029558</td>\n",
       "    </tr>\n",
       "    <tr>\n",
       "      <th>1.000</th>\n",
       "      <th>0.1000</th>\n",
       "      <th>1000.0</th>\n",
       "      <td>11.532275</td>\n",
       "      <td>0.574613</td>\n",
       "      <td>1.977830</td>\n",
       "      <td>0.026162</td>\n",
       "      <td>0.731382</td>\n",
       "      <td>0.008566</td>\n",
       "      <td>9</td>\n",
       "      <td>0.730014</td>\n",
       "      <td>0.009100</td>\n",
       "    </tr>\n",
       "    <tr>\n",
       "      <th>100.000</th>\n",
       "      <th>0.0001</th>\n",
       "      <th>10000.0</th>\n",
       "      <td>41.550662</td>\n",
       "      <td>0.157746</td>\n",
       "      <td>8.722134</td>\n",
       "      <td>0.056350</td>\n",
       "      <td>0.731047</td>\n",
       "      <td>0.004732</td>\n",
       "      <td>10</td>\n",
       "      <td>0.731043</td>\n",
       "      <td>0.005381</td>\n",
       "    </tr>\n",
       "  </tbody>\n",
       "</table>\n",
       "</div>"
      ],
      "text/plain": [
       "                         mean_fit_time  std_fit_time  mean_score_time  \\\n",
       "C       gamma  max_iter                                                 \n",
       "100.000 0.0100 10000.0       39.125971      0.273234         7.240746   \n",
       "        0.1000 10000.0       36.283747      0.928006         7.577388   \n",
       "10.000  0.1000 10000.0       39.258024      0.164742         6.893135   \n",
       "100.000 0.0010 10000.0       44.298027      0.390326         7.641110   \n",
       "0.100   0.1000 1000.0        12.108324      0.117205         2.037647   \n",
       "1.000   0.1000 10000.0       39.507437      0.494278         6.993342   \n",
       "10.000  0.0100 10000.0       42.696569      0.447450         7.992939   \n",
       "0.001   0.1000 1000.0        11.497942      0.141376         2.015727   \n",
       "1.000   0.1000 1000.0        11.532275      0.574613         1.977830   \n",
       "100.000 0.0001 10000.0       41.550662      0.157746         8.722134   \n",
       "\n",
       "                         std_score_time  mean_test_score  std_test_score  \\\n",
       "C       gamma  max_iter                                                    \n",
       "100.000 0.0100 10000.0         0.058799         0.767386        0.005113   \n",
       "        0.1000 10000.0         0.133067         0.764659        0.005121   \n",
       "10.000  0.1000 10000.0         0.236335         0.762844        0.005202   \n",
       "100.000 0.0010 10000.0         0.042263         0.744135        0.002617   \n",
       "0.100   0.1000 1000.0          0.028666         0.741830        0.013936   \n",
       "1.000   0.1000 10000.0         0.070724         0.741646        0.003325   \n",
       "10.000  0.0100 10000.0         0.165304         0.735404        0.003968   \n",
       "0.001   0.1000 1000.0          0.025352         0.732908        0.027093   \n",
       "1.000   0.1000 1000.0          0.026162         0.731382        0.008566   \n",
       "100.000 0.0001 10000.0         0.056350         0.731047        0.004732   \n",
       "\n",
       "                         rank_test_score  mean_train_score  std_train_score  \n",
       "C       gamma  max_iter                                                      \n",
       "100.000 0.0100 10000.0                 1          0.778732         0.000527  \n",
       "        0.1000 10000.0                 2          0.841335         0.004039  \n",
       "10.000  0.1000 10000.0                 3          0.803945         0.002733  \n",
       "100.000 0.0010 10000.0                 4          0.746932         0.004362  \n",
       "0.100   0.1000 1000.0                  5          0.741549         0.011560  \n",
       "1.000   0.1000 10000.0                 6          0.750690         0.004075  \n",
       "10.000  0.0100 10000.0                 7          0.739342         0.003737  \n",
       "0.001   0.1000 1000.0                  8          0.729558         0.029558  \n",
       "1.000   0.1000 1000.0                  9          0.730014         0.009100  \n",
       "100.000 0.0001 10000.0                10          0.731043         0.005381  "
      ]
     },
     "execution_count": 19,
     "metadata": {},
     "output_type": "execute_result"
    }
   ],
   "source": [
    "rbf_df.sort_values(by='rank_test_score').head(10)"
   ]
  },
  {
   "cell_type": "code",
   "execution_count": 20,
   "metadata": {},
   "outputs": [
    {
     "data": {
      "text/html": [
       "<div>\n",
       "<style scoped>\n",
       "    .dataframe tbody tr th:only-of-type {\n",
       "        vertical-align: middle;\n",
       "    }\n",
       "\n",
       "    .dataframe tbody tr th {\n",
       "        vertical-align: top;\n",
       "    }\n",
       "\n",
       "    .dataframe thead th {\n",
       "        text-align: right;\n",
       "    }\n",
       "</style>\n",
       "<table border=\"1\" class=\"dataframe\">\n",
       "  <thead>\n",
       "    <tr style=\"text-align: right;\">\n",
       "      <th></th>\n",
       "      <th></th>\n",
       "      <th>mean_fit_time</th>\n",
       "      <th>std_fit_time</th>\n",
       "      <th>mean_score_time</th>\n",
       "      <th>std_score_time</th>\n",
       "      <th>mean_test_score</th>\n",
       "      <th>std_test_score</th>\n",
       "      <th>rank_test_score</th>\n",
       "      <th>mean_train_score</th>\n",
       "      <th>std_train_score</th>\n",
       "    </tr>\n",
       "    <tr>\n",
       "      <th>C</th>\n",
       "      <th>max_iter</th>\n",
       "      <th></th>\n",
       "      <th></th>\n",
       "      <th></th>\n",
       "      <th></th>\n",
       "      <th></th>\n",
       "      <th></th>\n",
       "      <th></th>\n",
       "      <th></th>\n",
       "      <th></th>\n",
       "    </tr>\n",
       "  </thead>\n",
       "  <tbody>\n",
       "    <tr>\n",
       "      <th>1.0</th>\n",
       "      <th>100.0</th>\n",
       "      <td>0.535438</td>\n",
       "      <td>0.047894</td>\n",
       "      <td>0.073921</td>\n",
       "      <td>0.018905</td>\n",
       "      <td>0.764180</td>\n",
       "      <td>0.003662</td>\n",
       "      <td>1</td>\n",
       "      <td>0.766892</td>\n",
       "      <td>0.000549</td>\n",
       "    </tr>\n",
       "    <tr>\n",
       "      <th>10.0</th>\n",
       "      <th>1000.0</th>\n",
       "      <td>2.294520</td>\n",
       "      <td>0.359350</td>\n",
       "      <td>0.017032</td>\n",
       "      <td>0.009131</td>\n",
       "      <td>0.763641</td>\n",
       "      <td>0.002890</td>\n",
       "      <td>2</td>\n",
       "      <td>0.766818</td>\n",
       "      <td>0.001378</td>\n",
       "    </tr>\n",
       "    <tr>\n",
       "      <th rowspan=\"2\" valign=\"top\">1.0</th>\n",
       "      <th>10000.0</th>\n",
       "      <td>0.839650</td>\n",
       "      <td>0.131776</td>\n",
       "      <td>0.048355</td>\n",
       "      <td>0.023063</td>\n",
       "      <td>0.763355</td>\n",
       "      <td>0.003251</td>\n",
       "      <td>3</td>\n",
       "      <td>0.766119</td>\n",
       "      <td>0.001275</td>\n",
       "    </tr>\n",
       "    <tr>\n",
       "      <th>1000.0</th>\n",
       "      <td>0.873401</td>\n",
       "      <td>0.124227</td>\n",
       "      <td>0.044856</td>\n",
       "      <td>0.025749</td>\n",
       "      <td>0.763355</td>\n",
       "      <td>0.003251</td>\n",
       "      <td>3</td>\n",
       "      <td>0.766119</td>\n",
       "      <td>0.001275</td>\n",
       "    </tr>\n",
       "    <tr>\n",
       "      <th>0.1</th>\n",
       "      <th>10.0</th>\n",
       "      <td>0.152365</td>\n",
       "      <td>0.041419</td>\n",
       "      <td>0.024845</td>\n",
       "      <td>0.020598</td>\n",
       "      <td>0.762763</td>\n",
       "      <td>0.006103</td>\n",
       "      <td>5</td>\n",
       "      <td>0.764907</td>\n",
       "      <td>0.005920</td>\n",
       "    </tr>\n",
       "    <tr>\n",
       "      <th>10.0</th>\n",
       "      <th>10000.0</th>\n",
       "      <td>3.809762</td>\n",
       "      <td>1.677735</td>\n",
       "      <td>0.004763</td>\n",
       "      <td>0.002907</td>\n",
       "      <td>0.762499</td>\n",
       "      <td>0.003269</td>\n",
       "      <td>6</td>\n",
       "      <td>0.765961</td>\n",
       "      <td>0.001415</td>\n",
       "    </tr>\n",
       "    <tr>\n",
       "      <th>100.0</th>\n",
       "      <th>10000.0</th>\n",
       "      <td>9.995571</td>\n",
       "      <td>0.987146</td>\n",
       "      <td>0.004698</td>\n",
       "      <td>0.003403</td>\n",
       "      <td>0.762149</td>\n",
       "      <td>0.003238</td>\n",
       "      <td>7</td>\n",
       "      <td>0.765568</td>\n",
       "      <td>0.002146</td>\n",
       "    </tr>\n",
       "    <tr>\n",
       "      <th rowspan=\"3\" valign=\"top\">0.1</th>\n",
       "      <th>1000.0</th>\n",
       "      <td>0.183402</td>\n",
       "      <td>0.030207</td>\n",
       "      <td>0.071752</td>\n",
       "      <td>0.018407</td>\n",
       "      <td>0.758820</td>\n",
       "      <td>0.002676</td>\n",
       "      <td>8</td>\n",
       "      <td>0.761176</td>\n",
       "      <td>0.001083</td>\n",
       "    </tr>\n",
       "    <tr>\n",
       "      <th>100.0</th>\n",
       "      <td>0.226904</td>\n",
       "      <td>0.098289</td>\n",
       "      <td>0.047794</td>\n",
       "      <td>0.017078</td>\n",
       "      <td>0.758820</td>\n",
       "      <td>0.002676</td>\n",
       "      <td>8</td>\n",
       "      <td>0.761176</td>\n",
       "      <td>0.001083</td>\n",
       "    </tr>\n",
       "    <tr>\n",
       "      <th>10000.0</th>\n",
       "      <td>0.263137</td>\n",
       "      <td>0.047940</td>\n",
       "      <td>0.038553</td>\n",
       "      <td>0.037818</td>\n",
       "      <td>0.758820</td>\n",
       "      <td>0.002676</td>\n",
       "      <td>8</td>\n",
       "      <td>0.761176</td>\n",
       "      <td>0.001083</td>\n",
       "    </tr>\n",
       "  </tbody>\n",
       "</table>\n",
       "</div>"
      ],
      "text/plain": [
       "                mean_fit_time  std_fit_time  mean_score_time  std_score_time  \\\n",
       "C     max_iter                                                                 \n",
       "1.0   100.0          0.535438      0.047894         0.073921        0.018905   \n",
       "10.0  1000.0         2.294520      0.359350         0.017032        0.009131   \n",
       "1.0   10000.0        0.839650      0.131776         0.048355        0.023063   \n",
       "      1000.0         0.873401      0.124227         0.044856        0.025749   \n",
       "0.1   10.0           0.152365      0.041419         0.024845        0.020598   \n",
       "10.0  10000.0        3.809762      1.677735         0.004763        0.002907   \n",
       "100.0 10000.0        9.995571      0.987146         0.004698        0.003403   \n",
       "0.1   1000.0         0.183402      0.030207         0.071752        0.018407   \n",
       "      100.0          0.226904      0.098289         0.047794        0.017078   \n",
       "      10000.0        0.263137      0.047940         0.038553        0.037818   \n",
       "\n",
       "                mean_test_score  std_test_score  rank_test_score  \\\n",
       "C     max_iter                                                     \n",
       "1.0   100.0            0.764180        0.003662                1   \n",
       "10.0  1000.0           0.763641        0.002890                2   \n",
       "1.0   10000.0          0.763355        0.003251                3   \n",
       "      1000.0           0.763355        0.003251                3   \n",
       "0.1   10.0             0.762763        0.006103                5   \n",
       "10.0  10000.0          0.762499        0.003269                6   \n",
       "100.0 10000.0          0.762149        0.003238                7   \n",
       "0.1   1000.0           0.758820        0.002676                8   \n",
       "      100.0            0.758820        0.002676                8   \n",
       "      10000.0          0.758820        0.002676                8   \n",
       "\n",
       "                mean_train_score  std_train_score  \n",
       "C     max_iter                                     \n",
       "1.0   100.0             0.766892         0.000549  \n",
       "10.0  1000.0            0.766818         0.001378  \n",
       "1.0   10000.0           0.766119         0.001275  \n",
       "      1000.0            0.766119         0.001275  \n",
       "0.1   10.0              0.764907         0.005920  \n",
       "10.0  10000.0           0.765961         0.001415  \n",
       "100.0 10000.0           0.765568         0.002146  \n",
       "0.1   1000.0            0.761176         0.001083  \n",
       "      100.0             0.761176         0.001083  \n",
       "      10000.0           0.761176         0.001083  "
      ]
     },
     "execution_count": 20,
     "metadata": {},
     "output_type": "execute_result"
    }
   ],
   "source": [
    "lin_df.sort_values(by='rank_test_score').head(10)"
   ]
  },
  {
   "cell_type": "code",
   "execution_count": 15,
   "metadata": {},
   "outputs": [],
   "source": [
    "rbf = res_df.xs('rbf', level='kernel')\n",
    "rbf = rbf.reset_index()\n",
    "# lin = res_df.xs('linear', level='kernel')\n",
    "# lin = lin.reset_index()\n",
    "poly = res_df.xs('poly', level='kernel')\n",
    "poly = poly.reset_index()"
   ]
  },
  {
   "cell_type": "code",
   "execution_count": 16,
   "metadata": {},
   "outputs": [
    {
     "data": {
      "text/plain": [
       "<matplotlib.axes._subplots.AxesSubplot at 0x7f5531967cc0>"
      ]
     },
     "execution_count": 16,
     "metadata": {},
     "output_type": "execute_result"
    },
    {
     "data": {
      "image/png": "[encoded data removed]",
      "text/plain": [
       "<Figure size 864x288 with 4 Axes>"
      ]
     },
     "metadata": {},
     "output_type": "display_data"
    }
   ],
   "source": [
    "fig, (ax1, ax2) = plt.subplots(1,2, figsize=(12,4))\n",
    "\n",
    "ax1.set_title('Radial Basis Function')\n",
    "rbf.plot(kind='scatter', x='C', y='gamma', c='mean_test_score', s=rbf['std_test_score']*200000, cmap='winter', logx=True, logy=True, ax=ax1)\n",
    "\n",
    "ax2.set_title('Polynomial Function')\n",
    "poly.plot(kind='scatter', x='C', y='gamma', c='mean_test_score', s=poly['std_test_score']*200000, cmap='winter', logx=True, logy=True, ax=ax2)\n",
    "\n",
    "\n",
    "# Gamma has no effect for linear kernel\n",
    "# ax3.set_title('Linear Function')\n",
    "# lin.plot(kind='scatter', x='C', y='gamma', c='mean_test_score', s=lin['std_test_score']*100000, cmap='winter', logx=True, logy=True, ax=ax3)"
   ]
  },
  {
   "cell_type": "code",
   "execution_count": 17,
   "metadata": {},
   "outputs": [],
   "source": [
    "# Helper function needed for std==0.0\n",
    "def std_to_size(std):\n",
    "    if std > 0:\n",
    "        return std * 200000\n",
    "    else:\n",
    "        return 10"
   ]
  },
  {
   "cell_type": "code",
   "execution_count": 18,
   "metadata": {},
   "outputs": [
    {
     "data": {
      "text/plain": [
       "<matplotlib.axes._subplots.AxesSubplot at 0x7f552b5ceac8>"
      ]
     },
     "execution_count": 18,
     "metadata": {},
     "output_type": "execute_result"
    },
    {
     "data": {
      "image/png": "[encoded data removed]",
      "text/plain": [
       "<Figure size 864x288 with 4 Axes>"
      ]
     },
     "metadata": {},
     "output_type": "display_data"
    }
   ],
   "source": [
    "fig, (ax1, ax2) = plt.subplots(1,2, figsize=(12,4))\n",
    "\n",
    "ax1.set_title('Radial Basis Function')\n",
    "rbf.plot(kind='scatter', x='C', y='gamma', c='mean_train_score', s=rbf['std_train_score'].apply(std_to_size), cmap='winter', logx=True, logy=True, ax=ax1)\n",
    "\n",
    "ax2.set_title('Polynomial Function')\n",
    "poly.plot(kind='scatter', x='C', y='gamma', c='mean_train_score', s=poly['std_train_score'].apply(std_to_size), cmap='winter', logx=True, logy=True, ax=ax2)\n",
    "\n",
    "# ax3.set_title('Linear Function')\n",
    "# lin.plot(kind='scatter', x='C', y='gamma', c='mean_train_score', s=lin['std_train_score'].apply(std_to_size), cmap='winter', logx=True, logy=True, ax=ax3)"
   ]
  },
  {
   "cell_type": "markdown",
   "metadata": {},
   "source": [
    "### Timing statistics"
   ]
  },
  {
   "cell_type": "code",
   "execution_count": 19,
   "metadata": {},
   "outputs": [],
   "source": [
    "# Helper function needed for std==0.0\n",
    "def std_to_size(std):\n",
    "    if std > 0:\n",
    "        return std * 50\n",
    "    else:\n",
    "        return 10"
   ]
  },
  {
   "cell_type": "code",
   "execution_count": 20,
   "metadata": {},
   "outputs": [
    {
     "data": {
      "text/plain": [
       "<matplotlib.axes._subplots.AxesSubplot at 0x7f552b128b70>"
      ]
     },
     "execution_count": 20,
     "metadata": {},
     "output_type": "execute_result"
    },
    {
     "data": {
      "image/png": "[encoded data removed]",
      "text/plain": [
       "<Figure size 864x288 with 4 Axes>"
      ]
     },
     "metadata": {},
     "output_type": "display_data"
    }
   ],
   "source": [
    "fig, (ax1, ax2) = plt.subplots(1,2, figsize=(12,4))\n",
    "\n",
    "ax1.set_title('Radial Basis Function')\n",
    "rbf.plot(kind='scatter', x='C', y='gamma', c='mean_fit_time', s=rbf['std_fit_time'].apply(std_to_size), cmap='winter', logx=True, logy=True, ax=ax1)\n",
    "\n",
    "ax2.set_title('Polynomial Function')\n",
    "poly.plot(kind='scatter', x='C', y='gamma', c='mean_fit_time', s=poly['std_fit_time'].apply(std_to_size), cmap='winter', logx=True, logy=True, ax=ax2)"
   ]
  },
  {
   "cell_type": "markdown",
   "metadata": {},
   "source": [
    "### What is the best estimator?"
   ]
  },
  {
   "cell_type": "code",
   "execution_count": 21,
   "metadata": {},
   "outputs": [
    {
     "ename": "NameError",
     "evalue": "name 'grid_search' is not defined",
     "output_type": "error",
     "traceback": [
      "\u001b[0;31m---------------------------------------------------------------------------\u001b[0m",
      "\u001b[0;31mNameError\u001b[0m                                 Traceback (most recent call last)",
      "\u001b[0;32m<ipython-input-21-37096f089378>\u001b[0m in \u001b[0;36m<module>\u001b[0;34m()\u001b[0m\n\u001b[0;32m----> 1\u001b[0;31m \u001b[0mgrid_search\u001b[0m\u001b[0;34m.\u001b[0m\u001b[0mbest_estimator_\u001b[0m\u001b[0;34m.\u001b[0m\u001b[0mget_params\u001b[0m\u001b[0;34m(\u001b[0m\u001b[0;34m)\u001b[0m\u001b[0;34m\u001b[0m\u001b[0m\n\u001b[0m",
      "\u001b[0;31mNameError\u001b[0m: name 'grid_search' is not defined"
     ]
    }
   ],
   "source": [
    "grid_search.best_estimator_.get_params()"
   ]
  },
  {
   "cell_type": "code",
   "execution_count": 22,
   "metadata": {},
   "outputs": [
    {
     "data": {
      "text/plain": [
       "0.76287573694013378"
      ]
     },
     "execution_count": 22,
     "metadata": {},
     "output_type": "execute_result"
    }
   ],
   "source": [
    "grid_search.best_score_"
   ]
  },
  {
   "cell_type": "markdown",
   "metadata": {},
   "source": [
    "## SVM Learning Curve Analysis"
   ]
  },
  {
   "cell_type": "code",
   "execution_count": 22,
   "metadata": {},
   "outputs": [
    {
     "data": {
      "text/plain": [
       "{'C': 100.0,\n",
       " 'cache_size': 200,\n",
       " 'class_weight': None,\n",
       " 'coef0': 0.0,\n",
       " 'decision_function_shape': 'ovr',\n",
       " 'degree': 3,\n",
       " 'gamma': 0.01,\n",
       " 'kernel': 'rbf',\n",
       " 'max_iter': 10000.0,\n",
       " 'probability': False,\n",
       " 'random_state': 1,\n",
       " 'shrinking': True,\n",
       " 'tol': 0.001,\n",
       " 'verbose': False}"
      ]
     },
     "execution_count": 22,
     "metadata": {},
     "output_type": "execute_result"
    }
   ],
   "source": [
    "# Find best estimator\n",
    "best_clf = rbf_grid_search.best_estimator_\n",
    "best_clf.get_params()"
   ]
  },
  {
   "cell_type": "code",
   "execution_count": 24,
   "metadata": {},
   "outputs": [
    {
     "name": "stderr",
     "output_type": "stream",
     "text": [
      "/home/ubuntu/anaconda3/envs/tensorflow_p36/lib/python3.6/site-packages/sklearn/svm/base.py:218: ConvergenceWarning: Solver terminated early (max_iter=10000).  Consider pre-processing your data with StandardScaler or MinMaxScaler.\n",
      "  % self.max_iter, ConvergenceWarning)\n",
      "/home/ubuntu/anaconda3/envs/tensorflow_p36/lib/python3.6/site-packages/sklearn/svm/base.py:218: ConvergenceWarning: Solver terminated early (max_iter=10000).  Consider pre-processing your data with StandardScaler or MinMaxScaler.\n",
      "  % self.max_iter, ConvergenceWarning)\n",
      "/home/ubuntu/anaconda3/envs/tensorflow_p36/lib/python3.6/site-packages/sklearn/svm/base.py:218: ConvergenceWarning: Solver terminated early (max_iter=10000).  Consider pre-processing your data with StandardScaler or MinMaxScaler.\n",
      "  % self.max_iter, ConvergenceWarning)\n",
      "/home/ubuntu/anaconda3/envs/tensorflow_p36/lib/python3.6/site-packages/sklearn/svm/base.py:218: ConvergenceWarning: Solver terminated early (max_iter=10000).  Consider pre-processing your data with StandardScaler or MinMaxScaler.\n",
      "  % self.max_iter, ConvergenceWarning)\n",
      "/home/ubuntu/anaconda3/envs/tensorflow_p36/lib/python3.6/site-packages/sklearn/svm/base.py:218: ConvergenceWarning: Solver terminated early (max_iter=10000).  Consider pre-processing your data with StandardScaler or MinMaxScaler.\n",
      "  % self.max_iter, ConvergenceWarning)\n",
      "/home/ubuntu/anaconda3/envs/tensorflow_p36/lib/python3.6/site-packages/sklearn/svm/base.py:218: ConvergenceWarning: Solver terminated early (max_iter=10000).  Consider pre-processing your data with StandardScaler or MinMaxScaler.\n",
      "  % self.max_iter, ConvergenceWarning)\n",
      "/home/ubuntu/anaconda3/envs/tensorflow_p36/lib/python3.6/site-packages/sklearn/svm/base.py:218: ConvergenceWarning: Solver terminated early (max_iter=10000).  Consider pre-processing your data with StandardScaler or MinMaxScaler.\n",
      "  % self.max_iter, ConvergenceWarning)\n",
      "/home/ubuntu/anaconda3/envs/tensorflow_p36/lib/python3.6/site-packages/sklearn/svm/base.py:218: ConvergenceWarning: Solver terminated early (max_iter=10000).  Consider pre-processing your data with StandardScaler or MinMaxScaler.\n",
      "  % self.max_iter, ConvergenceWarning)\n",
      "/home/ubuntu/anaconda3/envs/tensorflow_p36/lib/python3.6/site-packages/sklearn/svm/base.py:218: ConvergenceWarning: Solver terminated early (max_iter=10000).  Consider pre-processing your data with StandardScaler or MinMaxScaler.\n",
      "  % self.max_iter, ConvergenceWarning)\n",
      "/home/ubuntu/anaconda3/envs/tensorflow_p36/lib/python3.6/site-packages/sklearn/svm/base.py:218: ConvergenceWarning: Solver terminated early (max_iter=10000).  Consider pre-processing your data with StandardScaler or MinMaxScaler.\n",
      "  % self.max_iter, ConvergenceWarning)\n",
      "/home/ubuntu/anaconda3/envs/tensorflow_p36/lib/python3.6/site-packages/sklearn/svm/base.py:218: ConvergenceWarning: Solver terminated early (max_iter=10000).  Consider pre-processing your data with StandardScaler or MinMaxScaler.\n",
      "  % self.max_iter, ConvergenceWarning)\n",
      "/home/ubuntu/anaconda3/envs/tensorflow_p36/lib/python3.6/site-packages/sklearn/svm/base.py:218: ConvergenceWarning: Solver terminated early (max_iter=10000).  Consider pre-processing your data with StandardScaler or MinMaxScaler.\n",
      "  % self.max_iter, ConvergenceWarning)\n",
      "/home/ubuntu/anaconda3/envs/tensorflow_p36/lib/python3.6/site-packages/sklearn/svm/base.py:218: ConvergenceWarning: Solver terminated early (max_iter=10000).  Consider pre-processing your data with StandardScaler or MinMaxScaler.\n",
      "  % self.max_iter, ConvergenceWarning)\n",
      "/home/ubuntu/anaconda3/envs/tensorflow_p36/lib/python3.6/site-packages/sklearn/svm/base.py:218: ConvergenceWarning: Solver terminated early (max_iter=10000).  Consider pre-processing your data with StandardScaler or MinMaxScaler.\n",
      "  % self.max_iter, ConvergenceWarning)\n",
      "/home/ubuntu/anaconda3/envs/tensorflow_p36/lib/python3.6/site-packages/sklearn/svm/base.py:218: ConvergenceWarning: Solver terminated early (max_iter=10000).  Consider pre-processing your data with StandardScaler or MinMaxScaler.\n",
      "  % self.max_iter, ConvergenceWarning)\n",
      "/home/ubuntu/anaconda3/envs/tensorflow_p36/lib/python3.6/site-packages/sklearn/svm/base.py:218: ConvergenceWarning: Solver terminated early (max_iter=10000).  Consider pre-processing your data with StandardScaler or MinMaxScaler.\n",
      "  % self.max_iter, ConvergenceWarning)\n"
     ]
    },
    {
     "data": {
      "image/png": "[encoded data removed]",
      "text/plain": [
       "<Figure size 432x288 with 1 Axes>"
      ]
     },
     "metadata": {
      "needs_background": "light"
     },
     "output_type": "display_data"
    }
   ],
   "source": [
    "train_sizes, train_mean, train_std, test_mean, test_std = gen_and_plot_learning_curve(best_clf, X_train_scaled, y_train, scoring=balanced_accuracy_scorer, ylabel='Balanced accuracy', cv=4, n_jobs=-1, title='Adult - SVM (RBF) learning curves')"
   ]
  },
  {
   "cell_type": "code",
   "execution_count": 25,
   "metadata": {},
   "outputs": [],
   "source": [
    "save_learning_curve(dataset, learner_type, train_sizes, train_mean, train_std, test_mean, test_std, extras='rbf')"
   ]
  },
  {
   "cell_type": "markdown",
   "metadata": {},
   "source": [
    "# Test Set Performance"
   ]
  },
  {
   "cell_type": "code",
   "execution_count": 26,
   "metadata": {},
   "outputs": [
    {
     "name": "stderr",
     "output_type": "stream",
     "text": [
      "/home/ubuntu/anaconda3/envs/tensorflow_p36/lib/python3.6/site-packages/sklearn/svm/base.py:218: ConvergenceWarning: Solver terminated early (max_iter=10000).  Consider pre-processing your data with StandardScaler or MinMaxScaler.\n",
      "  % self.max_iter, ConvergenceWarning)\n"
     ]
    },
    {
     "name": "stdout",
     "output_type": "stream",
     "text": [
      "0.7655\n"
     ]
    }
   ],
   "source": [
    "best_clf.fit(X_train_scaled, y_train)\n",
    "y_test_pred = best_clf.predict(X_test_scaled)\n",
    "test_score = balanced_accuracy(y_test, y_test_pred)"
   ]
  },
  {
   "cell_type": "code",
   "execution_count": 27,
   "metadata": {},
   "outputs": [
    {
     "name": "stdout",
     "output_type": "stream",
     "text": [
      "0.7655\n"
     ]
    }
   ],
   "source": [
    "print('%.4f' % test_score)"
   ]
  },
  {
   "cell_type": "code",
   "execution_count": null,
   "metadata": {},
   "outputs": [],
   "source": []
  }
 ],
 "metadata": {
  "kernelspec": {
   "display_name": "Python 3",
   "language": "python",
   "name": "python3"
  },
  "language_info": {
   "codemirror_mode": {
    "name": "ipython",
    "version": 3
   },
   "file_extension": ".py",
   "mimetype": "text/x-python",
   "name": "python",
   "nbconvert_exporter": "python",
   "pygments_lexer": "ipython3",
   "version": "3.6.6"
  }
 },
 "nbformat": 4,
 "nbformat_minor": 2
}
