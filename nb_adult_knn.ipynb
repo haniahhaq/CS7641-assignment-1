{
 "cells": [
  {
   "cell_type": "code",
   "execution_count": 1,
   "metadata": {},
   "outputs": [],
   "source": [
    "%load_ext autoreload\n",
    "%autoreload 1\n",
    "%aimport helpers, loaders, plotters "
   ]
  },
  {
   "cell_type": "code",
   "execution_count": 26,
   "metadata": {},
   "outputs": [
    {
     "name": "stdout",
     "output_type": "stream",
     "text": [
      "env: JOBLIB_TEMP_FOLDER=/tmp\n"
     ]
    }
   ],
   "source": [
    "# This helps with joblib \"No space left on device\" errors\n",
    "%env JOBLIB_TEMP_FOLDER=/tmp"
   ]
  },
  {
   "cell_type": "code",
   "execution_count": 1,
   "metadata": {
    "scrolled": true
   },
   "outputs": [],
   "source": [
    "from pprint import pprint\n",
    "from math import ceil, floor\n",
    "from itertools import product\n",
    "\n",
    "import matplotlib.pyplot as plt\n",
    "import numpy as np\n",
    "import pandas as pd\n",
    "import scipy.stats\n",
    "from sklearn.metrics import accuracy_score\n",
    "from sklearn.model_selection import train_test_split, GridSearchCV, RandomizedSearchCV\n",
    "from sklearn.preprocessing import MinMaxScaler, StandardScaler\n",
    "\n",
    "from helpers import balanced_accuracy_scorer, balanced_accuracy, load_best_result, save_search_result, scikit_cv_result_to_df\n",
    "from loaders import load_adult, load_mnist\n",
    "from plotters import plot_means_w_stds, gen_and_plot_learning_curve, plot_learning_curve, gen_and_plot_validation_curve, plot_validation_curve"
   ]
  },
  {
   "cell_type": "markdown",
   "metadata": {},
   "source": [
    "## Load and Preprocess Data"
   ]
  },
  {
   "cell_type": "code",
   "execution_count": 2,
   "metadata": {},
   "outputs": [],
   "source": [
    "dataset = 'adult'\n",
    "learner_type = 'KNN'\n",
    "loader_func = load_adult"
   ]
  },
  {
   "cell_type": "code",
   "execution_count": 3,
   "metadata": {},
   "outputs": [
    {
     "name": "stdout",
     "output_type": "stream",
     "text": [
      "Dataset shape (30162, 105)\n",
      "Value composition:\n",
      "0    0.751078\n",
      "1    0.248922\n",
      "Name: target, dtype: float64\n"
     ]
    }
   ],
   "source": [
    "df = loader_func(preprocess=True)"
   ]
  },
  {
   "cell_type": "markdown",
   "metadata": {},
   "source": [
    "### Split data into training and testing"
   ]
  },
  {
   "cell_type": "code",
   "execution_count": 4,
   "metadata": {},
   "outputs": [],
   "source": [
    "X = df[[c for c in df.columns if c != 'target']]\n",
    "y = df['target']\n",
    "X_train, X_test, y_train, y_test = train_test_split(X, y, test_size=0.3, stratify=y, random_state=1)"
   ]
  },
  {
   "cell_type": "markdown",
   "metadata": {},
   "source": [
    "### Scale Data"
   ]
  },
  {
   "cell_type": "code",
   "execution_count": 5,
   "metadata": {},
   "outputs": [],
   "source": [
    "# Use min max scaling because input dataset is sparse, i.e. mostly zeros\n",
    "scaler = MinMaxScaler()\n",
    "\n",
    "X_train_scaled = scaler.fit_transform(X_train)\n",
    "X_test_scaled = scaler.transform(X_test)"
   ]
  },
  {
   "cell_type": "markdown",
   "metadata": {},
   "source": [
    "## KNN Model Selection"
   ]
  },
  {
   "cell_type": "code",
   "execution_count": 7,
   "metadata": {},
   "outputs": [],
   "source": [
    "from sklearn.neighbors import KNeighborsClassifier\n",
    "\n",
    "clf = KNeighborsClassifier()"
   ]
  },
  {
   "cell_type": "code",
   "execution_count": 12,
   "metadata": {},
   "outputs": [],
   "source": [
    "param_grid = {\n",
    "    'n_neighbors': range(1, 16),\n",
    "    'weights': ['uniform', 'distance'],\n",
    "}"
   ]
  },
  {
   "cell_type": "code",
   "execution_count": 9,
   "metadata": {},
   "outputs": [],
   "source": [
    "grid_search = GridSearchCV(\n",
    "    estimator=clf,\n",
    "    param_grid=param_grid,\n",
    "    scoring=balanced_accuracy_scorer,\n",
    "    return_train_score=True,\n",
    "    cv=4,\n",
    "    verbose=1,\n",
    "    n_jobs=-1,\n",
    ")"
   ]
  },
  {
   "cell_type": "code",
   "execution_count": 10,
   "metadata": {},
   "outputs": [
    {
     "name": "stdout",
     "output_type": "stream",
     "text": [
      "Fitting 4 folds for each of 30 candidates, totalling 120 fits\n"
     ]
    },
    {
     "name": "stderr",
     "output_type": "stream",
     "text": [
      "[Parallel(n_jobs=-1)]: Done  42 tasks      | elapsed:  7.3min\n",
      "[Parallel(n_jobs=-1)]: Done 120 out of 120 | elapsed: 26.9min finished\n"
     ]
    },
    {
     "data": {
      "text/plain": [
       "GridSearchCV(cv=4, error_score='raise',\n",
       "       estimator=KNeighborsClassifier(algorithm='auto', leaf_size=30, metric='minkowski',\n",
       "           metric_params=None, n_jobs=1, n_neighbors=5, p=2,\n",
       "           weights='uniform'),\n",
       "       fit_params=None, iid=True, n_jobs=-1,\n",
       "       param_grid={'n_neighbors': range(1, 16), 'weights': ['uniform', 'distance']},\n",
       "       pre_dispatch='2*n_jobs', refit=True, return_train_score=True,\n",
       "       scoring=make_scorer(balanced_accuracy), verbose=1)"
      ]
     },
     "execution_count": 10,
     "metadata": {},
     "output_type": "execute_result"
    }
   ],
   "source": [
    "grid_search.fit(X_train_scaled, y_train)"
   ]
  },
  {
   "cell_type": "code",
   "execution_count": 11,
   "metadata": {},
   "outputs": [],
   "source": [
    "save_search_result(grid_search, dataset, learner_type)"
   ]
  },
  {
   "cell_type": "markdown",
   "metadata": {},
   "source": [
    "### Analysis"
   ]
  },
  {
   "cell_type": "code",
   "execution_count": 9,
   "metadata": {},
   "outputs": [
    {
     "name": "stdout",
     "output_type": "stream",
     "text": [
      "Found the following results files for this dataset/algorithm: ['0.749_adult_KNN_2018-09-18_18-40-04-00.pkl']\n",
      "Returning results for the highest-scoring-file: 0.749_adult_KNN_2018-09-18_18-40-04-00.pkl\n"
     ]
    },
    {
     "data": {
      "text/html": [
       "<div>\n",
       "<style scoped>\n",
       "    .dataframe tbody tr th:only-of-type {\n",
       "        vertical-align: middle;\n",
       "    }\n",
       "\n",
       "    .dataframe tbody tr th {\n",
       "        vertical-align: top;\n",
       "    }\n",
       "\n",
       "    .dataframe thead th {\n",
       "        text-align: right;\n",
       "    }\n",
       "</style>\n",
       "<table border=\"1\" class=\"dataframe\">\n",
       "  <thead>\n",
       "    <tr style=\"text-align: right;\">\n",
       "      <th></th>\n",
       "      <th></th>\n",
       "      <th>mean_fit_time</th>\n",
       "      <th>std_fit_time</th>\n",
       "      <th>mean_score_time</th>\n",
       "      <th>std_score_time</th>\n",
       "      <th>mean_test_score</th>\n",
       "      <th>std_test_score</th>\n",
       "      <th>rank_test_score</th>\n",
       "      <th>mean_train_score</th>\n",
       "      <th>std_train_score</th>\n",
       "    </tr>\n",
       "    <tr>\n",
       "      <th>n_neighbors</th>\n",
       "      <th>weights</th>\n",
       "      <th></th>\n",
       "      <th></th>\n",
       "      <th></th>\n",
       "      <th></th>\n",
       "      <th></th>\n",
       "      <th></th>\n",
       "      <th></th>\n",
       "      <th></th>\n",
       "      <th></th>\n",
       "    </tr>\n",
       "  </thead>\n",
       "  <tbody>\n",
       "    <tr>\n",
       "      <th>15</th>\n",
       "      <th>uniform</th>\n",
       "      <td>0.302700</td>\n",
       "      <td>0.003255</td>\n",
       "      <td>16.050710</td>\n",
       "      <td>0.336106</td>\n",
       "      <td>0.749188</td>\n",
       "      <td>0.002872</td>\n",
       "      <td>1</td>\n",
       "      <td>0.773662</td>\n",
       "      <td>0.001142</td>\n",
       "    </tr>\n",
       "    <tr>\n",
       "      <th>13</th>\n",
       "      <th>uniform</th>\n",
       "      <td>0.329925</td>\n",
       "      <td>0.022524</td>\n",
       "      <td>16.372293</td>\n",
       "      <td>0.151456</td>\n",
       "      <td>0.748269</td>\n",
       "      <td>0.003275</td>\n",
       "      <td>2</td>\n",
       "      <td>0.776797</td>\n",
       "      <td>0.001722</td>\n",
       "    </tr>\n",
       "    <tr>\n",
       "      <th>9</th>\n",
       "      <th>uniform</th>\n",
       "      <td>0.399882</td>\n",
       "      <td>0.070929</td>\n",
       "      <td>20.410653</td>\n",
       "      <td>0.540354</td>\n",
       "      <td>0.748121</td>\n",
       "      <td>0.006239</td>\n",
       "      <td>3</td>\n",
       "      <td>0.787032</td>\n",
       "      <td>0.001595</td>\n",
       "    </tr>\n",
       "    <tr>\n",
       "      <th>11</th>\n",
       "      <th>uniform</th>\n",
       "      <td>0.362788</td>\n",
       "      <td>0.102536</td>\n",
       "      <td>15.707246</td>\n",
       "      <td>0.222228</td>\n",
       "      <td>0.747540</td>\n",
       "      <td>0.004235</td>\n",
       "      <td>4</td>\n",
       "      <td>0.780166</td>\n",
       "      <td>0.001840</td>\n",
       "    </tr>\n",
       "    <tr>\n",
       "      <th>7</th>\n",
       "      <th>uniform</th>\n",
       "      <td>0.292467</td>\n",
       "      <td>0.020527</td>\n",
       "      <td>13.517263</td>\n",
       "      <td>0.264971</td>\n",
       "      <td>0.745202</td>\n",
       "      <td>0.003324</td>\n",
       "      <td>5</td>\n",
       "      <td>0.795927</td>\n",
       "      <td>0.001732</td>\n",
       "    </tr>\n",
       "    <tr>\n",
       "      <th>14</th>\n",
       "      <th>distance</th>\n",
       "      <td>0.328005</td>\n",
       "      <td>0.041895</td>\n",
       "      <td>16.431472</td>\n",
       "      <td>0.246185</td>\n",
       "      <td>0.744002</td>\n",
       "      <td>0.004926</td>\n",
       "      <td>6</td>\n",
       "      <td>0.999937</td>\n",
       "      <td>0.000063</td>\n",
       "    </tr>\n",
       "    <tr>\n",
       "      <th>5</th>\n",
       "      <th>uniform</th>\n",
       "      <td>0.313404</td>\n",
       "      <td>0.011798</td>\n",
       "      <td>12.704614</td>\n",
       "      <td>0.161904</td>\n",
       "      <td>0.743855</td>\n",
       "      <td>0.002115</td>\n",
       "      <td>7</td>\n",
       "      <td>0.810161</td>\n",
       "      <td>0.002917</td>\n",
       "    </tr>\n",
       "    <tr>\n",
       "      <th>15</th>\n",
       "      <th>distance</th>\n",
       "      <td>0.310260</td>\n",
       "      <td>0.002697</td>\n",
       "      <td>16.471544</td>\n",
       "      <td>0.160483</td>\n",
       "      <td>0.742638</td>\n",
       "      <td>0.004043</td>\n",
       "      <td>8</td>\n",
       "      <td>0.999937</td>\n",
       "      <td>0.000063</td>\n",
       "    </tr>\n",
       "    <tr>\n",
       "      <th>13</th>\n",
       "      <th>distance</th>\n",
       "      <td>0.334129</td>\n",
       "      <td>0.025383</td>\n",
       "      <td>15.880834</td>\n",
       "      <td>0.201444</td>\n",
       "      <td>0.742071</td>\n",
       "      <td>0.006239</td>\n",
       "      <td>9</td>\n",
       "      <td>0.999937</td>\n",
       "      <td>0.000063</td>\n",
       "    </tr>\n",
       "    <tr>\n",
       "      <th>12</th>\n",
       "      <th>distance</th>\n",
       "      <td>0.328304</td>\n",
       "      <td>0.032211</td>\n",
       "      <td>15.755960</td>\n",
       "      <td>0.384243</td>\n",
       "      <td>0.741122</td>\n",
       "      <td>0.006872</td>\n",
       "      <td>10</td>\n",
       "      <td>0.999937</td>\n",
       "      <td>0.000063</td>\n",
       "    </tr>\n",
       "  </tbody>\n",
       "</table>\n",
       "</div>"
      ],
      "text/plain": [
       "                      mean_fit_time  std_fit_time  mean_score_time  \\\n",
       "n_neighbors weights                                                  \n",
       "15          uniform        0.302700      0.003255        16.050710   \n",
       "13          uniform        0.329925      0.022524        16.372293   \n",
       "9           uniform        0.399882      0.070929        20.410653   \n",
       "11          uniform        0.362788      0.102536        15.707246   \n",
       "7           uniform        0.292467      0.020527        13.517263   \n",
       "14          distance       0.328005      0.041895        16.431472   \n",
       "5           uniform        0.313404      0.011798        12.704614   \n",
       "15          distance       0.310260      0.002697        16.471544   \n",
       "13          distance       0.334129      0.025383        15.880834   \n",
       "12          distance       0.328304      0.032211        15.755960   \n",
       "\n",
       "                      std_score_time  mean_test_score  std_test_score  \\\n",
       "n_neighbors weights                                                     \n",
       "15          uniform         0.336106         0.749188        0.002872   \n",
       "13          uniform         0.151456         0.748269        0.003275   \n",
       "9           uniform         0.540354         0.748121        0.006239   \n",
       "11          uniform         0.222228         0.747540        0.004235   \n",
       "7           uniform         0.264971         0.745202        0.003324   \n",
       "14          distance        0.246185         0.744002        0.004926   \n",
       "5           uniform         0.161904         0.743855        0.002115   \n",
       "15          distance        0.160483         0.742638        0.004043   \n",
       "13          distance        0.201444         0.742071        0.006239   \n",
       "12          distance        0.384243         0.741122        0.006872   \n",
       "\n",
       "                      rank_test_score  mean_train_score  std_train_score  \n",
       "n_neighbors weights                                                       \n",
       "15          uniform                 1          0.773662         0.001142  \n",
       "13          uniform                 2          0.776797         0.001722  \n",
       "9           uniform                 3          0.787032         0.001595  \n",
       "11          uniform                 4          0.780166         0.001840  \n",
       "7           uniform                 5          0.795927         0.001732  \n",
       "14          distance                6          0.999937         0.000063  \n",
       "5           uniform                 7          0.810161         0.002917  \n",
       "15          distance                8          0.999937         0.000063  \n",
       "13          distance                9          0.999937         0.000063  \n",
       "12          distance               10          0.999937         0.000063  "
      ]
     },
     "execution_count": 9,
     "metadata": {},
     "output_type": "execute_result"
    }
   ],
   "source": [
    "# res = grid_search.cv_results_\n",
    "res = load_best_result(dataset, learner_type)\n",
    "res_df = scikit_cv_result_to_df(res)\n",
    "res_df.sort_values(by='rank_test_score').head(10)"
   ]
  },
  {
   "cell_type": "code",
   "execution_count": 10,
   "metadata": {},
   "outputs": [],
   "source": [
    "distance = res_df.xs('distance', level='weights')\n",
    "uniform = res_df.xs('uniform', level='weights')"
   ]
  },
  {
   "cell_type": "code",
   "execution_count": 18,
   "metadata": {},
   "outputs": [
    {
     "data": {
      "image/png": "[encoded data removed]",
      "text/plain": [
       "<Figure size 432x288 with 1 Axes>"
      ]
     },
     "metadata": {},
     "output_type": "display_data"
    }
   ],
   "source": [
    "# Plot combined validation curve\n",
    "plot_means_w_stds(\n",
    "    means=(distance['mean_train_score'], uniform['mean_train_score'], distance['mean_test_score'], uniform['mean_test_score']),\n",
    "    stds=(distance['std_train_score'], uniform['std_train_score'], distance['std_test_score'], uniform['std_test_score']),\n",
    "    xrange=param_grid['n_neighbors'],\n",
    "    xlabel='n_neighbors',\n",
    "    ylabel='Balanced accuracy',\n",
    "    series_labels=('Train: distance', 'Train: uniform', 'CV: distance', 'CV: uniform'),\n",
    "    title='Adult - k-NN validation - distance weighting vs uniform',\n",
    "    legend_kwargs={'loc': 'best', 'ncol': 2}\n",
    ")"
   ]
  },
  {
   "cell_type": "markdown",
   "metadata": {},
   "source": [
    "### Timing Analysis"
   ]
  },
  {
   "cell_type": "code",
   "execution_count": 25,
   "metadata": {},
   "outputs": [
    {
     "data": {
      "image/png": "[encoded data removed]",
      "text/plain": [
       "<Figure size 432x288 with 1 Axes>"
      ]
     },
     "metadata": {},
     "output_type": "display_data"
    }
   ],
   "source": [
    "means = [uniform['mean_score_time'], distance['mean_score_time']]\n",
    "stds = [uniform['std_score_time'], distance['std_score_time']]\n",
    "labels = ['Uniform', 'Distance-weighted']\n",
    "\n",
    "# Calculate per-sample mean\n",
    "n_samples = X_train_scaled.shape[0] / 4 # one quarter of dataset was scored for 4-fold validation\n",
    "means_per_samp = [mean / n_samples * 1000 for mean in means]\n",
    "stds_per_samp = [std / n_samples * 1000 for std in stds]\n",
    "\n",
    "plot_means_w_stds(\n",
    "    means_per_samp,\n",
    "    stds_per_samp,\n",
    "    param_grid['n_neighbors'],\n",
    "    series_labels=labels,\n",
    "    title='Adult - k-NN query time complexity',\n",
    "    legend_kwargs={'loc': 'best'},\n",
    "    ylabel='Score time per sample (ms)',\n",
    "    xlabel='Number of weak learners',\n",
    "    linestyles=['-']*2,\n",
    "#     fig_kwargs={'figsize': (10,6)},\n",
    ")"
   ]
  },
  {
   "cell_type": "markdown",
   "metadata": {},
   "source": [
    "## kNN Learning Curve Analysis\n",
    "\n",
    "### What is the best estimator?"
   ]
  },
  {
   "cell_type": "code",
   "execution_count": 33,
   "metadata": {},
   "outputs": [
    {
     "data": {
      "text/plain": [
       "{'algorithm': 'auto',\n",
       " 'leaf_size': 30,\n",
       " 'metric': 'minkowski',\n",
       " 'metric_params': None,\n",
       " 'n_jobs': 1,\n",
       " 'n_neighbors': 15,\n",
       " 'p': 2,\n",
       " 'weights': 'uniform'}"
      ]
     },
     "execution_count": 33,
     "metadata": {},
     "output_type": "execute_result"
    }
   ],
   "source": [
    "best_params = res['params'][np.argmax(res['mean_test_score'])]\n",
    "clf = KNeighborsClassifier(**best_params)\n",
    "clf.get_params()"
   ]
  },
  {
   "cell_type": "code",
   "execution_count": 34,
   "metadata": {},
   "outputs": [
    {
     "data": {
      "image/png": "[encoded data removed]",
      "text/plain": [
       "<Figure size 432x288 with 1 Axes>"
      ]
     },
     "metadata": {},
     "output_type": "display_data"
    }
   ],
   "source": [
    "train_sizes, train_scores, test_scores, train_mean, train_std, test_mean, test_std = gen_and_plot_learning_curve(clf, X_train_scaled, y_train, ylabel='Balanced accuracy', cv=4, n_jobs=-1, title='Adult - k-NN learning curves')"
   ]
  },
  {
   "cell_type": "markdown",
   "metadata": {},
   "source": [
    "# Performance on Test Set"
   ]
  },
  {
   "cell_type": "code",
   "execution_count": 35,
   "metadata": {},
   "outputs": [
    {
     "name": "stdout",
     "output_type": "stream",
     "text": [
      "0.7480\n"
     ]
    }
   ],
   "source": [
    "best_clf = KNeighborsClassifier(**best_params)\n",
    "\n",
    "best_clf.fit(X_train_scaled, y_train)\n",
    "y_test_pred = best_clf.predict(X_test_scaled)\n",
    "test_score = balanced_accuracy(y_test, y_test_pred)\n",
    "print('%.4f' % test_score)"
   ]
  },
  {
   "cell_type": "code",
   "execution_count": null,
   "metadata": {},
   "outputs": [],
   "source": []
  }
 ],
 "metadata": {
  "kernelspec": {
   "display_name": "Python 3",
   "language": "python",
   "name": "python3"
  },
  "language_info": {
   "codemirror_mode": {
    "name": "ipython",
    "version": 3
   },
   "file_extension": ".py",
   "mimetype": "text/x-python",
   "name": "python",
   "nbconvert_exporter": "python",
   "pygments_lexer": "ipython3",
   "version": "3.6.3"
  }
 },
 "nbformat": 4,
 "nbformat_minor": 2
}
