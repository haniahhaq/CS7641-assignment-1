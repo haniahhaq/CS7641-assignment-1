{
 "cells": [
  {
   "cell_type": "code",
   "execution_count": 20,
   "metadata": {},
   "outputs": [
    {
     "name": "stdout",
     "output_type": "stream",
     "text": [
      "The autoreload extension is already loaded. To reload it, use:\n",
      "  %reload_ext autoreload\n"
     ]
    }
   ],
   "source": [
    "%load_ext autoreload"
   ]
  },
  {
   "cell_type": "code",
   "execution_count": 21,
   "metadata": {},
   "outputs": [],
   "source": [
    "%autoreload 1"
   ]
  },
  {
   "cell_type": "code",
   "execution_count": 22,
   "metadata": {},
   "outputs": [],
   "source": [
    "%aimport helpers, loaders, plotters "
   ]
  },
  {
   "cell_type": "code",
   "execution_count": 1,
   "metadata": {
    "scrolled": true
   },
   "outputs": [],
   "source": [
    "from pprint import pprint\n",
    "from math import ceil\n",
    "from itertools import product\n",
    "\n",
    "import matplotlib.pyplot as plt\n",
    "import numpy as np\n",
    "import pandas as pd\n",
    "import scipy.stats\n",
    "from sklearn.model_selection import train_test_split, GridSearchCV, RandomizedSearchCV\n",
    "from sklearn.preprocessing import MinMaxScaler, StandardScaler\n",
    "\n",
    "from helpers import load_best_result, save_search_result\n",
    "from loaders import load_adult, load_mnist\n",
    "from plotters import plot_means_w_stds, gen_and_plot_learning_curve, plot_learning_curve, gen_and_plot_validation_curve, plot_validation_curve"
   ]
  },
  {
   "cell_type": "markdown",
   "metadata": {},
   "source": [
    "# Load and Preprocess Data"
   ]
  },
  {
   "cell_type": "code",
   "execution_count": 2,
   "metadata": {},
   "outputs": [],
   "source": [
    "df = load_adult(preprocess=True)"
   ]
  },
  {
   "cell_type": "markdown",
   "metadata": {},
   "source": [
    "### Split data into training and testing"
   ]
  },
  {
   "cell_type": "code",
   "execution_count": 3,
   "metadata": {},
   "outputs": [],
   "source": [
    "X = df[[c for c in df.columns if c != 'target']]\n",
    "y = df['target']\n",
    "X_train, X_test, y_train, y_test = train_test_split(X, y, test_size=0.3, stratify=y, random_state=1)"
   ]
  },
  {
   "cell_type": "markdown",
   "metadata": {},
   "source": [
    "### Skip Scaling for decision trees - it won't make a difference"
   ]
  },
  {
   "cell_type": "markdown",
   "metadata": {},
   "source": [
    "# Decision Tree Model Complexity"
   ]
  },
  {
   "cell_type": "code",
   "execution_count": 4,
   "metadata": {},
   "outputs": [
    {
     "data": {
      "text/plain": [
       "{'class_weight': None,\n",
       " 'criterion': 'gini',\n",
       " 'max_depth': None,\n",
       " 'max_features': None,\n",
       " 'max_leaf_nodes': None,\n",
       " 'min_impurity_decrease': 0.0,\n",
       " 'min_impurity_split': None,\n",
       " 'min_samples_leaf': 1,\n",
       " 'min_samples_split': 2,\n",
       " 'min_weight_fraction_leaf': 0.0,\n",
       " 'presort': False,\n",
       " 'random_state': None,\n",
       " 'splitter': 'best'}"
      ]
     },
     "execution_count": 4,
     "metadata": {},
     "output_type": "execute_result"
    }
   ],
   "source": [
    "from sklearn.tree import DecisionTreeClassifier\n",
    "\n",
    "base_clf = DecisionTreeClassifier()\n",
    "\n",
    "base_clf.get_params()"
   ]
  },
  {
   "cell_type": "code",
   "execution_count": 5,
   "metadata": {},
   "outputs": [],
   "source": [
    "param_grid = {\n",
    "    'criterion': ['gini', 'entropy'],\n",
    "    'max_depth': range(1,17),\n",
    "}"
   ]
  },
  {
   "cell_type": "code",
   "execution_count": 6,
   "metadata": {},
   "outputs": [],
   "source": [
    "grid_search = GridSearchCV(\n",
    "    estimator=base_clf,\n",
    "    param_grid=param_grid,\n",
    "    scoring='accuracy',\n",
    "    return_train_score=True,\n",
    "    cv=4,\n",
    "    verbose=10,\n",
    "    n_jobs=-1,\n",
    ")"
   ]
  },
  {
   "cell_type": "code",
   "execution_count": 7,
   "metadata": {},
   "outputs": [
    {
     "name": "stdout",
     "output_type": "stream",
     "text": [
      "Fitting 4 folds for each of 32 candidates, totalling 128 fits\n",
      "[CV] criterion=gini, max_depth=1 .....................................\n",
      "[CV] criterion=gini, max_depth=1 .....................................\n",
      "[CV] criterion=gini, max_depth=1 .....................................\n",
      "[CV] criterion=gini, max_depth=1 .....................................\n",
      "[CV]  criterion=gini, max_depth=1, score=0.751042061386889, total=   0.0s\n",
      "[CV]  criterion=gini, max_depth=1, score=0.7510892214434552, total=   0.1s\n",
      "[CV] criterion=gini, max_depth=2 .....................................\n",
      "[CV] criterion=gini, max_depth=2 .....................................\n",
      "[CV]  criterion=gini, max_depth=1, score=0.751042061386889, total=   0.1s\n",
      "[CV]  criterion=gini, max_depth=2, score=0.8259139988634211, total=   0.1s\n",
      "[CV] criterion=gini, max_depth=2 .....................................\n",
      "[CV] criterion=gini, max_depth=2 .....................................\n",
      "[CV]  criterion=gini, max_depth=2, score=0.8198181129215611, total=   0.1s\n",
      "[CV] criterion=gini, max_depth=3 .....................................\n",
      "[CV]  criterion=gini, max_depth=1, score=0.751042061386889, total=   0.1s\n",
      "[CV] criterion=gini, max_depth=3 .....................................\n",
      "[CV]  criterion=gini, max_depth=2, score=0.8251231527093597, total=   0.1s\n",
      "[CV]  criterion=gini, max_depth=2, score=0.8260704812428951, total=   0.1s\n"
     ]
    },
    {
     "name": "stderr",
     "output_type": "stream",
     "text": [
      "[Parallel(n_jobs=-1)]: Batch computation too fast (0.1165s.) Setting batch_size=2.\n",
      "[Parallel(n_jobs=-1)]: Done   5 tasks      | elapsed:    0.3s\n"
     ]
    },
    {
     "name": "stdout",
     "output_type": "stream",
     "text": [
      "[CV] criterion=gini, max_depth=4 .....................................\n",
      "[CV] criterion=gini, max_depth=4 .....................................\n",
      "[CV]  criterion=gini, max_depth=3, score=0.840310664898655, total=   0.1s\n",
      "[CV] criterion=gini, max_depth=3 .....................................\n",
      "[CV]  criterion=gini, max_depth=3, score=0.8436907919666541, total=   0.1s\n",
      "[CV] criterion=gini, max_depth=3 .....................................\n",
      "[CV]  criterion=gini, max_depth=3, score=0.8355437665782494, total=   0.1s\n",
      "[CV]  criterion=gini, max_depth=4, score=0.8438802576733612, total=   0.1s\n",
      "[CV]  criterion=gini, max_depth=4, score=0.8412578139799204, total=   0.1s\n",
      "[CV] criterion=gini, max_depth=4 .....................................\n",
      "[CV] criterion=gini, max_depth=4 .....................................\n",
      "[CV] criterion=gini, max_depth=5 .....................................\n",
      "[CV]  criterion=gini, max_depth=3, score=0.8400909435392194, total=   0.1s\n",
      "[CV] criterion=gini, max_depth=5 .....................................\n",
      "[CV]  criterion=gini, max_depth=4, score=0.8355437665782494, total=   0.1s\n",
      "[CV]  criterion=gini, max_depth=4, score=0.8400909435392194, total=   0.1s\n",
      "[CV] criterion=gini, max_depth=6 .....................................\n",
      "[CV]  criterion=gini, max_depth=5, score=0.8459935593862474, total=   0.1s\n",
      "[CV] criterion=gini, max_depth=6 .....................................\n",
      "[CV] criterion=gini, max_depth=5 .....................................\n",
      "[CV]  criterion=gini, max_depth=5, score=0.8461538461538461, total=   0.2s\n",
      "[CV] criterion=gini, max_depth=5 .....................................\n"
     ]
    },
    {
     "name": "stderr",
     "output_type": "stream",
     "text": [
      "[Parallel(n_jobs=-1)]: Done  12 tasks      | elapsed:    0.5s\n"
     ]
    },
    {
     "name": "stdout",
     "output_type": "stream",
     "text": [
      "[CV]  criterion=gini, max_depth=5, score=0.8359226979916635, total=   0.1s\n",
      "[CV]  criterion=gini, max_depth=6, score=0.8482667171812843, total=   0.1s\n",
      "[CV] criterion=gini, max_depth=6 .....................................\n",
      "[CV] criterion=gini, max_depth=7 .....................................\n",
      "[CV]  criterion=gini, max_depth=6, score=0.8510799545282304, total=   0.2s\n",
      "[CV] criterion=gini, max_depth=6 .....................................\n",
      "[CV]  criterion=gini, max_depth=5, score=0.8484274346343312, total=   0.2s\n",
      "[CV]  criterion=gini, max_depth=6, score=0.8421750663129973, total=   0.1s\n",
      "[CV] criterion=gini, max_depth=7 .....................................\n",
      "[CV] criterion=gini, max_depth=8 .....................................\n",
      "[CV]  criterion=gini, max_depth=7, score=0.849782155711309, total=   0.2s\n",
      "[CV] criterion=gini, max_depth=7 .....................................\n",
      "[CV]  criterion=gini, max_depth=6, score=0.8514588859416445, total=   0.2s\n",
      "[CV] criterion=gini, max_depth=8 .....................................\n",
      "[CV]  criterion=gini, max_depth=7, score=0.8467222432739674, total=   0.2s\n",
      "[CV]  criterion=gini, max_depth=7, score=0.854679802955665, total=   0.2s\n",
      "[CV] criterion=gini, max_depth=9 .....................................\n",
      "[CV] criterion=gini, max_depth=7 .....................................\n",
      "[CV]  criterion=gini, max_depth=8, score=0.8486455768137905, total=   0.2s\n",
      "[CV] criterion=gini, max_depth=8 .....................................\n",
      "[CV]  criterion=gini, max_depth=8, score=0.8552482000757863, total=   0.2s\n",
      "[CV] criterion=gini, max_depth=8 .....................................\n"
     ]
    },
    {
     "name": "stderr",
     "output_type": "stream",
     "text": [
      "[Parallel(n_jobs=-1)]: Done  26 tasks      | elapsed:    1.2s\n"
     ]
    },
    {
     "name": "stdout",
     "output_type": "stream",
     "text": [
      "[CV]  criterion=gini, max_depth=7, score=0.8512694202349375, total=   0.2s\n",
      "[CV] criterion=gini, max_depth=9 .....................................\n",
      "[CV]  criterion=gini, max_depth=9, score=0.8476984277325251, total=   0.2s\n",
      "[CV] criterion=gini, max_depth=9 .....................................\n",
      "[CV]  criterion=gini, max_depth=8, score=0.8491852974611596, total=   0.2s\n",
      "[CV] criterion=gini, max_depth=10 ....................................\n",
      "[CV]  criterion=gini, max_depth=8, score=0.8535430087154225, total=   0.2s\n",
      "[CV] criterion=gini, max_depth=10 ....................................\n",
      "[CV]  criterion=gini, max_depth=9, score=0.8459643804471391, total=   0.2s\n",
      "[CV]  criterion=gini, max_depth=9, score=0.8535430087154225, total=   0.2s\n",
      "[CV] criterion=gini, max_depth=11 ....................................\n",
      "[CV] criterion=gini, max_depth=9 .....................................\n",
      "[CV]  criterion=gini, max_depth=10, score=0.8471301382837658, total=   0.2s\n",
      "[CV] criterion=gini, max_depth=10 ....................................\n",
      "[CV]  criterion=gini, max_depth=10, score=0.8508904888215233, total=   0.2s\n",
      "[CV] criterion=gini, max_depth=10 ....................................\n",
      "[CV]  criterion=gini, max_depth=9, score=0.8516483516483516, total=   0.2s\n",
      "[CV] criterion=gini, max_depth=11 ....................................\n",
      "[CV]  criterion=gini, max_depth=11, score=0.8431521121424512, total=   0.2s\n",
      "[CV] criterion=gini, max_depth=11 ....................................\n",
      "[CV]  criterion=gini, max_depth=10, score=0.8505115574081091, total=   0.2s\n",
      "[CV] criterion=gini, max_depth=12 ....................................\n",
      "[CV]  criterion=gini, max_depth=10, score=0.845774914740432, total=   0.2s\n",
      "[CV] criterion=gini, max_depth=12 ....................................\n",
      "[CV]  criterion=gini, max_depth=11, score=0.8508904888215233, total=   0.2s\n",
      "[CV] criterion=gini, max_depth=11 ....................................\n",
      "[CV]  criterion=gini, max_depth=11, score=0.8455854490337249, total=   0.2s\n",
      "[CV] criterion=gini, max_depth=13 ....................................\n",
      "[CV]  criterion=gini, max_depth=12, score=0.8420155332449327, total=   0.2s\n",
      "[CV] criterion=gini, max_depth=12 ....................................\n"
     ]
    },
    {
     "name": "stderr",
     "output_type": "stream",
     "text": [
      "[Parallel(n_jobs=-1)]: Done  40 tasks      | elapsed:    1.9s\n"
     ]
    },
    {
     "name": "stdout",
     "output_type": "stream",
     "text": [
      "[CV]  criterion=gini, max_depth=12, score=0.8478590375142099, total=   0.2s\n",
      "[CV] criterion=gini, max_depth=12 ....................................\n",
      "[CV]  criterion=gini, max_depth=11, score=0.8495642288745737, total=   0.2s\n",
      "[CV] criterion=gini, max_depth=13 ....................................\n",
      "[CV]  criterion=gini, max_depth=12, score=0.839143615005684, total=   0.2s\n",
      "[CV] criterion=gini, max_depth=14 ....................................\n",
      "[CV]  criterion=gini, max_depth=13, score=0.8370903580223528, total=   0.3s\n",
      "[CV] criterion=gini, max_depth=13 ....................................\n",
      "[CV]  criterion=gini, max_depth=12, score=0.8467222432739674, total=   0.3s\n",
      "[CV] criterion=gini, max_depth=14 ....................................\n",
      "[CV]  criterion=gini, max_depth=13, score=0.8463433118605532, total=   0.2s\n",
      "[CV] criterion=gini, max_depth=13 ....................................\n",
      "[CV]  criterion=gini, max_depth=14, score=0.8369009282060996, total=   0.2s\n",
      "[CV] criterion=gini, max_depth=14 ....................................\n",
      "[CV]  criterion=gini, max_depth=13, score=0.837059492231906, total=   0.2s\n",
      "[CV] criterion=gini, max_depth=15 ....................................\n",
      "[CV]  criterion=gini, max_depth=14, score=0.8383857521788556, total=   0.2s\n",
      "[CV] criterion=gini, max_depth=14 ....................................\n",
      "[CV]  criterion=gini, max_depth=13, score=0.8471011746873816, total=   0.2s\n",
      "[CV] criterion=gini, max_depth=15 ....................................\n",
      "[CV]  criterion=gini, max_depth=14, score=0.8357332322849564, total=   0.2s\n",
      "[CV] criterion=gini, max_depth=16 ....................................\n",
      "[CV]  criterion=gini, max_depth=15, score=0.8348172002273158, total=   0.2s\n",
      "[CV] criterion=gini, max_depth=15 ....................................\n",
      "[CV]  criterion=gini, max_depth=14, score=0.8461538461538461, total=   0.2s\n",
      "[CV] criterion=gini, max_depth=16 ....................................\n",
      "[CV]  criterion=gini, max_depth=15, score=0.8433118605532398, total=   0.2s\n",
      "[CV] criterion=gini, max_depth=15 ....................................\n",
      "[CV]  criterion=gini, max_depth=16, score=0.8312180337185073, total=   0.2s\n",
      "[CV] criterion=gini, max_depth=16 ....................................\n",
      "[CV]  criterion=gini, max_depth=15, score=0.8323228495642289, total=   0.2s\n",
      "[CV] criterion=entropy, max_depth=1 ..................................\n",
      "[CV]  criterion=entropy, max_depth=1, score=0.7510892214434552, total=   0.0s\n",
      "[CV] criterion=entropy, max_depth=1 ..................................\n",
      "[CV]  criterion=gini, max_depth=16, score=0.8383857521788556, total=   0.3s\n",
      "[CV]  criterion=entropy, max_depth=1, score=0.751042061386889, total=   0.0s\n",
      "[CV] criterion=gini, max_depth=16 ....................................\n",
      "[CV] criterion=entropy, max_depth=1 ..................................\n",
      "[CV]  criterion=entropy, max_depth=1, score=0.751042061386889, total=   0.0s\n",
      "[CV] criterion=entropy, max_depth=1 ..................................\n",
      "[CV]  criterion=gini, max_depth=15, score=0.8410382720727548, total=   0.3s\n"
     ]
    },
    {
     "name": "stderr",
     "output_type": "stream",
     "text": [
      "[Parallel(n_jobs=-1)]: Done  58 tasks      | elapsed:    3.2s\n"
     ]
    },
    {
     "name": "stdout",
     "output_type": "stream",
     "text": [
      "[CV] criterion=entropy, max_depth=2 ..................................\n",
      "[CV]  criterion=gini, max_depth=16, score=0.8300492610837439, total=   0.2s\n",
      "[CV] criterion=entropy, max_depth=2 ..................................\n",
      "[CV]  criterion=entropy, max_depth=1, score=0.751042061386889, total=   0.1s\n",
      "[CV]  criterion=entropy, max_depth=2, score=0.7967418071604471, total=   0.1s\n",
      "[CV] criterion=entropy, max_depth=3 ..................................\n",
      "[CV] criterion=entropy, max_depth=2 ..................................\n",
      "[CV]  criterion=entropy, max_depth=2, score=0.8260704812428951, total=   0.1s\n",
      "[CV] criterion=entropy, max_depth=2 ..................................\n",
      "[CV]  criterion=gini, max_depth=16, score=0.8408488063660478, total=   0.2s\n",
      "[CV] criterion=entropy, max_depth=3 ..................................\n",
      "[CV]  criterion=entropy, max_depth=2, score=0.8198181129215611, total=   0.1s\n",
      "[CV]  criterion=entropy, max_depth=3, score=0.840310664898655, total=   0.1s\n",
      "[CV] criterion=entropy, max_depth=3 ..................................\n",
      "[CV] criterion=entropy, max_depth=4 ..................................\n",
      "[CV]  criterion=entropy, max_depth=2, score=0.7957559681697612, total=   0.1s\n",
      "[CV] criterion=entropy, max_depth=4 ..................................\n",
      "[CV]  criterion=entropy, max_depth=3, score=0.8436907919666541, total=   0.1s\n",
      "[CV] criterion=entropy, max_depth=3 ..................................\n",
      "[CV]  criterion=entropy, max_depth=3, score=0.8357332322849564, total=   0.1s\n",
      "[CV] criterion=entropy, max_depth=5 ..................................\n",
      "[CV]  criterion=entropy, max_depth=4, score=0.840121235082402, total=   0.1s\n",
      "[CV] criterion=entropy, max_depth=4 ..................................\n",
      "[CV]  criterion=entropy, max_depth=4, score=0.8436907919666541, total=   0.1s\n",
      "[CV]  criterion=entropy, max_depth=3, score=0.8399014778325123, total=   0.1s\n",
      "[CV] criterion=entropy, max_depth=4 ..................................\n",
      "[CV] criterion=entropy, max_depth=5 ..................................\n",
      "[CV]  criterion=entropy, max_depth=5, score=0.8452358401212351, total=   0.1s\n",
      "[CV] criterion=entropy, max_depth=5 ..................................\n",
      "[CV]  criterion=entropy, max_depth=4, score=0.8357332322849564, total=   0.1s\n",
      "[CV] criterion=entropy, max_depth=6 ..................................\n",
      "[CV]  criterion=entropy, max_depth=4, score=0.8399014778325123, total=   0.1s\n",
      "[CV] criterion=entropy, max_depth=6 ..................................\n",
      "[CV]  criterion=entropy, max_depth=5, score=0.8452065176203107, total=   0.1s\n",
      "[CV] criterion=entropy, max_depth=5 ..................................\n",
      "[CV]  criterion=entropy, max_depth=5, score=0.8361121636983706, total=   0.1s\n",
      "[CV] criterion=entropy, max_depth=7 ..................................\n"
     ]
    },
    {
     "name": "stderr",
     "output_type": "stream",
     "text": [
      "[Parallel(n_jobs=-1)]: Done  76 tasks      | elapsed:    3.7s\n"
     ]
    },
    {
     "name": "stdout",
     "output_type": "stream",
     "text": [
      "[CV]  criterion=entropy, max_depth=5, score=0.8402804092459265, total=   0.1s\n",
      "[CV] criterion=entropy, max_depth=7 ..................................\n",
      "[CV]  criterion=entropy, max_depth=6, score=0.8478878575487782, total=   0.1s\n",
      "[CV] criterion=entropy, max_depth=6 ..................................\n",
      "[CV]  criterion=entropy, max_depth=6, score=0.8491852974611596, total=   0.2s\n",
      "[CV] criterion=entropy, max_depth=6 ..................................\n",
      "[CV]  criterion=entropy, max_depth=7, score=0.8494032960788028, total=   0.1s\n",
      "[CV] criterion=entropy, max_depth=7 ..................................\n",
      "[CV]  criterion=entropy, max_depth=6, score=0.8440697233800682, total=   0.1s\n",
      "[CV] criterion=entropy, max_depth=8 ..................................\n",
      "[CV]  criterion=entropy, max_depth=7, score=0.8531640773020084, total=   0.1s\n",
      "[CV] criterion=entropy, max_depth=7 ..................................\n",
      "[CV]  criterion=entropy, max_depth=6, score=0.8476695718075028, total=   0.1s\n",
      "[CV] criterion=entropy, max_depth=8 ..................................\n",
      "[CV]  criterion=entropy, max_depth=7, score=0.8461538461538461, total=   0.1s\n",
      "[CV] criterion=entropy, max_depth=9 ..................................\n",
      "[CV]  criterion=entropy, max_depth=7, score=0.8512694202349375, total=   0.1s\n",
      "[CV] criterion=entropy, max_depth=9 ..................................\n",
      "[CV]  criterion=entropy, max_depth=8, score=0.8486455768137905, total=   0.2s\n",
      "[CV] criterion=entropy, max_depth=8 ..................................\n",
      "[CV]  criterion=entropy, max_depth=8, score=0.852595680181887, total=   0.2s\n",
      "[CV] criterion=entropy, max_depth=8 ..................................\n",
      "[CV]  criterion=entropy, max_depth=9, score=0.8514870240575867, total=   0.2s\n",
      "[CV] criterion=entropy, max_depth=9 ..................................\n",
      "[CV]  criterion=entropy, max_depth=9, score=0.8518378173550587, total=   0.2s\n",
      "[CV] criterion=entropy, max_depth=9 ..................................\n",
      "[CV]  criterion=entropy, max_depth=8, score=0.8461538461538461, total=   0.2s\n",
      "[CV] criterion=entropy, max_depth=10 .................................\n",
      "[CV]  criterion=entropy, max_depth=8, score=0.8516483516483516, total=   0.2s\n",
      "[CV] criterion=entropy, max_depth=10 .................................\n",
      "[CV]  criterion=entropy, max_depth=9, score=0.8465327775672603, total=   0.2s\n",
      "[CV] criterion=entropy, max_depth=11 .................................\n",
      "[CV]  criterion=entropy, max_depth=9, score=0.8450170519136037, total=   0.2s\n",
      "[CV] criterion=entropy, max_depth=11 .................................\n",
      "[CV]  criterion=entropy, max_depth=10, score=0.8444781208562228, total=   0.2s\n",
      "[CV] criterion=entropy, max_depth=10 .................................\n"
     ]
    },
    {
     "name": "stderr",
     "output_type": "stream",
     "text": [
      "[Parallel(n_jobs=-1)]: Done  98 tasks      | elapsed:    4.6s\n"
     ]
    },
    {
     "name": "stdout",
     "output_type": "stream",
     "text": [
      "[CV]  criterion=entropy, max_depth=10, score=0.8491852974611596, total=   0.2s\n",
      "[CV] criterion=entropy, max_depth=10 .................................\n",
      "[CV]  criterion=entropy, max_depth=11, score=0.8463724190187536, total=   0.2s\n",
      "[CV] criterion=entropy, max_depth=11 .................................\n",
      "[CV]  criterion=entropy, max_depth=11, score=0.8508904888215233, total=   0.2s\n",
      "[CV] criterion=entropy, max_depth=11 .................................\n",
      "[CV]  criterion=entropy, max_depth=10, score=0.8446381205001895, total=   0.2s\n",
      "[CV] criterion=entropy, max_depth=12 .................................\n",
      "[CV]  criterion=entropy, max_depth=10, score=0.8450170519136037, total=   0.2s\n",
      "[CV] criterion=entropy, max_depth=12 .................................\n",
      "[CV]  criterion=entropy, max_depth=11, score=0.8448275862068966, total=   0.2s\n",
      "[CV] criterion=entropy, max_depth=13 .................................\n",
      "[CV]  criterion=entropy, max_depth=11, score=0.8510799545282304, total=   0.2s\n",
      "[CV]  criterion=entropy, max_depth=12, score=0.8414472437961735, total=   0.2s\n",
      "[CV] criterion=entropy, max_depth=12 .................................\n",
      "[CV] criterion=entropy, max_depth=13 .................................\n",
      "[CV]  criterion=entropy, max_depth=12, score=0.8478590375142099, total=   0.2s\n",
      "[CV] criterion=entropy, max_depth=12 .................................\n",
      "[CV]  criterion=entropy, max_depth=13, score=0.8361432089410873, total=   0.2s\n",
      "[CV] criterion=entropy, max_depth=13 .................................\n",
      "[CV]  criterion=entropy, max_depth=12, score=0.8416066691928761, total=   0.2s\n",
      "[CV]  criterion=entropy, max_depth=13, score=0.8465327775672603, total=   0.2s\n",
      "[CV] criterion=entropy, max_depth=14 .................................\n",
      "[CV] criterion=entropy, max_depth=13 .................................\n",
      "[CV]  criterion=entropy, max_depth=12, score=0.8488063660477454, total=   0.2s\n",
      "[CV] criterion=entropy, max_depth=14 .................................\n",
      "[CV]  criterion=entropy, max_depth=13, score=0.8448275862068966, total=   0.2s\n",
      "[CV] criterion=entropy, max_depth=15 .................................\n",
      "[CV]  criterion=entropy, max_depth=13, score=0.8442591890867753, total=   0.2s\n",
      "[CV]  criterion=entropy, max_depth=14, score=0.8369009282060996, total=   0.3s\n",
      "[CV] criterion=entropy, max_depth=14 .................................\n",
      "[CV] criterion=entropy, max_depth=15 .................................\n",
      "[CV]  criterion=entropy, max_depth=14, score=0.8408488063660478, total=   0.2s\n",
      "[CV] criterion=entropy, max_depth=14 .................................\n",
      "[CV]  criterion=entropy, max_depth=15, score=0.8323546126160257, total=   0.2s\n",
      "[CV] criterion=entropy, max_depth=15 .................................\n",
      "[CV]  criterion=entropy, max_depth=15, score=0.8410382720727548, total=   0.2s\n",
      "[CV] criterion=entropy, max_depth=15 .................................\n",
      "[CV]  criterion=entropy, max_depth=14, score=0.8400909435392194, total=   0.2s\n",
      "[CV] criterion=entropy, max_depth=16 .................................\n",
      "[CV]  criterion=entropy, max_depth=14, score=0.8431223948465327, total=   0.2s\n",
      "[CV] criterion=entropy, max_depth=16 .................................\n",
      "[CV]  criterion=entropy, max_depth=15, score=0.8376278893520273, total=   0.2s\n",
      "[CV]  criterion=entropy, max_depth=15, score=0.8397120121258053, total=   0.2s\n",
      "[CV]  criterion=entropy, max_depth=16, score=0.8283765864747111, total=   0.2s\n",
      "[CV] criterion=entropy, max_depth=16 .................................\n",
      "[CV]  criterion=entropy, max_depth=16, score=0.8376278893520273, total=   0.2s\n",
      "[CV] criterion=entropy, max_depth=16 .................................\n",
      "[CV]  criterion=entropy, max_depth=16, score=0.8315649867374005, total=   0.2s\n",
      "[CV]  criterion=entropy, max_depth=16, score=0.8410382720727548, total=   0.2s\n"
     ]
    },
    {
     "name": "stderr",
     "output_type": "stream",
     "text": [
      "[Parallel(n_jobs=-1)]: Done 128 out of 128 | elapsed:    6.4s finished\n"
     ]
    },
    {
     "data": {
      "text/plain": [
       "GridSearchCV(cv=4, error_score='raise',\n",
       "       estimator=DecisionTreeClassifier(class_weight=None, criterion='gini', max_depth=None,\n",
       "            max_features=None, max_leaf_nodes=None,\n",
       "            min_impurity_decrease=0.0, min_impurity_split=None,\n",
       "            min_samples_leaf=1, min_samples_split=2,\n",
       "            min_weight_fraction_leaf=0.0, presort=False, random_state=None,\n",
       "            splitter='best'),\n",
       "       fit_params=None, iid=True, n_jobs=-1,\n",
       "       param_grid={'criterion': ['gini', 'entropy'], 'max_depth': range(1, 17)},\n",
       "       pre_dispatch='2*n_jobs', refit=True, return_train_score=True,\n",
       "       scoring='accuracy', verbose=10)"
      ]
     },
     "execution_count": 7,
     "metadata": {},
     "output_type": "execute_result"
    }
   ],
   "source": [
    "grid_search.fit(X_train, y_train)"
   ]
  },
  {
   "cell_type": "code",
   "execution_count": 8,
   "metadata": {},
   "outputs": [],
   "source": [
    "save_search_result(grid_search, 'adult', 'DT')"
   ]
  },
  {
   "cell_type": "markdown",
   "metadata": {},
   "source": [
    "### Analysis"
   ]
  },
  {
   "cell_type": "code",
   "execution_count": 9,
   "metadata": {},
   "outputs": [
    {
     "data": {
      "text/plain": [
       "[{'criterion': 'gini', 'max_depth': 1},\n",
       " {'criterion': 'gini', 'max_depth': 2},\n",
       " {'criterion': 'gini', 'max_depth': 3},\n",
       " {'criterion': 'gini', 'max_depth': 4},\n",
       " {'criterion': 'gini', 'max_depth': 5},\n",
       " {'criterion': 'gini', 'max_depth': 6},\n",
       " {'criterion': 'gini', 'max_depth': 7},\n",
       " {'criterion': 'gini', 'max_depth': 8},\n",
       " {'criterion': 'gini', 'max_depth': 9},\n",
       " {'criterion': 'gini', 'max_depth': 10},\n",
       " {'criterion': 'gini', 'max_depth': 11},\n",
       " {'criterion': 'gini', 'max_depth': 12},\n",
       " {'criterion': 'gini', 'max_depth': 13},\n",
       " {'criterion': 'gini', 'max_depth': 14},\n",
       " {'criterion': 'gini', 'max_depth': 15},\n",
       " {'criterion': 'gini', 'max_depth': 16},\n",
       " {'criterion': 'entropy', 'max_depth': 1},\n",
       " {'criterion': 'entropy', 'max_depth': 2},\n",
       " {'criterion': 'entropy', 'max_depth': 3},\n",
       " {'criterion': 'entropy', 'max_depth': 4},\n",
       " {'criterion': 'entropy', 'max_depth': 5},\n",
       " {'criterion': 'entropy', 'max_depth': 6},\n",
       " {'criterion': 'entropy', 'max_depth': 7},\n",
       " {'criterion': 'entropy', 'max_depth': 8},\n",
       " {'criterion': 'entropy', 'max_depth': 9},\n",
       " {'criterion': 'entropy', 'max_depth': 10},\n",
       " {'criterion': 'entropy', 'max_depth': 11},\n",
       " {'criterion': 'entropy', 'max_depth': 12},\n",
       " {'criterion': 'entropy', 'max_depth': 13},\n",
       " {'criterion': 'entropy', 'max_depth': 14},\n",
       " {'criterion': 'entropy', 'max_depth': 15},\n",
       " {'criterion': 'entropy', 'max_depth': 16}]"
      ]
     },
     "execution_count": 9,
     "metadata": {},
     "output_type": "execute_result"
    }
   ],
   "source": [
    "res = grid_search.cv_results_\n",
    "res['params']"
   ]
  },
  {
   "cell_type": "code",
   "execution_count": 10,
   "metadata": {},
   "outputs": [],
   "source": [
    "gini_train_mean, ig_train_mean = np.split(res['mean_train_score'], 2)\n",
    "gini_train_std, ig_train_std = np.split(res['std_train_score'], 2)\n",
    "gini_test_mean, ig_test_mean = np.split(res['mean_test_score'], 2)\n",
    "gini_test_std, ig_test_std = np.split(res['std_test_score'], 2)"
   ]
  },
  {
   "cell_type": "code",
   "execution_count": 27,
   "metadata": {},
   "outputs": [
    {
     "data": {
      "image/png": "[encoded data removed]",
      "text/plain": [
       "<Figure size 432x288 with 1 Axes>"
      ]
     },
     "metadata": {},
     "output_type": "display_data"
    }
   ],
   "source": [
    "plot_means_w_stds(\n",
    "    means=(gini_train_mean, gini_test_mean, ig_train_mean, ig_test_mean,),\n",
    "    stds=(gini_train_std, gini_test_std,ig_train_std, ig_test_std),\n",
    "    xrange=param_grid['max_depth'],\n",
    "    linestyles=['-', '--', '-', '--'],\n",
    "    series_labels=('Training - Gini', 'Validation - Gini', 'Training - Entropy', 'Validation - Entropy',),\n",
    "    ylabel='Accuracy',\n",
    "    xlabel='Max depth',\n",
    ")"
   ]
  },
  {
   "cell_type": "code",
   "execution_count": 14,
   "metadata": {},
   "outputs": [],
   "source": [
    "gini_fit_mean, ig_fit_mean = np.split(res['mean_fit_time'], 2)\n",
    "gini_fit_std, ig_fit_std = np.split(res['std_fit_time'], 2)"
   ]
  },
  {
   "cell_type": "code",
   "execution_count": 15,
   "metadata": {},
   "outputs": [
    {
     "data": {
      "image/png": "[encoded data removed]",
      "text/plain": [
       "<Figure size 432x288 with 1 Axes>"
      ]
     },
     "metadata": {},
     "output_type": "display_data"
    }
   ],
   "source": [
    "plot_means_w_stds(\n",
    "    means=(gini_fit_mean, ig_fit_mean),\n",
    "    stds=(gini_fit_std, ig_fit_std),\n",
    "    xrange=param_grid['max_depth'],\n",
    "    series_labels=('Gini', 'Information Gain'),\n",
    "    ylabel='Fit time (sec)',\n",
    "    xlabel='Max depth',\n",
    ")"
   ]
  },
  {
   "cell_type": "markdown",
   "metadata": {},
   "source": [
    "## Learning curve analysis"
   ]
  },
  {
   "cell_type": "code",
   "execution_count": 28,
   "metadata": {},
   "outputs": [
    {
     "name": "stdout",
     "output_type": "stream",
     "text": [
      "{'criterion': 'gini', 'max_depth': 8}\n"
     ]
    }
   ],
   "source": [
    "best_params = res['params'][np.argmax(res['mean_test_score'])]\n",
    "pprint(best_params)"
   ]
  },
  {
   "cell_type": "code",
   "execution_count": 23,
   "metadata": {},
   "outputs": [
    {
     "data": {
      "image/png": "[encoded data removed]",
      "text/plain": [
       "<Figure size 432x288 with 1 Axes>"
      ]
     },
     "metadata": {},
     "output_type": "display_data"
    }
   ],
   "source": [
    "clf = DecisionTreeClassifier(**best_params)\n",
    "train_sizes, _, _, train_mean, train_std, test_mean, test_std = gen_and_plot_learning_curve(clf, X_train, y_train, ylim=None, cv=4, train_sizes=np.linspace(.05, 1.0, 20))"
   ]
  },
  {
   "cell_type": "code",
   "execution_count": null,
   "metadata": {},
   "outputs": [],
   "source": []
  }
 ],
 "metadata": {
  "kernelspec": {
   "display_name": "Python 3",
   "language": "python",
   "name": "python3"
  },
  "language_info": {
   "codemirror_mode": {
    "name": "ipython",
    "version": 3
   },
   "file_extension": ".py",
   "mimetype": "text/x-python",
   "name": "python",
   "nbconvert_exporter": "python",
   "pygments_lexer": "ipython3",
   "version": "3.6.3"
  }
 },
 "nbformat": 4,
 "nbformat_minor": 2
}
