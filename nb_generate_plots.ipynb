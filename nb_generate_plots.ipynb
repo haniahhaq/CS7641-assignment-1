{
 "cells": [
  {
   "cell_type": "code",
   "execution_count": 1,
   "metadata": {},
   "outputs": [],
   "source": [
    "from pprint import pprint\n",
    "\n",
    "import matplotlib.pyplot as plt\n",
    "import numpy as np\n",
    "import pandas as pd\n",
    "\n",
    "from helpers import load_best_result, save_search_result\n",
    "from loaders import load_mnist\n",
    "from plotters import plot_learning_curve, plot_validation_curve"
   ]
  },
  {
   "cell_type": "code",
   "execution_count": 2,
   "metadata": {},
   "outputs": [],
   "source": [
    "learner_type = 'ANN'\n",
    "\n",
    "res = load_best_result('ANN')"
   ]
  },
  {
   "cell_type": "code",
   "execution_count": 3,
   "metadata": {
    "scrolled": false
   },
   "outputs": [
    {
     "name": "stderr",
     "output_type": "stream",
     "text": [
      "/opt/conda/lib/python3.6/site-packages/sklearn/utils/deprecation.py:122: FutureWarning: You are accessing a training score ('split0_train_score'), which will not be available by default any more in 0.21. If you need training scores, please set return_train_score=True\n",
      "  warnings.warn(*warn_args, **warn_kwargs)\n",
      "/opt/conda/lib/python3.6/site-packages/sklearn/utils/deprecation.py:122: FutureWarning: You are accessing a training score ('split1_train_score'), which will not be available by default any more in 0.21. If you need training scores, please set return_train_score=True\n",
      "  warnings.warn(*warn_args, **warn_kwargs)\n",
      "/opt/conda/lib/python3.6/site-packages/sklearn/utils/deprecation.py:122: FutureWarning: You are accessing a training score ('split2_train_score'), which will not be available by default any more in 0.21. If you need training scores, please set return_train_score=True\n",
      "  warnings.warn(*warn_args, **warn_kwargs)\n",
      "/opt/conda/lib/python3.6/site-packages/sklearn/utils/deprecation.py:122: FutureWarning: You are accessing a training score ('mean_train_score'), which will not be available by default any more in 0.21. If you need training scores, please set return_train_score=True\n",
      "  warnings.warn(*warn_args, **warn_kwargs)\n",
      "/opt/conda/lib/python3.6/site-packages/sklearn/utils/deprecation.py:122: FutureWarning: You are accessing a training score ('std_train_score'), which will not be available by default any more in 0.21. If you need training scores, please set return_train_score=True\n",
      "  warnings.warn(*warn_args, **warn_kwargs)\n"
     ]
    },
    {
     "data": {
      "text/plain": [
       "{'mean_fit_time': array([ 3.49478356,  3.593033  ,  3.91809773,  3.22901416,  3.39511847,\n",
       "         3.91257747,  3.03888265,  3.43251212,  3.00283639,  3.15932687,\n",
       "         3.34746226,  3.44144797,  3.01078025,  3.33490237,  3.46872083,\n",
       "         4.43732556,  3.76528939,  3.62438965,  3.26306399,  4.05612993]),\n",
       " 'std_fit_time': array([ 0.1739969 ,  0.12537394,  0.22664877,  0.03212197,  0.06888544,\n",
       "         0.07539559,  0.12827471,  0.10634412,  0.03733143,  0.07830137,\n",
       "         0.1073287 ,  0.09684528,  0.29103558,  0.05304982,  0.06721448,\n",
       "         0.06117679,  0.28723624,  0.16146702,  0.1045289 ,  0.58285539]),\n",
       " 'mean_score_time': array([ 0.41166234,  0.36911186,  0.43058793,  0.43770425,  0.44712504,\n",
       "         0.50696301,  0.48108228,  0.52611669,  0.54501685,  0.58960517,\n",
       "         0.62253745,  0.65175072,  0.63898921,  0.68729218,  0.76389686,\n",
       "         0.85472178,  0.80897466,  0.84411748,  0.85079575,  0.88795455]),\n",
       " 'std_score_time': array([ 0.08040375,  0.01946415,  0.02223602,  0.00818361,  0.00805675,\n",
       "         0.01037499,  0.01435066,  0.00880377,  0.00914965,  0.00917373,\n",
       "         0.02227103,  0.00521773,  0.0113354 ,  0.0259218 ,  0.08701543,\n",
       "         0.03888211,  0.0406685 ,  0.0418806 ,  0.04196415,  0.00454198]),\n",
       " 'param_hidden_layer_sizes': masked_array(data = [(588, 392) (588, 392) (588, 588) (392, 392) (588, 196) (588, 588)\n",
       "  (392, 196) (392, 588) (392, 196) (392, 196) (392, 392) (588, 196)\n",
       "  (196, 588) (392, 392) (392, 588) (588, 196) (588, 196) (588, 196)\n",
       "  (196, 392) (588, 196)],\n",
       "              mask = [False False False False False False False False False False False False\n",
       "  False False False False False False False False],\n",
       "        fill_value = ?),\n",
       " 'param_learning_rate_init': masked_array(data = [0.13873234903231801 0.20683191486493047 0.27460066820556528\n",
       "  0.4195357661205531 0.54310937960708039 0.32632611511644549\n",
       "  0.15358700817409066 0.20316154694807931 0.25637666273186988\n",
       "  0.33180560184048169 0.21192892286258413 0.12658627483808782\n",
       "  0.89598817608808901 0.44758596718934796 0.26913380433532064\n",
       "  0.26356405059456034 0.26271464670424094 0.18793828489065967\n",
       "  0.47002062340165585 0.55572282518796057],\n",
       "              mask = [False False False False False False False False False False False False\n",
       "  False False False False False False False False],\n",
       "        fill_value = ?),\n",
       " 'param_momentum': masked_array(data = [0.28336217458812651 0.2309521750836202 0.43010548371046053\n",
       "  0.08152660054156402 0.45004453945118705 0.79800684208192529\n",
       "  0.40579996253321049 0.93237525900776286 0.87648294013433625\n",
       "  0.35356559235437923 0.05980593357228059 0.021387062422752456\n",
       "  0.048146179922730514 0.0016552562540416149 0.41582037893890311\n",
       "  0.22496793633091172 0.15013112009050911 0.11473058793693047\n",
       "  0.52492396163769039 0.16247458360549238],\n",
       "              mask = [False False False False False False False False False False False False\n",
       "  False False False False False False False False],\n",
       "        fill_value = ?),\n",
       " 'params': [{'hidden_layer_sizes': (588, 392),\n",
       "   'learning_rate_init': 0.13873234903231801,\n",
       "   'momentum': 0.28336217458812651},\n",
       "  {'hidden_layer_sizes': (588, 392),\n",
       "   'learning_rate_init': 0.20683191486493047,\n",
       "   'momentum': 0.2309521750836202},\n",
       "  {'hidden_layer_sizes': (588, 588),\n",
       "   'learning_rate_init': 0.27460066820556528,\n",
       "   'momentum': 0.43010548371046053},\n",
       "  {'hidden_layer_sizes': (392, 392),\n",
       "   'learning_rate_init': 0.4195357661205531,\n",
       "   'momentum': 0.08152660054156402},\n",
       "  {'hidden_layer_sizes': (588, 196),\n",
       "   'learning_rate_init': 0.54310937960708039,\n",
       "   'momentum': 0.45004453945118705},\n",
       "  {'hidden_layer_sizes': (588, 588),\n",
       "   'learning_rate_init': 0.32632611511644549,\n",
       "   'momentum': 0.79800684208192529},\n",
       "  {'hidden_layer_sizes': (392, 196),\n",
       "   'learning_rate_init': 0.15358700817409066,\n",
       "   'momentum': 0.40579996253321049},\n",
       "  {'hidden_layer_sizes': (392, 588),\n",
       "   'learning_rate_init': 0.20316154694807931,\n",
       "   'momentum': 0.93237525900776286},\n",
       "  {'hidden_layer_sizes': (392, 196),\n",
       "   'learning_rate_init': 0.25637666273186988,\n",
       "   'momentum': 0.87648294013433625},\n",
       "  {'hidden_layer_sizes': (392, 196),\n",
       "   'learning_rate_init': 0.33180560184048169,\n",
       "   'momentum': 0.35356559235437923},\n",
       "  {'hidden_layer_sizes': (392, 392),\n",
       "   'learning_rate_init': 0.21192892286258413,\n",
       "   'momentum': 0.05980593357228059},\n",
       "  {'hidden_layer_sizes': (588, 196),\n",
       "   'learning_rate_init': 0.12658627483808782,\n",
       "   'momentum': 0.021387062422752456},\n",
       "  {'hidden_layer_sizes': (196, 588),\n",
       "   'learning_rate_init': 0.89598817608808901,\n",
       "   'momentum': 0.048146179922730514},\n",
       "  {'hidden_layer_sizes': (392, 392),\n",
       "   'learning_rate_init': 0.44758596718934796,\n",
       "   'momentum': 0.0016552562540416149},\n",
       "  {'hidden_layer_sizes': (392, 588),\n",
       "   'learning_rate_init': 0.26913380433532064,\n",
       "   'momentum': 0.41582037893890311},\n",
       "  {'hidden_layer_sizes': (588, 196),\n",
       "   'learning_rate_init': 0.26356405059456034,\n",
       "   'momentum': 0.22496793633091172},\n",
       "  {'hidden_layer_sizes': (588, 196),\n",
       "   'learning_rate_init': 0.26271464670424094,\n",
       "   'momentum': 0.15013112009050911},\n",
       "  {'hidden_layer_sizes': (588, 196),\n",
       "   'learning_rate_init': 0.18793828489065967,\n",
       "   'momentum': 0.11473058793693047},\n",
       "  {'hidden_layer_sizes': (196, 392),\n",
       "   'learning_rate_init': 0.47002062340165585,\n",
       "   'momentum': 0.52492396163769039},\n",
       "  {'hidden_layer_sizes': (588, 196),\n",
       "   'learning_rate_init': 0.55572282518796057,\n",
       "   'momentum': 0.16247458360549238}],\n",
       " 'split0_test_score': array([ 0.96921642,  0.9670398 ,  0.96952736,  0.96983831,  0.97450249,\n",
       "         0.97139303,  0.97108209,  0.93470149,  0.97325871,  0.9738806 ,\n",
       "         0.97636816,  0.96890547,  0.97419154,  0.96610697,  0.96610697,\n",
       "         0.97481343,  0.97574627,  0.96859453,  0.9670398 ,  0.97232587]),\n",
       " 'split1_test_score': array([ 0.97512438,  0.97792289,  0.97232587,  0.97419154,  0.97885572,\n",
       "         0.97605721,  0.97574627,  0.50279851,  0.97543532,  0.9738806 ,\n",
       "         0.97699005,  0.97699005,  0.96735075,  0.97325871,  0.97512438,\n",
       "         0.97605721,  0.96952736,  0.96672886,  0.97419154,  0.9704602 ]),\n",
       " 'split2_test_score': array([ 0.97760498,  0.9651633 ,  0.97418351,  0.97604977,  0.97542768,\n",
       "         0.96205288,  0.97418351,  0.88180404,  0.97884914,  0.97698289,\n",
       "         0.97760498,  0.97916019,  0.97169518,  0.97978227,  0.97076205,\n",
       "         0.97231726,  0.97356143,  0.97916019,  0.97636081,  0.96485226]),\n",
       " 'mean_test_score': array([ 0.97398155,  0.9700425 ,  0.97201202,  0.97335959,  0.97626205,\n",
       "         0.96983518,  0.97367057,  0.77309008,  0.97584741,  0.97491448,\n",
       "         0.97698766,  0.97501814,  0.97107909,  0.97304862,  0.97066446,\n",
       "         0.97439619,  0.97294496,  0.97149373,  0.97253032,  0.96921323]),\n",
       " 'std_test_score': array([ 0.00351859,  0.00562511,  0.00191373,  0.00260311,  0.00187263,\n",
       "         0.00582227,  0.00193847,  0.19235587,  0.00230076,  0.00146236,\n",
       "         0.00050492,  0.0044125 ,  0.00282665,  0.00558475,  0.00368218,\n",
       "         0.00155504,  0.00257613,  0.00547342,  0.0039824 ,  0.00317589]),\n",
       " 'rank_test_score': array([ 7, 17, 13,  9,  2, 18,  8, 20,  3,  5,  1,  4, 15, 10, 16,  6, 11,\n",
       "        14, 12, 19], dtype=int32),\n",
       " 'split0_train_score': array([ 0.98616078,  0.98102939,  0.98584979,  0.9807184 ,  0.98678277,\n",
       "         0.98491681,  0.98460582,  0.9465091 ,  0.98367283,  0.9852278 ,\n",
       "         0.98911522,  0.98429482,  0.98600529,  0.9802519 ,  0.97978541,\n",
       "         0.98631628,  0.98818224,  0.98413933,  0.97994091,  0.98678277]),\n",
       " 'split1_train_score': array([ 0.98616078,  0.98818224,  0.98398383,  0.98382833,  0.98678277,\n",
       "         0.98382833,  0.98880423,  0.50583113,  0.98740476,  0.98165138,\n",
       "         0.98740476,  0.98584979,  0.97589799,  0.98600529,  0.98273985,\n",
       "         0.98584979,  0.98398383,  0.97916343,  0.98102939,  0.98227336]),\n",
       " 'split2_train_score': array([ 0.98476368,  0.97901119,  0.97978856,  0.97963308,  0.98212065,\n",
       "         0.96377488,  0.98103234,  0.87251244,  0.98056592,  0.98476368,\n",
       "         0.98429726,  0.98631841,  0.97776741,  0.98429726,  0.98072139,\n",
       "         0.98196517,  0.98460821,  0.98103234,  0.97978856,  0.97092662]),\n",
       " 'mean_train_score': array([ 0.98569508,  0.98274094,  0.98320739,  0.98139327,  0.98522873,\n",
       "         0.97750667,  0.98481413,  0.77495089,  0.98388117,  0.98388095,\n",
       "         0.98693908,  0.98548767,  0.97989023,  0.98351815,  0.98108222,\n",
       "         0.98471041,  0.98559143,  0.98144503,  0.98025295,  0.97999425]),\n",
       " 'std_train_score': array([ 0.0006586 ,  0.00393481,  0.00253466,  0.00177794,  0.00219775,\n",
       "         0.00972001,  0.00317628,  0.19267928,  0.00279583,  0.00158789,\n",
       "         0.0019943 ,  0.0008649 ,  0.00439083,  0.00241255,  0.00123284,\n",
       "         0.0019505 ,  0.00184963,  0.00205226,  0.00055254,  0.00667084])}"
      ]
     },
     "execution_count": 3,
     "metadata": {},
     "output_type": "execute_result"
    }
   ],
   "source": [
    "res"
   ]
  },
  {
   "cell_type": "code",
   "execution_count": 4,
   "metadata": {},
   "outputs": [
    {
     "data": {
      "text/plain": [
       "20"
      ]
     },
     "execution_count": 4,
     "metadata": {},
     "output_type": "execute_result"
    }
   ],
   "source": [
    "len(res['params'])"
   ]
  },
  {
   "cell_type": "code",
   "execution_count": 7,
   "metadata": {},
   "outputs": [
    {
     "data": {
      "text/plain": [
       "{'hidden_layer_sizes': (392, 588),\n",
       " 'learning_rate_init': 0.20316154694807931,\n",
       " 'momentum': 0.93237525900776286}"
      ]
     },
     "execution_count": 7,
     "metadata": {},
     "output_type": "execute_result"
    }
   ],
   "source": [
    "res['params'][np.argmin(res['mean_test_score'])]"
   ]
  },
  {
   "cell_type": "code",
   "execution_count": 8,
   "metadata": {},
   "outputs": [
    {
     "data": {
      "text/plain": [
       "{'hidden_layer_sizes': (392, 392),\n",
       " 'learning_rate_init': 0.21192892286258413,\n",
       " 'momentum': 0.05980593357228059}"
      ]
     },
     "execution_count": 8,
     "metadata": {},
     "output_type": "execute_result"
    }
   ],
   "source": [
    "res['params'][np.argmax(res['mean_test_score'])]"
   ]
  },
  {
   "cell_type": "code",
   "execution_count": 12,
   "metadata": {},
   "outputs": [
    {
     "data": {
      "text/plain": [
       "0.93237525900776286"
      ]
     },
     "execution_count": 12,
     "metadata": {},
     "output_type": "execute_result"
    }
   ],
   "source": [
    "np.max(res['param_momentum'])"
   ]
  },
  {
   "cell_type": "code",
   "execution_count": 11,
   "metadata": {},
   "outputs": [
    {
     "name": "stderr",
     "output_type": "stream",
     "text": [
      "/opt/conda/lib/python3.6/site-packages/sklearn/utils/deprecation.py:122: FutureWarning: You are accessing a training score ('mean_train_score'), which will not be available by default any more in 0.21. If you need training scores, please set return_train_score=True\n",
      "  warnings.warn(*warn_args, **warn_kwargs)\n",
      "/opt/conda/lib/python3.6/site-packages/sklearn/utils/deprecation.py:122: FutureWarning: You are accessing a training score ('std_train_score'), which will not be available by default any more in 0.21. If you need training scores, please set return_train_score=True\n",
      "  warnings.warn(*warn_args, **warn_kwargs)\n"
     ]
    },
    {
     "data": {
      "image/png": "[encoded data removed]",
      "text/plain": [
       "<Figure size 432x288 with 1 Axes>"
      ]
     },
     "metadata": {},
     "output_type": "display_data"
    }
   ],
   "source": [
    "x_index = range(len(train_mean))\n",
    "train_mean = res['mean_train_score']\n",
    "train_std = res['std_train_score']\n",
    "test_mean = res['mean_test_score']\n",
    "test_std = res['std_test_score']\n",
    "plt.plot(x_index, train_mean,\n",
    "         color='blue', marker='o',\n",
    "         markersize=5, label='training accuracy')\n",
    "plt.fill_between(x_index, train_mean + train_std,\n",
    "                 train_mean - train_std, alpha=0.15,\n",
    "                 color='blue')\n",
    "plt.plot(x_index, test_mean,\n",
    "         color='green', linestyle='--',\n",
    "         marker='s', markersize=5,\n",
    "         label='validation accuracy')\n",
    "plt.fill_between(x_index,\n",
    "                 test_mean + test_std,\n",
    "                 test_mean - test_std,\n",
    "                 alpha=0.15, color='green')\n",
    "plt.grid()"
   ]
  },
  {
   "cell_type": "code",
   "execution_count": null,
   "metadata": {},
   "outputs": [],
   "source": []
  }
 ],
 "metadata": {
  "kernelspec": {
   "display_name": "Python 3",
   "language": "python",
   "name": "python3"
  },
  "language_info": {
   "codemirror_mode": {
    "name": "ipython",
    "version": 3
   },
   "file_extension": ".py",
   "mimetype": "text/x-python",
   "name": "python",
   "nbconvert_exporter": "python",
   "pygments_lexer": "ipython3",
   "version": "3.6.3"
  }
 },
 "nbformat": 4,
 "nbformat_minor": 2
}
