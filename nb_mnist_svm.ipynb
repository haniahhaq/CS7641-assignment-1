{
 "cells": [
  {
   "cell_type": "markdown",
   "metadata": {},
   "source": [
    "Enable automatic reloading of imported modules."
   ]
  },
  {
   "cell_type": "code",
   "execution_count": 1,
   "metadata": {},
   "outputs": [],
   "source": [
    "%load_ext autoreload\n",
    "%autoreload 1\n",
    "%aimport helpers, loaders, plotters "
   ]
  },
  {
   "cell_type": "code",
   "execution_count": 2,
   "metadata": {},
   "outputs": [],
   "source": [
    "from pprint import pprint\n",
    "from math import ceil, floor\n",
    "from itertools import product\n",
    "\n",
    "import matplotlib.pyplot as plt\n",
    "import numpy as np\n",
    "import pandas as pd\n",
    "import scipy.stats\n",
    "from sklearn.metrics import accuracy_score\n",
    "from sklearn.model_selection import train_test_split, GridSearchCV, RandomizedSearchCV\n",
    "from sklearn.preprocessing import MinMaxScaler, StandardScaler\n",
    "\n",
    "from helpers import balanced_accuracy_scorer, balanced_accuracy, load_result_by_name, load_best_search, load_best_learning, save_learning_curve, save_search_result, scikit_cv_result_to_df\n",
    "from loaders import load_adult, load_mnist\n",
    "from plotters import plot_means_w_stds, gen_and_plot_learning_curve, plot_learning_curve, gen_and_plot_validation_curve, plot_validation_curve"
   ]
  },
  {
   "cell_type": "markdown",
   "metadata": {},
   "source": [
    "### Load Data"
   ]
  },
  {
   "cell_type": "code",
   "execution_count": 3,
   "metadata": {},
   "outputs": [],
   "source": [
    "dataset = 'MNIST'\n",
    "learner_type = 'SVM'\n",
    "loader_func = load_adult"
   ]
  },
  {
   "cell_type": "code",
   "execution_count": 4,
   "metadata": {
    "scrolled": true
   },
   "outputs": [
    {
     "name": "stdout",
     "output_type": "stream",
     "text": [
      "Target column encoded with the following classes [ 4.  9.]\n",
      "Dataset shape (13782, 785)\n",
      "Value composition:\n",
      "1    0.504861\n",
      "0    0.495139\n",
      "Name: target, dtype: float64\n"
     ]
    },
    {
     "name": "stderr",
     "output_type": "stream",
     "text": [
      "/home/jovyan/loaders.py:58: SettingWithCopyWarning: \n",
      "A value is trying to be set on a copy of a slice from a DataFrame.\n",
      "Try using .loc[row_indexer,col_indexer] = value instead\n",
      "\n",
      "See the caveats in the documentation: http://pandas.pydata.org/pandas-docs/stable/indexing.html#indexing-view-versus-copy\n",
      "  filtered_df['target'] = le.fit_transform(filtered_df['target'])\n"
     ]
    }
   ],
   "source": [
    "df = load_mnist(preprocess=True)"
   ]
  },
  {
   "cell_type": "markdown",
   "metadata": {},
   "source": [
    "### Split data into training and testing"
   ]
  },
  {
   "cell_type": "code",
   "execution_count": 5,
   "metadata": {},
   "outputs": [],
   "source": [
    "X = df[[c for c in df.columns if c != 'target']]\n",
    "y = df['target']\n",
    "X_train, X_test, y_train, y_test = train_test_split(X, y, test_size=0.3, stratify=y, random_state=1)"
   ]
  },
  {
   "cell_type": "markdown",
   "metadata": {},
   "source": [
    "### Scale Data"
   ]
  },
  {
   "cell_type": "code",
   "execution_count": 6,
   "metadata": {},
   "outputs": [],
   "source": [
    "# Use min max scaling because input dataset is sparse, i.e. mostly zeros\n",
    "scaler = MinMaxScaler()\n",
    "\n",
    "X_train_scaled = scaler.fit_transform(X_train)\n",
    "X_test_scaled = scaler.transform(X_test)"
   ]
  },
  {
   "cell_type": "markdown",
   "metadata": {},
   "source": [
    "## Support Vector Machine Model Complexity\n",
    "Sources:\n",
    "1. https://medium.com/@aneesha/svm-parameter-tuning-in-scikit-learn-using-gridsearchcv-2413c02125a0\n",
    "2. https://www.datacamp.com/community/tutorials/svm-classification-scikit-learn-python"
   ]
  },
  {
   "cell_type": "markdown",
   "metadata": {},
   "source": [
    "#### Hyperparameters for SVMs\n",
    "\n",
    "**Kernel:** The kernel function used to perform the \"kernel trick\"\n",
    "\n",
    "**C:** Penalty parameter C of the error term.\n",
    "\n",
    "**gamma:** Kernel coefficient for ‘rbf’, ‘poly’ and ‘sigmoid’. If gamma is ‘auto’ then 1/n_features will be used instead."
   ]
  },
  {
   "cell_type": "code",
   "execution_count": 7,
   "metadata": {},
   "outputs": [
    {
     "data": {
      "text/plain": [
       "{'C': array([  1.00000000e-03,   1.00000000e-02,   1.00000000e-01,\n",
       "          1.00000000e+00,   1.00000000e+01,   1.00000000e+02]),\n",
       " 'max_iter': array([    10.,    100.,   1000.,  10000.])}"
      ]
     },
     "execution_count": 7,
     "metadata": {},
     "output_type": "execute_result"
    }
   ],
   "source": [
    "from sklearn.svm import LinearSVC\n",
    "\n",
    "linear_clf = LinearSVC(random_state=1)\n",
    "\n",
    "linear_param_grid = {\n",
    "    'C': np.logspace(-3, 2, 6),\n",
    "    'max_iter': np.logspace(1, 4, 4)\n",
    "}\n",
    "linear_param_grid"
   ]
  },
  {
   "cell_type": "code",
   "execution_count": 8,
   "metadata": {},
   "outputs": [],
   "source": [
    "linear_grid_search = GridSearchCV(\n",
    "    estimator=linear_clf,\n",
    "    param_grid=linear_param_grid,\n",
    "    scoring='accuracy',\n",
    "    return_train_score=True,\n",
    "    cv=4,\n",
    "    verbose=10,\n",
    "    n_jobs=-1,\n",
    ")"
   ]
  },
  {
   "cell_type": "code",
   "execution_count": 19,
   "metadata": {},
   "outputs": [
    {
     "name": "stdout",
     "output_type": "stream",
     "text": [
      "Fitting 4 folds for each of 24 candidates, totalling 96 fits\n",
      "[CV] C=0.001, max_iter=10.0 ..........................................\n",
      "[CV] C=0.001, max_iter=10.0 ..........................................\n",
      "[CV] . C=0.001, max_iter=10.0, score=0.9535847492747617, total=   0.2s\n",
      "[CV] C=0.001, max_iter=10.0 ..........................................\n",
      "[CV] . C=0.001, max_iter=10.0, score=0.9593698175787728, total=   0.2s\n",
      "[CV] C=0.001, max_iter=10.0 ..........................................\n",
      "[CV] .. C=0.001, max_iter=10.0, score=0.959767731231854, total=   0.2s\n",
      "[CV] C=0.001, max_iter=100.0 .........................................\n",
      "[CV] C=0.001, max_iter=100.0 .........................................\n",
      "[CV] . C=0.001, max_iter=10.0, score=0.9643301534632932, total=   0.2s\n",
      "[CV]  C=0.001, max_iter=100.0, score=0.9535847492747617, total=   0.2s\n",
      "[CV] C=0.001, max_iter=100.0 .........................................\n",
      "[CV]  C=0.001, max_iter=100.0, score=0.9593698175787728, total=   0.2s\n",
      "[CV] C=0.001, max_iter=100.0 .........................................\n",
      "[CV] . C=0.001, max_iter=100.0, score=0.959767731231854, total=   0.2s\n",
      "[CV] C=0.001, max_iter=1000.0 ........................................\n",
      "[CV]  C=0.001, max_iter=100.0, score=0.9643301534632932, total=   0.2s\n",
      "[CV] C=0.001, max_iter=1000.0 ........................................\n",
      "[CV]  C=0.001, max_iter=1000.0, score=0.9535847492747617, total=   0.2s\n",
      "[CV] C=0.001, max_iter=1000.0 ........................................\n",
      "[CV]  C=0.001, max_iter=1000.0, score=0.9593698175787728, total=   0.2s\n",
      "[CV] C=0.001, max_iter=1000.0 ........................................\n"
     ]
    },
    {
     "name": "stderr",
     "output_type": "stream",
     "text": [
      "[Parallel(n_jobs=-1)]: Done   9 tasks      | elapsed:    1.2s\n"
     ]
    },
    {
     "name": "stdout",
     "output_type": "stream",
     "text": [
      "[CV]  C=0.001, max_iter=1000.0, score=0.959767731231854, total=   0.2s\n",
      "[CV] C=0.001, max_iter=10000.0 .......................................\n",
      "[CV] C=0.001, max_iter=10000.0 .......................................\n",
      "[CV]  C=0.001, max_iter=1000.0, score=0.9643301534632932, total=   0.2s\n",
      "[CV] C=0.001, max_iter=10000.0 .......................................\n",
      "[CV]  C=0.001, max_iter=10000.0, score=0.9535847492747617, total=   0.2s\n",
      "[CV]  C=0.001, max_iter=10000.0, score=0.9593698175787728, total=   0.2s\n",
      "[CV] C=0.001, max_iter=10000.0 .......................................\n",
      "[CV]  C=0.001, max_iter=10000.0, score=0.959767731231854, total=   0.2s\n",
      "[CV] C=0.01, max_iter=10.0 ...........................................\n",
      "[CV]  C=0.001, max_iter=10000.0, score=0.9643301534632932, total=   0.2s\n",
      "[CV] C=0.01, max_iter=10.0 ...........................................\n",
      "[CV] ... C=0.01, max_iter=10.0, score=0.966017405719022, total=   0.1s\n",
      "[CV] .. C=0.01, max_iter=10.0, score=0.9697346600331676, total=   0.1s\n",
      "[CV] C=0.01, max_iter=10.0 ...........................................\n",
      "[CV] C=0.01, max_iter=10.0 ...........................................\n",
      "[CV] .. C=0.01, max_iter=10.0, score=0.9659892160929076, total=   0.1s\n"
     ]
    },
    {
     "name": "stderr",
     "output_type": "stream",
     "text": [
      "[Parallel(n_jobs=-1)]: Done  18 tasks      | elapsed:    2.1s\n"
     ]
    },
    {
     "name": "stdout",
     "output_type": "stream",
     "text": [
      "[CV] C=0.01, max_iter=100.0 ..........................................\n",
      "[CV] .. C=0.01, max_iter=10.0, score=0.9701368726669432, total=   0.1s\n",
      "[CV] C=0.01, max_iter=100.0 ..........................................\n",
      "[CV] . C=0.01, max_iter=100.0, score=0.9664318276004973, total=   0.1s\n",
      "[CV] C=0.01, max_iter=100.0 ..........................................\n",
      "[CV] . C=0.01, max_iter=100.0, score=0.9693200663349917, total=   0.2s\n",
      "[CV] C=0.01, max_iter=100.0 ..........................................\n",
      "[CV] . C=0.01, max_iter=100.0, score=0.9655744504355039, total=   0.2s\n",
      "[CV] C=0.01, max_iter=1000.0 .........................................\n",
      "[CV] . C=0.01, max_iter=100.0, score=0.9705516383243468, total=   0.2s\n",
      "[CV] C=0.01, max_iter=1000.0 .........................................\n",
      "[CV]  C=0.01, max_iter=1000.0, score=0.9664318276004973, total=   0.2s\n",
      "[CV] C=0.01, max_iter=1000.0 .........................................\n",
      "[CV]  C=0.01, max_iter=1000.0, score=0.9693200663349917, total=   0.1s\n",
      "[CV] C=0.01, max_iter=1000.0 .........................................\n",
      "[CV]  C=0.01, max_iter=1000.0, score=0.9655744504355039, total=   0.2s\n",
      "[CV] C=0.01, max_iter=10000.0 ........................................\n",
      "[CV]  C=0.01, max_iter=1000.0, score=0.9705516383243468, total=   0.1s\n",
      "[CV] C=0.01, max_iter=10000.0 ........................................\n",
      "[CV]  C=0.01, max_iter=10000.0, score=0.9664318276004973, total=   0.1s\n",
      "[CV] C=0.01, max_iter=10000.0 ........................................\n",
      "[CV]  C=0.01, max_iter=10000.0, score=0.9693200663349917, total=   0.2s\n",
      "[CV] C=0.01, max_iter=10000.0 ........................................\n"
     ]
    },
    {
     "name": "stderr",
     "output_type": "stream",
     "text": [
      "[Parallel(n_jobs=-1)]: Done  29 tasks      | elapsed:    3.4s\n"
     ]
    },
    {
     "name": "stdout",
     "output_type": "stream",
     "text": [
      "[CV]  C=0.01, max_iter=10000.0, score=0.9655744504355039, total=   0.2s\n",
      "[CV] C=0.1, max_iter=10.0 ............................................\n",
      "[CV]  C=0.01, max_iter=10000.0, score=0.9705516383243468, total=   0.2s\n",
      "[CV] C=0.1, max_iter=10.0 ............................................\n",
      "[CV] ... C=0.1, max_iter=10.0, score=0.9676750932449233, total=   0.1s\n",
      "[CV] C=0.1, max_iter=10.0 ............................................\n",
      "[CV] ... C=0.1, max_iter=10.0, score=0.9601990049751243, total=   0.1s\n",
      "[CV] C=0.1, max_iter=10.0 ............................................\n",
      "[CV] ... C=0.1, max_iter=10.0, score=0.9576939029448361, total=   0.2s\n",
      "[CV] C=0.1, max_iter=100.0 ...........................................\n",
      "[CV] ... C=0.1, max_iter=10.0, score=0.9659892160929076, total=   0.1s\n",
      "[CV] C=0.1, max_iter=100.0 ...........................................\n",
      "[CV] ... C=0.1, max_iter=100.0, score=0.966017405719022, total=   0.2s\n",
      "[CV] C=0.1, max_iter=100.0 ...........................................\n",
      "[CV] .. C=0.1, max_iter=100.0, score=0.9701492537313433, total=   0.2s\n",
      "[CV] C=0.1, max_iter=100.0 ...........................................\n",
      "[CV] .. C=0.1, max_iter=100.0, score=0.9622563251762754, total=   0.2s\n",
      "[CV] C=0.1, max_iter=1000.0 ..........................................\n",
      "[CV] .. C=0.1, max_iter=100.0, score=0.9701368726669432, total=   0.2s\n",
      "[CV] C=0.1, max_iter=1000.0 ..........................................\n",
      "[CV] C=0.1, max_iter=1000.0 ..........................................\n"
     ]
    },
    {
     "name": "stderr",
     "output_type": "stream",
     "text": [
      "[Parallel(n_jobs=-1)]: Done  40 tasks      | elapsed:    4.7s\n"
     ]
    },
    {
     "name": "stdout",
     "output_type": "stream",
     "text": [
      "[CV] .. C=0.1, max_iter=1000.0, score=0.966017405719022, total=   0.3s\n",
      "[CV] C=0.1, max_iter=1000.0 ..........................................\n",
      "[CV] . C=0.1, max_iter=1000.0, score=0.9701492537313433, total=   0.3s\n",
      "[CV] C=0.1, max_iter=10000.0 .........................................\n",
      "[CV] . C=0.1, max_iter=1000.0, score=0.9622563251762754, total=   0.3s\n",
      "[CV] C=0.1, max_iter=10000.0 .........................................\n",
      "[CV] . C=0.1, max_iter=1000.0, score=0.9701368726669432, total=   0.3s\n",
      "[CV] C=0.1, max_iter=10000.0 .........................................\n",
      "[CV] . C=0.1, max_iter=10000.0, score=0.966017405719022, total=   0.3s\n",
      "[CV] C=0.1, max_iter=10000.0 .........................................\n",
      "[CV] C=1.0, max_iter=10.0 ............................................\n",
      "[CV]  C=0.1, max_iter=10000.0, score=0.9701492537313433, total=   0.4s\n",
      "[CV] ... C=1.0, max_iter=10.0, score=0.9643597181931206, total=   0.1s\n",
      "[CV] C=1.0, max_iter=10.0 ............................................\n",
      "[CV]  C=0.1, max_iter=10000.0, score=0.9622563251762754, total=   0.4s\n",
      "[CV]  C=0.1, max_iter=10000.0, score=0.9701368726669432, total=   0.4s\n",
      "[CV] C=1.0, max_iter=10.0 ............................................\n",
      "[CV] .... C=1.0, max_iter=10.0, score=0.964759535655058, total=   0.2s\n",
      "[CV] C=1.0, max_iter=10.0 ............................................\n",
      "[CV] ... C=1.0, max_iter=10.0, score=0.9564496059726255, total=   0.1s\n",
      "[CV] C=1.0, max_iter=100.0 ...........................................\n",
      "[CV] ... C=1.0, max_iter=10.0, score=0.9228535877229366, total=   0.1s\n",
      "[CV] C=1.0, max_iter=100.0 ...........................................\n",
      "[CV] C=1.0, max_iter=100.0 ...........................................\n",
      "[CV] .. C=1.0, max_iter=100.0, score=0.9627020306672193, total=   0.2s\n",
      "[CV] .. C=1.0, max_iter=100.0, score=0.9593698175787728, total=   0.2s\n",
      "[CV] C=1.0, max_iter=100.0 ...........................................\n",
      "[CV] C=1.0, max_iter=1000.0 ..........................................\n"
     ]
    },
    {
     "name": "stderr",
     "output_type": "stream",
     "text": [
      "[Parallel(n_jobs=-1)]: Done  53 tasks      | elapsed:    6.4s\n"
     ]
    },
    {
     "name": "stdout",
     "output_type": "stream",
     "text": [
      "[CV] .. C=1.0, max_iter=100.0, score=0.9535462463708005, total=   0.2s\n",
      "[CV] C=1.0, max_iter=1000.0 ..........................................\n",
      "[CV] .. C=1.0, max_iter=100.0, score=0.9688925756947325, total=   0.2s\n",
      "[CV] C=1.0, max_iter=1000.0 ..........................................\n",
      "[CV] C=1.0, max_iter=1000.0 ..........................................\n",
      "[CV] C=1.0, max_iter=10000.0 .........................................\n",
      "[CV] . C=1.0, max_iter=1000.0, score=0.9631164525486946, total=   0.5s\n",
      "[CV] C=1.0, max_iter=10000.0 .........................................\n",
      "[CV] C=1.0, max_iter=10000.0 .........................................\n",
      "[CV] . C=1.0, max_iter=1000.0, score=0.9635157545605307, total=   0.5s\n",
      "[CV] . C=1.0, max_iter=1000.0, score=0.9589381999170469, total=   0.6s\n",
      "[CV] C=1.0, max_iter=10000.0 .........................................\n",
      "[CV] C=10.0, max_iter=10.0 ...........................................\n",
      "[CV] . C=1.0, max_iter=1000.0, score=0.9684778100373289, total=   0.7s\n",
      "[CV] C=10.0, max_iter=10.0 ...........................................\n",
      "[CV] ... C=10.0, max_iter=10.0, score=0.950269374222959, total=   0.2s\n",
      "[CV] C=10.0, max_iter=10.0 ...........................................\n",
      "[CV] .. C=10.0, max_iter=10.0, score=0.9448590381426202, total=   0.2s\n",
      "[CV] C=10.0, max_iter=10.0 ...........................................\n",
      "[CV] .. C=10.0, max_iter=10.0, score=0.9535462463708005, total=   0.1s\n",
      "[CV] C=10.0, max_iter=100.0 ..........................................\n",
      "[CV] .. C=10.0, max_iter=10.0, score=0.9680630443799253, total=   0.1s\n",
      "[CV] C=10.0, max_iter=100.0 ..........................................\n",
      "[CV] C=10.0, max_iter=100.0 ..........................................\n",
      "[CV] . C=10.0, max_iter=100.0, score=0.9531703273932863, total=   0.3s\n",
      "[CV] C=10.0, max_iter=100.0 ..........................................\n",
      "[CV] . C=10.0, max_iter=100.0, score=0.9597844112769486, total=   0.3s\n",
      "[CV] C=10.0, max_iter=1000.0 .........................................\n",
      "[CV] . C=10.0, max_iter=100.0, score=0.9523019493985898, total=   0.3s\n",
      "[CV] C=10.0, max_iter=1000.0 .........................................\n",
      "[CV] C=10.0, max_iter=1000.0 .........................................\n",
      "[CV] C=10.0, max_iter=1000.0 .........................................\n",
      "[CV]  C=1.0, max_iter=10000.0, score=0.9622876087857439, total=   1.9s\n",
      "[CV] . C=10.0, max_iter=100.0, score=0.9655744504355039, total=   0.5s\n",
      "[CV] C=10.0, max_iter=10000.0 ........................................\n",
      "[CV]  C=1.0, max_iter=10000.0, score=0.9631011608623549, total=   1.9s\n",
      "[CV] C=10.0, max_iter=10000.0 ........................................\n",
      "[CV] C=10.0, max_iter=10000.0 ........................................\n",
      "[CV]  C=10.0, max_iter=1000.0, score=0.9564857024450891, total=   0.7s\n",
      "[CV]  C=1.0, max_iter=10000.0, score=0.9589381999170469, total=   2.0s\n",
      "[CV] C=10.0, max_iter=10000.0 ........................................\n",
      "[CV] C=100.0, max_iter=10.0 ..........................................\n",
      "[CV] C=100.0, max_iter=10.0 ..........................................\n",
      "[CV]  C=10.0, max_iter=1000.0, score=0.9548092868988391, total=   0.9s\n",
      "[CV]  C=10.0, max_iter=1000.0, score=0.9560348403152219, total=   0.9s\n",
      "[CV]  C=1.0, max_iter=10000.0, score=0.9684778100373289, total=   2.2s\n",
      "[CV] . C=100.0, max_iter=10.0, score=0.9560712805636138, total=   0.2s\n",
      "[CV] C=100.0, max_iter=10.0 ..........................................\n",
      "[CV] .. C=100.0, max_iter=10.0, score=0.947346600331675, total=   0.3s\n"
     ]
    },
    {
     "name": "stderr",
     "output_type": "stream",
     "text": [
      "[Parallel(n_jobs=-1)]: Done  75 out of  96 | elapsed:    9.7s remaining:    2.7s\n"
     ]
    },
    {
     "name": "stdout",
     "output_type": "stream",
     "text": [
      "[CV] C=100.0, max_iter=10.0 ..........................................\n",
      "[CV]  C=10.0, max_iter=1000.0, score=0.9630858564910826, total=   1.1s\n",
      "[CV] . C=100.0, max_iter=10.0, score=0.9622563251762754, total=   0.2s\n",
      "[CV] C=100.0, max_iter=100.0 .........................................\n",
      "[CV] . C=100.0, max_iter=10.0, score=0.9178763998340937, total=   0.2s\n",
      "[CV] C=100.0, max_iter=100.0 .........................................\n",
      "[CV] C=100.0, max_iter=100.0 .........................................\n",
      "[CV]  C=100.0, max_iter=100.0, score=0.9602154993783671, total=   0.3s\n",
      "[CV] C=100.0, max_iter=100.0 .........................................\n",
      "[CV] . C=100.0, max_iter=100.0, score=0.961028192371476, total=   0.3s\n",
      "[CV] C=100.0, max_iter=1000.0 ........................................\n",
      "[CV] C=100.0, max_iter=1000.0 ........................................\n",
      "[CV]  C=100.0, max_iter=100.0, score=0.9523019493985898, total=   0.4s\n",
      "[CV] C=100.0, max_iter=1000.0 ........................................\n",
      "[CV]  C=100.0, max_iter=100.0, score=0.9635006221484861, total=   0.4s\n",
      "[CV] C=100.0, max_iter=1000.0 ........................................\n",
      "[CV] C=100.0, max_iter=10000.0 .......................................\n",
      "[CV] C=100.0, max_iter=10000.0 .......................................\n",
      "[CV]  C=100.0, max_iter=1000.0, score=0.9573145462080398, total=   0.7s\n",
      "[CV] C=100.0, max_iter=10000.0 .......................................\n",
      "[CV]  C=100.0, max_iter=1000.0, score=0.9548092868988391, total=   0.7s\n"
     ]
    },
    {
     "name": "stderr",
     "output_type": "stream",
     "text": [
      "[Parallel(n_jobs=-1)]: Done  85 out of  96 | elapsed:   11.3s remaining:    1.5s\n"
     ]
    },
    {
     "name": "stdout",
     "output_type": "stream",
     "text": [
      "[CV] C=100.0, max_iter=10000.0 .......................................\n",
      "[CV]  C=100.0, max_iter=1000.0, score=0.9506428867689756, total=   0.7s\n",
      "[CV]  C=100.0, max_iter=1000.0, score=0.9581086686022398, total=   1.0s\n",
      "[CV]  C=10.0, max_iter=10000.0, score=0.9573145462080398, total=   3.4s\n",
      "[CV]  C=10.0, max_iter=10000.0, score=0.9523217247097844, total=   3.6s\n",
      "[CV]  C=10.0, max_iter=10000.0, score=0.9622563251762754, total=   3.7s\n",
      "[CV]  C=10.0, max_iter=10000.0, score=0.9531314807133969, total=   4.0s\n",
      "[CV]  C=100.0, max_iter=10000.0, score=0.9423714759535655, total=   2.8s\n",
      "[CV]  C=100.0, max_iter=10000.0, score=0.9510982179859097, total=   3.1s\n",
      "[CV]  C=100.0, max_iter=10000.0, score=0.9381999170468686, total=   3.1s\n",
      "[CV]  C=100.0, max_iter=10000.0, score=0.9552053090004148, total=   3.3s\n"
     ]
    },
    {
     "name": "stderr",
     "output_type": "stream",
     "text": [
      "[Parallel(n_jobs=-1)]: Done  96 out of  96 | elapsed:   14.8s finished\n"
     ]
    },
    {
     "data": {
      "text/plain": [
       "GridSearchCV(cv=4, error_score='raise',\n",
       "       estimator=LinearSVC(C=1.0, class_weight=None, dual=True, fit_intercept=True,\n",
       "     intercept_scaling=1, loss='squared_hinge', max_iter=1000,\n",
       "     multi_class='ovr', penalty='l2', random_state=1, tol=0.0001,\n",
       "     verbose=0),\n",
       "       fit_params=None, iid=True, n_jobs=-1,\n",
       "       param_grid={'C': array([1.e-03, 1.e-02, 1.e-01, 1.e+00, 1.e+01, 1.e+02]), 'max_iter': array([   10.,   100.,  1000., 10000.])},\n",
       "       pre_dispatch='2*n_jobs', refit=True, return_train_score=True,\n",
       "       scoring='accuracy', verbose=10)"
      ]
     },
     "execution_count": 19,
     "metadata": {},
     "output_type": "execute_result"
    }
   ],
   "source": [
    "linear_grid_search.fit(X_train_scaled, y_train)"
   ]
  },
  {
   "cell_type": "code",
   "execution_count": 20,
   "metadata": {
    "scrolled": true
   },
   "outputs": [],
   "source": [
    "save_search_result(linear_grid_search, dataset, learner_type, extras='linear')"
   ]
  },
  {
   "cell_type": "code",
   "execution_count": 9,
   "metadata": {},
   "outputs": [
    {
     "data": {
      "text/plain": [
       "{'C': array([  1.00000000e-03,   1.00000000e-02,   1.00000000e-01,\n",
       "          1.00000000e+00,   1.00000000e+01,   1.00000000e+02]),\n",
       " 'max_iter': array([    10.,    100.,   1000.,  10000.]),\n",
       " 'gamma': array([  1.00000000e-04,   1.00000000e-03,   1.00000000e-02,\n",
       "          1.00000000e-01,   1.00000000e+00,   1.00000000e+01])}"
      ]
     },
     "execution_count": 9,
     "metadata": {},
     "output_type": "execute_result"
    }
   ],
   "source": [
    "from sklearn.svm import SVC\n",
    "\n",
    "rbf_clf = SVC(kernel='rbf', random_state=1)\n",
    "\n",
    "rbf_param_grid = {\n",
    "    'C': np.logspace(-3, 2, 6),\n",
    "    'max_iter': np.logspace(1, 4, 4),\n",
    "    'gamma': np.logspace(-4, 1, 6),\n",
    "}\n",
    "rbf_param_grid"
   ]
  },
  {
   "cell_type": "code",
   "execution_count": 22,
   "metadata": {},
   "outputs": [],
   "source": [
    "rbf_grid_search = GridSearchCV(\n",
    "    estimator=rbf_clf,\n",
    "    param_grid=rbf_param_grid,\n",
    "    scoring='accuracy',\n",
    "    return_train_score=True,\n",
    "    cv=4,\n",
    "    verbose=10,\n",
    "    n_jobs=-1,\n",
    ")"
   ]
  },
  {
   "cell_type": "code",
   "execution_count": 23,
   "metadata": {},
   "outputs": [
    {
     "name": "stdout",
     "output_type": "stream",
     "text": [
      "Fitting 4 folds for each of 144 candidates, totalling 576 fits\n",
      "[CV] C=0.001, gamma=0.0001, max_iter=10.0 ............................\n",
      "[CV] C=0.001, gamma=0.0001, max_iter=10.0 ............................\n",
      "[CV] C=0.001, gamma=0.0001, max_iter=10.0 ............................\n"
     ]
    },
    {
     "name": "stderr",
     "output_type": "stream",
     "text": [
      "/home/ubuntu/anaconda3/envs/tensorflow_p36/lib/python3.6/site-packages/sklearn/svm/base.py:218: ConvergenceWarning: Solver terminated early (max_iter=10).  Consider pre-processing your data with StandardScaler or MinMaxScaler.\n",
      "  % self.max_iter, ConvergenceWarning)\n"
     ]
    },
    {
     "name": "stdout",
     "output_type": "stream",
     "text": [
      "[CV] C=0.001, gamma=0.0001, max_iter=10.0 ............................\n"
     ]
    },
    {
     "name": "stderr",
     "output_type": "stream",
     "text": [
      "/home/ubuntu/anaconda3/envs/tensorflow_p36/lib/python3.6/site-packages/sklearn/svm/base.py:218: ConvergenceWarning: Solver terminated early (max_iter=10).  Consider pre-processing your data with StandardScaler or MinMaxScaler.\n",
      "  % self.max_iter, ConvergenceWarning)\n"
     ]
    },
    {
     "name": "stdout",
     "output_type": "stream",
     "text": [
      "[CV] C=0.001, gamma=0.0001, max_iter=100.0 ...........................\n"
     ]
    },
    {
     "name": "stderr",
     "output_type": "stream",
     "text": [
      "/home/ubuntu/anaconda3/envs/tensorflow_p36/lib/python3.6/site-packages/sklearn/svm/base.py:218: ConvergenceWarning: Solver terminated early (max_iter=10).  Consider pre-processing your data with StandardScaler or MinMaxScaler.\n",
      "  % self.max_iter, ConvergenceWarning)\n"
     ]
    },
    {
     "name": "stdout",
     "output_type": "stream",
     "text": [
      "[CV]  C=0.001, gamma=0.0001, max_iter=10.0, score=0.7513468711147948, total=   0.3s\n",
      "[CV]  C=0.001, gamma=0.0001, max_iter=10.0, score=0.7408789386401327, total=   0.3s\n",
      "[CV] C=0.001, gamma=0.0001, max_iter=100.0 ...........................\n"
     ]
    },
    {
     "name": "stderr",
     "output_type": "stream",
     "text": [
      "/home/ubuntu/anaconda3/envs/tensorflow_p36/lib/python3.6/site-packages/sklearn/svm/base.py:218: ConvergenceWarning: Solver terminated early (max_iter=10).  Consider pre-processing your data with StandardScaler or MinMaxScaler.\n",
      "  % self.max_iter, ConvergenceWarning)\n"
     ]
    },
    {
     "name": "stdout",
     "output_type": "stream",
     "text": [
      "[CV]  C=0.001, gamma=0.0001, max_iter=10.0, score=0.7652426379095811, total=   0.3s\n",
      "[CV] C=0.001, gamma=0.0001, max_iter=100.0 ...........................\n",
      "[CV] C=0.001, gamma=0.0001, max_iter=100.0 ...........................\n",
      "[CV]  C=0.001, gamma=0.0001, max_iter=10.0, score=0.7552882621318955, total=   0.3s\n",
      "[CV] C=0.001, gamma=0.0001, max_iter=1000.0 ..........................\n",
      "[CV] C=0.001, gamma=0.0001, max_iter=1000.0 ..........................\n",
      "[CV] C=0.001, gamma=0.0001, max_iter=1000.0 ..........................\n",
      "[CV] C=0.001, gamma=0.0001, max_iter=1000.0 ..........................\n",
      "[CV] C=0.001, gamma=0.0001, max_iter=10000.0 .........................\n",
      "[CV] C=0.001, gamma=0.0001, max_iter=10000.0 .........................\n",
      "[CV] C=0.001, gamma=0.0001, max_iter=10000.0 .........................\n",
      "[CV] C=0.001, gamma=0.0001, max_iter=10000.0 .........................\n",
      "[CV] C=0.001, gamma=0.001, max_iter=10.0 .............................\n",
      "[CV] C=0.001, gamma=0.001, max_iter=10.0 .............................\n",
      "[CV] C=0.001, gamma=0.001, max_iter=10.0 .............................\n",
      "[CV] C=0.001, gamma=0.001, max_iter=10.0 .............................\n"
     ]
    },
    {
     "name": "stderr",
     "output_type": "stream",
     "text": [
      "/home/ubuntu/anaconda3/envs/tensorflow_p36/lib/python3.6/site-packages/sklearn/svm/base.py:218: ConvergenceWarning: Solver terminated early (max_iter=10).  Consider pre-processing your data with StandardScaler or MinMaxScaler.\n",
      "  % self.max_iter, ConvergenceWarning)\n",
      "/home/ubuntu/anaconda3/envs/tensorflow_p36/lib/python3.6/site-packages/sklearn/svm/base.py:218: ConvergenceWarning: Solver terminated early (max_iter=10).  Consider pre-processing your data with StandardScaler or MinMaxScaler.\n",
      "  % self.max_iter, ConvergenceWarning)\n"
     ]
    },
    {
     "name": "stdout",
     "output_type": "stream",
     "text": [
      "[CV]  C=0.001, gamma=0.001, max_iter=10.0, score=0.7472026523000415, total=   0.5s\n"
     ]
    },
    {
     "name": "stderr",
     "output_type": "stream",
     "text": [
      "/home/ubuntu/anaconda3/envs/tensorflow_p36/lib/python3.6/site-packages/sklearn/svm/base.py:218: ConvergenceWarning: Solver terminated early (max_iter=10).  Consider pre-processing your data with StandardScaler or MinMaxScaler.\n",
      "  % self.max_iter, ConvergenceWarning)\n"
     ]
    },
    {
     "name": "stdout",
     "output_type": "stream",
     "text": [
      "[CV] C=0.001, gamma=0.001, max_iter=100.0 ............................\n",
      "[CV]  C=0.001, gamma=0.001, max_iter=10.0, score=0.7408789386401327, total=   0.5s\n"
     ]
    },
    {
     "name": "stderr",
     "output_type": "stream",
     "text": [
      "/home/ubuntu/anaconda3/envs/tensorflow_p36/lib/python3.6/site-packages/sklearn/svm/base.py:218: ConvergenceWarning: Solver terminated early (max_iter=10).  Consider pre-processing your data with StandardScaler or MinMaxScaler.\n",
      "  % self.max_iter, ConvergenceWarning)\n"
     ]
    },
    {
     "name": "stdout",
     "output_type": "stream",
     "text": [
      "[CV] C=0.001, gamma=0.001, max_iter=100.0 ............................\n"
     ]
    },
    {
     "name": "stderr",
     "output_type": "stream",
     "text": [
      "/home/ubuntu/anaconda3/envs/tensorflow_p36/lib/python3.6/site-packages/sklearn/svm/base.py:218: ConvergenceWarning: Solver terminated early (max_iter=100).  Consider pre-processing your data with StandardScaler or MinMaxScaler.\n",
      "  % self.max_iter, ConvergenceWarning)\n"
     ]
    },
    {
     "name": "stdout",
     "output_type": "stream",
     "text": [
      "[CV]  C=0.001, gamma=0.001, max_iter=10.0, score=0.7822480298631274, total=   0.6s\n",
      "[CV] C=0.001, gamma=0.001, max_iter=100.0 ............................\n",
      "[CV]  C=0.001, gamma=0.001, max_iter=10.0, score=0.7681459975114061, total=   0.5s\n",
      "[CV] C=0.001, gamma=0.001, max_iter=100.0 ............................\n"
     ]
    },
    {
     "name": "stderr",
     "output_type": "stream",
     "text": [
      "/home/ubuntu/anaconda3/envs/tensorflow_p36/lib/python3.6/site-packages/sklearn/svm/base.py:218: ConvergenceWarning: Solver terminated early (max_iter=100).  Consider pre-processing your data with StandardScaler or MinMaxScaler.\n",
      "  % self.max_iter, ConvergenceWarning)\n",
      "/home/ubuntu/anaconda3/envs/tensorflow_p36/lib/python3.6/site-packages/sklearn/svm/base.py:218: ConvergenceWarning: Solver terminated early (max_iter=100).  Consider pre-processing your data with StandardScaler or MinMaxScaler.\n",
      "  % self.max_iter, ConvergenceWarning)\n",
      "/home/ubuntu/anaconda3/envs/tensorflow_p36/lib/python3.6/site-packages/sklearn/svm/base.py:218: ConvergenceWarning: Solver terminated early (max_iter=100).  Consider pre-processing your data with StandardScaler or MinMaxScaler.\n",
      "  % self.max_iter, ConvergenceWarning)\n"
     ]
    },
    {
     "name": "stdout",
     "output_type": "stream",
     "text": [
      "[CV]  C=0.001, gamma=0.0001, max_iter=100.0, score=0.7364276833816825, total=   2.6s\n",
      "[CV] C=0.001, gamma=0.001, max_iter=1000.0 ...........................\n"
     ]
    },
    {
     "name": "stderr",
     "output_type": "stream",
     "text": [
      "/home/ubuntu/anaconda3/envs/tensorflow_p36/lib/python3.6/site-packages/sklearn/svm/base.py:218: ConvergenceWarning: Solver terminated early (max_iter=100).  Consider pre-processing your data with StandardScaler or MinMaxScaler.\n",
      "  % self.max_iter, ConvergenceWarning)\n",
      "/home/ubuntu/anaconda3/envs/tensorflow_p36/lib/python3.6/site-packages/sklearn/svm/base.py:218: ConvergenceWarning: Solver terminated early (max_iter=100).  Consider pre-processing your data with StandardScaler or MinMaxScaler.\n",
      "  % self.max_iter, ConvergenceWarning)\n",
      "[Parallel(n_jobs=-1)]: Done   9 tasks      | elapsed:    4.8s\n"
     ]
    },
    {
     "name": "stdout",
     "output_type": "stream",
     "text": [
      "[CV]  C=0.001, gamma=0.0001, max_iter=100.0, score=0.6936152570480929, total=   2.9s\n",
      "[CV] C=0.001, gamma=0.001, max_iter=1000.0 ...........................\n"
     ]
    },
    {
     "name": "stderr",
     "output_type": "stream",
     "text": [
      "/home/ubuntu/anaconda3/envs/tensorflow_p36/lib/python3.6/site-packages/sklearn/svm/base.py:218: ConvergenceWarning: Solver terminated early (max_iter=100).  Consider pre-processing your data with StandardScaler or MinMaxScaler.\n",
      "  % self.max_iter, ConvergenceWarning)\n"
     ]
    },
    {
     "name": "stdout",
     "output_type": "stream",
     "text": [
      "[CV]  C=0.001, gamma=0.0001, max_iter=100.0, score=0.7192036499377852, total=   2.9s\n",
      "[CV] C=0.001, gamma=0.001, max_iter=1000.0 ...........................\n",
      "[CV]  C=0.001, gamma=0.0001, max_iter=100.0, score=0.7216922438822065, total=   2.9s\n"
     ]
    },
    {
     "name": "stderr",
     "output_type": "stream",
     "text": [
      "/home/ubuntu/anaconda3/envs/tensorflow_p36/lib/python3.6/site-packages/sklearn/svm/base.py:218: ConvergenceWarning: Solver terminated early (max_iter=100).  Consider pre-processing your data with StandardScaler or MinMaxScaler.\n",
      "  % self.max_iter, ConvergenceWarning)\n"
     ]
    },
    {
     "name": "stdout",
     "output_type": "stream",
     "text": [
      "[CV] C=0.001, gamma=0.001, max_iter=1000.0 ...........................\n",
      "[CV]  C=0.001, gamma=0.001, max_iter=100.0, score=0.7259535655058044, total=   2.8s\n",
      "[CV] C=0.001, gamma=0.001, max_iter=10000.0 ..........................\n",
      "[CV]  C=0.001, gamma=0.001, max_iter=100.0, score=0.7389142146705346, total=   3.0s\n",
      "[CV] C=0.001, gamma=0.001, max_iter=10000.0 ..........................\n",
      "[CV]  C=0.001, gamma=0.001, max_iter=100.0, score=0.7324761509746993, total=   3.0s\n",
      "[CV] C=0.001, gamma=0.001, max_iter=10000.0 ..........................\n",
      "[CV]  C=0.001, gamma=0.001, max_iter=100.0, score=0.7295727913728743, total=   3.0s\n",
      "[CV] C=0.001, gamma=0.001, max_iter=10000.0 ..........................\n"
     ]
    },
    {
     "name": "stderr",
     "output_type": "stream",
     "text": [
      "/home/ubuntu/anaconda3/envs/tensorflow_p36/lib/python3.6/site-packages/sklearn/svm/base.py:218: ConvergenceWarning: Solver terminated early (max_iter=1000).  Consider pre-processing your data with StandardScaler or MinMaxScaler.\n",
      "  % self.max_iter, ConvergenceWarning)\n",
      "/home/ubuntu/anaconda3/envs/tensorflow_p36/lib/python3.6/site-packages/sklearn/svm/base.py:218: ConvergenceWarning: Solver terminated early (max_iter=1000).  Consider pre-processing your data with StandardScaler or MinMaxScaler.\n",
      "  % self.max_iter, ConvergenceWarning)\n",
      "/home/ubuntu/anaconda3/envs/tensorflow_p36/lib/python3.6/site-packages/sklearn/svm/base.py:218: ConvergenceWarning: Solver terminated early (max_iter=1000).  Consider pre-processing your data with StandardScaler or MinMaxScaler.\n",
      "  % self.max_iter, ConvergenceWarning)\n",
      "/home/ubuntu/anaconda3/envs/tensorflow_p36/lib/python3.6/site-packages/sklearn/svm/base.py:218: ConvergenceWarning: Solver terminated early (max_iter=1000).  Consider pre-processing your data with StandardScaler or MinMaxScaler.\n",
      "  % self.max_iter, ConvergenceWarning)\n",
      "/home/ubuntu/anaconda3/envs/tensorflow_p36/lib/python3.6/site-packages/sklearn/svm/base.py:218: ConvergenceWarning: Solver terminated early (max_iter=1000).  Consider pre-processing your data with StandardScaler or MinMaxScaler.\n",
      "  % self.max_iter, ConvergenceWarning)\n",
      "/home/ubuntu/anaconda3/envs/tensorflow_p36/lib/python3.6/site-packages/sklearn/svm/base.py:218: ConvergenceWarning: Solver terminated early (max_iter=1000).  Consider pre-processing your data with StandardScaler or MinMaxScaler.\n",
      "  % self.max_iter, ConvergenceWarning)\n",
      "/home/ubuntu/anaconda3/envs/tensorflow_p36/lib/python3.6/site-packages/sklearn/svm/base.py:218: ConvergenceWarning: Solver terminated early (max_iter=1000).  Consider pre-processing your data with StandardScaler or MinMaxScaler.\n",
      "  % self.max_iter, ConvergenceWarning)\n",
      "/home/ubuntu/anaconda3/envs/tensorflow_p36/lib/python3.6/site-packages/sklearn/svm/base.py:218: ConvergenceWarning: Solver terminated early (max_iter=1000).  Consider pre-processing your data with StandardScaler or MinMaxScaler.\n",
      "  % self.max_iter, ConvergenceWarning)\n"
     ]
    },
    {
     "name": "stdout",
     "output_type": "stream",
     "text": [
      "[CV]  C=0.001, gamma=0.0001, max_iter=1000.0, score=0.6684624948197265, total=  37.5s\n",
      "[CV] C=0.001, gamma=0.01, max_iter=10.0 ..............................\n",
      "[CV]  C=0.001, gamma=0.0001, max_iter=1000.0, score=0.6395686437163003, total=  37.7s\n",
      "[CV] C=0.001, gamma=0.01, max_iter=10.0 ..............................\n",
      "[CV]  C=0.001, gamma=0.0001, max_iter=1000.0, score=0.6231343283582089, total=  37.7s\n"
     ]
    },
    {
     "name": "stderr",
     "output_type": "stream",
     "text": [
      "[Parallel(n_jobs=-1)]: Done  18 tasks      | elapsed:  1.1min\n"
     ]
    },
    {
     "name": "stdout",
     "output_type": "stream",
     "text": [
      "[CV] C=0.001, gamma=0.01, max_iter=10.0 ..............................\n"
     ]
    },
    {
     "name": "stderr",
     "output_type": "stream",
     "text": [
      "/home/ubuntu/anaconda3/envs/tensorflow_p36/lib/python3.6/site-packages/sklearn/svm/base.py:218: ConvergenceWarning: Solver terminated early (max_iter=10).  Consider pre-processing your data with StandardScaler or MinMaxScaler.\n",
      "  % self.max_iter, ConvergenceWarning)\n",
      "/home/ubuntu/anaconda3/envs/tensorflow_p36/lib/python3.6/site-packages/sklearn/svm/base.py:218: ConvergenceWarning: Solver terminated early (max_iter=10).  Consider pre-processing your data with StandardScaler or MinMaxScaler.\n",
      "  % self.max_iter, ConvergenceWarning)\n"
     ]
    },
    {
     "name": "stdout",
     "output_type": "stream",
     "text": [
      "[CV]  C=0.001, gamma=0.01, max_iter=10.0, score=0.8188976377952756, total=   0.6s\n",
      "[CV] C=0.001, gamma=0.01, max_iter=10.0 ..............................\n"
     ]
    },
    {
     "name": "stderr",
     "output_type": "stream",
     "text": [
      "/home/ubuntu/anaconda3/envs/tensorflow_p36/lib/python3.6/site-packages/sklearn/svm/base.py:218: ConvergenceWarning: Solver terminated early (max_iter=10).  Consider pre-processing your data with StandardScaler or MinMaxScaler.\n",
      "  % self.max_iter, ConvergenceWarning)\n"
     ]
    },
    {
     "name": "stdout",
     "output_type": "stream",
     "text": [
      "[CV]  C=0.001, gamma=0.01, max_iter=10.0, score=0.8092868988391376, total=   0.6s\n",
      "[CV] C=0.001, gamma=0.01, max_iter=100.0 .............................\n",
      "[CV]  C=0.001, gamma=0.01, max_iter=10.0, score=0.8145997511406056, total=   0.5s\n",
      "[CV]  C=0.001, gamma=0.0001, max_iter=1000.0, score=0.6213189547905433, total=  38.3s\n",
      "[CV] C=0.001, gamma=0.01, max_iter=100.0 .............................\n"
     ]
    },
    {
     "name": "stderr",
     "output_type": "stream",
     "text": [
      "/home/ubuntu/anaconda3/envs/tensorflow_p36/lib/python3.6/site-packages/sklearn/svm/base.py:218: ConvergenceWarning: Solver terminated early (max_iter=10).  Consider pre-processing your data with StandardScaler or MinMaxScaler.\n",
      "  % self.max_iter, ConvergenceWarning)\n"
     ]
    },
    {
     "name": "stdout",
     "output_type": "stream",
     "text": [
      "[CV] C=0.001, gamma=0.01, max_iter=100.0 .............................\n",
      "[CV]  C=0.001, gamma=0.01, max_iter=10.0, score=0.7648278722521775, total=   0.5s\n",
      "[CV] C=0.001, gamma=0.01, max_iter=100.0 .............................\n"
     ]
    },
    {
     "name": "stderr",
     "output_type": "stream",
     "text": [
      "/home/ubuntu/anaconda3/envs/tensorflow_p36/lib/python3.6/site-packages/sklearn/svm/base.py:218: ConvergenceWarning: Solver terminated early (max_iter=100).  Consider pre-processing your data with StandardScaler or MinMaxScaler.\n",
      "  % self.max_iter, ConvergenceWarning)\n"
     ]
    },
    {
     "name": "stdout",
     "output_type": "stream",
     "text": [
      "[CV]  C=0.001, gamma=0.001, max_iter=1000.0, score=0.6721922917530045, total=  38.0s\n",
      "[CV] C=0.001, gamma=0.01, max_iter=1000.0 ............................\n"
     ]
    },
    {
     "name": "stderr",
     "output_type": "stream",
     "text": [
      "/home/ubuntu/anaconda3/envs/tensorflow_p36/lib/python3.6/site-packages/sklearn/svm/base.py:218: ConvergenceWarning: Solver terminated early (max_iter=100).  Consider pre-processing your data with StandardScaler or MinMaxScaler.\n",
      "  % self.max_iter, ConvergenceWarning)\n",
      "/home/ubuntu/anaconda3/envs/tensorflow_p36/lib/python3.6/site-packages/sklearn/svm/base.py:218: ConvergenceWarning: Solver terminated early (max_iter=100).  Consider pre-processing your data with StandardScaler or MinMaxScaler.\n",
      "  % self.max_iter, ConvergenceWarning)\n"
     ]
    },
    {
     "name": "stdout",
     "output_type": "stream",
     "text": [
      "[CV]  C=0.001, gamma=0.001, max_iter=1000.0, score=0.6549149730402323, total=  38.2s\n",
      "[CV] C=0.001, gamma=0.01, max_iter=1000.0 ............................\n"
     ]
    },
    {
     "name": "stderr",
     "output_type": "stream",
     "text": [
      "/home/ubuntu/anaconda3/envs/tensorflow_p36/lib/python3.6/site-packages/sklearn/svm/base.py:218: ConvergenceWarning: Solver terminated early (max_iter=100).  Consider pre-processing your data with StandardScaler or MinMaxScaler.\n",
      "  % self.max_iter, ConvergenceWarning)\n"
     ]
    },
    {
     "name": "stdout",
     "output_type": "stream",
     "text": [
      "[CV]  C=0.001, gamma=0.001, max_iter=1000.0, score=0.6401326699834162, total=  38.3s\n",
      "[CV] C=0.001, gamma=0.01, max_iter=1000.0 ............................\n",
      "[CV]  C=0.001, gamma=0.001, max_iter=1000.0, score=0.6383243467440896, total=  38.4s\n",
      "[CV] C=0.001, gamma=0.01, max_iter=1000.0 ............................\n",
      "[CV]  C=0.001, gamma=0.01, max_iter=100.0, score=0.8155822627434729, total=   3.6s\n",
      "[CV] C=0.001, gamma=0.01, max_iter=10000.0 ...........................\n",
      "[CV]  C=0.001, gamma=0.01, max_iter=100.0, score=0.8109452736318408, total=   3.5s\n"
     ]
    },
    {
     "name": "stderr",
     "output_type": "stream",
     "text": [
      "[Parallel(n_jobs=-1)]: Done  29 tasks      | elapsed:  1.2min\n"
     ]
    },
    {
     "name": "stdout",
     "output_type": "stream",
     "text": [
      "[CV] C=0.001, gamma=0.01, max_iter=10000.0 ...........................\n",
      "[CV]  C=0.001, gamma=0.01, max_iter=100.0, score=0.8195769390294484, total=   3.6s\n",
      "[CV] C=0.001, gamma=0.01, max_iter=10000.0 ...........................\n",
      "[CV]  C=0.001, gamma=0.01, max_iter=100.0, score=0.8075487349647449, total=   3.7s\n",
      "[CV] C=0.001, gamma=0.01, max_iter=10000.0 ...........................\n"
     ]
    },
    {
     "name": "stderr",
     "output_type": "stream",
     "text": [
      "/home/ubuntu/anaconda3/envs/tensorflow_p36/lib/python3.6/site-packages/sklearn/svm/base.py:218: ConvergenceWarning: Solver terminated early (max_iter=1000).  Consider pre-processing your data with StandardScaler or MinMaxScaler.\n",
      "  % self.max_iter, ConvergenceWarning)\n",
      "/home/ubuntu/anaconda3/envs/tensorflow_p36/lib/python3.6/site-packages/sklearn/svm/base.py:218: ConvergenceWarning: Solver terminated early (max_iter=1000).  Consider pre-processing your data with StandardScaler or MinMaxScaler.\n",
      "  % self.max_iter, ConvergenceWarning)\n",
      "/home/ubuntu/anaconda3/envs/tensorflow_p36/lib/python3.6/site-packages/sklearn/svm/base.py:218: ConvergenceWarning: Solver terminated early (max_iter=1000).  Consider pre-processing your data with StandardScaler or MinMaxScaler.\n",
      "  % self.max_iter, ConvergenceWarning)\n",
      "/home/ubuntu/anaconda3/envs/tensorflow_p36/lib/python3.6/site-packages/sklearn/svm/base.py:218: ConvergenceWarning: Solver terminated early (max_iter=1000).  Consider pre-processing your data with StandardScaler or MinMaxScaler.\n",
      "  % self.max_iter, ConvergenceWarning)\n"
     ]
    },
    {
     "name": "stdout",
     "output_type": "stream",
     "text": [
      "[CV]  C=0.001, gamma=0.01, max_iter=1000.0, score=0.67882304185661, total=  37.7s\n",
      "[CV] C=0.001, gamma=0.1, max_iter=10.0 ...............................\n",
      "[CV]  C=0.001, gamma=0.01, max_iter=1000.0, score=0.7367330016583747, total=  37.5s\n",
      "[CV] C=0.001, gamma=0.1, max_iter=10.0 ...............................\n"
     ]
    },
    {
     "name": "stderr",
     "output_type": "stream",
     "text": [
      "/home/ubuntu/anaconda3/envs/tensorflow_p36/lib/python3.6/site-packages/sklearn/svm/base.py:218: ConvergenceWarning: Solver terminated early (max_iter=10).  Consider pre-processing your data with StandardScaler or MinMaxScaler.\n",
      "  % self.max_iter, ConvergenceWarning)\n"
     ]
    },
    {
     "name": "stdout",
     "output_type": "stream",
     "text": [
      "[CV]  C=0.001, gamma=0.1, max_iter=10.0, score=0.6481558226274348, total=   0.5s\n"
     ]
    },
    {
     "name": "stderr",
     "output_type": "stream",
     "text": [
      "/home/ubuntu/anaconda3/envs/tensorflow_p36/lib/python3.6/site-packages/sklearn/svm/base.py:218: ConvergenceWarning: Solver terminated early (max_iter=10).  Consider pre-processing your data with StandardScaler or MinMaxScaler.\n",
      "  % self.max_iter, ConvergenceWarning)\n"
     ]
    },
    {
     "name": "stdout",
     "output_type": "stream",
     "text": [
      "[CV] C=0.001, gamma=0.1, max_iter=10.0 ...............................\n",
      "[CV]  C=0.001, gamma=0.01, max_iter=1000.0, score=0.705931148900871, total=  37.6s\n",
      "[CV] C=0.001, gamma=0.1, max_iter=10.0 ...............................\n",
      "[CV]  C=0.001, gamma=0.01, max_iter=1000.0, score=0.7171298216507673, total=  37.9s\n",
      "[CV] C=0.001, gamma=0.1, max_iter=100.0 ..............................\n",
      "[CV]  C=0.001, gamma=0.1, max_iter=10.0, score=0.6169154228855721, total=   0.6s\n",
      "[CV] C=0.001, gamma=0.1, max_iter=100.0 ..............................\n"
     ]
    },
    {
     "name": "stderr",
     "output_type": "stream",
     "text": [
      "/home/ubuntu/anaconda3/envs/tensorflow_p36/lib/python3.6/site-packages/sklearn/svm/base.py:218: ConvergenceWarning: Solver terminated early (max_iter=10).  Consider pre-processing your data with StandardScaler or MinMaxScaler.\n",
      "  % self.max_iter, ConvergenceWarning)\n",
      "/home/ubuntu/anaconda3/envs/tensorflow_p36/lib/python3.6/site-packages/sklearn/svm/base.py:218: ConvergenceWarning: Solver terminated early (max_iter=10).  Consider pre-processing your data with StandardScaler or MinMaxScaler.\n",
      "  % self.max_iter, ConvergenceWarning)\n"
     ]
    },
    {
     "name": "stdout",
     "output_type": "stream",
     "text": [
      "[CV]  C=0.001, gamma=0.1, max_iter=10.0, score=0.557445043550394, total=   0.5s\n",
      "[CV] C=0.001, gamma=0.1, max_iter=100.0 ..............................\n",
      "[CV]  C=0.001, gamma=0.1, max_iter=10.0, score=0.6569888013272501, total=   0.6s\n",
      "[CV] C=0.001, gamma=0.1, max_iter=100.0 ..............................\n"
     ]
    },
    {
     "name": "stderr",
     "output_type": "stream",
     "text": [
      "[Parallel(n_jobs=-1)]: Done  40 tasks      | elapsed:  2.3min\n",
      "/home/ubuntu/anaconda3/envs/tensorflow_p36/lib/python3.6/site-packages/sklearn/svm/base.py:218: ConvergenceWarning: Solver terminated early (max_iter=100).  Consider pre-processing your data with StandardScaler or MinMaxScaler.\n",
      "  % self.max_iter, ConvergenceWarning)\n",
      "/home/ubuntu/anaconda3/envs/tensorflow_p36/lib/python3.6/site-packages/sklearn/svm/base.py:218: ConvergenceWarning: Solver terminated early (max_iter=100).  Consider pre-processing your data with StandardScaler or MinMaxScaler.\n",
      "  % self.max_iter, ConvergenceWarning)\n",
      "/home/ubuntu/anaconda3/envs/tensorflow_p36/lib/python3.6/site-packages/sklearn/svm/base.py:218: ConvergenceWarning: Solver terminated early (max_iter=100).  Consider pre-processing your data with StandardScaler or MinMaxScaler.\n",
      "  % self.max_iter, ConvergenceWarning)\n",
      "/home/ubuntu/anaconda3/envs/tensorflow_p36/lib/python3.6/site-packages/sklearn/svm/base.py:218: ConvergenceWarning: Solver terminated early (max_iter=100).  Consider pre-processing your data with StandardScaler or MinMaxScaler.\n",
      "  % self.max_iter, ConvergenceWarning)\n"
     ]
    },
    {
     "name": "stdout",
     "output_type": "stream",
     "text": [
      "[CV]  C=0.001, gamma=0.1, max_iter=100.0, score=0.7670949026108579, total=   3.6s\n",
      "[CV] C=0.001, gamma=0.1, max_iter=1000.0 .............................\n",
      "[CV]  C=0.001, gamma=0.1, max_iter=100.0, score=0.6832504145936982, total=   3.7s\n",
      "[CV] C=0.001, gamma=0.1, max_iter=1000.0 .............................\n",
      "[CV]  C=0.001, gamma=0.1, max_iter=100.0, score=0.671505599336375, total=   3.6s\n",
      "[CV] C=0.001, gamma=0.1, max_iter=1000.0 .............................\n",
      "[CV]  C=0.001, gamma=0.1, max_iter=100.0, score=0.643716300290336, total=   3.6s\n",
      "[CV] C=0.001, gamma=0.1, max_iter=1000.0 .............................\n"
     ]
    },
    {
     "name": "stderr",
     "output_type": "stream",
     "text": [
      "/home/ubuntu/anaconda3/envs/tensorflow_p36/lib/python3.6/site-packages/sklearn/svm/base.py:218: ConvergenceWarning: Solver terminated early (max_iter=1000).  Consider pre-processing your data with StandardScaler or MinMaxScaler.\n",
      "  % self.max_iter, ConvergenceWarning)\n",
      "/home/ubuntu/anaconda3/envs/tensorflow_p36/lib/python3.6/site-packages/sklearn/svm/base.py:218: ConvergenceWarning: Solver terminated early (max_iter=1000).  Consider pre-processing your data with StandardScaler or MinMaxScaler.\n",
      "  % self.max_iter, ConvergenceWarning)\n",
      "/home/ubuntu/anaconda3/envs/tensorflow_p36/lib/python3.6/site-packages/sklearn/svm/base.py:218: ConvergenceWarning: Solver terminated early (max_iter=1000).  Consider pre-processing your data with StandardScaler or MinMaxScaler.\n",
      "  % self.max_iter, ConvergenceWarning)\n",
      "/home/ubuntu/anaconda3/envs/tensorflow_p36/lib/python3.6/site-packages/sklearn/svm/base.py:218: ConvergenceWarning: Solver terminated early (max_iter=1000).  Consider pre-processing your data with StandardScaler or MinMaxScaler.\n",
      "  % self.max_iter, ConvergenceWarning)\n"
     ]
    },
    {
     "name": "stdout",
     "output_type": "stream",
     "text": [
      "[CV]  C=0.001, gamma=0.1, max_iter=1000.0, score=0.9079983423124741, total=  38.6s\n",
      "[CV] C=0.001, gamma=0.1, max_iter=10000.0 ............................\n",
      "[CV]  C=0.001, gamma=0.1, max_iter=1000.0, score=0.9116915422885572, total=  38.7s\n",
      "[CV] C=0.001, gamma=0.1, max_iter=10000.0 ............................\n",
      "[CV]  C=0.001, gamma=0.1, max_iter=1000.0, score=0.9249274160099544, total=  38.7s\n",
      "[CV]  C=0.001, gamma=0.1, max_iter=1000.0, score=0.9220240564081295, total=  38.5s\n",
      "[CV] C=0.001, gamma=0.1, max_iter=10000.0 ............................\n",
      "[CV] C=0.001, gamma=0.1, max_iter=10000.0 ............................\n",
      "[CV]  C=0.001, gamma=0.0001, max_iter=10000.0, score=0.5047658516369664, total= 2.4min\n",
      "[CV] C=0.001, gamma=1.0, max_iter=10.0 ...............................\n"
     ]
    },
    {
     "name": "stderr",
     "output_type": "stream",
     "text": [
      "/home/ubuntu/anaconda3/envs/tensorflow_p36/lib/python3.6/site-packages/sklearn/svm/base.py:218: ConvergenceWarning: Solver terminated early (max_iter=10).  Consider pre-processing your data with StandardScaler or MinMaxScaler.\n",
      "  % self.max_iter, ConvergenceWarning)\n"
     ]
    },
    {
     "name": "stdout",
     "output_type": "stream",
     "text": [
      "[CV]  C=0.001, gamma=0.0001, max_iter=10000.0, score=0.504769805060141, total= 2.4min\n",
      "[CV] C=0.001, gamma=1.0, max_iter=10.0 ...............................\n",
      "[CV]  C=0.001, gamma=1.0, max_iter=10.0, score=0.5051802735184417, total=   0.6s\n",
      "[CV] C=0.001, gamma=1.0, max_iter=10.0 ...............................\n",
      "[CV]  C=0.001, gamma=0.0001, max_iter=10000.0, score=0.504769805060141, total= 2.4min\n",
      "[CV] C=0.001, gamma=1.0, max_iter=10.0 ...............................\n"
     ]
    },
    {
     "name": "stderr",
     "output_type": "stream",
     "text": [
      "/home/ubuntu/anaconda3/envs/tensorflow_p36/lib/python3.6/site-packages/sklearn/svm/base.py:218: ConvergenceWarning: Solver terminated early (max_iter=10).  Consider pre-processing your data with StandardScaler or MinMaxScaler.\n",
      "  % self.max_iter, ConvergenceWarning)\n",
      "/home/ubuntu/anaconda3/envs/tensorflow_p36/lib/python3.6/site-packages/sklearn/svm/base.py:218: ConvergenceWarning: Solver terminated early (max_iter=10).  Consider pre-processing your data with StandardScaler or MinMaxScaler.\n",
      "  % self.max_iter, ConvergenceWarning)\n"
     ]
    },
    {
     "name": "stdout",
     "output_type": "stream",
     "text": [
      "[CV]  C=0.001, gamma=0.0001, max_iter=10000.0, score=0.5049751243781094, total= 2.4min\n",
      "[CV] C=0.001, gamma=1.0, max_iter=100.0 ..............................\n",
      "[CV]  C=0.001, gamma=1.0, max_iter=10.0, score=0.5082918739635157, total=   0.6s\n"
     ]
    },
    {
     "name": "stderr",
     "output_type": "stream",
     "text": [
      "/home/ubuntu/anaconda3/envs/tensorflow_p36/lib/python3.6/site-packages/sklearn/svm/base.py:218: ConvergenceWarning: Solver terminated early (max_iter=10).  Consider pre-processing your data with StandardScaler or MinMaxScaler.\n",
      "  % self.max_iter, ConvergenceWarning)\n"
     ]
    },
    {
     "name": "stdout",
     "output_type": "stream",
     "text": [
      "[CV] C=0.001, gamma=1.0, max_iter=100.0 ..............................\n"
     ]
    },
    {
     "name": "stderr",
     "output_type": "stream",
     "text": [
      "[Parallel(n_jobs=-1)]: Done  53 tasks      | elapsed:  4.0min\n"
     ]
    },
    {
     "name": "stdout",
     "output_type": "stream",
     "text": [
      "[CV]  C=0.001, gamma=1.0, max_iter=10.0, score=0.5002073828287018, total=   0.5s\n",
      "[CV] C=0.001, gamma=1.0, max_iter=100.0 ..............................\n",
      "[CV]  C=0.001, gamma=1.0, max_iter=10.0, score=0.5089174616341767, total=   0.6s\n",
      "[CV] C=0.001, gamma=1.0, max_iter=100.0 ..............................\n"
     ]
    },
    {
     "name": "stderr",
     "output_type": "stream",
     "text": [
      "/home/ubuntu/anaconda3/envs/tensorflow_p36/lib/python3.6/site-packages/sklearn/svm/base.py:218: ConvergenceWarning: Solver terminated early (max_iter=100).  Consider pre-processing your data with StandardScaler or MinMaxScaler.\n",
      "  % self.max_iter, ConvergenceWarning)\n",
      "/home/ubuntu/anaconda3/envs/tensorflow_p36/lib/python3.6/site-packages/sklearn/svm/base.py:218: ConvergenceWarning: Solver terminated early (max_iter=100).  Consider pre-processing your data with StandardScaler or MinMaxScaler.\n",
      "  % self.max_iter, ConvergenceWarning)\n",
      "/home/ubuntu/anaconda3/envs/tensorflow_p36/lib/python3.6/site-packages/sklearn/svm/base.py:218: ConvergenceWarning: Solver terminated early (max_iter=100).  Consider pre-processing your data with StandardScaler or MinMaxScaler.\n",
      "  % self.max_iter, ConvergenceWarning)\n"
     ]
    },
    {
     "name": "stdout",
     "output_type": "stream",
     "text": [
      "[CV]  C=0.001, gamma=0.001, max_iter=10000.0, score=0.5047658516369664, total= 2.4min\n",
      "[CV] C=0.001, gamma=1.0, max_iter=1000.0 .............................\n",
      "[CV]  C=0.001, gamma=0.001, max_iter=10000.0, score=0.5049751243781094, total= 2.4min\n"
     ]
    },
    {
     "name": "stderr",
     "output_type": "stream",
     "text": [
      "/home/ubuntu/anaconda3/envs/tensorflow_p36/lib/python3.6/site-packages/sklearn/svm/base.py:218: ConvergenceWarning: Solver terminated early (max_iter=100).  Consider pre-processing your data with StandardScaler or MinMaxScaler.\n",
      "  % self.max_iter, ConvergenceWarning)\n"
     ]
    },
    {
     "name": "stdout",
     "output_type": "stream",
     "text": [
      "[CV] C=0.001, gamma=1.0, max_iter=1000.0 .............................\n",
      "[CV]  C=0.001, gamma=0.001, max_iter=10000.0, score=0.504769805060141, total= 2.4min\n",
      "[CV] C=0.001, gamma=1.0, max_iter=1000.0 .............................\n",
      "[CV]  C=0.001, gamma=0.001, max_iter=10000.0, score=0.504769805060141, total= 2.4min\n",
      "[CV] C=0.001, gamma=1.0, max_iter=1000.0 .............................\n",
      "[CV]  C=0.001, gamma=1.0, max_iter=100.0, score=0.5723166183174472, total=   3.7s\n",
      "[CV] C=0.001, gamma=1.0, max_iter=10000.0 ............................\n",
      "[CV]  C=0.001, gamma=1.0, max_iter=100.0, score=0.5576285240464345, total=   3.7s\n",
      "[CV] C=0.001, gamma=1.0, max_iter=10000.0 ............................\n",
      "[CV]  C=0.001, gamma=1.0, max_iter=100.0, score=0.569888013272501, total=   3.6s\n",
      "[CV] C=0.001, gamma=1.0, max_iter=10000.0 ............................\n",
      "[CV]  C=0.001, gamma=1.0, max_iter=100.0, score=0.5387805889672335, total=   3.7s\n",
      "[CV] C=0.001, gamma=1.0, max_iter=10000.0 ............................\n"
     ]
    },
    {
     "name": "stderr",
     "output_type": "stream",
     "text": [
      "/home/ubuntu/anaconda3/envs/tensorflow_p36/lib/python3.6/site-packages/sklearn/svm/base.py:218: ConvergenceWarning: Solver terminated early (max_iter=1000).  Consider pre-processing your data with StandardScaler or MinMaxScaler.\n",
      "  % self.max_iter, ConvergenceWarning)\n",
      "/home/ubuntu/anaconda3/envs/tensorflow_p36/lib/python3.6/site-packages/sklearn/svm/base.py:218: ConvergenceWarning: Solver terminated early (max_iter=1000).  Consider pre-processing your data with StandardScaler or MinMaxScaler.\n",
      "  % self.max_iter, ConvergenceWarning)\n",
      "/home/ubuntu/anaconda3/envs/tensorflow_p36/lib/python3.6/site-packages/sklearn/svm/base.py:218: ConvergenceWarning: Solver terminated early (max_iter=1000).  Consider pre-processing your data with StandardScaler or MinMaxScaler.\n",
      "  % self.max_iter, ConvergenceWarning)\n",
      "/home/ubuntu/anaconda3/envs/tensorflow_p36/lib/python3.6/site-packages/sklearn/svm/base.py:218: ConvergenceWarning: Solver terminated early (max_iter=1000).  Consider pre-processing your data with StandardScaler or MinMaxScaler.\n",
      "  % self.max_iter, ConvergenceWarning)\n"
     ]
    },
    {
     "name": "stdout",
     "output_type": "stream",
     "text": [
      "[CV]  C=0.001, gamma=0.01, max_iter=10000.0, score=0.5049751243781094, total= 2.4min\n",
      "[CV] C=0.001, gamma=10.0, max_iter=10.0 ..............................\n",
      "[CV]  C=0.001, gamma=1.0, max_iter=1000.0, score=0.9170812603648425, total=  38.7s\n",
      "[CV] C=0.001, gamma=10.0, max_iter=10.0 ..............................\n"
     ]
    },
    {
     "name": "stderr",
     "output_type": "stream",
     "text": [
      "[Parallel(n_jobs=-1)]: Done  66 tasks      | elapsed:  5.2min\n",
      "/home/ubuntu/anaconda3/envs/tensorflow_p36/lib/python3.6/site-packages/sklearn/svm/base.py:218: ConvergenceWarning: Solver terminated early (max_iter=10).  Consider pre-processing your data with StandardScaler or MinMaxScaler.\n",
      "  % self.max_iter, ConvergenceWarning)\n"
     ]
    },
    {
     "name": "stdout",
     "output_type": "stream",
     "text": [
      "[CV]  C=0.001, gamma=0.01, max_iter=10000.0, score=0.5047658516369664, total= 2.4min\n"
     ]
    },
    {
     "name": "stderr",
     "output_type": "stream",
     "text": [
      "/home/ubuntu/anaconda3/envs/tensorflow_p36/lib/python3.6/site-packages/sklearn/svm/base.py:218: ConvergenceWarning: Solver terminated early (max_iter=10).  Consider pre-processing your data with StandardScaler or MinMaxScaler.\n",
      "  % self.max_iter, ConvergenceWarning)\n"
     ]
    },
    {
     "name": "stdout",
     "output_type": "stream",
     "text": [
      "[CV]  C=0.001, gamma=1.0, max_iter=1000.0, score=0.9021153048527581, total=  38.7s\n",
      "[CV] C=0.001, gamma=10.0, max_iter=10.0 ..............................\n",
      "[CV]  C=0.001, gamma=1.0, max_iter=1000.0, score=0.9088271860754248, total=  38.8s\n",
      "[CV] C=0.001, gamma=10.0, max_iter=10.0 ..............................\n",
      "[CV]  C=0.001, gamma=10.0, max_iter=10.0, score=0.6916701201823456, total=   0.6s\n",
      "[CV] C=0.001, gamma=10.0, max_iter=100.0 .............................\n",
      "[CV]  C=0.001, gamma=10.0, max_iter=10.0, score=0.681592039800995, total=   0.5s\n",
      "[CV] C=0.001, gamma=10.0, max_iter=100.0 .............................\n"
     ]
    },
    {
     "name": "stderr",
     "output_type": "stream",
     "text": [
      "/home/ubuntu/anaconda3/envs/tensorflow_p36/lib/python3.6/site-packages/sklearn/svm/base.py:218: ConvergenceWarning: Solver terminated early (max_iter=10).  Consider pre-processing your data with StandardScaler or MinMaxScaler.\n",
      "  % self.max_iter, ConvergenceWarning)\n"
     ]
    },
    {
     "name": "stdout",
     "output_type": "stream",
     "text": [
      "[CV] C=0.001, gamma=10.0, max_iter=100.0 .............................\n"
     ]
    },
    {
     "name": "stderr",
     "output_type": "stream",
     "text": [
      "/home/ubuntu/anaconda3/envs/tensorflow_p36/lib/python3.6/site-packages/sklearn/svm/base.py:218: ConvergenceWarning: Solver terminated early (max_iter=10).  Consider pre-processing your data with StandardScaler or MinMaxScaler.\n",
      "  % self.max_iter, ConvergenceWarning)\n"
     ]
    },
    {
     "name": "stdout",
     "output_type": "stream",
     "text": [
      "[CV]  C=0.001, gamma=0.01, max_iter=10000.0, score=0.504769805060141, total= 2.4min\n",
      "[CV] C=0.001, gamma=10.0, max_iter=100.0 .............................\n",
      "[CV]  C=0.001, gamma=1.0, max_iter=1000.0, score=0.9083367897138117, total=  38.9s\n",
      "[CV]  C=0.001, gamma=10.0, max_iter=10.0, score=0.6905848195769391, total=   0.5s\n",
      "[CV] C=0.001, gamma=10.0, max_iter=1000.0 ............................\n",
      "[CV]  C=0.001, gamma=10.0, max_iter=10.0, score=0.7009539610120282, total=   0.5s\n",
      "[CV] C=0.001, gamma=10.0, max_iter=1000.0 ............................\n",
      "[CV] C=0.001, gamma=10.0, max_iter=1000.0 ............................\n",
      "[CV]  C=0.001, gamma=0.01, max_iter=10000.0, score=0.504769805060141, total= 2.4min\n",
      "[CV] C=0.001, gamma=10.0, max_iter=1000.0 ............................\n"
     ]
    },
    {
     "name": "stderr",
     "output_type": "stream",
     "text": [
      "/home/ubuntu/anaconda3/envs/tensorflow_p36/lib/python3.6/site-packages/sklearn/svm/base.py:218: ConvergenceWarning: Solver terminated early (max_iter=100).  Consider pre-processing your data with StandardScaler or MinMaxScaler.\n",
      "  % self.max_iter, ConvergenceWarning)\n",
      "/home/ubuntu/anaconda3/envs/tensorflow_p36/lib/python3.6/site-packages/sklearn/svm/base.py:218: ConvergenceWarning: Solver terminated early (max_iter=100).  Consider pre-processing your data with StandardScaler or MinMaxScaler.\n",
      "  % self.max_iter, ConvergenceWarning)\n",
      "/home/ubuntu/anaconda3/envs/tensorflow_p36/lib/python3.6/site-packages/sklearn/svm/base.py:218: ConvergenceWarning: Solver terminated early (max_iter=100).  Consider pre-processing your data with StandardScaler or MinMaxScaler.\n",
      "  % self.max_iter, ConvergenceWarning)\n",
      "/home/ubuntu/anaconda3/envs/tensorflow_p36/lib/python3.6/site-packages/sklearn/svm/base.py:218: ConvergenceWarning: Solver terminated early (max_iter=100).  Consider pre-processing your data with StandardScaler or MinMaxScaler.\n",
      "  % self.max_iter, ConvergenceWarning)\n"
     ]
    },
    {
     "name": "stdout",
     "output_type": "stream",
     "text": [
      "[CV]  C=0.001, gamma=10.0, max_iter=100.0, score=0.9067550766680481, total=   3.6s\n",
      "[CV] C=0.001, gamma=10.0, max_iter=10000.0 ...........................\n",
      "[CV]  C=0.001, gamma=10.0, max_iter=100.0, score=0.9025704809286899, total=   3.6s\n",
      "[CV] C=0.001, gamma=10.0, max_iter=10000.0 ...........................\n",
      "[CV]  C=0.001, gamma=10.0, max_iter=100.0, score=0.8934052260472832, total=   3.6s\n",
      "[CV] C=0.001, gamma=10.0, max_iter=10000.0 ...........................\n",
      "[CV]  C=0.001, gamma=10.0, max_iter=100.0, score=0.8975528826213189, total=   3.6s\n",
      "[CV] C=0.001, gamma=10.0, max_iter=10000.0 ...........................\n"
     ]
    },
    {
     "name": "stderr",
     "output_type": "stream",
     "text": [
      "/home/ubuntu/anaconda3/envs/tensorflow_p36/lib/python3.6/site-packages/sklearn/svm/base.py:218: ConvergenceWarning: Solver terminated early (max_iter=1000).  Consider pre-processing your data with StandardScaler or MinMaxScaler.\n",
      "  % self.max_iter, ConvergenceWarning)\n",
      "/home/ubuntu/anaconda3/envs/tensorflow_p36/lib/python3.6/site-packages/sklearn/svm/base.py:218: ConvergenceWarning: Solver terminated early (max_iter=1000).  Consider pre-processing your data with StandardScaler or MinMaxScaler.\n",
      "  % self.max_iter, ConvergenceWarning)\n",
      "/home/ubuntu/anaconda3/envs/tensorflow_p36/lib/python3.6/site-packages/sklearn/svm/base.py:218: ConvergenceWarning: Solver terminated early (max_iter=1000).  Consider pre-processing your data with StandardScaler or MinMaxScaler.\n",
      "  % self.max_iter, ConvergenceWarning)\n",
      "/home/ubuntu/anaconda3/envs/tensorflow_p36/lib/python3.6/site-packages/sklearn/svm/base.py:218: ConvergenceWarning: Solver terminated early (max_iter=1000).  Consider pre-processing your data with StandardScaler or MinMaxScaler.\n",
      "  % self.max_iter, ConvergenceWarning)\n"
     ]
    },
    {
     "name": "stdout",
     "output_type": "stream",
     "text": [
      "[CV]  C=0.001, gamma=10.0, max_iter=1000.0, score=0.9593866556154165, total=  38.7s\n",
      "[CV] C=0.01, gamma=0.0001, max_iter=10.0 .............................\n"
     ]
    },
    {
     "name": "stderr",
     "output_type": "stream",
     "text": [
      "[Parallel(n_jobs=-1)]: Done  81 tasks      | elapsed:  6.3min\n"
     ]
    },
    {
     "name": "stdout",
     "output_type": "stream",
     "text": [
      "[CV]  C=0.001, gamma=10.0, max_iter=1000.0, score=0.972210700953961, total=  38.6s\n"
     ]
    },
    {
     "name": "stderr",
     "output_type": "stream",
     "text": [
      "/home/ubuntu/anaconda3/envs/tensorflow_p36/lib/python3.6/site-packages/sklearn/svm/base.py:218: ConvergenceWarning: Solver terminated early (max_iter=10).  Consider pre-processing your data with StandardScaler or MinMaxScaler.\n",
      "  % self.max_iter, ConvergenceWarning)\n"
     ]
    },
    {
     "name": "stdout",
     "output_type": "stream",
     "text": [
      "[CV] C=0.01, gamma=0.0001, max_iter=10.0 .............................\n",
      "[CV]  C=0.001, gamma=10.0, max_iter=1000.0, score=0.9610120282040647, total=  38.7s\n",
      "[CV] C=0.01, gamma=0.0001, max_iter=10.0 .............................\n",
      "[CV]  C=0.01, gamma=0.0001, max_iter=10.0, score=0.7513468711147948, total=   0.6s\n",
      "[CV] C=0.01, gamma=0.0001, max_iter=10.0 .............................\n"
     ]
    },
    {
     "name": "stderr",
     "output_type": "stream",
     "text": [
      "/home/ubuntu/anaconda3/envs/tensorflow_p36/lib/python3.6/site-packages/sklearn/svm/base.py:218: ConvergenceWarning: Solver terminated early (max_iter=10).  Consider pre-processing your data with StandardScaler or MinMaxScaler.\n",
      "  % self.max_iter, ConvergenceWarning)\n"
     ]
    },
    {
     "name": "stdout",
     "output_type": "stream",
     "text": [
      "[CV]  C=0.001, gamma=10.0, max_iter=1000.0, score=0.9614427860696517, total=  39.2s\n",
      "[CV] C=0.01, gamma=0.0001, max_iter=100.0 ............................\n"
     ]
    },
    {
     "name": "stderr",
     "output_type": "stream",
     "text": [
      "/home/ubuntu/anaconda3/envs/tensorflow_p36/lib/python3.6/site-packages/sklearn/svm/base.py:218: ConvergenceWarning: Solver terminated early (max_iter=10).  Consider pre-processing your data with StandardScaler or MinMaxScaler.\n",
      "  % self.max_iter, ConvergenceWarning)\n"
     ]
    },
    {
     "name": "stdout",
     "output_type": "stream",
     "text": [
      "[CV]  C=0.01, gamma=0.0001, max_iter=10.0, score=0.7408789386401327, total=   0.5s\n",
      "[CV] C=0.01, gamma=0.0001, max_iter=100.0 ............................\n"
     ]
    },
    {
     "name": "stderr",
     "output_type": "stream",
     "text": [
      "/home/ubuntu/anaconda3/envs/tensorflow_p36/lib/python3.6/site-packages/sklearn/svm/base.py:218: ConvergenceWarning: Solver terminated early (max_iter=10).  Consider pre-processing your data with StandardScaler or MinMaxScaler.\n",
      "  % self.max_iter, ConvergenceWarning)\n"
     ]
    },
    {
     "name": "stdout",
     "output_type": "stream",
     "text": [
      "[CV]  C=0.01, gamma=0.0001, max_iter=10.0, score=0.7652426379095811, total=   0.6s\n",
      "[CV] C=0.01, gamma=0.0001, max_iter=100.0 ............................\n",
      "[CV]  C=0.01, gamma=0.0001, max_iter=10.0, score=0.7552882621318955, total=   0.5s\n",
      "[CV] C=0.01, gamma=0.0001, max_iter=100.0 ............................\n"
     ]
    },
    {
     "name": "stderr",
     "output_type": "stream",
     "text": [
      "/home/ubuntu/anaconda3/envs/tensorflow_p36/lib/python3.6/site-packages/sklearn/svm/base.py:218: ConvergenceWarning: Solver terminated early (max_iter=100).  Consider pre-processing your data with StandardScaler or MinMaxScaler.\n",
      "  % self.max_iter, ConvergenceWarning)\n",
      "/home/ubuntu/anaconda3/envs/tensorflow_p36/lib/python3.6/site-packages/sklearn/svm/base.py:218: ConvergenceWarning: Solver terminated early (max_iter=100).  Consider pre-processing your data with StandardScaler or MinMaxScaler.\n",
      "  % self.max_iter, ConvergenceWarning)\n",
      "/home/ubuntu/anaconda3/envs/tensorflow_p36/lib/python3.6/site-packages/sklearn/svm/base.py:218: ConvergenceWarning: Solver terminated early (max_iter=100).  Consider pre-processing your data with StandardScaler or MinMaxScaler.\n",
      "  % self.max_iter, ConvergenceWarning)\n",
      "/home/ubuntu/anaconda3/envs/tensorflow_p36/lib/python3.6/site-packages/sklearn/svm/base.py:218: ConvergenceWarning: Solver terminated early (max_iter=100).  Consider pre-processing your data with StandardScaler or MinMaxScaler.\n",
      "  % self.max_iter, ConvergenceWarning)\n"
     ]
    },
    {
     "name": "stdout",
     "output_type": "stream",
     "text": [
      "[CV]  C=0.01, gamma=0.0001, max_iter=100.0, score=0.7364276833816825, total=   3.7s\n",
      "[CV] C=0.01, gamma=0.0001, max_iter=1000.0 ...........................\n",
      "[CV]  C=0.01, gamma=0.0001, max_iter=100.0, score=0.6936152570480929, total=   3.7s\n",
      "[CV] C=0.01, gamma=0.0001, max_iter=1000.0 ...........................\n",
      "[CV]  C=0.01, gamma=0.0001, max_iter=100.0, score=0.7192036499377852, total=   3.7s\n",
      "[CV] C=0.01, gamma=0.0001, max_iter=1000.0 ...........................\n",
      "[CV]  C=0.01, gamma=0.0001, max_iter=100.0, score=0.7216922438822065, total=   3.6s\n",
      "[CV] C=0.01, gamma=0.0001, max_iter=1000.0 ...........................\n"
     ]
    },
    {
     "name": "stderr",
     "output_type": "stream",
     "text": [
      "/home/ubuntu/anaconda3/envs/tensorflow_p36/lib/python3.6/site-packages/sklearn/svm/base.py:218: ConvergenceWarning: Solver terminated early (max_iter=1000).  Consider pre-processing your data with StandardScaler or MinMaxScaler.\n",
      "  % self.max_iter, ConvergenceWarning)\n",
      "/home/ubuntu/anaconda3/envs/tensorflow_p36/lib/python3.6/site-packages/sklearn/svm/base.py:218: ConvergenceWarning: Solver terminated early (max_iter=1000).  Consider pre-processing your data with StandardScaler or MinMaxScaler.\n",
      "  % self.max_iter, ConvergenceWarning)\n",
      "/home/ubuntu/anaconda3/envs/tensorflow_p36/lib/python3.6/site-packages/sklearn/svm/base.py:218: ConvergenceWarning: Solver terminated early (max_iter=1000).  Consider pre-processing your data with StandardScaler or MinMaxScaler.\n",
      "  % self.max_iter, ConvergenceWarning)\n",
      "/home/ubuntu/anaconda3/envs/tensorflow_p36/lib/python3.6/site-packages/sklearn/svm/base.py:218: ConvergenceWarning: Solver terminated early (max_iter=1000).  Consider pre-processing your data with StandardScaler or MinMaxScaler.\n",
      "  % self.max_iter, ConvergenceWarning)\n"
     ]
    },
    {
     "name": "stdout",
     "output_type": "stream",
     "text": [
      "[CV]  C=0.001, gamma=0.1, max_iter=10000.0, score=0.504769805060141, total= 2.3min\n",
      "[CV] C=0.01, gamma=0.0001, max_iter=10000.0 ..........................\n",
      "[CV]  C=0.001, gamma=0.1, max_iter=10000.0, score=0.504769805060141, total= 2.4min\n",
      "[CV] C=0.01, gamma=0.0001, max_iter=10000.0 ..........................\n",
      "[CV]  C=0.001, gamma=0.1, max_iter=10000.0, score=0.5047658516369664, total= 2.4min\n",
      "[CV] C=0.01, gamma=0.0001, max_iter=10000.0 ..........................\n",
      "[CV]  C=0.001, gamma=0.1, max_iter=10000.0, score=0.5049751243781094, total= 2.4min\n",
      "[CV] C=0.01, gamma=0.0001, max_iter=10000.0 ..........................\n"
     ]
    },
    {
     "name": "stderr",
     "output_type": "stream",
     "text": [
      "[Parallel(n_jobs=-1)]: Done  96 tasks      | elapsed:  7.5min\n"
     ]
    },
    {
     "name": "stdout",
     "output_type": "stream",
     "text": [
      "[CV]  C=0.01, gamma=0.0001, max_iter=1000.0, score=0.6231343283582089, total=  38.8s\n",
      "[CV] C=0.01, gamma=0.001, max_iter=10.0 ..............................\n",
      "[CV]  C=0.01, gamma=0.0001, max_iter=1000.0, score=0.6684624948197265, total=  39.2s\n",
      "[CV] C=0.01, gamma=0.001, max_iter=10.0 ..............................\n"
     ]
    },
    {
     "name": "stderr",
     "output_type": "stream",
     "text": [
      "/home/ubuntu/anaconda3/envs/tensorflow_p36/lib/python3.6/site-packages/sklearn/svm/base.py:218: ConvergenceWarning: Solver terminated early (max_iter=10).  Consider pre-processing your data with StandardScaler or MinMaxScaler.\n",
      "  % self.max_iter, ConvergenceWarning)\n",
      "/home/ubuntu/anaconda3/envs/tensorflow_p36/lib/python3.6/site-packages/sklearn/svm/base.py:218: ConvergenceWarning: Solver terminated early (max_iter=10).  Consider pre-processing your data with StandardScaler or MinMaxScaler.\n",
      "  % self.max_iter, ConvergenceWarning)\n"
     ]
    },
    {
     "name": "stdout",
     "output_type": "stream",
     "text": [
      "[CV]  C=0.01, gamma=0.001, max_iter=10.0, score=0.7472026523000415, total=   0.5s\n",
      "[CV]  C=0.01, gamma=0.0001, max_iter=1000.0, score=0.6370800497718789, total=  39.2s\n",
      "[CV] C=0.01, gamma=0.001, max_iter=10.0 ..............................\n",
      "[CV] C=0.01, gamma=0.001, max_iter=10.0 ..............................\n",
      "[CV]  C=0.01, gamma=0.001, max_iter=10.0, score=0.7408789386401327, total=   0.6s\n",
      "[CV] C=0.01, gamma=0.001, max_iter=100.0 .............................\n"
     ]
    },
    {
     "name": "stderr",
     "output_type": "stream",
     "text": [
      "/home/ubuntu/anaconda3/envs/tensorflow_p36/lib/python3.6/site-packages/sklearn/svm/base.py:218: ConvergenceWarning: Solver terminated early (max_iter=10).  Consider pre-processing your data with StandardScaler or MinMaxScaler.\n",
      "  % self.max_iter, ConvergenceWarning)\n",
      "/home/ubuntu/anaconda3/envs/tensorflow_p36/lib/python3.6/site-packages/sklearn/svm/base.py:218: ConvergenceWarning: Solver terminated early (max_iter=10).  Consider pre-processing your data with StandardScaler or MinMaxScaler.\n",
      "  % self.max_iter, ConvergenceWarning)\n"
     ]
    },
    {
     "name": "stdout",
     "output_type": "stream",
     "text": [
      "[CV]  C=0.01, gamma=0.0001, max_iter=1000.0, score=0.6196598921609291, total=  39.6s\n",
      "[CV] C=0.01, gamma=0.001, max_iter=100.0 .............................\n",
      "[CV]  C=0.01, gamma=0.001, max_iter=10.0, score=0.7822480298631274, total=   0.5s\n",
      "[CV] C=0.01, gamma=0.001, max_iter=100.0 .............................\n",
      "[CV]  C=0.01, gamma=0.001, max_iter=10.0, score=0.7681459975114061, total=   0.5s\n",
      "[CV] C=0.01, gamma=0.001, max_iter=100.0 .............................\n"
     ]
    },
    {
     "name": "stderr",
     "output_type": "stream",
     "text": [
      "/home/ubuntu/anaconda3/envs/tensorflow_p36/lib/python3.6/site-packages/sklearn/svm/base.py:218: ConvergenceWarning: Solver terminated early (max_iter=100).  Consider pre-processing your data with StandardScaler or MinMaxScaler.\n",
      "  % self.max_iter, ConvergenceWarning)\n",
      "/home/ubuntu/anaconda3/envs/tensorflow_p36/lib/python3.6/site-packages/sklearn/svm/base.py:218: ConvergenceWarning: Solver terminated early (max_iter=100).  Consider pre-processing your data with StandardScaler or MinMaxScaler.\n",
      "  % self.max_iter, ConvergenceWarning)\n",
      "/home/ubuntu/anaconda3/envs/tensorflow_p36/lib/python3.6/site-packages/sklearn/svm/base.py:218: ConvergenceWarning: Solver terminated early (max_iter=100).  Consider pre-processing your data with StandardScaler or MinMaxScaler.\n",
      "  % self.max_iter, ConvergenceWarning)\n",
      "/home/ubuntu/anaconda3/envs/tensorflow_p36/lib/python3.6/site-packages/sklearn/svm/base.py:218: ConvergenceWarning: Solver terminated early (max_iter=100).  Consider pre-processing your data with StandardScaler or MinMaxScaler.\n",
      "  % self.max_iter, ConvergenceWarning)\n"
     ]
    },
    {
     "name": "stdout",
     "output_type": "stream",
     "text": [
      "[CV]  C=0.01, gamma=0.001, max_iter=100.0, score=0.7389142146705346, total=   3.7s\n",
      "[CV] C=0.01, gamma=0.001, max_iter=1000.0 ............................\n",
      "[CV]  C=0.01, gamma=0.001, max_iter=100.0, score=0.7259535655058044, total=   3.6s\n",
      "[CV] C=0.01, gamma=0.001, max_iter=1000.0 ............................\n",
      "[CV]  C=0.01, gamma=0.001, max_iter=100.0, score=0.7324761509746993, total=   3.6s\n",
      "[CV] C=0.01, gamma=0.001, max_iter=1000.0 ............................\n",
      "[CV]  C=0.01, gamma=0.001, max_iter=100.0, score=0.7295727913728743, total=   3.6s\n",
      "[CV] C=0.01, gamma=0.001, max_iter=1000.0 ............................\n",
      "[CV]  C=0.001, gamma=1.0, max_iter=10000.0, score=0.504769805060141, total= 2.3min\n",
      "[CV] C=0.01, gamma=0.001, max_iter=10000.0 ...........................\n",
      "[CV]  C=0.001, gamma=1.0, max_iter=10000.0, score=0.5047658516369664, total= 2.3min\n",
      "[CV] C=0.01, gamma=0.001, max_iter=10000.0 ...........................\n",
      "[CV]  C=0.001, gamma=1.0, max_iter=10000.0, score=0.5049751243781094, total= 2.3min\n",
      "[CV] C=0.01, gamma=0.001, max_iter=10000.0 ...........................\n",
      "[CV]  C=0.001, gamma=1.0, max_iter=10000.0, score=0.504769805060141, total= 2.3min\n",
      "[CV] C=0.01, gamma=0.001, max_iter=10000.0 ...........................\n"
     ]
    },
    {
     "name": "stderr",
     "output_type": "stream",
     "text": [
      "/home/ubuntu/anaconda3/envs/tensorflow_p36/lib/python3.6/site-packages/sklearn/svm/base.py:218: ConvergenceWarning: Solver terminated early (max_iter=1000).  Consider pre-processing your data with StandardScaler or MinMaxScaler.\n",
      "  % self.max_iter, ConvergenceWarning)\n",
      "/home/ubuntu/anaconda3/envs/tensorflow_p36/lib/python3.6/site-packages/sklearn/svm/base.py:218: ConvergenceWarning: Solver terminated early (max_iter=1000).  Consider pre-processing your data with StandardScaler or MinMaxScaler.\n",
      "  % self.max_iter, ConvergenceWarning)\n",
      "/home/ubuntu/anaconda3/envs/tensorflow_p36/lib/python3.6/site-packages/sklearn/svm/base.py:218: ConvergenceWarning: Solver terminated early (max_iter=1000).  Consider pre-processing your data with StandardScaler or MinMaxScaler.\n",
      "  % self.max_iter, ConvergenceWarning)\n",
      "/home/ubuntu/anaconda3/envs/tensorflow_p36/lib/python3.6/site-packages/sklearn/svm/base.py:218: ConvergenceWarning: Solver terminated early (max_iter=1000).  Consider pre-processing your data with StandardScaler or MinMaxScaler.\n",
      "  % self.max_iter, ConvergenceWarning)\n"
     ]
    },
    {
     "name": "stdout",
     "output_type": "stream",
     "text": [
      "[CV]  C=0.01, gamma=0.001, max_iter=1000.0, score=0.6368159203980099, total=  38.7s\n",
      "[CV] C=0.01, gamma=0.01, max_iter=10.0 ...............................\n",
      "[CV]  C=0.01, gamma=0.001, max_iter=1000.0, score=0.6730211355159552, total=  38.8s\n",
      "[CV] C=0.01, gamma=0.01, max_iter=10.0 ...............................\n"
     ]
    },
    {
     "name": "stderr",
     "output_type": "stream",
     "text": [
      "[Parallel(n_jobs=-1)]: Done 113 tasks      | elapsed:  8.7min\n"
     ]
    },
    {
     "name": "stdout",
     "output_type": "stream",
     "text": [
      "[CV]  C=0.01, gamma=0.001, max_iter=1000.0, score=0.6586478639568644, total=  38.9s\n",
      "[CV] C=0.01, gamma=0.01, max_iter=10.0 ...............................\n"
     ]
    },
    {
     "name": "stderr",
     "output_type": "stream",
     "text": [
      "/home/ubuntu/anaconda3/envs/tensorflow_p36/lib/python3.6/site-packages/sklearn/svm/base.py:218: ConvergenceWarning: Solver terminated early (max_iter=10).  Consider pre-processing your data with StandardScaler or MinMaxScaler.\n",
      "  % self.max_iter, ConvergenceWarning)\n",
      "/home/ubuntu/anaconda3/envs/tensorflow_p36/lib/python3.6/site-packages/sklearn/svm/base.py:218: ConvergenceWarning: Solver terminated early (max_iter=10).  Consider pre-processing your data with StandardScaler or MinMaxScaler.\n",
      "  % self.max_iter, ConvergenceWarning)\n"
     ]
    },
    {
     "name": "stdout",
     "output_type": "stream",
     "text": [
      "[CV]  C=0.01, gamma=0.01, max_iter=10.0, score=0.8188976377952756, total=   0.5s\n",
      "[CV] C=0.01, gamma=0.01, max_iter=10.0 ...............................\n",
      "[CV]  C=0.01, gamma=0.01, max_iter=10.0, score=0.8092868988391376, total=   0.5s\n",
      "[CV]  C=0.01, gamma=0.001, max_iter=1000.0, score=0.6329323931978432, total=  39.0s\n",
      "[CV] C=0.01, gamma=0.01, max_iter=100.0 ..............................\n",
      "[CV] C=0.01, gamma=0.01, max_iter=100.0 ..............................\n"
     ]
    },
    {
     "name": "stderr",
     "output_type": "stream",
     "text": [
      "/home/ubuntu/anaconda3/envs/tensorflow_p36/lib/python3.6/site-packages/sklearn/svm/base.py:218: ConvergenceWarning: Solver terminated early (max_iter=10).  Consider pre-processing your data with StandardScaler or MinMaxScaler.\n",
      "  % self.max_iter, ConvergenceWarning)\n",
      "/home/ubuntu/anaconda3/envs/tensorflow_p36/lib/python3.6/site-packages/sklearn/svm/base.py:218: ConvergenceWarning: Solver terminated early (max_iter=10).  Consider pre-processing your data with StandardScaler or MinMaxScaler.\n",
      "  % self.max_iter, ConvergenceWarning)\n"
     ]
    },
    {
     "name": "stdout",
     "output_type": "stream",
     "text": [
      "[CV]  C=0.01, gamma=0.01, max_iter=10.0, score=0.8145997511406056, total=   0.7s\n",
      "[CV] C=0.01, gamma=0.01, max_iter=100.0 ..............................\n",
      "[CV]  C=0.01, gamma=0.01, max_iter=10.0, score=0.7648278722521775, total=   0.5s\n",
      "[CV] C=0.01, gamma=0.01, max_iter=100.0 ..............................\n"
     ]
    },
    {
     "name": "stderr",
     "output_type": "stream",
     "text": [
      "/home/ubuntu/anaconda3/envs/tensorflow_p36/lib/python3.6/site-packages/sklearn/svm/base.py:218: ConvergenceWarning: Solver terminated early (max_iter=100).  Consider pre-processing your data with StandardScaler or MinMaxScaler.\n",
      "  % self.max_iter, ConvergenceWarning)\n",
      "/home/ubuntu/anaconda3/envs/tensorflow_p36/lib/python3.6/site-packages/sklearn/svm/base.py:218: ConvergenceWarning: Solver terminated early (max_iter=100).  Consider pre-processing your data with StandardScaler or MinMaxScaler.\n",
      "  % self.max_iter, ConvergenceWarning)\n",
      "/home/ubuntu/anaconda3/envs/tensorflow_p36/lib/python3.6/site-packages/sklearn/svm/base.py:218: ConvergenceWarning: Solver terminated early (max_iter=100).  Consider pre-processing your data with StandardScaler or MinMaxScaler.\n",
      "  % self.max_iter, ConvergenceWarning)\n",
      "/home/ubuntu/anaconda3/envs/tensorflow_p36/lib/python3.6/site-packages/sklearn/svm/base.py:218: ConvergenceWarning: Solver terminated early (max_iter=100).  Consider pre-processing your data with StandardScaler or MinMaxScaler.\n",
      "  % self.max_iter, ConvergenceWarning)\n"
     ]
    },
    {
     "name": "stdout",
     "output_type": "stream",
     "text": [
      "[CV]  C=0.01, gamma=0.01, max_iter=100.0, score=0.821798590965603, total=   3.6s\n",
      "[CV] C=0.01, gamma=0.01, max_iter=1000.0 .............................\n",
      "[CV]  C=0.01, gamma=0.01, max_iter=100.0, score=0.8084577114427861, total=   3.7s\n",
      "[CV] C=0.01, gamma=0.01, max_iter=1000.0 .............................\n",
      "[CV]  C=0.01, gamma=0.01, max_iter=100.0, score=0.8195769390294484, total=   3.6s\n",
      "[CV] C=0.01, gamma=0.01, max_iter=1000.0 .............................\n",
      "[CV]  C=0.01, gamma=0.01, max_iter=100.0, score=0.7984238905018665, total=   3.6s\n",
      "[CV] C=0.01, gamma=0.01, max_iter=1000.0 .............................\n",
      "[CV]  C=0.001, gamma=10.0, max_iter=10000.0, score=0.5049751243781094, total= 2.3min\n",
      "[CV] C=0.01, gamma=0.01, max_iter=10000.0 ............................\n",
      "[CV]  C=0.001, gamma=10.0, max_iter=10000.0, score=0.5047658516369664, total= 2.3min\n",
      "[CV] C=0.01, gamma=0.01, max_iter=10000.0 ............................\n",
      "[CV]  C=0.001, gamma=10.0, max_iter=10000.0, score=0.504769805060141, total= 2.3min\n",
      "[CV] C=0.01, gamma=0.01, max_iter=10000.0 ............................\n",
      "[CV]  C=0.001, gamma=10.0, max_iter=10000.0, score=0.504769805060141, total= 2.3min\n",
      "[CV] C=0.01, gamma=0.01, max_iter=10000.0 ............................\n"
     ]
    },
    {
     "name": "stderr",
     "output_type": "stream",
     "text": [
      "/home/ubuntu/anaconda3/envs/tensorflow_p36/lib/python3.6/site-packages/sklearn/svm/base.py:218: ConvergenceWarning: Solver terminated early (max_iter=1000).  Consider pre-processing your data with StandardScaler or MinMaxScaler.\n",
      "  % self.max_iter, ConvergenceWarning)\n",
      "/home/ubuntu/anaconda3/envs/tensorflow_p36/lib/python3.6/site-packages/sklearn/svm/base.py:218: ConvergenceWarning: Solver terminated early (max_iter=1000).  Consider pre-processing your data with StandardScaler or MinMaxScaler.\n",
      "  % self.max_iter, ConvergenceWarning)\n",
      "/home/ubuntu/anaconda3/envs/tensorflow_p36/lib/python3.6/site-packages/sklearn/svm/base.py:218: ConvergenceWarning: Solver terminated early (max_iter=1000).  Consider pre-processing your data with StandardScaler or MinMaxScaler.\n",
      "  % self.max_iter, ConvergenceWarning)\n",
      "/home/ubuntu/anaconda3/envs/tensorflow_p36/lib/python3.6/site-packages/sklearn/svm/base.py:218: ConvergenceWarning: Solver terminated early (max_iter=1000).  Consider pre-processing your data with StandardScaler or MinMaxScaler.\n",
      "  % self.max_iter, ConvergenceWarning)\n"
     ]
    },
    {
     "name": "stdout",
     "output_type": "stream",
     "text": [
      "[CV]  C=0.01, gamma=0.01, max_iter=1000.0, score=0.7596353087443017, total=  38.2s\n",
      "[CV] C=0.01, gamma=0.1, max_iter=10.0 ................................\n"
     ]
    },
    {
     "name": "stderr",
     "output_type": "stream",
     "text": [
      "/home/ubuntu/anaconda3/envs/tensorflow_p36/lib/python3.6/site-packages/sklearn/svm/base.py:218: ConvergenceWarning: Solver terminated early (max_iter=10).  Consider pre-processing your data with StandardScaler or MinMaxScaler.\n",
      "  % self.max_iter, ConvergenceWarning)\n"
     ]
    },
    {
     "name": "stdout",
     "output_type": "stream",
     "text": [
      "[CV]  C=0.01, gamma=0.1, max_iter=10.0, score=0.6481558226274348, total=   0.6s\n",
      "[CV] C=0.01, gamma=0.1, max_iter=10.0 ................................\n",
      "[CV]  C=0.01, gamma=0.01, max_iter=1000.0, score=0.7603648424543947, total=  38.4s\n"
     ]
    },
    {
     "name": "stderr",
     "output_type": "stream",
     "text": [
      "[Parallel(n_jobs=-1)]: Done 130 tasks      | elapsed:  9.9min\n"
     ]
    },
    {
     "name": "stdout",
     "output_type": "stream",
     "text": [
      "[CV] C=0.01, gamma=0.1, max_iter=10.0 ................................\n",
      "[CV]  C=0.01, gamma=0.01, max_iter=1000.0, score=0.7772708419742845, total=  38.2s\n",
      "[CV] C=0.01, gamma=0.1, max_iter=10.0 ................................\n"
     ]
    },
    {
     "name": "stderr",
     "output_type": "stream",
     "text": [
      "/home/ubuntu/anaconda3/envs/tensorflow_p36/lib/python3.6/site-packages/sklearn/svm/base.py:218: ConvergenceWarning: Solver terminated early (max_iter=10).  Consider pre-processing your data with StandardScaler or MinMaxScaler.\n",
      "  % self.max_iter, ConvergenceWarning)\n"
     ]
    },
    {
     "name": "stdout",
     "output_type": "stream",
     "text": [
      "[CV]  C=0.01, gamma=0.1, max_iter=10.0, score=0.6169154228855721, total=   0.6s\n"
     ]
    },
    {
     "name": "stderr",
     "output_type": "stream",
     "text": [
      "/home/ubuntu/anaconda3/envs/tensorflow_p36/lib/python3.6/site-packages/sklearn/svm/base.py:218: ConvergenceWarning: Solver terminated early (max_iter=10).  Consider pre-processing your data with StandardScaler or MinMaxScaler.\n",
      "  % self.max_iter, ConvergenceWarning)\n"
     ]
    },
    {
     "name": "stdout",
     "output_type": "stream",
     "text": [
      "[CV] C=0.01, gamma=0.1, max_iter=100.0 ...............................\n",
      "[CV]  C=0.01, gamma=0.01, max_iter=1000.0, score=0.7938614682704273, total=  38.6s\n"
     ]
    },
    {
     "name": "stderr",
     "output_type": "stream",
     "text": [
      "/home/ubuntu/anaconda3/envs/tensorflow_p36/lib/python3.6/site-packages/sklearn/svm/base.py:218: ConvergenceWarning: Solver terminated early (max_iter=10).  Consider pre-processing your data with StandardScaler or MinMaxScaler.\n",
      "  % self.max_iter, ConvergenceWarning)\n"
     ]
    },
    {
     "name": "stdout",
     "output_type": "stream",
     "text": [
      "[CV] C=0.01, gamma=0.1, max_iter=100.0 ...............................\n",
      "[CV]  C=0.01, gamma=0.1, max_iter=10.0, score=0.557445043550394, total=   0.6s\n",
      "[CV] C=0.01, gamma=0.1, max_iter=100.0 ...............................\n",
      "[CV]  C=0.01, gamma=0.1, max_iter=10.0, score=0.6569888013272501, total=   0.5s\n",
      "[CV] C=0.01, gamma=0.1, max_iter=100.0 ...............................\n"
     ]
    },
    {
     "name": "stderr",
     "output_type": "stream",
     "text": [
      "/home/ubuntu/anaconda3/envs/tensorflow_p36/lib/python3.6/site-packages/sklearn/svm/base.py:218: ConvergenceWarning: Solver terminated early (max_iter=100).  Consider pre-processing your data with StandardScaler or MinMaxScaler.\n",
      "  % self.max_iter, ConvergenceWarning)\n",
      "/home/ubuntu/anaconda3/envs/tensorflow_p36/lib/python3.6/site-packages/sklearn/svm/base.py:218: ConvergenceWarning: Solver terminated early (max_iter=100).  Consider pre-processing your data with StandardScaler or MinMaxScaler.\n",
      "  % self.max_iter, ConvergenceWarning)\n",
      "/home/ubuntu/anaconda3/envs/tensorflow_p36/lib/python3.6/site-packages/sklearn/svm/base.py:218: ConvergenceWarning: Solver terminated early (max_iter=100).  Consider pre-processing your data with StandardScaler or MinMaxScaler.\n",
      "  % self.max_iter, ConvergenceWarning)\n",
      "/home/ubuntu/anaconda3/envs/tensorflow_p36/lib/python3.6/site-packages/sklearn/svm/base.py:218: ConvergenceWarning: Solver terminated early (max_iter=100).  Consider pre-processing your data with StandardScaler or MinMaxScaler.\n",
      "  % self.max_iter, ConvergenceWarning)\n"
     ]
    },
    {
     "name": "stdout",
     "output_type": "stream",
     "text": [
      "[CV]  C=0.01, gamma=0.1, max_iter=100.0, score=0.8002486531288852, total=   3.7s\n",
      "[CV] C=0.01, gamma=0.1, max_iter=1000.0 ..............................\n",
      "[CV]  C=0.01, gamma=0.1, max_iter=100.0, score=0.6994195688225538, total=   3.7s\n",
      "[CV]  C=0.01, gamma=0.1, max_iter=100.0, score=0.6789713811696392, total=   3.7s\n",
      "[CV] C=0.01, gamma=0.1, max_iter=1000.0 ..............................\n",
      "[CV] C=0.01, gamma=0.1, max_iter=1000.0 ..............................\n",
      "[CV]  C=0.01, gamma=0.1, max_iter=100.0, score=0.671505599336375, total=   3.6s\n",
      "[CV] C=0.01, gamma=0.1, max_iter=1000.0 ..............................\n"
     ]
    },
    {
     "name": "stderr",
     "output_type": "stream",
     "text": [
      "/home/ubuntu/anaconda3/envs/tensorflow_p36/lib/python3.6/site-packages/sklearn/svm/base.py:218: ConvergenceWarning: Solver terminated early (max_iter=1000).  Consider pre-processing your data with StandardScaler or MinMaxScaler.\n",
      "  % self.max_iter, ConvergenceWarning)\n",
      "/home/ubuntu/anaconda3/envs/tensorflow_p36/lib/python3.6/site-packages/sklearn/svm/base.py:218: ConvergenceWarning: Solver terminated early (max_iter=1000).  Consider pre-processing your data with StandardScaler or MinMaxScaler.\n",
      "  % self.max_iter, ConvergenceWarning)\n",
      "/home/ubuntu/anaconda3/envs/tensorflow_p36/lib/python3.6/site-packages/sklearn/svm/base.py:218: ConvergenceWarning: Solver terminated early (max_iter=1000).  Consider pre-processing your data with StandardScaler or MinMaxScaler.\n",
      "  % self.max_iter, ConvergenceWarning)\n",
      "/home/ubuntu/anaconda3/envs/tensorflow_p36/lib/python3.6/site-packages/sklearn/svm/base.py:218: ConvergenceWarning: Solver terminated early (max_iter=1000).  Consider pre-processing your data with StandardScaler or MinMaxScaler.\n",
      "  % self.max_iter, ConvergenceWarning)\n"
     ]
    },
    {
     "name": "stdout",
     "output_type": "stream",
     "text": [
      "[CV]  C=0.01, gamma=0.1, max_iter=1000.0, score=0.9419568822553898, total=  38.6s\n",
      "[CV] C=0.01, gamma=0.1, max_iter=10000.0 .............................\n",
      "[CV]  C=0.01, gamma=0.1, max_iter=1000.0, score=0.959767731231854, total=  38.9s\n",
      "[CV] C=0.01, gamma=0.1, max_iter=10000.0 .............................\n",
      "[CV]  C=0.01, gamma=0.1, max_iter=1000.0, score=0.9605972625466611, total=  38.8s\n",
      "[CV] C=0.01, gamma=0.1, max_iter=10000.0 .............................\n",
      "[CV]  C=0.01, gamma=0.1, max_iter=1000.0, score=0.9552424368006631, total=  38.9s\n",
      "[CV] C=0.01, gamma=0.1, max_iter=10000.0 .............................\n",
      "[CV]  C=0.01, gamma=0.0001, max_iter=10000.0, score=0.5047658516369664, total= 2.4min\n",
      "[CV] C=0.01, gamma=1.0, max_iter=10.0 ................................\n"
     ]
    },
    {
     "name": "stderr",
     "output_type": "stream",
     "text": [
      "/home/ubuntu/anaconda3/envs/tensorflow_p36/lib/python3.6/site-packages/sklearn/svm/base.py:218: ConvergenceWarning: Solver terminated early (max_iter=10).  Consider pre-processing your data with StandardScaler or MinMaxScaler.\n",
      "  % self.max_iter, ConvergenceWarning)\n"
     ]
    },
    {
     "name": "stdout",
     "output_type": "stream",
     "text": [
      "[CV]  C=0.01, gamma=1.0, max_iter=10.0, score=0.5060091172813924, total=   0.5s\n",
      "[CV] C=0.01, gamma=1.0, max_iter=10.0 ................................\n"
     ]
    },
    {
     "name": "stderr",
     "output_type": "stream",
     "text": [
      "/home/ubuntu/anaconda3/envs/tensorflow_p36/lib/python3.6/site-packages/sklearn/svm/base.py:218: ConvergenceWarning: Solver terminated early (max_iter=10).  Consider pre-processing your data with StandardScaler or MinMaxScaler.\n",
      "  % self.max_iter, ConvergenceWarning)\n"
     ]
    },
    {
     "name": "stdout",
     "output_type": "stream",
     "text": [
      "[CV]  C=0.01, gamma=0.0001, max_iter=10000.0, score=0.5049751243781094, total= 2.4min\n",
      "[CV] C=0.01, gamma=1.0, max_iter=10.0 ................................\n",
      "[CV]  C=0.01, gamma=1.0, max_iter=10.0, score=0.5049751243781094, total=   0.6s\n",
      "[CV] C=0.01, gamma=1.0, max_iter=10.0 ................................\n"
     ]
    },
    {
     "name": "stderr",
     "output_type": "stream",
     "text": [
      "/home/ubuntu/anaconda3/envs/tensorflow_p36/lib/python3.6/site-packages/sklearn/svm/base.py:218: ConvergenceWarning: Solver terminated early (max_iter=10).  Consider pre-processing your data with StandardScaler or MinMaxScaler.\n",
      "  % self.max_iter, ConvergenceWarning)\n",
      "/home/ubuntu/anaconda3/envs/tensorflow_p36/lib/python3.6/site-packages/sklearn/svm/base.py:218: ConvergenceWarning: Solver terminated early (max_iter=10).  Consider pre-processing your data with StandardScaler or MinMaxScaler.\n",
      "  % self.max_iter, ConvergenceWarning)\n"
     ]
    },
    {
     "name": "stdout",
     "output_type": "stream",
     "text": [
      "[CV]  C=0.01, gamma=1.0, max_iter=10.0, score=0.5002073828287018, total=   0.5s\n",
      "[CV] C=0.01, gamma=1.0, max_iter=100.0 ...............................\n",
      "[CV]  C=0.01, gamma=1.0, max_iter=10.0, score=0.5089174616341767, total=   0.5s\n"
     ]
    },
    {
     "name": "stderr",
     "output_type": "stream",
     "text": [
      "[Parallel(n_jobs=-1)]: Done 149 tasks      | elapsed: 11.4min\n"
     ]
    },
    {
     "name": "stdout",
     "output_type": "stream",
     "text": [
      "[CV] C=0.01, gamma=1.0, max_iter=100.0 ...............................\n",
      "[CV]  C=0.01, gamma=0.0001, max_iter=10000.0, score=0.504769805060141, total= 2.4min\n",
      "[CV] C=0.01, gamma=1.0, max_iter=100.0 ...............................\n",
      "[CV]  C=0.01, gamma=0.0001, max_iter=10000.0, score=0.504769805060141, total= 2.4min\n",
      "[CV] C=0.01, gamma=1.0, max_iter=100.0 ...............................\n"
     ]
    },
    {
     "name": "stderr",
     "output_type": "stream",
     "text": [
      "/home/ubuntu/anaconda3/envs/tensorflow_p36/lib/python3.6/site-packages/sklearn/svm/base.py:218: ConvergenceWarning: Solver terminated early (max_iter=100).  Consider pre-processing your data with StandardScaler or MinMaxScaler.\n",
      "  % self.max_iter, ConvergenceWarning)\n",
      "/home/ubuntu/anaconda3/envs/tensorflow_p36/lib/python3.6/site-packages/sklearn/svm/base.py:218: ConvergenceWarning: Solver terminated early (max_iter=100).  Consider pre-processing your data with StandardScaler or MinMaxScaler.\n",
      "  % self.max_iter, ConvergenceWarning)\n",
      "/home/ubuntu/anaconda3/envs/tensorflow_p36/lib/python3.6/site-packages/sklearn/svm/base.py:218: ConvergenceWarning: Solver terminated early (max_iter=100).  Consider pre-processing your data with StandardScaler or MinMaxScaler.\n",
      "  % self.max_iter, ConvergenceWarning)\n",
      "/home/ubuntu/anaconda3/envs/tensorflow_p36/lib/python3.6/site-packages/sklearn/svm/base.py:218: ConvergenceWarning: Solver terminated early (max_iter=100).  Consider pre-processing your data with StandardScaler or MinMaxScaler.\n",
      "  % self.max_iter, ConvergenceWarning)\n"
     ]
    },
    {
     "name": "stdout",
     "output_type": "stream",
     "text": [
      "[CV]  C=0.01, gamma=1.0, max_iter=100.0, score=0.5698300870285951, total=   3.8s\n",
      "[CV] C=0.01, gamma=1.0, max_iter=1000.0 ..............................\n",
      "[CV]  C=0.01, gamma=1.0, max_iter=100.0, score=0.5518242122719734, total=   3.7s\n",
      "[CV] C=0.01, gamma=1.0, max_iter=1000.0 ..............................\n",
      "[CV]  C=0.01, gamma=1.0, max_iter=100.0, score=0.5802571547075902, total=   3.7s\n",
      "[CV] C=0.01, gamma=1.0, max_iter=1000.0 ..............................\n",
      "[CV]  C=0.01, gamma=1.0, max_iter=100.0, score=0.5620074657818332, total=   3.4s\n",
      "[CV] C=0.01, gamma=1.0, max_iter=1000.0 ..............................\n",
      "[CV]  C=0.01, gamma=0.001, max_iter=10000.0, score=0.5192706174886034, total= 2.4min\n",
      "[CV] C=0.01, gamma=1.0, max_iter=10000.0 .............................\n",
      "[CV]  C=0.01, gamma=0.001, max_iter=10000.0, score=0.5184570717544588, total= 2.4min\n",
      "[CV] C=0.01, gamma=1.0, max_iter=10000.0 .............................\n"
     ]
    },
    {
     "name": "stderr",
     "output_type": "stream",
     "text": [
      "/home/ubuntu/anaconda3/envs/tensorflow_p36/lib/python3.6/site-packages/sklearn/svm/base.py:218: ConvergenceWarning: Solver terminated early (max_iter=1000).  Consider pre-processing your data with StandardScaler or MinMaxScaler.\n",
      "  % self.max_iter, ConvergenceWarning)\n"
     ]
    },
    {
     "name": "stdout",
     "output_type": "stream",
     "text": [
      "[CV]  C=0.01, gamma=0.001, max_iter=10000.0, score=0.5118208212360017, total= 2.4min\n",
      "[CV] C=0.01, gamma=1.0, max_iter=10000.0 .............................\n"
     ]
    },
    {
     "name": "stderr",
     "output_type": "stream",
     "text": [
      "/home/ubuntu/anaconda3/envs/tensorflow_p36/lib/python3.6/site-packages/sklearn/svm/base.py:218: ConvergenceWarning: Solver terminated early (max_iter=1000).  Consider pre-processing your data with StandardScaler or MinMaxScaler.\n",
      "  % self.max_iter, ConvergenceWarning)\n",
      "/home/ubuntu/anaconda3/envs/tensorflow_p36/lib/python3.6/site-packages/sklearn/svm/base.py:218: ConvergenceWarning: Solver terminated early (max_iter=1000).  Consider pre-processing your data with StandardScaler or MinMaxScaler.\n",
      "  % self.max_iter, ConvergenceWarning)\n"
     ]
    },
    {
     "name": "stdout",
     "output_type": "stream",
     "text": [
      "[CV]  C=0.01, gamma=0.001, max_iter=10000.0, score=0.5323383084577115, total= 2.4min\n",
      "[CV] C=0.01, gamma=1.0, max_iter=10000.0 .............................\n"
     ]
    },
    {
     "name": "stderr",
     "output_type": "stream",
     "text": [
      "/home/ubuntu/anaconda3/envs/tensorflow_p36/lib/python3.6/site-packages/sklearn/svm/base.py:218: ConvergenceWarning: Solver terminated early (max_iter=1000).  Consider pre-processing your data with StandardScaler or MinMaxScaler.\n",
      "  % self.max_iter, ConvergenceWarning)\n"
     ]
    },
    {
     "name": "stdout",
     "output_type": "stream",
     "text": [
      "[CV]  C=0.01, gamma=0.01, max_iter=10000.0, score=0.9287194363862412, total= 2.0min\n",
      "[CV] C=0.01, gamma=10.0, max_iter=10.0 ...............................\n",
      "[CV]  C=0.01, gamma=0.01, max_iter=10000.0, score=0.9332504145936982, total= 1.9min\n",
      "[CV] C=0.01, gamma=10.0, max_iter=10.0 ...............................\n"
     ]
    },
    {
     "name": "stderr",
     "output_type": "stream",
     "text": [
      "/home/ubuntu/anaconda3/envs/tensorflow_p36/lib/python3.6/site-packages/sklearn/svm/base.py:218: ConvergenceWarning: Solver terminated early (max_iter=10).  Consider pre-processing your data with StandardScaler or MinMaxScaler.\n",
      "  % self.max_iter, ConvergenceWarning)\n",
      "/home/ubuntu/anaconda3/envs/tensorflow_p36/lib/python3.6/site-packages/sklearn/svm/base.py:218: ConvergenceWarning: Solver terminated early (max_iter=10).  Consider pre-processing your data with StandardScaler or MinMaxScaler.\n",
      "  % self.max_iter, ConvergenceWarning)\n"
     ]
    },
    {
     "name": "stdout",
     "output_type": "stream",
     "text": [
      "[CV]  C=0.01, gamma=10.0, max_iter=10.0, score=0.692084542063821, total=   0.5s\n",
      "[CV] C=0.01, gamma=10.0, max_iter=10.0 ...............................\n",
      "[CV]  C=0.01, gamma=10.0, max_iter=10.0, score=0.6820066334991708, total=   0.5s\n",
      "[CV] C=0.01, gamma=10.0, max_iter=10.0 ...............................\n",
      "[CV]  C=0.01, gamma=0.01, max_iter=10000.0, score=0.9253421816673579, total= 2.0min\n"
     ]
    },
    {
     "name": "stderr",
     "output_type": "stream",
     "text": [
      "/home/ubuntu/anaconda3/envs/tensorflow_p36/lib/python3.6/site-packages/sklearn/svm/base.py:218: ConvergenceWarning: Solver terminated early (max_iter=10).  Consider pre-processing your data with StandardScaler or MinMaxScaler.\n",
      "  % self.max_iter, ConvergenceWarning)\n"
     ]
    },
    {
     "name": "stdout",
     "output_type": "stream",
     "text": [
      "[CV] C=0.01, gamma=10.0, max_iter=100.0 ..............................\n"
     ]
    },
    {
     "name": "stderr",
     "output_type": "stream",
     "text": [
      "/home/ubuntu/anaconda3/envs/tensorflow_p36/lib/python3.6/site-packages/sklearn/svm/base.py:218: ConvergenceWarning: Solver terminated early (max_iter=10).  Consider pre-processing your data with StandardScaler or MinMaxScaler.\n",
      "  % self.max_iter, ConvergenceWarning)\n"
     ]
    },
    {
     "name": "stdout",
     "output_type": "stream",
     "text": [
      "[CV]  C=0.01, gamma=10.0, max_iter=10.0, score=0.6901700539195355, total=   0.6s\n",
      "[CV] C=0.01, gamma=10.0, max_iter=100.0 ..............................\n",
      "[CV]  C=0.01, gamma=10.0, max_iter=10.0, score=0.702198257984239, total=   0.6s\n",
      "[CV] C=0.01, gamma=10.0, max_iter=100.0 ..............................\n"
     ]
    },
    {
     "name": "stderr",
     "output_type": "stream",
     "text": [
      "/home/ubuntu/anaconda3/envs/tensorflow_p36/lib/python3.6/site-packages/sklearn/svm/base.py:218: ConvergenceWarning: Solver terminated early (max_iter=100).  Consider pre-processing your data with StandardScaler or MinMaxScaler.\n",
      "  % self.max_iter, ConvergenceWarning)\n",
      "/home/ubuntu/anaconda3/envs/tensorflow_p36/lib/python3.6/site-packages/sklearn/svm/base.py:218: ConvergenceWarning: Solver terminated early (max_iter=100).  Consider pre-processing your data with StandardScaler or MinMaxScaler.\n",
      "  % self.max_iter, ConvergenceWarning)\n"
     ]
    },
    {
     "name": "stdout",
     "output_type": "stream",
     "text": [
      "[CV]  C=0.01, gamma=0.01, max_iter=10000.0, score=0.9431771049357113, total= 2.0min\n",
      "[CV] C=0.01, gamma=10.0, max_iter=100.0 ..............................\n"
     ]
    },
    {
     "name": "stderr",
     "output_type": "stream",
     "text": [
      "/home/ubuntu/anaconda3/envs/tensorflow_p36/lib/python3.6/site-packages/sklearn/svm/base.py:218: ConvergenceWarning: Solver terminated early (max_iter=100).  Consider pre-processing your data with StandardScaler or MinMaxScaler.\n",
      "  % self.max_iter, ConvergenceWarning)\n",
      "[Parallel(n_jobs=-1)]: Done 168 tasks      | elapsed: 12.6min\n"
     ]
    },
    {
     "name": "stdout",
     "output_type": "stream",
     "text": [
      "[CV]  C=0.01, gamma=10.0, max_iter=100.0, score=0.9067550766680481, total=   3.7s\n",
      "[CV] C=0.01, gamma=10.0, max_iter=1000.0 .............................\n",
      "[CV]  C=0.01, gamma=10.0, max_iter=100.0, score=0.9025704809286899, total=   3.7s\n",
      "[CV] C=0.01, gamma=10.0, max_iter=1000.0 .............................\n",
      "[CV]  C=0.01, gamma=10.0, max_iter=100.0, score=0.8934052260472832, total=   3.7s\n",
      "[CV] C=0.01, gamma=10.0, max_iter=1000.0 .............................\n"
     ]
    },
    {
     "name": "stderr",
     "output_type": "stream",
     "text": [
      "/home/ubuntu/anaconda3/envs/tensorflow_p36/lib/python3.6/site-packages/sklearn/svm/base.py:218: ConvergenceWarning: Solver terminated early (max_iter=100).  Consider pre-processing your data with StandardScaler or MinMaxScaler.\n",
      "  % self.max_iter, ConvergenceWarning)\n"
     ]
    },
    {
     "name": "stdout",
     "output_type": "stream",
     "text": [
      "[CV]  C=0.01, gamma=1.0, max_iter=1000.0, score=0.8951512639867385, total=  39.3s\n",
      "[CV] C=0.01, gamma=10.0, max_iter=1000.0 .............................\n",
      "[CV]  C=0.01, gamma=1.0, max_iter=1000.0, score=0.9116915422885572, total=  39.2s\n",
      "[CV] C=0.01, gamma=10.0, max_iter=10000.0 ............................\n",
      "[CV]  C=0.01, gamma=1.0, max_iter=1000.0, score=0.8996267109083368, total=  39.3s\n",
      "[CV] C=0.01, gamma=10.0, max_iter=10000.0 ............................\n",
      "[CV]  C=0.01, gamma=1.0, max_iter=1000.0, score=0.9029448361675654, total=  39.5s\n",
      "[CV] C=0.01, gamma=10.0, max_iter=10000.0 ............................\n",
      "[CV]  C=0.01, gamma=10.0, max_iter=100.0, score=0.8975528826213189, total=   3.2s\n",
      "[CV] C=0.01, gamma=10.0, max_iter=10000.0 ............................\n"
     ]
    },
    {
     "name": "stderr",
     "output_type": "stream",
     "text": [
      "/home/ubuntu/anaconda3/envs/tensorflow_p36/lib/python3.6/site-packages/sklearn/svm/base.py:218: ConvergenceWarning: Solver terminated early (max_iter=1000).  Consider pre-processing your data with StandardScaler or MinMaxScaler.\n",
      "  % self.max_iter, ConvergenceWarning)\n",
      "/home/ubuntu/anaconda3/envs/tensorflow_p36/lib/python3.6/site-packages/sklearn/svm/base.py:218: ConvergenceWarning: Solver terminated early (max_iter=1000).  Consider pre-processing your data with StandardScaler or MinMaxScaler.\n",
      "  % self.max_iter, ConvergenceWarning)\n",
      "/home/ubuntu/anaconda3/envs/tensorflow_p36/lib/python3.6/site-packages/sklearn/svm/base.py:218: ConvergenceWarning: Solver terminated early (max_iter=1000).  Consider pre-processing your data with StandardScaler or MinMaxScaler.\n",
      "  % self.max_iter, ConvergenceWarning)\n",
      "/home/ubuntu/anaconda3/envs/tensorflow_p36/lib/python3.6/site-packages/sklearn/svm/base.py:218: ConvergenceWarning: Solver terminated early (max_iter=1000).  Consider pre-processing your data with StandardScaler or MinMaxScaler.\n",
      "  % self.max_iter, ConvergenceWarning)\n"
     ]
    },
    {
     "name": "stdout",
     "output_type": "stream",
     "text": [
      "[CV]  C=0.01, gamma=10.0, max_iter=1000.0, score=0.9593866556154165, total=  38.7s\n",
      "[CV] C=0.1, gamma=0.0001, max_iter=10.0 ..............................\n",
      "[CV]  C=0.01, gamma=10.0, max_iter=1000.0, score=0.9614427860696517, total=  38.8s\n",
      "[CV] C=0.1, gamma=0.0001, max_iter=10.0 ..............................\n"
     ]
    },
    {
     "name": "stderr",
     "output_type": "stream",
     "text": [
      "/home/ubuntu/anaconda3/envs/tensorflow_p36/lib/python3.6/site-packages/sklearn/svm/base.py:218: ConvergenceWarning: Solver terminated early (max_iter=10).  Consider pre-processing your data with StandardScaler or MinMaxScaler.\n",
      "  % self.max_iter, ConvergenceWarning)\n"
     ]
    },
    {
     "name": "stdout",
     "output_type": "stream",
     "text": [
      "[CV]  C=0.1, gamma=0.0001, max_iter=10.0, score=0.7513468711147948, total=   0.6s\n",
      "[CV] C=0.1, gamma=0.0001, max_iter=10.0 ..............................\n"
     ]
    },
    {
     "name": "stderr",
     "output_type": "stream",
     "text": [
      "/home/ubuntu/anaconda3/envs/tensorflow_p36/lib/python3.6/site-packages/sklearn/svm/base.py:218: ConvergenceWarning: Solver terminated early (max_iter=10).  Consider pre-processing your data with StandardScaler or MinMaxScaler.\n",
      "  % self.max_iter, ConvergenceWarning)\n"
     ]
    },
    {
     "name": "stdout",
     "output_type": "stream",
     "text": [
      "[CV]  C=0.1, gamma=0.0001, max_iter=10.0, score=0.7408789386401327, total=   0.5s\n",
      "[CV] C=0.1, gamma=0.0001, max_iter=10.0 ..............................\n",
      "[CV]  C=0.01, gamma=10.0, max_iter=1000.0, score=0.9610120282040647, total=  39.1s\n"
     ]
    },
    {
     "name": "stderr",
     "output_type": "stream",
     "text": [
      "/home/ubuntu/anaconda3/envs/tensorflow_p36/lib/python3.6/site-packages/sklearn/svm/base.py:218: ConvergenceWarning: Solver terminated early (max_iter=10).  Consider pre-processing your data with StandardScaler or MinMaxScaler.\n",
      "  % self.max_iter, ConvergenceWarning)\n"
     ]
    },
    {
     "name": "stdout",
     "output_type": "stream",
     "text": [
      "[CV] C=0.1, gamma=0.0001, max_iter=100.0 .............................\n",
      "[CV]  C=0.01, gamma=10.0, max_iter=1000.0, score=0.972210700953961, total=  38.9s\n",
      "[CV] C=0.1, gamma=0.0001, max_iter=100.0 .............................\n",
      "[CV]  C=0.1, gamma=0.0001, max_iter=10.0, score=0.7652426379095811, total=   0.5s\n",
      "[CV] C=0.1, gamma=0.0001, max_iter=100.0 .............................\n"
     ]
    },
    {
     "name": "stderr",
     "output_type": "stream",
     "text": [
      "/home/ubuntu/anaconda3/envs/tensorflow_p36/lib/python3.6/site-packages/sklearn/svm/base.py:218: ConvergenceWarning: Solver terminated early (max_iter=10).  Consider pre-processing your data with StandardScaler or MinMaxScaler.\n",
      "  % self.max_iter, ConvergenceWarning)\n"
     ]
    },
    {
     "name": "stdout",
     "output_type": "stream",
     "text": [
      "[CV]  C=0.1, gamma=0.0001, max_iter=10.0, score=0.7552882621318955, total=   0.6s\n",
      "[CV] C=0.1, gamma=0.0001, max_iter=100.0 .............................\n"
     ]
    },
    {
     "name": "stderr",
     "output_type": "stream",
     "text": [
      "/home/ubuntu/anaconda3/envs/tensorflow_p36/lib/python3.6/site-packages/sklearn/svm/base.py:218: ConvergenceWarning: Solver terminated early (max_iter=100).  Consider pre-processing your data with StandardScaler or MinMaxScaler.\n",
      "  % self.max_iter, ConvergenceWarning)\n",
      "/home/ubuntu/anaconda3/envs/tensorflow_p36/lib/python3.6/site-packages/sklearn/svm/base.py:218: ConvergenceWarning: Solver terminated early (max_iter=100).  Consider pre-processing your data with StandardScaler or MinMaxScaler.\n",
      "  % self.max_iter, ConvergenceWarning)\n",
      "/home/ubuntu/anaconda3/envs/tensorflow_p36/lib/python3.6/site-packages/sklearn/svm/base.py:218: ConvergenceWarning: Solver terminated early (max_iter=100).  Consider pre-processing your data with StandardScaler or MinMaxScaler.\n",
      "  % self.max_iter, ConvergenceWarning)\n",
      "/home/ubuntu/anaconda3/envs/tensorflow_p36/lib/python3.6/site-packages/sklearn/svm/base.py:218: ConvergenceWarning: Solver terminated early (max_iter=100).  Consider pre-processing your data with StandardScaler or MinMaxScaler.\n",
      "  % self.max_iter, ConvergenceWarning)\n"
     ]
    },
    {
     "name": "stdout",
     "output_type": "stream",
     "text": [
      "[CV]  C=0.1, gamma=0.0001, max_iter=100.0, score=0.7364276833816825, total=   3.7s\n",
      "[CV] C=0.1, gamma=0.0001, max_iter=1000.0 ............................\n",
      "[CV]  C=0.1, gamma=0.0001, max_iter=100.0, score=0.6936152570480929, total=   3.6s\n",
      "[CV]  C=0.1, gamma=0.0001, max_iter=100.0, score=0.7192036499377852, total=   3.7s\n",
      "[CV] C=0.1, gamma=0.0001, max_iter=1000.0 ............................\n",
      "[CV] C=0.1, gamma=0.0001, max_iter=1000.0 ............................\n",
      "[CV]  C=0.1, gamma=0.0001, max_iter=100.0, score=0.7216922438822065, total=   3.6s\n",
      "[CV] C=0.1, gamma=0.0001, max_iter=1000.0 ............................\n"
     ]
    },
    {
     "name": "stderr",
     "output_type": "stream",
     "text": [
      "/home/ubuntu/anaconda3/envs/tensorflow_p36/lib/python3.6/site-packages/sklearn/svm/base.py:218: ConvergenceWarning: Solver terminated early (max_iter=1000).  Consider pre-processing your data with StandardScaler or MinMaxScaler.\n",
      "  % self.max_iter, ConvergenceWarning)\n",
      "/home/ubuntu/anaconda3/envs/tensorflow_p36/lib/python3.6/site-packages/sklearn/svm/base.py:218: ConvergenceWarning: Solver terminated early (max_iter=1000).  Consider pre-processing your data with StandardScaler or MinMaxScaler.\n",
      "  % self.max_iter, ConvergenceWarning)\n",
      "/home/ubuntu/anaconda3/envs/tensorflow_p36/lib/python3.6/site-packages/sklearn/svm/base.py:218: ConvergenceWarning: Solver terminated early (max_iter=1000).  Consider pre-processing your data with StandardScaler or MinMaxScaler.\n",
      "  % self.max_iter, ConvergenceWarning)\n",
      "/home/ubuntu/anaconda3/envs/tensorflow_p36/lib/python3.6/site-packages/sklearn/svm/base.py:218: ConvergenceWarning: Solver terminated early (max_iter=1000).  Consider pre-processing your data with StandardScaler or MinMaxScaler.\n",
      "  % self.max_iter, ConvergenceWarning)\n"
     ]
    },
    {
     "name": "stdout",
     "output_type": "stream",
     "text": [
      "[CV]  C=0.1, gamma=0.0001, max_iter=1000.0, score=0.6692913385826772, total=  38.3s\n",
      "[CV] C=0.1, gamma=0.0001, max_iter=10000.0 ...........................\n"
     ]
    },
    {
     "name": "stderr",
     "output_type": "stream",
     "text": [
      "[Parallel(n_jobs=-1)]: Done 189 tasks      | elapsed: 14.9min\n"
     ]
    },
    {
     "name": "stdout",
     "output_type": "stream",
     "text": [
      "[CV]  C=0.1, gamma=0.0001, max_iter=1000.0, score=0.6163417669017005, total=  38.2s\n",
      "[CV] C=0.1, gamma=0.0001, max_iter=10000.0 ...........................\n",
      "[CV]  C=0.1, gamma=0.0001, max_iter=1000.0, score=0.6231343283582089, total=  38.8s\n",
      "[CV] C=0.1, gamma=0.0001, max_iter=10000.0 ...........................\n",
      "[CV]  C=0.1, gamma=0.0001, max_iter=1000.0, score=0.6433015346329324, total=  38.7s\n",
      "[CV] C=0.1, gamma=0.0001, max_iter=10000.0 ...........................\n",
      "[CV]  C=0.01, gamma=0.1, max_iter=10000.0, score=0.504769805060141, total= 2.3min\n",
      "[CV] C=0.1, gamma=0.001, max_iter=10.0 ...............................\n",
      "[CV]  C=0.01, gamma=0.1, max_iter=10000.0, score=0.5049751243781094, total= 2.3min\n",
      "[CV] C=0.1, gamma=0.001, max_iter=10.0 ...............................\n"
     ]
    },
    {
     "name": "stderr",
     "output_type": "stream",
     "text": [
      "/home/ubuntu/anaconda3/envs/tensorflow_p36/lib/python3.6/site-packages/sklearn/svm/base.py:218: ConvergenceWarning: Solver terminated early (max_iter=10).  Consider pre-processing your data with StandardScaler or MinMaxScaler.\n",
      "  % self.max_iter, ConvergenceWarning)\n"
     ]
    },
    {
     "name": "stdout",
     "output_type": "stream",
     "text": [
      "[CV]  C=0.1, gamma=0.001, max_iter=10.0, score=0.7472026523000415, total=   0.5s\n"
     ]
    },
    {
     "name": "stderr",
     "output_type": "stream",
     "text": [
      "/home/ubuntu/anaconda3/envs/tensorflow_p36/lib/python3.6/site-packages/sklearn/svm/base.py:218: ConvergenceWarning: Solver terminated early (max_iter=10).  Consider pre-processing your data with StandardScaler or MinMaxScaler.\n",
      "  % self.max_iter, ConvergenceWarning)\n"
     ]
    },
    {
     "name": "stdout",
     "output_type": "stream",
     "text": [
      "[CV] C=0.1, gamma=0.001, max_iter=10.0 ...............................\n",
      "[CV]  C=0.1, gamma=0.001, max_iter=10.0, score=0.7408789386401327, total=   0.5s\n",
      "[CV] C=0.1, gamma=0.001, max_iter=10.0 ...............................\n",
      "[CV]  C=0.01, gamma=0.1, max_iter=10000.0, score=0.5047658516369664, total= 2.4min\n",
      "[CV] C=0.1, gamma=0.001, max_iter=100.0 ..............................\n"
     ]
    },
    {
     "name": "stderr",
     "output_type": "stream",
     "text": [
      "/home/ubuntu/anaconda3/envs/tensorflow_p36/lib/python3.6/site-packages/sklearn/svm/base.py:218: ConvergenceWarning: Solver terminated early (max_iter=10).  Consider pre-processing your data with StandardScaler or MinMaxScaler.\n",
      "  % self.max_iter, ConvergenceWarning)\n",
      "/home/ubuntu/anaconda3/envs/tensorflow_p36/lib/python3.6/site-packages/sklearn/svm/base.py:218: ConvergenceWarning: Solver terminated early (max_iter=10).  Consider pre-processing your data with StandardScaler or MinMaxScaler.\n",
      "  % self.max_iter, ConvergenceWarning)\n"
     ]
    },
    {
     "name": "stdout",
     "output_type": "stream",
     "text": [
      "[CV]  C=0.1, gamma=0.001, max_iter=10.0, score=0.7822480298631274, total=   0.6s\n",
      "[CV] C=0.1, gamma=0.001, max_iter=100.0 ..............................\n",
      "[CV]  C=0.1, gamma=0.001, max_iter=10.0, score=0.7681459975114061, total=   0.5s\n",
      "[CV] C=0.1, gamma=0.001, max_iter=100.0 ..............................\n"
     ]
    },
    {
     "name": "stderr",
     "output_type": "stream",
     "text": [
      "/home/ubuntu/anaconda3/envs/tensorflow_p36/lib/python3.6/site-packages/sklearn/svm/base.py:218: ConvergenceWarning: Solver terminated early (max_iter=100).  Consider pre-processing your data with StandardScaler or MinMaxScaler.\n",
      "  % self.max_iter, ConvergenceWarning)\n",
      "/home/ubuntu/anaconda3/envs/tensorflow_p36/lib/python3.6/site-packages/sklearn/svm/base.py:218: ConvergenceWarning: Solver terminated early (max_iter=100).  Consider pre-processing your data with StandardScaler or MinMaxScaler.\n",
      "  % self.max_iter, ConvergenceWarning)\n",
      "/home/ubuntu/anaconda3/envs/tensorflow_p36/lib/python3.6/site-packages/sklearn/svm/base.py:218: ConvergenceWarning: Solver terminated early (max_iter=100).  Consider pre-processing your data with StandardScaler or MinMaxScaler.\n",
      "  % self.max_iter, ConvergenceWarning)\n"
     ]
    },
    {
     "name": "stdout",
     "output_type": "stream",
     "text": [
      "[CV]  C=0.01, gamma=0.1, max_iter=10000.0, score=0.504769805060141, total= 2.4min\n",
      "[CV] C=0.1, gamma=0.001, max_iter=100.0 ..............................\n",
      "[CV]  C=0.1, gamma=0.001, max_iter=100.0, score=0.729796933278077, total=   3.6s\n",
      "[CV] C=0.1, gamma=0.001, max_iter=1000.0 .............................\n",
      "[CV]  C=0.1, gamma=0.001, max_iter=100.0, score=0.693200663349917, total=   3.7s\n",
      "[CV] C=0.1, gamma=0.001, max_iter=1000.0 .............................\n",
      "[CV]  C=0.1, gamma=0.001, max_iter=100.0, score=0.7416009954375777, total=   3.6s\n",
      "[CV] C=0.1, gamma=0.001, max_iter=1000.0 .............................\n"
     ]
    },
    {
     "name": "stderr",
     "output_type": "stream",
     "text": [
      "/home/ubuntu/anaconda3/envs/tensorflow_p36/lib/python3.6/site-packages/sklearn/svm/base.py:218: ConvergenceWarning: Solver terminated early (max_iter=100).  Consider pre-processing your data with StandardScaler or MinMaxScaler.\n",
      "  % self.max_iter, ConvergenceWarning)\n"
     ]
    },
    {
     "name": "stdout",
     "output_type": "stream",
     "text": [
      "[CV]  C=0.1, gamma=0.001, max_iter=100.0, score=0.7353795105765243, total=   3.8s\n",
      "[CV] C=0.1, gamma=0.001, max_iter=1000.0 .............................\n"
     ]
    },
    {
     "name": "stderr",
     "output_type": "stream",
     "text": [
      "/home/ubuntu/anaconda3/envs/tensorflow_p36/lib/python3.6/site-packages/sklearn/svm/base.py:218: ConvergenceWarning: Solver terminated early (max_iter=1000).  Consider pre-processing your data with StandardScaler or MinMaxScaler.\n",
      "  % self.max_iter, ConvergenceWarning)\n",
      "/home/ubuntu/anaconda3/envs/tensorflow_p36/lib/python3.6/site-packages/sklearn/svm/base.py:218: ConvergenceWarning: Solver terminated early (max_iter=1000).  Consider pre-processing your data with StandardScaler or MinMaxScaler.\n",
      "  % self.max_iter, ConvergenceWarning)\n",
      "/home/ubuntu/anaconda3/envs/tensorflow_p36/lib/python3.6/site-packages/sklearn/svm/base.py:218: ConvergenceWarning: Solver terminated early (max_iter=1000).  Consider pre-processing your data with StandardScaler or MinMaxScaler.\n",
      "  % self.max_iter, ConvergenceWarning)\n",
      "/home/ubuntu/anaconda3/envs/tensorflow_p36/lib/python3.6/site-packages/sklearn/svm/base.py:218: ConvergenceWarning: Solver terminated early (max_iter=1000).  Consider pre-processing your data with StandardScaler or MinMaxScaler.\n",
      "  % self.max_iter, ConvergenceWarning)\n"
     ]
    },
    {
     "name": "stdout",
     "output_type": "stream",
     "text": [
      "[CV]  C=0.01, gamma=1.0, max_iter=10000.0, score=0.5047658516369664, total= 2.4min\n",
      "[CV] C=0.1, gamma=0.001, max_iter=10000.0 ............................\n",
      "[CV]  C=0.01, gamma=1.0, max_iter=10000.0, score=0.5049751243781094, total= 2.4min\n",
      "[CV] C=0.1, gamma=0.001, max_iter=10000.0 ............................\n",
      "[CV]  C=0.01, gamma=1.0, max_iter=10000.0, score=0.504769805060141, total= 2.4min\n",
      "[CV] C=0.1, gamma=0.001, max_iter=10000.0 ............................\n",
      "[CV]  C=0.01, gamma=1.0, max_iter=10000.0, score=0.504769805060141, total= 2.4min\n",
      "[CV] C=0.1, gamma=0.001, max_iter=10000.0 ............................\n",
      "[CV]  C=0.1, gamma=0.001, max_iter=1000.0, score=0.7235806050559469, total=  38.6s\n",
      "[CV] C=0.1, gamma=0.01, max_iter=10.0 ................................\n",
      "[CV]  C=0.1, gamma=0.001, max_iter=1000.0, score=0.6748237245956035, total=  38.4s\n",
      "[CV] C=0.1, gamma=0.01, max_iter=10.0 ................................\n"
     ]
    },
    {
     "name": "stderr",
     "output_type": "stream",
     "text": [
      "[Parallel(n_jobs=-1)]: Done 210 tasks      | elapsed: 16.3min\n",
      "/home/ubuntu/anaconda3/envs/tensorflow_p36/lib/python3.6/site-packages/sklearn/svm/base.py:218: ConvergenceWarning: Solver terminated early (max_iter=10).  Consider pre-processing your data with StandardScaler or MinMaxScaler.\n",
      "  % self.max_iter, ConvergenceWarning)\n"
     ]
    },
    {
     "name": "stdout",
     "output_type": "stream",
     "text": [
      "[CV]  C=0.1, gamma=0.001, max_iter=1000.0, score=0.6521558872305141, total=  38.9s\n"
     ]
    },
    {
     "name": "stderr",
     "output_type": "stream",
     "text": [
      "/home/ubuntu/anaconda3/envs/tensorflow_p36/lib/python3.6/site-packages/sklearn/svm/base.py:218: ConvergenceWarning: Solver terminated early (max_iter=10).  Consider pre-processing your data with StandardScaler or MinMaxScaler.\n",
      "  % self.max_iter, ConvergenceWarning)\n"
     ]
    },
    {
     "name": "stdout",
     "output_type": "stream",
     "text": [
      "[CV]  C=0.1, gamma=0.01, max_iter=10.0, score=0.807293825113966, total=   0.6s\n",
      "[CV] C=0.1, gamma=0.01, max_iter=10.0 ................................\n",
      "[CV] C=0.1, gamma=0.01, max_iter=10.0 ................................\n",
      "[CV]  C=0.1, gamma=0.01, max_iter=10.0, score=0.7997512437810945, total=   0.6s\n",
      "[CV] C=0.1, gamma=0.01, max_iter=100.0 ...............................\n"
     ]
    },
    {
     "name": "stderr",
     "output_type": "stream",
     "text": [
      "/home/ubuntu/anaconda3/envs/tensorflow_p36/lib/python3.6/site-packages/sklearn/svm/base.py:218: ConvergenceWarning: Solver terminated early (max_iter=10).  Consider pre-processing your data with StandardScaler or MinMaxScaler.\n",
      "  % self.max_iter, ConvergenceWarning)\n",
      "/home/ubuntu/anaconda3/envs/tensorflow_p36/lib/python3.6/site-packages/sklearn/svm/base.py:218: ConvergenceWarning: Solver terminated early (max_iter=10).  Consider pre-processing your data with StandardScaler or MinMaxScaler.\n",
      "  % self.max_iter, ConvergenceWarning)\n"
     ]
    },
    {
     "name": "stdout",
     "output_type": "stream",
     "text": [
      "[CV]  C=0.1, gamma=0.01, max_iter=10.0, score=0.8145997511406056, total=   0.5s\n",
      "[CV] C=0.1, gamma=0.01, max_iter=100.0 ...............................\n",
      "[CV]  C=0.1, gamma=0.01, max_iter=10.0, score=0.7884695147241808, total=   0.5s\n",
      "[CV] C=0.1, gamma=0.01, max_iter=100.0 ...............................\n"
     ]
    },
    {
     "name": "stderr",
     "output_type": "stream",
     "text": [
      "/home/ubuntu/anaconda3/envs/tensorflow_p36/lib/python3.6/site-packages/sklearn/svm/base.py:218: ConvergenceWarning: Solver terminated early (max_iter=100).  Consider pre-processing your data with StandardScaler or MinMaxScaler.\n",
      "  % self.max_iter, ConvergenceWarning)\n",
      "/home/ubuntu/anaconda3/envs/tensorflow_p36/lib/python3.6/site-packages/sklearn/svm/base.py:218: ConvergenceWarning: Solver terminated early (max_iter=100).  Consider pre-processing your data with StandardScaler or MinMaxScaler.\n",
      "  % self.max_iter, ConvergenceWarning)\n",
      "/home/ubuntu/anaconda3/envs/tensorflow_p36/lib/python3.6/site-packages/sklearn/svm/base.py:218: ConvergenceWarning: Solver terminated early (max_iter=100).  Consider pre-processing your data with StandardScaler or MinMaxScaler.\n",
      "  % self.max_iter, ConvergenceWarning)\n"
     ]
    },
    {
     "name": "stdout",
     "output_type": "stream",
     "text": [
      "[CV]  C=0.1, gamma=0.01, max_iter=100.0, score=0.8280149191877331, total=   3.6s\n",
      "[CV] C=0.1, gamma=0.01, max_iter=100.0 ...............................\n",
      "[CV]  C=0.1, gamma=0.001, max_iter=1000.0, score=0.6611364579012857, total=  39.8s\n",
      "[CV] C=0.1, gamma=0.01, max_iter=1000.0 ..............................\n",
      "[CV]  C=0.1, gamma=0.01, max_iter=100.0, score=0.8233830845771144, total=   3.6s\n",
      "[CV] C=0.1, gamma=0.01, max_iter=1000.0 ..............................\n",
      "[CV]  C=0.1, gamma=0.01, max_iter=100.0, score=0.8291165491497304, total=   3.6s\n",
      "[CV] C=0.1, gamma=0.01, max_iter=1000.0 ..............................\n"
     ]
    },
    {
     "name": "stderr",
     "output_type": "stream",
     "text": [
      "/home/ubuntu/anaconda3/envs/tensorflow_p36/lib/python3.6/site-packages/sklearn/svm/base.py:218: ConvergenceWarning: Solver terminated early (max_iter=100).  Consider pre-processing your data with StandardScaler or MinMaxScaler.\n",
      "  % self.max_iter, ConvergenceWarning)\n"
     ]
    },
    {
     "name": "stdout",
     "output_type": "stream",
     "text": [
      "[CV]  C=0.1, gamma=0.01, max_iter=100.0, score=0.817917876399834, total=   3.6s\n",
      "[CV] C=0.1, gamma=0.01, max_iter=1000.0 ..............................\n",
      "[CV]  C=0.01, gamma=10.0, max_iter=10000.0, score=0.504769805060141, total= 2.3min\n",
      "[CV] C=0.1, gamma=0.01, max_iter=10000.0 .............................\n",
      "[CV]  C=0.01, gamma=10.0, max_iter=10000.0, score=0.504769805060141, total= 2.3min\n",
      "[CV] C=0.1, gamma=0.01, max_iter=10000.0 .............................\n",
      "[CV]  C=0.01, gamma=10.0, max_iter=10000.0, score=0.5047658516369664, total= 2.5min\n",
      "[CV]  C=0.01, gamma=10.0, max_iter=10000.0, score=0.5049751243781094, total= 2.5min\n",
      "[CV] C=0.1, gamma=0.01, max_iter=10000.0 .............................\n",
      "[CV] C=0.1, gamma=0.01, max_iter=10000.0 .............................\n"
     ]
    },
    {
     "name": "stderr",
     "output_type": "stream",
     "text": [
      "/home/ubuntu/anaconda3/envs/tensorflow_p36/lib/python3.6/site-packages/sklearn/svm/base.py:218: ConvergenceWarning: Solver terminated early (max_iter=1000).  Consider pre-processing your data with StandardScaler or MinMaxScaler.\n",
      "  % self.max_iter, ConvergenceWarning)\n",
      "/home/ubuntu/anaconda3/envs/tensorflow_p36/lib/python3.6/site-packages/sklearn/svm/base.py:218: ConvergenceWarning: Solver terminated early (max_iter=1000).  Consider pre-processing your data with StandardScaler or MinMaxScaler.\n",
      "  % self.max_iter, ConvergenceWarning)\n",
      "/home/ubuntu/anaconda3/envs/tensorflow_p36/lib/python3.6/site-packages/sklearn/svm/base.py:218: ConvergenceWarning: Solver terminated early (max_iter=1000).  Consider pre-processing your data with StandardScaler or MinMaxScaler.\n",
      "  % self.max_iter, ConvergenceWarning)\n",
      "/home/ubuntu/anaconda3/envs/tensorflow_p36/lib/python3.6/site-packages/sklearn/svm/base.py:218: ConvergenceWarning: Solver terminated early (max_iter=1000).  Consider pre-processing your data with StandardScaler or MinMaxScaler.\n",
      "  % self.max_iter, ConvergenceWarning)\n"
     ]
    },
    {
     "name": "stdout",
     "output_type": "stream",
     "text": [
      "[CV]  C=0.1, gamma=0.01, max_iter=1000.0, score=0.9622876087857439, total=  38.8s\n",
      "[CV]  C=0.1, gamma=0.01, max_iter=1000.0, score=0.966832504145937, total=  38.5s\n",
      "[CV]  C=0.1, gamma=0.01, max_iter=1000.0, score=0.969307341352136, total=  38.6s\n",
      "[CV] C=0.1, gamma=0.1, max_iter=10.0 .................................\n",
      "[CV] C=0.1, gamma=0.1, max_iter=10.0 .................................\n",
      "[CV] C=0.1, gamma=0.1, max_iter=10.0 .................................\n"
     ]
    },
    {
     "name": "stderr",
     "output_type": "stream",
     "text": [
      "/home/ubuntu/anaconda3/envs/tensorflow_p36/lib/python3.6/site-packages/sklearn/svm/base.py:218: ConvergenceWarning: Solver terminated early (max_iter=10).  Consider pre-processing your data with StandardScaler or MinMaxScaler.\n",
      "  % self.max_iter, ConvergenceWarning)\n",
      "/home/ubuntu/anaconda3/envs/tensorflow_p36/lib/python3.6/site-packages/sklearn/svm/base.py:218: ConvergenceWarning: Solver terminated early (max_iter=10).  Consider pre-processing your data with StandardScaler or MinMaxScaler.\n",
      "  % self.max_iter, ConvergenceWarning)\n"
     ]
    },
    {
     "name": "stdout",
     "output_type": "stream",
     "text": [
      "[CV]  C=0.1, gamma=0.1, max_iter=10.0, score=0.5988396187318691, total=   0.5s\n"
     ]
    },
    {
     "name": "stderr",
     "output_type": "stream",
     "text": [
      "/home/ubuntu/anaconda3/envs/tensorflow_p36/lib/python3.6/site-packages/sklearn/svm/base.py:218: ConvergenceWarning: Solver terminated early (max_iter=10).  Consider pre-processing your data with StandardScaler or MinMaxScaler.\n",
      "  % self.max_iter, ConvergenceWarning)\n"
     ]
    },
    {
     "name": "stdout",
     "output_type": "stream",
     "text": [
      "[CV] C=0.1, gamma=0.1, max_iter=10.0 .................................\n",
      "[CV]  C=0.1, gamma=0.1, max_iter=10.0, score=0.5916252072968491, total=   0.5s\n",
      "[CV] C=0.1, gamma=0.1, max_iter=100.0 ................................\n",
      "[CV]  C=0.1, gamma=0.1, max_iter=10.0, score=0.557445043550394, total=   0.6s\n",
      "[CV] C=0.1, gamma=0.1, max_iter=100.0 ................................\n"
     ]
    },
    {
     "name": "stderr",
     "output_type": "stream",
     "text": [
      "/home/ubuntu/anaconda3/envs/tensorflow_p36/lib/python3.6/site-packages/sklearn/svm/base.py:218: ConvergenceWarning: Solver terminated early (max_iter=10).  Consider pre-processing your data with StandardScaler or MinMaxScaler.\n",
      "  % self.max_iter, ConvergenceWarning)\n"
     ]
    },
    {
     "name": "stdout",
     "output_type": "stream",
     "text": [
      "[CV]  C=0.1, gamma=0.1, max_iter=10.0, score=0.6569888013272501, total=   0.5s\n",
      "[CV] C=0.1, gamma=0.1, max_iter=100.0 ................................\n"
     ]
    },
    {
     "name": "stderr",
     "output_type": "stream",
     "text": [
      "/home/ubuntu/anaconda3/envs/tensorflow_p36/lib/python3.6/site-packages/sklearn/svm/base.py:218: ConvergenceWarning: Solver terminated early (max_iter=100).  Consider pre-processing your data with StandardScaler or MinMaxScaler.\n",
      "  % self.max_iter, ConvergenceWarning)\n",
      "/home/ubuntu/anaconda3/envs/tensorflow_p36/lib/python3.6/site-packages/sklearn/svm/base.py:218: ConvergenceWarning: Solver terminated early (max_iter=100).  Consider pre-processing your data with StandardScaler or MinMaxScaler.\n",
      "  % self.max_iter, ConvergenceWarning)\n"
     ]
    },
    {
     "name": "stdout",
     "output_type": "stream",
     "text": [
      "[CV]  C=0.1, gamma=0.01, max_iter=1000.0, score=0.9730402322687681, total=  38.6s\n",
      "[CV] C=0.1, gamma=0.1, max_iter=100.0 ................................\n"
     ]
    },
    {
     "name": "stderr",
     "output_type": "stream",
     "text": [
      "/home/ubuntu/anaconda3/envs/tensorflow_p36/lib/python3.6/site-packages/sklearn/svm/base.py:218: ConvergenceWarning: Solver terminated early (max_iter=100).  Consider pre-processing your data with StandardScaler or MinMaxScaler.\n",
      "  % self.max_iter, ConvergenceWarning)\n"
     ]
    },
    {
     "name": "stdout",
     "output_type": "stream",
     "text": [
      "[CV]  C=0.1, gamma=0.1, max_iter=100.0, score=0.8300870285951099, total=   3.7s\n",
      "[CV] C=0.1, gamma=0.1, max_iter=1000.0 ...............................\n",
      "[CV]  C=0.1, gamma=0.1, max_iter=100.0, score=0.8470149253731343, total=   3.8s\n"
     ]
    },
    {
     "name": "stderr",
     "output_type": "stream",
     "text": [
      "[Parallel(n_jobs=-1)]: Done 233 tasks      | elapsed: 17.6min\n"
     ]
    },
    {
     "name": "stdout",
     "output_type": "stream",
     "text": [
      "[CV] C=0.1, gamma=0.1, max_iter=1000.0 ...............................\n",
      "[CV]  C=0.1, gamma=0.1, max_iter=100.0, score=0.8739112401493156, total=   3.7s\n",
      "[CV] C=0.1, gamma=0.1, max_iter=1000.0 ...............................\n"
     ]
    },
    {
     "name": "stderr",
     "output_type": "stream",
     "text": [
      "/home/ubuntu/anaconda3/envs/tensorflow_p36/lib/python3.6/site-packages/sklearn/svm/base.py:218: ConvergenceWarning: Solver terminated early (max_iter=100).  Consider pre-processing your data with StandardScaler or MinMaxScaler.\n",
      "  % self.max_iter, ConvergenceWarning)\n"
     ]
    },
    {
     "name": "stdout",
     "output_type": "stream",
     "text": [
      "[CV]  C=0.1, gamma=0.1, max_iter=100.0, score=0.8627125673994194, total=   3.7s\n",
      "[CV] C=0.1, gamma=0.1, max_iter=1000.0 ...............................\n",
      "[CV]  C=0.1, gamma=0.01, max_iter=10000.0, score=0.9622876087857439, total=  48.8s\n",
      "[CV] C=0.1, gamma=0.1, max_iter=10000.0 ..............................\n",
      "[CV]  C=0.1, gamma=0.01, max_iter=10000.0, score=0.9689054726368159, total=  49.2s\n",
      "[CV] C=0.1, gamma=0.1, max_iter=10000.0 ..............................\n"
     ]
    },
    {
     "name": "stderr",
     "output_type": "stream",
     "text": [
      "/home/ubuntu/anaconda3/envs/tensorflow_p36/lib/python3.6/site-packages/sklearn/svm/base.py:218: ConvergenceWarning: Solver terminated early (max_iter=1000).  Consider pre-processing your data with StandardScaler or MinMaxScaler.\n",
      "  % self.max_iter, ConvergenceWarning)\n",
      "/home/ubuntu/anaconda3/envs/tensorflow_p36/lib/python3.6/site-packages/sklearn/svm/base.py:218: ConvergenceWarning: Solver terminated early (max_iter=1000).  Consider pre-processing your data with StandardScaler or MinMaxScaler.\n",
      "  % self.max_iter, ConvergenceWarning)\n",
      "/home/ubuntu/anaconda3/envs/tensorflow_p36/lib/python3.6/site-packages/sklearn/svm/base.py:218: ConvergenceWarning: Solver terminated early (max_iter=1000).  Consider pre-processing your data with StandardScaler or MinMaxScaler.\n",
      "  % self.max_iter, ConvergenceWarning)\n"
     ]
    },
    {
     "name": "stdout",
     "output_type": "stream",
     "text": [
      "[CV]  C=0.1, gamma=0.01, max_iter=10000.0, score=0.9680630443799253, total=  49.1s\n",
      "[CV] C=0.1, gamma=0.1, max_iter=10000.0 ..............................\n",
      "[CV]  C=0.1, gamma=0.01, max_iter=10000.0, score=0.9742845292409789, total=  49.6s\n",
      "[CV] C=0.1, gamma=0.1, max_iter=10000.0 ..............................\n"
     ]
    },
    {
     "name": "stderr",
     "output_type": "stream",
     "text": [
      "/home/ubuntu/anaconda3/envs/tensorflow_p36/lib/python3.6/site-packages/sklearn/svm/base.py:218: ConvergenceWarning: Solver terminated early (max_iter=1000).  Consider pre-processing your data with StandardScaler or MinMaxScaler.\n",
      "  % self.max_iter, ConvergenceWarning)\n"
     ]
    },
    {
     "name": "stdout",
     "output_type": "stream",
     "text": [
      "[CV]  C=0.1, gamma=0.001, max_iter=10000.0, score=0.9328636552009946, total= 1.5min\n",
      "[CV] C=0.1, gamma=1.0, max_iter=10.0 .................................\n"
     ]
    },
    {
     "name": "stderr",
     "output_type": "stream",
     "text": [
      "/home/ubuntu/anaconda3/envs/tensorflow_p36/lib/python3.6/site-packages/sklearn/svm/base.py:218: ConvergenceWarning: Solver terminated early (max_iter=10).  Consider pre-processing your data with StandardScaler or MinMaxScaler.\n",
      "  % self.max_iter, ConvergenceWarning)\n"
     ]
    },
    {
     "name": "stdout",
     "output_type": "stream",
     "text": [
      "[CV]  C=0.1, gamma=1.0, max_iter=10.0, score=0.5076668048072939, total=   0.5s\n",
      "[CV] C=0.1, gamma=1.0, max_iter=10.0 .................................\n"
     ]
    },
    {
     "name": "stderr",
     "output_type": "stream",
     "text": [
      "/home/ubuntu/anaconda3/envs/tensorflow_p36/lib/python3.6/site-packages/sklearn/svm/base.py:218: ConvergenceWarning: Solver terminated early (max_iter=10).  Consider pre-processing your data with StandardScaler or MinMaxScaler.\n",
      "  % self.max_iter, ConvergenceWarning)\n"
     ]
    },
    {
     "name": "stdout",
     "output_type": "stream",
     "text": [
      "[CV]  C=0.1, gamma=1.0, max_iter=10.0, score=0.5070480928689884, total=   0.6s\n",
      "[CV] C=0.1, gamma=1.0, max_iter=10.0 .................................\n",
      "[CV]  C=0.1, gamma=0.001, max_iter=10000.0, score=0.9369817578772802, total= 1.6min\n",
      "[CV] C=0.1, gamma=1.0, max_iter=10.0 .................................\n"
     ]
    },
    {
     "name": "stderr",
     "output_type": "stream",
     "text": [
      "/home/ubuntu/anaconda3/envs/tensorflow_p36/lib/python3.6/site-packages/sklearn/svm/base.py:218: ConvergenceWarning: Solver terminated early (max_iter=10).  Consider pre-processing your data with StandardScaler or MinMaxScaler.\n",
      "  % self.max_iter, ConvergenceWarning)\n",
      "/home/ubuntu/anaconda3/envs/tensorflow_p36/lib/python3.6/site-packages/sklearn/svm/base.py:218: ConvergenceWarning: Solver terminated early (max_iter=10).  Consider pre-processing your data with StandardScaler or MinMaxScaler.\n",
      "  % self.max_iter, ConvergenceWarning)\n"
     ]
    },
    {
     "name": "stdout",
     "output_type": "stream",
     "text": [
      "[CV]  C=0.1, gamma=1.0, max_iter=10.0, score=0.5026959767731232, total=   0.6s\n",
      "[CV] C=0.1, gamma=1.0, max_iter=100.0 ................................\n",
      "[CV]  C=0.1, gamma=1.0, max_iter=10.0, score=0.4977187888842804, total=   0.5s\n",
      "[CV]  C=0.1, gamma=0.1, max_iter=1000.0, score=0.9796849087893864, total=  39.0s\n",
      "[CV] C=0.1, gamma=1.0, max_iter=100.0 ................................\n",
      "[CV] C=0.1, gamma=1.0, max_iter=100.0 ................................\n",
      "[CV]  C=0.1, gamma=0.1, max_iter=1000.0, score=0.9701616245337754, total=  39.3s\n",
      "[CV] C=0.1, gamma=1.0, max_iter=100.0 ................................\n",
      "[CV]  C=0.1, gamma=0.1, max_iter=1000.0, score=0.9701368726669432, total=  39.4s\n",
      "[CV] C=0.1, gamma=1.0, max_iter=1000.0 ...............................\n",
      "[CV]  C=0.1, gamma=0.001, max_iter=10000.0, score=0.92907507258399, total= 1.6min\n",
      "[CV] C=0.1, gamma=1.0, max_iter=1000.0 ...............................\n",
      "[CV]  C=0.1, gamma=0.001, max_iter=10000.0, score=0.9440066362505185, total= 1.6min\n",
      "[CV] C=0.1, gamma=1.0, max_iter=1000.0 ...............................\n"
     ]
    },
    {
     "name": "stderr",
     "output_type": "stream",
     "text": [
      "/home/ubuntu/anaconda3/envs/tensorflow_p36/lib/python3.6/site-packages/sklearn/svm/base.py:218: ConvergenceWarning: Solver terminated early (max_iter=100).  Consider pre-processing your data with StandardScaler or MinMaxScaler.\n",
      "  % self.max_iter, ConvergenceWarning)\n",
      "/home/ubuntu/anaconda3/envs/tensorflow_p36/lib/python3.6/site-packages/sklearn/svm/base.py:218: ConvergenceWarning: Solver terminated early (max_iter=100).  Consider pre-processing your data with StandardScaler or MinMaxScaler.\n",
      "  % self.max_iter, ConvergenceWarning)\n",
      "/home/ubuntu/anaconda3/envs/tensorflow_p36/lib/python3.6/site-packages/sklearn/svm/base.py:218: ConvergenceWarning: Solver terminated early (max_iter=100).  Consider pre-processing your data with StandardScaler or MinMaxScaler.\n",
      "  % self.max_iter, ConvergenceWarning)\n",
      "/home/ubuntu/anaconda3/envs/tensorflow_p36/lib/python3.6/site-packages/sklearn/svm/base.py:218: ConvergenceWarning: Solver terminated early (max_iter=100).  Consider pre-processing your data with StandardScaler or MinMaxScaler.\n",
      "  % self.max_iter, ConvergenceWarning)\n"
     ]
    },
    {
     "name": "stdout",
     "output_type": "stream",
     "text": [
      "[CV]  C=0.1, gamma=0.1, max_iter=1000.0, score=0.978017420157611, total=  39.1s\n",
      "[CV] C=0.1, gamma=1.0, max_iter=1000.0 ...............................\n",
      "[CV]  C=0.1, gamma=1.0, max_iter=100.0, score=0.5988396187318691, total=   3.8s\n",
      "[CV] C=0.1, gamma=1.0, max_iter=10000.0 ..............................\n",
      "[CV]  C=0.1, gamma=1.0, max_iter=100.0, score=0.5762852404643449, total=   3.7s\n",
      "[CV] C=0.1, gamma=1.0, max_iter=10000.0 ..............................\n",
      "[CV]  C=0.1, gamma=1.0, max_iter=100.0, score=0.5860638739112402, total=   3.7s\n",
      "[CV] C=0.1, gamma=1.0, max_iter=10000.0 ..............................\n",
      "[CV]  C=0.1, gamma=1.0, max_iter=100.0, score=0.585234342596433, total=   3.5s\n",
      "[CV] C=0.1, gamma=1.0, max_iter=10000.0 ..............................\n"
     ]
    },
    {
     "name": "stderr",
     "output_type": "stream",
     "text": [
      "[Parallel(n_jobs=-1)]: Done 256 tasks      | elapsed: 18.8min\n"
     ]
    },
    {
     "name": "stdout",
     "output_type": "stream",
     "text": [
      "[CV]  C=0.1, gamma=0.0001, max_iter=10000.0, score=0.5395772896808951, total= 2.4min\n",
      "[CV] C=0.1, gamma=10.0, max_iter=10.0 ................................\n"
     ]
    },
    {
     "name": "stderr",
     "output_type": "stream",
     "text": [
      "/home/ubuntu/anaconda3/envs/tensorflow_p36/lib/python3.6/site-packages/sklearn/svm/base.py:218: ConvergenceWarning: Solver terminated early (max_iter=10).  Consider pre-processing your data with StandardScaler or MinMaxScaler.\n",
      "  % self.max_iter, ConvergenceWarning)\n"
     ]
    },
    {
     "name": "stdout",
     "output_type": "stream",
     "text": [
      "[CV]  C=0.1, gamma=10.0, max_iter=10.0, score=0.692084542063821, total=   0.5s\n",
      "[CV] C=0.1, gamma=10.0, max_iter=10.0 ................................\n"
     ]
    },
    {
     "name": "stderr",
     "output_type": "stream",
     "text": [
      "/home/ubuntu/anaconda3/envs/tensorflow_p36/lib/python3.6/site-packages/sklearn/svm/base.py:218: ConvergenceWarning: Solver terminated early (max_iter=10).  Consider pre-processing your data with StandardScaler or MinMaxScaler.\n",
      "  % self.max_iter, ConvergenceWarning)\n"
     ]
    },
    {
     "name": "stdout",
     "output_type": "stream",
     "text": [
      "[CV]  C=0.1, gamma=10.0, max_iter=10.0, score=0.6820066334991708, total=   0.6s\n",
      "[CV] C=0.1, gamma=10.0, max_iter=10.0 ................................\n",
      "[CV]  C=0.1, gamma=0.0001, max_iter=10000.0, score=0.5474906677727084, total= 2.4min\n",
      "[CV] C=0.1, gamma=10.0, max_iter=10.0 ................................\n"
     ]
    },
    {
     "name": "stderr",
     "output_type": "stream",
     "text": [
      "/home/ubuntu/anaconda3/envs/tensorflow_p36/lib/python3.6/site-packages/sklearn/svm/base.py:218: ConvergenceWarning: Solver terminated early (max_iter=10).  Consider pre-processing your data with StandardScaler or MinMaxScaler.\n",
      "  % self.max_iter, ConvergenceWarning)\n",
      "/home/ubuntu/anaconda3/envs/tensorflow_p36/lib/python3.6/site-packages/sklearn/svm/base.py:218: ConvergenceWarning: Solver terminated early (max_iter=10).  Consider pre-processing your data with StandardScaler or MinMaxScaler.\n",
      "  % self.max_iter, ConvergenceWarning)\n"
     ]
    },
    {
     "name": "stdout",
     "output_type": "stream",
     "text": [
      "[CV]  C=0.1, gamma=10.0, max_iter=10.0, score=0.6905848195769391, total=   0.5s\n",
      "[CV] C=0.1, gamma=10.0, max_iter=100.0 ...............................\n",
      "[CV]  C=0.1, gamma=10.0, max_iter=10.0, score=0.7034425549564496, total=   0.6s\n",
      "[CV] C=0.1, gamma=10.0, max_iter=100.0 ...............................\n",
      "[CV]  C=0.1, gamma=0.0001, max_iter=10000.0, score=0.5580431177446102, total= 2.4min\n",
      "[CV] C=0.1, gamma=10.0, max_iter=100.0 ...............................\n",
      "[CV]  C=0.1, gamma=0.0001, max_iter=10000.0, score=0.5309000414765658, total= 2.4min\n",
      "[CV] C=0.1, gamma=10.0, max_iter=100.0 ...............................\n"
     ]
    },
    {
     "name": "stderr",
     "output_type": "stream",
     "text": [
      "/home/ubuntu/anaconda3/envs/tensorflow_p36/lib/python3.6/site-packages/sklearn/svm/base.py:218: ConvergenceWarning: Solver terminated early (max_iter=100).  Consider pre-processing your data with StandardScaler or MinMaxScaler.\n",
      "  % self.max_iter, ConvergenceWarning)\n",
      "/home/ubuntu/anaconda3/envs/tensorflow_p36/lib/python3.6/site-packages/sklearn/svm/base.py:218: ConvergenceWarning: Solver terminated early (max_iter=100).  Consider pre-processing your data with StandardScaler or MinMaxScaler.\n",
      "  % self.max_iter, ConvergenceWarning)\n",
      "/home/ubuntu/anaconda3/envs/tensorflow_p36/lib/python3.6/site-packages/sklearn/svm/base.py:218: ConvergenceWarning: Solver terminated early (max_iter=100).  Consider pre-processing your data with StandardScaler or MinMaxScaler.\n",
      "  % self.max_iter, ConvergenceWarning)\n",
      "/home/ubuntu/anaconda3/envs/tensorflow_p36/lib/python3.6/site-packages/sklearn/svm/base.py:218: ConvergenceWarning: Solver terminated early (max_iter=100).  Consider pre-processing your data with StandardScaler or MinMaxScaler.\n",
      "  % self.max_iter, ConvergenceWarning)\n"
     ]
    },
    {
     "name": "stdout",
     "output_type": "stream",
     "text": [
      "[CV]  C=0.1, gamma=10.0, max_iter=100.0, score=0.9067550766680481, total=   3.8s\n",
      "[CV] C=0.1, gamma=10.0, max_iter=1000.0 ..............................\n",
      "[CV]  C=0.1, gamma=10.0, max_iter=100.0, score=0.9025704809286899, total=   3.6s\n",
      "[CV] C=0.1, gamma=10.0, max_iter=1000.0 ..............................\n",
      "[CV]  C=0.1, gamma=10.0, max_iter=100.0, score=0.8934052260472832, total=   3.7s\n",
      "[CV] C=0.1, gamma=10.0, max_iter=1000.0 ..............................\n",
      "[CV]  C=0.1, gamma=10.0, max_iter=100.0, score=0.8975528826213189, total=   3.6s\n",
      "[CV] C=0.1, gamma=10.0, max_iter=1000.0 ..............................\n"
     ]
    },
    {
     "name": "stderr",
     "output_type": "stream",
     "text": [
      "/home/ubuntu/anaconda3/envs/tensorflow_p36/lib/python3.6/site-packages/sklearn/svm/base.py:218: ConvergenceWarning: Solver terminated early (max_iter=1000).  Consider pre-processing your data with StandardScaler or MinMaxScaler.\n",
      "  % self.max_iter, ConvergenceWarning)\n",
      "/home/ubuntu/anaconda3/envs/tensorflow_p36/lib/python3.6/site-packages/sklearn/svm/base.py:218: ConvergenceWarning: Solver terminated early (max_iter=1000).  Consider pre-processing your data with StandardScaler or MinMaxScaler.\n",
      "  % self.max_iter, ConvergenceWarning)\n",
      "/home/ubuntu/anaconda3/envs/tensorflow_p36/lib/python3.6/site-packages/sklearn/svm/base.py:218: ConvergenceWarning: Solver terminated early (max_iter=1000).  Consider pre-processing your data with StandardScaler or MinMaxScaler.\n",
      "  % self.max_iter, ConvergenceWarning)\n",
      "/home/ubuntu/anaconda3/envs/tensorflow_p36/lib/python3.6/site-packages/sklearn/svm/base.py:218: ConvergenceWarning: Solver terminated early (max_iter=1000).  Consider pre-processing your data with StandardScaler or MinMaxScaler.\n",
      "  % self.max_iter, ConvergenceWarning)\n",
      "/home/ubuntu/anaconda3/envs/tensorflow_p36/lib/python3.6/site-packages/sklearn/svm/base.py:218: ConvergenceWarning: Solver terminated early (max_iter=1000).  Consider pre-processing your data with StandardScaler or MinMaxScaler.\n",
      "  % self.max_iter, ConvergenceWarning)\n",
      "/home/ubuntu/anaconda3/envs/tensorflow_p36/lib/python3.6/site-packages/sklearn/svm/base.py:218: ConvergenceWarning: Solver terminated early (max_iter=1000).  Consider pre-processing your data with StandardScaler or MinMaxScaler.\n",
      "  % self.max_iter, ConvergenceWarning)\n",
      "/home/ubuntu/anaconda3/envs/tensorflow_p36/lib/python3.6/site-packages/sklearn/svm/base.py:218: ConvergenceWarning: Solver terminated early (max_iter=1000).  Consider pre-processing your data with StandardScaler or MinMaxScaler.\n",
      "  % self.max_iter, ConvergenceWarning)\n",
      "/home/ubuntu/anaconda3/envs/tensorflow_p36/lib/python3.6/site-packages/sklearn/svm/base.py:218: ConvergenceWarning: Solver terminated early (max_iter=1000).  Consider pre-processing your data with StandardScaler or MinMaxScaler.\n",
      "  % self.max_iter, ConvergenceWarning)\n"
     ]
    },
    {
     "name": "stdout",
     "output_type": "stream",
     "text": [
      "[CV]  C=0.1, gamma=1.0, max_iter=1000.0, score=0.8997099046829673, total=  37.9s\n",
      "[CV] C=0.1, gamma=10.0, max_iter=10000.0 .............................\n",
      "[CV]  C=0.1, gamma=1.0, max_iter=1000.0, score=0.9079601990049752, total=  38.2s\n",
      "[CV] C=0.1, gamma=10.0, max_iter=10000.0 .............................\n",
      "[CV]  C=0.1, gamma=1.0, max_iter=1000.0, score=0.888842803815844, total=  38.2s\n",
      "[CV] C=0.1, gamma=10.0, max_iter=10000.0 .............................\n",
      "[CV]  C=0.1, gamma=1.0, max_iter=1000.0, score=0.8971381169639154, total=  38.6s\n",
      "[CV] C=0.1, gamma=10.0, max_iter=10000.0 .............................\n",
      "[CV]  C=0.1, gamma=10.0, max_iter=1000.0, score=0.9614427860696517, total=  38.7s\n",
      "[CV] C=1.0, gamma=0.0001, max_iter=10.0 ..............................\n",
      "[CV]  C=0.1, gamma=10.0, max_iter=1000.0, score=0.9593866556154165, total=  39.0s\n",
      "[CV] C=1.0, gamma=0.0001, max_iter=10.0 ..............................\n"
     ]
    },
    {
     "name": "stderr",
     "output_type": "stream",
     "text": [
      "/home/ubuntu/anaconda3/envs/tensorflow_p36/lib/python3.6/site-packages/sklearn/svm/base.py:218: ConvergenceWarning: Solver terminated early (max_iter=10).  Consider pre-processing your data with StandardScaler or MinMaxScaler.\n",
      "  % self.max_iter, ConvergenceWarning)\n"
     ]
    },
    {
     "name": "stdout",
     "output_type": "stream",
     "text": [
      "[CV]  C=0.1, gamma=10.0, max_iter=1000.0, score=0.9610120282040647, total=  39.0s\n",
      "[CV] C=1.0, gamma=0.0001, max_iter=10.0 ..............................\n",
      "[CV]  C=1.0, gamma=0.0001, max_iter=10.0, score=0.7513468711147948, total=   0.6s\n"
     ]
    },
    {
     "name": "stderr",
     "output_type": "stream",
     "text": [
      "/home/ubuntu/anaconda3/envs/tensorflow_p36/lib/python3.6/site-packages/sklearn/svm/base.py:218: ConvergenceWarning: Solver terminated early (max_iter=10).  Consider pre-processing your data with StandardScaler or MinMaxScaler.\n",
      "  % self.max_iter, ConvergenceWarning)\n"
     ]
    },
    {
     "name": "stdout",
     "output_type": "stream",
     "text": [
      "[CV] C=1.0, gamma=0.0001, max_iter=10.0 ..............................\n",
      "[CV]  C=1.0, gamma=0.0001, max_iter=10.0, score=0.7408789386401327, total=   0.5s\n",
      "[CV] C=1.0, gamma=0.0001, max_iter=100.0 .............................\n",
      "[CV]  C=0.1, gamma=10.0, max_iter=1000.0, score=0.972210700953961, total=  39.0s\n"
     ]
    },
    {
     "name": "stderr",
     "output_type": "stream",
     "text": [
      "/home/ubuntu/anaconda3/envs/tensorflow_p36/lib/python3.6/site-packages/sklearn/svm/base.py:218: ConvergenceWarning: Solver terminated early (max_iter=10).  Consider pre-processing your data with StandardScaler or MinMaxScaler.\n",
      "  % self.max_iter, ConvergenceWarning)\n"
     ]
    },
    {
     "name": "stdout",
     "output_type": "stream",
     "text": [
      "[CV] C=1.0, gamma=0.0001, max_iter=100.0 .............................\n"
     ]
    },
    {
     "name": "stderr",
     "output_type": "stream",
     "text": [
      "/home/ubuntu/anaconda3/envs/tensorflow_p36/lib/python3.6/site-packages/sklearn/svm/base.py:218: ConvergenceWarning: Solver terminated early (max_iter=10).  Consider pre-processing your data with StandardScaler or MinMaxScaler.\n",
      "  % self.max_iter, ConvergenceWarning)\n"
     ]
    },
    {
     "name": "stdout",
     "output_type": "stream",
     "text": [
      "[CV]  C=1.0, gamma=0.0001, max_iter=10.0, score=0.7652426379095811, total=   0.6s\n",
      "[CV] C=1.0, gamma=0.0001, max_iter=100.0 .............................\n",
      "[CV]  C=1.0, gamma=0.0001, max_iter=10.0, score=0.7552882621318955, total=   0.6s\n",
      "[CV] C=1.0, gamma=0.0001, max_iter=100.0 .............................\n"
     ]
    },
    {
     "name": "stderr",
     "output_type": "stream",
     "text": [
      "/home/ubuntu/anaconda3/envs/tensorflow_p36/lib/python3.6/site-packages/sklearn/svm/base.py:218: ConvergenceWarning: Solver terminated early (max_iter=100).  Consider pre-processing your data with StandardScaler or MinMaxScaler.\n",
      "  % self.max_iter, ConvergenceWarning)\n",
      "/home/ubuntu/anaconda3/envs/tensorflow_p36/lib/python3.6/site-packages/sklearn/svm/base.py:218: ConvergenceWarning: Solver terminated early (max_iter=100).  Consider pre-processing your data with StandardScaler or MinMaxScaler.\n",
      "  % self.max_iter, ConvergenceWarning)\n",
      "/home/ubuntu/anaconda3/envs/tensorflow_p36/lib/python3.6/site-packages/sklearn/svm/base.py:218: ConvergenceWarning: Solver terminated early (max_iter=100).  Consider pre-processing your data with StandardScaler or MinMaxScaler.\n",
      "  % self.max_iter, ConvergenceWarning)\n",
      "/home/ubuntu/anaconda3/envs/tensorflow_p36/lib/python3.6/site-packages/sklearn/svm/base.py:218: ConvergenceWarning: Solver terminated early (max_iter=100).  Consider pre-processing your data with StandardScaler or MinMaxScaler.\n",
      "  % self.max_iter, ConvergenceWarning)\n"
     ]
    },
    {
     "name": "stdout",
     "output_type": "stream",
     "text": [
      "[CV]  C=1.0, gamma=0.0001, max_iter=100.0, score=0.7244094488188977, total=   3.6s\n",
      "[CV] C=1.0, gamma=0.0001, max_iter=1000.0 ............................\n",
      "[CV]  C=1.0, gamma=0.0001, max_iter=100.0, score=0.7143449419568823, total=   3.7s\n",
      "[CV] C=1.0, gamma=0.0001, max_iter=1000.0 ............................\n"
     ]
    },
    {
     "name": "stderr",
     "output_type": "stream",
     "text": [
      "[Parallel(n_jobs=-1)]: Done 281 tasks      | elapsed: 20.2min\n"
     ]
    },
    {
     "name": "stdout",
     "output_type": "stream",
     "text": [
      "[CV]  C=1.0, gamma=0.0001, max_iter=100.0, score=0.7274989630858565, total=   3.6s\n",
      "[CV] C=1.0, gamma=0.0001, max_iter=1000.0 ............................\n",
      "[CV]  C=1.0, gamma=0.0001, max_iter=100.0, score=0.7158855246785566, total=   3.6s\n",
      "[CV] C=1.0, gamma=0.0001, max_iter=1000.0 ............................\n"
     ]
    },
    {
     "name": "stderr",
     "output_type": "stream",
     "text": [
      "/home/ubuntu/anaconda3/envs/tensorflow_p36/lib/python3.6/site-packages/sklearn/svm/base.py:218: ConvergenceWarning: Solver terminated early (max_iter=1000).  Consider pre-processing your data with StandardScaler or MinMaxScaler.\n",
      "  % self.max_iter, ConvergenceWarning)\n",
      "/home/ubuntu/anaconda3/envs/tensorflow_p36/lib/python3.6/site-packages/sklearn/svm/base.py:218: ConvergenceWarning: Solver terminated early (max_iter=1000).  Consider pre-processing your data with StandardScaler or MinMaxScaler.\n",
      "  % self.max_iter, ConvergenceWarning)\n",
      "/home/ubuntu/anaconda3/envs/tensorflow_p36/lib/python3.6/site-packages/sklearn/svm/base.py:218: ConvergenceWarning: Solver terminated early (max_iter=1000).  Consider pre-processing your data with StandardScaler or MinMaxScaler.\n",
      "  % self.max_iter, ConvergenceWarning)\n",
      "/home/ubuntu/anaconda3/envs/tensorflow_p36/lib/python3.6/site-packages/sklearn/svm/base.py:218: ConvergenceWarning: Solver terminated early (max_iter=1000).  Consider pre-processing your data with StandardScaler or MinMaxScaler.\n",
      "  % self.max_iter, ConvergenceWarning)\n"
     ]
    },
    {
     "name": "stdout",
     "output_type": "stream",
     "text": [
      "[CV]  C=1.0, gamma=0.0001, max_iter=1000.0, score=0.6393034825870647, total=  37.8s\n",
      "[CV] C=1.0, gamma=0.0001, max_iter=10000.0 ...........................\n",
      "[CV]  C=1.0, gamma=0.0001, max_iter=1000.0, score=0.728553667633651, total=  37.9s\n",
      "[CV] C=1.0, gamma=0.0001, max_iter=10000.0 ...........................\n",
      "[CV]  C=1.0, gamma=0.0001, max_iter=1000.0, score=0.6391538780588967, total=  38.5s\n",
      "[CV] C=1.0, gamma=0.0001, max_iter=10000.0 ...........................\n",
      "[CV]  C=1.0, gamma=0.0001, max_iter=1000.0, score=0.6640398175031107, total=  38.3s\n",
      "[CV] C=1.0, gamma=0.0001, max_iter=10000.0 ...........................\n",
      "[CV]  C=0.1, gamma=0.1, max_iter=10000.0, score=0.84251968503937, total= 2.1min\n",
      "[CV] C=1.0, gamma=0.001, max_iter=10.0 ...............................\n"
     ]
    },
    {
     "name": "stderr",
     "output_type": "stream",
     "text": [
      "/home/ubuntu/anaconda3/envs/tensorflow_p36/lib/python3.6/site-packages/sklearn/svm/base.py:218: ConvergenceWarning: Solver terminated early (max_iter=10).  Consider pre-processing your data with StandardScaler or MinMaxScaler.\n",
      "  % self.max_iter, ConvergenceWarning)\n"
     ]
    },
    {
     "name": "stdout",
     "output_type": "stream",
     "text": [
      "[CV]  C=1.0, gamma=0.001, max_iter=10.0, score=0.7165354330708661, total=   0.6s\n",
      "[CV] C=1.0, gamma=0.001, max_iter=10.0 ...............................\n",
      "[CV]  C=0.1, gamma=0.1, max_iter=10000.0, score=0.8557213930348259, total= 2.1min\n",
      "[CV] C=1.0, gamma=0.001, max_iter=10.0 ...............................\n"
     ]
    },
    {
     "name": "stderr",
     "output_type": "stream",
     "text": [
      "/home/ubuntu/anaconda3/envs/tensorflow_p36/lib/python3.6/site-packages/sklearn/svm/base.py:218: ConvergenceWarning: Solver terminated early (max_iter=10).  Consider pre-processing your data with StandardScaler or MinMaxScaler.\n",
      "  % self.max_iter, ConvergenceWarning)\n",
      "/home/ubuntu/anaconda3/envs/tensorflow_p36/lib/python3.6/site-packages/sklearn/svm/base.py:218: ConvergenceWarning: Solver terminated early (max_iter=10).  Consider pre-processing your data with StandardScaler or MinMaxScaler.\n",
      "  % self.max_iter, ConvergenceWarning)\n"
     ]
    },
    {
     "name": "stdout",
     "output_type": "stream",
     "text": [
      "[CV]  C=1.0, gamma=0.001, max_iter=10.0, score=0.7060530679933665, total=   0.6s\n",
      "[CV] C=1.0, gamma=0.001, max_iter=10.0 ...............................\n",
      "[CV]  C=1.0, gamma=0.001, max_iter=10.0, score=0.7822480298631274, total=   0.6s\n",
      "[CV] C=1.0, gamma=0.001, max_iter=100.0 ..............................\n"
     ]
    },
    {
     "name": "stderr",
     "output_type": "stream",
     "text": [
      "/home/ubuntu/anaconda3/envs/tensorflow_p36/lib/python3.6/site-packages/sklearn/svm/base.py:218: ConvergenceWarning: Solver terminated early (max_iter=10).  Consider pre-processing your data with StandardScaler or MinMaxScaler.\n",
      "  % self.max_iter, ConvergenceWarning)\n"
     ]
    },
    {
     "name": "stdout",
     "output_type": "stream",
     "text": [
      "[CV]  C=1.0, gamma=0.001, max_iter=10.0, score=0.7681459975114061, total=   0.6s\n",
      "[CV] C=1.0, gamma=0.001, max_iter=100.0 ..............................\n"
     ]
    },
    {
     "name": "stderr",
     "output_type": "stream",
     "text": [
      "/home/ubuntu/anaconda3/envs/tensorflow_p36/lib/python3.6/site-packages/sklearn/svm/base.py:218: ConvergenceWarning: Solver terminated early (max_iter=100).  Consider pre-processing your data with StandardScaler or MinMaxScaler.\n",
      "  % self.max_iter, ConvergenceWarning)\n",
      "/home/ubuntu/anaconda3/envs/tensorflow_p36/lib/python3.6/site-packages/sklearn/svm/base.py:218: ConvergenceWarning: Solver terminated early (max_iter=100).  Consider pre-processing your data with StandardScaler or MinMaxScaler.\n",
      "  % self.max_iter, ConvergenceWarning)\n"
     ]
    },
    {
     "name": "stdout",
     "output_type": "stream",
     "text": [
      "[CV]  C=0.1, gamma=0.1, max_iter=10000.0, score=0.848610535047698, total= 2.1min\n",
      "[CV] C=1.0, gamma=0.001, max_iter=100.0 ..............................\n",
      "[CV]  C=1.0, gamma=0.001, max_iter=100.0, score=0.744301699129714, total=   3.7s\n",
      "[CV] C=1.0, gamma=0.001, max_iter=100.0 ..............................\n",
      "[CV]  C=1.0, gamma=0.001, max_iter=100.0, score=0.7288557213930348, total=   3.6s\n",
      "[CV] C=1.0, gamma=0.001, max_iter=1000.0 .............................\n",
      "[CV]  C=0.1, gamma=0.1, max_iter=10000.0, score=0.8606387391124015, total= 2.1min\n",
      "[CV] C=1.0, gamma=0.001, max_iter=1000.0 .............................\n"
     ]
    },
    {
     "name": "stderr",
     "output_type": "stream",
     "text": [
      "/home/ubuntu/anaconda3/envs/tensorflow_p36/lib/python3.6/site-packages/sklearn/svm/base.py:218: ConvergenceWarning: Solver terminated early (max_iter=100).  Consider pre-processing your data with StandardScaler or MinMaxScaler.\n",
      "  % self.max_iter, ConvergenceWarning)\n",
      "/home/ubuntu/anaconda3/envs/tensorflow_p36/lib/python3.6/site-packages/sklearn/svm/base.py:218: ConvergenceWarning: Solver terminated early (max_iter=100).  Consider pre-processing your data with StandardScaler or MinMaxScaler.\n",
      "  % self.max_iter, ConvergenceWarning)\n"
     ]
    },
    {
     "name": "stdout",
     "output_type": "stream",
     "text": [
      "[CV]  C=1.0, gamma=0.001, max_iter=100.0, score=0.7370385732061385, total=   3.3s\n",
      "[CV] C=1.0, gamma=0.001, max_iter=1000.0 .............................\n",
      "[CV]  C=1.0, gamma=0.001, max_iter=100.0, score=0.7378681045209456, total=   3.4s\n",
      "[CV] C=1.0, gamma=0.001, max_iter=1000.0 .............................\n"
     ]
    },
    {
     "name": "stderr",
     "output_type": "stream",
     "text": [
      "/home/ubuntu/anaconda3/envs/tensorflow_p36/lib/python3.6/site-packages/sklearn/svm/base.py:218: ConvergenceWarning: Solver terminated early (max_iter=1000).  Consider pre-processing your data with StandardScaler or MinMaxScaler.\n",
      "  % self.max_iter, ConvergenceWarning)\n",
      "/home/ubuntu/anaconda3/envs/tensorflow_p36/lib/python3.6/site-packages/sklearn/svm/base.py:218: ConvergenceWarning: Solver terminated early (max_iter=1000).  Consider pre-processing your data with StandardScaler or MinMaxScaler.\n",
      "  % self.max_iter, ConvergenceWarning)\n",
      "/home/ubuntu/anaconda3/envs/tensorflow_p36/lib/python3.6/site-packages/sklearn/svm/base.py:218: ConvergenceWarning: Solver terminated early (max_iter=1000).  Consider pre-processing your data with StandardScaler or MinMaxScaler.\n",
      "  % self.max_iter, ConvergenceWarning)\n",
      "/home/ubuntu/anaconda3/envs/tensorflow_p36/lib/python3.6/site-packages/sklearn/svm/base.py:218: ConvergenceWarning: Solver terminated early (max_iter=1000).  Consider pre-processing your data with StandardScaler or MinMaxScaler.\n",
      "  % self.max_iter, ConvergenceWarning)\n"
     ]
    },
    {
     "name": "stdout",
     "output_type": "stream",
     "text": [
      "[CV]  C=1.0, gamma=0.001, max_iter=1000.0, score=0.952755905511811, total=  36.8s\n",
      "[CV] C=1.0, gamma=0.001, max_iter=10000.0 ............................\n",
      "[CV]  C=1.0, gamma=0.001, max_iter=1000.0, score=0.9589552238805971, total=  37.3s\n",
      "[CV] C=1.0, gamma=0.001, max_iter=10000.0 ............................\n",
      "[CV]  C=0.1, gamma=1.0, max_iter=10000.0, score=0.504769805060141, total= 2.4min\n",
      "[CV] C=1.0, gamma=0.001, max_iter=10000.0 ............................\n",
      "[CV]  C=0.1, gamma=1.0, max_iter=10000.0, score=0.5049751243781094, total= 2.4min\n",
      "[CV] C=1.0, gamma=0.001, max_iter=10000.0 ............................\n",
      "[CV]  C=1.0, gamma=0.001, max_iter=1000.0, score=0.9593529655744505, total=  37.8s\n",
      "[CV] C=1.0, gamma=0.01, max_iter=10.0 ................................\n",
      "[CV]  C=1.0, gamma=0.001, max_iter=1000.0, score=0.9635006221484861, total=  37.9s\n",
      "[CV] C=1.0, gamma=0.01, max_iter=10.0 ................................\n"
     ]
    },
    {
     "name": "stderr",
     "output_type": "stream",
     "text": [
      "[Parallel(n_jobs=-1)]: Done 306 tasks      | elapsed: 22.8min\n",
      "/home/ubuntu/anaconda3/envs/tensorflow_p36/lib/python3.6/site-packages/sklearn/svm/base.py:218: ConvergenceWarning: Solver terminated early (max_iter=10).  Consider pre-processing your data with StandardScaler or MinMaxScaler.\n",
      "  % self.max_iter, ConvergenceWarning)\n",
      "/home/ubuntu/anaconda3/envs/tensorflow_p36/lib/python3.6/site-packages/sklearn/svm/base.py:218: ConvergenceWarning: Solver terminated early (max_iter=10).  Consider pre-processing your data with StandardScaler or MinMaxScaler.\n",
      "  % self.max_iter, ConvergenceWarning)\n"
     ]
    },
    {
     "name": "stdout",
     "output_type": "stream",
     "text": [
      "[CV]  C=1.0, gamma=0.01, max_iter=10.0, score=0.7592208868628264, total=   0.6s\n",
      "[CV] C=1.0, gamma=0.01, max_iter=10.0 ................................\n",
      "[CV]  C=1.0, gamma=0.01, max_iter=10.0, score=0.804726368159204, total=   0.5s\n",
      "[CV] C=1.0, gamma=0.01, max_iter=10.0 ................................\n"
     ]
    },
    {
     "name": "stderr",
     "output_type": "stream",
     "text": [
      "/home/ubuntu/anaconda3/envs/tensorflow_p36/lib/python3.6/site-packages/sklearn/svm/base.py:218: ConvergenceWarning: Solver terminated early (max_iter=10).  Consider pre-processing your data with StandardScaler or MinMaxScaler.\n",
      "  % self.max_iter, ConvergenceWarning)\n",
      "/home/ubuntu/anaconda3/envs/tensorflow_p36/lib/python3.6/site-packages/sklearn/svm/base.py:218: ConvergenceWarning: Solver terminated early (max_iter=10).  Consider pre-processing your data with StandardScaler or MinMaxScaler.\n",
      "  % self.max_iter, ConvergenceWarning)\n"
     ]
    },
    {
     "name": "stdout",
     "output_type": "stream",
     "text": [
      "[CV]  C=1.0, gamma=0.01, max_iter=10.0, score=0.8598092077975944, total=   0.6s\n",
      "[CV] C=1.0, gamma=0.01, max_iter=100.0 ...............................\n",
      "[CV]  C=1.0, gamma=0.01, max_iter=10.0, score=0.8199917046868519, total=   0.6s\n",
      "[CV] C=1.0, gamma=0.01, max_iter=100.0 ...............................\n",
      "[CV]  C=0.1, gamma=1.0, max_iter=10000.0, score=0.5047658516369664, total= 2.5min\n",
      "[CV] C=1.0, gamma=0.01, max_iter=100.0 ...............................\n"
     ]
    },
    {
     "name": "stderr",
     "output_type": "stream",
     "text": [
      "/home/ubuntu/anaconda3/envs/tensorflow_p36/lib/python3.6/site-packages/sklearn/svm/base.py:218: ConvergenceWarning: Solver terminated early (max_iter=100).  Consider pre-processing your data with StandardScaler or MinMaxScaler.\n",
      "  % self.max_iter, ConvergenceWarning)\n",
      "/home/ubuntu/anaconda3/envs/tensorflow_p36/lib/python3.6/site-packages/sklearn/svm/base.py:218: ConvergenceWarning: Solver terminated early (max_iter=100).  Consider pre-processing your data with StandardScaler or MinMaxScaler.\n",
      "  % self.max_iter, ConvergenceWarning)\n"
     ]
    },
    {
     "name": "stdout",
     "output_type": "stream",
     "text": [
      "[CV]  C=0.1, gamma=1.0, max_iter=10000.0, score=0.504769805060141, total= 2.5min\n",
      "[CV] C=1.0, gamma=0.01, max_iter=100.0 ...............................\n"
     ]
    },
    {
     "name": "stderr",
     "output_type": "stream",
     "text": [
      "/home/ubuntu/anaconda3/envs/tensorflow_p36/lib/python3.6/site-packages/sklearn/svm/base.py:218: ConvergenceWarning: Solver terminated early (max_iter=100).  Consider pre-processing your data with StandardScaler or MinMaxScaler.\n",
      "  % self.max_iter, ConvergenceWarning)\n"
     ]
    },
    {
     "name": "stdout",
     "output_type": "stream",
     "text": [
      "[CV]  C=1.0, gamma=0.01, max_iter=100.0, score=0.8980099502487562, total=   3.6s\n",
      "[CV]  C=1.0, gamma=0.01, max_iter=100.0, score=0.9108992954828015, total=   3.8s\n",
      "[CV] C=1.0, gamma=0.01, max_iter=1000.0 ..............................\n",
      "[CV] C=1.0, gamma=0.01, max_iter=1000.0 ..............................\n"
     ]
    },
    {
     "name": "stderr",
     "output_type": "stream",
     "text": [
      "/home/ubuntu/anaconda3/envs/tensorflow_p36/lib/python3.6/site-packages/sklearn/svm/base.py:218: ConvergenceWarning: Solver terminated early (max_iter=100).  Consider pre-processing your data with StandardScaler or MinMaxScaler.\n",
      "  % self.max_iter, ConvergenceWarning)\n"
     ]
    },
    {
     "name": "stdout",
     "output_type": "stream",
     "text": [
      "[CV]  C=1.0, gamma=0.01, max_iter=100.0, score=0.8813770219825798, total=   3.6s\n",
      "[CV] C=1.0, gamma=0.01, max_iter=1000.0 ..............................\n",
      "[CV]  C=1.0, gamma=0.01, max_iter=100.0, score=0.8635420987142265, total=   3.3s\n",
      "[CV] C=1.0, gamma=0.01, max_iter=1000.0 ..............................\n"
     ]
    },
    {
     "name": "stderr",
     "output_type": "stream",
     "text": [
      "/home/ubuntu/anaconda3/envs/tensorflow_p36/lib/python3.6/site-packages/sklearn/svm/base.py:218: ConvergenceWarning: Solver terminated early (max_iter=1000).  Consider pre-processing your data with StandardScaler or MinMaxScaler.\n",
      "  % self.max_iter, ConvergenceWarning)\n",
      "/home/ubuntu/anaconda3/envs/tensorflow_p36/lib/python3.6/site-packages/sklearn/svm/base.py:218: ConvergenceWarning: Solver terminated early (max_iter=1000).  Consider pre-processing your data with StandardScaler or MinMaxScaler.\n",
      "  % self.max_iter, ConvergenceWarning)\n",
      "/home/ubuntu/anaconda3/envs/tensorflow_p36/lib/python3.6/site-packages/sklearn/svm/base.py:218: ConvergenceWarning: Solver terminated early (max_iter=1000).  Consider pre-processing your data with StandardScaler or MinMaxScaler.\n",
      "  % self.max_iter, ConvergenceWarning)\n",
      "/home/ubuntu/anaconda3/envs/tensorflow_p36/lib/python3.6/site-packages/sklearn/svm/base.py:218: ConvergenceWarning: Solver terminated early (max_iter=1000).  Consider pre-processing your data with StandardScaler or MinMaxScaler.\n",
      "  % self.max_iter, ConvergenceWarning)\n"
     ]
    },
    {
     "name": "stdout",
     "output_type": "stream",
     "text": [
      "[CV]  C=1.0, gamma=0.01, max_iter=1000.0, score=0.9834231247409864, total=  21.4s\n",
      "[CV] C=1.0, gamma=0.01, max_iter=10000.0 .............................\n",
      "[CV]  C=1.0, gamma=0.01, max_iter=1000.0, score=0.9821724709784412, total=  22.1s\n",
      "[CV] C=1.0, gamma=0.01, max_iter=10000.0 .............................\n",
      "[CV]  C=1.0, gamma=0.01, max_iter=1000.0, score=0.9825798423890502, total=  21.5s\n",
      "[CV] C=1.0, gamma=0.01, max_iter=10000.0 .............................\n",
      "[CV]  C=1.0, gamma=0.01, max_iter=1000.0, score=0.9900456242223143, total=  22.3s\n",
      "[CV] C=1.0, gamma=0.01, max_iter=10000.0 .............................\n",
      "[CV]  C=0.1, gamma=10.0, max_iter=10000.0, score=0.504769805060141, total= 2.3min\n",
      "[CV] C=1.0, gamma=0.1, max_iter=10.0 .................................\n",
      "[CV]  C=0.1, gamma=10.0, max_iter=10000.0, score=0.5047658516369664, total= 2.4min\n",
      "[CV] C=1.0, gamma=0.1, max_iter=10.0 .................................\n"
     ]
    },
    {
     "name": "stderr",
     "output_type": "stream",
     "text": [
      "/home/ubuntu/anaconda3/envs/tensorflow_p36/lib/python3.6/site-packages/sklearn/svm/base.py:218: ConvergenceWarning: Solver terminated early (max_iter=10).  Consider pre-processing your data with StandardScaler or MinMaxScaler.\n",
      "  % self.max_iter, ConvergenceWarning)\n",
      "/home/ubuntu/anaconda3/envs/tensorflow_p36/lib/python3.6/site-packages/sklearn/svm/base.py:218: ConvergenceWarning: Solver terminated early (max_iter=10).  Consider pre-processing your data with StandardScaler or MinMaxScaler.\n",
      "  % self.max_iter, ConvergenceWarning)\n"
     ]
    },
    {
     "name": "stdout",
     "output_type": "stream",
     "text": [
      "[CV]  C=1.0, gamma=0.1, max_iter=10.0, score=0.6825528387898881, total=   0.5s\n",
      "[CV] C=1.0, gamma=0.1, max_iter=10.0 .................................\n",
      "[CV]  C=1.0, gamma=0.1, max_iter=10.0, score=0.5713101160862355, total=   0.5s\n",
      "[CV] C=1.0, gamma=0.1, max_iter=10.0 .................................\n",
      "[CV]  C=1.0, gamma=0.001, max_iter=10000.0, score=0.953999171156237, total=  40.6s\n",
      "[CV] C=1.0, gamma=0.1, max_iter=100.0 ................................\n"
     ]
    },
    {
     "name": "stderr",
     "output_type": "stream",
     "text": [
      "/home/ubuntu/anaconda3/envs/tensorflow_p36/lib/python3.6/site-packages/sklearn/svm/base.py:218: ConvergenceWarning: Solver terminated early (max_iter=10).  Consider pre-processing your data with StandardScaler or MinMaxScaler.\n",
      "  % self.max_iter, ConvergenceWarning)\n",
      "/home/ubuntu/anaconda3/envs/tensorflow_p36/lib/python3.6/site-packages/sklearn/svm/base.py:218: ConvergenceWarning: Solver terminated early (max_iter=10).  Consider pre-processing your data with StandardScaler or MinMaxScaler.\n",
      "  % self.max_iter, ConvergenceWarning)\n"
     ]
    },
    {
     "name": "stdout",
     "output_type": "stream",
     "text": [
      "[CV]  C=1.0, gamma=0.0001, max_iter=10000.0, score=0.9307915457936179, total= 1.5min\n",
      "[CV]  C=1.0, gamma=0.1, max_iter=10.0, score=0.6275404396515969, total=   0.5s\n",
      "[CV] C=1.0, gamma=0.1, max_iter=100.0 ................................\n",
      "[CV] C=1.0, gamma=0.1, max_iter=100.0 ................................\n",
      "[CV]  C=1.0, gamma=0.1, max_iter=10.0, score=0.5549564496059727, total=   0.5s\n",
      "[CV] C=1.0, gamma=0.1, max_iter=100.0 ................................\n",
      "[CV]  C=1.0, gamma=0.0001, max_iter=10000.0, score=0.9382255389718076, total= 1.5min\n",
      "[CV] C=1.0, gamma=0.1, max_iter=1000.0 ...............................\n",
      "[CV]  C=0.1, gamma=10.0, max_iter=10000.0, score=0.5049751243781094, total= 2.4min\n",
      "[CV] C=1.0, gamma=0.1, max_iter=1000.0 ...............................\n",
      "[CV]  C=1.0, gamma=0.001, max_iter=10000.0, score=0.9601990049751243, total=  41.1s\n",
      "[CV] C=1.0, gamma=0.1, max_iter=1000.0 ...............................\n"
     ]
    },
    {
     "name": "stderr",
     "output_type": "stream",
     "text": [
      "/home/ubuntu/anaconda3/envs/tensorflow_p36/lib/python3.6/site-packages/sklearn/svm/base.py:218: ConvergenceWarning: Solver terminated early (max_iter=100).  Consider pre-processing your data with StandardScaler or MinMaxScaler.\n",
      "  % self.max_iter, ConvergenceWarning)\n",
      "/home/ubuntu/anaconda3/envs/tensorflow_p36/lib/python3.6/site-packages/sklearn/svm/base.py:218: ConvergenceWarning: Solver terminated early (max_iter=100).  Consider pre-processing your data with StandardScaler or MinMaxScaler.\n",
      "  % self.max_iter, ConvergenceWarning)\n",
      "/home/ubuntu/anaconda3/envs/tensorflow_p36/lib/python3.6/site-packages/sklearn/svm/base.py:218: ConvergenceWarning: Solver terminated early (max_iter=100).  Consider pre-processing your data with StandardScaler or MinMaxScaler.\n",
      "  % self.max_iter, ConvergenceWarning)\n",
      "/home/ubuntu/anaconda3/envs/tensorflow_p36/lib/python3.6/site-packages/sklearn/svm/base.py:218: ConvergenceWarning: Solver terminated early (max_iter=100).  Consider pre-processing your data with StandardScaler or MinMaxScaler.\n",
      "  % self.max_iter, ConvergenceWarning)\n"
     ]
    },
    {
     "name": "stdout",
     "output_type": "stream",
     "text": [
      "[CV]  C=1.0, gamma=0.0001, max_iter=10000.0, score=0.92907507258399, total= 1.5min\n",
      "[CV] C=1.0, gamma=0.1, max_iter=1000.0 ...............................\n",
      "[CV]  C=1.0, gamma=0.0001, max_iter=10000.0, score=0.9448361675653256, total= 1.5min\n",
      "[CV] C=1.0, gamma=0.1, max_iter=10000.0 ..............................\n"
     ]
    },
    {
     "name": "stderr",
     "output_type": "stream",
     "text": [
      "[Parallel(n_jobs=-1)]: Done 333 tasks      | elapsed: 23.9min\n"
     ]
    },
    {
     "name": "stdout",
     "output_type": "stream",
     "text": [
      "[CV]  C=1.0, gamma=0.001, max_iter=10000.0, score=0.9601824968892576, total=  40.2s\n",
      "[CV] C=1.0, gamma=0.1, max_iter=10000.0 ..............................\n",
      "[CV]  C=0.1, gamma=10.0, max_iter=10000.0, score=0.504769805060141, total= 2.4min\n",
      "[CV] C=1.0, gamma=0.1, max_iter=10000.0 ..............................\n",
      "[CV]  C=1.0, gamma=0.1, max_iter=100.0, score=0.9647741400745959, total=   3.7s\n",
      "[CV] C=1.0, gamma=0.1, max_iter=10000.0 ..............................\n",
      "[CV]  C=1.0, gamma=0.1, max_iter=100.0, score=0.9448590381426202, total=   3.6s\n",
      "[CV] C=1.0, gamma=1.0, max_iter=10.0 .................................\n",
      "[CV]  C=1.0, gamma=0.1, max_iter=100.0, score=0.7963500622148486, total=   3.6s\n",
      "[CV] C=1.0, gamma=1.0, max_iter=10.0 .................................\n",
      "[CV]  C=1.0, gamma=0.1, max_iter=100.0, score=0.8921609290750726, total=   3.7s\n",
      "[CV] C=1.0, gamma=1.0, max_iter=10.0 .................................\n"
     ]
    },
    {
     "name": "stderr",
     "output_type": "stream",
     "text": [
      "/home/ubuntu/anaconda3/envs/tensorflow_p36/lib/python3.6/site-packages/sklearn/svm/base.py:218: ConvergenceWarning: Solver terminated early (max_iter=10).  Consider pre-processing your data with StandardScaler or MinMaxScaler.\n",
      "  % self.max_iter, ConvergenceWarning)\n",
      "/home/ubuntu/anaconda3/envs/tensorflow_p36/lib/python3.6/site-packages/sklearn/svm/base.py:218: ConvergenceWarning: Solver terminated early (max_iter=10).  Consider pre-processing your data with StandardScaler or MinMaxScaler.\n",
      "  % self.max_iter, ConvergenceWarning)\n"
     ]
    },
    {
     "name": "stdout",
     "output_type": "stream",
     "text": [
      "[CV]  C=1.0, gamma=1.0, max_iter=10.0, score=0.5159552424368007, total=   0.6s\n",
      "[CV] C=1.0, gamma=1.0, max_iter=10.0 .................................\n"
     ]
    },
    {
     "name": "stderr",
     "output_type": "stream",
     "text": [
      "/home/ubuntu/anaconda3/envs/tensorflow_p36/lib/python3.6/site-packages/sklearn/svm/base.py:218: ConvergenceWarning: Solver terminated early (max_iter=10).  Consider pre-processing your data with StandardScaler or MinMaxScaler.\n",
      "  % self.max_iter, ConvergenceWarning)\n"
     ]
    },
    {
     "name": "stdout",
     "output_type": "stream",
     "text": [
      "[CV]  C=1.0, gamma=1.0, max_iter=10.0, score=0.5074626865671642, total=   0.6s\n",
      "[CV] C=1.0, gamma=1.0, max_iter=100.0 ................................\n",
      "[CV]  C=1.0, gamma=1.0, max_iter=10.0, score=0.5006221484861053, total=   0.5s\n",
      "[CV] C=1.0, gamma=1.0, max_iter=100.0 ................................\n"
     ]
    },
    {
     "name": "stderr",
     "output_type": "stream",
     "text": [
      "/home/ubuntu/anaconda3/envs/tensorflow_p36/lib/python3.6/site-packages/sklearn/svm/base.py:218: ConvergenceWarning: Solver terminated early (max_iter=10).  Consider pre-processing your data with StandardScaler or MinMaxScaler.\n",
      "  % self.max_iter, ConvergenceWarning)\n"
     ]
    },
    {
     "name": "stdout",
     "output_type": "stream",
     "text": [
      "[CV]  C=1.0, gamma=0.001, max_iter=10000.0, score=0.9639153878058897, total=  41.5s\n",
      "[CV] C=1.0, gamma=1.0, max_iter=100.0 ................................\n",
      "[CV]  C=1.0, gamma=1.0, max_iter=10.0, score=0.5163832434674409, total=   0.5s\n",
      "[CV] C=1.0, gamma=1.0, max_iter=100.0 ................................\n"
     ]
    },
    {
     "name": "stderr",
     "output_type": "stream",
     "text": [
      "/home/ubuntu/anaconda3/envs/tensorflow_p36/lib/python3.6/site-packages/sklearn/svm/base.py:218: ConvergenceWarning: Solver terminated early (max_iter=100).  Consider pre-processing your data with StandardScaler or MinMaxScaler.\n",
      "  % self.max_iter, ConvergenceWarning)\n",
      "/home/ubuntu/anaconda3/envs/tensorflow_p36/lib/python3.6/site-packages/sklearn/svm/base.py:218: ConvergenceWarning: Solver terminated early (max_iter=100).  Consider pre-processing your data with StandardScaler or MinMaxScaler.\n",
      "  % self.max_iter, ConvergenceWarning)\n",
      "/home/ubuntu/anaconda3/envs/tensorflow_p36/lib/python3.6/site-packages/sklearn/svm/base.py:218: ConvergenceWarning: Solver terminated early (max_iter=100).  Consider pre-processing your data with StandardScaler or MinMaxScaler.\n",
      "  % self.max_iter, ConvergenceWarning)\n",
      "/home/ubuntu/anaconda3/envs/tensorflow_p36/lib/python3.6/site-packages/sklearn/svm/base.py:218: ConvergenceWarning: Solver terminated early (max_iter=100).  Consider pre-processing your data with StandardScaler or MinMaxScaler.\n",
      "  % self.max_iter, ConvergenceWarning)\n"
     ]
    },
    {
     "name": "stdout",
     "output_type": "stream",
     "text": [
      "[CV]  C=1.0, gamma=1.0, max_iter=100.0, score=0.5876502279320348, total=   3.7s\n",
      "[CV] C=1.0, gamma=1.0, max_iter=1000.0 ...............................\n",
      "[CV]  C=1.0, gamma=1.0, max_iter=100.0, score=0.5580431177446102, total=   3.7s\n",
      "[CV] C=1.0, gamma=1.0, max_iter=1000.0 ...............................\n",
      "[CV]  C=1.0, gamma=1.0, max_iter=100.0, score=0.5935296557445043, total=   3.6s\n",
      "[CV] C=1.0, gamma=1.0, max_iter=1000.0 ...............................\n",
      "[CV]  C=1.0, gamma=1.0, max_iter=100.0, score=0.5864786395686438, total=   3.7s\n",
      "[CV] C=1.0, gamma=1.0, max_iter=1000.0 ...............................\n",
      "[CV]  C=1.0, gamma=0.01, max_iter=10000.0, score=0.983008702859511, total=  21.8s\n",
      "[CV] C=1.0, gamma=1.0, max_iter=10000.0 ..............................\n",
      "[CV]  C=1.0, gamma=0.01, max_iter=10000.0, score=0.9825798423890502, total=  21.7s\n",
      "[CV] C=1.0, gamma=1.0, max_iter=10000.0 ..............................\n",
      "[CV]  C=1.0, gamma=0.01, max_iter=10000.0, score=0.9825870646766169, total=  22.4s\n",
      "[CV] C=1.0, gamma=1.0, max_iter=10000.0 ..............................\n",
      "[CV]  C=1.0, gamma=0.01, max_iter=10000.0, score=0.9900456242223143, total=  22.1s\n",
      "[CV] C=1.0, gamma=1.0, max_iter=10000.0 ..............................\n"
     ]
    },
    {
     "name": "stderr",
     "output_type": "stream",
     "text": [
      "/home/ubuntu/anaconda3/envs/tensorflow_p36/lib/python3.6/site-packages/sklearn/svm/base.py:218: ConvergenceWarning: Solver terminated early (max_iter=1000).  Consider pre-processing your data with StandardScaler or MinMaxScaler.\n",
      "  % self.max_iter, ConvergenceWarning)\n",
      "/home/ubuntu/anaconda3/envs/tensorflow_p36/lib/python3.6/site-packages/sklearn/svm/base.py:218: ConvergenceWarning: Solver terminated early (max_iter=1000).  Consider pre-processing your data with StandardScaler or MinMaxScaler.\n",
      "  % self.max_iter, ConvergenceWarning)\n",
      "/home/ubuntu/anaconda3/envs/tensorflow_p36/lib/python3.6/site-packages/sklearn/svm/base.py:218: ConvergenceWarning: Solver terminated early (max_iter=1000).  Consider pre-processing your data with StandardScaler or MinMaxScaler.\n",
      "  % self.max_iter, ConvergenceWarning)\n",
      "/home/ubuntu/anaconda3/envs/tensorflow_p36/lib/python3.6/site-packages/sklearn/svm/base.py:218: ConvergenceWarning: Solver terminated early (max_iter=1000).  Consider pre-processing your data with StandardScaler or MinMaxScaler.\n",
      "  % self.max_iter, ConvergenceWarning)\n",
      "/home/ubuntu/anaconda3/envs/tensorflow_p36/lib/python3.6/site-packages/sklearn/svm/base.py:218: ConvergenceWarning: Solver terminated early (max_iter=1000).  Consider pre-processing your data with StandardScaler or MinMaxScaler.\n",
      "  % self.max_iter, ConvergenceWarning)\n",
      "/home/ubuntu/anaconda3/envs/tensorflow_p36/lib/python3.6/site-packages/sklearn/svm/base.py:218: ConvergenceWarning: Solver terminated early (max_iter=1000).  Consider pre-processing your data with StandardScaler or MinMaxScaler.\n",
      "  % self.max_iter, ConvergenceWarning)\n",
      "/home/ubuntu/anaconda3/envs/tensorflow_p36/lib/python3.6/site-packages/sklearn/svm/base.py:218: ConvergenceWarning: Solver terminated early (max_iter=1000).  Consider pre-processing your data with StandardScaler or MinMaxScaler.\n",
      "  % self.max_iter, ConvergenceWarning)\n",
      "/home/ubuntu/anaconda3/envs/tensorflow_p36/lib/python3.6/site-packages/sklearn/svm/base.py:218: ConvergenceWarning: Solver terminated early (max_iter=1000).  Consider pre-processing your data with StandardScaler or MinMaxScaler.\n",
      "  % self.max_iter, ConvergenceWarning)\n"
     ]
    },
    {
     "name": "stdout",
     "output_type": "stream",
     "text": [
      "[CV]  C=1.0, gamma=0.1, max_iter=1000.0, score=0.9772067965188562, total=  37.5s\n",
      "[CV] C=1.0, gamma=10.0, max_iter=10.0 ................................\n"
     ]
    },
    {
     "name": "stderr",
     "output_type": "stream",
     "text": [
      "/home/ubuntu/anaconda3/envs/tensorflow_p36/lib/python3.6/site-packages/sklearn/svm/base.py:218: ConvergenceWarning: Solver terminated early (max_iter=10).  Consider pre-processing your data with StandardScaler or MinMaxScaler.\n",
      "  % self.max_iter, ConvergenceWarning)\n"
     ]
    },
    {
     "name": "stdout",
     "output_type": "stream",
     "text": [
      "[CV]  C=1.0, gamma=10.0, max_iter=10.0, score=0.6929133858267716, total=   0.6s\n",
      "[CV] C=1.0, gamma=10.0, max_iter=10.0 ................................\n"
     ]
    },
    {
     "name": "stderr",
     "output_type": "stream",
     "text": [
      "/home/ubuntu/anaconda3/envs/tensorflow_p36/lib/python3.6/site-packages/sklearn/svm/base.py:218: ConvergenceWarning: Solver terminated early (max_iter=10).  Consider pre-processing your data with StandardScaler or MinMaxScaler.\n",
      "  % self.max_iter, ConvergenceWarning)\n"
     ]
    },
    {
     "name": "stdout",
     "output_type": "stream",
     "text": [
      "[CV]  C=1.0, gamma=10.0, max_iter=10.0, score=0.6820066334991708, total=   0.6s\n",
      "[CV]  C=1.0, gamma=0.1, max_iter=1000.0, score=0.9875621890547264, total=  38.2s\n",
      "[CV] C=1.0, gamma=10.0, max_iter=10.0 ................................\n",
      "[CV] C=1.0, gamma=10.0, max_iter=10.0 ................................\n",
      "[CV]  C=1.0, gamma=0.1, max_iter=1000.0, score=0.9763583575279967, total=  38.1s\n",
      "[CV] C=1.0, gamma=10.0, max_iter=100.0 ...............................\n"
     ]
    },
    {
     "name": "stderr",
     "output_type": "stream",
     "text": [
      "/home/ubuntu/anaconda3/envs/tensorflow_p36/lib/python3.6/site-packages/sklearn/svm/base.py:218: ConvergenceWarning: Solver terminated early (max_iter=10).  Consider pre-processing your data with StandardScaler or MinMaxScaler.\n",
      "  % self.max_iter, ConvergenceWarning)\n",
      "/home/ubuntu/anaconda3/envs/tensorflow_p36/lib/python3.6/site-packages/sklearn/svm/base.py:218: ConvergenceWarning: Solver terminated early (max_iter=10).  Consider pre-processing your data with StandardScaler or MinMaxScaler.\n",
      "  % self.max_iter, ConvergenceWarning)\n"
     ]
    },
    {
     "name": "stdout",
     "output_type": "stream",
     "text": [
      "[CV]  C=1.0, gamma=10.0, max_iter=10.0, score=0.6914143508917462, total=   0.5s\n",
      "[CV] C=1.0, gamma=10.0, max_iter=100.0 ...............................\n",
      "[CV]  C=1.0, gamma=10.0, max_iter=10.0, score=0.7038573206138532, total=   0.6s\n",
      "[CV] C=1.0, gamma=10.0, max_iter=100.0 ...............................\n",
      "[CV]  C=1.0, gamma=0.1, max_iter=1000.0, score=0.9863127333056823, total=  38.5s\n",
      "[CV] C=1.0, gamma=10.0, max_iter=100.0 ...............................\n"
     ]
    },
    {
     "name": "stderr",
     "output_type": "stream",
     "text": [
      "[Parallel(n_jobs=-1)]: Done 360 tasks      | elapsed: 25.0min\n",
      "/home/ubuntu/anaconda3/envs/tensorflow_p36/lib/python3.6/site-packages/sklearn/svm/base.py:218: ConvergenceWarning: Solver terminated early (max_iter=100).  Consider pre-processing your data with StandardScaler or MinMaxScaler.\n",
      "  % self.max_iter, ConvergenceWarning)\n",
      "/home/ubuntu/anaconda3/envs/tensorflow_p36/lib/python3.6/site-packages/sklearn/svm/base.py:218: ConvergenceWarning: Solver terminated early (max_iter=100).  Consider pre-processing your data with StandardScaler or MinMaxScaler.\n",
      "  % self.max_iter, ConvergenceWarning)\n",
      "/home/ubuntu/anaconda3/envs/tensorflow_p36/lib/python3.6/site-packages/sklearn/svm/base.py:218: ConvergenceWarning: Solver terminated early (max_iter=100).  Consider pre-processing your data with StandardScaler or MinMaxScaler.\n",
      "  % self.max_iter, ConvergenceWarning)\n",
      "/home/ubuntu/anaconda3/envs/tensorflow_p36/lib/python3.6/site-packages/sklearn/svm/base.py:218: ConvergenceWarning: Solver terminated early (max_iter=100).  Consider pre-processing your data with StandardScaler or MinMaxScaler.\n",
      "  % self.max_iter, ConvergenceWarning)\n"
     ]
    },
    {
     "name": "stdout",
     "output_type": "stream",
     "text": [
      "[CV]  C=1.0, gamma=10.0, max_iter=100.0, score=0.9067550766680481, total=   3.6s\n",
      "[CV] C=1.0, gamma=10.0, max_iter=1000.0 ..............................\n",
      "[CV]  C=1.0, gamma=10.0, max_iter=100.0, score=0.9025704809286899, total=   3.7s\n",
      "[CV] C=1.0, gamma=10.0, max_iter=1000.0 ..............................\n",
      "[CV]  C=1.0, gamma=10.0, max_iter=100.0, score=0.8934052260472832, total=   3.6s\n",
      "[CV] C=1.0, gamma=10.0, max_iter=1000.0 ..............................\n",
      "[CV]  C=1.0, gamma=10.0, max_iter=100.0, score=0.8975528826213189, total=   3.5s\n",
      "[CV] C=1.0, gamma=10.0, max_iter=1000.0 ..............................\n",
      "[CV]  C=1.0, gamma=1.0, max_iter=1000.0, score=0.7574626865671642, total=  39.5s\n",
      "[CV] C=1.0, gamma=10.0, max_iter=10000.0 .............................\n",
      "[CV]  C=1.0, gamma=1.0, max_iter=1000.0, score=0.7001244296972211, total=  39.3s\n",
      "[CV] C=1.0, gamma=10.0, max_iter=10000.0 .............................\n",
      "[CV]  C=1.0, gamma=1.0, max_iter=1000.0, score=0.8135101533360961, total=  39.5s\n",
      "[CV] C=1.0, gamma=10.0, max_iter=10000.0 .............................\n",
      "[CV]  C=1.0, gamma=1.0, max_iter=1000.0, score=0.8382413936126089, total=  39.5s\n",
      "[CV] C=1.0, gamma=10.0, max_iter=10000.0 .............................\n"
     ]
    },
    {
     "name": "stderr",
     "output_type": "stream",
     "text": [
      "/home/ubuntu/anaconda3/envs/tensorflow_p36/lib/python3.6/site-packages/sklearn/svm/base.py:218: ConvergenceWarning: Solver terminated early (max_iter=1000).  Consider pre-processing your data with StandardScaler or MinMaxScaler.\n",
      "  % self.max_iter, ConvergenceWarning)\n",
      "/home/ubuntu/anaconda3/envs/tensorflow_p36/lib/python3.6/site-packages/sklearn/svm/base.py:218: ConvergenceWarning: Solver terminated early (max_iter=1000).  Consider pre-processing your data with StandardScaler or MinMaxScaler.\n",
      "  % self.max_iter, ConvergenceWarning)\n",
      "/home/ubuntu/anaconda3/envs/tensorflow_p36/lib/python3.6/site-packages/sklearn/svm/base.py:218: ConvergenceWarning: Solver terminated early (max_iter=1000).  Consider pre-processing your data with StandardScaler or MinMaxScaler.\n",
      "  % self.max_iter, ConvergenceWarning)\n",
      "/home/ubuntu/anaconda3/envs/tensorflow_p36/lib/python3.6/site-packages/sklearn/svm/base.py:218: ConvergenceWarning: Solver terminated early (max_iter=1000).  Consider pre-processing your data with StandardScaler or MinMaxScaler.\n",
      "  % self.max_iter, ConvergenceWarning)\n",
      "/home/ubuntu/anaconda3/envs/tensorflow_p36/lib/python3.6/site-packages/sklearn/svm/base.py:218: ConvergenceWarning: Solver terminated early (max_iter=10000).  Consider pre-processing your data with StandardScaler or MinMaxScaler.\n",
      "  % self.max_iter, ConvergenceWarning)\n",
      "/home/ubuntu/anaconda3/envs/tensorflow_p36/lib/python3.6/site-packages/sklearn/svm/base.py:218: ConvergenceWarning: Solver terminated early (max_iter=10000).  Consider pre-processing your data with StandardScaler or MinMaxScaler.\n",
      "  % self.max_iter, ConvergenceWarning)\n",
      "/home/ubuntu/anaconda3/envs/tensorflow_p36/lib/python3.6/site-packages/sklearn/svm/base.py:218: ConvergenceWarning: Solver terminated early (max_iter=10000).  Consider pre-processing your data with StandardScaler or MinMaxScaler.\n",
      "  % self.max_iter, ConvergenceWarning)\n",
      "/home/ubuntu/anaconda3/envs/tensorflow_p36/lib/python3.6/site-packages/sklearn/svm/base.py:218: ConvergenceWarning: Solver terminated early (max_iter=10000).  Consider pre-processing your data with StandardScaler or MinMaxScaler.\n",
      "  % self.max_iter, ConvergenceWarning)\n"
     ]
    },
    {
     "name": "stdout",
     "output_type": "stream",
     "text": [
      "[CV]  C=1.0, gamma=10.0, max_iter=1000.0, score=0.9593866556154165, total=  39.0s\n",
      "[CV] C=10.0, gamma=0.0001, max_iter=10.0 .............................\n",
      "[CV]  C=1.0, gamma=10.0, max_iter=1000.0, score=0.9610120282040647, total=  38.8s\n",
      "[CV] C=10.0, gamma=0.0001, max_iter=10.0 .............................\n"
     ]
    },
    {
     "name": "stderr",
     "output_type": "stream",
     "text": [
      "/home/ubuntu/anaconda3/envs/tensorflow_p36/lib/python3.6/site-packages/sklearn/svm/base.py:218: ConvergenceWarning: Solver terminated early (max_iter=10).  Consider pre-processing your data with StandardScaler or MinMaxScaler.\n",
      "  % self.max_iter, ConvergenceWarning)\n",
      "/home/ubuntu/anaconda3/envs/tensorflow_p36/lib/python3.6/site-packages/sklearn/svm/base.py:218: ConvergenceWarning: Solver terminated early (max_iter=10).  Consider pre-processing your data with StandardScaler or MinMaxScaler.\n",
      "  % self.max_iter, ConvergenceWarning)\n"
     ]
    },
    {
     "name": "stdout",
     "output_type": "stream",
     "text": [
      "[CV]  C=10.0, gamma=0.0001, max_iter=10.0, score=0.7629506837961044, total=   0.5s\n",
      "[CV] C=10.0, gamma=0.0001, max_iter=10.0 .............................\n",
      "[CV]  C=10.0, gamma=0.0001, max_iter=10.0, score=0.7035655058043118, total=   0.6s\n",
      "[CV] C=10.0, gamma=0.0001, max_iter=10.0 .............................\n",
      "[CV]  C=1.0, gamma=10.0, max_iter=1000.0, score=0.9614427860696517, total=  39.2s\n",
      "[CV] C=10.0, gamma=0.0001, max_iter=100.0 ............................\n"
     ]
    },
    {
     "name": "stderr",
     "output_type": "stream",
     "text": [
      "/home/ubuntu/anaconda3/envs/tensorflow_p36/lib/python3.6/site-packages/sklearn/svm/base.py:218: ConvergenceWarning: Solver terminated early (max_iter=10).  Consider pre-processing your data with StandardScaler or MinMaxScaler.\n",
      "  % self.max_iter, ConvergenceWarning)\n",
      "/home/ubuntu/anaconda3/envs/tensorflow_p36/lib/python3.6/site-packages/sklearn/svm/base.py:218: ConvergenceWarning: Solver terminated early (max_iter=10).  Consider pre-processing your data with StandardScaler or MinMaxScaler.\n",
      "  % self.max_iter, ConvergenceWarning)\n"
     ]
    },
    {
     "name": "stdout",
     "output_type": "stream",
     "text": [
      "[CV]  C=10.0, gamma=0.0001, max_iter=10.0, score=0.7652426379095811, total=   0.6s\n",
      "[CV] C=10.0, gamma=0.0001, max_iter=100.0 ............................\n",
      "[CV]  C=10.0, gamma=0.0001, max_iter=10.0, score=0.7552882621318955, total=   0.5s\n",
      "[CV] C=10.0, gamma=0.0001, max_iter=100.0 ............................\n",
      "[CV]  C=1.0, gamma=10.0, max_iter=1000.0, score=0.972210700953961, total=  39.4s\n",
      "[CV] C=10.0, gamma=0.0001, max_iter=100.0 ............................\n"
     ]
    },
    {
     "name": "stderr",
     "output_type": "stream",
     "text": [
      "/home/ubuntu/anaconda3/envs/tensorflow_p36/lib/python3.6/site-packages/sklearn/svm/base.py:218: ConvergenceWarning: Solver terminated early (max_iter=100).  Consider pre-processing your data with StandardScaler or MinMaxScaler.\n",
      "  % self.max_iter, ConvergenceWarning)\n",
      "/home/ubuntu/anaconda3/envs/tensorflow_p36/lib/python3.6/site-packages/sklearn/svm/base.py:218: ConvergenceWarning: Solver terminated early (max_iter=100).  Consider pre-processing your data with StandardScaler or MinMaxScaler.\n",
      "  % self.max_iter, ConvergenceWarning)\n",
      "/home/ubuntu/anaconda3/envs/tensorflow_p36/lib/python3.6/site-packages/sklearn/svm/base.py:218: ConvergenceWarning: Solver terminated early (max_iter=100).  Consider pre-processing your data with StandardScaler or MinMaxScaler.\n",
      "  % self.max_iter, ConvergenceWarning)\n",
      "/home/ubuntu/anaconda3/envs/tensorflow_p36/lib/python3.6/site-packages/sklearn/svm/base.py:218: ConvergenceWarning: Solver terminated early (max_iter=100).  Consider pre-processing your data with StandardScaler or MinMaxScaler.\n",
      "  % self.max_iter, ConvergenceWarning)\n"
     ]
    },
    {
     "name": "stdout",
     "output_type": "stream",
     "text": [
      "[CV]  C=10.0, gamma=0.0001, max_iter=100.0, score=0.7132200580190634, total=   3.7s\n",
      "[CV] C=10.0, gamma=0.0001, max_iter=1000.0 ...........................\n",
      "[CV]  C=10.0, gamma=0.0001, max_iter=100.0, score=0.7097844112769486, total=   3.6s\n",
      "[CV] C=10.0, gamma=0.0001, max_iter=1000.0 ...........................\n",
      "[CV]  C=10.0, gamma=0.0001, max_iter=100.0, score=0.7341352136043136, total=   3.6s\n",
      "[CV] C=10.0, gamma=0.0001, max_iter=1000.0 ...........................\n",
      "[CV]  C=10.0, gamma=0.0001, max_iter=100.0, score=0.7187888842803816, total=   3.6s\n",
      "[CV] C=10.0, gamma=0.0001, max_iter=1000.0 ...........................\n"
     ]
    },
    {
     "name": "stderr",
     "output_type": "stream",
     "text": [
      "/home/ubuntu/anaconda3/envs/tensorflow_p36/lib/python3.6/site-packages/sklearn/svm/base.py:218: ConvergenceWarning: Solver terminated early (max_iter=1000).  Consider pre-processing your data with StandardScaler or MinMaxScaler.\n",
      "  % self.max_iter, ConvergenceWarning)\n",
      "/home/ubuntu/anaconda3/envs/tensorflow_p36/lib/python3.6/site-packages/sklearn/svm/base.py:218: ConvergenceWarning: Solver terminated early (max_iter=1000).  Consider pre-processing your data with StandardScaler or MinMaxScaler.\n",
      "  % self.max_iter, ConvergenceWarning)\n",
      "/home/ubuntu/anaconda3/envs/tensorflow_p36/lib/python3.6/site-packages/sklearn/svm/base.py:218: ConvergenceWarning: Solver terminated early (max_iter=1000).  Consider pre-processing your data with StandardScaler or MinMaxScaler.\n",
      "  % self.max_iter, ConvergenceWarning)\n",
      "/home/ubuntu/anaconda3/envs/tensorflow_p36/lib/python3.6/site-packages/sklearn/svm/base.py:218: ConvergenceWarning: Solver terminated early (max_iter=1000).  Consider pre-processing your data with StandardScaler or MinMaxScaler.\n",
      "  % self.max_iter, ConvergenceWarning)\n",
      "/home/ubuntu/anaconda3/envs/tensorflow_p36/lib/python3.6/site-packages/sklearn/svm/base.py:218: ConvergenceWarning: Solver terminated early (max_iter=10000).  Consider pre-processing your data with StandardScaler or MinMaxScaler.\n",
      "  % self.max_iter, ConvergenceWarning)\n",
      "/home/ubuntu/anaconda3/envs/tensorflow_p36/lib/python3.6/site-packages/sklearn/svm/base.py:218: ConvergenceWarning: Solver terminated early (max_iter=10000).  Consider pre-processing your data with StandardScaler or MinMaxScaler.\n",
      "  % self.max_iter, ConvergenceWarning)\n",
      "/home/ubuntu/anaconda3/envs/tensorflow_p36/lib/python3.6/site-packages/sklearn/svm/base.py:218: ConvergenceWarning: Solver terminated early (max_iter=10000).  Consider pre-processing your data with StandardScaler or MinMaxScaler.\n",
      "  % self.max_iter, ConvergenceWarning)\n",
      "/home/ubuntu/anaconda3/envs/tensorflow_p36/lib/python3.6/site-packages/sklearn/svm/base.py:218: ConvergenceWarning: Solver terminated early (max_iter=10000).  Consider pre-processing your data with StandardScaler or MinMaxScaler.\n",
      "  % self.max_iter, ConvergenceWarning)\n"
     ]
    },
    {
     "name": "stdout",
     "output_type": "stream",
     "text": [
      "[CV]  C=1.0, gamma=0.1, max_iter=10000.0, score=0.9639452963116453, total= 2.0min\n",
      "[CV] C=10.0, gamma=0.0001, max_iter=10000.0 ..........................\n",
      "[CV]  C=1.0, gamma=0.1, max_iter=10000.0, score=0.9755288262131896, total= 2.0min\n",
      "[CV] C=10.0, gamma=0.0001, max_iter=10000.0 ..........................\n",
      "[CV]  C=1.0, gamma=0.1, max_iter=10000.0, score=0.9817578772802653, total= 2.0min\n",
      "[CV] C=10.0, gamma=0.0001, max_iter=10000.0 ..........................\n",
      "[CV]  C=1.0, gamma=0.1, max_iter=10000.0, score=0.9655744504355039, total= 2.0min\n",
      "[CV] C=10.0, gamma=0.0001, max_iter=10000.0 ..........................\n",
      "[CV]  C=10.0, gamma=0.0001, max_iter=1000.0, score=0.9552053090004148, total=  37.3s\n",
      "[CV] C=10.0, gamma=0.001, max_iter=10.0 ..............................\n",
      "[CV]  C=10.0, gamma=0.0001, max_iter=1000.0, score=0.9510982179859097, total=  37.7s\n",
      "[CV] C=10.0, gamma=0.001, max_iter=10.0 ..............................\n"
     ]
    },
    {
     "name": "stderr",
     "output_type": "stream",
     "text": [
      "/home/ubuntu/anaconda3/envs/tensorflow_p36/lib/python3.6/site-packages/sklearn/svm/base.py:218: ConvergenceWarning: Solver terminated early (max_iter=10).  Consider pre-processing your data with StandardScaler or MinMaxScaler.\n",
      "  % self.max_iter, ConvergenceWarning)\n"
     ]
    },
    {
     "name": "stdout",
     "output_type": "stream",
     "text": [
      "[CV]  C=10.0, gamma=0.0001, max_iter=1000.0, score=0.956882255389718, total=  37.7s\n",
      "[CV] C=10.0, gamma=0.001, max_iter=10.0 ..............................\n"
     ]
    },
    {
     "name": "stderr",
     "output_type": "stream",
     "text": [
      "/home/ubuntu/anaconda3/envs/tensorflow_p36/lib/python3.6/site-packages/sklearn/svm/base.py:218: ConvergenceWarning: Solver terminated early (max_iter=10).  Consider pre-processing your data with StandardScaler or MinMaxScaler.\n",
      "  % self.max_iter, ConvergenceWarning)\n"
     ]
    },
    {
     "name": "stdout",
     "output_type": "stream",
     "text": [
      "[CV]  C=10.0, gamma=0.001, max_iter=10.0, score=0.7190219643597182, total=   0.5s\n",
      "[CV] C=10.0, gamma=0.001, max_iter=10.0 ..............................\n",
      "[CV]  C=10.0, gamma=0.001, max_iter=10.0, score=0.7491708126036484, total=   0.6s\n",
      "[CV] C=10.0, gamma=0.001, max_iter=100.0 .............................\n"
     ]
    },
    {
     "name": "stderr",
     "output_type": "stream",
     "text": [
      "/home/ubuntu/anaconda3/envs/tensorflow_p36/lib/python3.6/site-packages/sklearn/svm/base.py:218: ConvergenceWarning: Solver terminated early (max_iter=10).  Consider pre-processing your data with StandardScaler or MinMaxScaler.\n",
      "  % self.max_iter, ConvergenceWarning)\n",
      "[Parallel(n_jobs=-1)]: Done 389 tasks      | elapsed: 27.3min\n"
     ]
    },
    {
     "name": "stdout",
     "output_type": "stream",
     "text": [
      "[CV]  C=10.0, gamma=0.001, max_iter=10.0, score=0.795935296557445, total=   0.6s\n"
     ]
    },
    {
     "name": "stderr",
     "output_type": "stream",
     "text": [
      "/home/ubuntu/anaconda3/envs/tensorflow_p36/lib/python3.6/site-packages/sklearn/svm/base.py:218: ConvergenceWarning: Solver terminated early (max_iter=10).  Consider pre-processing your data with StandardScaler or MinMaxScaler.\n",
      "  % self.max_iter, ConvergenceWarning)\n"
     ]
    },
    {
     "name": "stdout",
     "output_type": "stream",
     "text": [
      "[CV] C=10.0, gamma=0.001, max_iter=100.0 .............................\n",
      "[CV]  C=10.0, gamma=0.001, max_iter=10.0, score=0.7374533388635421, total=   0.6s\n",
      "[CV] C=10.0, gamma=0.001, max_iter=100.0 .............................\n",
      "[CV]  C=10.0, gamma=0.0001, max_iter=1000.0, score=0.9635006221484861, total=  38.2s\n",
      "[CV] C=10.0, gamma=0.001, max_iter=100.0 .............................\n"
     ]
    },
    {
     "name": "stderr",
     "output_type": "stream",
     "text": [
      "/home/ubuntu/anaconda3/envs/tensorflow_p36/lib/python3.6/site-packages/sklearn/svm/base.py:218: ConvergenceWarning: Solver terminated early (max_iter=100).  Consider pre-processing your data with StandardScaler or MinMaxScaler.\n",
      "  % self.max_iter, ConvergenceWarning)\n",
      "/home/ubuntu/anaconda3/envs/tensorflow_p36/lib/python3.6/site-packages/sklearn/svm/base.py:218: ConvergenceWarning: Solver terminated early (max_iter=100).  Consider pre-processing your data with StandardScaler or MinMaxScaler.\n",
      "  % self.max_iter, ConvergenceWarning)\n",
      "/home/ubuntu/anaconda3/envs/tensorflow_p36/lib/python3.6/site-packages/sklearn/svm/base.py:218: ConvergenceWarning: Solver terminated early (max_iter=100).  Consider pre-processing your data with StandardScaler or MinMaxScaler.\n",
      "  % self.max_iter, ConvergenceWarning)\n",
      "/home/ubuntu/anaconda3/envs/tensorflow_p36/lib/python3.6/site-packages/sklearn/svm/base.py:218: ConvergenceWarning: Solver terminated early (max_iter=100).  Consider pre-processing your data with StandardScaler or MinMaxScaler.\n",
      "  % self.max_iter, ConvergenceWarning)\n"
     ]
    },
    {
     "name": "stdout",
     "output_type": "stream",
     "text": [
      "[CV]  C=10.0, gamma=0.001, max_iter=100.0, score=0.7496891835888935, total=   3.7s\n",
      "[CV] C=10.0, gamma=0.001, max_iter=1000.0 ............................\n",
      "[CV]  C=10.0, gamma=0.001, max_iter=100.0, score=0.7412935323383084, total=   3.7s\n",
      "[CV] C=10.0, gamma=0.001, max_iter=1000.0 ............................\n",
      "[CV]  C=10.0, gamma=0.001, max_iter=100.0, score=0.8672749896308586, total=   3.6s\n",
      "[CV] C=10.0, gamma=0.001, max_iter=1000.0 ............................\n",
      "[CV]  C=10.0, gamma=0.001, max_iter=100.0, score=0.7814184985483202, total=   3.5s\n",
      "[CV] C=10.0, gamma=0.001, max_iter=1000.0 ............................\n"
     ]
    },
    {
     "name": "stderr",
     "output_type": "stream",
     "text": [
      "/home/ubuntu/anaconda3/envs/tensorflow_p36/lib/python3.6/site-packages/sklearn/svm/base.py:218: ConvergenceWarning: Solver terminated early (max_iter=1000).  Consider pre-processing your data with StandardScaler or MinMaxScaler.\n",
      "  % self.max_iter, ConvergenceWarning)\n",
      "/home/ubuntu/anaconda3/envs/tensorflow_p36/lib/python3.6/site-packages/sklearn/svm/base.py:218: ConvergenceWarning: Solver terminated early (max_iter=1000).  Consider pre-processing your data with StandardScaler or MinMaxScaler.\n",
      "  % self.max_iter, ConvergenceWarning)\n",
      "/home/ubuntu/anaconda3/envs/tensorflow_p36/lib/python3.6/site-packages/sklearn/svm/base.py:218: ConvergenceWarning: Solver terminated early (max_iter=1000).  Consider pre-processing your data with StandardScaler or MinMaxScaler.\n",
      "  % self.max_iter, ConvergenceWarning)\n",
      "/home/ubuntu/anaconda3/envs/tensorflow_p36/lib/python3.6/site-packages/sklearn/svm/base.py:218: ConvergenceWarning: Solver terminated early (max_iter=1000).  Consider pre-processing your data with StandardScaler or MinMaxScaler.\n",
      "  % self.max_iter, ConvergenceWarning)\n"
     ]
    },
    {
     "name": "stdout",
     "output_type": "stream",
     "text": [
      "[CV]  C=10.0, gamma=0.001, max_iter=1000.0, score=0.9689183588893494, total=  21.0s\n",
      "[CV] C=10.0, gamma=0.001, max_iter=10000.0 ...........................\n",
      "[CV]  C=10.0, gamma=0.001, max_iter=1000.0, score=0.9705638474295191, total=  21.4s\n",
      "[CV] C=10.0, gamma=0.001, max_iter=10000.0 ...........................\n",
      "[CV]  C=10.0, gamma=0.001, max_iter=1000.0, score=0.9713811696391539, total=  21.2s\n",
      "[CV] C=10.0, gamma=0.001, max_iter=10000.0 ...........................\n",
      "[CV]  C=10.0, gamma=0.001, max_iter=1000.0, score=0.9763583575279967, total=  22.2s\n",
      "[CV] C=10.0, gamma=0.001, max_iter=10000.0 ...........................\n",
      "[CV]  C=1.0, gamma=1.0, max_iter=10000.0, score=0.5047658516369664, total= 2.4min\n",
      "[CV] C=10.0, gamma=0.01, max_iter=10.0 ...............................\n"
     ]
    },
    {
     "name": "stderr",
     "output_type": "stream",
     "text": [
      "/home/ubuntu/anaconda3/envs/tensorflow_p36/lib/python3.6/site-packages/sklearn/svm/base.py:218: ConvergenceWarning: Solver terminated early (max_iter=10).  Consider pre-processing your data with StandardScaler or MinMaxScaler.\n",
      "  % self.max_iter, ConvergenceWarning)\n"
     ]
    },
    {
     "name": "stdout",
     "output_type": "stream",
     "text": [
      "[CV]  C=10.0, gamma=0.01, max_iter=10.0, score=0.7447161210111893, total=   0.5s\n",
      "[CV] C=10.0, gamma=0.01, max_iter=10.0 ...............................\n"
     ]
    },
    {
     "name": "stderr",
     "output_type": "stream",
     "text": [
      "/home/ubuntu/anaconda3/envs/tensorflow_p36/lib/python3.6/site-packages/sklearn/svm/base.py:218: ConvergenceWarning: Solver terminated early (max_iter=10).  Consider pre-processing your data with StandardScaler or MinMaxScaler.\n",
      "  % self.max_iter, ConvergenceWarning)\n"
     ]
    },
    {
     "name": "stdout",
     "output_type": "stream",
     "text": [
      "[CV]  C=10.0, gamma=0.01, max_iter=10.0, score=0.7014925373134329, total=   0.5s\n",
      "[CV] C=10.0, gamma=0.01, max_iter=10.0 ...............................\n"
     ]
    },
    {
     "name": "stderr",
     "output_type": "stream",
     "text": [
      "/home/ubuntu/anaconda3/envs/tensorflow_p36/lib/python3.6/site-packages/sklearn/svm/base.py:218: ConvergenceWarning: Solver terminated early (max_iter=10).  Consider pre-processing your data with StandardScaler or MinMaxScaler.\n",
      "  % self.max_iter, ConvergenceWarning)\n"
     ]
    },
    {
     "name": "stdout",
     "output_type": "stream",
     "text": [
      "[CV]  C=10.0, gamma=0.01, max_iter=10.0, score=0.8042306097055164, total=   0.5s\n",
      "[CV] C=10.0, gamma=0.01, max_iter=10.0 ...............................\n",
      "[CV]  C=10.0, gamma=0.0001, max_iter=10000.0, score=0.9523414836303357, total=  40.1s\n",
      "[CV] C=10.0, gamma=0.01, max_iter=100.0 ..............................\n",
      "[CV]  C=1.0, gamma=1.0, max_iter=10000.0, score=0.5049751243781094, total= 2.4min\n",
      "[CV] C=10.0, gamma=0.01, max_iter=100.0 ..............................\n"
     ]
    },
    {
     "name": "stderr",
     "output_type": "stream",
     "text": [
      "/home/ubuntu/anaconda3/envs/tensorflow_p36/lib/python3.6/site-packages/sklearn/svm/base.py:218: ConvergenceWarning: Solver terminated early (max_iter=10).  Consider pre-processing your data with StandardScaler or MinMaxScaler.\n",
      "  % self.max_iter, ConvergenceWarning)\n"
     ]
    },
    {
     "name": "stdout",
     "output_type": "stream",
     "text": [
      "[CV]  C=10.0, gamma=0.01, max_iter=10.0, score=0.6316880962256325, total=   0.6s\n",
      "[CV]  C=10.0, gamma=0.0001, max_iter=10000.0, score=0.9589552238805971, total=  40.0s\n",
      "[CV] C=10.0, gamma=0.01, max_iter=100.0 ..............................\n",
      "[CV] C=10.0, gamma=0.01, max_iter=100.0 ..............................\n",
      "[CV]  C=1.0, gamma=1.0, max_iter=10000.0, score=0.504769805060141, total= 2.4min\n",
      "[CV] C=10.0, gamma=0.01, max_iter=1000.0 .............................\n",
      "[CV]  C=10.0, gamma=0.0001, max_iter=10000.0, score=0.9560348403152219, total=  40.3s\n",
      "[CV] C=10.0, gamma=0.01, max_iter=1000.0 .............................\n"
     ]
    },
    {
     "name": "stderr",
     "output_type": "stream",
     "text": [
      "/home/ubuntu/anaconda3/envs/tensorflow_p36/lib/python3.6/site-packages/sklearn/svm/base.py:218: ConvergenceWarning: Solver terminated early (max_iter=100).  Consider pre-processing your data with StandardScaler or MinMaxScaler.\n",
      "  % self.max_iter, ConvergenceWarning)\n"
     ]
    },
    {
     "name": "stdout",
     "output_type": "stream",
     "text": [
      "[CV]  C=1.0, gamma=1.0, max_iter=10000.0, score=0.504769805060141, total= 2.3min\n"
     ]
    },
    {
     "name": "stderr",
     "output_type": "stream",
     "text": [
      "/home/ubuntu/anaconda3/envs/tensorflow_p36/lib/python3.6/site-packages/sklearn/svm/base.py:218: ConvergenceWarning: Solver terminated early (max_iter=100).  Consider pre-processing your data with StandardScaler or MinMaxScaler.\n",
      "  % self.max_iter, ConvergenceWarning)\n"
     ]
    },
    {
     "name": "stdout",
     "output_type": "stream",
     "text": [
      "[CV] C=10.0, gamma=0.01, max_iter=1000.0 .............................\n"
     ]
    },
    {
     "name": "stderr",
     "output_type": "stream",
     "text": [
      "/home/ubuntu/anaconda3/envs/tensorflow_p36/lib/python3.6/site-packages/sklearn/svm/base.py:218: ConvergenceWarning: Solver terminated early (max_iter=100).  Consider pre-processing your data with StandardScaler or MinMaxScaler.\n",
      "  % self.max_iter, ConvergenceWarning)\n"
     ]
    },
    {
     "name": "stdout",
     "output_type": "stream",
     "text": [
      "[CV]  C=10.0, gamma=0.0001, max_iter=10000.0, score=0.9618415595188718, total=  41.4s\n",
      "[CV] C=10.0, gamma=0.01, max_iter=1000.0 .............................\n"
     ]
    },
    {
     "name": "stderr",
     "output_type": "stream",
     "text": [
      "/home/ubuntu/anaconda3/envs/tensorflow_p36/lib/python3.6/site-packages/sklearn/svm/base.py:218: ConvergenceWarning: Solver terminated early (max_iter=100).  Consider pre-processing your data with StandardScaler or MinMaxScaler.\n",
      "  % self.max_iter, ConvergenceWarning)\n"
     ]
    },
    {
     "name": "stdout",
     "output_type": "stream",
     "text": [
      "[CV]  C=10.0, gamma=0.01, max_iter=100.0, score=0.9639452963116453, total=   3.5s\n",
      "[CV] C=10.0, gamma=0.01, max_iter=10000.0 ............................\n",
      "[CV]  C=10.0, gamma=0.01, max_iter=100.0, score=0.9286898839137645, total=   3.5s\n",
      "[CV] C=10.0, gamma=0.01, max_iter=10000.0 ............................\n",
      "[CV]  C=10.0, gamma=0.01, max_iter=100.0, score=0.9643301534632932, total=   3.4s\n",
      "[CV] C=10.0, gamma=0.01, max_iter=10000.0 ............................\n",
      "[CV]  C=10.0, gamma=0.01, max_iter=100.0, score=0.947324761509747, total=   3.5s\n",
      "[CV] C=10.0, gamma=0.01, max_iter=10000.0 ............................\n"
     ]
    },
    {
     "name": "stderr",
     "output_type": "stream",
     "text": [
      "/home/ubuntu/anaconda3/envs/tensorflow_p36/lib/python3.6/site-packages/sklearn/svm/base.py:218: ConvergenceWarning: Solver terminated early (max_iter=1000).  Consider pre-processing your data with StandardScaler or MinMaxScaler.\n",
      "  % self.max_iter, ConvergenceWarning)\n",
      "/home/ubuntu/anaconda3/envs/tensorflow_p36/lib/python3.6/site-packages/sklearn/svm/base.py:218: ConvergenceWarning: Solver terminated early (max_iter=1000).  Consider pre-processing your data with StandardScaler or MinMaxScaler.\n",
      "  % self.max_iter, ConvergenceWarning)\n",
      "/home/ubuntu/anaconda3/envs/tensorflow_p36/lib/python3.6/site-packages/sklearn/svm/base.py:218: ConvergenceWarning: Solver terminated early (max_iter=1000).  Consider pre-processing your data with StandardScaler or MinMaxScaler.\n",
      "  % self.max_iter, ConvergenceWarning)\n",
      "/home/ubuntu/anaconda3/envs/tensorflow_p36/lib/python3.6/site-packages/sklearn/svm/base.py:218: ConvergenceWarning: Solver terminated early (max_iter=1000).  Consider pre-processing your data with StandardScaler or MinMaxScaler.\n",
      "  % self.max_iter, ConvergenceWarning)\n"
     ]
    },
    {
     "name": "stdout",
     "output_type": "stream",
     "text": [
      "[CV]  C=10.0, gamma=0.01, max_iter=1000.0, score=0.9875673435557397, total=  13.8s\n",
      "[CV] C=10.0, gamma=0.1, max_iter=10.0 ................................\n"
     ]
    },
    {
     "name": "stderr",
     "output_type": "stream",
     "text": [
      "/home/ubuntu/anaconda3/envs/tensorflow_p36/lib/python3.6/site-packages/sklearn/svm/base.py:218: ConvergenceWarning: Solver terminated early (max_iter=10).  Consider pre-processing your data with StandardScaler or MinMaxScaler.\n",
      "  % self.max_iter, ConvergenceWarning)\n"
     ]
    },
    {
     "name": "stdout",
     "output_type": "stream",
     "text": [
      "[CV]  C=10.0, gamma=0.1, max_iter=10.0, score=0.6087857438872772, total=   0.6s\n",
      "[CV] C=10.0, gamma=0.1, max_iter=10.0 ................................\n"
     ]
    },
    {
     "name": "stderr",
     "output_type": "stream",
     "text": [
      "[Parallel(n_jobs=-1)]: Done 418 tasks      | elapsed: 28.5min\n"
     ]
    },
    {
     "name": "stdout",
     "output_type": "stream",
     "text": [
      "[CV]  C=10.0, gamma=0.01, max_iter=1000.0, score=0.9900497512437811, total=  14.2s\n",
      "[CV] C=10.0, gamma=0.1, max_iter=10.0 ................................\n"
     ]
    },
    {
     "name": "stderr",
     "output_type": "stream",
     "text": [
      "/home/ubuntu/anaconda3/envs/tensorflow_p36/lib/python3.6/site-packages/sklearn/svm/base.py:218: ConvergenceWarning: Solver terminated early (max_iter=10).  Consider pre-processing your data with StandardScaler or MinMaxScaler.\n",
      "  % self.max_iter, ConvergenceWarning)\n"
     ]
    },
    {
     "name": "stdout",
     "output_type": "stream",
     "text": [
      "[CV]  C=10.0, gamma=0.1, max_iter=10.0, score=0.5953565505804311, total=   0.6s\n",
      "[CV] C=10.0, gamma=0.1, max_iter=10.0 ................................\n"
     ]
    },
    {
     "name": "stderr",
     "output_type": "stream",
     "text": [
      "/home/ubuntu/anaconda3/envs/tensorflow_p36/lib/python3.6/site-packages/sklearn/svm/base.py:218: ConvergenceWarning: Solver terminated early (max_iter=10).  Consider pre-processing your data with StandardScaler or MinMaxScaler.\n",
      "  % self.max_iter, ConvergenceWarning)\n"
     ]
    },
    {
     "name": "stdout",
     "output_type": "stream",
     "text": [
      "[CV]  C=10.0, gamma=0.1, max_iter=10.0, score=0.6955620074657818, total=   0.6s\n",
      "[CV] C=10.0, gamma=0.1, max_iter=100.0 ...............................\n"
     ]
    },
    {
     "name": "stderr",
     "output_type": "stream",
     "text": [
      "/home/ubuntu/anaconda3/envs/tensorflow_p36/lib/python3.6/site-packages/sklearn/svm/base.py:218: ConvergenceWarning: Solver terminated early (max_iter=10).  Consider pre-processing your data with StandardScaler or MinMaxScaler.\n",
      "  % self.max_iter, ConvergenceWarning)\n"
     ]
    },
    {
     "name": "stdout",
     "output_type": "stream",
     "text": [
      "[CV]  C=10.0, gamma=0.1, max_iter=10.0, score=0.6603069265864786, total=   0.5s\n",
      "[CV] C=10.0, gamma=0.1, max_iter=100.0 ...............................\n",
      "[CV]  C=10.0, gamma=0.01, max_iter=1000.0, score=0.9892160929075072, total=  14.2s\n",
      "[CV]  C=10.0, gamma=0.001, max_iter=10000.0, score=0.9689183588893494, total=  20.8s\n",
      "[CV] C=10.0, gamma=0.1, max_iter=100.0 ...............................\n",
      "[CV] C=10.0, gamma=0.1, max_iter=100.0 ...............................\n",
      "[CV]  C=10.0, gamma=0.001, max_iter=10000.0, score=0.9705638474295191, total=  20.6s\n",
      "[CV] C=10.0, gamma=0.1, max_iter=1000.0 ..............................\n",
      "[CV]  C=10.0, gamma=0.001, max_iter=10000.0, score=0.9709664039817503, total=  21.2s\n",
      "[CV] C=10.0, gamma=0.1, max_iter=1000.0 ..............................\n",
      "[CV]  C=10.0, gamma=0.01, max_iter=1000.0, score=0.9917046868519287, total=  15.3s\n",
      "[CV] C=10.0, gamma=0.1, max_iter=1000.0 ..............................\n"
     ]
    },
    {
     "name": "stderr",
     "output_type": "stream",
     "text": [
      "/home/ubuntu/anaconda3/envs/tensorflow_p36/lib/python3.6/site-packages/sklearn/svm/base.py:218: ConvergenceWarning: Solver terminated early (max_iter=100).  Consider pre-processing your data with StandardScaler or MinMaxScaler.\n",
      "  % self.max_iter, ConvergenceWarning)\n",
      "/home/ubuntu/anaconda3/envs/tensorflow_p36/lib/python3.6/site-packages/sklearn/svm/base.py:218: ConvergenceWarning: Solver terminated early (max_iter=100).  Consider pre-processing your data with StandardScaler or MinMaxScaler.\n",
      "  % self.max_iter, ConvergenceWarning)\n",
      "/home/ubuntu/anaconda3/envs/tensorflow_p36/lib/python3.6/site-packages/sklearn/svm/base.py:218: ConvergenceWarning: Solver terminated early (max_iter=100).  Consider pre-processing your data with StandardScaler or MinMaxScaler.\n",
      "  % self.max_iter, ConvergenceWarning)\n",
      "/home/ubuntu/anaconda3/envs/tensorflow_p36/lib/python3.6/site-packages/sklearn/svm/base.py:218: ConvergenceWarning: Solver terminated early (max_iter=100).  Consider pre-processing your data with StandardScaler or MinMaxScaler.\n",
      "  % self.max_iter, ConvergenceWarning)\n"
     ]
    },
    {
     "name": "stdout",
     "output_type": "stream",
     "text": [
      "[CV]  C=10.0, gamma=0.01, max_iter=10000.0, score=0.986738499792789, total=  15.6s\n",
      "[CV] C=10.0, gamma=0.1, max_iter=1000.0 ..............................\n",
      "[CV]  C=10.0, gamma=0.01, max_iter=10000.0, score=0.9896351575456053, total=  16.0s\n",
      "[CV] C=10.0, gamma=0.1, max_iter=10000.0 .............................\n",
      "[CV]  C=10.0, gamma=0.01, max_iter=10000.0, score=0.990460389879718, total=  16.1s\n",
      "[CV] C=10.0, gamma=0.1, max_iter=10000.0 .............................\n",
      "[CV]  C=10.0, gamma=0.001, max_iter=10000.0, score=0.9759435918705931, total=  21.8s\n",
      "[CV] C=10.0, gamma=0.1, max_iter=10000.0 .............................\n",
      "[CV]  C=10.0, gamma=0.1, max_iter=100.0, score=0.8810609200165769, total=   3.7s\n",
      "[CV] C=10.0, gamma=0.1, max_iter=10000.0 .............................\n",
      "[CV]  C=10.0, gamma=0.1, max_iter=100.0, score=0.896351575456053, total=   3.7s\n",
      "[CV] C=10.0, gamma=1.0, max_iter=10.0 ................................\n",
      "[CV]  C=10.0, gamma=0.1, max_iter=100.0, score=0.9668187474077147, total=   3.6s\n",
      "[CV] C=10.0, gamma=1.0, max_iter=10.0 ................................\n",
      "[CV]  C=10.0, gamma=0.1, max_iter=100.0, score=0.9531314807133969, total=   3.7s\n",
      "[CV] C=10.0, gamma=1.0, max_iter=10.0 ................................\n"
     ]
    },
    {
     "name": "stderr",
     "output_type": "stream",
     "text": [
      "/home/ubuntu/anaconda3/envs/tensorflow_p36/lib/python3.6/site-packages/sklearn/svm/base.py:218: ConvergenceWarning: Solver terminated early (max_iter=10).  Consider pre-processing your data with StandardScaler or MinMaxScaler.\n",
      "  % self.max_iter, ConvergenceWarning)\n",
      "/home/ubuntu/anaconda3/envs/tensorflow_p36/lib/python3.6/site-packages/sklearn/svm/base.py:218: ConvergenceWarning: Solver terminated early (max_iter=10).  Consider pre-processing your data with StandardScaler or MinMaxScaler.\n",
      "  % self.max_iter, ConvergenceWarning)\n"
     ]
    },
    {
     "name": "stdout",
     "output_type": "stream",
     "text": [
      "[CV]  C=10.0, gamma=1.0, max_iter=10.0, score=0.5055946953999171, total=   0.6s\n",
      "[CV] C=10.0, gamma=1.0, max_iter=10.0 ................................\n"
     ]
    },
    {
     "name": "stderr",
     "output_type": "stream",
     "text": [
      "/home/ubuntu/anaconda3/envs/tensorflow_p36/lib/python3.6/site-packages/sklearn/svm/base.py:218: ConvergenceWarning: Solver terminated early (max_iter=10).  Consider pre-processing your data with StandardScaler or MinMaxScaler.\n",
      "  % self.max_iter, ConvergenceWarning)\n"
     ]
    },
    {
     "name": "stdout",
     "output_type": "stream",
     "text": [
      "[CV]  C=10.0, gamma=1.0, max_iter=10.0, score=0.5020729684908789, total=   0.6s\n",
      "[CV] C=10.0, gamma=1.0, max_iter=100.0 ...............................\n",
      "[CV]  C=10.0, gamma=0.01, max_iter=10000.0, score=0.9917046868519287, total=  17.1s\n",
      "[CV] C=10.0, gamma=1.0, max_iter=100.0 ...............................\n",
      "[CV]  C=10.0, gamma=1.0, max_iter=10.0, score=0.5097469929489838, total=   0.5s\n"
     ]
    },
    {
     "name": "stderr",
     "output_type": "stream",
     "text": [
      "/home/ubuntu/anaconda3/envs/tensorflow_p36/lib/python3.6/site-packages/sklearn/svm/base.py:218: ConvergenceWarning: Solver terminated early (max_iter=10).  Consider pre-processing your data with StandardScaler or MinMaxScaler.\n",
      "  % self.max_iter, ConvergenceWarning)\n"
     ]
    },
    {
     "name": "stdout",
     "output_type": "stream",
     "text": [
      "[CV] C=10.0, gamma=1.0, max_iter=100.0 ...............................\n",
      "[CV]  C=10.0, gamma=1.0, max_iter=10.0, score=0.5051845707175446, total=   0.5s\n",
      "[CV] C=10.0, gamma=1.0, max_iter=100.0 ...............................\n"
     ]
    },
    {
     "name": "stderr",
     "output_type": "stream",
     "text": [
      "/home/ubuntu/anaconda3/envs/tensorflow_p36/lib/python3.6/site-packages/sklearn/svm/base.py:218: ConvergenceWarning: Solver terminated early (max_iter=100).  Consider pre-processing your data with StandardScaler or MinMaxScaler.\n",
      "  % self.max_iter, ConvergenceWarning)\n",
      "/home/ubuntu/anaconda3/envs/tensorflow_p36/lib/python3.6/site-packages/sklearn/svm/base.py:218: ConvergenceWarning: Solver terminated early (max_iter=100).  Consider pre-processing your data with StandardScaler or MinMaxScaler.\n",
      "  % self.max_iter, ConvergenceWarning)\n",
      "/home/ubuntu/anaconda3/envs/tensorflow_p36/lib/python3.6/site-packages/sklearn/svm/base.py:218: ConvergenceWarning: Solver terminated early (max_iter=100).  Consider pre-processing your data with StandardScaler or MinMaxScaler.\n",
      "  % self.max_iter, ConvergenceWarning)\n",
      "/home/ubuntu/anaconda3/envs/tensorflow_p36/lib/python3.6/site-packages/sklearn/svm/base.py:218: ConvergenceWarning: Solver terminated early (max_iter=100).  Consider pre-processing your data with StandardScaler or MinMaxScaler.\n",
      "  % self.max_iter, ConvergenceWarning)\n"
     ]
    },
    {
     "name": "stdout",
     "output_type": "stream",
     "text": [
      "[CV]  C=10.0, gamma=1.0, max_iter=100.0, score=0.5598839618731869, total=   3.7s\n",
      "[CV] C=10.0, gamma=1.0, max_iter=1000.0 ..............................\n",
      "[CV]  C=10.0, gamma=1.0, max_iter=100.0, score=0.5534825870646766, total=   3.7s\n",
      "[CV] C=10.0, gamma=1.0, max_iter=1000.0 ..............................\n",
      "[CV]  C=10.0, gamma=1.0, max_iter=100.0, score=0.5503940273745334, total=   3.7s\n",
      "[CV] C=10.0, gamma=1.0, max_iter=1000.0 ..............................\n",
      "[CV]  C=10.0, gamma=1.0, max_iter=100.0, score=0.5197013687266694, total=   3.7s\n",
      "[CV] C=10.0, gamma=1.0, max_iter=1000.0 ..............................\n"
     ]
    },
    {
     "name": "stderr",
     "output_type": "stream",
     "text": [
      "/home/ubuntu/anaconda3/envs/tensorflow_p36/lib/python3.6/site-packages/sklearn/svm/base.py:218: ConvergenceWarning: Solver terminated early (max_iter=1000).  Consider pre-processing your data with StandardScaler or MinMaxScaler.\n",
      "  % self.max_iter, ConvergenceWarning)\n",
      "/home/ubuntu/anaconda3/envs/tensorflow_p36/lib/python3.6/site-packages/sklearn/svm/base.py:218: ConvergenceWarning: Solver terminated early (max_iter=1000).  Consider pre-processing your data with StandardScaler or MinMaxScaler.\n",
      "  % self.max_iter, ConvergenceWarning)\n",
      "/home/ubuntu/anaconda3/envs/tensorflow_p36/lib/python3.6/site-packages/sklearn/svm/base.py:218: ConvergenceWarning: Solver terminated early (max_iter=1000).  Consider pre-processing your data with StandardScaler or MinMaxScaler.\n",
      "  % self.max_iter, ConvergenceWarning)\n"
     ]
    },
    {
     "name": "stdout",
     "output_type": "stream",
     "text": [
      "[CV]  C=1.0, gamma=10.0, max_iter=10000.0, score=0.504769805060141, total= 2.4min\n",
      "[CV] C=10.0, gamma=1.0, max_iter=10000.0 .............................\n"
     ]
    },
    {
     "name": "stderr",
     "output_type": "stream",
     "text": [
      "/home/ubuntu/anaconda3/envs/tensorflow_p36/lib/python3.6/site-packages/sklearn/svm/base.py:218: ConvergenceWarning: Solver terminated early (max_iter=1000).  Consider pre-processing your data with StandardScaler or MinMaxScaler.\n",
      "  % self.max_iter, ConvergenceWarning)\n"
     ]
    },
    {
     "name": "stdout",
     "output_type": "stream",
     "text": [
      "[CV]  C=1.0, gamma=10.0, max_iter=10000.0, score=0.5047658516369664, total= 2.4min\n",
      "[CV]  C=1.0, gamma=10.0, max_iter=10000.0, score=0.504769805060141, total= 2.4min\n",
      "[CV] C=10.0, gamma=1.0, max_iter=10000.0 .............................\n",
      "[CV] C=10.0, gamma=1.0, max_iter=10000.0 .............................\n",
      "[CV]  C=1.0, gamma=10.0, max_iter=10000.0, score=0.5049751243781094, total= 2.4min\n",
      "[CV] C=10.0, gamma=1.0, max_iter=10000.0 .............................\n"
     ]
    },
    {
     "name": "stderr",
     "output_type": "stream",
     "text": [
      "/home/ubuntu/anaconda3/envs/tensorflow_p36/lib/python3.6/site-packages/sklearn/svm/base.py:218: ConvergenceWarning: Solver terminated early (max_iter=1000).  Consider pre-processing your data with StandardScaler or MinMaxScaler.\n",
      "  % self.max_iter, ConvergenceWarning)\n",
      "/home/ubuntu/anaconda3/envs/tensorflow_p36/lib/python3.6/site-packages/sklearn/svm/base.py:218: ConvergenceWarning: Solver terminated early (max_iter=1000).  Consider pre-processing your data with StandardScaler or MinMaxScaler.\n",
      "  % self.max_iter, ConvergenceWarning)\n",
      "/home/ubuntu/anaconda3/envs/tensorflow_p36/lib/python3.6/site-packages/sklearn/svm/base.py:218: ConvergenceWarning: Solver terminated early (max_iter=1000).  Consider pre-processing your data with StandardScaler or MinMaxScaler.\n",
      "  % self.max_iter, ConvergenceWarning)\n",
      "/home/ubuntu/anaconda3/envs/tensorflow_p36/lib/python3.6/site-packages/sklearn/svm/base.py:218: ConvergenceWarning: Solver terminated early (max_iter=1000).  Consider pre-processing your data with StandardScaler or MinMaxScaler.\n",
      "  % self.max_iter, ConvergenceWarning)\n"
     ]
    },
    {
     "name": "stdout",
     "output_type": "stream",
     "text": [
      "[CV]  C=10.0, gamma=0.1, max_iter=1000.0, score=0.9767923746373809, total=  37.7s\n",
      "[CV] C=10.0, gamma=10.0, max_iter=10.0 ...............................\n"
     ]
    },
    {
     "name": "stderr",
     "output_type": "stream",
     "text": [
      "[Parallel(n_jobs=-1)]: Done 449 tasks      | elapsed: 29.6min\n",
      "/home/ubuntu/anaconda3/envs/tensorflow_p36/lib/python3.6/site-packages/sklearn/svm/base.py:218: ConvergenceWarning: Solver terminated early (max_iter=10).  Consider pre-processing your data with StandardScaler or MinMaxScaler.\n",
      "  % self.max_iter, ConvergenceWarning)\n"
     ]
    },
    {
     "name": "stdout",
     "output_type": "stream",
     "text": [
      "[CV]  C=10.0, gamma=10.0, max_iter=10.0, score=0.6929133858267716, total=   0.6s\n",
      "[CV] C=10.0, gamma=10.0, max_iter=10.0 ...............................\n",
      "[CV]  C=10.0, gamma=0.1, max_iter=1000.0, score=0.988391376451078, total=  37.7s\n",
      "[CV] C=10.0, gamma=10.0, max_iter=10.0 ...............................\n"
     ]
    },
    {
     "name": "stderr",
     "output_type": "stream",
     "text": [
      "/home/ubuntu/anaconda3/envs/tensorflow_p36/lib/python3.6/site-packages/sklearn/svm/base.py:218: ConvergenceWarning: Solver terminated early (max_iter=10).  Consider pre-processing your data with StandardScaler or MinMaxScaler.\n",
      "  % self.max_iter, ConvergenceWarning)\n",
      "/home/ubuntu/anaconda3/envs/tensorflow_p36/lib/python3.6/site-packages/sklearn/svm/base.py:218: ConvergenceWarning: Solver terminated early (max_iter=10).  Consider pre-processing your data with StandardScaler or MinMaxScaler.\n",
      "  % self.max_iter, ConvergenceWarning)\n"
     ]
    },
    {
     "name": "stdout",
     "output_type": "stream",
     "text": [
      "[CV]  C=10.0, gamma=10.0, max_iter=10.0, score=0.6820066334991708, total=   0.5s\n",
      "[CV] C=10.0, gamma=10.0, max_iter=10.0 ...............................\n",
      "[CV]  C=10.0, gamma=10.0, max_iter=10.0, score=0.6914143508917462, total=   0.6s\n",
      "[CV] C=10.0, gamma=10.0, max_iter=100.0 ..............................\n"
     ]
    },
    {
     "name": "stderr",
     "output_type": "stream",
     "text": [
      "/home/ubuntu/anaconda3/envs/tensorflow_p36/lib/python3.6/site-packages/sklearn/svm/base.py:218: ConvergenceWarning: Solver terminated early (max_iter=10).  Consider pre-processing your data with StandardScaler or MinMaxScaler.\n",
      "  % self.max_iter, ConvergenceWarning)\n"
     ]
    },
    {
     "name": "stdout",
     "output_type": "stream",
     "text": [
      "[CV]  C=10.0, gamma=0.1, max_iter=1000.0, score=0.975114060555786, total=  37.8s\n",
      "[CV] C=10.0, gamma=10.0, max_iter=100.0 ..............................\n",
      "[CV]  C=10.0, gamma=10.0, max_iter=10.0, score=0.7038573206138532, total=   0.5s\n",
      "[CV] C=10.0, gamma=10.0, max_iter=100.0 ..............................\n",
      "[CV]  C=10.0, gamma=0.1, max_iter=1000.0, score=0.9867274989630859, total=  38.2s\n",
      "[CV] C=10.0, gamma=10.0, max_iter=100.0 ..............................\n"
     ]
    },
    {
     "name": "stderr",
     "output_type": "stream",
     "text": [
      "/home/ubuntu/anaconda3/envs/tensorflow_p36/lib/python3.6/site-packages/sklearn/svm/base.py:218: ConvergenceWarning: Solver terminated early (max_iter=100).  Consider pre-processing your data with StandardScaler or MinMaxScaler.\n",
      "  % self.max_iter, ConvergenceWarning)\n",
      "/home/ubuntu/anaconda3/envs/tensorflow_p36/lib/python3.6/site-packages/sklearn/svm/base.py:218: ConvergenceWarning: Solver terminated early (max_iter=100).  Consider pre-processing your data with StandardScaler or MinMaxScaler.\n",
      "  % self.max_iter, ConvergenceWarning)\n",
      "/home/ubuntu/anaconda3/envs/tensorflow_p36/lib/python3.6/site-packages/sklearn/svm/base.py:218: ConvergenceWarning: Solver terminated early (max_iter=100).  Consider pre-processing your data with StandardScaler or MinMaxScaler.\n",
      "  % self.max_iter, ConvergenceWarning)\n",
      "/home/ubuntu/anaconda3/envs/tensorflow_p36/lib/python3.6/site-packages/sklearn/svm/base.py:218: ConvergenceWarning: Solver terminated early (max_iter=100).  Consider pre-processing your data with StandardScaler or MinMaxScaler.\n",
      "  % self.max_iter, ConvergenceWarning)\n"
     ]
    },
    {
     "name": "stdout",
     "output_type": "stream",
     "text": [
      "[CV]  C=10.0, gamma=10.0, max_iter=100.0, score=0.49896394529631166, total=   3.6s\n",
      "[CV] C=10.0, gamma=10.0, max_iter=1000.0 .............................\n",
      "[CV]  C=10.0, gamma=10.0, max_iter=100.0, score=0.4975124378109453, total=   3.7s\n",
      "[CV] C=10.0, gamma=10.0, max_iter=1000.0 .............................\n",
      "[CV]  C=10.0, gamma=10.0, max_iter=100.0, score=0.4968892575694733, total=   3.7s\n",
      "[CV] C=10.0, gamma=10.0, max_iter=1000.0 .............................\n",
      "[CV]  C=10.0, gamma=10.0, max_iter=100.0, score=0.8975528826213189, total=   3.4s\n",
      "[CV] C=10.0, gamma=10.0, max_iter=1000.0 .............................\n",
      "[CV]  C=10.0, gamma=1.0, max_iter=1000.0, score=0.654228855721393, total=  39.2s\n",
      "[CV] C=10.0, gamma=10.0, max_iter=10000.0 ............................\n",
      "[CV]  C=10.0, gamma=1.0, max_iter=1000.0, score=0.6406962287608786, total=  39.3s\n",
      "[CV] C=10.0, gamma=10.0, max_iter=10000.0 ............................\n",
      "[CV]  C=10.0, gamma=1.0, max_iter=1000.0, score=0.5644960597262547, total=  39.4s\n",
      "[CV] C=10.0, gamma=10.0, max_iter=10000.0 ............................\n",
      "[CV]  C=10.0, gamma=1.0, max_iter=1000.0, score=0.671505599336375, total=  39.1s\n",
      "[CV] C=10.0, gamma=10.0, max_iter=10000.0 ............................\n"
     ]
    },
    {
     "name": "stderr",
     "output_type": "stream",
     "text": [
      "/home/ubuntu/anaconda3/envs/tensorflow_p36/lib/python3.6/site-packages/sklearn/svm/base.py:218: ConvergenceWarning: Solver terminated early (max_iter=1000).  Consider pre-processing your data with StandardScaler or MinMaxScaler.\n",
      "  % self.max_iter, ConvergenceWarning)\n",
      "/home/ubuntu/anaconda3/envs/tensorflow_p36/lib/python3.6/site-packages/sklearn/svm/base.py:218: ConvergenceWarning: Solver terminated early (max_iter=1000).  Consider pre-processing your data with StandardScaler or MinMaxScaler.\n",
      "  % self.max_iter, ConvergenceWarning)\n",
      "/home/ubuntu/anaconda3/envs/tensorflow_p36/lib/python3.6/site-packages/sklearn/svm/base.py:218: ConvergenceWarning: Solver terminated early (max_iter=1000).  Consider pre-processing your data with StandardScaler or MinMaxScaler.\n",
      "  % self.max_iter, ConvergenceWarning)\n",
      "/home/ubuntu/anaconda3/envs/tensorflow_p36/lib/python3.6/site-packages/sklearn/svm/base.py:218: ConvergenceWarning: Solver terminated early (max_iter=1000).  Consider pre-processing your data with StandardScaler or MinMaxScaler.\n",
      "  % self.max_iter, ConvergenceWarning)\n"
     ]
    },
    {
     "name": "stdout",
     "output_type": "stream",
     "text": [
      "[CV]  C=10.0, gamma=10.0, max_iter=1000.0, score=0.4956485702445089, total=  39.0s\n",
      "[CV] C=100.0, gamma=0.0001, max_iter=10.0 ............................\n",
      "[CV]  C=10.0, gamma=10.0, max_iter=1000.0, score=0.495230194939859, total=  39.2s\n",
      "[CV] C=100.0, gamma=0.0001, max_iter=10.0 ............................\n"
     ]
    },
    {
     "name": "stderr",
     "output_type": "stream",
     "text": [
      "/home/ubuntu/anaconda3/envs/tensorflow_p36/lib/python3.6/site-packages/sklearn/svm/base.py:218: ConvergenceWarning: Solver terminated early (max_iter=10).  Consider pre-processing your data with StandardScaler or MinMaxScaler.\n",
      "  % self.max_iter, ConvergenceWarning)\n"
     ]
    },
    {
     "name": "stdout",
     "output_type": "stream",
     "text": [
      "[CV]  C=100.0, gamma=0.0001, max_iter=10.0, score=0.7144633236634894, total=   0.5s\n",
      "[CV] C=100.0, gamma=0.0001, max_iter=10.0 ............................\n",
      "[CV]  C=10.0, gamma=10.0, max_iter=1000.0, score=0.49585406301824214, total=  39.2s\n"
     ]
    },
    {
     "name": "stderr",
     "output_type": "stream",
     "text": [
      "/home/ubuntu/anaconda3/envs/tensorflow_p36/lib/python3.6/site-packages/sklearn/svm/base.py:218: ConvergenceWarning: Solver terminated early (max_iter=10).  Consider pre-processing your data with StandardScaler or MinMaxScaler.\n",
      "  % self.max_iter, ConvergenceWarning)\n"
     ]
    },
    {
     "name": "stdout",
     "output_type": "stream",
     "text": [
      "[CV] C=100.0, gamma=0.0001, max_iter=10.0 ............................\n",
      "[CV]  C=100.0, gamma=0.0001, max_iter=10.0, score=0.7558043117744611, total=   0.5s\n",
      "[CV] C=100.0, gamma=0.0001, max_iter=100.0 ...........................\n"
     ]
    },
    {
     "name": "stderr",
     "output_type": "stream",
     "text": [
      "/home/ubuntu/anaconda3/envs/tensorflow_p36/lib/python3.6/site-packages/sklearn/svm/base.py:218: ConvergenceWarning: Solver terminated early (max_iter=10).  Consider pre-processing your data with StandardScaler or MinMaxScaler.\n",
      "  % self.max_iter, ConvergenceWarning)\n",
      "/home/ubuntu/anaconda3/envs/tensorflow_p36/lib/python3.6/site-packages/sklearn/svm/base.py:218: ConvergenceWarning: Solver terminated early (max_iter=10000).  Consider pre-processing your data with StandardScaler or MinMaxScaler.\n",
      "  % self.max_iter, ConvergenceWarning)\n",
      "/home/ubuntu/anaconda3/envs/tensorflow_p36/lib/python3.6/site-packages/sklearn/svm/base.py:218: ConvergenceWarning: Solver terminated early (max_iter=10).  Consider pre-processing your data with StandardScaler or MinMaxScaler.\n",
      "  % self.max_iter, ConvergenceWarning)\n"
     ]
    },
    {
     "name": "stdout",
     "output_type": "stream",
     "text": [
      "[CV]  C=100.0, gamma=0.0001, max_iter=10.0, score=0.7822480298631274, total=   0.5s\n",
      "[CV] C=100.0, gamma=0.0001, max_iter=100.0 ...........................\n",
      "[CV]  C=100.0, gamma=0.0001, max_iter=10.0, score=0.7291580257154707, total=   0.5s\n",
      "[CV] C=100.0, gamma=0.0001, max_iter=100.0 ...........................\n",
      "[CV]  C=10.0, gamma=10.0, max_iter=1000.0, score=0.4960597262546661, total=  39.1s\n",
      "[CV] C=100.0, gamma=0.0001, max_iter=100.0 ...........................\n"
     ]
    },
    {
     "name": "stderr",
     "output_type": "stream",
     "text": [
      "/home/ubuntu/anaconda3/envs/tensorflow_p36/lib/python3.6/site-packages/sklearn/svm/base.py:218: ConvergenceWarning: Solver terminated early (max_iter=10000).  Consider pre-processing your data with StandardScaler or MinMaxScaler.\n",
      "  % self.max_iter, ConvergenceWarning)\n",
      "/home/ubuntu/anaconda3/envs/tensorflow_p36/lib/python3.6/site-packages/sklearn/svm/base.py:218: ConvergenceWarning: Solver terminated early (max_iter=10000).  Consider pre-processing your data with StandardScaler or MinMaxScaler.\n",
      "  % self.max_iter, ConvergenceWarning)\n",
      "/home/ubuntu/anaconda3/envs/tensorflow_p36/lib/python3.6/site-packages/sklearn/svm/base.py:218: ConvergenceWarning: Solver terminated early (max_iter=100).  Consider pre-processing your data with StandardScaler or MinMaxScaler.\n",
      "  % self.max_iter, ConvergenceWarning)\n",
      "/home/ubuntu/anaconda3/envs/tensorflow_p36/lib/python3.6/site-packages/sklearn/svm/base.py:218: ConvergenceWarning: Solver terminated early (max_iter=10000).  Consider pre-processing your data with StandardScaler or MinMaxScaler.\n",
      "  % self.max_iter, ConvergenceWarning)\n",
      "/home/ubuntu/anaconda3/envs/tensorflow_p36/lib/python3.6/site-packages/sklearn/svm/base.py:218: ConvergenceWarning: Solver terminated early (max_iter=100).  Consider pre-processing your data with StandardScaler or MinMaxScaler.\n",
      "  % self.max_iter, ConvergenceWarning)\n",
      "/home/ubuntu/anaconda3/envs/tensorflow_p36/lib/python3.6/site-packages/sklearn/svm/base.py:218: ConvergenceWarning: Solver terminated early (max_iter=100).  Consider pre-processing your data with StandardScaler or MinMaxScaler.\n",
      "  % self.max_iter, ConvergenceWarning)\n",
      "/home/ubuntu/anaconda3/envs/tensorflow_p36/lib/python3.6/site-packages/sklearn/svm/base.py:218: ConvergenceWarning: Solver terminated early (max_iter=100).  Consider pre-processing your data with StandardScaler or MinMaxScaler.\n",
      "  % self.max_iter, ConvergenceWarning)\n"
     ]
    },
    {
     "name": "stdout",
     "output_type": "stream",
     "text": [
      "[CV]  C=100.0, gamma=0.0001, max_iter=100.0, score=0.7534189805221716, total=   3.3s\n",
      "[CV] C=100.0, gamma=0.0001, max_iter=1000.0 ..........................\n",
      "[CV]  C=100.0, gamma=0.0001, max_iter=100.0, score=0.724709784411277, total=   3.3s\n",
      "[CV] C=100.0, gamma=0.0001, max_iter=1000.0 ..........................\n",
      "[CV]  C=100.0, gamma=0.0001, max_iter=100.0, score=0.8423890501866446, total=   3.4s\n",
      "[CV] C=100.0, gamma=0.0001, max_iter=1000.0 ..........................\n",
      "[CV]  C=100.0, gamma=0.0001, max_iter=100.0, score=0.7581916217337205, total=   3.4s\n",
      "[CV] C=100.0, gamma=0.0001, max_iter=1000.0 ..........................\n"
     ]
    },
    {
     "name": "stderr",
     "output_type": "stream",
     "text": [
      "/home/ubuntu/anaconda3/envs/tensorflow_p36/lib/python3.6/site-packages/sklearn/svm/base.py:218: ConvergenceWarning: Solver terminated early (max_iter=1000).  Consider pre-processing your data with StandardScaler or MinMaxScaler.\n",
      "  % self.max_iter, ConvergenceWarning)\n",
      "/home/ubuntu/anaconda3/envs/tensorflow_p36/lib/python3.6/site-packages/sklearn/svm/base.py:218: ConvergenceWarning: Solver terminated early (max_iter=1000).  Consider pre-processing your data with StandardScaler or MinMaxScaler.\n",
      "  % self.max_iter, ConvergenceWarning)\n",
      "/home/ubuntu/anaconda3/envs/tensorflow_p36/lib/python3.6/site-packages/sklearn/svm/base.py:218: ConvergenceWarning: Solver terminated early (max_iter=1000).  Consider pre-processing your data with StandardScaler or MinMaxScaler.\n",
      "  % self.max_iter, ConvergenceWarning)\n",
      "/home/ubuntu/anaconda3/envs/tensorflow_p36/lib/python3.6/site-packages/sklearn/svm/base.py:218: ConvergenceWarning: Solver terminated early (max_iter=1000).  Consider pre-processing your data with StandardScaler or MinMaxScaler.\n",
      "  % self.max_iter, ConvergenceWarning)\n"
     ]
    },
    {
     "name": "stdout",
     "output_type": "stream",
     "text": [
      "[CV]  C=100.0, gamma=0.0001, max_iter=1000.0, score=0.9639452963116453, total=  21.1s\n",
      "[CV] C=100.0, gamma=0.0001, max_iter=10000.0 .........................\n",
      "[CV]  C=100.0, gamma=0.0001, max_iter=1000.0, score=0.9672470978441128, total=  21.5s\n",
      "[CV] C=100.0, gamma=0.0001, max_iter=10000.0 .........................\n",
      "[CV]  C=100.0, gamma=0.0001, max_iter=1000.0, score=0.9676482787225218, total=  21.6s\n",
      "[CV] C=100.0, gamma=0.0001, max_iter=10000.0 .........................\n",
      "[CV]  C=100.0, gamma=0.0001, max_iter=1000.0, score=0.972210700953961, total=  22.6s\n",
      "[CV] C=100.0, gamma=0.0001, max_iter=10000.0 .........................\n"
     ]
    },
    {
     "name": "stderr",
     "output_type": "stream",
     "text": [
      "[Parallel(n_jobs=-1)]: Done 480 tasks      | elapsed: 31.6min\n",
      "/home/ubuntu/anaconda3/envs/tensorflow_p36/lib/python3.6/site-packages/sklearn/svm/base.py:218: ConvergenceWarning: Solver terminated early (max_iter=10000).  Consider pre-processing your data with StandardScaler or MinMaxScaler.\n",
      "  % self.max_iter, ConvergenceWarning)\n",
      "/home/ubuntu/anaconda3/envs/tensorflow_p36/lib/python3.6/site-packages/sklearn/svm/base.py:218: ConvergenceWarning: Solver terminated early (max_iter=10000).  Consider pre-processing your data with StandardScaler or MinMaxScaler.\n",
      "  % self.max_iter, ConvergenceWarning)\n",
      "/home/ubuntu/anaconda3/envs/tensorflow_p36/lib/python3.6/site-packages/sklearn/svm/base.py:218: ConvergenceWarning: Solver terminated early (max_iter=10000).  Consider pre-processing your data with StandardScaler or MinMaxScaler.\n",
      "  % self.max_iter, ConvergenceWarning)\n",
      "/home/ubuntu/anaconda3/envs/tensorflow_p36/lib/python3.6/site-packages/sklearn/svm/base.py:218: ConvergenceWarning: Solver terminated early (max_iter=10000).  Consider pre-processing your data with StandardScaler or MinMaxScaler.\n",
      "  % self.max_iter, ConvergenceWarning)\n"
     ]
    },
    {
     "name": "stdout",
     "output_type": "stream",
     "text": [
      "[CV]  C=10.0, gamma=0.1, max_iter=10000.0, score=0.9664318276004973, total= 2.0min\n",
      "[CV] C=100.0, gamma=0.001, max_iter=10.0 .............................\n"
     ]
    },
    {
     "name": "stderr",
     "output_type": "stream",
     "text": [
      "/home/ubuntu/anaconda3/envs/tensorflow_p36/lib/python3.6/site-packages/sklearn/svm/base.py:218: ConvergenceWarning: Solver terminated early (max_iter=10).  Consider pre-processing your data with StandardScaler or MinMaxScaler.\n",
      "  % self.max_iter, ConvergenceWarning)\n"
     ]
    },
    {
     "name": "stdout",
     "output_type": "stream",
     "text": [
      "[CV]  C=100.0, gamma=0.001, max_iter=10.0, score=0.7559055118110236, total=   0.6s\n",
      "[CV] C=100.0, gamma=0.001, max_iter=10.0 .............................\n",
      "[CV]  C=10.0, gamma=0.1, max_iter=10000.0, score=0.9821724709784412, total= 2.0min\n",
      "[CV] C=100.0, gamma=0.001, max_iter=10.0 .............................\n"
     ]
    },
    {
     "name": "stderr",
     "output_type": "stream",
     "text": [
      "/home/ubuntu/anaconda3/envs/tensorflow_p36/lib/python3.6/site-packages/sklearn/svm/base.py:218: ConvergenceWarning: Solver terminated early (max_iter=10).  Consider pre-processing your data with StandardScaler or MinMaxScaler.\n",
      "  % self.max_iter, ConvergenceWarning)\n"
     ]
    },
    {
     "name": "stdout",
     "output_type": "stream",
     "text": [
      "[CV]  C=100.0, gamma=0.001, max_iter=10.0, score=0.6844941956882256, total=   0.6s\n",
      "[CV] C=100.0, gamma=0.001, max_iter=10.0 .............................\n"
     ]
    },
    {
     "name": "stderr",
     "output_type": "stream",
     "text": [
      "/home/ubuntu/anaconda3/envs/tensorflow_p36/lib/python3.6/site-packages/sklearn/svm/base.py:218: ConvergenceWarning: Solver terminated early (max_iter=10).  Consider pre-processing your data with StandardScaler or MinMaxScaler.\n",
      "  % self.max_iter, ConvergenceWarning)\n"
     ]
    },
    {
     "name": "stdout",
     "output_type": "stream",
     "text": [
      "[CV]  C=100.0, gamma=0.001, max_iter=10.0, score=0.6350062214848611, total=   0.5s\n",
      "[CV] C=100.0, gamma=0.001, max_iter=100.0 ............................\n"
     ]
    },
    {
     "name": "stderr",
     "output_type": "stream",
     "text": [
      "/home/ubuntu/anaconda3/envs/tensorflow_p36/lib/python3.6/site-packages/sklearn/svm/base.py:218: ConvergenceWarning: Solver terminated early (max_iter=10).  Consider pre-processing your data with StandardScaler or MinMaxScaler.\n",
      "  % self.max_iter, ConvergenceWarning)\n"
     ]
    },
    {
     "name": "stdout",
     "output_type": "stream",
     "text": [
      "[CV]  C=10.0, gamma=0.1, max_iter=10000.0, score=0.9668187474077147, total= 2.0min\n",
      "[CV] C=100.0, gamma=0.001, max_iter=100.0 ............................\n",
      "[CV]  C=100.0, gamma=0.001, max_iter=10.0, score=0.7154707590211531, total=   0.6s\n",
      "[CV] C=100.0, gamma=0.001, max_iter=100.0 ............................\n",
      "[CV]  C=10.0, gamma=0.1, max_iter=10000.0, score=0.9771878888428038, total= 2.0min\n",
      "[CV] C=100.0, gamma=0.001, max_iter=100.0 ............................\n"
     ]
    },
    {
     "name": "stderr",
     "output_type": "stream",
     "text": [
      "/home/ubuntu/anaconda3/envs/tensorflow_p36/lib/python3.6/site-packages/sklearn/svm/base.py:218: ConvergenceWarning: Solver terminated early (max_iter=100).  Consider pre-processing your data with StandardScaler or MinMaxScaler.\n",
      "  % self.max_iter, ConvergenceWarning)\n",
      "/home/ubuntu/anaconda3/envs/tensorflow_p36/lib/python3.6/site-packages/sklearn/svm/base.py:218: ConvergenceWarning: Solver terminated early (max_iter=100).  Consider pre-processing your data with StandardScaler or MinMaxScaler.\n",
      "  % self.max_iter, ConvergenceWarning)\n",
      "/home/ubuntu/anaconda3/envs/tensorflow_p36/lib/python3.6/site-packages/sklearn/svm/base.py:218: ConvergenceWarning: Solver terminated early (max_iter=100).  Consider pre-processing your data with StandardScaler or MinMaxScaler.\n",
      "  % self.max_iter, ConvergenceWarning)\n",
      "/home/ubuntu/anaconda3/envs/tensorflow_p36/lib/python3.6/site-packages/sklearn/svm/base.py:218: ConvergenceWarning: Solver terminated early (max_iter=100).  Consider pre-processing your data with StandardScaler or MinMaxScaler.\n",
      "  % self.max_iter, ConvergenceWarning)\n"
     ]
    },
    {
     "name": "stdout",
     "output_type": "stream",
     "text": [
      "[CV]  C=100.0, gamma=0.001, max_iter=100.0, score=0.9125569830087028, total=   3.3s\n",
      "[CV] C=100.0, gamma=0.001, max_iter=1000.0 ...........................\n",
      "[CV]  C=100.0, gamma=0.001, max_iter=100.0, score=0.8569651741293532, total=   3.4s\n",
      "[CV] C=100.0, gamma=0.001, max_iter=1000.0 ...........................\n",
      "[CV]  C=100.0, gamma=0.001, max_iter=100.0, score=0.8884280381584405, total=   3.5s\n",
      "[CV] C=100.0, gamma=0.001, max_iter=1000.0 ...........................\n",
      "[CV]  C=100.0, gamma=0.001, max_iter=100.0, score=0.8971381169639154, total=   3.2s\n",
      "[CV] C=100.0, gamma=0.001, max_iter=1000.0 ...........................\n"
     ]
    },
    {
     "name": "stderr",
     "output_type": "stream",
     "text": [
      "/home/ubuntu/anaconda3/envs/tensorflow_p36/lib/python3.6/site-packages/sklearn/svm/base.py:218: ConvergenceWarning: Solver terminated early (max_iter=1000).  Consider pre-processing your data with StandardScaler or MinMaxScaler.\n",
      "  % self.max_iter, ConvergenceWarning)\n",
      "/home/ubuntu/anaconda3/envs/tensorflow_p36/lib/python3.6/site-packages/sklearn/svm/base.py:218: ConvergenceWarning: Solver terminated early (max_iter=1000).  Consider pre-processing your data with StandardScaler or MinMaxScaler.\n",
      "  % self.max_iter, ConvergenceWarning)\n",
      "/home/ubuntu/anaconda3/envs/tensorflow_p36/lib/python3.6/site-packages/sklearn/svm/base.py:218: ConvergenceWarning: Solver terminated early (max_iter=1000).  Consider pre-processing your data with StandardScaler or MinMaxScaler.\n",
      "  % self.max_iter, ConvergenceWarning)\n",
      "/home/ubuntu/anaconda3/envs/tensorflow_p36/lib/python3.6/site-packages/sklearn/svm/base.py:218: ConvergenceWarning: Solver terminated early (max_iter=1000).  Consider pre-processing your data with StandardScaler or MinMaxScaler.\n",
      "  % self.max_iter, ConvergenceWarning)\n"
     ]
    },
    {
     "name": "stdout",
     "output_type": "stream",
     "text": [
      "[CV]  C=100.0, gamma=0.0001, max_iter=10000.0, score=0.9647741400745959, total=  20.6s\n",
      "[CV] C=100.0, gamma=0.001, max_iter=10000.0 ..........................\n",
      "[CV]  C=100.0, gamma=0.0001, max_iter=10000.0, score=0.9676482787225218, total=  21.0s\n",
      "[CV] C=100.0, gamma=0.001, max_iter=10000.0 ..........................\n",
      "[CV]  C=100.0, gamma=0.0001, max_iter=10000.0, score=0.9672470978441128, total=  21.0s\n",
      "[CV] C=100.0, gamma=0.001, max_iter=10000.0 ..........................\n",
      "[CV]  C=100.0, gamma=0.001, max_iter=1000.0, score=0.9805221715706589, total=  13.7s\n",
      "[CV] C=100.0, gamma=0.001, max_iter=10000.0 ..........................\n",
      "[CV]  C=100.0, gamma=0.001, max_iter=1000.0, score=0.9796849087893864, total=  14.1s\n",
      "[CV] C=100.0, gamma=0.01, max_iter=10.0 ..............................\n",
      "[CV]  C=100.0, gamma=0.0001, max_iter=10000.0, score=0.9717959352965575, total=  22.3s\n",
      "[CV]  C=100.0, gamma=0.001, max_iter=1000.0, score=0.9784321858150146, total=  14.1s\n",
      "[CV] C=100.0, gamma=0.01, max_iter=10.0 ..............................\n",
      "[CV] C=100.0, gamma=0.01, max_iter=10.0 ..............................\n"
     ]
    },
    {
     "name": "stderr",
     "output_type": "stream",
     "text": [
      "/home/ubuntu/anaconda3/envs/tensorflow_p36/lib/python3.6/site-packages/sklearn/svm/base.py:218: ConvergenceWarning: Solver terminated early (max_iter=10).  Consider pre-processing your data with StandardScaler or MinMaxScaler.\n",
      "  % self.max_iter, ConvergenceWarning)\n",
      "/home/ubuntu/anaconda3/envs/tensorflow_p36/lib/python3.6/site-packages/sklearn/svm/base.py:218: ConvergenceWarning: Solver terminated early (max_iter=10).  Consider pre-processing your data with StandardScaler or MinMaxScaler.\n",
      "  % self.max_iter, ConvergenceWarning)\n"
     ]
    },
    {
     "name": "stdout",
     "output_type": "stream",
     "text": [
      "[CV]  C=100.0, gamma=0.01, max_iter=10.0, score=0.7368421052631579, total=   0.6s\n",
      "[CV] C=100.0, gamma=0.01, max_iter=10.0 ..............................\n"
     ]
    },
    {
     "name": "stderr",
     "output_type": "stream",
     "text": [
      "/home/ubuntu/anaconda3/envs/tensorflow_p36/lib/python3.6/site-packages/sklearn/svm/base.py:218: ConvergenceWarning: Solver terminated early (max_iter=10).  Consider pre-processing your data with StandardScaler or MinMaxScaler.\n",
      "  % self.max_iter, ConvergenceWarning)\n"
     ]
    },
    {
     "name": "stdout",
     "output_type": "stream",
     "text": [
      "[CV]  C=100.0, gamma=0.01, max_iter=10.0, score=0.7014925373134329, total=   0.5s\n",
      "[CV] C=100.0, gamma=0.01, max_iter=100.0 .............................\n",
      "[CV]  C=100.0, gamma=0.01, max_iter=10.0, score=0.8042306097055164, total=   0.6s\n",
      "[CV] C=100.0, gamma=0.01, max_iter=100.0 .............................\n"
     ]
    },
    {
     "name": "stderr",
     "output_type": "stream",
     "text": [
      "/home/ubuntu/anaconda3/envs/tensorflow_p36/lib/python3.6/site-packages/sklearn/svm/base.py:218: ConvergenceWarning: Solver terminated early (max_iter=10).  Consider pre-processing your data with StandardScaler or MinMaxScaler.\n",
      "  % self.max_iter, ConvergenceWarning)\n"
     ]
    },
    {
     "name": "stdout",
     "output_type": "stream",
     "text": [
      "[CV]  C=100.0, gamma=0.01, max_iter=10.0, score=0.6316880962256325, total=   0.6s\n",
      "[CV] C=100.0, gamma=0.01, max_iter=100.0 .............................\n",
      "[CV]  C=100.0, gamma=0.001, max_iter=1000.0, score=0.9854832019908751, total=  14.9s\n",
      "[CV] C=100.0, gamma=0.01, max_iter=100.0 .............................\n"
     ]
    },
    {
     "name": "stderr",
     "output_type": "stream",
     "text": [
      "/home/ubuntu/anaconda3/envs/tensorflow_p36/lib/python3.6/site-packages/sklearn/svm/base.py:218: ConvergenceWarning: Solver terminated early (max_iter=100).  Consider pre-processing your data with StandardScaler or MinMaxScaler.\n",
      "  % self.max_iter, ConvergenceWarning)\n",
      "/home/ubuntu/anaconda3/envs/tensorflow_p36/lib/python3.6/site-packages/sklearn/svm/base.py:218: ConvergenceWarning: Solver terminated early (max_iter=100).  Consider pre-processing your data with StandardScaler or MinMaxScaler.\n",
      "  % self.max_iter, ConvergenceWarning)\n",
      "/home/ubuntu/anaconda3/envs/tensorflow_p36/lib/python3.6/site-packages/sklearn/svm/base.py:218: ConvergenceWarning: Solver terminated early (max_iter=100).  Consider pre-processing your data with StandardScaler or MinMaxScaler.\n",
      "  % self.max_iter, ConvergenceWarning)\n",
      "/home/ubuntu/anaconda3/envs/tensorflow_p36/lib/python3.6/site-packages/sklearn/svm/base.py:218: ConvergenceWarning: Solver terminated early (max_iter=100).  Consider pre-processing your data with StandardScaler or MinMaxScaler.\n",
      "  % self.max_iter, ConvergenceWarning)\n",
      "/home/ubuntu/anaconda3/envs/tensorflow_p36/lib/python3.6/site-packages/sklearn/svm/base.py:218: ConvergenceWarning: Solver terminated early (max_iter=10000).  Consider pre-processing your data with StandardScaler or MinMaxScaler.\n",
      "  % self.max_iter, ConvergenceWarning)\n"
     ]
    },
    {
     "name": "stdout",
     "output_type": "stream",
     "text": [
      "[CV]  C=100.0, gamma=0.01, max_iter=100.0, score=0.9262023217247097, total=   3.4s\n",
      "[CV] C=100.0, gamma=0.01, max_iter=1000.0 ............................\n",
      "[CV]  C=100.0, gamma=0.01, max_iter=100.0, score=0.968503937007874, total=   3.6s\n",
      "[CV] C=100.0, gamma=0.01, max_iter=1000.0 ............................\n",
      "[CV]  C=100.0, gamma=0.01, max_iter=100.0, score=0.9547905433430112, total=   3.5s\n",
      "[CV] C=100.0, gamma=0.01, max_iter=1000.0 ............................\n",
      "[CV]  C=100.0, gamma=0.01, max_iter=100.0, score=0.9664039817503111, total=   3.3s\n",
      "[CV] C=100.0, gamma=0.01, max_iter=1000.0 ............................\n"
     ]
    },
    {
     "name": "stderr",
     "output_type": "stream",
     "text": [
      "/home/ubuntu/anaconda3/envs/tensorflow_p36/lib/python3.6/site-packages/sklearn/svm/base.py:218: ConvergenceWarning: Solver terminated early (max_iter=10000).  Consider pre-processing your data with StandardScaler or MinMaxScaler.\n",
      "  % self.max_iter, ConvergenceWarning)\n",
      "/home/ubuntu/anaconda3/envs/tensorflow_p36/lib/python3.6/site-packages/sklearn/svm/base.py:218: ConvergenceWarning: Solver terminated early (max_iter=1000).  Consider pre-processing your data with StandardScaler or MinMaxScaler.\n",
      "  % self.max_iter, ConvergenceWarning)\n",
      "/home/ubuntu/anaconda3/envs/tensorflow_p36/lib/python3.6/site-packages/sklearn/svm/base.py:218: ConvergenceWarning: Solver terminated early (max_iter=1000).  Consider pre-processing your data with StandardScaler or MinMaxScaler.\n",
      "  % self.max_iter, ConvergenceWarning)\n",
      "/home/ubuntu/anaconda3/envs/tensorflow_p36/lib/python3.6/site-packages/sklearn/svm/base.py:218: ConvergenceWarning: Solver terminated early (max_iter=1000).  Consider pre-processing your data with StandardScaler or MinMaxScaler.\n",
      "  % self.max_iter, ConvergenceWarning)\n"
     ]
    },
    {
     "name": "stdout",
     "output_type": "stream",
     "text": [
      "[CV]  C=100.0, gamma=0.001, max_iter=10000.0, score=0.9801077496891836, total=  15.0s\n",
      "[CV] C=100.0, gamma=0.01, max_iter=10000.0 ...........................\n"
     ]
    },
    {
     "name": "stderr",
     "output_type": "stream",
     "text": [
      "/home/ubuntu/anaconda3/envs/tensorflow_p36/lib/python3.6/site-packages/sklearn/svm/base.py:218: ConvergenceWarning: Solver terminated early (max_iter=1000).  Consider pre-processing your data with StandardScaler or MinMaxScaler.\n",
      "  % self.max_iter, ConvergenceWarning)\n"
     ]
    },
    {
     "name": "stdout",
     "output_type": "stream",
     "text": [
      "[CV]  C=100.0, gamma=0.001, max_iter=10000.0, score=0.9829946080464538, total=  14.9s\n",
      "[CV]  C=100.0, gamma=0.001, max_iter=10000.0, score=0.9805140961857379, total=  15.4s\n",
      "[CV] C=100.0, gamma=0.01, max_iter=10000.0 ...........................\n",
      "[CV] C=100.0, gamma=0.01, max_iter=10000.0 ...........................\n",
      "[CV]  C=100.0, gamma=0.001, max_iter=10000.0, score=0.9850684363334716, total=  16.4s\n",
      "[CV] C=100.0, gamma=0.01, max_iter=10000.0 ...........................\n",
      "[CV]  C=100.0, gamma=0.01, max_iter=1000.0, score=0.9888106092001657, total=  13.9s\n",
      "[CV] C=100.0, gamma=0.1, max_iter=10.0 ...............................\n"
     ]
    },
    {
     "name": "stderr",
     "output_type": "stream",
     "text": [
      "[Parallel(n_jobs=-1)]: Done 513 tasks      | elapsed: 32.7min\n"
     ]
    },
    {
     "name": "stdout",
     "output_type": "stream",
     "text": [
      "[CV]  C=100.0, gamma=0.01, max_iter=1000.0, score=0.9888013272501037, total=  13.8s\n",
      "[CV] C=100.0, gamma=0.1, max_iter=10.0 ...............................\n",
      "[CV]  C=100.0, gamma=0.01, max_iter=1000.0, score=0.9908789386401327, total=  14.2s\n",
      "[CV] C=100.0, gamma=0.1, max_iter=10.0 ...............................\n"
     ]
    },
    {
     "name": "stderr",
     "output_type": "stream",
     "text": [
      "/home/ubuntu/anaconda3/envs/tensorflow_p36/lib/python3.6/site-packages/sklearn/svm/base.py:218: ConvergenceWarning: Solver terminated early (max_iter=10).  Consider pre-processing your data with StandardScaler or MinMaxScaler.\n",
      "  % self.max_iter, ConvergenceWarning)\n",
      "/home/ubuntu/anaconda3/envs/tensorflow_p36/lib/python3.6/site-packages/sklearn/svm/base.py:218: ConvergenceWarning: Solver terminated early (max_iter=10).  Consider pre-processing your data with StandardScaler or MinMaxScaler.\n",
      "  % self.max_iter, ConvergenceWarning)\n"
     ]
    },
    {
     "name": "stdout",
     "output_type": "stream",
     "text": [
      "[CV]  C=100.0, gamma=0.1, max_iter=10.0, score=0.6087857438872772, total=   0.6s\n",
      "[CV] C=100.0, gamma=0.1, max_iter=10.0 ...............................\n"
     ]
    },
    {
     "name": "stderr",
     "output_type": "stream",
     "text": [
      "/home/ubuntu/anaconda3/envs/tensorflow_p36/lib/python3.6/site-packages/sklearn/svm/base.py:218: ConvergenceWarning: Solver terminated early (max_iter=10).  Consider pre-processing your data with StandardScaler or MinMaxScaler.\n",
      "  % self.max_iter, ConvergenceWarning)\n"
     ]
    },
    {
     "name": "stdout",
     "output_type": "stream",
     "text": [
      "[CV]  C=100.0, gamma=0.1, max_iter=10.0, score=0.5953565505804311, total=   0.5s\n",
      "[CV] C=100.0, gamma=0.1, max_iter=100.0 ..............................\n",
      "[CV]  C=100.0, gamma=0.1, max_iter=10.0, score=0.6955620074657818, total=   0.6s\n",
      "[CV] C=100.0, gamma=0.1, max_iter=100.0 ..............................\n"
     ]
    },
    {
     "name": "stderr",
     "output_type": "stream",
     "text": [
      "/home/ubuntu/anaconda3/envs/tensorflow_p36/lib/python3.6/site-packages/sklearn/svm/base.py:218: ConvergenceWarning: Solver terminated early (max_iter=10).  Consider pre-processing your data with StandardScaler or MinMaxScaler.\n",
      "  % self.max_iter, ConvergenceWarning)\n"
     ]
    },
    {
     "name": "stdout",
     "output_type": "stream",
     "text": [
      "[CV]  C=100.0, gamma=0.1, max_iter=10.0, score=0.6603069265864786, total=   0.5s\n",
      "[CV] C=100.0, gamma=0.1, max_iter=100.0 ..............................\n",
      "[CV]  C=100.0, gamma=0.01, max_iter=1000.0, score=0.9921194525093322, total=  15.7s\n",
      "[CV] C=100.0, gamma=0.1, max_iter=100.0 ..............................\n"
     ]
    },
    {
     "name": "stderr",
     "output_type": "stream",
     "text": [
      "/home/ubuntu/anaconda3/envs/tensorflow_p36/lib/python3.6/site-packages/sklearn/svm/base.py:218: ConvergenceWarning: Solver terminated early (max_iter=100).  Consider pre-processing your data with StandardScaler or MinMaxScaler.\n",
      "  % self.max_iter, ConvergenceWarning)\n",
      "/home/ubuntu/anaconda3/envs/tensorflow_p36/lib/python3.6/site-packages/sklearn/svm/base.py:218: ConvergenceWarning: Solver terminated early (max_iter=100).  Consider pre-processing your data with StandardScaler or MinMaxScaler.\n",
      "  % self.max_iter, ConvergenceWarning)\n",
      "/home/ubuntu/anaconda3/envs/tensorflow_p36/lib/python3.6/site-packages/sklearn/svm/base.py:218: ConvergenceWarning: Solver terminated early (max_iter=100).  Consider pre-processing your data with StandardScaler or MinMaxScaler.\n",
      "  % self.max_iter, ConvergenceWarning)\n"
     ]
    },
    {
     "name": "stdout",
     "output_type": "stream",
     "text": [
      "[CV]  C=100.0, gamma=0.1, max_iter=100.0, score=0.8810609200165769, total=   3.7s\n",
      "[CV] C=100.0, gamma=0.1, max_iter=1000.0 .............................\n",
      "[CV]  C=100.0, gamma=0.1, max_iter=100.0, score=0.896351575456053, total=   3.6s\n"
     ]
    },
    {
     "name": "stderr",
     "output_type": "stream",
     "text": [
      "/home/ubuntu/anaconda3/envs/tensorflow_p36/lib/python3.6/site-packages/sklearn/svm/base.py:218: ConvergenceWarning: Solver terminated early (max_iter=100).  Consider pre-processing your data with StandardScaler or MinMaxScaler.\n",
      "  % self.max_iter, ConvergenceWarning)\n"
     ]
    },
    {
     "name": "stdout",
     "output_type": "stream",
     "text": [
      "[CV] C=100.0, gamma=0.1, max_iter=1000.0 .............................\n",
      "[CV]  C=100.0, gamma=0.1, max_iter=100.0, score=0.9668187474077147, total=   3.6s\n",
      "[CV] C=100.0, gamma=0.1, max_iter=1000.0 .............................\n",
      "[CV]  C=100.0, gamma=0.1, max_iter=100.0, score=0.9531314807133969, total=   3.3s\n",
      "[CV] C=100.0, gamma=0.1, max_iter=1000.0 .............................\n",
      "[CV]  C=100.0, gamma=0.01, max_iter=10000.0, score=0.9892250310816411, total=  16.2s\n",
      "[CV] C=100.0, gamma=0.1, max_iter=10000.0 ............................\n",
      "[CV]  C=100.0, gamma=0.01, max_iter=10000.0, score=0.9896308585649108, total=  15.0s\n",
      "[CV] C=100.0, gamma=0.1, max_iter=10000.0 ............................\n",
      "[CV]  C=100.0, gamma=0.01, max_iter=10000.0, score=0.9908789386401327, total=  15.4s\n",
      "[CV] C=100.0, gamma=0.1, max_iter=10000.0 ............................\n",
      "[CV]  C=10.0, gamma=1.0, max_iter=10000.0, score=0.5047658516369664, total= 2.3min\n",
      "[CV] C=100.0, gamma=0.1, max_iter=10000.0 ............................\n",
      "[CV]  C=10.0, gamma=1.0, max_iter=10000.0, score=0.504769805060141, total= 2.3min\n",
      "[CV] C=100.0, gamma=1.0, max_iter=10.0 ...............................\n",
      "[CV]  C=10.0, gamma=1.0, max_iter=10000.0, score=0.5049751243781094, total= 2.4min\n",
      "[CV] C=100.0, gamma=1.0, max_iter=10.0 ...............................\n"
     ]
    },
    {
     "name": "stderr",
     "output_type": "stream",
     "text": [
      "/home/ubuntu/anaconda3/envs/tensorflow_p36/lib/python3.6/site-packages/sklearn/svm/base.py:218: ConvergenceWarning: Solver terminated early (max_iter=10).  Consider pre-processing your data with StandardScaler or MinMaxScaler.\n",
      "  % self.max_iter, ConvergenceWarning)\n"
     ]
    },
    {
     "name": "stdout",
     "output_type": "stream",
     "text": [
      "[CV]  C=100.0, gamma=1.0, max_iter=10.0, score=0.5055946953999171, total=   0.6s\n",
      "[CV] C=100.0, gamma=1.0, max_iter=10.0 ...............................\n"
     ]
    },
    {
     "name": "stderr",
     "output_type": "stream",
     "text": [
      "/home/ubuntu/anaconda3/envs/tensorflow_p36/lib/python3.6/site-packages/sklearn/svm/base.py:218: ConvergenceWarning: Solver terminated early (max_iter=10).  Consider pre-processing your data with StandardScaler or MinMaxScaler.\n",
      "  % self.max_iter, ConvergenceWarning)\n"
     ]
    },
    {
     "name": "stdout",
     "output_type": "stream",
     "text": [
      "[CV]  C=10.0, gamma=1.0, max_iter=10000.0, score=0.504769805060141, total= 2.4min\n",
      "[CV] C=100.0, gamma=1.0, max_iter=10.0 ...............................\n",
      "[CV]  C=100.0, gamma=1.0, max_iter=10.0, score=0.5020729684908789, total=   0.6s\n",
      "[CV] C=100.0, gamma=1.0, max_iter=100.0 ..............................\n"
     ]
    },
    {
     "name": "stderr",
     "output_type": "stream",
     "text": [
      "/home/ubuntu/anaconda3/envs/tensorflow_p36/lib/python3.6/site-packages/sklearn/svm/base.py:218: ConvergenceWarning: Solver terminated early (max_iter=10).  Consider pre-processing your data with StandardScaler or MinMaxScaler.\n",
      "  % self.max_iter, ConvergenceWarning)\n"
     ]
    },
    {
     "name": "stdout",
     "output_type": "stream",
     "text": [
      "[CV]  C=100.0, gamma=1.0, max_iter=10.0, score=0.5097469929489838, total=   0.5s\n",
      "[CV] C=100.0, gamma=1.0, max_iter=100.0 ..............................\n"
     ]
    },
    {
     "name": "stderr",
     "output_type": "stream",
     "text": [
      "/home/ubuntu/anaconda3/envs/tensorflow_p36/lib/python3.6/site-packages/sklearn/svm/base.py:218: ConvergenceWarning: Solver terminated early (max_iter=10).  Consider pre-processing your data with StandardScaler or MinMaxScaler.\n",
      "  % self.max_iter, ConvergenceWarning)\n"
     ]
    },
    {
     "name": "stdout",
     "output_type": "stream",
     "text": [
      "[CV]  C=100.0, gamma=1.0, max_iter=10.0, score=0.5051845707175446, total=   0.6s\n",
      "[CV] C=100.0, gamma=1.0, max_iter=100.0 ..............................\n",
      "[CV]  C=100.0, gamma=0.01, max_iter=10000.0, score=0.9929489838241393, total=  16.6s\n",
      "[CV] C=100.0, gamma=1.0, max_iter=100.0 ..............................\n"
     ]
    },
    {
     "name": "stderr",
     "output_type": "stream",
     "text": [
      "/home/ubuntu/anaconda3/envs/tensorflow_p36/lib/python3.6/site-packages/sklearn/svm/base.py:218: ConvergenceWarning: Solver terminated early (max_iter=100).  Consider pre-processing your data with StandardScaler or MinMaxScaler.\n",
      "  % self.max_iter, ConvergenceWarning)\n",
      "/home/ubuntu/anaconda3/envs/tensorflow_p36/lib/python3.6/site-packages/sklearn/svm/base.py:218: ConvergenceWarning: Solver terminated early (max_iter=100).  Consider pre-processing your data with StandardScaler or MinMaxScaler.\n",
      "  % self.max_iter, ConvergenceWarning)\n",
      "/home/ubuntu/anaconda3/envs/tensorflow_p36/lib/python3.6/site-packages/sklearn/svm/base.py:218: ConvergenceWarning: Solver terminated early (max_iter=100).  Consider pre-processing your data with StandardScaler or MinMaxScaler.\n",
      "  % self.max_iter, ConvergenceWarning)\n",
      "/home/ubuntu/anaconda3/envs/tensorflow_p36/lib/python3.6/site-packages/sklearn/svm/base.py:218: ConvergenceWarning: Solver terminated early (max_iter=100).  Consider pre-processing your data with StandardScaler or MinMaxScaler.\n",
      "  % self.max_iter, ConvergenceWarning)\n"
     ]
    },
    {
     "name": "stdout",
     "output_type": "stream",
     "text": [
      "[CV]  C=100.0, gamma=1.0, max_iter=100.0, score=0.5598839618731869, total=   3.8s\n",
      "[CV] C=100.0, gamma=1.0, max_iter=1000.0 .............................\n",
      "[CV]  C=100.0, gamma=1.0, max_iter=100.0, score=0.5534825870646766, total=   3.7s\n",
      "[CV] C=100.0, gamma=1.0, max_iter=1000.0 .............................\n",
      "[CV]  C=100.0, gamma=1.0, max_iter=100.0, score=0.5503940273745334, total=   3.6s\n",
      "[CV] C=100.0, gamma=1.0, max_iter=1000.0 .............................\n",
      "[CV]  C=100.0, gamma=1.0, max_iter=100.0, score=0.5197013687266694, total=   3.5s\n",
      "[CV] C=100.0, gamma=1.0, max_iter=1000.0 .............................\n"
     ]
    },
    {
     "name": "stderr",
     "output_type": "stream",
     "text": [
      "/home/ubuntu/anaconda3/envs/tensorflow_p36/lib/python3.6/site-packages/sklearn/svm/base.py:218: ConvergenceWarning: Solver terminated early (max_iter=1000).  Consider pre-processing your data with StandardScaler or MinMaxScaler.\n",
      "  % self.max_iter, ConvergenceWarning)\n",
      "/home/ubuntu/anaconda3/envs/tensorflow_p36/lib/python3.6/site-packages/sklearn/svm/base.py:218: ConvergenceWarning: Solver terminated early (max_iter=1000).  Consider pre-processing your data with StandardScaler or MinMaxScaler.\n",
      "  % self.max_iter, ConvergenceWarning)\n",
      "/home/ubuntu/anaconda3/envs/tensorflow_p36/lib/python3.6/site-packages/sklearn/svm/base.py:218: ConvergenceWarning: Solver terminated early (max_iter=1000).  Consider pre-processing your data with StandardScaler or MinMaxScaler.\n",
      "  % self.max_iter, ConvergenceWarning)\n",
      "/home/ubuntu/anaconda3/envs/tensorflow_p36/lib/python3.6/site-packages/sklearn/svm/base.py:218: ConvergenceWarning: Solver terminated early (max_iter=1000).  Consider pre-processing your data with StandardScaler or MinMaxScaler.\n",
      "  % self.max_iter, ConvergenceWarning)\n",
      "/home/ubuntu/anaconda3/envs/tensorflow_p36/lib/python3.6/site-packages/sklearn/svm/base.py:218: ConvergenceWarning: Solver terminated early (max_iter=1000).  Consider pre-processing your data with StandardScaler or MinMaxScaler.\n",
      "  % self.max_iter, ConvergenceWarning)\n",
      "/home/ubuntu/anaconda3/envs/tensorflow_p36/lib/python3.6/site-packages/sklearn/svm/base.py:218: ConvergenceWarning: Solver terminated early (max_iter=1000).  Consider pre-processing your data with StandardScaler or MinMaxScaler.\n",
      "  % self.max_iter, ConvergenceWarning)\n",
      "/home/ubuntu/anaconda3/envs/tensorflow_p36/lib/python3.6/site-packages/sklearn/svm/base.py:218: ConvergenceWarning: Solver terminated early (max_iter=1000).  Consider pre-processing your data with StandardScaler or MinMaxScaler.\n",
      "  % self.max_iter, ConvergenceWarning)\n",
      "/home/ubuntu/anaconda3/envs/tensorflow_p36/lib/python3.6/site-packages/sklearn/svm/base.py:218: ConvergenceWarning: Solver terminated early (max_iter=1000).  Consider pre-processing your data with StandardScaler or MinMaxScaler.\n",
      "  % self.max_iter, ConvergenceWarning)\n"
     ]
    },
    {
     "name": "stdout",
     "output_type": "stream",
     "text": [
      "[CV]  C=10.0, gamma=10.0, max_iter=10000.0, score=0.504769805060141, total= 2.3min\n",
      "[CV] C=100.0, gamma=1.0, max_iter=10000.0 ............................\n",
      "[CV]  C=10.0, gamma=10.0, max_iter=10000.0, score=0.5049751243781094, total= 2.3min\n",
      "[CV] C=100.0, gamma=1.0, max_iter=10000.0 ............................\n",
      "[CV]  C=10.0, gamma=10.0, max_iter=10000.0, score=0.5047658516369664, total= 2.3min\n",
      "[CV]  C=10.0, gamma=10.0, max_iter=10000.0, score=0.504769805060141, total= 2.3min\n",
      "[CV] C=100.0, gamma=1.0, max_iter=10000.0 ............................\n",
      "[CV] C=100.0, gamma=1.0, max_iter=10000.0 ............................\n",
      "[CV]  C=100.0, gamma=0.1, max_iter=1000.0, score=0.988391376451078, total=  38.1s\n",
      "[CV] C=100.0, gamma=10.0, max_iter=10.0 ..............................\n",
      "[CV]  C=100.0, gamma=0.1, max_iter=1000.0, score=0.9767923746373809, total=  38.4s\n",
      "[CV] C=100.0, gamma=10.0, max_iter=10.0 ..............................\n"
     ]
    },
    {
     "name": "stderr",
     "output_type": "stream",
     "text": [
      "/home/ubuntu/anaconda3/envs/tensorflow_p36/lib/python3.6/site-packages/sklearn/svm/base.py:218: ConvergenceWarning: Solver terminated early (max_iter=10).  Consider pre-processing your data with StandardScaler or MinMaxScaler.\n",
      "  % self.max_iter, ConvergenceWarning)\n",
      "/home/ubuntu/anaconda3/envs/tensorflow_p36/lib/python3.6/site-packages/sklearn/svm/base.py:218: ConvergenceWarning: Solver terminated early (max_iter=10).  Consider pre-processing your data with StandardScaler or MinMaxScaler.\n",
      "  % self.max_iter, ConvergenceWarning)\n"
     ]
    },
    {
     "name": "stdout",
     "output_type": "stream",
     "text": [
      "[CV]  C=100.0, gamma=10.0, max_iter=10.0, score=0.6929133858267716, total=   0.6s\n",
      "[CV] C=100.0, gamma=10.0, max_iter=10.0 ..............................\n",
      "[CV]  C=100.0, gamma=10.0, max_iter=10.0, score=0.6820066334991708, total=   0.5s\n",
      "[CV] C=100.0, gamma=10.0, max_iter=10.0 ..............................\n"
     ]
    },
    {
     "name": "stderr",
     "output_type": "stream",
     "text": [
      "/home/ubuntu/anaconda3/envs/tensorflow_p36/lib/python3.6/site-packages/sklearn/svm/base.py:218: ConvergenceWarning: Solver terminated early (max_iter=10).  Consider pre-processing your data with StandardScaler or MinMaxScaler.\n",
      "  % self.max_iter, ConvergenceWarning)\n"
     ]
    },
    {
     "name": "stdout",
     "output_type": "stream",
     "text": [
      "[CV]  C=100.0, gamma=0.1, max_iter=1000.0, score=0.975114060555786, total=  38.8s\n",
      "[CV] C=100.0, gamma=10.0, max_iter=100.0 .............................\n",
      "[CV]  C=100.0, gamma=10.0, max_iter=10.0, score=0.6914143508917462, total=   0.5s\n"
     ]
    },
    {
     "name": "stderr",
     "output_type": "stream",
     "text": [
      "/home/ubuntu/anaconda3/envs/tensorflow_p36/lib/python3.6/site-packages/sklearn/svm/base.py:218: ConvergenceWarning: Solver terminated early (max_iter=10).  Consider pre-processing your data with StandardScaler or MinMaxScaler.\n",
      "  % self.max_iter, ConvergenceWarning)\n"
     ]
    },
    {
     "name": "stdout",
     "output_type": "stream",
     "text": [
      "[CV] C=100.0, gamma=10.0, max_iter=100.0 .............................\n",
      "[CV]  C=100.0, gamma=10.0, max_iter=10.0, score=0.7038573206138532, total=   0.6s\n",
      "[CV] C=100.0, gamma=10.0, max_iter=100.0 .............................\n",
      "[CV]  C=100.0, gamma=0.1, max_iter=1000.0, score=0.9867274989630859, total=  38.6s\n",
      "[CV] C=100.0, gamma=10.0, max_iter=100.0 .............................\n"
     ]
    },
    {
     "name": "stderr",
     "output_type": "stream",
     "text": [
      "/home/ubuntu/anaconda3/envs/tensorflow_p36/lib/python3.6/site-packages/sklearn/svm/base.py:218: ConvergenceWarning: Solver terminated early (max_iter=100).  Consider pre-processing your data with StandardScaler or MinMaxScaler.\n",
      "  % self.max_iter, ConvergenceWarning)\n",
      "/home/ubuntu/anaconda3/envs/tensorflow_p36/lib/python3.6/site-packages/sklearn/svm/base.py:218: ConvergenceWarning: Solver terminated early (max_iter=100).  Consider pre-processing your data with StandardScaler or MinMaxScaler.\n",
      "  % self.max_iter, ConvergenceWarning)\n",
      "/home/ubuntu/anaconda3/envs/tensorflow_p36/lib/python3.6/site-packages/sklearn/svm/base.py:218: ConvergenceWarning: Solver terminated early (max_iter=100).  Consider pre-processing your data with StandardScaler or MinMaxScaler.\n",
      "  % self.max_iter, ConvergenceWarning)\n",
      "/home/ubuntu/anaconda3/envs/tensorflow_p36/lib/python3.6/site-packages/sklearn/svm/base.py:218: ConvergenceWarning: Solver terminated early (max_iter=100).  Consider pre-processing your data with StandardScaler or MinMaxScaler.\n",
      "  % self.max_iter, ConvergenceWarning)\n"
     ]
    },
    {
     "name": "stdout",
     "output_type": "stream",
     "text": [
      "[CV]  C=100.0, gamma=10.0, max_iter=100.0, score=0.49896394529631166, total=   3.7s\n",
      "[CV] C=100.0, gamma=10.0, max_iter=1000.0 ............................\n",
      "[CV]  C=100.0, gamma=10.0, max_iter=100.0, score=0.4975124378109453, total=   3.7s\n",
      "[CV] C=100.0, gamma=10.0, max_iter=1000.0 ............................\n",
      "[CV]  C=100.0, gamma=10.0, max_iter=100.0, score=0.4968892575694733, total=   3.6s\n",
      "[CV] C=100.0, gamma=10.0, max_iter=1000.0 ............................\n",
      "[CV]  C=100.0, gamma=10.0, max_iter=100.0, score=0.8975528826213189, total=   3.6s\n",
      "[CV] C=100.0, gamma=10.0, max_iter=1000.0 ............................\n",
      "[CV]  C=100.0, gamma=1.0, max_iter=1000.0, score=0.6406962287608786, total=  39.1s\n",
      "[CV] C=100.0, gamma=10.0, max_iter=10000.0 ...........................\n",
      "[CV]  C=100.0, gamma=1.0, max_iter=1000.0, score=0.654228855721393, total=  39.2s\n",
      "[CV] C=100.0, gamma=10.0, max_iter=10000.0 ...........................\n",
      "[CV]  C=100.0, gamma=1.0, max_iter=1000.0, score=0.671505599336375, total=  39.1s\n",
      "[CV] C=100.0, gamma=10.0, max_iter=10000.0 ...........................\n",
      "[CV]  C=100.0, gamma=1.0, max_iter=1000.0, score=0.5644960597262547, total=  39.1s\n",
      "[CV] C=100.0, gamma=10.0, max_iter=10000.0 ...........................\n"
     ]
    },
    {
     "name": "stderr",
     "output_type": "stream",
     "text": [
      "/home/ubuntu/anaconda3/envs/tensorflow_p36/lib/python3.6/site-packages/sklearn/svm/base.py:218: ConvergenceWarning: Solver terminated early (max_iter=1000).  Consider pre-processing your data with StandardScaler or MinMaxScaler.\n",
      "  % self.max_iter, ConvergenceWarning)\n",
      "/home/ubuntu/anaconda3/envs/tensorflow_p36/lib/python3.6/site-packages/sklearn/svm/base.py:218: ConvergenceWarning: Solver terminated early (max_iter=1000).  Consider pre-processing your data with StandardScaler or MinMaxScaler.\n",
      "  % self.max_iter, ConvergenceWarning)\n",
      "/home/ubuntu/anaconda3/envs/tensorflow_p36/lib/python3.6/site-packages/sklearn/svm/base.py:218: ConvergenceWarning: Solver terminated early (max_iter=1000).  Consider pre-processing your data with StandardScaler or MinMaxScaler.\n",
      "  % self.max_iter, ConvergenceWarning)\n",
      "/home/ubuntu/anaconda3/envs/tensorflow_p36/lib/python3.6/site-packages/sklearn/svm/base.py:218: ConvergenceWarning: Solver terminated early (max_iter=1000).  Consider pre-processing your data with StandardScaler or MinMaxScaler.\n",
      "  % self.max_iter, ConvergenceWarning)\n"
     ]
    },
    {
     "name": "stdout",
     "output_type": "stream",
     "text": [
      "[CV]  C=100.0, gamma=10.0, max_iter=1000.0, score=0.4956485702445089, total=  38.9s\n",
      "[CV]  C=100.0, gamma=10.0, max_iter=1000.0, score=0.49585406301824214, total=  38.7s\n",
      "[CV]  C=100.0, gamma=10.0, max_iter=1000.0, score=0.495230194939859, total=  39.6s\n",
      "[CV]  C=100.0, gamma=10.0, max_iter=1000.0, score=0.4960597262546661, total=  39.7s\n"
     ]
    },
    {
     "name": "stderr",
     "output_type": "stream",
     "text": [
      "/home/ubuntu/anaconda3/envs/tensorflow_p36/lib/python3.6/site-packages/sklearn/svm/base.py:218: ConvergenceWarning: Solver terminated early (max_iter=10000).  Consider pre-processing your data with StandardScaler or MinMaxScaler.\n",
      "  % self.max_iter, ConvergenceWarning)\n",
      "/home/ubuntu/anaconda3/envs/tensorflow_p36/lib/python3.6/site-packages/sklearn/svm/base.py:218: ConvergenceWarning: Solver terminated early (max_iter=10000).  Consider pre-processing your data with StandardScaler or MinMaxScaler.\n",
      "  % self.max_iter, ConvergenceWarning)\n",
      "/home/ubuntu/anaconda3/envs/tensorflow_p36/lib/python3.6/site-packages/sklearn/svm/base.py:218: ConvergenceWarning: Solver terminated early (max_iter=10000).  Consider pre-processing your data with StandardScaler or MinMaxScaler.\n",
      "  % self.max_iter, ConvergenceWarning)\n",
      "/home/ubuntu/anaconda3/envs/tensorflow_p36/lib/python3.6/site-packages/sklearn/svm/base.py:218: ConvergenceWarning: Solver terminated early (max_iter=10000).  Consider pre-processing your data with StandardScaler or MinMaxScaler.\n",
      "  % self.max_iter, ConvergenceWarning)\n"
     ]
    },
    {
     "name": "stdout",
     "output_type": "stream",
     "text": [
      "[CV]  C=100.0, gamma=0.1, max_iter=10000.0, score=0.9664318276004973, total= 2.0min\n"
     ]
    },
    {
     "name": "stderr",
     "output_type": "stream",
     "text": [
      "/home/ubuntu/anaconda3/envs/tensorflow_p36/lib/python3.6/site-packages/sklearn/svm/base.py:218: ConvergenceWarning: Solver terminated early (max_iter=10000).  Consider pre-processing your data with StandardScaler or MinMaxScaler.\n",
      "  % self.max_iter, ConvergenceWarning)\n",
      "/home/ubuntu/anaconda3/envs/tensorflow_p36/lib/python3.6/site-packages/sklearn/svm/base.py:218: ConvergenceWarning: Solver terminated early (max_iter=10000).  Consider pre-processing your data with StandardScaler or MinMaxScaler.\n",
      "  % self.max_iter, ConvergenceWarning)\n",
      "/home/ubuntu/anaconda3/envs/tensorflow_p36/lib/python3.6/site-packages/sklearn/svm/base.py:218: ConvergenceWarning: Solver terminated early (max_iter=10000).  Consider pre-processing your data with StandardScaler or MinMaxScaler.\n",
      "  % self.max_iter, ConvergenceWarning)\n",
      "/home/ubuntu/anaconda3/envs/tensorflow_p36/lib/python3.6/site-packages/sklearn/svm/base.py:218: ConvergenceWarning: Solver terminated early (max_iter=10000).  Consider pre-processing your data with StandardScaler or MinMaxScaler.\n",
      "  % self.max_iter, ConvergenceWarning)\n"
     ]
    },
    {
     "name": "stdout",
     "output_type": "stream",
     "text": [
      "[CV]  C=100.0, gamma=0.1, max_iter=10000.0, score=0.9821724709784412, total= 2.0min\n",
      "[CV]  C=100.0, gamma=0.1, max_iter=10000.0, score=0.9668187474077147, total= 2.0min\n",
      "[CV]  C=100.0, gamma=0.1, max_iter=10000.0, score=0.9771878888428038, total= 2.0min\n",
      "[CV]  C=100.0, gamma=1.0, max_iter=10000.0, score=0.5049751243781094, total= 2.1min\n",
      "[CV]  C=100.0, gamma=1.0, max_iter=10000.0, score=0.504769805060141, total= 2.1min\n",
      "[CV]  C=100.0, gamma=1.0, max_iter=10000.0, score=0.504769805060141, total= 2.1min\n",
      "[CV]  C=100.0, gamma=1.0, max_iter=10000.0, score=0.5047658516369664, total= 2.1min\n",
      "[CV]  C=100.0, gamma=10.0, max_iter=10000.0, score=0.504769805060141, total= 1.8min\n",
      "[CV]  C=100.0, gamma=10.0, max_iter=10000.0, score=0.504769805060141, total= 1.9min\n",
      "[CV]  C=100.0, gamma=10.0, max_iter=10000.0, score=0.5047658516369664, total= 1.9min\n",
      "[CV]  C=100.0, gamma=10.0, max_iter=10000.0, score=0.5049751243781094, total= 1.9min\n"
     ]
    },
    {
     "name": "stderr",
     "output_type": "stream",
     "text": [
      "[Parallel(n_jobs=-1)]: Done 576 out of 576 | elapsed: 37.1min finished\n"
     ]
    },
    {
     "data": {
      "text/plain": [
       "GridSearchCV(cv=4, error_score='raise',\n",
       "       estimator=SVC(C=1.0, cache_size=200, class_weight=None, coef0=0.0,\n",
       "  decision_function_shape='ovr', degree=3, gamma='auto', kernel='rbf',\n",
       "  max_iter=-1, probability=False, random_state=1, shrinking=True,\n",
       "  tol=0.001, verbose=False),\n",
       "       fit_params=None, iid=True, n_jobs=-1,\n",
       "       param_grid={'C': array([1.e-03, 1.e-02, 1.e-01, 1.e+00, 1.e+01, 1.e+02]), 'max_iter': array([   10.,   100.,  1000., 10000.]), 'gamma': array([1.e-04, 1.e-03, 1.e-02, 1.e-01, 1.e+00, 1.e+01])},\n",
       "       pre_dispatch='2*n_jobs', refit=True, return_train_score=True,\n",
       "       scoring='accuracy', verbose=10)"
      ]
     },
     "execution_count": 23,
     "metadata": {},
     "output_type": "execute_result"
    }
   ],
   "source": [
    "rbf_grid_search.fit(X_train_scaled, y_train)"
   ]
  },
  {
   "cell_type": "code",
   "execution_count": 24,
   "metadata": {},
   "outputs": [],
   "source": [
    "save_search_result(rbf_grid_search, dataset, learner_type, extras='rbf')"
   ]
  },
  {
   "cell_type": "markdown",
   "metadata": {},
   "source": [
    "### Analysis (RBF)"
   ]
  },
  {
   "cell_type": "code",
   "execution_count": 10,
   "metadata": {},
   "outputs": [],
   "source": [
    "# rbf_res = rbf_grid_search.cv_results_\n",
    "rbf_res = load_result_by_name('search_MNIST_SVM_0.991_2018-09-23_13-39-04-00_rbf.pkl')\n",
    "rbf_df = scikit_cv_result_to_df(rbf_res)"
   ]
  },
  {
   "cell_type": "code",
   "execution_count": 11,
   "metadata": {},
   "outputs": [
    {
     "data": {
      "text/html": [
       "<div>\n",
       "<style scoped>\n",
       "    .dataframe tbody tr th:only-of-type {\n",
       "        vertical-align: middle;\n",
       "    }\n",
       "\n",
       "    .dataframe tbody tr th {\n",
       "        vertical-align: top;\n",
       "    }\n",
       "\n",
       "    .dataframe thead th {\n",
       "        text-align: right;\n",
       "    }\n",
       "</style>\n",
       "<table border=\"1\" class=\"dataframe\">\n",
       "  <thead>\n",
       "    <tr style=\"text-align: right;\">\n",
       "      <th></th>\n",
       "      <th></th>\n",
       "      <th></th>\n",
       "      <th>mean_fit_time</th>\n",
       "      <th>std_fit_time</th>\n",
       "      <th>mean_score_time</th>\n",
       "      <th>std_score_time</th>\n",
       "      <th>mean_test_score</th>\n",
       "      <th>std_test_score</th>\n",
       "      <th>rank_test_score</th>\n",
       "      <th>mean_train_score</th>\n",
       "      <th>std_train_score</th>\n",
       "    </tr>\n",
       "    <tr>\n",
       "      <th>C</th>\n",
       "      <th>gamma</th>\n",
       "      <th>max_iter</th>\n",
       "      <th></th>\n",
       "      <th></th>\n",
       "      <th></th>\n",
       "      <th></th>\n",
       "      <th></th>\n",
       "      <th></th>\n",
       "      <th></th>\n",
       "      <th></th>\n",
       "      <th></th>\n",
       "    </tr>\n",
       "  </thead>\n",
       "  <tbody>\n",
       "    <tr>\n",
       "      <th rowspan=\"2\" valign=\"top\">100.0</th>\n",
       "      <th rowspan=\"2\" valign=\"top\">0.010</th>\n",
       "      <th>10000.0</th>\n",
       "      <td>12.430610</td>\n",
       "      <td>0.395694</td>\n",
       "      <td>3.377012</td>\n",
       "      <td>0.260262</td>\n",
       "      <td>0.990671</td>\n",
       "      <td>0.001450</td>\n",
       "      <td>1</td>\n",
       "      <td>1.000000</td>\n",
       "      <td>0.000000</td>\n",
       "    </tr>\n",
       "    <tr>\n",
       "      <th>1000.0</th>\n",
       "      <td>11.187033</td>\n",
       "      <td>0.586084</td>\n",
       "      <td>3.242040</td>\n",
       "      <td>0.167266</td>\n",
       "      <td>0.990152</td>\n",
       "      <td>0.001416</td>\n",
       "      <td>2</td>\n",
       "      <td>1.000000</td>\n",
       "      <td>0.000000</td>\n",
       "    </tr>\n",
       "    <tr>\n",
       "      <th rowspan=\"2\" valign=\"top\">10.0</th>\n",
       "      <th rowspan=\"2\" valign=\"top\">0.010</th>\n",
       "      <th>1000.0</th>\n",
       "      <td>11.053108</td>\n",
       "      <td>0.413901</td>\n",
       "      <td>3.328316</td>\n",
       "      <td>0.164974</td>\n",
       "      <td>0.989634</td>\n",
       "      <td>0.001492</td>\n",
       "      <td>3</td>\n",
       "      <td>0.999309</td>\n",
       "      <td>0.000259</td>\n",
       "    </tr>\n",
       "    <tr>\n",
       "      <th>10000.0</th>\n",
       "      <td>12.671562</td>\n",
       "      <td>0.443303</td>\n",
       "      <td>3.527945</td>\n",
       "      <td>0.130352</td>\n",
       "      <td>0.989634</td>\n",
       "      <td>0.001827</td>\n",
       "      <td>3</td>\n",
       "      <td>0.999309</td>\n",
       "      <td>0.000259</td>\n",
       "    </tr>\n",
       "    <tr>\n",
       "      <th rowspan=\"2\" valign=\"top\">1.0</th>\n",
       "      <th rowspan=\"2\" valign=\"top\">0.010</th>\n",
       "      <th>10000.0</th>\n",
       "      <td>17.309804</td>\n",
       "      <td>0.404201</td>\n",
       "      <td>4.687074</td>\n",
       "      <td>0.196948</td>\n",
       "      <td>0.984555</td>\n",
       "      <td>0.003174</td>\n",
       "      <td>5</td>\n",
       "      <td>0.990498</td>\n",
       "      <td>0.000984</td>\n",
       "    </tr>\n",
       "    <tr>\n",
       "      <th>1000.0</th>\n",
       "      <td>16.968641</td>\n",
       "      <td>0.319464</td>\n",
       "      <td>4.862162</td>\n",
       "      <td>0.061666</td>\n",
       "      <td>0.984555</td>\n",
       "      <td>0.003201</td>\n",
       "      <td>5</td>\n",
       "      <td>0.990463</td>\n",
       "      <td>0.001006</td>\n",
       "    </tr>\n",
       "    <tr>\n",
       "      <th>100.0</th>\n",
       "      <th>0.001</th>\n",
       "      <th>10000.0</th>\n",
       "      <td>12.318472</td>\n",
       "      <td>0.472747</td>\n",
       "      <td>3.109514</td>\n",
       "      <td>0.121770</td>\n",
       "      <td>0.982171</td>\n",
       "      <td>0.002005</td>\n",
       "      <td>7</td>\n",
       "      <td>0.993055</td>\n",
       "      <td>0.000511</td>\n",
       "    </tr>\n",
       "    <tr>\n",
       "      <th>1.0</th>\n",
       "      <th>0.100</th>\n",
       "      <th>1000.0</th>\n",
       "      <td>28.904677</td>\n",
       "      <td>0.297902</td>\n",
       "      <td>9.177925</td>\n",
       "      <td>0.073691</td>\n",
       "      <td>0.981860</td>\n",
       "      <td>0.005105</td>\n",
       "      <td>8</td>\n",
       "      <td>0.999862</td>\n",
       "      <td>0.000098</td>\n",
       "    </tr>\n",
       "    <tr>\n",
       "      <th>100.0</th>\n",
       "      <th>0.100</th>\n",
       "      <th>1000.0</th>\n",
       "      <td>29.241001</td>\n",
       "      <td>0.251038</td>\n",
       "      <td>9.236187</td>\n",
       "      <td>0.038115</td>\n",
       "      <td>0.981756</td>\n",
       "      <td>0.005863</td>\n",
       "      <td>9</td>\n",
       "      <td>1.000000</td>\n",
       "      <td>0.000000</td>\n",
       "    </tr>\n",
       "    <tr>\n",
       "      <th>10.0</th>\n",
       "      <th>0.100</th>\n",
       "      <th>1000.0</th>\n",
       "      <td>28.606597</td>\n",
       "      <td>0.210735</td>\n",
       "      <td>9.249605</td>\n",
       "      <td>0.044490</td>\n",
       "      <td>0.981756</td>\n",
       "      <td>0.005863</td>\n",
       "      <td>9</td>\n",
       "      <td>1.000000</td>\n",
       "      <td>0.000000</td>\n",
       "    </tr>\n",
       "  </tbody>\n",
       "</table>\n",
       "</div>"
      ],
      "text/plain": [
       "                      mean_fit_time  std_fit_time  mean_score_time  \\\n",
       "C     gamma max_iter                                                 \n",
       "100.0 0.010 10000.0       12.430610      0.395694         3.377012   \n",
       "            1000.0        11.187033      0.586084         3.242040   \n",
       "10.0  0.010 1000.0        11.053108      0.413901         3.328316   \n",
       "            10000.0       12.671562      0.443303         3.527945   \n",
       "1.0   0.010 10000.0       17.309804      0.404201         4.687074   \n",
       "            1000.0        16.968641      0.319464         4.862162   \n",
       "100.0 0.001 10000.0       12.318472      0.472747         3.109514   \n",
       "1.0   0.100 1000.0        28.904677      0.297902         9.177925   \n",
       "100.0 0.100 1000.0        29.241001      0.251038         9.236187   \n",
       "10.0  0.100 1000.0        28.606597      0.210735         9.249605   \n",
       "\n",
       "                      std_score_time  mean_test_score  std_test_score  \\\n",
       "C     gamma max_iter                                                    \n",
       "100.0 0.010 10000.0         0.260262         0.990671        0.001450   \n",
       "            1000.0          0.167266         0.990152        0.001416   \n",
       "10.0  0.010 1000.0          0.164974         0.989634        0.001492   \n",
       "            10000.0         0.130352         0.989634        0.001827   \n",
       "1.0   0.010 10000.0         0.196948         0.984555        0.003174   \n",
       "            1000.0          0.061666         0.984555        0.003201   \n",
       "100.0 0.001 10000.0         0.121770         0.982171        0.002005   \n",
       "1.0   0.100 1000.0          0.073691         0.981860        0.005105   \n",
       "100.0 0.100 1000.0          0.038115         0.981756        0.005863   \n",
       "10.0  0.100 1000.0          0.044490         0.981756        0.005863   \n",
       "\n",
       "                      rank_test_score  mean_train_score  std_train_score  \n",
       "C     gamma max_iter                                                      \n",
       "100.0 0.010 10000.0                 1          1.000000         0.000000  \n",
       "            1000.0                  2          1.000000         0.000000  \n",
       "10.0  0.010 1000.0                  3          0.999309         0.000259  \n",
       "            10000.0                 3          0.999309         0.000259  \n",
       "1.0   0.010 10000.0                 5          0.990498         0.000984  \n",
       "            1000.0                  5          0.990463         0.001006  \n",
       "100.0 0.001 10000.0                 7          0.993055         0.000511  \n",
       "1.0   0.100 1000.0                  8          0.999862         0.000098  \n",
       "100.0 0.100 1000.0                  9          1.000000         0.000000  \n",
       "10.0  0.100 1000.0                  9          1.000000         0.000000  "
      ]
     },
     "execution_count": 11,
     "metadata": {},
     "output_type": "execute_result"
    }
   ],
   "source": [
    "rbf_df.sort_values(by='rank_test_score').head(10)"
   ]
  },
  {
   "cell_type": "code",
   "execution_count": 12,
   "metadata": {},
   "outputs": [
    {
     "data": {
      "text/plain": [
       "<matplotlib.axes._subplots.AxesSubplot at 0x7fde0c30c518>"
      ]
     },
     "execution_count": 12,
     "metadata": {},
     "output_type": "execute_result"
    },
    {
     "data": {
      "image/png": "[encoded data removed]",
      "text/plain": [
       "<Figure size 432x288 with 2 Axes>"
      ]
     },
     "metadata": {},
     "output_type": "display_data"
    }
   ],
   "source": [
    "rbf10000 = rbf_df.xs(10000.0, level='max_iter').reset_index()\n",
    "rbf10000.plot(kind='scatter', x='C', y='gamma', c='mean_test_score', s=rbf10000['std_test_score']*200000, cmap='winter', logx=True, logy=True)"
   ]
  },
  {
   "cell_type": "code",
   "execution_count": 15,
   "metadata": {},
   "outputs": [
    {
     "data": {
      "image/png": "[encoded data removed]",
      "text/plain": [
       "<Figure size 432x288 with 1 Axes>"
      ]
     },
     "metadata": {},
     "output_type": "display_data"
    }
   ],
   "source": [
    "# Interesting cross sections above include gamma = 10^-1 and 10^-2\n",
    "rbf_validation_curve1 = rbf_df.xs((10000.0, 0.01), level=('max_iter', 'gamma'))\n",
    "rbf_validation_curve2 = rbf_df.xs((10000.0, 0.1), level=('max_iter', 'gamma'))\n",
    "means = [rbf_validation_curve1['mean_train_score'], rbf_validation_curve2['mean_train_score'], rbf_validation_curve1['mean_test_score'], rbf_validation_curve2['mean_test_score']]\n",
    "stds = [rbf_validation_curve1['std_train_score'], rbf_validation_curve2['std_train_score'], rbf_validation_curve1['std_test_score'], rbf_validation_curve2['std_test_score']]\n",
    "labels = ['Train: gamma=0.01', 'Train: gamma=0.1', 'CV: gamma=0.01', 'CV: gamma=0.1']\n",
    "\n",
    "plot_means_w_stds(means,stds,rbf_param_grid['C'], ylim=[0.79, 1.01], series_labels=labels, ylabel='Accuracy', xlabel='C', logx=True, title='MNIST - SVM (RBF) Validation curves', legend=True)\n"
   ]
  },
  {
   "cell_type": "code",
   "execution_count": 16,
   "metadata": {},
   "outputs": [
    {
     "data": {
      "image/png": "[encoded data removed]",
      "text/plain": [
       "<Figure size 432x288 with 1 Axes>"
      ]
     },
     "metadata": {},
     "output_type": "display_data"
    }
   ],
   "source": [
    "rbf_iter_curve1 = rbf_df.xs((100.0, 0.01), level=('C', 'gamma'))\n",
    "rbf_iter_curve2 = rbf_df.xs((100.0, 0.1), level=('C', 'gamma'))\n",
    "means = [rbf_iter_curve1['mean_train_score'], rbf_iter_curve2['mean_train_score'], rbf_iter_curve1['mean_test_score'], rbf_iter_curve2['mean_test_score']]\n",
    "stds = [rbf_iter_curve1['std_train_score'], rbf_iter_curve2['std_train_score'], rbf_iter_curve1['std_test_score'], rbf_iter_curve2['std_test_score']]\n",
    "labels = ['Train: gamma=0.01, C=100', 'Train: gamma=0.1, C=100', 'CV: gamma=0.01, C=100', 'CV: gamma=0.1, C=100']\n",
    "\n",
    "plot_means_w_stds(means, stds, rbf_param_grid['max_iter'], series_labels=labels, ylabel='Accuracy', xlabel='C', logx=True, title='MNIST - SVM (RBF) iteration curves', legend=True)"
   ]
  },
  {
   "cell_type": "code",
   "execution_count": 34,
   "metadata": {},
   "outputs": [
    {
     "data": {
      "image/png": "[encoded data removed]",
      "text/plain": [
       "<Figure size 432x288 with 1 Axes>"
      ]
     },
     "metadata": {},
     "output_type": "display_data"
    }
   ],
   "source": [
    "rbf_iter_curve1 = rbf_df.xs((100.0, 0.01), level=('C', 'gamma'))\n",
    "rbf_iter_curve2 = rbf_df.xs((100.0, 0.1), level=('C', 'gamma'))\n",
    "means = [rbf_iter_curve1['mean_fit_time'], rbf_iter_curve2['mean_fit_time']]\n",
    "stds = [rbf_iter_curve1['std_fit_time'], rbf_iter_curve2['std_fit_time']]\n",
    "labels = ['Train time: gamma=0.01, C=100', 'Train time: gamma=0.1, C=100']\n",
    "\n",
    "plot_means_w_stds(means, stds, rbf_param_grid['max_iter'], series_labels=labels, ylabel='Accuracy', xlabel='C', logx=True, title='MNIST - SVM (RBF) iteration curves', legend=True)"
   ]
  },
  {
   "cell_type": "markdown",
   "metadata": {},
   "source": [
    "### Analysis (linear)"
   ]
  },
  {
   "cell_type": "code",
   "execution_count": 17,
   "metadata": {},
   "outputs": [],
   "source": [
    "# lin_res = linear_grid_search.cv_results_\n",
    "lin_res = load_result_by_name('search_MNIST_SVM_0.968_2018-09-23_13-01-04-00_linear.pkl')\n",
    "lin_df = scikit_cv_result_to_df(lin_res)"
   ]
  },
  {
   "cell_type": "code",
   "execution_count": 18,
   "metadata": {},
   "outputs": [
    {
     "data": {
      "text/html": [
       "<div>\n",
       "<style scoped>\n",
       "    .dataframe tbody tr th:only-of-type {\n",
       "        vertical-align: middle;\n",
       "    }\n",
       "\n",
       "    .dataframe tbody tr th {\n",
       "        vertical-align: top;\n",
       "    }\n",
       "\n",
       "    .dataframe thead th {\n",
       "        text-align: right;\n",
       "    }\n",
       "</style>\n",
       "<table border=\"1\" class=\"dataframe\">\n",
       "  <thead>\n",
       "    <tr style=\"text-align: right;\">\n",
       "      <th></th>\n",
       "      <th></th>\n",
       "      <th>mean_fit_time</th>\n",
       "      <th>std_fit_time</th>\n",
       "      <th>mean_score_time</th>\n",
       "      <th>std_score_time</th>\n",
       "      <th>mean_test_score</th>\n",
       "      <th>std_test_score</th>\n",
       "      <th>rank_test_score</th>\n",
       "      <th>mean_train_score</th>\n",
       "      <th>std_train_score</th>\n",
       "    </tr>\n",
       "    <tr>\n",
       "      <th>C</th>\n",
       "      <th>max_iter</th>\n",
       "      <th></th>\n",
       "      <th></th>\n",
       "      <th></th>\n",
       "      <th></th>\n",
       "      <th></th>\n",
       "      <th></th>\n",
       "      <th></th>\n",
       "      <th></th>\n",
       "      <th></th>\n",
       "    </tr>\n",
       "  </thead>\n",
       "  <tbody>\n",
       "    <tr>\n",
       "      <th rowspan=\"4\" valign=\"top\">0.01</th>\n",
       "      <th>10.0</th>\n",
       "      <td>0.117976</td>\n",
       "      <td>0.011473</td>\n",
       "      <td>0.008166</td>\n",
       "      <td>0.008585</td>\n",
       "      <td>0.967969</td>\n",
       "      <td>0.001971</td>\n",
       "      <td>1</td>\n",
       "      <td>0.973532</td>\n",
       "      <td>0.000591</td>\n",
       "    </tr>\n",
       "    <tr>\n",
       "      <th>100.0</th>\n",
       "      <td>0.147295</td>\n",
       "      <td>0.013571</td>\n",
       "      <td>0.011999</td>\n",
       "      <td>0.008907</td>\n",
       "      <td>0.967969</td>\n",
       "      <td>0.002037</td>\n",
       "      <td>1</td>\n",
       "      <td>0.973601</td>\n",
       "      <td>0.000655</td>\n",
       "    </tr>\n",
       "    <tr>\n",
       "      <th>1000.0</th>\n",
       "      <td>0.151387</td>\n",
       "      <td>0.018114</td>\n",
       "      <td>0.002719</td>\n",
       "      <td>0.000138</td>\n",
       "      <td>0.967969</td>\n",
       "      <td>0.002037</td>\n",
       "      <td>1</td>\n",
       "      <td>0.973601</td>\n",
       "      <td>0.000655</td>\n",
       "    </tr>\n",
       "    <tr>\n",
       "      <th>10000.0</th>\n",
       "      <td>0.144668</td>\n",
       "      <td>0.006622</td>\n",
       "      <td>0.006615</td>\n",
       "      <td>0.004147</td>\n",
       "      <td>0.967969</td>\n",
       "      <td>0.002037</td>\n",
       "      <td>1</td>\n",
       "      <td>0.973601</td>\n",
       "      <td>0.000655</td>\n",
       "    </tr>\n",
       "    <tr>\n",
       "      <th rowspan=\"3\" valign=\"top\">0.10</th>\n",
       "      <th>10000.0</th>\n",
       "      <td>0.344841</td>\n",
       "      <td>0.032926</td>\n",
       "      <td>0.023015</td>\n",
       "      <td>0.020792</td>\n",
       "      <td>0.967140</td>\n",
       "      <td>0.003284</td>\n",
       "      <td>5</td>\n",
       "      <td>0.980685</td>\n",
       "      <td>0.000635</td>\n",
       "    </tr>\n",
       "    <tr>\n",
       "      <th>100.0</th>\n",
       "      <td>0.200431</td>\n",
       "      <td>0.019450</td>\n",
       "      <td>0.004579</td>\n",
       "      <td>0.003441</td>\n",
       "      <td>0.967140</td>\n",
       "      <td>0.003284</td>\n",
       "      <td>5</td>\n",
       "      <td>0.980754</td>\n",
       "      <td>0.000726</td>\n",
       "    </tr>\n",
       "    <tr>\n",
       "      <th>1000.0</th>\n",
       "      <td>0.308931</td>\n",
       "      <td>0.020765</td>\n",
       "      <td>0.005925</td>\n",
       "      <td>0.005831</td>\n",
       "      <td>0.967140</td>\n",
       "      <td>0.003284</td>\n",
       "      <td>5</td>\n",
       "      <td>0.980685</td>\n",
       "      <td>0.000635</td>\n",
       "    </tr>\n",
       "    <tr>\n",
       "      <th rowspan=\"2\" valign=\"top\">1.00</th>\n",
       "      <th>1000.0</th>\n",
       "      <td>0.555002</td>\n",
       "      <td>0.065529</td>\n",
       "      <td>0.007364</td>\n",
       "      <td>0.008015</td>\n",
       "      <td>0.963512</td>\n",
       "      <td>0.003381</td>\n",
       "      <td>8</td>\n",
       "      <td>0.987492</td>\n",
       "      <td>0.001162</td>\n",
       "    </tr>\n",
       "    <tr>\n",
       "      <th>10000.0</th>\n",
       "      <td>1.990991</td>\n",
       "      <td>0.134809</td>\n",
       "      <td>0.019609</td>\n",
       "      <td>0.005100</td>\n",
       "      <td>0.963201</td>\n",
       "      <td>0.003422</td>\n",
       "      <td>9</td>\n",
       "      <td>0.987561</td>\n",
       "      <td>0.001374</td>\n",
       "    </tr>\n",
       "    <tr>\n",
       "      <th>0.10</th>\n",
       "      <th>10.0</th>\n",
       "      <td>0.132617</td>\n",
       "      <td>0.021615</td>\n",
       "      <td>0.003541</td>\n",
       "      <td>0.000885</td>\n",
       "      <td>0.962890</td>\n",
       "      <td>0.004085</td>\n",
       "      <td>10</td>\n",
       "      <td>0.972911</td>\n",
       "      <td>0.004540</td>\n",
       "    </tr>\n",
       "  </tbody>\n",
       "</table>\n",
       "</div>"
      ],
      "text/plain": [
       "               mean_fit_time  std_fit_time  mean_score_time  std_score_time  \\\n",
       "C    max_iter                                                                 \n",
       "0.01 10.0           0.117976      0.011473         0.008166        0.008585   \n",
       "     100.0          0.147295      0.013571         0.011999        0.008907   \n",
       "     1000.0         0.151387      0.018114         0.002719        0.000138   \n",
       "     10000.0        0.144668      0.006622         0.006615        0.004147   \n",
       "0.10 10000.0        0.344841      0.032926         0.023015        0.020792   \n",
       "     100.0          0.200431      0.019450         0.004579        0.003441   \n",
       "     1000.0         0.308931      0.020765         0.005925        0.005831   \n",
       "1.00 1000.0         0.555002      0.065529         0.007364        0.008015   \n",
       "     10000.0        1.990991      0.134809         0.019609        0.005100   \n",
       "0.10 10.0           0.132617      0.021615         0.003541        0.000885   \n",
       "\n",
       "               mean_test_score  std_test_score  rank_test_score  \\\n",
       "C    max_iter                                                     \n",
       "0.01 10.0             0.967969        0.001971                1   \n",
       "     100.0            0.967969        0.002037                1   \n",
       "     1000.0           0.967969        0.002037                1   \n",
       "     10000.0          0.967969        0.002037                1   \n",
       "0.10 10000.0          0.967140        0.003284                5   \n",
       "     100.0            0.967140        0.003284                5   \n",
       "     1000.0           0.967140        0.003284                5   \n",
       "1.00 1000.0           0.963512        0.003381                8   \n",
       "     10000.0          0.963201        0.003422                9   \n",
       "0.10 10.0             0.962890        0.004085               10   \n",
       "\n",
       "               mean_train_score  std_train_score  \n",
       "C    max_iter                                     \n",
       "0.01 10.0              0.973532         0.000591  \n",
       "     100.0             0.973601         0.000655  \n",
       "     1000.0            0.973601         0.000655  \n",
       "     10000.0           0.973601         0.000655  \n",
       "0.10 10000.0           0.980685         0.000635  \n",
       "     100.0             0.980754         0.000726  \n",
       "     1000.0            0.980685         0.000635  \n",
       "1.00 1000.0            0.987492         0.001162  \n",
       "     10000.0           0.987561         0.001374  \n",
       "0.10 10.0              0.972911         0.004540  "
      ]
     },
     "execution_count": 18,
     "metadata": {},
     "output_type": "execute_result"
    }
   ],
   "source": [
    "lin_df.sort_values(by='rank_test_score').head(10)"
   ]
  },
  {
   "cell_type": "code",
   "execution_count": 32,
   "metadata": {},
   "outputs": [
    {
     "data": {
      "text/plain": [
       "Text(0.5,1,'MNIST - Linear SVM CV scores')"
      ]
     },
     "execution_count": 32,
     "metadata": {},
     "output_type": "execute_result"
    },
    {
     "data": {
      "image/png": "[encoded data removed]",
      "text/plain": [
       "<Figure size 432x288 with 2 Axes>"
      ]
     },
     "metadata": {},
     "output_type": "display_data"
    }
   ],
   "source": [
    "fig, ax = plt.subplots()\n",
    "# lin_df = lin_df.reset_index()\n",
    "lin_df.plot(ax=ax, kind='scatter', x='C', y='max_iter', c='mean_test_score', s=lin_df['std_test_score']*20000, cmap='autumn', logx=True, logy=True)\n",
    "ax.set_facecolor('grey')\n",
    "ax.set_title('MNIST - Linear SVM CV scores')"
   ]
  },
  {
   "cell_type": "code",
   "execution_count": 106,
   "metadata": {},
   "outputs": [
    {
     "data": {
      "text/plain": [
       "<matplotlib.axes._subplots.AxesSubplot at 0x7f5d8d1b2e10>"
      ]
     },
     "execution_count": 106,
     "metadata": {},
     "output_type": "execute_result"
    },
    {
     "data": {
      "image/png": "[encoded data removed]",
      "text/plain": [
       "<Figure size 864x288 with 4 Axes>"
      ]
     },
     "metadata": {},
     "output_type": "display_data"
    }
   ],
   "source": [
    "fig, (ax1, ax2) = plt.subplots(1,2, figsize=(12,4))\n",
    "\n",
    "ax1.set_title('Radial Basis Function')\n",
    "rbf.plot(kind='scatter', x='C', y='gamma', c='mean_test_score', s=rbf['std_test_score']*100000, cmap='winter', logx=True, logy=True, ax=ax1)\n",
    "\n",
    "ax2.set_title('Polynomial Function')\n",
    "poly.plot(kind='scatter', x='C', y='gamma', c='mean_test_score', s=poly['std_test_score']*100000, cmap='winter', logx=True, logy=True, ax=ax2)\n",
    "\n",
    "\n",
    "# Gamma has no effect for linear kernel\n",
    "# ax3.set_title('Linear Function')\n",
    "# lin.plot(kind='scatter', x='C', y='gamma', c='mean_test_score', s=lin['std_test_score']*100000, cmap='winter', logx=True, logy=True, ax=ax3)"
   ]
  },
  {
   "cell_type": "code",
   "execution_count": 113,
   "metadata": {},
   "outputs": [],
   "source": [
    "# Helper function needed for std==0.0\n",
    "def std_to_size(std):\n",
    "    if std > 0:\n",
    "        return std * 100\n",
    "    else:\n",
    "        return 10"
   ]
  },
  {
   "cell_type": "code",
   "execution_count": 107,
   "metadata": {},
   "outputs": [
    {
     "data": {
      "text/plain": [
       "<matplotlib.axes._subplots.AxesSubplot at 0x7f5d8cdb4c50>"
      ]
     },
     "execution_count": 107,
     "metadata": {},
     "output_type": "execute_result"
    },
    {
     "data": {
      "image/png": "[encoded data removed]",
      "text/plain": [
       "<Figure size 864x288 with 4 Axes>"
      ]
     },
     "metadata": {},
     "output_type": "display_data"
    }
   ],
   "source": [
    "fig, (ax1, ax2) = plt.subplots(1,2, figsize=(12,4))\n",
    "\n",
    "ax1.set_title('Radial Basis Function')\n",
    "rbf.plot(kind='scatter', x='C', y='gamma', c='mean_train_score', s=rbf['std_train_score'].apply(std_to_size), cmap='winter', logx=True, logy=True, ax=ax1)\n",
    "\n",
    "ax2.set_title('Polynomial Function')\n",
    "poly.plot(kind='scatter', x='C', y='gamma', c='mean_train_score', s=poly['std_train_score'].apply(std_to_size), cmap='winter', logx=True, logy=True, ax=ax2)\n",
    "\n",
    "# ax3.set_title('Linear Function')\n",
    "# lin.plot(kind='scatter', x='C', y='gamma', c='mean_train_score', s=lin['std_train_score'].apply(std_to_size), cmap='winter', logx=True, logy=True, ax=ax3)"
   ]
  },
  {
   "cell_type": "markdown",
   "metadata": {},
   "source": [
    "## SVM Learning Curve Analysis"
   ]
  },
  {
   "cell_type": "code",
   "execution_count": 29,
   "metadata": {},
   "outputs": [
    {
     "data": {
      "text/plain": [
       "{'C': 100.0,\n",
       " 'cache_size': 200,\n",
       " 'class_weight': None,\n",
       " 'coef0': 0.0,\n",
       " 'decision_function_shape': 'ovr',\n",
       " 'degree': 3,\n",
       " 'gamma': 0.01,\n",
       " 'kernel': 'rbf',\n",
       " 'max_iter': 10000.0,\n",
       " 'probability': False,\n",
       " 'random_state': 1,\n",
       " 'shrinking': True,\n",
       " 'tol': 0.001,\n",
       " 'verbose': False}"
      ]
     },
     "execution_count": 29,
     "metadata": {},
     "output_type": "execute_result"
    }
   ],
   "source": [
    "# Find best estimator\n",
    "best_clf = rbf_grid_search.best_estimator_\n",
    "best_clf.get_params()"
   ]
  },
  {
   "cell_type": "code",
   "execution_count": 30,
   "metadata": {},
   "outputs": [
    {
     "data": {
      "image/png": "[encoded data removed]",
      "text/plain": [
       "<Figure size 432x288 with 1 Axes>"
      ]
     },
     "metadata": {
      "needs_background": "light"
     },
     "output_type": "display_data"
    }
   ],
   "source": [
    "train_sizes, train_mean, train_std, test_mean, test_std = gen_and_plot_learning_curve(best_clf, X_train_scaled, y_train, scoring='accuracy', ylabel='Accuracy', cv=4, n_jobs=-1, title='MNIST - SVM (RBF) learning curves')"
   ]
  },
  {
   "cell_type": "code",
   "execution_count": 33,
   "metadata": {},
   "outputs": [],
   "source": [
    "save_learning_curve(dataset, learner_type, train_sizes, train_mean, train_std, test_mean, test_std, extras='rbf')"
   ]
  },
  {
   "cell_type": "markdown",
   "metadata": {},
   "source": [
    "# Test Set Performance"
   ]
  },
  {
   "cell_type": "code",
   "execution_count": 31,
   "metadata": {},
   "outputs": [],
   "source": [
    "best_clf.fit(X_train_scaled, y_train)\n",
    "y_test_pred = best_clf.predict(X_test_scaled)\n",
    "test_score = accuracy_score(y_test, y_test_pred)"
   ]
  },
  {
   "cell_type": "code",
   "execution_count": 32,
   "metadata": {},
   "outputs": [
    {
     "name": "stdout",
     "output_type": "stream",
     "text": [
      "0.9911\n"
     ]
    }
   ],
   "source": [
    "print('%.4f' % test_score)"
   ]
  },
  {
   "cell_type": "markdown",
   "metadata": {},
   "source": [
    "### Timing statistics"
   ]
  },
  {
   "cell_type": "code",
   "execution_count": null,
   "metadata": {},
   "outputs": [],
   "source": [
    "scipy.stats.describe(res['mean_fit_time'])"
   ]
  },
  {
   "cell_type": "code",
   "execution_count": null,
   "metadata": {},
   "outputs": [],
   "source": [
    "scipy.stats.describe(res['mean_score_time'])"
   ]
  },
  {
   "cell_type": "code",
   "execution_count": null,
   "metadata": {},
   "outputs": [],
   "source": [
    "fig, ax = plt.subplots(figsize=(10,6))\n",
    "\n",
    "train_colors = ['blue', 'darkgreen', 'purple', 'navy', 'maroon']\n",
    "test_colors = ['green', 'gold', 'coral', 'teal', 'magenta']\n",
    "\n",
    "for ix, d in enumerate(param_grid['base_estimator__max_depth']):\n",
    "    ax.plot(param_grid['n_estimators'], mean_fit[d],  label='max_depth %i' % d,\n",
    "            marker='o', color=train_colors[ix], linestyle='-',\n",
    "            markersize=5)\n",
    "    ax.fill_between(param_grid['n_estimators'],\n",
    "                  mean_fit[d] + std_fit[d],\n",
    "                  mean_fit[d] - std_fit[d],\n",
    "                  alpha=0.15, color=train_colors[ix])\n",
    "plt.grid()\n",
    "plt.legend(loc='lower right')\n",
    "ax.set_ylabel('Fit time (sec)')\n",
    "plt.xlabel('Number of weak learners')\n",
    "plt.show()"
   ]
  },
  {
   "cell_type": "code",
   "execution_count": 114,
   "metadata": {},
   "outputs": [
    {
     "data": {
      "text/plain": [
       "<matplotlib.axes._subplots.AxesSubplot at 0x7f5d8c4b85c0>"
      ]
     },
     "execution_count": 114,
     "metadata": {},
     "output_type": "execute_result"
    },
    {
     "data": {
      "image/png": "[encoded data removed]",
      "text/plain": [
       "<Figure size 864x288 with 4 Axes>"
      ]
     },
     "metadata": {},
     "output_type": "display_data"
    }
   ],
   "source": [
    "fig, (ax1, ax2) = plt.subplots(1,2, figsize=(12,4))\n",
    "\n",
    "ax1.set_title('Radial Basis Function')\n",
    "rbf.plot(kind='scatter', x='C', y='gamma', c='mean_fit_time', s=rbf['std_fit_time'].apply(std_to_size), cmap='winter', logx=True, logy=True, ax=ax1)\n",
    "\n",
    "ax2.set_title('Polynomial Function')\n",
    "poly.plot(kind='scatter', x='C', y='gamma', c='mean_fit_time', s=poly['std_fit_time'].apply(std_to_size), cmap='winter', logx=True, logy=True, ax=ax2)"
   ]
  },
  {
   "cell_type": "code",
   "execution_count": null,
   "metadata": {},
   "outputs": [],
   "source": []
  }
 ],
 "metadata": {
  "kernelspec": {
   "display_name": "Python 3",
   "language": "python",
   "name": "python3"
  },
  "language_info": {
   "codemirror_mode": {
    "name": "ipython",
    "version": 3
   },
   "file_extension": ".py",
   "mimetype": "text/x-python",
   "name": "python",
   "nbconvert_exporter": "python",
   "pygments_lexer": "ipython3",
   "version": "3.6.3"
  }
 },
 "nbformat": 4,
 "nbformat_minor": 2
}
