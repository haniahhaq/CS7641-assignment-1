{
 "cells": [
  {
   "cell_type": "code",
   "execution_count": 1,
   "metadata": {},
   "outputs": [],
   "source": [
    "%load_ext autoreload\n",
    "%autoreload 1\n",
    "%aimport helpers, loaders, plotters"
   ]
  },
  {
   "cell_type": "code",
   "execution_count": 2,
   "metadata": {},
   "outputs": [
    {
     "name": "stdout",
     "output_type": "stream",
     "text": [
      "env: JOBLIB_TEMP_FOLDER=/tmp\n"
     ]
    }
   ],
   "source": [
    "# This helps with joblib \"No space left on device\" errors\n",
    "%env JOBLIB_TEMP_FOLDER=/tmp"
   ]
  },
  {
   "cell_type": "code",
   "execution_count": 3,
   "metadata": {},
   "outputs": [],
   "source": [
    "from pprint import pprint\n",
    "from math import ceil, floor\n",
    "from itertools import product\n",
    "\n",
    "import matplotlib.pyplot as plt\n",
    "import numpy as np\n",
    "import pandas as pd\n",
    "import scipy.stats\n",
    "from sklearn.metrics import accuracy_score\n",
    "from sklearn.model_selection import train_test_split, GridSearchCV, RandomizedSearchCV\n",
    "from sklearn.preprocessing import MinMaxScaler, StandardScaler\n",
    "\n",
    "from helpers import balanced_accuracy_scorer, balanced_accuracy, load_best_search, load_best_learning, save_learning_curve, save_search_result, scikit_cv_result_to_df\n",
    "from loaders import load_adult, load_mnist\n",
    "from plotters import plot_means_w_stds, gen_and_plot_learning_curve, plot_learning_curve, gen_and_plot_validation_curve, plot_validation_curve"
   ]
  },
  {
   "cell_type": "markdown",
   "metadata": {},
   "source": [
    "### Load Data"
   ]
  },
  {
   "cell_type": "code",
   "execution_count": 4,
   "metadata": {},
   "outputs": [],
   "source": [
    "dataset = 'adult'\n",
    "learner_type = 'ANN'\n",
    "loader_func = load_adult"
   ]
  },
  {
   "cell_type": "code",
   "execution_count": 5,
   "metadata": {
    "scrolled": true
   },
   "outputs": [
    {
     "name": "stdout",
     "output_type": "stream",
     "text": [
      "Dataset shape (30162, 105)\n",
      "Value composition:\n",
      "0    0.751078\n",
      "1    0.248922\n",
      "Name: target, dtype: float64\n"
     ]
    }
   ],
   "source": [
    "df = loader_func(preprocess=True)"
   ]
  },
  {
   "cell_type": "markdown",
   "metadata": {},
   "source": [
    "### Split data into training and testing"
   ]
  },
  {
   "cell_type": "code",
   "execution_count": 6,
   "metadata": {},
   "outputs": [],
   "source": [
    "from sklearn.model_selection import train_test_split\n",
    "\n",
    "X = df[[c for c in df.columns if c != 'target']]\n",
    "y = df['target']\n",
    "X_train, X_test, y_train, y_test = train_test_split(X, y, test_size=0.3, stratify=y, random_state=1)"
   ]
  },
  {
   "cell_type": "markdown",
   "metadata": {},
   "source": [
    "### Scale Data"
   ]
  },
  {
   "cell_type": "code",
   "execution_count": 7,
   "metadata": {},
   "outputs": [],
   "source": [
    "# Use min max scaling because input dataset is sparse, i.e. mostly zeros\n",
    "scaler = MinMaxScaler()\n",
    "\n",
    "X_train_scaled = scaler.fit_transform(X_train)\n",
    "X_test_scaled = scaler.transform(X_test)"
   ]
  },
  {
   "cell_type": "markdown",
   "metadata": {},
   "source": [
    "## Neural Nets"
   ]
  },
  {
   "cell_type": "code",
   "execution_count": 8,
   "metadata": {},
   "outputs": [
    {
     "name": "stderr",
     "output_type": "stream",
     "text": [
      "Using TensorFlow backend.\n"
     ]
    }
   ],
   "source": [
    "# Build a KerasClassifier for use with scikit-learn\n",
    "from keras.layers import Dense\n",
    "from keras.models import Sequential\n",
    "from keras.optimizers import SGD\n",
    "from keras.wrappers.scikit_learn import KerasClassifier\n",
    "\n",
    "\n",
    "n_features = X_train.shape[1]\n",
    "\n",
    "\n",
    "def build_keras_clf(hidden_layer_sizes=(10,10), learning_rate_init=0.01, momentum=0.8):\n",
    "    \"\"\"This function builds a Keras model for use with scikit's GridSearch\"\"\"\n",
    "    if not isinstance(hidden_layer_sizes, tuple):\n",
    "        hidden_layer_sizes = (hidden_layer_sizes,)\n",
    "    \n",
    "    model = Sequential()\n",
    "    \n",
    "    model.add(Dense(units=n_features, input_shape=(n_features,), activation='relu'))\n",
    "    \n",
    "    for layer_size in hidden_layer_sizes:\n",
    "        assert layer_size > 0\n",
    "        model.add(Dense(units=layer_size, activation='relu'))\n",
    "    \n",
    "    # Add output layer\n",
    "    model.add(Dense(units=1, activation='sigmoid'))\n",
    "        \n",
    "    sgd = SGD(lr=learning_rate_init, momentum=momentum, nesterov=True)\n",
    "    model.compile(loss='mean_squared_error', optimizer=sgd, metrics=[\"accuracy\"])\n",
    "    \n",
    "    return model\n",
    "\n",
    "clf = KerasClassifier(build_fn=build_keras_clf, verbose=0)"
   ]
  },
  {
   "cell_type": "markdown",
   "metadata": {},
   "source": [
    "### GridSearch for model complexity curves"
   ]
  },
  {
   "cell_type": "code",
   "execution_count": 9,
   "metadata": {},
   "outputs": [],
   "source": [
    "layer_sizes = [\n",
    "    (10,10),\n",
    "#     (50,50),\n",
    "    (100,100),\n",
    "]\n",
    "\n",
    "param_grid = {\n",
    "    'hidden_layer_sizes': layer_sizes,\n",
    "#     'learning_rate_init': [0.01, .1, .2],\n",
    "#     'momentum': [0.7, 0.8, 0.9],\n",
    "    'epochs': [1, 10, 100, 200]\n",
    "}"
   ]
  },
  {
   "cell_type": "code",
   "execution_count": 12,
   "metadata": {},
   "outputs": [],
   "source": [
    "grid_search = GridSearchCV(\n",
    "    estimator=clf,\n",
    "    param_grid=param_grid,\n",
    "    scoring=balanced_accuracy_scorer,\n",
    "    return_train_score=True,\n",
    "    cv=4,\n",
    "    verbose=10,\n",
    "    n_jobs=1,\n",
    ")"
   ]
  },
  {
   "cell_type": "code",
   "execution_count": 13,
   "metadata": {
    "scrolled": true
   },
   "outputs": [
    {
     "name": "stdout",
     "output_type": "stream",
     "text": [
      "Fitting 4 folds for each of 8 candidates, totalling 32 fits\n",
      "[CV] epochs=1, hidden_layer_sizes=(10, 10) ...........................\n",
      "[CV]  epochs=1, hidden_layer_sizes=(10, 10), score=0.5788861793818969, total=   1.0s\n",
      "[CV] epochs=1, hidden_layer_sizes=(10, 10) ...........................\n"
     ]
    },
    {
     "name": "stderr",
     "output_type": "stream",
     "text": [
      "[Parallel(n_jobs=1)]: Done   1 out of   1 | elapsed:    1.2s remaining:    0.0s\n"
     ]
    },
    {
     "name": "stdout",
     "output_type": "stream",
     "text": [
      "[CV]  epochs=1, hidden_layer_sizes=(10, 10), score=0.6820156673233193, total=   1.0s\n",
      "[CV] epochs=1, hidden_layer_sizes=(10, 10) ...........................\n"
     ]
    },
    {
     "name": "stderr",
     "output_type": "stream",
     "text": [
      "[Parallel(n_jobs=1)]: Done   2 out of   2 | elapsed:    2.4s remaining:    0.0s\n"
     ]
    },
    {
     "name": "stdout",
     "output_type": "stream",
     "text": [
      "[CV]  epochs=1, hidden_layer_sizes=(10, 10), score=0.718005119180931, total=   0.9s\n",
      "[CV] epochs=1, hidden_layer_sizes=(10, 10) ...........................\n"
     ]
    },
    {
     "name": "stderr",
     "output_type": "stream",
     "text": [
      "[Parallel(n_jobs=1)]: Done   3 out of   3 | elapsed:    3.5s remaining:    0.0s\n"
     ]
    },
    {
     "name": "stdout",
     "output_type": "stream",
     "text": [
      "[CV]  epochs=1, hidden_layer_sizes=(10, 10), score=0.6964642500356788, total=   0.9s\n",
      "[CV] epochs=1, hidden_layer_sizes=(100, 100) .........................\n"
     ]
    },
    {
     "name": "stderr",
     "output_type": "stream",
     "text": [
      "[Parallel(n_jobs=1)]: Done   4 out of   4 | elapsed:    4.6s remaining:    0.0s\n"
     ]
    },
    {
     "name": "stdout",
     "output_type": "stream",
     "text": [
      "[CV]  epochs=1, hidden_layer_sizes=(100, 100), score=0.7295731163742506, total=   1.1s\n",
      "[CV] epochs=1, hidden_layer_sizes=(100, 100) .........................\n"
     ]
    },
    {
     "name": "stderr",
     "output_type": "stream",
     "text": [
      "[Parallel(n_jobs=1)]: Done   5 out of   5 | elapsed:    6.0s remaining:    0.0s\n"
     ]
    },
    {
     "name": "stdout",
     "output_type": "stream",
     "text": [
      "[CV]  epochs=1, hidden_layer_sizes=(100, 100), score=0.6910792061684313, total=   1.1s\n",
      "[CV] epochs=1, hidden_layer_sizes=(100, 100) .........................\n"
     ]
    },
    {
     "name": "stderr",
     "output_type": "stream",
     "text": [
      "[Parallel(n_jobs=1)]: Done   6 out of   6 | elapsed:    7.3s remaining:    0.0s\n"
     ]
    },
    {
     "name": "stdout",
     "output_type": "stream",
     "text": [
      "[CV]  epochs=1, hidden_layer_sizes=(100, 100), score=0.6881845571375247, total=   1.0s\n",
      "[CV] epochs=1, hidden_layer_sizes=(100, 100) .........................\n"
     ]
    },
    {
     "name": "stderr",
     "output_type": "stream",
     "text": [
      "[Parallel(n_jobs=1)]: Done   7 out of   7 | elapsed:    8.6s remaining:    0.0s\n"
     ]
    },
    {
     "name": "stdout",
     "output_type": "stream",
     "text": [
      "[CV]  epochs=1, hidden_layer_sizes=(100, 100), score=0.696232339089482, total=   1.2s\n",
      "[CV] epochs=10, hidden_layer_sizes=(10, 10) ..........................\n"
     ]
    },
    {
     "name": "stderr",
     "output_type": "stream",
     "text": [
      "[Parallel(n_jobs=1)]: Done   8 out of   8 | elapsed:   10.1s remaining:    0.0s\n"
     ]
    },
    {
     "name": "stdout",
     "output_type": "stream",
     "text": [
      "[CV]  epochs=10, hidden_layer_sizes=(10, 10), score=0.7315441754579486, total=   6.0s\n",
      "[CV] epochs=10, hidden_layer_sizes=(10, 10) ..........................\n"
     ]
    },
    {
     "name": "stderr",
     "output_type": "stream",
     "text": [
      "[Parallel(n_jobs=1)]: Done   9 out of   9 | elapsed:   16.3s remaining:    0.0s\n"
     ]
    },
    {
     "name": "stdout",
     "output_type": "stream",
     "text": [
      "[CV]  epochs=10, hidden_layer_sizes=(10, 10), score=0.7735531196133958, total=   6.3s\n",
      "[CV] epochs=10, hidden_layer_sizes=(10, 10) ..........................\n",
      "[CV]  epochs=10, hidden_layer_sizes=(10, 10), score=0.7470364741641338, total=   7.3s\n",
      "[CV] epochs=10, hidden_layer_sizes=(10, 10) ..........................\n",
      "[CV]  epochs=10, hidden_layer_sizes=(10, 10), score=0.7138932496075354, total=   7.1s\n",
      "[CV] epochs=10, hidden_layer_sizes=(100, 100) ........................\n",
      "[CV]  epochs=10, hidden_layer_sizes=(100, 100), score=0.7751378170416551, total=   8.0s\n",
      "[CV] epochs=10, hidden_layer_sizes=(100, 100) ........................\n",
      "[CV]  epochs=10, hidden_layer_sizes=(100, 100), score=0.7647087001354347, total=  40.5s\n",
      "[CV] epochs=10, hidden_layer_sizes=(100, 100) ........................\n"
     ]
    },
    {
     "name": "stderr",
     "output_type": "stream",
     "text": [
      "/opt/conda/lib/python3.6/site-packages/keras/callbacks.py:120: UserWarning: Method on_batch_end() is slow compared to the batch update (1.782660). Check your callbacks.\n",
      "  % delta_t_median)\n",
      "/opt/conda/lib/python3.6/site-packages/keras/callbacks.py:120: UserWarning: Method on_batch_end() is slow compared to the batch update (1.755281). Check your callbacks.\n",
      "  % delta_t_median)\n",
      "/opt/conda/lib/python3.6/site-packages/keras/callbacks.py:120: UserWarning: Method on_batch_end() is slow compared to the batch update (1.720750). Check your callbacks.\n",
      "  % delta_t_median)\n"
     ]
    },
    {
     "name": "stdout",
     "output_type": "stream",
     "text": [
      "[CV]  epochs=10, hidden_layer_sizes=(100, 100), score=0.7536247533727938, total=17.5min\n",
      "[CV] epochs=10, hidden_layer_sizes=(100, 100) ........................\n",
      "[CV]  epochs=10, hidden_layer_sizes=(100, 100), score=0.7712822891394321, total=   8.6s\n",
      "[CV] epochs=100, hidden_layer_sizes=(10, 10) .........................\n",
      "[CV]  epochs=100, hidden_layer_sizes=(10, 10), score=0.7483017738017592, total= 1.1min\n",
      "[CV] epochs=100, hidden_layer_sizes=(10, 10) .........................\n",
      "[CV]  epochs=100, hidden_layer_sizes=(10, 10), score=0.7671101637527702, total= 1.0min\n",
      "[CV] epochs=100, hidden_layer_sizes=(10, 10) .........................\n",
      "[CV]  epochs=100, hidden_layer_sizes=(10, 10), score=0.7598890844131606, total=  58.8s\n",
      "[CV] epochs=100, hidden_layer_sizes=(10, 10) .........................\n",
      "[CV]  epochs=100, hidden_layer_sizes=(10, 10), score=0.7589374910803484, total= 1.0min\n",
      "[CV] epochs=100, hidden_layer_sizes=(100, 100) .......................\n",
      "[CV]  epochs=100, hidden_layer_sizes=(100, 100), score=0.7843673854262762, total= 1.2min\n",
      "[CV] epochs=100, hidden_layer_sizes=(100, 100) .......................\n",
      "[CV]  epochs=100, hidden_layer_sizes=(100, 100), score=0.746585277640975, total= 1.2min\n",
      "[CV] epochs=100, hidden_layer_sizes=(100, 100) .......................\n",
      "[CV]  epochs=100, hidden_layer_sizes=(100, 100), score=0.7939303044846158, total= 1.4min\n",
      "[CV] epochs=100, hidden_layer_sizes=(100, 100) .......................\n",
      "[CV]  epochs=100, hidden_layer_sizes=(100, 100), score=0.7949372056514914, total= 1.2min\n",
      "[CV] epochs=200, hidden_layer_sizes=(10, 10) .........................\n",
      "[CV]  epochs=200, hidden_layer_sizes=(10, 10), score=0.7343135759296855, total= 2.5min\n",
      "[CV] epochs=200, hidden_layer_sizes=(10, 10) .........................\n",
      "[CV]  epochs=200, hidden_layer_sizes=(10, 10), score=0.7368807328859885, total= 2.3min\n",
      "[CV] epochs=200, hidden_layer_sizes=(10, 10) .........................\n",
      "[CV]  epochs=200, hidden_layer_sizes=(10, 10), score=0.7801391777315632, total= 2.4min\n",
      "[CV] epochs=200, hidden_layer_sizes=(10, 10) .........................\n",
      "[CV]  epochs=200, hidden_layer_sizes=(10, 10), score=0.745611531325817, total= 2.5min\n",
      "[CV] epochs=200, hidden_layer_sizes=(100, 100) .......................\n",
      "[CV]  epochs=200, hidden_layer_sizes=(100, 100), score=0.7587689795349783, total= 2.7min\n",
      "[CV] epochs=200, hidden_layer_sizes=(100, 100) .......................\n",
      "[CV]  epochs=200, hidden_layer_sizes=(100, 100), score=0.7824962293770006, total= 2.8min\n",
      "[CV] epochs=200, hidden_layer_sizes=(100, 100) .......................\n",
      "[CV]  epochs=200, hidden_layer_sizes=(100, 100), score=0.7610982242841147, total= 2.7min\n",
      "[CV] epochs=200, hidden_layer_sizes=(100, 100) .......................\n",
      "[CV]  epochs=200, hidden_layer_sizes=(100, 100), score=0.775456686170972, total= 2.8min\n"
     ]
    },
    {
     "name": "stderr",
     "output_type": "stream",
     "text": [
      "[Parallel(n_jobs=1)]: Done  32 out of  32 | elapsed: 49.1min finished\n"
     ]
    },
    {
     "data": {
      "text/plain": [
       "GridSearchCV(cv=4, error_score='raise',\n",
       "       estimator=<keras.wrappers.scikit_learn.KerasClassifier object at 0x7f92aa23a908>,\n",
       "       fit_params=None, iid=True, n_jobs=1,\n",
       "       param_grid={'hidden_layer_sizes': [(10, 10), (100, 100)], 'epochs': [1, 10, 100, 200]},\n",
       "       pre_dispatch='2*n_jobs', refit=True, return_train_score=True,\n",
       "       scoring=make_scorer(balanced_accuracy), verbose=10)"
      ]
     },
     "execution_count": 13,
     "metadata": {},
     "output_type": "execute_result"
    }
   ],
   "source": [
    "grid_search.fit(X_train_scaled, y_train)"
   ]
  },
  {
   "cell_type": "code",
   "execution_count": 14,
   "metadata": {
    "scrolled": false
   },
   "outputs": [],
   "source": [
    "save_search_result(grid_search, dataset, learner_type)"
   ]
  },
  {
   "cell_type": "markdown",
   "metadata": {},
   "source": [
    "### Model Complexity Analysis"
   ]
  },
  {
   "cell_type": "code",
   "execution_count": 10,
   "metadata": {},
   "outputs": [
    {
     "name": "stdout",
     "output_type": "stream",
     "text": [
      "Found the following results files for this dataset/algorithm: ['search_adult_ANN_0.780_2018-09-23_11-53-04-00_.pkl']\n",
      "Returning results for the highest-scoring-file: search_adult_ANN_0.780_2018-09-23_11-53-04-00_.pkl\n"
     ]
    },
    {
     "data": {
      "text/html": [
       "<div>\n",
       "<style scoped>\n",
       "    .dataframe tbody tr th:only-of-type {\n",
       "        vertical-align: middle;\n",
       "    }\n",
       "\n",
       "    .dataframe tbody tr th {\n",
       "        vertical-align: top;\n",
       "    }\n",
       "\n",
       "    .dataframe thead th {\n",
       "        text-align: right;\n",
       "    }\n",
       "</style>\n",
       "<table border=\"1\" class=\"dataframe\">\n",
       "  <thead>\n",
       "    <tr style=\"text-align: right;\">\n",
       "      <th></th>\n",
       "      <th></th>\n",
       "      <th>mean_fit_time</th>\n",
       "      <th>std_fit_time</th>\n",
       "      <th>mean_score_time</th>\n",
       "      <th>std_score_time</th>\n",
       "      <th>mean_test_score</th>\n",
       "      <th>std_test_score</th>\n",
       "      <th>rank_test_score</th>\n",
       "      <th>mean_train_score</th>\n",
       "      <th>std_train_score</th>\n",
       "    </tr>\n",
       "    <tr>\n",
       "      <th>epochs</th>\n",
       "      <th>hidden_layer_sizes</th>\n",
       "      <th></th>\n",
       "      <th></th>\n",
       "      <th></th>\n",
       "      <th></th>\n",
       "      <th></th>\n",
       "      <th></th>\n",
       "      <th></th>\n",
       "      <th></th>\n",
       "      <th></th>\n",
       "    </tr>\n",
       "  </thead>\n",
       "  <tbody>\n",
       "    <tr>\n",
       "      <th>100</th>\n",
       "      <th>(100, 100)</th>\n",
       "      <td>74.980723</td>\n",
       "      <td>5.018189</td>\n",
       "      <td>0.287097</td>\n",
       "      <td>0.012063</td>\n",
       "      <td>0.779955</td>\n",
       "      <td>0.019702</td>\n",
       "      <td>1</td>\n",
       "      <td>0.840375</td>\n",
       "      <td>0.017100</td>\n",
       "    </tr>\n",
       "    <tr>\n",
       "      <th>200</th>\n",
       "      <th>(100, 100)</th>\n",
       "      <td>165.744577</td>\n",
       "      <td>2.918580</td>\n",
       "      <td>0.359957</td>\n",
       "      <td>0.003494</td>\n",
       "      <td>0.769455</td>\n",
       "      <td>0.009876</td>\n",
       "      <td>2</td>\n",
       "      <td>0.862676</td>\n",
       "      <td>0.010311</td>\n",
       "    </tr>\n",
       "    <tr>\n",
       "      <th>10</th>\n",
       "      <th>(100, 100)</th>\n",
       "      <td>277.208397</td>\n",
       "      <td>447.861804</td>\n",
       "      <td>0.288694</td>\n",
       "      <td>0.055926</td>\n",
       "      <td>0.766189</td>\n",
       "      <td>0.008156</td>\n",
       "      <td>3</td>\n",
       "      <td>0.771785</td>\n",
       "      <td>0.010613</td>\n",
       "    </tr>\n",
       "    <tr>\n",
       "      <th>100</th>\n",
       "      <th>(10, 10)</th>\n",
       "      <td>62.178848</td>\n",
       "      <td>2.588051</td>\n",
       "      <td>0.243694</td>\n",
       "      <td>0.006699</td>\n",
       "      <td>0.758559</td>\n",
       "      <td>0.006713</td>\n",
       "      <td>4</td>\n",
       "      <td>0.815568</td>\n",
       "      <td>0.010003</td>\n",
       "    </tr>\n",
       "    <tr>\n",
       "      <th>200</th>\n",
       "      <th>(10, 10)</th>\n",
       "      <td>144.417670</td>\n",
       "      <td>3.435120</td>\n",
       "      <td>0.309279</td>\n",
       "      <td>0.010197</td>\n",
       "      <td>0.749236</td>\n",
       "      <td>0.018327</td>\n",
       "      <td>5</td>\n",
       "      <td>0.836488</td>\n",
       "      <td>0.019741</td>\n",
       "    </tr>\n",
       "    <tr>\n",
       "      <th>10</th>\n",
       "      <th>(10, 10)</th>\n",
       "      <td>6.492168</td>\n",
       "      <td>0.520232</td>\n",
       "      <td>0.161801</td>\n",
       "      <td>0.016384</td>\n",
       "      <td>0.741506</td>\n",
       "      <td>0.021905</td>\n",
       "      <td>6</td>\n",
       "      <td>0.745846</td>\n",
       "      <td>0.024902</td>\n",
       "    </tr>\n",
       "    <tr>\n",
       "      <th rowspan=\"2\" valign=\"top\">1</th>\n",
       "      <th>(100, 100)</th>\n",
       "      <td>0.986765</td>\n",
       "      <td>0.066950</td>\n",
       "      <td>0.129558</td>\n",
       "      <td>0.010902</td>\n",
       "      <td>0.701269</td>\n",
       "      <td>0.016595</td>\n",
       "      <td>7</td>\n",
       "      <td>0.698600</td>\n",
       "      <td>0.012981</td>\n",
       "    </tr>\n",
       "    <tr>\n",
       "      <th>(10, 10)</th>\n",
       "      <td>0.855574</td>\n",
       "      <td>0.059733</td>\n",
       "      <td>0.087484</td>\n",
       "      <td>0.003001</td>\n",
       "      <td>0.668839</td>\n",
       "      <td>0.053494</td>\n",
       "      <td>8</td>\n",
       "      <td>0.672469</td>\n",
       "      <td>0.057371</td>\n",
       "    </tr>\n",
       "  </tbody>\n",
       "</table>\n",
       "</div>"
      ],
      "text/plain": [
       "                           mean_fit_time  std_fit_time  mean_score_time  \\\n",
       "epochs hidden_layer_sizes                                                 \n",
       "100    (100, 100)              74.980723      5.018189         0.287097   \n",
       "200    (100, 100)             165.744577      2.918580         0.359957   \n",
       "10     (100, 100)             277.208397    447.861804         0.288694   \n",
       "100    (10, 10)                62.178848      2.588051         0.243694   \n",
       "200    (10, 10)               144.417670      3.435120         0.309279   \n",
       "10     (10, 10)                 6.492168      0.520232         0.161801   \n",
       "1      (100, 100)               0.986765      0.066950         0.129558   \n",
       "       (10, 10)                 0.855574      0.059733         0.087484   \n",
       "\n",
       "                           std_score_time  mean_test_score  std_test_score  \\\n",
       "epochs hidden_layer_sizes                                                    \n",
       "100    (100, 100)                0.012063         0.779955        0.019702   \n",
       "200    (100, 100)                0.003494         0.769455        0.009876   \n",
       "10     (100, 100)                0.055926         0.766189        0.008156   \n",
       "100    (10, 10)                  0.006699         0.758559        0.006713   \n",
       "200    (10, 10)                  0.010197         0.749236        0.018327   \n",
       "10     (10, 10)                  0.016384         0.741506        0.021905   \n",
       "1      (100, 100)                0.010902         0.701269        0.016595   \n",
       "       (10, 10)                  0.003001         0.668839        0.053494   \n",
       "\n",
       "                           rank_test_score  mean_train_score  std_train_score  \n",
       "epochs hidden_layer_sizes                                                      \n",
       "100    (100, 100)                        1          0.840375         0.017100  \n",
       "200    (100, 100)                        2          0.862676         0.010311  \n",
       "10     (100, 100)                        3          0.771785         0.010613  \n",
       "100    (10, 10)                          4          0.815568         0.010003  \n",
       "200    (10, 10)                          5          0.836488         0.019741  \n",
       "10     (10, 10)                          6          0.745846         0.024902  \n",
       "1      (100, 100)                        7          0.698600         0.012981  \n",
       "       (10, 10)                          8          0.672469         0.057371  "
      ]
     },
     "execution_count": 10,
     "metadata": {},
     "output_type": "execute_result"
    }
   ],
   "source": [
    "# res = grid_search.cv_results_\n",
    "res = load_best_search(dataset, learner_type)\n",
    "res_df = scikit_cv_result_to_df(res)\n",
    "res_df.sort_values(by='rank_test_score').head(10)"
   ]
  },
  {
   "cell_type": "code",
   "execution_count": 16,
   "metadata": {},
   "outputs": [],
   "source": [
    "small_network = res_df.xs((10,10), level='hidden_layer_sizes')\n",
    "large_network = res_df.xs((100,100), level='hidden_layer_sizes')"
   ]
  },
  {
   "cell_type": "code",
   "execution_count": 29,
   "metadata": {},
   "outputs": [
    {
     "data": {
      "image/png": "[encoded data removed]",
      "text/plain": [
       "<Figure size 432x288 with 1 Axes>"
      ]
     },
     "metadata": {},
     "output_type": "display_data"
    }
   ],
   "source": [
    "# Plot combined validation curve\n",
    "plot_means_w_stds(\n",
    "    means=(small_network['mean_train_score'], large_network['mean_train_score'], small_network['mean_test_score'], large_network['mean_test_score']),\n",
    "    stds=(small_network['std_train_score'], large_network['std_train_score'], small_network['std_test_score'], large_network['std_test_score']),\n",
    "    xrange=param_grid['epochs'],\n",
    "    xlabel='Epochs',\n",
    "    ylabel='Balanced accuracy',\n",
    "    series_labels=('Train: small network', 'Train: large network', 'CV: small network', 'CV: large network'),\n",
    "    title='Adult - ANN validation curves',\n",
    "    legend_kwargs={'loc': 'best'}\n",
    ")"
   ]
  },
  {
   "cell_type": "markdown",
   "metadata": {},
   "source": [
    "### Timing analysis"
   ]
  },
  {
   "cell_type": "code",
   "execution_count": 19,
   "metadata": {},
   "outputs": [
    {
     "data": {
      "image/png": "[encoded data removed]",
      "text/plain": [
       "<Figure size 432x288 with 1 Axes>"
      ]
     },
     "metadata": {},
     "output_type": "display_data"
    }
   ],
   "source": [
    "means = [small_network['mean_fit_time'], large_network['mean_fit_time']]\n",
    "stds = [small_network['std_fit_time'], large_network['std_fit_time']]\n",
    "labels = ['Small network', 'Large network']\n",
    "\n",
    "# Calculate per-sample mean\n",
    "n_samples = X_train_scaled.shape[0] * 3/4 # three-quarters of dataset was fit for 4-fold validation\n",
    "# convert to milliseconds\n",
    "means_per_samp = [mean / n_samples * 1000 for mean in means]\n",
    "stds_per_samp = [std / n_samples * 1000 for std in stds]\n",
    "\n",
    "plot_means_w_stds(\n",
    "    means_per_samp,\n",
    "    stds_per_samp,\n",
    "    param_grid['epochs'],\n",
    "    series_labels=labels,\n",
    "    title='Adult - ANN train time complexity',\n",
    "    legend_kwargs={'loc': 'best'},\n",
    "    ylabel='Fit time per sample (ms)',\n",
    "    xlabel='Epochs',\n",
    "    linestyles=['-']*2,\n",
    "    ylim=[-5, 21]\n",
    "#     fig_kwargs={'figsize': (10,6)},\n",
    ")"
   ]
  },
  {
   "cell_type": "markdown",
   "metadata": {},
   "source": [
    "## Learning Curves for best learner"
   ]
  },
  {
   "cell_type": "markdown",
   "metadata": {},
   "source": [
    "### What is the best learner?"
   ]
  },
  {
   "cell_type": "code",
   "execution_count": 11,
   "metadata": {},
   "outputs": [
    {
     "data": {
      "text/plain": [
       "{'verbose': 0,\n",
       " 'epochs': 100,\n",
       " 'hidden_layer_sizes': (100, 100),\n",
       " 'build_fn': <function __main__.build_keras_clf(hidden_layer_sizes=(10, 10), learning_rate_init=0.01, momentum=0.8)>}"
      ]
     },
     "execution_count": 11,
     "metadata": {},
     "output_type": "execute_result"
    }
   ],
   "source": [
    "best_params = res['params'][np.argmax(res['mean_test_score'])]\n",
    "clf = KerasClassifier(build_fn=build_keras_clf, verbose=0, **best_params)\n",
    "clf.get_params()"
   ]
  },
  {
   "cell_type": "code",
   "execution_count": 12,
   "metadata": {},
   "outputs": [
    {
     "name": "stdout",
     "output_type": "stream",
     "text": [
      "[learning_curve] Training set sizes: [ 1583  3166  4750  6333  7917  9500 11083 12667 14250 15834]\n"
     ]
    },
    {
     "name": "stderr",
     "output_type": "stream",
     "text": [
      "[Parallel(n_jobs=1)]: Done  40 out of  40 | elapsed: 28.5min finished\n"
     ]
    },
    {
     "data": {
      "image/png": "[encoded data removed]",
      "text/plain": [
       "<Figure size 432x288 with 1 Axes>"
      ]
     },
     "metadata": {},
     "output_type": "display_data"
    }
   ],
   "source": [
    "train_sizes, train_mean, train_std, test_mean, test_std = gen_and_plot_learning_curve(clf, X_train_scaled, y_train, ylim=None, cv=4, scoring=balanced_accuracy_scorer, ylabel='Balanced accuracy', title='Adult - ANN learning curves', verbose=1)"
   ]
  },
  {
   "cell_type": "code",
   "execution_count": 28,
   "metadata": {},
   "outputs": [
    {
     "data": {
      "image/png": "[encoded data removed]",
      "text/plain": [
       "<Figure size 432x288 with 1 Axes>"
      ]
     },
     "metadata": {},
     "output_type": "display_data"
    }
   ],
   "source": [
    "plot_learning_curve(train_sizes, train_mean, train_std, test_mean, test_std, ylabel='Balanced accuracy', title='Adult - ANN learning curves')"
   ]
  },
  {
   "cell_type": "code",
   "execution_count": 24,
   "metadata": {},
   "outputs": [],
   "source": [
    "save_learning_curve(dataset, learner_type, train_sizes, train_mean, train_std, test_mean, test_std)"
   ]
  },
  {
   "cell_type": "markdown",
   "metadata": {},
   "source": [
    "# Test Set Performance"
   ]
  },
  {
   "cell_type": "code",
   "execution_count": 26,
   "metadata": {},
   "outputs": [],
   "source": [
    "best_clf = KerasClassifier(build_fn=build_keras_clf, verbose=0, **best_params)\n",
    "\n",
    "best_clf.fit(X_train_scaled, y_train)\n",
    "y_test_pred = best_clf.predict(X_test_scaled)\n",
    "test_score = balanced_accuracy(y_test, y_test_pred)"
   ]
  },
  {
   "cell_type": "code",
   "execution_count": 27,
   "metadata": {},
   "outputs": [
    {
     "name": "stdout",
     "output_type": "stream",
     "text": [
      "0.7706\n"
     ]
    }
   ],
   "source": [
    "print('%.4f' % test_score)"
   ]
  },
  {
   "cell_type": "code",
   "execution_count": null,
   "metadata": {},
   "outputs": [],
   "source": []
  }
 ],
 "metadata": {
  "kernelspec": {
   "display_name": "Python 3",
   "language": "python",
   "name": "python3"
  },
  "language_info": {
   "codemirror_mode": {
    "name": "ipython",
    "version": 3
   },
   "file_extension": ".py",
   "mimetype": "text/x-python",
   "name": "python",
   "nbconvert_exporter": "python",
   "pygments_lexer": "ipython3",
   "version": "3.6.3"
  }
 },
 "nbformat": 4,
 "nbformat_minor": 2
}
